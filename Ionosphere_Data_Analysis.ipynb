{
  "nbformat": 4,
  "nbformat_minor": 0,
  "metadata": {
    "colab": {
      "name": "Ionosphere_Data_Analysis.ipynb",
      "provenance": [],
      "collapsed_sections": []
    },
    "kernelspec": {
      "name": "python3",
      "display_name": "Python 3"
    }
  },
  "cells": [
    {
      "cell_type": "markdown",
      "metadata": {
        "id": "aaIQI2vrsGhf"
      },
      "source": [
        "# Ionosphere Dataset"
      ]
    },
    {
      "cell_type": "markdown",
      "metadata": {
        "id": "OYazWqCzsNUA"
      },
      "source": [
        "# 1: Introduction\r\n",
        "\r\n",
        "The Ionosphere Dataset requires the prediction of structure in the atmosphere given radar returns targeting free electrons in the ionosphere.\r\n",
        "\r\n",
        "It is a binary (2-class) classification problem. The number of observations for each class is not balanced. There are 351 observations with 34 input variables and 1 output variable. The variable names are as follows:\r\n",
        "\r\n",
        "1. 17 pairs of radar return data.\r\n",
        "2. …\r\n",
        "3. Class (g for good and b for bad)."
      ]
    },
    {
      "cell_type": "markdown",
      "metadata": {
        "id": "qSqWro3OsnHX"
      },
      "source": [
        "# 2: Data Pre processing"
      ]
    },
    {
      "cell_type": "markdown",
      "metadata": {
        "id": "34dNeMWsspOJ"
      },
      "source": [
        "## 2.1 Loading the required Libraries"
      ]
    },
    {
      "cell_type": "code",
      "metadata": {
        "id": "50ywi30u0L2F"
      },
      "source": [
        "import sys\r\n",
        "assert sys.version_info >= (3, 5)\r\n",
        "\r\n",
        "# Scikit-Learn ≥0.20 is required\r\n",
        "import sklearn\r\n",
        "assert sklearn.__version__ >= \"0.20\"\r\n",
        "\r\n",
        "# Common imports\r\n",
        "import numpy as np\r\n",
        "import os\r\n",
        "import pandas as pd\r\n",
        "\r\n",
        "# To plot pretty figures\r\n",
        "%matplotlib inline\r\n",
        "import matplotlib as mpl\r\n",
        "import matplotlib.pyplot as plt\r\n",
        "import seaborn as sns\r\n",
        "mpl.rc('axes', labelsize=14)\r\n",
        "mpl.rc('xtick', labelsize=12)\r\n",
        "mpl.rc('ytick', labelsize=12)\r\n",
        "\r\n",
        "#ML imports\r\n",
        "from sklearn.preprocessing import StandardScaler\r\n",
        "from sklearn.model_selection import train_test_split, KFold, cross_val_score, GridSearchCV\r\n",
        "from sklearn.linear_model import LogisticRegression\r\n",
        "from sklearn.tree import DecisionTreeClassifier\r\n",
        "from sklearn.neighbors import KNeighborsClassifier\r\n",
        "from sklearn.discriminant_analysis import LinearDiscriminantAnalysis\r\n",
        "from sklearn.naive_bayes import GaussianNB\r\n",
        "from sklearn.svm import SVC\r\n",
        "from sklearn.pipeline import Pipeline\r\n",
        "from sklearn.ensemble import AdaBoostClassifier, GradientBoostingClassifier, RandomForestClassifier, ExtraTreesClassifier\r\n",
        "from sklearn.metrics import classification_report, confusion_matrix, accuracy_score"
      ],
      "execution_count": 1,
      "outputs": []
    },
    {
      "cell_type": "markdown",
      "metadata": {
        "id": "crXXoCYHss8W"
      },
      "source": [
        "## 2.2 Get Data"
      ]
    },
    {
      "cell_type": "code",
      "metadata": {
        "colab": {
          "base_uri": "https://localhost:8080/",
          "height": 224
        },
        "id": "I016j9zU0Zdn",
        "outputId": "26c8d537-d42d-4d14-f7bf-33aebb3fc171"
      },
      "source": [
        "## Loading the dataset from github repo\r\n",
        "url = 'https://raw.githubusercontent.com/hargurjeet/MachineLearning/Ionosphere/ionosphere_data.csv'\r\n",
        "df = pd.read_csv(url)\r\n",
        "\r\n",
        "df.head()"
      ],
      "execution_count": 2,
      "outputs": [
        {
          "output_type": "execute_result",
          "data": {
            "text/html": [
              "<div>\n",
              "<style scoped>\n",
              "    .dataframe tbody tr th:only-of-type {\n",
              "        vertical-align: middle;\n",
              "    }\n",
              "\n",
              "    .dataframe tbody tr th {\n",
              "        vertical-align: top;\n",
              "    }\n",
              "\n",
              "    .dataframe thead th {\n",
              "        text-align: right;\n",
              "    }\n",
              "</style>\n",
              "<table border=\"1\" class=\"dataframe\">\n",
              "  <thead>\n",
              "    <tr style=\"text-align: right;\">\n",
              "      <th></th>\n",
              "      <th>column_a</th>\n",
              "      <th>column_b</th>\n",
              "      <th>column_c</th>\n",
              "      <th>column_d</th>\n",
              "      <th>column_e</th>\n",
              "      <th>column_f</th>\n",
              "      <th>column_g</th>\n",
              "      <th>column_h</th>\n",
              "      <th>column_i</th>\n",
              "      <th>column_j</th>\n",
              "      <th>column_k</th>\n",
              "      <th>column_l</th>\n",
              "      <th>column_m</th>\n",
              "      <th>column_n</th>\n",
              "      <th>column_o</th>\n",
              "      <th>column_p</th>\n",
              "      <th>column_q</th>\n",
              "      <th>column_r</th>\n",
              "      <th>column_s</th>\n",
              "      <th>column_t</th>\n",
              "      <th>column_u</th>\n",
              "      <th>column_v</th>\n",
              "      <th>column_w</th>\n",
              "      <th>column_x</th>\n",
              "      <th>column_y</th>\n",
              "      <th>column_z</th>\n",
              "      <th>column_aa</th>\n",
              "      <th>column_ab</th>\n",
              "      <th>column_ac</th>\n",
              "      <th>column_ad</th>\n",
              "      <th>column_ae</th>\n",
              "      <th>column_af</th>\n",
              "      <th>column_ag</th>\n",
              "      <th>column_ah</th>\n",
              "      <th>column_ai</th>\n",
              "    </tr>\n",
              "  </thead>\n",
              "  <tbody>\n",
              "    <tr>\n",
              "      <th>0</th>\n",
              "      <td>True</td>\n",
              "      <td>False</td>\n",
              "      <td>0.99539</td>\n",
              "      <td>-0.05889</td>\n",
              "      <td>0.85243</td>\n",
              "      <td>0.02306</td>\n",
              "      <td>0.83398</td>\n",
              "      <td>-0.37708</td>\n",
              "      <td>1.00000</td>\n",
              "      <td>0.03760</td>\n",
              "      <td>0.85243</td>\n",
              "      <td>-0.17755</td>\n",
              "      <td>0.59755</td>\n",
              "      <td>-0.44945</td>\n",
              "      <td>0.60536</td>\n",
              "      <td>-0.38223</td>\n",
              "      <td>0.84356</td>\n",
              "      <td>-0.38542</td>\n",
              "      <td>0.58212</td>\n",
              "      <td>-0.32192</td>\n",
              "      <td>0.56971</td>\n",
              "      <td>-0.29674</td>\n",
              "      <td>0.36946</td>\n",
              "      <td>-0.47357</td>\n",
              "      <td>0.56811</td>\n",
              "      <td>-0.51171</td>\n",
              "      <td>0.41078</td>\n",
              "      <td>-0.46168</td>\n",
              "      <td>0.21266</td>\n",
              "      <td>-0.34090</td>\n",
              "      <td>0.42267</td>\n",
              "      <td>-0.54487</td>\n",
              "      <td>0.18641</td>\n",
              "      <td>-0.45300</td>\n",
              "      <td>g</td>\n",
              "    </tr>\n",
              "    <tr>\n",
              "      <th>1</th>\n",
              "      <td>True</td>\n",
              "      <td>False</td>\n",
              "      <td>1.00000</td>\n",
              "      <td>-0.18829</td>\n",
              "      <td>0.93035</td>\n",
              "      <td>-0.36156</td>\n",
              "      <td>-0.10868</td>\n",
              "      <td>-0.93597</td>\n",
              "      <td>1.00000</td>\n",
              "      <td>-0.04549</td>\n",
              "      <td>0.50874</td>\n",
              "      <td>-0.67743</td>\n",
              "      <td>0.34432</td>\n",
              "      <td>-0.69707</td>\n",
              "      <td>-0.51685</td>\n",
              "      <td>-0.97515</td>\n",
              "      <td>0.05499</td>\n",
              "      <td>-0.62237</td>\n",
              "      <td>0.33109</td>\n",
              "      <td>-1.00000</td>\n",
              "      <td>-0.13151</td>\n",
              "      <td>-0.45300</td>\n",
              "      <td>-0.18056</td>\n",
              "      <td>-0.35734</td>\n",
              "      <td>-0.20332</td>\n",
              "      <td>-0.26569</td>\n",
              "      <td>-0.20468</td>\n",
              "      <td>-0.18401</td>\n",
              "      <td>-0.19040</td>\n",
              "      <td>-0.11593</td>\n",
              "      <td>-0.16626</td>\n",
              "      <td>-0.06288</td>\n",
              "      <td>-0.13738</td>\n",
              "      <td>-0.02447</td>\n",
              "      <td>b</td>\n",
              "    </tr>\n",
              "    <tr>\n",
              "      <th>2</th>\n",
              "      <td>True</td>\n",
              "      <td>False</td>\n",
              "      <td>1.00000</td>\n",
              "      <td>-0.03365</td>\n",
              "      <td>1.00000</td>\n",
              "      <td>0.00485</td>\n",
              "      <td>1.00000</td>\n",
              "      <td>-0.12062</td>\n",
              "      <td>0.88965</td>\n",
              "      <td>0.01198</td>\n",
              "      <td>0.73082</td>\n",
              "      <td>0.05346</td>\n",
              "      <td>0.85443</td>\n",
              "      <td>0.00827</td>\n",
              "      <td>0.54591</td>\n",
              "      <td>0.00299</td>\n",
              "      <td>0.83775</td>\n",
              "      <td>-0.13644</td>\n",
              "      <td>0.75535</td>\n",
              "      <td>-0.08540</td>\n",
              "      <td>0.70887</td>\n",
              "      <td>-0.27502</td>\n",
              "      <td>0.43385</td>\n",
              "      <td>-0.12062</td>\n",
              "      <td>0.57528</td>\n",
              "      <td>-0.40220</td>\n",
              "      <td>0.58984</td>\n",
              "      <td>-0.22145</td>\n",
              "      <td>0.43100</td>\n",
              "      <td>-0.17365</td>\n",
              "      <td>0.60436</td>\n",
              "      <td>-0.24180</td>\n",
              "      <td>0.56045</td>\n",
              "      <td>-0.38238</td>\n",
              "      <td>g</td>\n",
              "    </tr>\n",
              "    <tr>\n",
              "      <th>3</th>\n",
              "      <td>True</td>\n",
              "      <td>False</td>\n",
              "      <td>1.00000</td>\n",
              "      <td>-0.45161</td>\n",
              "      <td>1.00000</td>\n",
              "      <td>1.00000</td>\n",
              "      <td>0.71216</td>\n",
              "      <td>-1.00000</td>\n",
              "      <td>0.00000</td>\n",
              "      <td>0.00000</td>\n",
              "      <td>0.00000</td>\n",
              "      <td>0.00000</td>\n",
              "      <td>0.00000</td>\n",
              "      <td>0.00000</td>\n",
              "      <td>-1.00000</td>\n",
              "      <td>0.14516</td>\n",
              "      <td>0.54094</td>\n",
              "      <td>-0.39330</td>\n",
              "      <td>-1.00000</td>\n",
              "      <td>-0.54467</td>\n",
              "      <td>-0.69975</td>\n",
              "      <td>1.00000</td>\n",
              "      <td>0.00000</td>\n",
              "      <td>0.00000</td>\n",
              "      <td>1.00000</td>\n",
              "      <td>0.90695</td>\n",
              "      <td>0.51613</td>\n",
              "      <td>1.00000</td>\n",
              "      <td>1.00000</td>\n",
              "      <td>-0.20099</td>\n",
              "      <td>0.25682</td>\n",
              "      <td>1.00000</td>\n",
              "      <td>-0.32382</td>\n",
              "      <td>1.00000</td>\n",
              "      <td>b</td>\n",
              "    </tr>\n",
              "    <tr>\n",
              "      <th>4</th>\n",
              "      <td>True</td>\n",
              "      <td>False</td>\n",
              "      <td>1.00000</td>\n",
              "      <td>-0.02401</td>\n",
              "      <td>0.94140</td>\n",
              "      <td>0.06531</td>\n",
              "      <td>0.92106</td>\n",
              "      <td>-0.23255</td>\n",
              "      <td>0.77152</td>\n",
              "      <td>-0.16399</td>\n",
              "      <td>0.52798</td>\n",
              "      <td>-0.20275</td>\n",
              "      <td>0.56409</td>\n",
              "      <td>-0.00712</td>\n",
              "      <td>0.34395</td>\n",
              "      <td>-0.27457</td>\n",
              "      <td>0.52940</td>\n",
              "      <td>-0.21780</td>\n",
              "      <td>0.45107</td>\n",
              "      <td>-0.17813</td>\n",
              "      <td>0.05982</td>\n",
              "      <td>-0.35575</td>\n",
              "      <td>0.02309</td>\n",
              "      <td>-0.52879</td>\n",
              "      <td>0.03286</td>\n",
              "      <td>-0.65158</td>\n",
              "      <td>0.13290</td>\n",
              "      <td>-0.53206</td>\n",
              "      <td>0.02431</td>\n",
              "      <td>-0.62197</td>\n",
              "      <td>-0.05707</td>\n",
              "      <td>-0.59573</td>\n",
              "      <td>-0.04608</td>\n",
              "      <td>-0.65697</td>\n",
              "      <td>g</td>\n",
              "    </tr>\n",
              "  </tbody>\n",
              "</table>\n",
              "</div>"
            ],
            "text/plain": [
              "   column_a  column_b  column_c  ...  column_ag  column_ah  column_ai\n",
              "0      True     False   0.99539  ...    0.18641   -0.45300          g\n",
              "1      True     False   1.00000  ...   -0.13738   -0.02447          b\n",
              "2      True     False   1.00000  ...    0.56045   -0.38238          g\n",
              "3      True     False   1.00000  ...   -0.32382    1.00000          b\n",
              "4      True     False   1.00000  ...   -0.04608   -0.65697          g\n",
              "\n",
              "[5 rows x 35 columns]"
            ]
          },
          "metadata": {
            "tags": []
          },
          "execution_count": 2
        }
      ]
    },
    {
      "cell_type": "code",
      "metadata": {
        "colab": {
          "base_uri": "https://localhost:8080/"
        },
        "id": "6lCzAXls0fE1",
        "outputId": "bb0afcd1-07b8-4423-af1e-f048a6b369fc"
      },
      "source": [
        "df.info()"
      ],
      "execution_count": 3,
      "outputs": [
        {
          "output_type": "stream",
          "text": [
            "<class 'pandas.core.frame.DataFrame'>\n",
            "RangeIndex: 351 entries, 0 to 350\n",
            "Data columns (total 35 columns):\n",
            " #   Column     Non-Null Count  Dtype  \n",
            "---  ------     --------------  -----  \n",
            " 0   column_a   351 non-null    bool   \n",
            " 1   column_b   351 non-null    bool   \n",
            " 2   column_c   351 non-null    float64\n",
            " 3   column_d   351 non-null    float64\n",
            " 4   column_e   351 non-null    float64\n",
            " 5   column_f   351 non-null    float64\n",
            " 6   column_g   351 non-null    float64\n",
            " 7   column_h   351 non-null    float64\n",
            " 8   column_i   351 non-null    float64\n",
            " 9   column_j   351 non-null    float64\n",
            " 10  column_k   351 non-null    float64\n",
            " 11  column_l   351 non-null    float64\n",
            " 12  column_m   351 non-null    float64\n",
            " 13  column_n   351 non-null    float64\n",
            " 14  column_o   351 non-null    float64\n",
            " 15  column_p   351 non-null    float64\n",
            " 16  column_q   351 non-null    float64\n",
            " 17  column_r   351 non-null    float64\n",
            " 18  column_s   351 non-null    float64\n",
            " 19  column_t   351 non-null    float64\n",
            " 20  column_u   351 non-null    float64\n",
            " 21  column_v   351 non-null    float64\n",
            " 22  column_w   351 non-null    float64\n",
            " 23  column_x   351 non-null    float64\n",
            " 24  column_y   351 non-null    float64\n",
            " 25  column_z   351 non-null    float64\n",
            " 26  column_aa  351 non-null    float64\n",
            " 27  column_ab  351 non-null    float64\n",
            " 28  column_ac  351 non-null    float64\n",
            " 29  column_ad  351 non-null    float64\n",
            " 30  column_ae  351 non-null    float64\n",
            " 31  column_af  351 non-null    float64\n",
            " 32  column_ag  351 non-null    float64\n",
            " 33  column_ah  351 non-null    float64\n",
            " 34  column_ai  351 non-null    object \n",
            "dtypes: bool(2), float64(32), object(1)\n",
            "memory usage: 91.3+ KB\n"
          ],
          "name": "stdout"
        }
      ]
    },
    {
      "cell_type": "code",
      "metadata": {
        "colab": {
          "base_uri": "https://localhost:8080/",
          "height": 1000
        },
        "id": "-ESwuua_0sE2",
        "outputId": "182f03b2-2944-44b8-dd72-57aecf8cd35e"
      },
      "source": [
        "df.describe().T"
      ],
      "execution_count": 4,
      "outputs": [
        {
          "output_type": "execute_result",
          "data": {
            "text/html": [
              "<div>\n",
              "<style scoped>\n",
              "    .dataframe tbody tr th:only-of-type {\n",
              "        vertical-align: middle;\n",
              "    }\n",
              "\n",
              "    .dataframe tbody tr th {\n",
              "        vertical-align: top;\n",
              "    }\n",
              "\n",
              "    .dataframe thead th {\n",
              "        text-align: right;\n",
              "    }\n",
              "</style>\n",
              "<table border=\"1\" class=\"dataframe\">\n",
              "  <thead>\n",
              "    <tr style=\"text-align: right;\">\n",
              "      <th></th>\n",
              "      <th>count</th>\n",
              "      <th>mean</th>\n",
              "      <th>std</th>\n",
              "      <th>min</th>\n",
              "      <th>25%</th>\n",
              "      <th>50%</th>\n",
              "      <th>75%</th>\n",
              "      <th>max</th>\n",
              "    </tr>\n",
              "  </thead>\n",
              "  <tbody>\n",
              "    <tr>\n",
              "      <th>column_c</th>\n",
              "      <td>351.0</td>\n",
              "      <td>0.641342</td>\n",
              "      <td>0.497708</td>\n",
              "      <td>-1.0</td>\n",
              "      <td>0.472135</td>\n",
              "      <td>0.87111</td>\n",
              "      <td>1.000000</td>\n",
              "      <td>1.0</td>\n",
              "    </tr>\n",
              "    <tr>\n",
              "      <th>column_d</th>\n",
              "      <td>351.0</td>\n",
              "      <td>0.044372</td>\n",
              "      <td>0.441435</td>\n",
              "      <td>-1.0</td>\n",
              "      <td>-0.064735</td>\n",
              "      <td>0.01631</td>\n",
              "      <td>0.194185</td>\n",
              "      <td>1.0</td>\n",
              "    </tr>\n",
              "    <tr>\n",
              "      <th>column_e</th>\n",
              "      <td>351.0</td>\n",
              "      <td>0.601068</td>\n",
              "      <td>0.519862</td>\n",
              "      <td>-1.0</td>\n",
              "      <td>0.412660</td>\n",
              "      <td>0.80920</td>\n",
              "      <td>1.000000</td>\n",
              "      <td>1.0</td>\n",
              "    </tr>\n",
              "    <tr>\n",
              "      <th>column_f</th>\n",
              "      <td>351.0</td>\n",
              "      <td>0.115889</td>\n",
              "      <td>0.460810</td>\n",
              "      <td>-1.0</td>\n",
              "      <td>-0.024795</td>\n",
              "      <td>0.02280</td>\n",
              "      <td>0.334655</td>\n",
              "      <td>1.0</td>\n",
              "    </tr>\n",
              "    <tr>\n",
              "      <th>column_g</th>\n",
              "      <td>351.0</td>\n",
              "      <td>0.550095</td>\n",
              "      <td>0.492654</td>\n",
              "      <td>-1.0</td>\n",
              "      <td>0.211310</td>\n",
              "      <td>0.72873</td>\n",
              "      <td>0.969240</td>\n",
              "      <td>1.0</td>\n",
              "    </tr>\n",
              "    <tr>\n",
              "      <th>column_h</th>\n",
              "      <td>351.0</td>\n",
              "      <td>0.119360</td>\n",
              "      <td>0.520750</td>\n",
              "      <td>-1.0</td>\n",
              "      <td>-0.054840</td>\n",
              "      <td>0.01471</td>\n",
              "      <td>0.445675</td>\n",
              "      <td>1.0</td>\n",
              "    </tr>\n",
              "    <tr>\n",
              "      <th>column_i</th>\n",
              "      <td>351.0</td>\n",
              "      <td>0.511848</td>\n",
              "      <td>0.507066</td>\n",
              "      <td>-1.0</td>\n",
              "      <td>0.087110</td>\n",
              "      <td>0.68421</td>\n",
              "      <td>0.953240</td>\n",
              "      <td>1.0</td>\n",
              "    </tr>\n",
              "    <tr>\n",
              "      <th>column_j</th>\n",
              "      <td>351.0</td>\n",
              "      <td>0.181345</td>\n",
              "      <td>0.483851</td>\n",
              "      <td>-1.0</td>\n",
              "      <td>-0.048075</td>\n",
              "      <td>0.01829</td>\n",
              "      <td>0.534195</td>\n",
              "      <td>1.0</td>\n",
              "    </tr>\n",
              "    <tr>\n",
              "      <th>column_k</th>\n",
              "      <td>351.0</td>\n",
              "      <td>0.476183</td>\n",
              "      <td>0.563496</td>\n",
              "      <td>-1.0</td>\n",
              "      <td>0.021120</td>\n",
              "      <td>0.66798</td>\n",
              "      <td>0.957895</td>\n",
              "      <td>1.0</td>\n",
              "    </tr>\n",
              "    <tr>\n",
              "      <th>column_l</th>\n",
              "      <td>351.0</td>\n",
              "      <td>0.155040</td>\n",
              "      <td>0.494817</td>\n",
              "      <td>-1.0</td>\n",
              "      <td>-0.065265</td>\n",
              "      <td>0.02825</td>\n",
              "      <td>0.482375</td>\n",
              "      <td>1.0</td>\n",
              "    </tr>\n",
              "    <tr>\n",
              "      <th>column_m</th>\n",
              "      <td>351.0</td>\n",
              "      <td>0.400801</td>\n",
              "      <td>0.622186</td>\n",
              "      <td>-1.0</td>\n",
              "      <td>0.000000</td>\n",
              "      <td>0.64407</td>\n",
              "      <td>0.955505</td>\n",
              "      <td>1.0</td>\n",
              "    </tr>\n",
              "    <tr>\n",
              "      <th>column_n</th>\n",
              "      <td>351.0</td>\n",
              "      <td>0.093414</td>\n",
              "      <td>0.494873</td>\n",
              "      <td>-1.0</td>\n",
              "      <td>-0.073725</td>\n",
              "      <td>0.03027</td>\n",
              "      <td>0.374860</td>\n",
              "      <td>1.0</td>\n",
              "    </tr>\n",
              "    <tr>\n",
              "      <th>column_o</th>\n",
              "      <td>351.0</td>\n",
              "      <td>0.344159</td>\n",
              "      <td>0.652828</td>\n",
              "      <td>-1.0</td>\n",
              "      <td>0.000000</td>\n",
              "      <td>0.60194</td>\n",
              "      <td>0.919330</td>\n",
              "      <td>1.0</td>\n",
              "    </tr>\n",
              "    <tr>\n",
              "      <th>column_p</th>\n",
              "      <td>351.0</td>\n",
              "      <td>0.071132</td>\n",
              "      <td>0.458371</td>\n",
              "      <td>-1.0</td>\n",
              "      <td>-0.081705</td>\n",
              "      <td>0.00000</td>\n",
              "      <td>0.308975</td>\n",
              "      <td>1.0</td>\n",
              "    </tr>\n",
              "    <tr>\n",
              "      <th>column_q</th>\n",
              "      <td>351.0</td>\n",
              "      <td>0.381949</td>\n",
              "      <td>0.618020</td>\n",
              "      <td>-1.0</td>\n",
              "      <td>0.000000</td>\n",
              "      <td>0.59091</td>\n",
              "      <td>0.935705</td>\n",
              "      <td>1.0</td>\n",
              "    </tr>\n",
              "    <tr>\n",
              "      <th>column_r</th>\n",
              "      <td>351.0</td>\n",
              "      <td>-0.003617</td>\n",
              "      <td>0.496762</td>\n",
              "      <td>-1.0</td>\n",
              "      <td>-0.225690</td>\n",
              "      <td>0.00000</td>\n",
              "      <td>0.195285</td>\n",
              "      <td>1.0</td>\n",
              "    </tr>\n",
              "    <tr>\n",
              "      <th>column_s</th>\n",
              "      <td>351.0</td>\n",
              "      <td>0.359390</td>\n",
              "      <td>0.626267</td>\n",
              "      <td>-1.0</td>\n",
              "      <td>0.000000</td>\n",
              "      <td>0.57619</td>\n",
              "      <td>0.899265</td>\n",
              "      <td>1.0</td>\n",
              "    </tr>\n",
              "    <tr>\n",
              "      <th>column_t</th>\n",
              "      <td>351.0</td>\n",
              "      <td>-0.024025</td>\n",
              "      <td>0.519076</td>\n",
              "      <td>-1.0</td>\n",
              "      <td>-0.234670</td>\n",
              "      <td>0.00000</td>\n",
              "      <td>0.134370</td>\n",
              "      <td>1.0</td>\n",
              "    </tr>\n",
              "    <tr>\n",
              "      <th>column_u</th>\n",
              "      <td>351.0</td>\n",
              "      <td>0.336695</td>\n",
              "      <td>0.609828</td>\n",
              "      <td>-1.0</td>\n",
              "      <td>0.000000</td>\n",
              "      <td>0.49909</td>\n",
              "      <td>0.894865</td>\n",
              "      <td>1.0</td>\n",
              "    </tr>\n",
              "    <tr>\n",
              "      <th>column_v</th>\n",
              "      <td>351.0</td>\n",
              "      <td>0.008296</td>\n",
              "      <td>0.518166</td>\n",
              "      <td>-1.0</td>\n",
              "      <td>-0.243870</td>\n",
              "      <td>0.00000</td>\n",
              "      <td>0.188760</td>\n",
              "      <td>1.0</td>\n",
              "    </tr>\n",
              "    <tr>\n",
              "      <th>column_w</th>\n",
              "      <td>351.0</td>\n",
              "      <td>0.362475</td>\n",
              "      <td>0.603767</td>\n",
              "      <td>-1.0</td>\n",
              "      <td>0.000000</td>\n",
              "      <td>0.53176</td>\n",
              "      <td>0.911235</td>\n",
              "      <td>1.0</td>\n",
              "    </tr>\n",
              "    <tr>\n",
              "      <th>column_x</th>\n",
              "      <td>351.0</td>\n",
              "      <td>-0.057406</td>\n",
              "      <td>0.527456</td>\n",
              "      <td>-1.0</td>\n",
              "      <td>-0.366885</td>\n",
              "      <td>0.00000</td>\n",
              "      <td>0.164630</td>\n",
              "      <td>1.0</td>\n",
              "    </tr>\n",
              "    <tr>\n",
              "      <th>column_y</th>\n",
              "      <td>351.0</td>\n",
              "      <td>0.396135</td>\n",
              "      <td>0.578451</td>\n",
              "      <td>-1.0</td>\n",
              "      <td>0.000000</td>\n",
              "      <td>0.55389</td>\n",
              "      <td>0.905240</td>\n",
              "      <td>1.0</td>\n",
              "    </tr>\n",
              "    <tr>\n",
              "      <th>column_z</th>\n",
              "      <td>351.0</td>\n",
              "      <td>-0.071187</td>\n",
              "      <td>0.508495</td>\n",
              "      <td>-1.0</td>\n",
              "      <td>-0.332390</td>\n",
              "      <td>-0.01505</td>\n",
              "      <td>0.156765</td>\n",
              "      <td>1.0</td>\n",
              "    </tr>\n",
              "    <tr>\n",
              "      <th>column_aa</th>\n",
              "      <td>351.0</td>\n",
              "      <td>0.541641</td>\n",
              "      <td>0.516205</td>\n",
              "      <td>-1.0</td>\n",
              "      <td>0.286435</td>\n",
              "      <td>0.70824</td>\n",
              "      <td>0.999945</td>\n",
              "      <td>1.0</td>\n",
              "    </tr>\n",
              "    <tr>\n",
              "      <th>column_ab</th>\n",
              "      <td>351.0</td>\n",
              "      <td>-0.069538</td>\n",
              "      <td>0.550025</td>\n",
              "      <td>-1.0</td>\n",
              "      <td>-0.443165</td>\n",
              "      <td>-0.01769</td>\n",
              "      <td>0.153535</td>\n",
              "      <td>1.0</td>\n",
              "    </tr>\n",
              "    <tr>\n",
              "      <th>column_ac</th>\n",
              "      <td>351.0</td>\n",
              "      <td>0.378445</td>\n",
              "      <td>0.575886</td>\n",
              "      <td>-1.0</td>\n",
              "      <td>0.000000</td>\n",
              "      <td>0.49664</td>\n",
              "      <td>0.883465</td>\n",
              "      <td>1.0</td>\n",
              "    </tr>\n",
              "    <tr>\n",
              "      <th>column_ad</th>\n",
              "      <td>351.0</td>\n",
              "      <td>-0.027907</td>\n",
              "      <td>0.507974</td>\n",
              "      <td>-1.0</td>\n",
              "      <td>-0.236885</td>\n",
              "      <td>0.00000</td>\n",
              "      <td>0.154075</td>\n",
              "      <td>1.0</td>\n",
              "    </tr>\n",
              "    <tr>\n",
              "      <th>column_ae</th>\n",
              "      <td>351.0</td>\n",
              "      <td>0.352514</td>\n",
              "      <td>0.571483</td>\n",
              "      <td>-1.0</td>\n",
              "      <td>0.000000</td>\n",
              "      <td>0.44277</td>\n",
              "      <td>0.857620</td>\n",
              "      <td>1.0</td>\n",
              "    </tr>\n",
              "    <tr>\n",
              "      <th>column_af</th>\n",
              "      <td>351.0</td>\n",
              "      <td>-0.003794</td>\n",
              "      <td>0.513574</td>\n",
              "      <td>-1.0</td>\n",
              "      <td>-0.242595</td>\n",
              "      <td>0.00000</td>\n",
              "      <td>0.200120</td>\n",
              "      <td>1.0</td>\n",
              "    </tr>\n",
              "    <tr>\n",
              "      <th>column_ag</th>\n",
              "      <td>351.0</td>\n",
              "      <td>0.349364</td>\n",
              "      <td>0.522663</td>\n",
              "      <td>-1.0</td>\n",
              "      <td>0.000000</td>\n",
              "      <td>0.40956</td>\n",
              "      <td>0.813765</td>\n",
              "      <td>1.0</td>\n",
              "    </tr>\n",
              "    <tr>\n",
              "      <th>column_ah</th>\n",
              "      <td>351.0</td>\n",
              "      <td>0.014480</td>\n",
              "      <td>0.468337</td>\n",
              "      <td>-1.0</td>\n",
              "      <td>-0.165350</td>\n",
              "      <td>0.00000</td>\n",
              "      <td>0.171660</td>\n",
              "      <td>1.0</td>\n",
              "    </tr>\n",
              "  </tbody>\n",
              "</table>\n",
              "</div>"
            ],
            "text/plain": [
              "           count      mean       std  min       25%      50%       75%  max\n",
              "column_c   351.0  0.641342  0.497708 -1.0  0.472135  0.87111  1.000000  1.0\n",
              "column_d   351.0  0.044372  0.441435 -1.0 -0.064735  0.01631  0.194185  1.0\n",
              "column_e   351.0  0.601068  0.519862 -1.0  0.412660  0.80920  1.000000  1.0\n",
              "column_f   351.0  0.115889  0.460810 -1.0 -0.024795  0.02280  0.334655  1.0\n",
              "column_g   351.0  0.550095  0.492654 -1.0  0.211310  0.72873  0.969240  1.0\n",
              "column_h   351.0  0.119360  0.520750 -1.0 -0.054840  0.01471  0.445675  1.0\n",
              "column_i   351.0  0.511848  0.507066 -1.0  0.087110  0.68421  0.953240  1.0\n",
              "column_j   351.0  0.181345  0.483851 -1.0 -0.048075  0.01829  0.534195  1.0\n",
              "column_k   351.0  0.476183  0.563496 -1.0  0.021120  0.66798  0.957895  1.0\n",
              "column_l   351.0  0.155040  0.494817 -1.0 -0.065265  0.02825  0.482375  1.0\n",
              "column_m   351.0  0.400801  0.622186 -1.0  0.000000  0.64407  0.955505  1.0\n",
              "column_n   351.0  0.093414  0.494873 -1.0 -0.073725  0.03027  0.374860  1.0\n",
              "column_o   351.0  0.344159  0.652828 -1.0  0.000000  0.60194  0.919330  1.0\n",
              "column_p   351.0  0.071132  0.458371 -1.0 -0.081705  0.00000  0.308975  1.0\n",
              "column_q   351.0  0.381949  0.618020 -1.0  0.000000  0.59091  0.935705  1.0\n",
              "column_r   351.0 -0.003617  0.496762 -1.0 -0.225690  0.00000  0.195285  1.0\n",
              "column_s   351.0  0.359390  0.626267 -1.0  0.000000  0.57619  0.899265  1.0\n",
              "column_t   351.0 -0.024025  0.519076 -1.0 -0.234670  0.00000  0.134370  1.0\n",
              "column_u   351.0  0.336695  0.609828 -1.0  0.000000  0.49909  0.894865  1.0\n",
              "column_v   351.0  0.008296  0.518166 -1.0 -0.243870  0.00000  0.188760  1.0\n",
              "column_w   351.0  0.362475  0.603767 -1.0  0.000000  0.53176  0.911235  1.0\n",
              "column_x   351.0 -0.057406  0.527456 -1.0 -0.366885  0.00000  0.164630  1.0\n",
              "column_y   351.0  0.396135  0.578451 -1.0  0.000000  0.55389  0.905240  1.0\n",
              "column_z   351.0 -0.071187  0.508495 -1.0 -0.332390 -0.01505  0.156765  1.0\n",
              "column_aa  351.0  0.541641  0.516205 -1.0  0.286435  0.70824  0.999945  1.0\n",
              "column_ab  351.0 -0.069538  0.550025 -1.0 -0.443165 -0.01769  0.153535  1.0\n",
              "column_ac  351.0  0.378445  0.575886 -1.0  0.000000  0.49664  0.883465  1.0\n",
              "column_ad  351.0 -0.027907  0.507974 -1.0 -0.236885  0.00000  0.154075  1.0\n",
              "column_ae  351.0  0.352514  0.571483 -1.0  0.000000  0.44277  0.857620  1.0\n",
              "column_af  351.0 -0.003794  0.513574 -1.0 -0.242595  0.00000  0.200120  1.0\n",
              "column_ag  351.0  0.349364  0.522663 -1.0  0.000000  0.40956  0.813765  1.0\n",
              "column_ah  351.0  0.014480  0.468337 -1.0 -0.165350  0.00000  0.171660  1.0"
            ]
          },
          "metadata": {
            "tags": []
          },
          "execution_count": 4
        }
      ]
    },
    {
      "cell_type": "markdown",
      "metadata": {
        "id": "rkYOqh3vsx9Q"
      },
      "source": [
        "## 2.3 Cleaning the dataset"
      ]
    },
    {
      "cell_type": "code",
      "metadata": {
        "colab": {
          "base_uri": "https://localhost:8080/"
        },
        "id": "ixmheAO20yw4",
        "outputId": "9c05bc67-c401-43ca-d77f-d1f7d0f7717d"
      },
      "source": [
        "df.column_ai.value_counts()"
      ],
      "execution_count": 5,
      "outputs": [
        {
          "output_type": "execute_result",
          "data": {
            "text/plain": [
              "g    225\n",
              "b    126\n",
              "Name: column_ai, dtype: int64"
            ]
          },
          "metadata": {
            "tags": []
          },
          "execution_count": 5
        }
      ]
    },
    {
      "cell_type": "code",
      "metadata": {
        "colab": {
          "base_uri": "https://localhost:8080/"
        },
        "id": "6N5rtAA71DnX",
        "outputId": "e34c764b-3981-473c-9dc8-da6eed4d1983"
      },
      "source": [
        "df.duplicated().sum()"
      ],
      "execution_count": 6,
      "outputs": [
        {
          "output_type": "execute_result",
          "data": {
            "text/plain": [
              "1"
            ]
          },
          "metadata": {
            "tags": []
          },
          "execution_count": 6
        }
      ]
    },
    {
      "cell_type": "code",
      "metadata": {
        "id": "_jW8QQP11z8g"
      },
      "source": [
        "# Dropping all the duplicate values\r\n",
        "df.drop_duplicates(subset=None, keep='first', inplace=True)"
      ],
      "execution_count": 7,
      "outputs": []
    },
    {
      "cell_type": "code",
      "metadata": {
        "colab": {
          "base_uri": "https://localhost:8080/"
        },
        "id": "14KisBt01185",
        "outputId": "e013ff63-0776-411d-d994-27960d6851d7"
      },
      "source": [
        "df.isnull().sum()"
      ],
      "execution_count": 8,
      "outputs": [
        {
          "output_type": "execute_result",
          "data": {
            "text/plain": [
              "column_a     0\n",
              "column_b     0\n",
              "column_c     0\n",
              "column_d     0\n",
              "column_e     0\n",
              "column_f     0\n",
              "column_g     0\n",
              "column_h     0\n",
              "column_i     0\n",
              "column_j     0\n",
              "column_k     0\n",
              "column_l     0\n",
              "column_m     0\n",
              "column_n     0\n",
              "column_o     0\n",
              "column_p     0\n",
              "column_q     0\n",
              "column_r     0\n",
              "column_s     0\n",
              "column_t     0\n",
              "column_u     0\n",
              "column_v     0\n",
              "column_w     0\n",
              "column_x     0\n",
              "column_y     0\n",
              "column_z     0\n",
              "column_aa    0\n",
              "column_ab    0\n",
              "column_ac    0\n",
              "column_ad    0\n",
              "column_ae    0\n",
              "column_af    0\n",
              "column_ag    0\n",
              "column_ah    0\n",
              "column_ai    0\n",
              "dtype: int64"
            ]
          },
          "metadata": {
            "tags": []
          },
          "execution_count": 8
        }
      ]
    },
    {
      "cell_type": "code",
      "metadata": {
        "colab": {
          "base_uri": "https://localhost:8080/",
          "height": 69
        },
        "id": "XaE1qaki1csG",
        "outputId": "fd2a5183-466b-4423-e484-aa9808f2abf9"
      },
      "source": [
        "sample_incomplete_rows = df[df.isnull().any(axis=1)].head()\r\n",
        "sample_incomplete_rows"
      ],
      "execution_count": 9,
      "outputs": [
        {
          "output_type": "execute_result",
          "data": {
            "text/html": [
              "<div>\n",
              "<style scoped>\n",
              "    .dataframe tbody tr th:only-of-type {\n",
              "        vertical-align: middle;\n",
              "    }\n",
              "\n",
              "    .dataframe tbody tr th {\n",
              "        vertical-align: top;\n",
              "    }\n",
              "\n",
              "    .dataframe thead th {\n",
              "        text-align: right;\n",
              "    }\n",
              "</style>\n",
              "<table border=\"1\" class=\"dataframe\">\n",
              "  <thead>\n",
              "    <tr style=\"text-align: right;\">\n",
              "      <th></th>\n",
              "      <th>column_a</th>\n",
              "      <th>column_b</th>\n",
              "      <th>column_c</th>\n",
              "      <th>column_d</th>\n",
              "      <th>column_e</th>\n",
              "      <th>column_f</th>\n",
              "      <th>column_g</th>\n",
              "      <th>column_h</th>\n",
              "      <th>column_i</th>\n",
              "      <th>column_j</th>\n",
              "      <th>column_k</th>\n",
              "      <th>column_l</th>\n",
              "      <th>column_m</th>\n",
              "      <th>column_n</th>\n",
              "      <th>column_o</th>\n",
              "      <th>column_p</th>\n",
              "      <th>column_q</th>\n",
              "      <th>column_r</th>\n",
              "      <th>column_s</th>\n",
              "      <th>column_t</th>\n",
              "      <th>column_u</th>\n",
              "      <th>column_v</th>\n",
              "      <th>column_w</th>\n",
              "      <th>column_x</th>\n",
              "      <th>column_y</th>\n",
              "      <th>column_z</th>\n",
              "      <th>column_aa</th>\n",
              "      <th>column_ab</th>\n",
              "      <th>column_ac</th>\n",
              "      <th>column_ad</th>\n",
              "      <th>column_ae</th>\n",
              "      <th>column_af</th>\n",
              "      <th>column_ag</th>\n",
              "      <th>column_ah</th>\n",
              "      <th>column_ai</th>\n",
              "    </tr>\n",
              "  </thead>\n",
              "  <tbody>\n",
              "  </tbody>\n",
              "</table>\n",
              "</div>"
            ],
            "text/plain": [
              "Empty DataFrame\n",
              "Columns: [column_a, column_b, column_c, column_d, column_e, column_f, column_g, column_h, column_i, column_j, column_k, column_l, column_m, column_n, column_o, column_p, column_q, column_r, column_s, column_t, column_u, column_v, column_w, column_x, column_y, column_z, column_aa, column_ab, column_ac, column_ad, column_ae, column_af, column_ag, column_ah, column_ai]\n",
              "Index: []"
            ]
          },
          "metadata": {
            "tags": []
          },
          "execution_count": 9
        }
      ]
    },
    {
      "cell_type": "markdown",
      "metadata": {
        "id": "7GZZYXS5s9jv"
      },
      "source": [
        "# 3: Preparing the data for ML"
      ]
    },
    {
      "cell_type": "markdown",
      "metadata": {
        "id": "lT9tSzqJtA3q"
      },
      "source": [
        "## 3.1 Applying Train,test and Split"
      ]
    },
    {
      "cell_type": "code",
      "metadata": {
        "id": "djSoDSGC1pPg"
      },
      "source": [
        "from sklearn.model_selection import train_test_split\r\n",
        "\r\n",
        "X = df.iloc[:,0:-1]\r\n",
        "Y = df.iloc[:,-1]\r\n",
        "validation_size = 0.2\r\n",
        "seed = 7\r\n",
        "X_train, Y_train, X_test, Y_test = train_test_split(X, Y, test_size=validation_size, random_state=seed,shuffle=True)"
      ],
      "execution_count": 10,
      "outputs": []
    },
    {
      "cell_type": "markdown",
      "metadata": {
        "id": "hAFeY4DZtE4K"
      },
      "source": [
        "# 4: Building ML models"
      ]
    },
    {
      "cell_type": "markdown",
      "metadata": {
        "id": "PsU6o4D2tLKT"
      },
      "source": [
        "## 4.1 Analysing the best model"
      ]
    },
    {
      "cell_type": "code",
      "metadata": {
        "id": "SXzrjkzUZfp-"
      },
      "source": [
        "# test options\r\n",
        "num_folds = 10\r\n",
        "seed = 7\r\n",
        "scoring = 'accuracy'\r\n",
        "\r\n",
        "# spot check some algorithms\r\n",
        "models = []\r\n",
        "models.append(('LR', LogisticRegression()))\r\n",
        "models.append(('LDA', LinearDiscriminantAnalysis()))\r\n",
        "models.append(('KNN', KNeighborsClassifier()))\r\n",
        "models.append(('CART', DecisionTreeClassifier()))\r\n",
        "models.append(('NB', GaussianNB()))\r\n",
        "models.append(('SVM', SVC()))"
      ],
      "execution_count": 11,
      "outputs": []
    },
    {
      "cell_type": "code",
      "metadata": {
        "colab": {
          "base_uri": "https://localhost:8080/"
        },
        "id": "TOvDDhLHZrs_",
        "outputId": "735fb237-3ee0-426b-d65b-849b29962514"
      },
      "source": [
        "results = []\r\n",
        "names = []\r\n",
        "for name, model in models:\r\n",
        "    kfold = KFold(n_splits=num_folds, random_state=seed, shuffle=True)\r\n",
        "    cv_results = cross_val_score(model, X_train, X_test, cv=kfold, scoring=scoring)\r\n",
        "    results.append(cv_results)\r\n",
        "    names.append(name)\r\n",
        "    msg = \"%s: %f (%f)\" % (name, cv_results.mean(), cv_results.std())\r\n",
        "    print(msg)"
      ],
      "execution_count": 12,
      "outputs": [
        {
          "output_type": "stream",
          "text": [
            "LR: 0.850000 (0.065465)\n",
            "LDA: 0.864286 (0.044607)\n",
            "KNN: 0.828571 (0.076265)\n",
            "CART: 0.850000 (0.067386)\n",
            "NB: 0.892857 (0.063888)\n",
            "SVM: 0.928571 (0.045175)\n"
          ],
          "name": "stdout"
        }
      ]
    },
    {
      "cell_type": "code",
      "metadata": {
        "colab": {
          "base_uri": "https://localhost:8080/",
          "height": 420
        },
        "id": "CQwkfztOZrqP",
        "outputId": "2fd7ffa5-abea-47ca-e0d5-d97b030e0628"
      },
      "source": [
        "# compare algorithms\r\n",
        "fig = plt.figure()\r\n",
        "fig.suptitle('Algorithm Comparison')\r\n",
        "ax = fig.add_subplot(111)\r\n",
        "plt.boxplot(results)\r\n",
        "ax.set_xticklabels(names)\r\n",
        "fig.set_size_inches(8,6)\r\n",
        "plt.show()"
      ],
      "execution_count": 13,
      "outputs": [
        {
          "output_type": "display_data",
          "data": {
            "image/png": "[encoded data removed]",
            "text/plain": [
              "<Figure size 576x432 with 1 Axes>"
            ]
          },
          "metadata": {
            "tags": [],
            "needs_background": "light"
          }
        }
      ]
    },
    {
      "cell_type": "markdown",
      "metadata": {
        "id": "QzZyXVMgtOga"
      },
      "source": [
        "SVM seems to be the most promising model"
      ]
    },
    {
      "cell_type": "markdown",
      "metadata": {
        "id": "OX81qtvYtY4X"
      },
      "source": [
        "## 4.2 Hyperparameter Tunning"
      ]
    },
    {
      "cell_type": "code",
      "metadata": {
        "id": "ffFrCPAQZrmd"
      },
      "source": [
        "# SVM algorithm tuning\r\n",
        "scaler = StandardScaler().fit(X_train)\r\n",
        "rescaledX = scaler.transform(X_train)\r\n",
        "c_values = [0.1, 0.3, 0.5, 0.7, 0.9, 1.0, 1.3, 1.5, 1.7, 2.0]\r\n",
        "kernel_values = ['linear', 'poly', 'rbf', 'sigmoid']\r\n",
        "param_grid = dict(C=c_values, kernel=kernel_values)\r\n",
        "model = SVC()\r\n",
        "kfold = KFold(n_splits=num_folds, random_state=seed, shuffle=True)\r\n",
        "grid = GridSearchCV(estimator=model, param_grid=param_grid, scoring=scoring, cv=kfold)\r\n",
        "grid_result = grid.fit(rescaledX, X_test)"
      ],
      "execution_count": 14,
      "outputs": []
    },
    {
      "cell_type": "code",
      "metadata": {
        "colab": {
          "base_uri": "https://localhost:8080/"
        },
        "id": "sKT4V6EOZrjy",
        "outputId": "800bac1c-89a2-4eda-a3da-127781f3e0c6"
      },
      "source": [
        "print(\"Best: %f using %s\" % (grid_result.best_score_, grid_result.best_params_))\r\n",
        "means = grid_result.cv_results_['mean_test_score']\r\n",
        "stds = grid_result.cv_results_['std_test_score']\r\n",
        "params = grid_result.cv_results_['params']\r\n",
        "ranks = grid_result.cv_results_['rank_test_score']\r\n",
        "for mean, stdev, param, rank in zip(means, stds, params, ranks):\r\n",
        "    print(\"#%d %f (%f) with: %r\" % (rank, mean, stdev, param))"
      ],
      "execution_count": 15,
      "outputs": [
        {
          "output_type": "stream",
          "text": [
            "Best: 0.939286 using {'C': 2.0, 'kernel': 'rbf'}\n",
            "#24 0.860714 (0.046429) with: {'C': 0.1, 'kernel': 'linear'}\n",
            "#40 0.664286 (0.053452) with: {'C': 0.1, 'kernel': 'poly'}\n",
            "#10 0.928571 (0.050508) with: {'C': 0.1, 'kernel': 'rbf'}\n",
            "#30 0.835714 (0.068139) with: {'C': 0.1, 'kernel': 'sigmoid'}\n",
            "#11 0.882143 (0.050634) with: {'C': 0.3, 'kernel': 'linear'}\n",
            "#39 0.696429 (0.051135) with: {'C': 0.3, 'kernel': 'poly'}\n",
            "#9 0.932143 (0.054046) with: {'C': 0.3, 'kernel': 'rbf'}\n",
            "#23 0.864286 (0.047380) with: {'C': 0.3, 'kernel': 'sigmoid'}\n",
            "#12 0.878571 (0.053452) with: {'C': 0.5, 'kernel': 'linear'}\n",
            "#38 0.707143 (0.041650) with: {'C': 0.5, 'kernel': 'poly'}\n",
            "#2 0.935714 (0.047380) with: {'C': 0.5, 'kernel': 'rbf'}\n",
            "#20 0.867857 (0.042408) with: {'C': 0.5, 'kernel': 'sigmoid'}\n",
            "#16 0.875000 (0.048577) with: {'C': 0.7, 'kernel': 'linear'}\n",
            "#37 0.714286 (0.045175) with: {'C': 0.7, 'kernel': 'poly'}\n",
            "#4 0.932143 (0.049099) with: {'C': 0.7, 'kernel': 'rbf'}\n",
            "#24 0.860714 (0.054046) with: {'C': 0.7, 'kernel': 'sigmoid'}\n",
            "#12 0.878571 (0.048445) with: {'C': 0.9, 'kernel': 'linear'}\n",
            "#36 0.721429 (0.054865) with: {'C': 0.9, 'kernel': 'poly'}\n",
            "#4 0.932143 (0.049099) with: {'C': 0.9, 'kernel': 'rbf'}\n",
            "#20 0.867857 (0.042408) with: {'C': 0.9, 'kernel': 'sigmoid'}\n",
            "#16 0.875000 (0.048577) with: {'C': 1.0, 'kernel': 'linear'}\n",
            "#35 0.728571 (0.053452) with: {'C': 1.0, 'kernel': 'poly'}\n",
            "#2 0.935714 (0.050000) with: {'C': 1.0, 'kernel': 'rbf'}\n",
            "#22 0.864286 (0.052489) with: {'C': 1.0, 'kernel': 'sigmoid'}\n",
            "#12 0.878571 (0.060187) with: {'C': 1.3, 'kernel': 'linear'}\n",
            "#34 0.746429 (0.066720) with: {'C': 1.3, 'kernel': 'poly'}\n",
            "#4 0.932143 (0.046429) with: {'C': 1.3, 'kernel': 'rbf'}\n",
            "#26 0.857143 (0.052973) with: {'C': 1.3, 'kernel': 'sigmoid'}\n",
            "#18 0.871429 (0.058029) with: {'C': 1.5, 'kernel': 'linear'}\n",
            "#33 0.771429 (0.051010) with: {'C': 1.5, 'kernel': 'poly'}\n",
            "#4 0.932143 (0.046429) with: {'C': 1.5, 'kernel': 'rbf'}\n",
            "#26 0.857143 (0.050508) with: {'C': 1.5, 'kernel': 'sigmoid'}\n",
            "#18 0.871429 (0.058029) with: {'C': 1.7, 'kernel': 'linear'}\n",
            "#32 0.778571 (0.047380) with: {'C': 1.7, 'kernel': 'poly'}\n",
            "#4 0.932143 (0.046429) with: {'C': 1.7, 'kernel': 'rbf'}\n",
            "#26 0.857143 (0.050508) with: {'C': 1.7, 'kernel': 'sigmoid'}\n",
            "#15 0.875000 (0.058139) with: {'C': 2.0, 'kernel': 'linear'}\n",
            "#31 0.785714 (0.052973) with: {'C': 2.0, 'kernel': 'poly'}\n",
            "#1 0.939286 (0.045316) with: {'C': 2.0, 'kernel': 'rbf'}\n",
            "#29 0.850000 (0.047380) with: {'C': 2.0, 'kernel': 'sigmoid'}\n"
          ],
          "name": "stdout"
        }
      ]
    },
    {
      "cell_type": "markdown",
      "metadata": {
        "id": "J3YOh_rOtezZ"
      },
      "source": [
        "## 4.3 Running the ML on best optimal parameters identified"
      ]
    },
    {
      "cell_type": "code",
      "metadata": {
        "colab": {
          "base_uri": "https://localhost:8080/"
        },
        "id": "Mc3FluydaKTT",
        "outputId": "a74d6a16-84ab-40e5-8671-321e8c70fa9f"
      },
      "source": [
        "## Preparing Model\r\n",
        "\r\n",
        "scaler = StandardScaler().fit(X_train)\r\n",
        "rescaledX = scaler.transform(X_train)\r\n",
        "model = SVC(C=1.5) # rbf is default kernel\r\n",
        "model.fit(rescaledX, X_test)"
      ],
      "execution_count": 16,
      "outputs": [
        {
          "output_type": "execute_result",
          "data": {
            "text/plain": [
              "SVC(C=1.5, break_ties=False, cache_size=200, class_weight=None, coef0=0.0,\n",
              "    decision_function_shape='ovr', degree=3, gamma='scale', kernel='rbf',\n",
              "    max_iter=-1, probability=False, random_state=None, shrinking=True,\n",
              "    tol=0.001, verbose=False)"
            ]
          },
          "metadata": {
            "tags": []
          },
          "execution_count": 16
        }
      ]
    },
    {
      "cell_type": "code",
      "metadata": {
        "colab": {
          "base_uri": "https://localhost:8080/"
        },
        "id": "qaHyQYtUaNPA",
        "outputId": "6ccf867c-e25c-4998-9467-42ffc51a4eab"
      },
      "source": [
        "# estimate accuracy on validation set\r\n",
        "rescaledValidationX = scaler.transform(Y_train)\r\n",
        "predictions = model.predict(rescaledValidationX)\r\n",
        "print(accuracy_score(Y_test, predictions))\r\n",
        "print(confusion_matrix(Y_test, predictions))\r\n",
        "print(classification_report(Y_test, predictions))"
      ],
      "execution_count": 17,
      "outputs": [
        {
          "output_type": "stream",
          "text": [
            "0.9571428571428572\n",
            "[[21  2]\n",
            " [ 1 46]]\n",
            "              precision    recall  f1-score   support\n",
            "\n",
            "           b       0.95      0.91      0.93        23\n",
            "           g       0.96      0.98      0.97        47\n",
            "\n",
            "    accuracy                           0.96        70\n",
            "   macro avg       0.96      0.95      0.95        70\n",
            "weighted avg       0.96      0.96      0.96        70\n",
            "\n"
          ],
          "name": "stdout"
        }
      ]
    },
    {
      "cell_type": "markdown",
      "metadata": {
        "id": "lRHslcSPtmzk"
      },
      "source": [
        "The accuracy on the validation set was 96%."
      ]
    },
    {
      "cell_type": "code",
      "metadata": {
        "colab": {
          "base_uri": "https://localhost:8080/"
        },
        "id": "OSLi3RwkaNMM",
        "outputId": "e3ec2b3a-d19f-4629-8245-e95dd1ce8033"
      },
      "source": [
        "some_date = X_train.iloc[0 : 6]\r\n",
        "some_labels = X_test.iloc[0:6]\r\n",
        "\r\n",
        "some_date_prepared = scaler.transform(some_date)\r\n",
        "\r\n",
        "print(\"Predictions:\", model.predict(some_date_prepared))\r\n",
        "print(\"Labels:\", list(some_labels))"
      ],
      "execution_count": 18,
      "outputs": [
        {
          "output_type": "stream",
          "text": [
            "Predictions: ['g' 'g' 'g' 'g' 'g' 'g']\n",
            "Labels: ['g', 'g', 'g', 'g', 'g', 'g']\n"
          ],
          "name": "stdout"
        }
      ]
    }
  ]
}