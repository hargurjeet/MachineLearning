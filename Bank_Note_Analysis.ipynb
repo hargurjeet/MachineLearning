{
  "nbformat": 4,
  "nbformat_minor": 0,
  "metadata": {
    "colab": {
      "name": "Bank-Note_Analysis.ipynb",
      "provenance": [],
      "collapsed_sections": [],
      "toc_visible": true
    },
    "kernelspec": {
      "name": "python3",
      "display_name": "Python 3"
    }
  },
  "cells": [
    {
      "cell_type": "markdown",
      "metadata": {
        "id": "NKMGOfk41Opq"
      },
      "source": [
        "# Bank Note Dataset"
      ]
    },
    {
      "cell_type": "markdown",
      "metadata": {
        "id": "58ZrxQsq1T8V"
      },
      "source": [
        "# 1: Introduction\n",
        "\n",
        "About this data\n",
        "<br> The Banknote Dataset involves predicting whether a given banknote is authentic given a number of measures taken from a photograph.\n",
        "\n",
        "It is a binary (2-class) classification problem. The number of observations for each class is not balanced. There are 1,372 observations with 4 input variables and 1 output variable. The variable names are as follows:\n",
        "\n",
        "<br> 1. Variance of Wavelet Transformed image (continuous).\n",
        "<br> 2. Skewness of Wavelet Transformed image (continuous).\n",
        "<br> 3. Kurtosis of Wavelet Transformed image (continuous).\n",
        "<br> 4. Entropy of image (continuous).\n",
        "<br> 5. Class (0 for authentic, 1 for inauthentic)."
      ]
    },
    {
      "cell_type": "markdown",
      "metadata": {
        "id": "ZuFN_sdp2daH"
      },
      "source": [
        "# 2: Data Pre processing"
      ]
    },
    {
      "cell_type": "markdown",
      "metadata": {
        "id": "_aF7iVqe2jIO"
      },
      "source": [
        "## 2.1 Loading the required Libraries"
      ]
    },
    {
      "cell_type": "code",
      "metadata": {
        "id": "JxleQESqCxM0"
      },
      "source": [
        "import sys\n",
        "assert sys.version_info >= (3, 5)\n",
        "\n",
        "# Scikit-Learn ≥0.20 is required\n",
        "import sklearn\n",
        "assert sklearn.__version__ >= \"0.20\"\n",
        "\n",
        "# Common imports\n",
        "import numpy as np\n",
        "import os\n",
        "import pandas as pd\n",
        "\n",
        "# To plot pretty figures\n",
        "%matplotlib inline\n",
        "import matplotlib as mpl\n",
        "import matplotlib.pyplot as plt\n",
        "import seaborn as sns\n",
        "mpl.rc('axes', labelsize=14)\n",
        "mpl.rc('xtick', labelsize=12)\n",
        "mpl.rc('ytick', labelsize=12)\n",
        "\n",
        "#ML imports\n",
        "from sklearn.preprocessing import StandardScaler\n",
        "from sklearn.model_selection import train_test_split, KFold, cross_val_score, GridSearchCV\n",
        "from sklearn.linear_model import LogisticRegression\n",
        "from sklearn.tree import DecisionTreeClassifier\n",
        "from sklearn.neighbors import KNeighborsClassifier\n",
        "from sklearn.discriminant_analysis import LinearDiscriminantAnalysis\n",
        "from sklearn.naive_bayes import GaussianNB\n",
        "from sklearn.svm import SVC\n",
        "from sklearn.pipeline import Pipeline\n",
        "from sklearn.ensemble import AdaBoostClassifier, GradientBoostingClassifier, RandomForestClassifier, ExtraTreesClassifier\n",
        "from sklearn.metrics import classification_report, confusion_matrix, accuracy_score\n"
      ],
      "execution_count": 1,
      "outputs": []
    },
    {
      "cell_type": "markdown",
      "metadata": {
        "id": "0ODTC0dZ2oEA"
      },
      "source": [
        "## 2.2 Get Data"
      ]
    },
    {
      "cell_type": "code",
      "metadata": {
        "colab": {
          "base_uri": "https://localhost:8080/",
          "height": 204
        },
        "id": "ound96yGD9Y7",
        "outputId": "b481a40c-3924-4072-a609-7336bc9ffdd2"
      },
      "source": [
        "## Loading the dataset from github repo\n",
        "url = 'https://raw.githubusercontent.com/hargurjeet/MachineLearning/Bank-Note-Dataset/BankNote_Authentication.csv'\n",
        "df = pd.read_csv(url)\n",
        "\n",
        "df.head()"
      ],
      "execution_count": 2,
      "outputs": [
        {
          "output_type": "execute_result",
          "data": {
            "text/html": [
              "<div>\n",
              "<style scoped>\n",
              "    .dataframe tbody tr th:only-of-type {\n",
              "        vertical-align: middle;\n",
              "    }\n",
              "\n",
              "    .dataframe tbody tr th {\n",
              "        vertical-align: top;\n",
              "    }\n",
              "\n",
              "    .dataframe thead th {\n",
              "        text-align: right;\n",
              "    }\n",
              "</style>\n",
              "<table border=\"1\" class=\"dataframe\">\n",
              "  <thead>\n",
              "    <tr style=\"text-align: right;\">\n",
              "      <th></th>\n",
              "      <th>variance</th>\n",
              "      <th>skewness</th>\n",
              "      <th>curtosis</th>\n",
              "      <th>entropy</th>\n",
              "      <th>class</th>\n",
              "    </tr>\n",
              "  </thead>\n",
              "  <tbody>\n",
              "    <tr>\n",
              "      <th>0</th>\n",
              "      <td>3.62160</td>\n",
              "      <td>8.6661</td>\n",
              "      <td>-2.8073</td>\n",
              "      <td>-0.44699</td>\n",
              "      <td>0</td>\n",
              "    </tr>\n",
              "    <tr>\n",
              "      <th>1</th>\n",
              "      <td>4.54590</td>\n",
              "      <td>8.1674</td>\n",
              "      <td>-2.4586</td>\n",
              "      <td>-1.46210</td>\n",
              "      <td>0</td>\n",
              "    </tr>\n",
              "    <tr>\n",
              "      <th>2</th>\n",
              "      <td>3.86600</td>\n",
              "      <td>-2.6383</td>\n",
              "      <td>1.9242</td>\n",
              "      <td>0.10645</td>\n",
              "      <td>0</td>\n",
              "    </tr>\n",
              "    <tr>\n",
              "      <th>3</th>\n",
              "      <td>3.45660</td>\n",
              "      <td>9.5228</td>\n",
              "      <td>-4.0112</td>\n",
              "      <td>-3.59440</td>\n",
              "      <td>0</td>\n",
              "    </tr>\n",
              "    <tr>\n",
              "      <th>4</th>\n",
              "      <td>0.32924</td>\n",
              "      <td>-4.4552</td>\n",
              "      <td>4.5718</td>\n",
              "      <td>-0.98880</td>\n",
              "      <td>0</td>\n",
              "    </tr>\n",
              "  </tbody>\n",
              "</table>\n",
              "</div>"
            ],
            "text/plain": [
              "   variance  skewness  curtosis  entropy  class\n",
              "0   3.62160    8.6661   -2.8073 -0.44699      0\n",
              "1   4.54590    8.1674   -2.4586 -1.46210      0\n",
              "2   3.86600   -2.6383    1.9242  0.10645      0\n",
              "3   3.45660    9.5228   -4.0112 -3.59440      0\n",
              "4   0.32924   -4.4552    4.5718 -0.98880      0"
            ]
          },
          "metadata": {
            "tags": []
          },
          "execution_count": 2
        }
      ]
    },
    {
      "cell_type": "code",
      "metadata": {
        "colab": {
          "base_uri": "https://localhost:8080/"
        },
        "id": "L_os9YP2ugnN",
        "outputId": "31c1e38d-3a87-4097-b5fc-de0e66687c65"
      },
      "source": [
        "df['class'].value_counts()"
      ],
      "execution_count": 3,
      "outputs": [
        {
          "output_type": "execute_result",
          "data": {
            "text/plain": [
              "0    762\n",
              "1    610\n",
              "Name: class, dtype: int64"
            ]
          },
          "metadata": {
            "tags": []
          },
          "execution_count": 3
        }
      ]
    },
    {
      "cell_type": "code",
      "metadata": {
        "colab": {
          "base_uri": "https://localhost:8080/"
        },
        "id": "gAkDLKNZEHQD",
        "outputId": "44572291-e55f-420a-8eb1-5f44c4fdcf84"
      },
      "source": [
        "df.shape"
      ],
      "execution_count": 4,
      "outputs": [
        {
          "output_type": "execute_result",
          "data": {
            "text/plain": [
              "(1372, 5)"
            ]
          },
          "metadata": {
            "tags": []
          },
          "execution_count": 4
        }
      ]
    },
    {
      "cell_type": "code",
      "metadata": {
        "colab": {
          "base_uri": "https://localhost:8080/"
        },
        "id": "vUwnDqflEryv",
        "outputId": "21bb669a-133b-454f-babd-e9b6972b212e"
      },
      "source": [
        "df.info()"
      ],
      "execution_count": 5,
      "outputs": [
        {
          "output_type": "stream",
          "text": [
            "<class 'pandas.core.frame.DataFrame'>\n",
            "RangeIndex: 1372 entries, 0 to 1371\n",
            "Data columns (total 5 columns):\n",
            " #   Column    Non-Null Count  Dtype  \n",
            "---  ------    --------------  -----  \n",
            " 0   variance  1372 non-null   float64\n",
            " 1   skewness  1372 non-null   float64\n",
            " 2   curtosis  1372 non-null   float64\n",
            " 3   entropy   1372 non-null   float64\n",
            " 4   class     1372 non-null   int64  \n",
            "dtypes: float64(4), int64(1)\n",
            "memory usage: 53.7 KB\n"
          ],
          "name": "stdout"
        }
      ]
    },
    {
      "cell_type": "code",
      "metadata": {
        "colab": {
          "base_uri": "https://localhost:8080/",
          "height": 720
        },
        "id": "t3aFWRNjEtyb",
        "outputId": "91caeb80-b6ee-44c3-ebf5-c4b1335bbcac"
      },
      "source": [
        "df.hist(bins=50, figsize=(20,15))\n",
        "plt.show()"
      ],
      "execution_count": 6,
      "outputs": [
        {
          "output_type": "display_data",
          "data": {
            "image/png": "[encoded data removed]",
            "text/plain": [
              "<Figure size 1440x1080 with 6 Axes>"
            ]
          },
          "metadata": {
            "tags": [],
            "needs_background": "light"
          }
        }
      ]
    },
    {
      "cell_type": "code",
      "metadata": {
        "colab": {
          "base_uri": "https://localhost:8080/",
          "height": 126
        },
        "id": "pI2ft9shFk-c",
        "outputId": "603528e2-5e7f-4a38-e1d6-1aca88f1bf86"
      },
      "source": [
        "# density\n",
        "df.plot(kind='density', subplots=True, layout=(8,8), sharex=False, legend=False, fontsize=1, figsize=(20,15))\n",
        "plt.show()"
      ],
      "execution_count": 7,
      "outputs": [
        {
          "output_type": "display_data",
          "data": {
            "image/png": "[encoded data removed]",
            "text/plain": [
              "<Figure size 1440x1080 with 64 Axes>"
            ]
          },
          "metadata": {
            "tags": [],
            "needs_background": "light"
          }
        }
      ]
    },
    {
      "cell_type": "markdown",
      "metadata": {
        "id": "aaHUM7oh2wi4"
      },
      "source": [
        "## 2.3 Cleaning the dataset"
      ]
    },
    {
      "cell_type": "code",
      "metadata": {
        "colab": {
          "base_uri": "https://localhost:8080/"
        },
        "id": "rFBBU6QrJIzZ",
        "outputId": "e63335b0-37a6-4525-8063-2902e1265ab4"
      },
      "source": [
        "df.duplicated().sum()"
      ],
      "execution_count": 8,
      "outputs": [
        {
          "output_type": "execute_result",
          "data": {
            "text/plain": [
              "24"
            ]
          },
          "metadata": {
            "tags": []
          },
          "execution_count": 8
        }
      ]
    },
    {
      "cell_type": "code",
      "metadata": {
        "id": "5X7-K-7HJPh2"
      },
      "source": [
        "# Dropping all the duplicate values\n",
        "df.drop_duplicates(subset=None, keep='first', inplace=True)"
      ],
      "execution_count": 9,
      "outputs": []
    },
    {
      "cell_type": "code",
      "metadata": {
        "colab": {
          "base_uri": "https://localhost:8080/"
        },
        "id": "kRF9F80fJPfH",
        "outputId": "03cbebf2-6eaa-410a-9894-77334f402d33"
      },
      "source": [
        "df.isnull().sum()"
      ],
      "execution_count": 10,
      "outputs": [
        {
          "output_type": "execute_result",
          "data": {
            "text/plain": [
              "variance    0\n",
              "skewness    0\n",
              "curtosis    0\n",
              "entropy     0\n",
              "class       0\n",
              "dtype: int64"
            ]
          },
          "metadata": {
            "tags": []
          },
          "execution_count": 10
        }
      ]
    },
    {
      "cell_type": "code",
      "metadata": {
        "colab": {
          "base_uri": "https://localhost:8080/",
          "height": 204
        },
        "id": "HV0ofeiQuWc9",
        "outputId": "759e5e01-ae71-47a5-a412-3d2f217f889e"
      },
      "source": [
        "df.describe().T"
      ],
      "execution_count": 11,
      "outputs": [
        {
          "output_type": "execute_result",
          "data": {
            "text/html": [
              "<div>\n",
              "<style scoped>\n",
              "    .dataframe tbody tr th:only-of-type {\n",
              "        vertical-align: middle;\n",
              "    }\n",
              "\n",
              "    .dataframe tbody tr th {\n",
              "        vertical-align: top;\n",
              "    }\n",
              "\n",
              "    .dataframe thead th {\n",
              "        text-align: right;\n",
              "    }\n",
              "</style>\n",
              "<table border=\"1\" class=\"dataframe\">\n",
              "  <thead>\n",
              "    <tr style=\"text-align: right;\">\n",
              "      <th></th>\n",
              "      <th>count</th>\n",
              "      <th>mean</th>\n",
              "      <th>std</th>\n",
              "      <th>min</th>\n",
              "      <th>25%</th>\n",
              "      <th>50%</th>\n",
              "      <th>75%</th>\n",
              "      <th>max</th>\n",
              "    </tr>\n",
              "  </thead>\n",
              "  <tbody>\n",
              "    <tr>\n",
              "      <th>variance</th>\n",
              "      <td>1348.0</td>\n",
              "      <td>0.445785</td>\n",
              "      <td>2.862906</td>\n",
              "      <td>-7.0421</td>\n",
              "      <td>-1.78665</td>\n",
              "      <td>0.518735</td>\n",
              "      <td>2.853250</td>\n",
              "      <td>6.8248</td>\n",
              "    </tr>\n",
              "    <tr>\n",
              "      <th>skewness</th>\n",
              "      <td>1348.0</td>\n",
              "      <td>1.909039</td>\n",
              "      <td>5.868600</td>\n",
              "      <td>-13.7731</td>\n",
              "      <td>-1.62700</td>\n",
              "      <td>2.334150</td>\n",
              "      <td>6.796025</td>\n",
              "      <td>12.9516</td>\n",
              "    </tr>\n",
              "    <tr>\n",
              "      <th>curtosis</th>\n",
              "      <td>1348.0</td>\n",
              "      <td>1.413578</td>\n",
              "      <td>4.328365</td>\n",
              "      <td>-5.2861</td>\n",
              "      <td>-1.54560</td>\n",
              "      <td>0.605495</td>\n",
              "      <td>3.199800</td>\n",
              "      <td>17.9274</td>\n",
              "    </tr>\n",
              "    <tr>\n",
              "      <th>entropy</th>\n",
              "      <td>1348.0</td>\n",
              "      <td>-1.168712</td>\n",
              "      <td>2.085877</td>\n",
              "      <td>-8.5482</td>\n",
              "      <td>-2.39310</td>\n",
              "      <td>-0.578890</td>\n",
              "      <td>0.403863</td>\n",
              "      <td>2.4495</td>\n",
              "    </tr>\n",
              "    <tr>\n",
              "      <th>class</th>\n",
              "      <td>1348.0</td>\n",
              "      <td>0.452522</td>\n",
              "      <td>0.497925</td>\n",
              "      <td>0.0000</td>\n",
              "      <td>0.00000</td>\n",
              "      <td>0.000000</td>\n",
              "      <td>1.000000</td>\n",
              "      <td>1.0000</td>\n",
              "    </tr>\n",
              "  </tbody>\n",
              "</table>\n",
              "</div>"
            ],
            "text/plain": [
              "           count      mean       std  ...       50%       75%      max\n",
              "variance  1348.0  0.445785  2.862906  ...  0.518735  2.853250   6.8248\n",
              "skewness  1348.0  1.909039  5.868600  ...  2.334150  6.796025  12.9516\n",
              "curtosis  1348.0  1.413578  4.328365  ...  0.605495  3.199800  17.9274\n",
              "entropy   1348.0 -1.168712  2.085877  ... -0.578890  0.403863   2.4495\n",
              "class     1348.0  0.452522  0.497925  ...  0.000000  1.000000   1.0000\n",
              "\n",
              "[5 rows x 8 columns]"
            ]
          },
          "metadata": {
            "tags": []
          },
          "execution_count": 11
        }
      ]
    },
    {
      "cell_type": "markdown",
      "metadata": {
        "id": "XZ1_7voK25M-"
      },
      "source": [
        "## 2.4 Feature Analysis"
      ]
    },
    {
      "cell_type": "code",
      "metadata": {
        "id": "BGrXb99rJX9E"
      },
      "source": [
        "# Detecting the outliers\n",
        "def detect_outlier(data):\n",
        "    outlier = []\n",
        "    threshold = 3\n",
        "    mean = np.mean(data)\n",
        "    std = np.std(data)\n",
        "    for i in data:\n",
        "        z_score = (i - mean)/std\n",
        "        if np.abs(z_score)>threshold:\n",
        "            outlier.append(i)\n",
        "    return outlier"
      ],
      "execution_count": 12,
      "outputs": []
    },
    {
      "cell_type": "code",
      "metadata": {
        "id": "9-wzRbcSJX6B"
      },
      "source": [
        "var_list = df['variance'].tolist()\n",
        "skew_list = df['skewness'].tolist()\n",
        "curt_list = df['curtosis'].tolist()\n",
        "entr_list = df['entropy'].tolist()"
      ],
      "execution_count": 13,
      "outputs": []
    },
    {
      "cell_type": "code",
      "metadata": {
        "colab": {
          "base_uri": "https://localhost:8080/"
        },
        "id": "V27RRY_oJXch",
        "outputId": "ea4eb949-b501-4275-ed07-37b47d059464"
      },
      "source": [
        "var_outlier = detect_outlier(var_list)\n",
        "print(var_outlier)\n",
        "\n",
        "skew_list = detect_outlier(skew_list)\n",
        "print(skew_list)\n",
        "\n",
        "curt_list = detect_outlier(curt_list)\n",
        "print(curt_list)\n",
        "\n",
        "entr_list = detect_outlier(entr_list)\n",
        "print(entr_list)"
      ],
      "execution_count": 14,
      "outputs": [
        {
          "output_type": "stream",
          "text": [
            "[]\n",
            "[]\n",
            "[15.6824, 17.6772, 14.9704, 17.3087, 15.5573, 17.9274, 16.9583, 14.8881, 17.5795, 15.6773, 17.6052, 15.6199, 17.1116, 15.6559, 17.0834, 15.4417, 16.7166, 15.1606, 17.5932]\n",
            "[-7.5034, -7.5836, -7.5034, -7.7853, -7.7581, -8.5482, -7.5487, -7.6418, -7.8719, -7.6612, -7.5034, -7.5344, -7.5887, -7.5642, -7.5887]\n"
          ],
          "name": "stdout"
        }
      ]
    },
    {
      "cell_type": "code",
      "metadata": {
        "colab": {
          "base_uri": "https://localhost:8080/"
        },
        "id": "yz5__m93yjcN",
        "outputId": "4508e9cd-8b33-4a38-99f4-5a2cbe0467f9"
      },
      "source": [
        "print('Total Records before dropping:', df.shape)"
      ],
      "execution_count": 15,
      "outputs": [
        {
          "output_type": "stream",
          "text": [
            "Total Records before dropping: (1348, 5)\n"
          ],
          "name": "stdout"
        }
      ]
    },
    {
      "cell_type": "code",
      "metadata": {
        "id": "lh2PJrI_wqTp"
      },
      "source": [
        "df.drop(df[df['curtosis'] >= 14.9704].index, inplace = True) \n",
        "df.drop(df[df['entropy'] <= -7.5034].index, inplace = True)"
      ],
      "execution_count": 16,
      "outputs": []
    },
    {
      "cell_type": "code",
      "metadata": {
        "colab": {
          "base_uri": "https://localhost:8080/"
        },
        "id": "5_VHDTtAv2VF",
        "outputId": "dbde901b-be3b-4c41-94f4-4f733f7987fe"
      },
      "source": [
        "# Final reshaped dataset\n",
        "df.shape"
      ],
      "execution_count": 17,
      "outputs": [
        {
          "output_type": "execute_result",
          "data": {
            "text/plain": [
              "(1315, 5)"
            ]
          },
          "metadata": {
            "tags": []
          },
          "execution_count": 17
        }
      ]
    },
    {
      "cell_type": "markdown",
      "metadata": {
        "id": "hmHgfV-b4ow8"
      },
      "source": [
        "# 3: Preparing the data for ML"
      ]
    },
    {
      "cell_type": "markdown",
      "metadata": {
        "id": "3kJ36pho4otN"
      },
      "source": [
        "## 3.1 Applying Train,test and Split"
      ]
    },
    {
      "cell_type": "code",
      "metadata": {
        "id": "XFBjVkdRFzt4"
      },
      "source": [
        "## Splittng the dataset to train,test and split\n",
        "from sklearn.model_selection import train_test_split\n",
        "\n",
        "X = df.iloc[:,0:-1]\n",
        "Y = df.iloc[:,-1]\n",
        "validation_size = 0.2\n",
        "seed = 7\n",
        "X_train, Y_train, X_test, Y_test = train_test_split(X, Y, test_size=validation_size, random_state=seed,shuffle=True)"
      ],
      "execution_count": 18,
      "outputs": []
    },
    {
      "cell_type": "markdown",
      "metadata": {
        "id": "p3QCnNW24xxQ"
      },
      "source": [
        "# 4: Building ML models"
      ]
    },
    {
      "cell_type": "markdown",
      "metadata": {
        "id": "0Z1JKYtk41Il"
      },
      "source": [
        "## 4.1 Analysing the best model"
      ]
    },
    {
      "cell_type": "code",
      "metadata": {
        "id": "agca_q-6Fzf7"
      },
      "source": [
        "# test options\n",
        "num_folds = 10\n",
        "seed = 7\n",
        "scoring = 'accuracy'\n",
        "\n",
        "# spot check some algorithms\n",
        "models = []\n",
        "models.append(('LR', LogisticRegression()))\n",
        "models.append(('LDA', LinearDiscriminantAnalysis()))\n",
        "models.append(('KNN', KNeighborsClassifier()))\n",
        "models.append(('CART', DecisionTreeClassifier()))\n",
        "models.append(('NB', GaussianNB()))\n",
        "models.append(('SVM', SVC()))"
      ],
      "execution_count": 19,
      "outputs": []
    },
    {
      "cell_type": "code",
      "metadata": {
        "colab": {
          "base_uri": "https://localhost:8080/"
        },
        "id": "gfZd3O6aFzcx",
        "outputId": "05c60bb3-efc5-4d14-b506-1e68457f2ae0"
      },
      "source": [
        "results = []\n",
        "names = []\n",
        "for name, model in models:\n",
        "    kfold = KFold(n_splits=num_folds, random_state=seed, shuffle=True)\n",
        "    cv_results = cross_val_score(model, X_train, X_test, cv=kfold, scoring=scoring)\n",
        "    results.append(cv_results)\n",
        "    names.append(name)\n",
        "    msg = \"%s: %f (%f)\" % (name, cv_results.mean(), cv_results.std())\n",
        "    print(msg)"
      ],
      "execution_count": 20,
      "outputs": [
        {
          "output_type": "stream",
          "text": [
            "LR: 0.993351 (0.007409)\n",
            "LDA: 0.987655 (0.009547)\n",
            "KNN: 0.998104 (0.003792)\n",
            "CART: 0.985741 (0.010612)\n",
            "NB: 0.858347 (0.025281)\n",
            "SVM: 0.996199 (0.004655)\n"
          ],
          "name": "stdout"
        }
      ]
    },
    {
      "cell_type": "code",
      "metadata": {
        "colab": {
          "base_uri": "https://localhost:8080/",
          "height": 420
        },
        "id": "WvLs6l6aFzZ3",
        "outputId": "b0b4cf19-943d-4c63-b021-7930547b203d"
      },
      "source": [
        "# compare algorithms\n",
        "fig = plt.figure()\n",
        "fig.suptitle('Algorithm Comparison')\n",
        "ax = fig.add_subplot(111)\n",
        "plt.boxplot(results)\n",
        "ax.set_xticklabels(names)\n",
        "fig.set_size_inches(8,6)\n",
        "plt.show()"
      ],
      "execution_count": 21,
      "outputs": [
        {
          "output_type": "display_data",
          "data": {
            "image/png": "[encoded data removed]",
            "text/plain": [
              "<Figure size 576x432 with 1 Axes>"
            ]
          },
          "metadata": {
            "tags": [],
            "needs_background": "light"
          }
        }
      ]
    },
    {
      "cell_type": "markdown",
      "metadata": {
        "id": "hRLVUVsC483d"
      },
      "source": [
        "## 4.2 Building Pipelines on Standardized Dataset"
      ]
    },
    {
      "cell_type": "code",
      "metadata": {
        "id": "rVZ-q89gFzXE",
        "colab": {
          "base_uri": "https://localhost:8080/"
        },
        "outputId": "f6eb0720-24c2-4596-f066-385a929264ca"
      },
      "source": [
        "# standardized the dataset\n",
        "pipelines = []\n",
        "pipelines.append(('ScaledLR', Pipeline([('Scaler', StandardScaler()), ('LR', LogisticRegression())])))\n",
        "pipelines.append(('ScaledLDA', Pipeline([('Scaler', StandardScaler()), ('LDA', LinearDiscriminantAnalysis())])))\n",
        "pipelines.append(('ScaledKNN', Pipeline([('Scaler', StandardScaler()), ('KNN', KNeighborsClassifier())])))\n",
        "pipelines.append(('ScaledCART', Pipeline([('Scaler', StandardScaler()), ('CART', DecisionTreeClassifier())])))\n",
        "pipelines.append(('ScaledNB', Pipeline([('Scaler', StandardScaler()), ('NB', GaussianNB())])))\n",
        "pipelines.append(('ScaledSVM', Pipeline([('Scaler', StandardScaler()), ('SVM', SVC())])))\n",
        "\n",
        "results = []\n",
        "names = []\n",
        "for name, model in pipelines:\n",
        "    kfold = KFold(n_splits=num_folds, random_state=seed, shuffle=True)\n",
        "    cv_results = cross_val_score(model, X_train, X_test, cv=kfold, scoring=scoring)\n",
        "    results.append(cv_results)\n",
        "    names.append(name)\n",
        "    msg = \"%s: %f (%f)\" % (name, cv_results.mean(), cv_results.std())\n",
        "    print(msg)"
      ],
      "execution_count": 22,
      "outputs": [
        {
          "output_type": "stream",
          "text": [
            "ScaledLR: 0.991456 (0.006637)\n",
            "ScaledLDA: 0.987655 (0.009547)\n",
            "ScaledKNN: 0.998095 (0.003810)\n",
            "ScaledCART: 0.986685 (0.009702)\n",
            "ScaledNB: 0.858347 (0.025281)\n",
            "ScaledSVM: 0.998095 (0.003810)\n"
          ],
          "name": "stdout"
        }
      ]
    },
    {
      "cell_type": "markdown",
      "metadata": {
        "id": "RVe03jPpxPkS"
      },
      "source": [
        "Best Accuracy is with the following models\n",
        "<br> KNeighborsClassifier\n",
        "<br> SVM"
      ]
    },
    {
      "cell_type": "markdown",
      "metadata": {
        "id": "MH7lfUaOyjvU"
      },
      "source": [
        "## 4.3 Hyperparameter Tunning"
      ]
    },
    {
      "cell_type": "code",
      "metadata": {
        "colab": {
          "base_uri": "https://localhost:8080/"
        },
        "id": "B5EVJz2exfJ4",
        "outputId": "f09ac7aa-9832-41e1-b363-7b1224c145ce"
      },
      "source": [
        "# KNN algorithm tuning\n",
        "scaler = StandardScaler().fit(X_train)\n",
        "rescaledX = scaler.transform(X_train)\n",
        "neighbors = [1,3,5,7,9,11,13,15,17,19,21]\n",
        "param_grid = dict(n_neighbors=neighbors)\n",
        "model = KNeighborsClassifier()\n",
        "kfold = KFold(n_splits=num_folds, random_state=seed, shuffle =True)\n",
        "grid = GridSearchCV(estimator=model, param_grid=param_grid, scoring=scoring, cv=kfold)\n",
        "grid_result = grid.fit(rescaledX, X_test)\n",
        "\n",
        "print(\"Best: %f using %s\" % (grid_result.best_score_, grid_result.best_params_))\n",
        "means = grid_result.cv_results_['mean_test_score']\n",
        "stds = grid_result.cv_results_['std_test_score']\n",
        "params = grid_result.cv_results_['params']\n",
        "ranks = grid_result.cv_results_['rank_test_score']\n",
        "for mean, stdev, param, rank in zip(means, stds, params, ranks):\n",
        "    print(\"#%d %f (%f) with: %r\" % (rank, mean, stdev, param))"
      ],
      "execution_count": 24,
      "outputs": [
        {
          "output_type": "stream",
          "text": [
            "Best: 0.998095 using {'n_neighbors': 1}\n",
            "#1 0.998095 (0.003810) with: {'n_neighbors': 1}\n",
            "#1 0.998095 (0.003810) with: {'n_neighbors': 3}\n",
            "#1 0.998095 (0.003810) with: {'n_neighbors': 5}\n",
            "#4 0.995247 (0.004753) with: {'n_neighbors': 7}\n",
            "#11 0.992390 (0.005711) with: {'n_neighbors': 9}\n",
            "#7 0.993342 (0.004359) with: {'n_neighbors': 11}\n",
            "#7 0.993342 (0.004359) with: {'n_neighbors': 13}\n",
            "#5 0.994295 (0.004658) with: {'n_neighbors': 15}\n",
            "#5 0.994295 (0.004658) with: {'n_neighbors': 17}\n",
            "#7 0.993342 (0.006094) with: {'n_neighbors': 19}\n",
            "#7 0.993342 (0.006094) with: {'n_neighbors': 21}\n"
          ],
          "name": "stdout"
        }
      ]
    },
    {
      "cell_type": "code",
      "metadata": {
        "id": "E049MzVJzOk5"
      },
      "source": [
        "# SVM algorithm tuning\n",
        "scaler = StandardScaler().fit(X_train)\n",
        "rescaledX = scaler.transform(X_train)\n",
        "c_values = [0.1, 0.3, 0.5, 0.7, 0.9, 1.0, 1.3, 1.5, 1.7, 2.0]\n",
        "kernel_values = ['linear', 'poly', 'rbf', 'sigmoid']\n",
        "param_grid = dict(C=c_values, kernel=kernel_values)\n",
        "model = SVC()\n",
        "kfold = KFold(n_splits=num_folds, random_state=seed, shuffle=True)\n",
        "grid = GridSearchCV(estimator=model, param_grid=param_grid, scoring=scoring, cv=kfold)\n",
        "grid_result = grid.fit(rescaledX, X_test)"
      ],
      "execution_count": 25,
      "outputs": []
    },
    {
      "cell_type": "code",
      "metadata": {
        "colab": {
          "base_uri": "https://localhost:8080/"
        },
        "id": "4rfyQPgSzTeJ",
        "outputId": "6e088fa9-a3d6-4e5c-f4b7-be0dd7076c04"
      },
      "source": [
        "print(\"Best: %f using %s\" % (grid_result.best_score_, grid_result.best_params_))\n",
        "means = grid_result.cv_results_['mean_test_score']\n",
        "stds = grid_result.cv_results_['std_test_score']\n",
        "params = grid_result.cv_results_['params']\n",
        "ranks = grid_result.cv_results_['rank_test_score']\n",
        "for mean, stdev, param, rank in zip(means, stds, params, ranks):\n",
        "    print(\"#%d %f (%f) with: %r\" % (rank, mean, stdev, param))"
      ],
      "execution_count": 26,
      "outputs": [
        {
          "output_type": "stream",
          "text": [
            "Best: 1.000000 using {'C': 1.5, 'kernel': 'rbf'}\n",
            "#27 0.990503 (0.009506) with: {'C': 0.1, 'kernel': 'linear'}\n",
            "#30 0.968598 (0.015970) with: {'C': 0.1, 'kernel': 'poly'}\n",
            "#9 0.995247 (0.004753) with: {'C': 0.1, 'kernel': 'rbf'}\n",
            "#31 0.880261 (0.033181) with: {'C': 0.1, 'kernel': 'sigmoid'}\n",
            "#11 0.992408 (0.007096) with: {'C': 0.3, 'kernel': 'linear'}\n",
            "#28 0.990494 (0.008498) with: {'C': 0.3, 'kernel': 'poly'}\n",
            "#9 0.995247 (0.004753) with: {'C': 0.3, 'kernel': 'rbf'}\n",
            "#32 0.845076 (0.032052) with: {'C': 0.3, 'kernel': 'sigmoid'}\n",
            "#11 0.992408 (0.007096) with: {'C': 0.5, 'kernel': 'linear'}\n",
            "#21 0.991447 (0.008964) with: {'C': 0.5, 'kernel': 'poly'}\n",
            "#8 0.997152 (0.004351) with: {'C': 0.5, 'kernel': 'rbf'}\n",
            "#33 0.826056 (0.032085) with: {'C': 0.5, 'kernel': 'sigmoid'}\n",
            "#11 0.992408 (0.007096) with: {'C': 0.7, 'kernel': 'linear'}\n",
            "#28 0.990494 (0.009506) with: {'C': 0.7, 'kernel': 'poly'}\n",
            "#5 0.998095 (0.003810) with: {'C': 0.7, 'kernel': 'rbf'}\n",
            "#34 0.816541 (0.030105) with: {'C': 0.7, 'kernel': 'sigmoid'}\n",
            "#11 0.992408 (0.007096) with: {'C': 0.9, 'kernel': 'linear'}\n",
            "#21 0.991447 (0.008964) with: {'C': 0.9, 'kernel': 'poly'}\n",
            "#5 0.998095 (0.003810) with: {'C': 0.9, 'kernel': 'rbf'}\n",
            "#35 0.809892 (0.035307) with: {'C': 0.9, 'kernel': 'sigmoid'}\n",
            "#11 0.992408 (0.007096) with: {'C': 1.0, 'kernel': 'linear'}\n",
            "#20 0.992399 (0.009310) with: {'C': 1.0, 'kernel': 'poly'}\n",
            "#5 0.998095 (0.003810) with: {'C': 1.0, 'kernel': 'rbf'}\n",
            "#35 0.809892 (0.035307) with: {'C': 1.0, 'kernel': 'sigmoid'}\n",
            "#11 0.992408 (0.007096) with: {'C': 1.3, 'kernel': 'linear'}\n",
            "#21 0.991447 (0.008964) with: {'C': 1.3, 'kernel': 'poly'}\n",
            "#4 0.999048 (0.002857) with: {'C': 1.3, 'kernel': 'rbf'}\n",
            "#37 0.805157 (0.030591) with: {'C': 1.3, 'kernel': 'sigmoid'}\n",
            "#11 0.992408 (0.007096) with: {'C': 1.5, 'kernel': 'linear'}\n",
            "#21 0.991447 (0.008964) with: {'C': 1.5, 'kernel': 'poly'}\n",
            "#1 1.000000 (0.000000) with: {'C': 1.5, 'kernel': 'rbf'}\n",
            "#38 0.804205 (0.033423) with: {'C': 1.5, 'kernel': 'sigmoid'}\n",
            "#11 0.992408 (0.007096) with: {'C': 1.7, 'kernel': 'linear'}\n",
            "#21 0.991447 (0.008964) with: {'C': 1.7, 'kernel': 'poly'}\n",
            "#1 1.000000 (0.000000) with: {'C': 1.7, 'kernel': 'rbf'}\n",
            "#38 0.804205 (0.033423) with: {'C': 1.7, 'kernel': 'sigmoid'}\n",
            "#11 0.992408 (0.007096) with: {'C': 2.0, 'kernel': 'linear'}\n",
            "#21 0.991447 (0.008964) with: {'C': 2.0, 'kernel': 'poly'}\n",
            "#1 1.000000 (0.000000) with: {'C': 2.0, 'kernel': 'rbf'}\n",
            "#40 0.803252 (0.032568) with: {'C': 2.0, 'kernel': 'sigmoid'}\n"
          ],
          "name": "stdout"
        }
      ]
    },
    {
      "cell_type": "markdown",
      "metadata": {
        "id": "geDUr2yczcIZ"
      },
      "source": [
        "## 4.4 Running the ML on best optimal parameters identified"
      ]
    },
    {
      "cell_type": "code",
      "metadata": {
        "colab": {
          "base_uri": "https://localhost:8080/"
        },
        "id": "XazRTzgyzcrS",
        "outputId": "94525716-e759-46ca-af66-85385b45bb87"
      },
      "source": [
        "## Preparing Model\n",
        "\n",
        "scaler = StandardScaler().fit(X_train)\n",
        "rescaledX = scaler.transform(X_train)\n",
        "model = SVC(C=1.5) # rbf is default kernel\n",
        "model.fit(rescaledX, X_test)"
      ],
      "execution_count": 27,
      "outputs": [
        {
          "output_type": "execute_result",
          "data": {
            "text/plain": [
              "SVC(C=1.5, break_ties=False, cache_size=200, class_weight=None, coef0=0.0,\n",
              "    decision_function_shape='ovr', degree=3, gamma='scale', kernel='rbf',\n",
              "    max_iter=-1, probability=False, random_state=None, shrinking=True,\n",
              "    tol=0.001, verbose=False)"
            ]
          },
          "metadata": {
            "tags": []
          },
          "execution_count": 27
        }
      ]
    },
    {
      "cell_type": "code",
      "metadata": {
        "colab": {
          "base_uri": "https://localhost:8080/"
        },
        "id": "tDE5na7tzpcb",
        "outputId": "0eddba93-1af4-4233-a99a-30204c819b46"
      },
      "source": [
        "# estimate accuracy on validation set\n",
        "rescaledValidationX = scaler.transform(Y_train)\n",
        "predictions = model.predict(rescaledValidationX)\n",
        "print(accuracy_score(Y_test, predictions))\n",
        "print(confusion_matrix(Y_test, predictions))\n",
        "print(classification_report(Y_test, predictions))"
      ],
      "execution_count": 29,
      "outputs": [
        {
          "output_type": "stream",
          "text": [
            "1.0\n",
            "[[152   0]\n",
            " [  0 111]]\n",
            "              precision    recall  f1-score   support\n",
            "\n",
            "           0       1.00      1.00      1.00       152\n",
            "           1       1.00      1.00      1.00       111\n",
            "\n",
            "    accuracy                           1.00       263\n",
            "   macro avg       1.00      1.00      1.00       263\n",
            "weighted avg       1.00      1.00      1.00       263\n",
            "\n"
          ],
          "name": "stdout"
        }
      ]
    },
    {
      "cell_type": "markdown",
      "metadata": {
        "id": "joWbyOsy0Oij"
      },
      "source": [
        "The accuracy on the validation set was 100%."
      ]
    },
    {
      "cell_type": "code",
      "metadata": {
        "colab": {
          "base_uri": "https://localhost:8080/"
        },
        "id": "dxtXOM_J0COy",
        "outputId": "35685dbd-9713-4de1-e60a-831033bbd421"
      },
      "source": [
        "some_date = X_train.iloc[0 : 6]\n",
        "some_labels = X_test.iloc[0:6]\n",
        "\n",
        "some_date_prepared = scaler.transform(some_date)\n",
        "\n",
        "print(\"Predictions:\", model.predict(some_date_prepared))\n",
        "print(\"Labels:\", list(some_labels))"
      ],
      "execution_count": 30,
      "outputs": [
        {
          "output_type": "stream",
          "text": [
            "Predictions: [0 1 0 0 1 0]\n",
            "Labels: [0, 1, 0, 0, 1, 0]\n"
          ],
          "name": "stdout"
        }
      ]
    }
  ]
}