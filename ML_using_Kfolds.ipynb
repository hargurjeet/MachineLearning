{
  "nbformat": 4,
  "nbformat_minor": 0,
  "metadata": {
    "colab": {
      "name": "ML using Kfolds.ipynb",
      "provenance": [],
      "authorship_tag": "ABX9TyPbjZJyoVB/iUngE1k10hq8",
      "include_colab_link": true
    },
    "kernelspec": {
      "name": "python3",
      "display_name": "Python 3"
    },
    "language_info": {
      "name": "python"
    }
  },
  "cells": [
    {
      "cell_type": "markdown",
      "metadata": {
        "id": "view-in-github",
        "colab_type": "text"
      },
      "source": [
        "<a href=\"https://colab.research.google.com/github/hargurjeet/MachineLearning/blob/master/ML_using_Kfolds.ipynb\" target=\"_parent\"><img src=\"https://colab.research.google.com/assets/colab-badge.svg\" alt=\"Open In Colab\"/></a>"
      ]
    },
    {
      "cell_type": "markdown",
      "metadata": {
        "id": "dWltVN05Xzn_"
      },
      "source": [
        "# Importing dataset from Kaggle"
      ]
    },
    {
      "cell_type": "code",
      "metadata": {
        "id": "eHBJPic_aJP6"
      },
      "source": [
        "!pip install opendatasets --upgrade --quiet"
      ],
      "execution_count": null,
      "outputs": []
    },
    {
      "cell_type": "code",
      "metadata": {
        "id": "5VAlfDGcaHpt"
      },
      "source": [
        "import numpy as np\n",
        "import pandas as pd\n",
        "import opendatasets as od\n",
        "from sklearn import model_selection"
      ],
      "execution_count": 10,
      "outputs": []
    },
    {
      "cell_type": "code",
      "metadata": {
        "colab": {
          "base_uri": "https://localhost:8080/"
        },
        "id": "609WIb-2_ZYC",
        "outputId": "c836ce0b-5cf8-4716-a05b-4d9091f6e571"
      },
      "source": [
        "od.download('https://www.kaggle.com/c/30-days-of-ml/data')"
      ],
      "execution_count": 4,
      "outputs": [
        {
          "output_type": "stream",
          "text": [
            "Please provide your Kaggle credentials to download this dataset. Learn more: http://bit.ly/kaggle-creds\n",
            "Your Kaggle username: hargurjeet\n",
            "Your Kaggle Key: ··········\n",
            "Downloading 30-days-of-ml.zip to ./30-days-of-ml\n"
          ],
          "name": "stdout"
        },
        {
          "output_type": "stream",
          "text": [
            "100%|██████████| 66.0M/66.0M [00:00<00:00, 127MB/s]\n"
          ],
          "name": "stderr"
        },
        {
          "output_type": "stream",
          "text": [
            "\n",
            "Extracting archive ./30-days-of-ml/30-days-of-ml.zip to ./30-days-of-ml\n"
          ],
          "name": "stdout"
        }
      ]
    },
    {
      "cell_type": "markdown",
      "metadata": {
        "id": "C1yy-FdfZ0iz"
      },
      "source": [
        "# Splitting the data to kfold"
      ]
    },
    {
      "cell_type": "code",
      "metadata": {
        "id": "OW5dWcGtZJqm"
      },
      "source": [
        "df_train = pd.read_csv(\"/content/30-days-of-ml/train.csv\")"
      ],
      "execution_count": 45,
      "outputs": []
    },
    {
      "cell_type": "code",
      "metadata": {
        "id": "cs6dyTqUaWd8"
      },
      "source": [
        "df_train[\"kfold\"] = -1"
      ],
      "execution_count": 46,
      "outputs": []
    },
    {
      "cell_type": "code",
      "metadata": {
        "id": "bDLZlQnpaXQl"
      },
      "source": [
        "kf = model_selection.KFold(n_splits=5, shuffle=True, random_state=42)\n",
        "for fold, (train_indicies, valid_indicies) in enumerate(kf.split(X=df_train)):\n",
        "    df_train.loc[valid_indicies, \"kfold\"] = fold"
      ],
      "execution_count": 47,
      "outputs": []
    },
    {
      "cell_type": "code",
      "metadata": {
        "colab": {
          "base_uri": "https://localhost:8080/",
          "height": 224
        },
        "id": "83YvY5HTiur4",
        "outputId": "51953477-f3b7-494a-86e2-66a6cb37d22c"
      },
      "source": [
        "df_train.sample(5)"
      ],
      "execution_count": 52,
      "outputs": [
        {
          "output_type": "execute_result",
          "data": {
            "text/html": [
              "<div>\n",
              "<style scoped>\n",
              "    .dataframe tbody tr th:only-of-type {\n",
              "        vertical-align: middle;\n",
              "    }\n",
              "\n",
              "    .dataframe tbody tr th {\n",
              "        vertical-align: top;\n",
              "    }\n",
              "\n",
              "    .dataframe thead th {\n",
              "        text-align: right;\n",
              "    }\n",
              "</style>\n",
              "<table border=\"1\" class=\"dataframe\">\n",
              "  <thead>\n",
              "    <tr style=\"text-align: right;\">\n",
              "      <th></th>\n",
              "      <th>id</th>\n",
              "      <th>cat0</th>\n",
              "      <th>cat1</th>\n",
              "      <th>cat2</th>\n",
              "      <th>cat3</th>\n",
              "      <th>cat4</th>\n",
              "      <th>cat5</th>\n",
              "      <th>cat6</th>\n",
              "      <th>cat7</th>\n",
              "      <th>cat8</th>\n",
              "      <th>cat9</th>\n",
              "      <th>cont0</th>\n",
              "      <th>cont1</th>\n",
              "      <th>cont2</th>\n",
              "      <th>cont3</th>\n",
              "      <th>cont4</th>\n",
              "      <th>cont5</th>\n",
              "      <th>cont6</th>\n",
              "      <th>cont7</th>\n",
              "      <th>cont8</th>\n",
              "      <th>cont9</th>\n",
              "      <th>cont10</th>\n",
              "      <th>cont11</th>\n",
              "      <th>cont12</th>\n",
              "      <th>cont13</th>\n",
              "      <th>target</th>\n",
              "      <th>kfold</th>\n",
              "    </tr>\n",
              "  </thead>\n",
              "  <tbody>\n",
              "    <tr>\n",
              "      <th>180612</th>\n",
              "      <td>301182</td>\n",
              "      <td>B</td>\n",
              "      <td>B</td>\n",
              "      <td>A</td>\n",
              "      <td>A</td>\n",
              "      <td>B</td>\n",
              "      <td>B</td>\n",
              "      <td>A</td>\n",
              "      <td>E</td>\n",
              "      <td>C</td>\n",
              "      <td>F</td>\n",
              "      <td>0.424574</td>\n",
              "      <td>0.425265</td>\n",
              "      <td>0.288815</td>\n",
              "      <td>0.299603</td>\n",
              "      <td>0.905591</td>\n",
              "      <td>0.403610</td>\n",
              "      <td>0.603136</td>\n",
              "      <td>0.285114</td>\n",
              "      <td>0.259144</td>\n",
              "      <td>0.681920</td>\n",
              "      <td>0.171736</td>\n",
              "      <td>0.346228</td>\n",
              "      <td>0.219408</td>\n",
              "      <td>0.494149</td>\n",
              "      <td>7.125354</td>\n",
              "      <td>0</td>\n",
              "    </tr>\n",
              "    <tr>\n",
              "      <th>152515</th>\n",
              "      <td>254225</td>\n",
              "      <td>A</td>\n",
              "      <td>A</td>\n",
              "      <td>A</td>\n",
              "      <td>C</td>\n",
              "      <td>B</td>\n",
              "      <td>B</td>\n",
              "      <td>A</td>\n",
              "      <td>E</td>\n",
              "      <td>C</td>\n",
              "      <td>I</td>\n",
              "      <td>0.469408</td>\n",
              "      <td>0.418555</td>\n",
              "      <td>0.727808</td>\n",
              "      <td>0.274424</td>\n",
              "      <td>0.491125</td>\n",
              "      <td>0.141452</td>\n",
              "      <td>0.481424</td>\n",
              "      <td>0.869121</td>\n",
              "      <td>0.258237</td>\n",
              "      <td>0.290514</td>\n",
              "      <td>0.272234</td>\n",
              "      <td>0.556597</td>\n",
              "      <td>0.605068</td>\n",
              "      <td>0.458564</td>\n",
              "      <td>8.787194</td>\n",
              "      <td>4</td>\n",
              "    </tr>\n",
              "    <tr>\n",
              "      <th>239451</th>\n",
              "      <td>399317</td>\n",
              "      <td>A</td>\n",
              "      <td>B</td>\n",
              "      <td>A</td>\n",
              "      <td>C</td>\n",
              "      <td>B</td>\n",
              "      <td>D</td>\n",
              "      <td>A</td>\n",
              "      <td>E</td>\n",
              "      <td>C</td>\n",
              "      <td>J</td>\n",
              "      <td>0.771602</td>\n",
              "      <td>0.260283</td>\n",
              "      <td>0.054124</td>\n",
              "      <td>0.310650</td>\n",
              "      <td>0.285691</td>\n",
              "      <td>0.696135</td>\n",
              "      <td>0.582873</td>\n",
              "      <td>0.496103</td>\n",
              "      <td>0.121963</td>\n",
              "      <td>0.593459</td>\n",
              "      <td>0.450313</td>\n",
              "      <td>0.346291</td>\n",
              "      <td>0.840787</td>\n",
              "      <td>0.442029</td>\n",
              "      <td>8.840280</td>\n",
              "      <td>2</td>\n",
              "    </tr>\n",
              "    <tr>\n",
              "      <th>198798</th>\n",
              "      <td>331500</td>\n",
              "      <td>A</td>\n",
              "      <td>A</td>\n",
              "      <td>B</td>\n",
              "      <td>C</td>\n",
              "      <td>B</td>\n",
              "      <td>B</td>\n",
              "      <td>A</td>\n",
              "      <td>E</td>\n",
              "      <td>E</td>\n",
              "      <td>I</td>\n",
              "      <td>0.436875</td>\n",
              "      <td>0.364887</td>\n",
              "      <td>0.531707</td>\n",
              "      <td>0.594590</td>\n",
              "      <td>0.473787</td>\n",
              "      <td>0.399627</td>\n",
              "      <td>0.156658</td>\n",
              "      <td>0.840842</td>\n",
              "      <td>0.347336</td>\n",
              "      <td>0.317794</td>\n",
              "      <td>0.066265</td>\n",
              "      <td>0.286467</td>\n",
              "      <td>0.402870</td>\n",
              "      <td>0.796672</td>\n",
              "      <td>7.886309</td>\n",
              "      <td>4</td>\n",
              "    </tr>\n",
              "    <tr>\n",
              "      <th>174752</th>\n",
              "      <td>291379</td>\n",
              "      <td>A</td>\n",
              "      <td>A</td>\n",
              "      <td>A</td>\n",
              "      <td>A</td>\n",
              "      <td>B</td>\n",
              "      <td>B</td>\n",
              "      <td>A</td>\n",
              "      <td>E</td>\n",
              "      <td>G</td>\n",
              "      <td>C</td>\n",
              "      <td>0.399640</td>\n",
              "      <td>0.005195</td>\n",
              "      <td>0.620999</td>\n",
              "      <td>0.138845</td>\n",
              "      <td>0.287439</td>\n",
              "      <td>0.285327</td>\n",
              "      <td>0.843390</td>\n",
              "      <td>0.351287</td>\n",
              "      <td>0.271202</td>\n",
              "      <td>0.360853</td>\n",
              "      <td>0.535909</td>\n",
              "      <td>0.549679</td>\n",
              "      <td>0.167316</td>\n",
              "      <td>0.231910</td>\n",
              "      <td>6.968845</td>\n",
              "      <td>2</td>\n",
              "    </tr>\n",
              "  </tbody>\n",
              "</table>\n",
              "</div>"
            ],
            "text/plain": [
              "            id cat0 cat1 cat2  ...    cont12    cont13    target kfold\n",
              "180612  301182    B    B    A  ...  0.219408  0.494149  7.125354     0\n",
              "152515  254225    A    A    A  ...  0.605068  0.458564  8.787194     4\n",
              "239451  399317    A    B    A  ...  0.840787  0.442029  8.840280     2\n",
              "198798  331500    A    A    B  ...  0.402870  0.796672  7.886309     4\n",
              "174752  291379    A    A    A  ...  0.167316  0.231910  6.968845     2\n",
              "\n",
              "[5 rows x 27 columns]"
            ]
          },
          "metadata": {},
          "execution_count": 52
        }
      ]
    },
    {
      "cell_type": "code",
      "metadata": {
        "colab": {
          "base_uri": "https://localhost:8080/"
        },
        "id": "AR5EmnpAk6qX",
        "outputId": "966e9cd0-5a71-4591-e543-d2977a654ebd"
      },
      "source": [
        "df_train.kfold.value_counts()"
      ],
      "execution_count": 53,
      "outputs": [
        {
          "output_type": "execute_result",
          "data": {
            "text/plain": [
              "4    60000\n",
              "3    60000\n",
              "2    60000\n",
              "1    60000\n",
              "0    60000\n",
              "Name: kfold, dtype: int64"
            ]
          },
          "metadata": {},
          "execution_count": 53
        }
      ]
    },
    {
      "cell_type": "code",
      "metadata": {
        "id": "t80h8NJoad60"
      },
      "source": [
        "df_train.to_csv(\"train_folds.csv\", index=False)"
      ],
      "execution_count": 48,
      "outputs": []
    },
    {
      "cell_type": "code",
      "metadata": {
        "id": "nyXJredkiwcS"
      },
      "source": [
        ""
      ],
      "execution_count": null,
      "outputs": []
    }
  ]
}