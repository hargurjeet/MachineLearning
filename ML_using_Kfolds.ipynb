{
  "nbformat": 4,
  "nbformat_minor": 0,
  "metadata": {
    "colab": {
      "name": "ML using Kfolds.ipynb",
      "provenance": [],
      "authorship_tag": "ABX9TyNM4JiMCXKBzzMer7upLCjh",
      "include_colab_link": true
    },
    "kernelspec": {
      "name": "python3",
      "display_name": "Python 3"
    },
    "language_info": {
      "name": "python"
    }
  },
  "cells": [
    {
      "cell_type": "markdown",
      "metadata": {
        "id": "view-in-github",
        "colab_type": "text"
      },
      "source": [
        "<a href=\"https://colab.research.google.com/github/hargurjeet/MachineLearning/blob/master/ML_using_Kfolds.ipynb\" target=\"_parent\"><img src=\"https://colab.research.google.com/assets/colab-badge.svg\" alt=\"Open In Colab\"/></a>"
      ]
    },
    {
      "cell_type": "markdown",
      "metadata": {
        "id": "dWltVN05Xzn_"
      },
      "source": [
        "# Importing dataset from Kaggle"
      ]
    },
    {
      "cell_type": "markdown",
      "metadata": {
        "id": "OfUfDgdkOEru"
      },
      "source": [
        ""
      ]
    },
    {
      "cell_type": "code",
      "metadata": {
        "id": "eHBJPic_aJP6"
      },
      "source": [
        "!pip install opendatasets --upgrade --quiet"
      ],
      "execution_count": 1,
      "outputs": []
    },
    {
      "cell_type": "code",
      "metadata": {
        "id": "5VAlfDGcaHpt"
      },
      "source": [
        "import numpy as np\n",
        "import pandas as pd\n",
        "import opendatasets as od\n",
        "from sklearn import model_selection\n",
        "\n",
        "from sklearn.preprocessing import OrdinalEncoder\n",
        "from sklearn.preprocessing import OneHotEncoder\n",
        "from sklearn.preprocessing import StandardScaler\n",
        "\n",
        "from sklearn.ensemble import RandomForestRegressor\n",
        "from sklearn.metrics import mean_squared_error"
      ],
      "execution_count": 14,
      "outputs": []
    },
    {
      "cell_type": "code",
      "metadata": {
        "colab": {
          "base_uri": "https://localhost:8080/"
        },
        "id": "609WIb-2_ZYC",
        "outputId": "a9060a84-795b-40c7-cd1f-d5c11f94973c"
      },
      "source": [
        "od.download('https://www.kaggle.com/c/30-days-of-ml/data')"
      ],
      "execution_count": 3,
      "outputs": [
        {
          "output_type": "stream",
          "text": [
            "Please provide your Kaggle credentials to download this dataset. Learn more: http://bit.ly/kaggle-creds\n",
            "Your Kaggle username: hargurjeet\n",
            "Your Kaggle Key: ··········\n",
            "Downloading 30-days-of-ml.zip to ./30-days-of-ml\n"
          ],
          "name": "stdout"
        },
        {
          "output_type": "stream",
          "text": [
            "100%|██████████| 66.0M/66.0M [00:00<00:00, 116MB/s]\n"
          ],
          "name": "stderr"
        },
        {
          "output_type": "stream",
          "text": [
            "\n",
            "Extracting archive ./30-days-of-ml/30-days-of-ml.zip to ./30-days-of-ml\n"
          ],
          "name": "stdout"
        }
      ]
    },
    {
      "cell_type": "markdown",
      "metadata": {
        "id": "C1yy-FdfZ0iz"
      },
      "source": [
        "# Splitting the data to kfold"
      ]
    },
    {
      "cell_type": "code",
      "metadata": {
        "id": "OW5dWcGtZJqm"
      },
      "source": [
        "train_fold = pd.read_csv(\"/content/30-days-of-ml/train.csv\")\n",
        "\n",
        "test = pd.read_csv(\"/content/30-days-of-ml/test.csv\", index_col=0)"
      ],
      "execution_count": 4,
      "outputs": []
    },
    {
      "cell_type": "code",
      "metadata": {
        "id": "cs6dyTqUaWd8"
      },
      "source": [
        "train_fold[\"kfold\"] = -1"
      ],
      "execution_count": 5,
      "outputs": []
    },
    {
      "cell_type": "code",
      "metadata": {
        "id": "bDLZlQnpaXQl"
      },
      "source": [
        "kf = model_selection.KFold(n_splits=5, shuffle=True, random_state=42)\n",
        "for fold, (train_indicies, valid_indicies) in enumerate(kf.split(X=train_fold)):\n",
        "    train_fold.loc[valid_indicies, \"kfold\"] = fold"
      ],
      "execution_count": 7,
      "outputs": []
    },
    {
      "cell_type": "code",
      "metadata": {
        "colab": {
          "base_uri": "https://localhost:8080/",
          "height": 224
        },
        "id": "83YvY5HTiur4",
        "outputId": "b0b637be-009b-486f-cac1-6416fdba0d7f"
      },
      "source": [
        "train_fold.sample(5)"
      ],
      "execution_count": 8,
      "outputs": [
        {
          "output_type": "execute_result",
          "data": {
            "text/html": [
              "<div>\n",
              "<style scoped>\n",
              "    .dataframe tbody tr th:only-of-type {\n",
              "        vertical-align: middle;\n",
              "    }\n",
              "\n",
              "    .dataframe tbody tr th {\n",
              "        vertical-align: top;\n",
              "    }\n",
              "\n",
              "    .dataframe thead th {\n",
              "        text-align: right;\n",
              "    }\n",
              "</style>\n",
              "<table border=\"1\" class=\"dataframe\">\n",
              "  <thead>\n",
              "    <tr style=\"text-align: right;\">\n",
              "      <th></th>\n",
              "      <th>id</th>\n",
              "      <th>cat0</th>\n",
              "      <th>cat1</th>\n",
              "      <th>cat2</th>\n",
              "      <th>cat3</th>\n",
              "      <th>cat4</th>\n",
              "      <th>cat5</th>\n",
              "      <th>cat6</th>\n",
              "      <th>cat7</th>\n",
              "      <th>cat8</th>\n",
              "      <th>cat9</th>\n",
              "      <th>cont0</th>\n",
              "      <th>cont1</th>\n",
              "      <th>cont2</th>\n",
              "      <th>cont3</th>\n",
              "      <th>cont4</th>\n",
              "      <th>cont5</th>\n",
              "      <th>cont6</th>\n",
              "      <th>cont7</th>\n",
              "      <th>cont8</th>\n",
              "      <th>cont9</th>\n",
              "      <th>cont10</th>\n",
              "      <th>cont11</th>\n",
              "      <th>cont12</th>\n",
              "      <th>cont13</th>\n",
              "      <th>target</th>\n",
              "      <th>kfold</th>\n",
              "    </tr>\n",
              "  </thead>\n",
              "  <tbody>\n",
              "    <tr>\n",
              "      <th>208250</th>\n",
              "      <td>347303</td>\n",
              "      <td>B</td>\n",
              "      <td>B</td>\n",
              "      <td>B</td>\n",
              "      <td>C</td>\n",
              "      <td>B</td>\n",
              "      <td>B</td>\n",
              "      <td>A</td>\n",
              "      <td>E</td>\n",
              "      <td>C</td>\n",
              "      <td>H</td>\n",
              "      <td>0.393696</td>\n",
              "      <td>0.562602</td>\n",
              "      <td>0.522218</td>\n",
              "      <td>0.520174</td>\n",
              "      <td>0.535155</td>\n",
              "      <td>0.362196</td>\n",
              "      <td>0.177250</td>\n",
              "      <td>0.368204</td>\n",
              "      <td>0.387330</td>\n",
              "      <td>0.550739</td>\n",
              "      <td>0.165794</td>\n",
              "      <td>0.301234</td>\n",
              "      <td>0.448767</td>\n",
              "      <td>0.773407</td>\n",
              "      <td>7.264243</td>\n",
              "      <td>4</td>\n",
              "    </tr>\n",
              "    <tr>\n",
              "      <th>210259</th>\n",
              "      <td>350691</td>\n",
              "      <td>A</td>\n",
              "      <td>B</td>\n",
              "      <td>A</td>\n",
              "      <td>C</td>\n",
              "      <td>B</td>\n",
              "      <td>B</td>\n",
              "      <td>A</td>\n",
              "      <td>E</td>\n",
              "      <td>C</td>\n",
              "      <td>A</td>\n",
              "      <td>0.544822</td>\n",
              "      <td>-0.053964</td>\n",
              "      <td>0.325364</td>\n",
              "      <td>0.363256</td>\n",
              "      <td>0.518960</td>\n",
              "      <td>0.397304</td>\n",
              "      <td>0.425360</td>\n",
              "      <td>0.345051</td>\n",
              "      <td>0.300312</td>\n",
              "      <td>0.357744</td>\n",
              "      <td>0.078063</td>\n",
              "      <td>0.283843</td>\n",
              "      <td>0.392208</td>\n",
              "      <td>0.475412</td>\n",
              "      <td>6.942858</td>\n",
              "      <td>2</td>\n",
              "    </tr>\n",
              "    <tr>\n",
              "      <th>239472</th>\n",
              "      <td>399345</td>\n",
              "      <td>A</td>\n",
              "      <td>A</td>\n",
              "      <td>A</td>\n",
              "      <td>C</td>\n",
              "      <td>B</td>\n",
              "      <td>D</td>\n",
              "      <td>A</td>\n",
              "      <td>E</td>\n",
              "      <td>A</td>\n",
              "      <td>F</td>\n",
              "      <td>0.743977</td>\n",
              "      <td>0.259932</td>\n",
              "      <td>0.954038</td>\n",
              "      <td>0.719666</td>\n",
              "      <td>0.285062</td>\n",
              "      <td>0.583169</td>\n",
              "      <td>0.436949</td>\n",
              "      <td>0.864470</td>\n",
              "      <td>0.924444</td>\n",
              "      <td>0.856345</td>\n",
              "      <td>0.687544</td>\n",
              "      <td>0.498958</td>\n",
              "      <td>0.782183</td>\n",
              "      <td>0.788264</td>\n",
              "      <td>7.790929</td>\n",
              "      <td>4</td>\n",
              "    </tr>\n",
              "    <tr>\n",
              "      <th>285289</th>\n",
              "      <td>475509</td>\n",
              "      <td>B</td>\n",
              "      <td>B</td>\n",
              "      <td>B</td>\n",
              "      <td>C</td>\n",
              "      <td>B</td>\n",
              "      <td>B</td>\n",
              "      <td>A</td>\n",
              "      <td>E</td>\n",
              "      <td>E</td>\n",
              "      <td>O</td>\n",
              "      <td>0.082274</td>\n",
              "      <td>0.350819</td>\n",
              "      <td>0.422431</td>\n",
              "      <td>0.312285</td>\n",
              "      <td>0.530356</td>\n",
              "      <td>0.454539</td>\n",
              "      <td>0.677573</td>\n",
              "      <td>0.318044</td>\n",
              "      <td>0.373369</td>\n",
              "      <td>0.279686</td>\n",
              "      <td>0.090899</td>\n",
              "      <td>0.423850</td>\n",
              "      <td>0.567382</td>\n",
              "      <td>0.474096</td>\n",
              "      <td>8.259257</td>\n",
              "      <td>1</td>\n",
              "    </tr>\n",
              "    <tr>\n",
              "      <th>72601</th>\n",
              "      <td>120813</td>\n",
              "      <td>B</td>\n",
              "      <td>B</td>\n",
              "      <td>A</td>\n",
              "      <td>C</td>\n",
              "      <td>B</td>\n",
              "      <td>B</td>\n",
              "      <td>A</td>\n",
              "      <td>E</td>\n",
              "      <td>C</td>\n",
              "      <td>F</td>\n",
              "      <td>0.500508</td>\n",
              "      <td>0.354153</td>\n",
              "      <td>0.543730</td>\n",
              "      <td>0.252242</td>\n",
              "      <td>0.286714</td>\n",
              "      <td>0.375897</td>\n",
              "      <td>0.353673</td>\n",
              "      <td>0.311817</td>\n",
              "      <td>0.315228</td>\n",
              "      <td>0.399464</td>\n",
              "      <td>0.368156</td>\n",
              "      <td>0.170242</td>\n",
              "      <td>0.554146</td>\n",
              "      <td>0.367345</td>\n",
              "      <td>9.105533</td>\n",
              "      <td>2</td>\n",
              "    </tr>\n",
              "  </tbody>\n",
              "</table>\n",
              "</div>"
            ],
            "text/plain": [
              "            id cat0 cat1 cat2  ...    cont12    cont13    target kfold\n",
              "208250  347303    B    B    B  ...  0.448767  0.773407  7.264243     4\n",
              "210259  350691    A    B    A  ...  0.392208  0.475412  6.942858     2\n",
              "239472  399345    A    A    A  ...  0.782183  0.788264  7.790929     4\n",
              "285289  475509    B    B    B  ...  0.567382  0.474096  8.259257     1\n",
              "72601   120813    B    B    A  ...  0.554146  0.367345  9.105533     2\n",
              "\n",
              "[5 rows x 27 columns]"
            ]
          },
          "metadata": {},
          "execution_count": 8
        }
      ]
    },
    {
      "cell_type": "code",
      "metadata": {
        "colab": {
          "base_uri": "https://localhost:8080/"
        },
        "id": "AR5EmnpAk6qX",
        "outputId": "5f9cd99b-3a42-412d-b894-d6d51912ea3e"
      },
      "source": [
        "train_fold.kfold.value_counts()"
      ],
      "execution_count": 9,
      "outputs": [
        {
          "output_type": "execute_result",
          "data": {
            "text/plain": [
              "4    60000\n",
              "3    60000\n",
              "2    60000\n",
              "1    60000\n",
              "0    60000\n",
              "Name: kfold, dtype: int64"
            ]
          },
          "metadata": {},
          "execution_count": 9
        }
      ]
    },
    {
      "cell_type": "code",
      "metadata": {
        "id": "t80h8NJoad60"
      },
      "source": [
        "train_fold.to_csv(\"train_folds.csv\", index=False)"
      ],
      "execution_count": null,
      "outputs": []
    },
    {
      "cell_type": "markdown",
      "metadata": {
        "id": "-QHsTMLumlc3"
      },
      "source": [
        "# Implementing Kfold on Random forests"
      ]
    },
    {
      "cell_type": "code",
      "metadata": {
        "colab": {
          "base_uri": "https://localhost:8080/"
        },
        "id": "q-2xzQ2rNI23",
        "outputId": "1785cdbe-3f87-493c-813d-b3ac8510af90"
      },
      "source": [
        "numeric_cols"
      ],
      "execution_count": 12,
      "outputs": [
        {
          "output_type": "execute_result",
          "data": {
            "text/plain": [
              "['id',\n",
              " 'cont0',\n",
              " 'cont1',\n",
              " 'cont2',\n",
              " 'cont3',\n",
              " 'cont4',\n",
              " 'cont5',\n",
              " 'cont6',\n",
              " 'cont7',\n",
              " 'cont8',\n",
              " 'cont9',\n",
              " 'cont10',\n",
              " 'cont11',\n",
              " 'cont12',\n",
              " 'cont13',\n",
              " 'target',\n",
              " 'kfold']"
            ]
          },
          "metadata": {},
          "execution_count": 12
        }
      ]
    },
    {
      "cell_type": "code",
      "metadata": {
        "colab": {
          "base_uri": "https://localhost:8080/"
        },
        "id": "nyXJredkiwcS",
        "outputId": "dcc86870-8d70-4cca-d995-724c2fed8a78"
      },
      "source": [
        "useful_features = [cname for cname in train_fold.columns if cname not in ['id','target','kfold' ]]\n",
        "numeric_cols = [cname for cname in train_fold.columns if train_fold[cname].dtype in ['int64', 'float64'] and cname not in ['id','target','kfold' ]]\n",
        "object_cols = [cname for cname in train_fold.columns if train_fold[cname].dtype in ['object']]\n",
        "\n",
        "final_predictions = []\n",
        "scores = []\n",
        "for fold in range(5):\n",
        "    xtrain = train_fold[train_fold.kfold != fold].reset_index(drop=True)\n",
        "    xvalid = train_fold[train_fold.kfold == fold].reset_index(drop=True)\n",
        "    xtest = test.copy()\n",
        "\n",
        "    ytrain = xtrain.target\n",
        "    yvalid = xvalid.target\n",
        "    \n",
        "    xtrain = xtrain[useful_features]\n",
        "    xvalid = xvalid[useful_features]\n",
        "    \n",
        "    ordinal_encoder = OrdinalEncoder()\n",
        "    xtrain[object_cols] = ordinal_encoder.fit_transform(xtrain[object_cols])\n",
        "    xvalid[object_cols] = ordinal_encoder.transform(xvalid[object_cols])\n",
        "    xtest[object_cols] = ordinal_encoder.transform(xtest[object_cols])\n",
        "    \n",
        "    scaler = StandardScaler()\n",
        "    xtrain[numeric_cols] = scaler.fit_transform(xtrain[numeric_cols])\n",
        "    xvalid[numeric_cols] = scaler.transform(xvalid[numeric_cols])\n",
        "    xtest[numeric_cols] = scaler.transform(xtest[numeric_cols])\n",
        "\n",
        "    model = RandomForestRegressor(n_estimators=10, random_state=42)\n",
        "    # model = XGBRegressor(random_state=fold)\n",
        "    model.fit(xtrain, ytrain)\n",
        "    preds_valid = model.predict(xvalid)\n",
        "    test_preds = model.predict(xtest)\n",
        "    final_predictions.append(test_preds)\n",
        "    rmse = mean_squared_error(yvalid, preds_valid, squared=False)\n",
        "    print(fold, rmse)\n",
        "    scores.append(rmse)\n",
        "    \n",
        "print(np.mean(scores), np.std(scores))"
      ],
      "execution_count": null,
      "outputs": [
        {
          "output_type": "stream",
          "text": [
            "0 0.770165644079102\n",
            "1 0.7693716515494292\n",
            "2 0.7718354497330934\n"
          ],
          "name": "stdout"
        }
      ]
    },
    {
      "cell_type": "code",
      "metadata": {
        "id": "E5ZONn41poP6"
      },
      "source": [
        "final_predictions"
      ],
      "execution_count": null,
      "outputs": []
    },
    {
      "cell_type": "code",
      "metadata": {
        "id": "epcgZ6rTN5eJ"
      },
      "source": [
        "predictions = np.mean(np.column_stack(final_predictions), axis=1)"
      ],
      "execution_count": null,
      "outputs": []
    }
  ]
}