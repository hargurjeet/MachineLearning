{
  "nbformat": 4,
  "nbformat_minor": 0,
  "metadata": {
    "colab": {
      "name": "Used Car Quality Detection.ipynb",
      "provenance": [],
      "toc_visible": true,
      "authorship_tag": "ABX9TyMscyu9QNjLoDAdAw1Jy03B",
      "include_colab_link": true
    },
    "kernelspec": {
      "name": "python3",
      "display_name": "Python 3"
    },
    "language_info": {
      "name": "python"
    }
  },
  "cells": [
    {
      "cell_type": "markdown",
      "metadata": {
        "id": "view-in-github",
        "colab_type": "text"
      },
      "source": [
        "<a href=\"https://colab.research.google.com/github/hargurjeet/MachineLearning/blob/master/Used_Car_Quality_Detection.ipynb\" target=\"_parent\"><img src=\"https://colab.research.google.com/assets/colab-badge.svg\" alt=\"Open In Colab\"/></a>"
      ]
    },
    {
      "cell_type": "markdown",
      "metadata": {
        "id": "Vdpz77FmwQRF"
      },
      "source": [
        "# **Car Quality Detection by XBboost and Random Forests**"
      ]
    },
    {
      "cell_type": "markdown",
      "metadata": {
        "id": "mK3oibLQwrvy"
      },
      "source": [
        "Machine learning is the science of getting computers to act without being explicitly programmed. In the past decade, machine learning has given us self-driving cars, practical speech recognition, effective web search, and a vastly improved understanding of the human genome. Machine learning is so pervasive today that you probably use it dozens of times a day without knowing it. In this notebook I implement two of the most known machine learning algorthim to predict the quality of a car."
      ]
    },
    {
      "cell_type": "markdown",
      "metadata": {
        "id": "E23u3dNcxR5i"
      },
      "source": [
        "# **Table Of Contents**<a name=\"top\"></a>\n",
        "\n",
        "\n",
        "---\n",
        "\n",
        "\n",
        "\n",
        "---\n",
        "\n",
        "\n",
        "  1. [About the Dataset](#1)\n",
        "  2. [Loading the dataset Preprocessing](#2)\n",
        "  3. [Expainatory Data Analysis](#3)\n",
        "  4. [Feature Engineering](#4)\n",
        "  5. [Data Cleaning and Pipelines Implementation](#5)\n",
        "  6. [Implemneting Random Forest](#6)\n",
        "  7. [Hyperparameterization - Random Forest](#7)\n",
        "  8. [Implemneting XBboost Forest](#8)\n",
        "  9. [Sample Prediction and saving the model](#9)\n",
        "  10. [Summary](#10)\n",
        "  11. [Future Work](#11)\n",
        "  12. [References](#12)"
      ]
    },
    {
      "cell_type": "markdown",
      "metadata": {
        "id": "c0AddVA8xhJi"
      },
      "source": [
        "# 1: AboutDataset <a name=\"1\"></a>\n",
        "\n",
        "\n",
        "---\n",
        "<a href=\"#top\" class=\"btn btn-primary btn-sm\" role=\"button\" aria-pressed=\"true\" style=\"color:white\" data-toggle=\"popover\">Go to TOC</a> "
      ]
    },
    {
      "cell_type": "markdown",
      "metadata": {
        "id": "1u2kf9DbyAWN"
      },
      "source": [
        "One of the biggest challenges of an auto dealership purchasing a used car at an auto auction is the risk of that the vehicle might have serious issues that prevent it from being sold to customers. The auto community calls these unfortunate purchases \"kicks\".\n",
        "\n",
        "Kicked cars often result when there are tampered odometers, mechanical issues the dealer is not able to address, issues with getting the vehicle title from the seller, or some other unforeseen problem. Kick cars can be very costly to dealers after transportation cost, throw-away repair work, and market losses in reselling the vehicle.\n",
        "\n",
        "Modelers who can figure out which cars have a higher risk of being kick can provide real value to dealerships trying to provide the best inventory selection possible to their customers.\n",
        "\n",
        "The challenge of this competition is to predict if the car purchased at the Auction is a Kick (bad buy).\n",
        "\n",
        "- The challenge of this competition is to predict if the car purchased at the Auction is a good / bad buy.\n",
        "- All the variables in the data set are defined in the file Carvana_Data_Dictionary.txt \n",
        "- The data contains missing values \n",
        "- The dependent variable (IsBadBuy) is binary (C2)\n",
        "- There are 32 Independent variables (C3-C34)\n",
        "- The data set is split to 60% training and 40% testing."
      ]
    },
    {
      "cell_type": "markdown",
      "metadata": {
        "id": "fx_dbCpoyA_F"
      },
      "source": [
        "# 2: Loading the dataset Preprocessing <a name=\"2\"></a>\n",
        "\n",
        "\n",
        "---\n",
        "<a href=\"#top\" class=\"btn btn-primary btn-sm\" role=\"button\" aria-pressed=\"true\" style=\"color:white\" data-toggle=\"popover\">Go to TOC</a> "
      ]
    },
    {
      "cell_type": "markdown",
      "metadata": {
        "id": "7JW0cqebc_CE"
      },
      "source": [
        "Downloading all the required python packages to get started, also imported all the required libraries"
      ]
    },
    {
      "cell_type": "code",
      "metadata": {
        "id": "8D4TWeEDUB3V",
        "colab": {
          "base_uri": "https://localhost:8080/"
        },
        "outputId": "5ffe0375-f1e1-460c-ecbf-eaf50b6973b0"
      },
      "source": [
        "!pip install numpy pandas matplotlib seaborn --quiet\n",
        "!pip install jovian opendatasets xgboost graphviz lightgbm scikit-learn xgboost lightgbm --upgrade --quiet"
      ],
      "execution_count": 1,
      "outputs": [
        {
          "output_type": "stream",
          "text": [
            "\u001b[K     |████████████████████████████████| 68 kB 2.8 MB/s \n",
            "\u001b[K     |████████████████████████████████| 166.7 MB 8.5 kB/s \n",
            "\u001b[K     |████████████████████████████████| 2.0 MB 35.9 MB/s \n",
            "\u001b[K     |████████████████████████████████| 22.3 MB 1.4 MB/s \n",
            "\u001b[?25h  Building wheel for uuid (setup.py) ... \u001b[?25l\u001b[?25hdone\n"
          ],
          "name": "stdout"
        }
      ]
    },
    {
      "cell_type": "code",
      "metadata": {
        "id": "_4UzdMAEUIYO"
      },
      "source": [
        "#importing dataset\n",
        "import os\n",
        "import opendatasets as od\n",
        "import pandas as pd\n",
        "import numpy as np\n",
        "\n",
        "#Pipeline\n",
        "from sklearn.pipeline import make_pipeline\n",
        "from sklearn.compose import make_column_transformer\n",
        "\n",
        "#For Missing Value and Feature Engineering\n",
        "from sklearn.feature_selection import SelectKBest, chi2, f_classif, VarianceThreshold\n",
        "from sklearn.impute import SimpleImputer, KNNImputer, MissingIndicator\n",
        "from sklearn.preprocessing import KBinsDiscretizer, OneHotEncoder, MinMaxScaler\n",
        "from sklearn.decomposition import PCA\n",
        "from sklearn.ensemble import RandomForestClassifier, ExtraTreesClassifier\n",
        "\n",
        "import time\n",
        "\n",
        "#for visualization\n",
        "import seaborn as sns\n",
        "import matplotlib.pyplot as plt\n",
        "\n",
        "pd.set_option(\"display.max_columns\", 120)\n",
        "pd.set_option(\"display.max_rows\", 120)"
      ],
      "execution_count": 2,
      "outputs": []
    },
    {
      "cell_type": "markdown",
      "metadata": {
        "id": "SizpSP4Jd4k6"
      },
      "source": [
        "To download the dataset from Kaggle, I use the library **od**.\n",
        "\n",
        "To connect to kaggle enter user Kaggle username name and API key. \n",
        "\n",
        "Please read though this article to understand the process of getting your API key from kaggle.\n",
        "\n",
        "https://www.analyticsvidhya.com/blog/2021/04/how-to-download-kaggle-datasets-using-jupyter-notebook/"
      ]
    },
    {
      "cell_type": "code",
      "metadata": {
        "id": "lfCdVqEMUJ97",
        "colab": {
          "base_uri": "https://localhost:8080/"
        },
        "outputId": "c1e9a48c-de87-4d67-b901-f935ce413c3d"
      },
      "source": [
        "od.download('https://www.kaggle.com/c/DontGetKicked/data?select=test.csv')"
      ],
      "execution_count": 3,
      "outputs": [
        {
          "output_type": "stream",
          "text": [
            "Please provide your Kaggle credentials to download this dataset. Learn more: http://bit.ly/kaggle-creds\n",
            "Your Kaggle username: hargurjeet\n",
            "Your Kaggle Key: ··········\n"
          ],
          "name": "stdout"
        },
        {
          "output_type": "stream",
          "text": [
            "100%|██████████| 10.2M/10.2M [00:00<00:00, 67.1MB/s]"
          ],
          "name": "stderr"
        },
        {
          "output_type": "stream",
          "text": [
            "Downloading DontGetKicked.zip to ./DontGetKicked\n",
            "\n",
            "Extracting archive ./DontGetKicked/DontGetKicked.zip to ./DontGetKicked\n"
          ],
          "name": "stdout"
        },
        {
          "output_type": "stream",
          "text": [
            "\n"
          ],
          "name": "stderr"
        }
      ]
    },
    {
      "cell_type": "markdown",
      "metadata": {
        "id": "9Bb9TUT0e8tv"
      },
      "source": [
        "Below are the list of files downloaded. You can access all the downloaded filename using os.listdir(<'downloaded folder name'>)"
      ]
    },
    {
      "cell_type": "code",
      "metadata": {
        "id": "Q_4ukX7TUPev",
        "colab": {
          "base_uri": "https://localhost:8080/"
        },
        "outputId": "a0c416b5-4c41-402b-dd19-4c996d0faf11"
      },
      "source": [
        "os.listdir('DontGetKicked')"
      ],
      "execution_count": 4,
      "outputs": [
        {
          "output_type": "execute_result",
          "data": {
            "text/plain": [
              "['training.csv',\n",
              " 'test.csv',\n",
              " 'example_entry.csv',\n",
              " 'test.zip',\n",
              " 'Carvana_Data_Dictionary.txt',\n",
              " 'training.zip']"
            ]
          },
          "metadata": {
            "tags": []
          },
          "execution_count": 4
        }
      ]
    },
    {
      "cell_type": "markdown",
      "metadata": {
        "id": "jy9ubhOvfXn0"
      },
      "source": [
        "I use pandas to read the train and test data sets. Here I access few records of training dataset"
      ]
    },
    {
      "cell_type": "code",
      "metadata": {
        "id": "QafC5UF9Ubfk",
        "colab": {
          "base_uri": "https://localhost:8080/",
          "height": 374
        },
        "outputId": "f450ce3c-15cb-41af-a1d6-057daeb59462"
      },
      "source": [
        "train=pd.read_csv('/content/DontGetKicked/training.csv') \n",
        "test= pd.read_csv('/content/DontGetKicked/test.csv')\n",
        "train.head()"
      ],
      "execution_count": 5,
      "outputs": [
        {
          "output_type": "execute_result",
          "data": {
            "text/html": [
              "<div>\n",
              "<style scoped>\n",
              "    .dataframe tbody tr th:only-of-type {\n",
              "        vertical-align: middle;\n",
              "    }\n",
              "\n",
              "    .dataframe tbody tr th {\n",
              "        vertical-align: top;\n",
              "    }\n",
              "\n",
              "    .dataframe thead th {\n",
              "        text-align: right;\n",
              "    }\n",
              "</style>\n",
              "<table border=\"1\" class=\"dataframe\">\n",
              "  <thead>\n",
              "    <tr style=\"text-align: right;\">\n",
              "      <th></th>\n",
              "      <th>RefId</th>\n",
              "      <th>IsBadBuy</th>\n",
              "      <th>PurchDate</th>\n",
              "      <th>Auction</th>\n",
              "      <th>VehYear</th>\n",
              "      <th>VehicleAge</th>\n",
              "      <th>Make</th>\n",
              "      <th>Model</th>\n",
              "      <th>Trim</th>\n",
              "      <th>SubModel</th>\n",
              "      <th>Color</th>\n",
              "      <th>Transmission</th>\n",
              "      <th>WheelTypeID</th>\n",
              "      <th>WheelType</th>\n",
              "      <th>VehOdo</th>\n",
              "      <th>Nationality</th>\n",
              "      <th>Size</th>\n",
              "      <th>TopThreeAmericanName</th>\n",
              "      <th>MMRAcquisitionAuctionAveragePrice</th>\n",
              "      <th>MMRAcquisitionAuctionCleanPrice</th>\n",
              "      <th>MMRAcquisitionRetailAveragePrice</th>\n",
              "      <th>MMRAcquisitonRetailCleanPrice</th>\n",
              "      <th>MMRCurrentAuctionAveragePrice</th>\n",
              "      <th>MMRCurrentAuctionCleanPrice</th>\n",
              "      <th>MMRCurrentRetailAveragePrice</th>\n",
              "      <th>MMRCurrentRetailCleanPrice</th>\n",
              "      <th>PRIMEUNIT</th>\n",
              "      <th>AUCGUART</th>\n",
              "      <th>BYRNO</th>\n",
              "      <th>VNZIP1</th>\n",
              "      <th>VNST</th>\n",
              "      <th>VehBCost</th>\n",
              "      <th>IsOnlineSale</th>\n",
              "      <th>WarrantyCost</th>\n",
              "    </tr>\n",
              "  </thead>\n",
              "  <tbody>\n",
              "    <tr>\n",
              "      <th>0</th>\n",
              "      <td>1</td>\n",
              "      <td>0</td>\n",
              "      <td>12/7/2009</td>\n",
              "      <td>ADESA</td>\n",
              "      <td>2006</td>\n",
              "      <td>3</td>\n",
              "      <td>MAZDA</td>\n",
              "      <td>MAZDA3</td>\n",
              "      <td>i</td>\n",
              "      <td>4D SEDAN I</td>\n",
              "      <td>RED</td>\n",
              "      <td>AUTO</td>\n",
              "      <td>1.0</td>\n",
              "      <td>Alloy</td>\n",
              "      <td>89046</td>\n",
              "      <td>OTHER ASIAN</td>\n",
              "      <td>MEDIUM</td>\n",
              "      <td>OTHER</td>\n",
              "      <td>8155.0</td>\n",
              "      <td>9829.0</td>\n",
              "      <td>11636.0</td>\n",
              "      <td>13600.0</td>\n",
              "      <td>7451.0</td>\n",
              "      <td>8552.0</td>\n",
              "      <td>11597.0</td>\n",
              "      <td>12409.0</td>\n",
              "      <td>NaN</td>\n",
              "      <td>NaN</td>\n",
              "      <td>21973</td>\n",
              "      <td>33619</td>\n",
              "      <td>FL</td>\n",
              "      <td>7100.0</td>\n",
              "      <td>0</td>\n",
              "      <td>1113</td>\n",
              "    </tr>\n",
              "    <tr>\n",
              "      <th>1</th>\n",
              "      <td>2</td>\n",
              "      <td>0</td>\n",
              "      <td>12/7/2009</td>\n",
              "      <td>ADESA</td>\n",
              "      <td>2004</td>\n",
              "      <td>5</td>\n",
              "      <td>DODGE</td>\n",
              "      <td>1500 RAM PICKUP 2WD</td>\n",
              "      <td>ST</td>\n",
              "      <td>QUAD CAB 4.7L SLT</td>\n",
              "      <td>WHITE</td>\n",
              "      <td>AUTO</td>\n",
              "      <td>1.0</td>\n",
              "      <td>Alloy</td>\n",
              "      <td>93593</td>\n",
              "      <td>AMERICAN</td>\n",
              "      <td>LARGE TRUCK</td>\n",
              "      <td>CHRYSLER</td>\n",
              "      <td>6854.0</td>\n",
              "      <td>8383.0</td>\n",
              "      <td>10897.0</td>\n",
              "      <td>12572.0</td>\n",
              "      <td>7456.0</td>\n",
              "      <td>9222.0</td>\n",
              "      <td>11374.0</td>\n",
              "      <td>12791.0</td>\n",
              "      <td>NaN</td>\n",
              "      <td>NaN</td>\n",
              "      <td>19638</td>\n",
              "      <td>33619</td>\n",
              "      <td>FL</td>\n",
              "      <td>7600.0</td>\n",
              "      <td>0</td>\n",
              "      <td>1053</td>\n",
              "    </tr>\n",
              "    <tr>\n",
              "      <th>2</th>\n",
              "      <td>3</td>\n",
              "      <td>0</td>\n",
              "      <td>12/7/2009</td>\n",
              "      <td>ADESA</td>\n",
              "      <td>2005</td>\n",
              "      <td>4</td>\n",
              "      <td>DODGE</td>\n",
              "      <td>STRATUS V6</td>\n",
              "      <td>SXT</td>\n",
              "      <td>4D SEDAN SXT FFV</td>\n",
              "      <td>MAROON</td>\n",
              "      <td>AUTO</td>\n",
              "      <td>2.0</td>\n",
              "      <td>Covers</td>\n",
              "      <td>73807</td>\n",
              "      <td>AMERICAN</td>\n",
              "      <td>MEDIUM</td>\n",
              "      <td>CHRYSLER</td>\n",
              "      <td>3202.0</td>\n",
              "      <td>4760.0</td>\n",
              "      <td>6943.0</td>\n",
              "      <td>8457.0</td>\n",
              "      <td>4035.0</td>\n",
              "      <td>5557.0</td>\n",
              "      <td>7146.0</td>\n",
              "      <td>8702.0</td>\n",
              "      <td>NaN</td>\n",
              "      <td>NaN</td>\n",
              "      <td>19638</td>\n",
              "      <td>33619</td>\n",
              "      <td>FL</td>\n",
              "      <td>4900.0</td>\n",
              "      <td>0</td>\n",
              "      <td>1389</td>\n",
              "    </tr>\n",
              "    <tr>\n",
              "      <th>3</th>\n",
              "      <td>4</td>\n",
              "      <td>0</td>\n",
              "      <td>12/7/2009</td>\n",
              "      <td>ADESA</td>\n",
              "      <td>2004</td>\n",
              "      <td>5</td>\n",
              "      <td>DODGE</td>\n",
              "      <td>NEON</td>\n",
              "      <td>SXT</td>\n",
              "      <td>4D SEDAN</td>\n",
              "      <td>SILVER</td>\n",
              "      <td>AUTO</td>\n",
              "      <td>1.0</td>\n",
              "      <td>Alloy</td>\n",
              "      <td>65617</td>\n",
              "      <td>AMERICAN</td>\n",
              "      <td>COMPACT</td>\n",
              "      <td>CHRYSLER</td>\n",
              "      <td>1893.0</td>\n",
              "      <td>2675.0</td>\n",
              "      <td>4658.0</td>\n",
              "      <td>5690.0</td>\n",
              "      <td>1844.0</td>\n",
              "      <td>2646.0</td>\n",
              "      <td>4375.0</td>\n",
              "      <td>5518.0</td>\n",
              "      <td>NaN</td>\n",
              "      <td>NaN</td>\n",
              "      <td>19638</td>\n",
              "      <td>33619</td>\n",
              "      <td>FL</td>\n",
              "      <td>4100.0</td>\n",
              "      <td>0</td>\n",
              "      <td>630</td>\n",
              "    </tr>\n",
              "    <tr>\n",
              "      <th>4</th>\n",
              "      <td>5</td>\n",
              "      <td>0</td>\n",
              "      <td>12/7/2009</td>\n",
              "      <td>ADESA</td>\n",
              "      <td>2005</td>\n",
              "      <td>4</td>\n",
              "      <td>FORD</td>\n",
              "      <td>FOCUS</td>\n",
              "      <td>ZX3</td>\n",
              "      <td>2D COUPE ZX3</td>\n",
              "      <td>SILVER</td>\n",
              "      <td>MANUAL</td>\n",
              "      <td>2.0</td>\n",
              "      <td>Covers</td>\n",
              "      <td>69367</td>\n",
              "      <td>AMERICAN</td>\n",
              "      <td>COMPACT</td>\n",
              "      <td>FORD</td>\n",
              "      <td>3913.0</td>\n",
              "      <td>5054.0</td>\n",
              "      <td>7723.0</td>\n",
              "      <td>8707.0</td>\n",
              "      <td>3247.0</td>\n",
              "      <td>4384.0</td>\n",
              "      <td>6739.0</td>\n",
              "      <td>7911.0</td>\n",
              "      <td>NaN</td>\n",
              "      <td>NaN</td>\n",
              "      <td>19638</td>\n",
              "      <td>33619</td>\n",
              "      <td>FL</td>\n",
              "      <td>4000.0</td>\n",
              "      <td>0</td>\n",
              "      <td>1020</td>\n",
              "    </tr>\n",
              "  </tbody>\n",
              "</table>\n",
              "</div>"
            ],
            "text/plain": [
              "   RefId  IsBadBuy  PurchDate Auction  VehYear  VehicleAge   Make  \\\n",
              "0      1         0  12/7/2009   ADESA     2006           3  MAZDA   \n",
              "1      2         0  12/7/2009   ADESA     2004           5  DODGE   \n",
              "2      3         0  12/7/2009   ADESA     2005           4  DODGE   \n",
              "3      4         0  12/7/2009   ADESA     2004           5  DODGE   \n",
              "4      5         0  12/7/2009   ADESA     2005           4   FORD   \n",
              "\n",
              "                 Model Trim           SubModel   Color Transmission  \\\n",
              "0               MAZDA3    i         4D SEDAN I     RED         AUTO   \n",
              "1  1500 RAM PICKUP 2WD   ST  QUAD CAB 4.7L SLT   WHITE         AUTO   \n",
              "2           STRATUS V6  SXT   4D SEDAN SXT FFV  MAROON         AUTO   \n",
              "3                 NEON  SXT           4D SEDAN  SILVER         AUTO   \n",
              "4                FOCUS  ZX3       2D COUPE ZX3  SILVER       MANUAL   \n",
              "\n",
              "   WheelTypeID WheelType  VehOdo  Nationality         Size  \\\n",
              "0          1.0     Alloy   89046  OTHER ASIAN       MEDIUM   \n",
              "1          1.0     Alloy   93593     AMERICAN  LARGE TRUCK   \n",
              "2          2.0    Covers   73807     AMERICAN       MEDIUM   \n",
              "3          1.0     Alloy   65617     AMERICAN      COMPACT   \n",
              "4          2.0    Covers   69367     AMERICAN      COMPACT   \n",
              "\n",
              "  TopThreeAmericanName  MMRAcquisitionAuctionAveragePrice  \\\n",
              "0                OTHER                             8155.0   \n",
              "1             CHRYSLER                             6854.0   \n",
              "2             CHRYSLER                             3202.0   \n",
              "3             CHRYSLER                             1893.0   \n",
              "4                 FORD                             3913.0   \n",
              "\n",
              "   MMRAcquisitionAuctionCleanPrice  MMRAcquisitionRetailAveragePrice  \\\n",
              "0                           9829.0                           11636.0   \n",
              "1                           8383.0                           10897.0   \n",
              "2                           4760.0                            6943.0   \n",
              "3                           2675.0                            4658.0   \n",
              "4                           5054.0                            7723.0   \n",
              "\n",
              "   MMRAcquisitonRetailCleanPrice  MMRCurrentAuctionAveragePrice  \\\n",
              "0                        13600.0                         7451.0   \n",
              "1                        12572.0                         7456.0   \n",
              "2                         8457.0                         4035.0   \n",
              "3                         5690.0                         1844.0   \n",
              "4                         8707.0                         3247.0   \n",
              "\n",
              "   MMRCurrentAuctionCleanPrice  MMRCurrentRetailAveragePrice  \\\n",
              "0                       8552.0                       11597.0   \n",
              "1                       9222.0                       11374.0   \n",
              "2                       5557.0                        7146.0   \n",
              "3                       2646.0                        4375.0   \n",
              "4                       4384.0                        6739.0   \n",
              "\n",
              "   MMRCurrentRetailCleanPrice PRIMEUNIT AUCGUART  BYRNO  VNZIP1 VNST  \\\n",
              "0                     12409.0       NaN      NaN  21973   33619   FL   \n",
              "1                     12791.0       NaN      NaN  19638   33619   FL   \n",
              "2                      8702.0       NaN      NaN  19638   33619   FL   \n",
              "3                      5518.0       NaN      NaN  19638   33619   FL   \n",
              "4                      7911.0       NaN      NaN  19638   33619   FL   \n",
              "\n",
              "   VehBCost  IsOnlineSale  WarrantyCost  \n",
              "0    7100.0             0          1113  \n",
              "1    7600.0             0          1053  \n",
              "2    4900.0             0          1389  \n",
              "3    4100.0             0           630  \n",
              "4    4000.0             0          1020  "
            ]
          },
          "metadata": {
            "tags": []
          },
          "execution_count": 5
        }
      ]
    },
    {
      "cell_type": "markdown",
      "metadata": {
        "id": "-D6YDR8DyA6I"
      },
      "source": [
        "# 3: Expainatory Data Analysis <a name=\"3\"></a>\n",
        "\n",
        "\n",
        "---\n",
        "<a href=\"#top\" class=\"btn btn-primary btn-sm\" role=\"button\" aria-pressed=\"true\" style=\"color:white\" data-toggle=\"popover\">Go to TOC</a> "
      ]
    },
    {
      "cell_type": "markdown",
      "metadata": {
        "id": "XQBti-bQZXZI"
      },
      "source": [
        "## 3.1: Understanding the manufacture year of the vechicles"
      ]
    },
    {
      "cell_type": "code",
      "metadata": {
        "id": "FZWuxteuaIJr",
        "colab": {
          "base_uri": "https://localhost:8080/",
          "height": 0
        },
        "outputId": "8f1b94a2-b548-4ec0-fbc0-4950a8202786"
      },
      "source": [
        "sns.histplot(data=train, x=\"VehYear\", hue='IsBadBuy');"
      ],
      "execution_count": 6,
      "outputs": [
        {
          "output_type": "display_data",
          "data": {
            "image/png": "[encoded data removed]",
            "text/plain": [
              "<Figure size 432x288 with 1 Axes>"
            ]
          },
          "metadata": {
            "tags": [],
            "needs_background": "light"
          }
        }
      ]
    },
    {
      "cell_type": "markdown",
      "metadata": {
        "id": "GvNPPmPEamL2"
      },
      "source": [
        "It is evident that although the max vechicles are with manufacturing of 2005 and 2006, the percentage of vechicle turn out to be kicks are less as compared to the manufacturing year 2001 and 2002 where this rate seems to be close to 50%.\n",
        "\n",
        "Vechile from the later year of 2008 and 2009 seems to have minimum no of vechicle that turn out bad."
      ]
    },
    {
      "cell_type": "markdown",
      "metadata": {
        "id": "52TG_X5Icd5N"
      },
      "source": [
        "## 3.2 Checking if the autction has any influence or vechile being bad."
      ]
    },
    {
      "cell_type": "code",
      "metadata": {
        "id": "LI7PlObZcmzX",
        "colab": {
          "base_uri": "https://localhost:8080/",
          "height": 0
        },
        "outputId": "f2af5b74-5b7b-48d6-be5d-bf8269aa66b1"
      },
      "source": [
        "sns.histplot(data=train, x=\"Auction\", hue='IsBadBuy');"
      ],
      "execution_count": 7,
      "outputs": [
        {
          "output_type": "display_data",
          "data": {
            "image/png": "[encoded data removed]",
            "text/plain": [
              "<Figure size 432x288 with 1 Axes>"
            ]
          },
          "metadata": {
            "tags": [],
            "needs_background": "light"
          }
        }
      ]
    },
    {
      "cell_type": "markdown",
      "metadata": {
        "id": "Ca1QZ_Unc0fA"
      },
      "source": [
        "It is observed at MANHEIM auction most of the car sold have the turned out good."
      ]
    },
    {
      "cell_type": "markdown",
      "metadata": {
        "id": "nA71at29di3c"
      },
      "source": [
        "## 3.3 Understanding the Manufactures"
      ]
    },
    {
      "cell_type": "code",
      "metadata": {
        "id": "VA033EE1e2h7",
        "colab": {
          "base_uri": "https://localhost:8080/"
        },
        "outputId": "713a22f6-baa5-47bd-f961-bd72840fc6a7"
      },
      "source": [
        "train.Make.value_counts().head(10)"
      ],
      "execution_count": 8,
      "outputs": [
        {
          "output_type": "execute_result",
          "data": {
            "text/plain": [
              "CHEVROLET    17248\n",
              "DODGE        12912\n",
              "FORD         11305\n",
              "CHRYSLER      8844\n",
              "PONTIAC       4258\n",
              "KIA           2484\n",
              "SATURN        2163\n",
              "NISSAN        2085\n",
              "HYUNDAI       1811\n",
              "JEEP          1644\n",
              "Name: Make, dtype: int64"
            ]
          },
          "metadata": {
            "tags": []
          },
          "execution_count": 8
        }
      ]
    },
    {
      "cell_type": "code",
      "metadata": {
        "id": "QXB0eEX0eKEX",
        "colab": {
          "base_uri": "https://localhost:8080/",
          "height": 0
        },
        "outputId": "d125a92e-a6fc-498f-bf73-6c0853642d4a"
      },
      "source": [
        "fig, ax = plt.subplots(figsize=(10,16))\n",
        "sns.countplot(y=\"Make\", data=train, hue='IsBadBuy')\n",
        "plt.show()"
      ],
      "execution_count": 9,
      "outputs": [
        {
          "output_type": "display_data",
          "data": {
            "image/png": "[encoded data removed]",
            "text/plain": [
              "<Figure size 720x1152 with 1 Axes>"
            ]
          },
          "metadata": {
            "tags": [],
            "needs_background": "light"
          }
        }
      ]
    },
    {
      "cell_type": "markdown",
      "metadata": {
        "id": "oxebuiord78i"
      },
      "source": [
        "Cars from mnaufacutres DODGE and FORD seems to have maximum no of kicked cars"
      ]
    },
    {
      "cell_type": "markdown",
      "metadata": {
        "id": "YlsmZf_bjJNX"
      },
      "source": [
        "## 3.4 Impact of color of car being kicked or not"
      ]
    },
    {
      "cell_type": "code",
      "metadata": {
        "id": "ORW0X-2FjG6C",
        "colab": {
          "base_uri": "https://localhost:8080/",
          "height": 606
        },
        "outputId": "2e56cd49-7a3c-47e2-fefb-b1584f89e701"
      },
      "source": [
        "fig, ax = plt.subplots(figsize=(10,10))\n",
        "sns.countplot(y=\"Color\", data=train, hue='IsBadBuy')\n",
        "plt.show()"
      ],
      "execution_count": 15,
      "outputs": [
        {
          "output_type": "display_data",
          "data": {
            "image/png": "[encoded data removed]",
            "text/plain": [
              "<Figure size 720x720 with 1 Axes>"
            ]
          },
          "metadata": {
            "tags": [],
            "needs_background": "light"
          }
        }
      ]
    },
    {
      "cell_type": "markdown",
      "metadata": {
        "id": "0isbhFenjowm"
      },
      "source": [
        "There is a high probablity of repainting of kicked cars. High no of kicked cars are painted in White, Sliver, Blue"
      ]
    },
    {
      "cell_type": "markdown",
      "metadata": {
        "id": "zeVPsqunC9If"
      },
      "source": [
        "## 3.5 Impact of transmission type on kicked cars"
      ]
    },
    {
      "cell_type": "code",
      "metadata": {
        "colab": {
          "base_uri": "https://localhost:8080/",
          "height": 279
        },
        "id": "yYY3AaR2DHd1",
        "outputId": "878d4816-6b86-46ea-d90e-62ae58b8a65f"
      },
      "source": [
        "sns.countplot(x=\"Transmission\", data=train, hue='IsBadBuy');"
      ],
      "execution_count": 18,
      "outputs": [
        {
          "output_type": "display_data",
          "data": {
            "image/png": "[encoded data removed]",
            "text/plain": [
              "<Figure size 432x288 with 1 Axes>"
            ]
          },
          "metadata": {
            "tags": [],
            "needs_background": "light"
          }
        }
      ]
    },
    {
      "cell_type": "markdown",
      "metadata": {
        "id": "eVA-_GykDf0F"
      },
      "source": [
        "Couple of observations here\n",
        "\n",
        "- Most of the car have AUTO transmission and kicked cars out of these are about  16%.\n",
        "\n",
        "- Data quality issue, For some cars transmission type is recorded as 'Manual' instead of 'MANUAL'"
      ]
    },
    {
      "cell_type": "markdown",
      "metadata": {
        "id": "Rj3jC1M2p3HO"
      },
      "source": [
        "# 4: Feature Engineering <a name=\"4\"></a>\n",
        "\n",
        "\n",
        "---\n",
        "<a href=\"#top\" class=\"btn btn-primary btn-sm\" role=\"button\" aria-pressed=\"true\" style=\"color:white\" data-toggle=\"popover\">Go to TOC</a> "
      ]
    },
    {
      "cell_type": "code",
      "metadata": {
        "id": "c-1GOBrqVIEz",
        "colab": {
          "base_uri": "https://localhost:8080/"
        },
        "outputId": "99d16d93-4d0e-4937-918f-2ce9e4c2c9b2"
      },
      "source": [
        "train.info()"
      ],
      "execution_count": null,
      "outputs": [
        {
          "output_type": "stream",
          "text": [
            "<class 'pandas.core.frame.DataFrame'>\n",
            "RangeIndex: 72983 entries, 0 to 72982\n",
            "Data columns (total 34 columns):\n",
            " #   Column                             Non-Null Count  Dtype  \n",
            "---  ------                             --------------  -----  \n",
            " 0   RefId                              72983 non-null  int64  \n",
            " 1   IsBadBuy                           72983 non-null  int64  \n",
            " 2   PurchDate                          72983 non-null  object \n",
            " 3   Auction                            72983 non-null  object \n",
            " 4   VehYear                            72983 non-null  int64  \n",
            " 5   VehicleAge                         72983 non-null  int64  \n",
            " 6   Make                               72983 non-null  object \n",
            " 7   Model                              72983 non-null  object \n",
            " 8   Trim                               70623 non-null  object \n",
            " 9   SubModel                           72975 non-null  object \n",
            " 10  Color                              72975 non-null  object \n",
            " 11  Transmission                       72974 non-null  object \n",
            " 12  WheelTypeID                        69814 non-null  float64\n",
            " 13  WheelType                          69809 non-null  object \n",
            " 14  VehOdo                             72983 non-null  int64  \n",
            " 15  Nationality                        72978 non-null  object \n",
            " 16  Size                               72978 non-null  object \n",
            " 17  TopThreeAmericanName               72978 non-null  object \n",
            " 18  MMRAcquisitionAuctionAveragePrice  72965 non-null  float64\n",
            " 19  MMRAcquisitionAuctionCleanPrice    72965 non-null  float64\n",
            " 20  MMRAcquisitionRetailAveragePrice   72965 non-null  float64\n",
            " 21  MMRAcquisitonRetailCleanPrice      72965 non-null  float64\n",
            " 22  MMRCurrentAuctionAveragePrice      72668 non-null  float64\n",
            " 23  MMRCurrentAuctionCleanPrice        72668 non-null  float64\n",
            " 24  MMRCurrentRetailAveragePrice       72668 non-null  float64\n",
            " 25  MMRCurrentRetailCleanPrice         72668 non-null  float64\n",
            " 26  PRIMEUNIT                          3419 non-null   object \n",
            " 27  AUCGUART                           3419 non-null   object \n",
            " 28  BYRNO                              72983 non-null  int64  \n",
            " 29  VNZIP1                             72983 non-null  int64  \n",
            " 30  VNST                               72983 non-null  object \n",
            " 31  VehBCost                           72983 non-null  float64\n",
            " 32  IsOnlineSale                       72983 non-null  int64  \n",
            " 33  WarrantyCost                       72983 non-null  int64  \n",
            "dtypes: float64(10), int64(9), object(15)\n",
            "memory usage: 18.9+ MB\n"
          ],
          "name": "stdout"
        }
      ]
    },
    {
      "cell_type": "markdown",
      "metadata": {
        "id": "kTvNQ3n8CGnU"
      },
      "source": [
        "Before performing the feature engineering, let us first check the data quality and identify null values."
      ]
    },
    {
      "cell_type": "code",
      "metadata": {
        "id": "sxHWn2xrBj2r",
        "colab": {
          "base_uri": "https://localhost:8080/"
        },
        "outputId": "8b6b26a9-fdd8-4ad1-f28b-cb7b06797251"
      },
      "source": [
        "print(train.isnull().sum())"
      ],
      "execution_count": null,
      "outputs": [
        {
          "output_type": "stream",
          "text": [
            "RefId                                    0\n",
            "IsBadBuy                                 0\n",
            "PurchDate                                0\n",
            "Auction                                  0\n",
            "VehYear                                  0\n",
            "VehicleAge                               0\n",
            "Make                                     0\n",
            "Model                                    0\n",
            "Trim                                  2360\n",
            "SubModel                                 8\n",
            "Color                                    8\n",
            "Transmission                             9\n",
            "WheelTypeID                           3169\n",
            "WheelType                             3174\n",
            "VehOdo                                   0\n",
            "Nationality                              5\n",
            "Size                                     5\n",
            "TopThreeAmericanName                     5\n",
            "MMRAcquisitionAuctionAveragePrice       18\n",
            "MMRAcquisitionAuctionCleanPrice         18\n",
            "MMRAcquisitionRetailAveragePrice        18\n",
            "MMRAcquisitonRetailCleanPrice           18\n",
            "MMRCurrentAuctionAveragePrice          315\n",
            "MMRCurrentAuctionCleanPrice            315\n",
            "MMRCurrentRetailAveragePrice           315\n",
            "MMRCurrentRetailCleanPrice             315\n",
            "PRIMEUNIT                            69564\n",
            "AUCGUART                             69564\n",
            "BYRNO                                    0\n",
            "VNZIP1                                   0\n",
            "VNST                                     0\n",
            "VehBCost                                 0\n",
            "IsOnlineSale                             0\n",
            "WarrantyCost                             0\n",
            "dtype: int64\n"
          ],
          "name": "stdout"
        }
      ]
    },
    {
      "cell_type": "code",
      "metadata": {
        "id": "TWRPFiHBB_6o",
        "colab": {
          "base_uri": "https://localhost:8080/"
        },
        "outputId": "ecee0e08-4236-4301-a336-44c5ae58518c"
      },
      "source": [
        "print(test.isnull().sum())"
      ],
      "execution_count": null,
      "outputs": [
        {
          "output_type": "stream",
          "text": [
            "RefId                                    0\n",
            "PurchDate                                0\n",
            "Auction                                  0\n",
            "VehYear                                  0\n",
            "VehicleAge                               0\n",
            "Make                                     0\n",
            "Model                                    0\n",
            "Trim                                  1550\n",
            "SubModel                                 5\n",
            "Color                                    4\n",
            "Transmission                             3\n",
            "WheelTypeID                           2188\n",
            "WheelType                             2188\n",
            "VehOdo                                   0\n",
            "Nationality                              7\n",
            "Size                                     7\n",
            "TopThreeAmericanName                     7\n",
            "MMRAcquisitionAuctionAveragePrice       10\n",
            "MMRAcquisitionAuctionCleanPrice         10\n",
            "MMRAcquisitionRetailAveragePrice        10\n",
            "MMRAcquisitonRetailCleanPrice           10\n",
            "MMRCurrentAuctionAveragePrice          143\n",
            "MMRCurrentAuctionCleanPrice            143\n",
            "MMRCurrentRetailAveragePrice           143\n",
            "MMRCurrentRetailCleanPrice             143\n",
            "PRIMEUNIT                            46191\n",
            "AUCGUART                             46191\n",
            "BYRNO                                    0\n",
            "VNZIP1                                   0\n",
            "VNST                                     0\n",
            "VehBCost                                 0\n",
            "IsOnlineSale                             0\n",
            "WarrantyCost                             0\n",
            "dtype: int64\n"
          ],
          "name": "stdout"
        }
      ]
    },
    {
      "cell_type": "markdown",
      "metadata": {
        "id": "KSWqQjR_CxT6"
      },
      "source": [
        "**Checking Duplicates**"
      ]
    },
    {
      "cell_type": "code",
      "metadata": {
        "id": "BX60-blFCwzw",
        "colab": {
          "base_uri": "https://localhost:8080/",
          "height": 69
        },
        "outputId": "933bfda2-dee4-4303-a075-c1ad6d1c3b7f"
      },
      "source": [
        "train[train.duplicated()]"
      ],
      "execution_count": null,
      "outputs": [
        {
          "output_type": "execute_result",
          "data": {
            "text/html": [
              "<div>\n",
              "<style scoped>\n",
              "    .dataframe tbody tr th:only-of-type {\n",
              "        vertical-align: middle;\n",
              "    }\n",
              "\n",
              "    .dataframe tbody tr th {\n",
              "        vertical-align: top;\n",
              "    }\n",
              "\n",
              "    .dataframe thead th {\n",
              "        text-align: right;\n",
              "    }\n",
              "</style>\n",
              "<table border=\"1\" class=\"dataframe\">\n",
              "  <thead>\n",
              "    <tr style=\"text-align: right;\">\n",
              "      <th></th>\n",
              "      <th>RefId</th>\n",
              "      <th>IsBadBuy</th>\n",
              "      <th>PurchDate</th>\n",
              "      <th>Auction</th>\n",
              "      <th>VehYear</th>\n",
              "      <th>VehicleAge</th>\n",
              "      <th>Make</th>\n",
              "      <th>Model</th>\n",
              "      <th>Trim</th>\n",
              "      <th>SubModel</th>\n",
              "      <th>Color</th>\n",
              "      <th>Transmission</th>\n",
              "      <th>WheelTypeID</th>\n",
              "      <th>WheelType</th>\n",
              "      <th>VehOdo</th>\n",
              "      <th>Nationality</th>\n",
              "      <th>Size</th>\n",
              "      <th>TopThreeAmericanName</th>\n",
              "      <th>MMRAcquisitionAuctionAveragePrice</th>\n",
              "      <th>MMRAcquisitionAuctionCleanPrice</th>\n",
              "      <th>MMRAcquisitionRetailAveragePrice</th>\n",
              "      <th>MMRAcquisitonRetailCleanPrice</th>\n",
              "      <th>MMRCurrentAuctionAveragePrice</th>\n",
              "      <th>MMRCurrentAuctionCleanPrice</th>\n",
              "      <th>MMRCurrentRetailAveragePrice</th>\n",
              "      <th>MMRCurrentRetailCleanPrice</th>\n",
              "      <th>PRIMEUNIT</th>\n",
              "      <th>AUCGUART</th>\n",
              "      <th>BYRNO</th>\n",
              "      <th>VNZIP1</th>\n",
              "      <th>VNST</th>\n",
              "      <th>VehBCost</th>\n",
              "      <th>IsOnlineSale</th>\n",
              "      <th>WarrantyCost</th>\n",
              "    </tr>\n",
              "  </thead>\n",
              "  <tbody>\n",
              "  </tbody>\n",
              "</table>\n",
              "</div>"
            ],
            "text/plain": [
              "Empty DataFrame\n",
              "Columns: [RefId, IsBadBuy, PurchDate, Auction, VehYear, VehicleAge, Make, Model, Trim, SubModel, Color, Transmission, WheelTypeID, WheelType, VehOdo, Nationality, Size, TopThreeAmericanName, MMRAcquisitionAuctionAveragePrice, MMRAcquisitionAuctionCleanPrice, MMRAcquisitionRetailAveragePrice, MMRAcquisitonRetailCleanPrice, MMRCurrentAuctionAveragePrice, MMRCurrentAuctionCleanPrice, MMRCurrentRetailAveragePrice, MMRCurrentRetailCleanPrice, PRIMEUNIT, AUCGUART, BYRNO, VNZIP1, VNST, VehBCost, IsOnlineSale, WarrantyCost]\n",
              "Index: []"
            ]
          },
          "metadata": {
            "tags": []
          },
          "execution_count": 9
        }
      ]
    },
    {
      "cell_type": "code",
      "metadata": {
        "id": "TZtk0i-ED0kT",
        "colab": {
          "base_uri": "https://localhost:8080/",
          "height": 69
        },
        "outputId": "922f06d5-901c-41f7-e8fe-f30f380515cd"
      },
      "source": [
        "test[test.duplicated()]"
      ],
      "execution_count": null,
      "outputs": [
        {
          "output_type": "execute_result",
          "data": {
            "text/html": [
              "<div>\n",
              "<style scoped>\n",
              "    .dataframe tbody tr th:only-of-type {\n",
              "        vertical-align: middle;\n",
              "    }\n",
              "\n",
              "    .dataframe tbody tr th {\n",
              "        vertical-align: top;\n",
              "    }\n",
              "\n",
              "    .dataframe thead th {\n",
              "        text-align: right;\n",
              "    }\n",
              "</style>\n",
              "<table border=\"1\" class=\"dataframe\">\n",
              "  <thead>\n",
              "    <tr style=\"text-align: right;\">\n",
              "      <th></th>\n",
              "      <th>RefId</th>\n",
              "      <th>PurchDate</th>\n",
              "      <th>Auction</th>\n",
              "      <th>VehYear</th>\n",
              "      <th>VehicleAge</th>\n",
              "      <th>Make</th>\n",
              "      <th>Model</th>\n",
              "      <th>Trim</th>\n",
              "      <th>SubModel</th>\n",
              "      <th>Color</th>\n",
              "      <th>Transmission</th>\n",
              "      <th>WheelTypeID</th>\n",
              "      <th>WheelType</th>\n",
              "      <th>VehOdo</th>\n",
              "      <th>Nationality</th>\n",
              "      <th>Size</th>\n",
              "      <th>TopThreeAmericanName</th>\n",
              "      <th>MMRAcquisitionAuctionAveragePrice</th>\n",
              "      <th>MMRAcquisitionAuctionCleanPrice</th>\n",
              "      <th>MMRAcquisitionRetailAveragePrice</th>\n",
              "      <th>MMRAcquisitonRetailCleanPrice</th>\n",
              "      <th>MMRCurrentAuctionAveragePrice</th>\n",
              "      <th>MMRCurrentAuctionCleanPrice</th>\n",
              "      <th>MMRCurrentRetailAveragePrice</th>\n",
              "      <th>MMRCurrentRetailCleanPrice</th>\n",
              "      <th>PRIMEUNIT</th>\n",
              "      <th>AUCGUART</th>\n",
              "      <th>BYRNO</th>\n",
              "      <th>VNZIP1</th>\n",
              "      <th>VNST</th>\n",
              "      <th>VehBCost</th>\n",
              "      <th>IsOnlineSale</th>\n",
              "      <th>WarrantyCost</th>\n",
              "    </tr>\n",
              "  </thead>\n",
              "  <tbody>\n",
              "  </tbody>\n",
              "</table>\n",
              "</div>"
            ],
            "text/plain": [
              "Empty DataFrame\n",
              "Columns: [RefId, PurchDate, Auction, VehYear, VehicleAge, Make, Model, Trim, SubModel, Color, Transmission, WheelTypeID, WheelType, VehOdo, Nationality, Size, TopThreeAmericanName, MMRAcquisitionAuctionAveragePrice, MMRAcquisitionAuctionCleanPrice, MMRAcquisitionRetailAveragePrice, MMRAcquisitonRetailCleanPrice, MMRCurrentAuctionAveragePrice, MMRCurrentAuctionCleanPrice, MMRCurrentRetailAveragePrice, MMRCurrentRetailCleanPrice, PRIMEUNIT, AUCGUART, BYRNO, VNZIP1, VNST, VehBCost, IsOnlineSale, WarrantyCost]\n",
              "Index: []"
            ]
          },
          "metadata": {
            "tags": []
          },
          "execution_count": 10
        }
      ]
    },
    {
      "cell_type": "markdown",
      "metadata": {
        "id": "buC5pKQhFNpP"
      },
      "source": [
        "As we see above, many column contains null values. It is important for us to understand the relevant columns that would help model to better generalize.\n",
        "Hence following columns seems not relevant that are requied to be passed to the model\n",
        "- PurchDate (Date might not be relevant by Year would be)\n",
        "- WheelTypeID\n",
        "- Model\n",
        "- Trim \n",
        "- SubModel\n",
        "- Make\n",
        "- VNZIP1\n",
        "- VNST\n",
        "- Color"
      ]
    },
    {
      "cell_type": "markdown",
      "metadata": {
        "id": "SqE8VSpOf5-G"
      },
      "source": [
        "Here I create few addtional column using the existing column to drive some addtional features from the datasets.\n",
        "\n",
        "The additional features help the model in better training, aslo ensuring the model to be more generalized."
      ]
    },
    {
      "cell_type": "code",
      "metadata": {
        "id": "unOrrRcFXYsR"
      },
      "source": [
        "def split_date(df):\n",
        "  df['PurchDate'] = pd.to_datetime(df['PurchDate'])\n",
        "  df['Year'] = df.PurchDate.dt.year"
      ],
      "execution_count": null,
      "outputs": []
    },
    {
      "cell_type": "code",
      "metadata": {
        "id": "9RZXea0UqlC_"
      },
      "source": [
        "def MeanOnFeatures(df):\n",
        "  df['mean_MMRCurrentAuctionAveragePrice_Make']=train.groupby(['Make'])['MMRCurrentAuctionAveragePrice'].transform('mean')\n",
        "  df['mean_MMRCurrentAuctionAveragePrice_Model']=train.groupby(['Model'])['MMRCurrentAuctionAveragePrice'].transform('mean')\n",
        "  df['mean_MMRCurrentAuctionAveragePrice_Trim']=train.groupby(['Trim'])['MMRCurrentAuctionAveragePrice'].transform('mean')\n",
        "  df['mean_MMRCurrentAuctionAveragePrice_SubModel']=train.groupby(['SubModel'])['MMRCurrentAuctionAveragePrice'].transform('mean')\n",
        "  df['mean_MMRCurrentAuctionAveragePrice_Color']=train.groupby(['Color'])['MMRCurrentAuctionAveragePrice'].transform('mean')\n",
        "  df['mean_MMRCurrentAuctionAveragePrice_Transmission']=train.groupby(['Transmission'])['MMRCurrentAuctionAveragePrice'].transform('mean')"
      ],
      "execution_count": null,
      "outputs": []
    },
    {
      "cell_type": "code",
      "metadata": {
        "id": "zxmRcEqnkGg0",
        "colab": {
          "base_uri": "https://localhost:8080/"
        },
        "outputId": "7eeb977d-2783-44fe-97bc-eb46e783e590"
      },
      "source": [
        "print(train.shape, test.shape)"
      ],
      "execution_count": null,
      "outputs": [
        {
          "output_type": "stream",
          "text": [
            "(72983, 34) (48707, 33)\n"
          ],
          "name": "stdout"
        }
      ]
    },
    {
      "cell_type": "code",
      "metadata": {
        "id": "R3KwbqjCX0-8",
        "colab": {
          "base_uri": "https://localhost:8080/"
        },
        "outputId": "e0396ce4-5a78-450f-f806-e05948d59d4f"
      },
      "source": [
        "split_date(train)\n",
        "split_date(test)\n",
        "\n",
        "print(train.shape, test.shape)\n",
        "\n",
        "MeanOnFeatures(train)\n",
        "MeanOnFeatures(test)"
      ],
      "execution_count": null,
      "outputs": [
        {
          "output_type": "stream",
          "text": [
            "(72983, 35) (48707, 34)\n"
          ],
          "name": "stdout"
        }
      ]
    },
    {
      "cell_type": "code",
      "metadata": {
        "id": "E2zdd5EZkmyw",
        "colab": {
          "base_uri": "https://localhost:8080/"
        },
        "outputId": "0c4c157d-36ee-4f84-8a65-11afcb8a6f6a"
      },
      "source": [
        "print(train.shape, test.shape)"
      ],
      "execution_count": null,
      "outputs": [
        {
          "output_type": "stream",
          "text": [
            "(72983, 41) (48707, 40)\n"
          ],
          "name": "stdout"
        }
      ]
    },
    {
      "cell_type": "code",
      "metadata": {
        "id": "0_o3pg1GGzTN"
      },
      "source": [
        "not_relevant_coulmns = [\"PurchDate\", \"WheelTypeID\", \"Model\", \"Trim\", \"SubModel\", \"VNZIP1\", \"VNST\", \"Make\", \"Color\"]\n",
        "\n",
        "def remove_features(df):\n",
        "  df.drop(not_relevant_coulmns, axis=1, inplace=True)\n",
        "\n",
        "remove_features(train)\n",
        "remove_features(test)"
      ],
      "execution_count": null,
      "outputs": []
    },
    {
      "cell_type": "code",
      "metadata": {
        "id": "8Lf3BO8FZmFp",
        "colab": {
          "base_uri": "https://localhost:8080/"
        },
        "outputId": "6fd13044-3650-4348-82ae-3752dd88943b"
      },
      "source": [
        "print(train.shape, test.shape)"
      ],
      "execution_count": null,
      "outputs": [
        {
          "output_type": "stream",
          "text": [
            "(72983, 32) (48707, 31)\n"
          ],
          "name": "stdout"
        }
      ]
    },
    {
      "cell_type": "markdown",
      "metadata": {
        "id": "rEuhh4d7lbQL"
      },
      "source": [
        "**Handling NaN**"
      ]
    },
    {
      "cell_type": "code",
      "metadata": {
        "id": "0ISExKm5mteB",
        "colab": {
          "base_uri": "https://localhost:8080/"
        },
        "outputId": "15df13be-4d6b-412c-aa0e-4ecbc472a04d"
      },
      "source": [
        "train.isnull().sum()"
      ],
      "execution_count": null,
      "outputs": [
        {
          "output_type": "execute_result",
          "data": {
            "text/plain": [
              "RefId                                                  0\n",
              "IsBadBuy                                               0\n",
              "Auction                                                0\n",
              "VehYear                                                0\n",
              "VehicleAge                                             0\n",
              "Transmission                                           9\n",
              "WheelType                                           3174\n",
              "VehOdo                                                 0\n",
              "Nationality                                            5\n",
              "Size                                                   5\n",
              "TopThreeAmericanName                                   5\n",
              "MMRAcquisitionAuctionAveragePrice                     18\n",
              "MMRAcquisitionAuctionCleanPrice                       18\n",
              "MMRAcquisitionRetailAveragePrice                      18\n",
              "MMRAcquisitonRetailCleanPrice                         18\n",
              "MMRCurrentAuctionAveragePrice                        315\n",
              "MMRCurrentAuctionCleanPrice                          315\n",
              "MMRCurrentRetailAveragePrice                         315\n",
              "MMRCurrentRetailCleanPrice                           315\n",
              "PRIMEUNIT                                          69564\n",
              "AUCGUART                                           69564\n",
              "BYRNO                                                  0\n",
              "VehBCost                                               0\n",
              "IsOnlineSale                                           0\n",
              "WarrantyCost                                           0\n",
              "Year                                                   0\n",
              "mean_MMRCurrentAuctionAveragePrice_Make                0\n",
              "mean_MMRCurrentAuctionAveragePrice_Model               3\n",
              "mean_MMRCurrentAuctionAveragePrice_Trim             2360\n",
              "mean_MMRCurrentAuctionAveragePrice_SubModel           11\n",
              "mean_MMRCurrentAuctionAveragePrice_Color               8\n",
              "mean_MMRCurrentAuctionAveragePrice_Transmission        9\n",
              "dtype: int64"
            ]
          },
          "metadata": {
            "tags": []
          },
          "execution_count": 18
        }
      ]
    },
    {
      "cell_type": "markdown",
      "metadata": {
        "id": "A_ae1VLCnLct"
      },
      "source": [
        "I observed one particular scenario where the categrical values are varying becuase of the case sensitive issue. "
      ]
    },
    {
      "cell_type": "code",
      "metadata": {
        "id": "jQK-YV_mnD-w",
        "colab": {
          "base_uri": "https://localhost:8080/"
        },
        "outputId": "a5ae781b-e4a6-4c5b-89e2-8c9b8d697639"
      },
      "source": [
        "train.Transmission.value_counts()"
      ],
      "execution_count": null,
      "outputs": [
        {
          "output_type": "execute_result",
          "data": {
            "text/plain": [
              "AUTO      70398\n",
              "MANUAL     2575\n",
              "Manual        1\n",
              "Name: Transmission, dtype: int64"
            ]
          },
          "metadata": {
            "tags": []
          },
          "execution_count": 19
        }
      ]
    },
    {
      "cell_type": "code",
      "metadata": {
        "id": "7a0B6f4rnf2e"
      },
      "source": [
        "# This should reslove this difference\n",
        "train[\"Transmission\"].replace(\"Manual\", \"MANUAL\", inplace=True)"
      ],
      "execution_count": null,
      "outputs": []
    },
    {
      "cell_type": "markdown",
      "metadata": {
        "id": "85gEi19yoTbp"
      },
      "source": [
        "The target values seems to be highly imbalance. This is not good for our machine learning model"
      ]
    },
    {
      "cell_type": "code",
      "metadata": {
        "id": "pEbfavixoSM2",
        "colab": {
          "base_uri": "https://localhost:8080/"
        },
        "outputId": "b01a4065-b25d-49ef-f067-ab1ed71cde7c"
      },
      "source": [
        "train.IsBadBuy.value_counts()"
      ],
      "execution_count": null,
      "outputs": [
        {
          "output_type": "execute_result",
          "data": {
            "text/plain": [
              "0    64007\n",
              "1     8976\n",
              "Name: IsBadBuy, dtype: int64"
            ]
          },
          "metadata": {
            "tags": []
          },
          "execution_count": 21
        }
      ]
    },
    {
      "cell_type": "code",
      "metadata": {
        "id": "5V0AYDFyoqzk",
        "colab": {
          "base_uri": "https://localhost:8080/",
          "height": 329
        },
        "outputId": "b735925d-90e8-4402-e21b-a8858329c3ae"
      },
      "source": [
        "count_class_0, count_class_1 = train.IsBadBuy.value_counts()\n",
        "\n",
        "df_class_0 = train[train['IsBadBuy'] == 0]\n",
        "df_class_1 = train[train['IsBadBuy'] == 1]\n",
        "\n",
        "df_class_1_over = df_class_1.sample(count_class_0, replace=True)\n",
        "df_test_over = pd.concat([df_class_0, df_class_1_over], axis=0)\n",
        "\n",
        "print(df_test_over.IsBadBuy.value_counts())\n",
        "\n",
        "df_test_over.IsBadBuy.value_counts().plot(kind='bar', title='Count (target)');"
      ],
      "execution_count": null,
      "outputs": [
        {
          "output_type": "stream",
          "text": [
            "1    64007\n",
            "0    64007\n",
            "Name: IsBadBuy, dtype: int64\n"
          ],
          "name": "stdout"
        },
        {
          "output_type": "display_data",
          "data": {
            "image/png": "[encoded data removed]",
            "text/plain": [
              "<Figure size 432x288 with 1 Axes>"
            ]
          },
          "metadata": {
            "tags": [],
            "needs_background": "light"
          }
        }
      ]
    },
    {
      "cell_type": "markdown",
      "metadata": {
        "id": "XhhJORWwyAsm"
      },
      "source": [
        "# 5: Data Cleaning, Spliting and Pipelines Implementation <a name=\"5\"></a>\n",
        "\n",
        "\n",
        "---\n",
        "<a href=\"#top\" class=\"btn btn-primary btn-sm\" role=\"button\" aria-pressed=\"true\" style=\"color:white\" data-toggle=\"popover\">Go to TOC</a> "
      ]
    },
    {
      "cell_type": "markdown",
      "metadata": {
        "id": "vT1J7mOGjicW"
      },
      "source": [
        "We perform the following tasks under this section\n",
        "- Segregating the features and target.\n",
        "- Identifying the numberical and categorical columns.\n",
        "- Spliting the dataset between train and testing. \n",
        "- For numberical columns\n",
        "  - Used KNN Imputer to fill the missing values.\n",
        "  - MinMaxScaler() to normalize the numberical values.\n",
        "- For categorical columns\n",
        "  - Used Simple Imputer to fill up the missing values.\n",
        "  - OneHotEncoder to all the catogorical columns.\n",
        "- Finally all the above steps are put inside a **pipelines**"
      ]
    },
    {
      "cell_type": "code",
      "metadata": {
        "id": "Oc6BQ2VEISdV"
      },
      "source": [
        "#create X and y datasets for splitting \n",
        "X = df_test_over.drop([\"RefId\",'IsBadBuy'], axis=1)\n",
        "y = df_test_over['IsBadBuy']"
      ],
      "execution_count": null,
      "outputs": []
    },
    {
      "cell_type": "code",
      "metadata": {
        "id": "Do3urfCvISao"
      },
      "source": [
        "all_features = X.columns\n",
        "all_features = all_features.tolist()"
      ],
      "execution_count": null,
      "outputs": []
    },
    {
      "cell_type": "code",
      "metadata": {
        "id": "D4n5eGrPISXl"
      },
      "source": [
        "numerical_features = [c for c, dtype in zip(X.columns, X.dtypes)\n",
        "                     if dtype.kind in ['i','f']]\n",
        "categorical_features = [c for c, dtype in zip(X.columns, X.dtypes)\n",
        "                     if dtype.kind not in ['i','f']]"
      ],
      "execution_count": null,
      "outputs": []
    },
    {
      "cell_type": "code",
      "metadata": {
        "id": "QEu77sfyISU8"
      },
      "source": [
        "#import train_test_split library\n",
        "from sklearn.model_selection import train_test_split\n",
        "\n",
        "# create train test split\n",
        "X_train, X_test, y_train, y_test = train_test_split(X,  y, test_size=0.3, random_state=42) "
      ],
      "execution_count": null,
      "outputs": []
    },
    {
      "cell_type": "code",
      "metadata": {
        "id": "bFzw9jnsLrgV"
      },
      "source": [
        "preprocessor = make_column_transformer(\n",
        "    \n",
        "    (make_pipeline(\n",
        "    SimpleImputer(strategy = 'median'),\n",
        "    # KNNImputer(n_neighbors=2, weights=\"uniform\"),\n",
        "    MinMaxScaler()), numerical_features),\n",
        "    \n",
        "    (make_pipeline(\n",
        "    SimpleImputer(strategy = 'constant', fill_value = 'missing'),\n",
        "    OneHotEncoder(categories = 'auto', handle_unknown = 'ignore')), categorical_features),\n",
        "    \n",
        ")"
      ],
      "execution_count": null,
      "outputs": []
    },
    {
      "cell_type": "code",
      "metadata": {
        "id": "Bry30NBQLrXe"
      },
      "source": [
        "preprocessor_best = make_pipeline(preprocessor, \n",
        "                                  VarianceThreshold(), \n",
        "                                  SelectKBest(f_classif, k = 50)\n",
        "                                 )"
      ],
      "execution_count": null,
      "outputs": []
    },
    {
      "cell_type": "markdown",
      "metadata": {
        "id": "l4v1E19sF4E-"
      },
      "source": [
        ""
      ]
    },
    {
      "cell_type": "markdown",
      "metadata": {
        "id": "EW27vLx9yAdR"
      },
      "source": [
        "# 6: Implemneting Random Forest <a name=\"6\"></a>\n",
        "\n",
        "\n",
        "---\n",
        "<a href=\"#top\" class=\"btn btn-primary btn-sm\" role=\"button\" aria-pressed=\"true\" style=\"color:white\" data-toggle=\"popover\">Go to TOC</a> "
      ]
    },
    {
      "cell_type": "code",
      "metadata": {
        "id": "Xr0zamtiLrUx"
      },
      "source": [
        "RF_Model = make_pipeline(preprocessor_best, RandomForestClassifier(n_estimators = 100))"
      ],
      "execution_count": null,
      "outputs": []
    },
    {
      "cell_type": "code",
      "metadata": {
        "colab": {
          "base_uri": "https://localhost:8080/"
        },
        "id": "DSnpK2mFwU-D",
        "outputId": "3cae1310-75b2-4b04-dc9d-7ebc4e5c3a29"
      },
      "source": [
        "RF_Model.fit(X_train, y_train)\n",
        "RF_Model.score(X_train, y_train)"
      ],
      "execution_count": null,
      "outputs": [
        {
          "output_type": "execute_result",
          "data": {
            "text/plain": [
              "1.0"
            ]
          },
          "metadata": {
            "tags": []
          },
          "execution_count": 30
        }
      ]
    },
    {
      "cell_type": "markdown",
      "metadata": {
        "id": "jBG5nXYFukYm"
      },
      "source": [
        "The training set accuracy is close to 100%! But we can't rely solely on the training set accuracy, we must evaluate the model on the validation/test set too.\n",
        "\n",
        "We can make predictions and compute accuracy in one step using model.score"
      ]
    },
    {
      "cell_type": "code",
      "metadata": {
        "colab": {
          "base_uri": "https://localhost:8080/"
        },
        "id": "WZTInThNwU5Y",
        "outputId": "cb791b25-cee0-4c29-a28e-2c6f4ab7c3ae"
      },
      "source": [
        "RF_Model.score(X_test, y_test)"
      ],
      "execution_count": null,
      "outputs": [
        {
          "output_type": "execute_result",
          "data": {
            "text/plain": [
              "0.9837000390574144"
            ]
          },
          "metadata": {
            "tags": []
          },
          "execution_count": 31
        }
      ]
    },
    {
      "cell_type": "markdown",
      "metadata": {
        "id": "CnLBIH49vKVX"
      },
      "source": [
        "It appears that the model has learned the training examples perfect, and doesn't generalize well to previously unseen examples. One possible reason might be because we to reslove oversampling we ended up inducing some overlaps between testing and training set hence we are observing a very high accuracy. This phenomenon is called \"overfitting\", and reducing overfitting is one of the most important parts of any machine learning project.\n",
        "\n",
        "I can now think of two possible solutions\n",
        "1. hyperparamterization to over come the overfitting. I will cover this in next section.\n",
        "2. Instead of spliting the data in train and testing set. Let us train on the entire set in one go this valiation strategy is called as K-fold cross validation. To illustrate this via an example I will implement XGboost an apply cross validation on top on it."
      ]
    },
    {
      "cell_type": "markdown",
      "metadata": {
        "id": "Cy3wHMTNyAHN"
      },
      "source": [
        "# 7: Hyperparamterization and Parameter Tuning  - Random Forest <a name=\"7\"></a>\n",
        "\n",
        "\n",
        "---\n",
        "<a href=\"#top\" class=\"btn btn-primary btn-sm\" role=\"button\" aria-pressed=\"true\" style=\"color:white\" data-toggle=\"popover\">Go to TOC</a> "
      ]
    },
    {
      "cell_type": "markdown",
      "metadata": {
        "id": "38eEPocJyIXQ"
      },
      "source": [
        "As we saw in the previous section, our random tree classifier memorized all training examples, leading to a 100% training accuracy, while the validation accuracy was only marginally better than a dumb baseline model. This phenomenon is called overfitting, and in this section, we'll look at some strategies for reducing overfitting. The process of reducing overfitting is known as regularlization.\n",
        "\n",
        "\n",
        "By varying the following fields, we can prevent the tree from memorizing all training examples, which may lead to better generalization"
      ]
    },
    {
      "cell_type": "code",
      "metadata": {
        "id": "raO48pbcLrSO"
      },
      "source": [
        "# Number of trees in random forest\n",
        "n_estimators = [int(x) for x in np.linspace(start = 100, stop = 1000, num = 19)]\n",
        "# Number of features to consider at every split\n",
        "max_features = ['auto', 'sqrt']\n",
        "#Maximum number of levels in tree\n",
        "max_depth = [2,4,6,8]\n",
        "# Minimum number of samples required to split a node\n",
        "min_samples_split = [2, 5]\n",
        "# Minimum number of samples required at each leaf node\n",
        "min_samples_leaf = [1, 2]\n",
        "# Method of selecting samples for training each tree\n",
        "bootstrap = [True, False]"
      ],
      "execution_count": null,
      "outputs": []
    },
    {
      "cell_type": "code",
      "metadata": {
        "colab": {
          "base_uri": "https://localhost:8080/"
        },
        "id": "Jz-lCtqwLrP4",
        "outputId": "693b7668-d15a-47b9-9a5e-7d1163ab3d92"
      },
      "source": [
        "# Create the param grid\n",
        "param_grid = {'randomforestclassifier__n_estimators': n_estimators,\n",
        "               'randomforestclassifier__max_features': max_features,\n",
        "               'randomforestclassifier__max_depth': max_depth,\n",
        "               'randomforestclassifier__min_samples_split': min_samples_split,\n",
        "               'randomforestclassifier__min_samples_leaf': min_samples_leaf,\n",
        "               'randomforestclassifier__bootstrap': bootstrap\n",
        "             }\n",
        "print(param_grid)"
      ],
      "execution_count": null,
      "outputs": [
        {
          "output_type": "stream",
          "text": [
            "{'randomforestclassifier__n_estimators': [100, 150, 200, 250, 300, 350, 400, 450, 500, 550, 600, 650, 700, 750, 800, 850, 900, 950, 1000], 'randomforestclassifier__max_features': ['auto', 'sqrt'], 'randomforestclassifier__max_depth': [2, 4, 6, 8], 'randomforestclassifier__min_samples_split': [2, 5], 'randomforestclassifier__min_samples_leaf': [1, 2], 'randomforestclassifier__bootstrap': [True, False]}\n"
          ],
          "name": "stdout"
        }
      ]
    },
    {
      "cell_type": "code",
      "metadata": {
        "id": "LNikJDEwLrM7"
      },
      "source": [
        "from sklearn.model_selection import RandomizedSearchCV\n",
        "rf_RandomGrid = RandomizedSearchCV(estimator = RF_Model, param_distributions = param_grid, cv = 3, verbose=1, n_jobs = -1, n_iter = 5, scoring = 'f1')"
      ],
      "execution_count": null,
      "outputs": []
    },
    {
      "cell_type": "code",
      "metadata": {
        "colab": {
          "base_uri": "https://localhost:8080/"
        },
        "id": "6ceRkvMJLrJ4",
        "outputId": "6ddf4d7e-beda-4ec7-d780-602165a95c72"
      },
      "source": [
        "%%time\n",
        "rf_RandomGrid.fit(X_train, y_train)"
      ],
      "execution_count": null,
      "outputs": [
        {
          "output_type": "stream",
          "text": [
            "Fitting 3 folds for each of 5 candidates, totalling 15 fits\n",
            "CPU times: user 1min 8s, sys: 762 ms, total: 1min 9s\n",
            "Wall time: 8min 22s\n"
          ],
          "name": "stdout"
        },
        {
          "output_type": "execute_result",
          "data": {
            "text/plain": [
              "RandomizedSearchCV(cv=3,\n",
              "                   estimator=Pipeline(steps=[('pipeline',\n",
              "                                              Pipeline(steps=[('columntransformer',\n",
              "                                                               ColumnTransformer(transformers=[('pipeline-1',\n",
              "                                                                                                Pipeline(steps=[('simpleimputer',\n",
              "                                                                                                                 SimpleImputer(strategy='median')),\n",
              "                                                                                                                ('minmaxscaler',\n",
              "                                                                                                                 MinMaxScaler())]),\n",
              "                                                                                                ['VehYear',\n",
              "                                                                                                 'VehicleAge',\n",
              "                                                                                                 'VehOdo',\n",
              "                                                                                                 'MMRAcquisitionAuctionAveragePrice',\n",
              "                                                                                                 'MMRAcquisitionAuctionCleanPrice',\n",
              "                                                                                                 '...\n",
              "                   param_distributions={'randomforestclassifier__bootstrap': [True,\n",
              "                                                                              False],\n",
              "                                        'randomforestclassifier__max_depth': [2,\n",
              "                                                                              4,\n",
              "                                                                              6,\n",
              "                                                                              8],\n",
              "                                        'randomforestclassifier__max_features': ['auto',\n",
              "                                                                                 'sqrt'],\n",
              "                                        'randomforestclassifier__min_samples_leaf': [1,\n",
              "                                                                                     2],\n",
              "                                        'randomforestclassifier__min_samples_split': [2,\n",
              "                                                                                      5],\n",
              "                                        'randomforestclassifier__n_estimators': [100,\n",
              "                                                                                 150,\n",
              "                                                                                 200,\n",
              "                                                                                 250,\n",
              "                                                                                 300,\n",
              "                                                                                 350,\n",
              "                                                                                 400,\n",
              "                                                                                 450,\n",
              "                                                                                 500,\n",
              "                                                                                 550,\n",
              "                                                                                 600,\n",
              "                                                                                 650,\n",
              "                                                                                 700,\n",
              "                                                                                 750,\n",
              "                                                                                 800,\n",
              "                                                                                 850,\n",
              "                                                                                 900,\n",
              "                                                                                 950,\n",
              "                                                                                 1000]},\n",
              "                   scoring='f1', verbose=1)"
            ]
          },
          "metadata": {
            "tags": []
          },
          "execution_count": 35
        }
      ]
    },
    {
      "cell_type": "code",
      "metadata": {
        "colab": {
          "base_uri": "https://localhost:8080/"
        },
        "id": "nGipvOuhuI1K",
        "outputId": "8f8c6356-b1c6-45c8-f8b3-0e95d2cda9a2"
      },
      "source": [
        "rf_RandomGrid.score(X_train, y_train)"
      ],
      "execution_count": null,
      "outputs": [
        {
          "output_type": "execute_result",
          "data": {
            "text/plain": [
              "0.7053987329979504"
            ]
          },
          "metadata": {
            "tags": []
          },
          "execution_count": 36
        }
      ]
    },
    {
      "cell_type": "code",
      "metadata": {
        "colab": {
          "base_uri": "https://localhost:8080/"
        },
        "id": "u8bjj5mPuIyT",
        "outputId": "678ba45d-782b-4d50-ba80-6e1d490d3fb6"
      },
      "source": [
        "rf_RandomGrid.score(X_test, y_test)"
      ],
      "execution_count": null,
      "outputs": [
        {
          "output_type": "execute_result",
          "data": {
            "text/plain": [
              "0.6956119337979094"
            ]
          },
          "metadata": {
            "tags": []
          },
          "execution_count": 37
        }
      ]
    },
    {
      "cell_type": "markdown",
      "metadata": {
        "id": "hfVtPYQ-y__K"
      },
      "source": [
        "Although the accuracy of overall model is reduced, We have significantly reduced overfitting as we see the co relation between the training and testing results. I now pick the best parameters which would help to me to achive better accuray from the avalaible list of parameters. \n",
        "\n",
        "Sklearn provides us the library **gridsearch CV** to help us running all the model over the list of parameter instead we doing it manually and **best_estimator** helps us in selecting the best parameter on which the model would befrom best"
      ]
    },
    {
      "cell_type": "code",
      "metadata": {
        "colab": {
          "base_uri": "https://localhost:8080/"
        },
        "id": "aUJtHLssQE2j",
        "outputId": "fec1e928-52e4-4ab2-dc4a-c5335528d486"
      },
      "source": [
        "rf_RandomGrid.best_estimator_"
      ],
      "execution_count": null,
      "outputs": [
        {
          "output_type": "execute_result",
          "data": {
            "text/plain": [
              "Pipeline(steps=[('pipeline',\n",
              "                 Pipeline(steps=[('columntransformer',\n",
              "                                  ColumnTransformer(transformers=[('pipeline-1',\n",
              "                                                                   Pipeline(steps=[('simpleimputer',\n",
              "                                                                                    SimpleImputer(strategy='median')),\n",
              "                                                                                   ('minmaxscaler',\n",
              "                                                                                    MinMaxScaler())]),\n",
              "                                                                   ['VehYear',\n",
              "                                                                    'VehicleAge',\n",
              "                                                                    'VehOdo',\n",
              "                                                                    'MMRAcquisitionAuctionAveragePrice',\n",
              "                                                                    'MMRAcquisitionAuctionCleanPrice',\n",
              "                                                                    'MMRAcquisitionRetailAveragePrice',...\n",
              "                                                                                                  strategy='constant')),\n",
              "                                                                                   ('onehotencoder',\n",
              "                                                                                    OneHotEncoder(handle_unknown='ignore'))]),\n",
              "                                                                   ['Auction',\n",
              "                                                                    'Transmission',\n",
              "                                                                    'WheelType',\n",
              "                                                                    'Nationality',\n",
              "                                                                    'Size',\n",
              "                                                                    'TopThreeAmericanName',\n",
              "                                                                    'PRIMEUNIT',\n",
              "                                                                    'AUCGUART'])])),\n",
              "                                 ('variancethreshold', VarianceThreshold()),\n",
              "                                 ('selectkbest', SelectKBest(k=50))])),\n",
              "                ('randomforestclassifier',\n",
              "                 RandomForestClassifier(max_depth=8, min_samples_leaf=2,\n",
              "                                        n_estimators=600))])"
            ]
          },
          "metadata": {
            "tags": []
          },
          "execution_count": 38
        }
      ]
    },
    {
      "cell_type": "markdown",
      "metadata": {
        "id": "WATzeDMrQLKO"
      },
      "source": [
        "Accuracy"
      ]
    },
    {
      "cell_type": "code",
      "metadata": {
        "colab": {
          "base_uri": "https://localhost:8080/"
        },
        "id": "hq163eH1QEzC",
        "outputId": "c2b4f6fe-94ba-47d1-b411-ffc0be44c6a0"
      },
      "source": [
        "print(f'Train : {rf_RandomGrid.score(X_train, y_train):.3f}')\n",
        "print(f'Test : {rf_RandomGrid.score(X_test, y_test):.3f}')"
      ],
      "execution_count": null,
      "outputs": [
        {
          "output_type": "stream",
          "text": [
            "Train : 0.705\n",
            "Test : 0.696\n"
          ],
          "name": "stdout"
        }
      ]
    },
    {
      "cell_type": "code",
      "metadata": {
        "colab": {
          "base_uri": "https://localhost:8080/",
          "height": 240
        },
        "id": "rw0J2P5i1ocC",
        "outputId": "24aee2cd-5839-49ea-872c-9e1db9285ec4"
      },
      "source": [
        "X_test.head()"
      ],
      "execution_count": null,
      "outputs": [
        {
          "output_type": "execute_result",
          "data": {
            "text/html": [
              "<div>\n",
              "<style scoped>\n",
              "    .dataframe tbody tr th:only-of-type {\n",
              "        vertical-align: middle;\n",
              "    }\n",
              "\n",
              "    .dataframe tbody tr th {\n",
              "        vertical-align: top;\n",
              "    }\n",
              "\n",
              "    .dataframe thead th {\n",
              "        text-align: right;\n",
              "    }\n",
              "</style>\n",
              "<table border=\"1\" class=\"dataframe\">\n",
              "  <thead>\n",
              "    <tr style=\"text-align: right;\">\n",
              "      <th></th>\n",
              "      <th>Auction</th>\n",
              "      <th>VehYear</th>\n",
              "      <th>VehicleAge</th>\n",
              "      <th>Transmission</th>\n",
              "      <th>WheelType</th>\n",
              "      <th>VehOdo</th>\n",
              "      <th>Nationality</th>\n",
              "      <th>Size</th>\n",
              "      <th>TopThreeAmericanName</th>\n",
              "      <th>MMRAcquisitionAuctionAveragePrice</th>\n",
              "      <th>MMRAcquisitionAuctionCleanPrice</th>\n",
              "      <th>MMRAcquisitionRetailAveragePrice</th>\n",
              "      <th>MMRAcquisitonRetailCleanPrice</th>\n",
              "      <th>MMRCurrentAuctionAveragePrice</th>\n",
              "      <th>MMRCurrentAuctionCleanPrice</th>\n",
              "      <th>MMRCurrentRetailAveragePrice</th>\n",
              "      <th>MMRCurrentRetailCleanPrice</th>\n",
              "      <th>PRIMEUNIT</th>\n",
              "      <th>AUCGUART</th>\n",
              "      <th>BYRNO</th>\n",
              "      <th>VehBCost</th>\n",
              "      <th>IsOnlineSale</th>\n",
              "      <th>WarrantyCost</th>\n",
              "      <th>Year</th>\n",
              "      <th>mean_MMRCurrentAuctionAveragePrice_Make</th>\n",
              "      <th>mean_MMRCurrentAuctionAveragePrice_Model</th>\n",
              "      <th>mean_MMRCurrentAuctionAveragePrice_Trim</th>\n",
              "      <th>mean_MMRCurrentAuctionAveragePrice_SubModel</th>\n",
              "      <th>mean_MMRCurrentAuctionAveragePrice_Color</th>\n",
              "      <th>mean_MMRCurrentAuctionAveragePrice_Transmission</th>\n",
              "    </tr>\n",
              "  </thead>\n",
              "  <tbody>\n",
              "    <tr>\n",
              "      <th>66800</th>\n",
              "      <td>ADESA</td>\n",
              "      <td>2006</td>\n",
              "      <td>4</td>\n",
              "      <td>AUTO</td>\n",
              "      <td>Alloy</td>\n",
              "      <td>79425</td>\n",
              "      <td>TOP LINE ASIAN</td>\n",
              "      <td>MEDIUM</td>\n",
              "      <td>OTHER</td>\n",
              "      <td>7217.0</td>\n",
              "      <td>8690.0</td>\n",
              "      <td>10887.0</td>\n",
              "      <td>12125.0</td>\n",
              "      <td>7813.0</td>\n",
              "      <td>9250.0</td>\n",
              "      <td>11633.0</td>\n",
              "      <td>13264.0</td>\n",
              "      <td>NaN</td>\n",
              "      <td>NaN</td>\n",
              "      <td>17675</td>\n",
              "      <td>7560.0</td>\n",
              "      <td>0</td>\n",
              "      <td>686</td>\n",
              "      <td>2010</td>\n",
              "      <td>7021.627649</td>\n",
              "      <td>7091.027900</td>\n",
              "      <td>6171.007828</td>\n",
              "      <td>5577.972891</td>\n",
              "      <td>6794.120395</td>\n",
              "      <td>6180.060667</td>\n",
              "    </tr>\n",
              "    <tr>\n",
              "      <th>60924</th>\n",
              "      <td>MANHEIM</td>\n",
              "      <td>2004</td>\n",
              "      <td>6</td>\n",
              "      <td>AUTO</td>\n",
              "      <td>Alloy</td>\n",
              "      <td>57477</td>\n",
              "      <td>AMERICAN</td>\n",
              "      <td>LARGE</td>\n",
              "      <td>GM</td>\n",
              "      <td>4249.0</td>\n",
              "      <td>5452.0</td>\n",
              "      <td>6678.0</td>\n",
              "      <td>8172.0</td>\n",
              "      <td>4381.0</td>\n",
              "      <td>5885.0</td>\n",
              "      <td>7759.0</td>\n",
              "      <td>9371.0</td>\n",
              "      <td>NaN</td>\n",
              "      <td>NaN</td>\n",
              "      <td>5546</td>\n",
              "      <td>7020.0</td>\n",
              "      <td>0</td>\n",
              "      <td>1500</td>\n",
              "      <td>2010</td>\n",
              "      <td>6232.051888</td>\n",
              "      <td>5090.230337</td>\n",
              "      <td>6466.957348</td>\n",
              "      <td>4689.661074</td>\n",
              "      <td>6582.068127</td>\n",
              "      <td>6180.060667</td>\n",
              "    </tr>\n",
              "    <tr>\n",
              "      <th>29350</th>\n",
              "      <td>OTHER</td>\n",
              "      <td>2008</td>\n",
              "      <td>1</td>\n",
              "      <td>AUTO</td>\n",
              "      <td>Covers</td>\n",
              "      <td>51993</td>\n",
              "      <td>AMERICAN</td>\n",
              "      <td>MEDIUM</td>\n",
              "      <td>CHRYSLER</td>\n",
              "      <td>7239.0</td>\n",
              "      <td>7802.0</td>\n",
              "      <td>8318.0</td>\n",
              "      <td>8926.0</td>\n",
              "      <td>7524.0</td>\n",
              "      <td>8277.0</td>\n",
              "      <td>10564.0</td>\n",
              "      <td>11431.0</td>\n",
              "      <td>NaN</td>\n",
              "      <td>NaN</td>\n",
              "      <td>99761</td>\n",
              "      <td>6800.0</td>\n",
              "      <td>0</td>\n",
              "      <td>754</td>\n",
              "      <td>2009</td>\n",
              "      <td>6546.501242</td>\n",
              "      <td>7586.763860</td>\n",
              "      <td>5768.078539</td>\n",
              "      <td>7387.896366</td>\n",
              "      <td>6007.655969</td>\n",
              "      <td>6180.060667</td>\n",
              "    </tr>\n",
              "    <tr>\n",
              "      <th>8085</th>\n",
              "      <td>MANHEIM</td>\n",
              "      <td>2003</td>\n",
              "      <td>7</td>\n",
              "      <td>AUTO</td>\n",
              "      <td>Alloy</td>\n",
              "      <td>88192</td>\n",
              "      <td>AMERICAN</td>\n",
              "      <td>MEDIUM SUV</td>\n",
              "      <td>GM</td>\n",
              "      <td>5419.0</td>\n",
              "      <td>6817.0</td>\n",
              "      <td>9180.0</td>\n",
              "      <td>10364.0</td>\n",
              "      <td>5946.0</td>\n",
              "      <td>7408.0</td>\n",
              "      <td>9684.0</td>\n",
              "      <td>11810.0</td>\n",
              "      <td>NaN</td>\n",
              "      <td>NaN</td>\n",
              "      <td>17675</td>\n",
              "      <td>7800.0</td>\n",
              "      <td>0</td>\n",
              "      <td>2452</td>\n",
              "      <td>2010</td>\n",
              "      <td>6232.051888</td>\n",
              "      <td>7290.643939</td>\n",
              "      <td>6466.957348</td>\n",
              "      <td>6451.841443</td>\n",
              "      <td>6053.234606</td>\n",
              "      <td>6180.060667</td>\n",
              "    </tr>\n",
              "    <tr>\n",
              "      <th>56014</th>\n",
              "      <td>OTHER</td>\n",
              "      <td>2005</td>\n",
              "      <td>4</td>\n",
              "      <td>AUTO</td>\n",
              "      <td>Alloy</td>\n",
              "      <td>86397</td>\n",
              "      <td>AMERICAN</td>\n",
              "      <td>CROSSOVER</td>\n",
              "      <td>CHRYSLER</td>\n",
              "      <td>6947.0</td>\n",
              "      <td>8346.0</td>\n",
              "      <td>8003.0</td>\n",
              "      <td>9514.0</td>\n",
              "      <td>6150.0</td>\n",
              "      <td>7713.0</td>\n",
              "      <td>7142.0</td>\n",
              "      <td>8830.0</td>\n",
              "      <td>NaN</td>\n",
              "      <td>NaN</td>\n",
              "      <td>18880</td>\n",
              "      <td>7900.0</td>\n",
              "      <td>0</td>\n",
              "      <td>1503</td>\n",
              "      <td>2009</td>\n",
              "      <td>6032.147123</td>\n",
              "      <td>7732.619808</td>\n",
              "      <td>5831.287933</td>\n",
              "      <td>6996.750000</td>\n",
              "      <td>6178.132744</td>\n",
              "      <td>6180.060667</td>\n",
              "    </tr>\n",
              "  </tbody>\n",
              "</table>\n",
              "</div>"
            ],
            "text/plain": [
              "       Auction  VehYear  VehicleAge Transmission WheelType  VehOdo  \\\n",
              "66800    ADESA     2006           4         AUTO     Alloy   79425   \n",
              "60924  MANHEIM     2004           6         AUTO     Alloy   57477   \n",
              "29350    OTHER     2008           1         AUTO    Covers   51993   \n",
              "8085   MANHEIM     2003           7         AUTO     Alloy   88192   \n",
              "56014    OTHER     2005           4         AUTO     Alloy   86397   \n",
              "\n",
              "          Nationality        Size TopThreeAmericanName  \\\n",
              "66800  TOP LINE ASIAN      MEDIUM                OTHER   \n",
              "60924        AMERICAN       LARGE                   GM   \n",
              "29350        AMERICAN      MEDIUM             CHRYSLER   \n",
              "8085         AMERICAN  MEDIUM SUV                   GM   \n",
              "56014        AMERICAN   CROSSOVER             CHRYSLER   \n",
              "\n",
              "       MMRAcquisitionAuctionAveragePrice  MMRAcquisitionAuctionCleanPrice  \\\n",
              "66800                             7217.0                           8690.0   \n",
              "60924                             4249.0                           5452.0   \n",
              "29350                             7239.0                           7802.0   \n",
              "8085                              5419.0                           6817.0   \n",
              "56014                             6947.0                           8346.0   \n",
              "\n",
              "       MMRAcquisitionRetailAveragePrice  MMRAcquisitonRetailCleanPrice  \\\n",
              "66800                           10887.0                        12125.0   \n",
              "60924                            6678.0                         8172.0   \n",
              "29350                            8318.0                         8926.0   \n",
              "8085                             9180.0                        10364.0   \n",
              "56014                            8003.0                         9514.0   \n",
              "\n",
              "       MMRCurrentAuctionAveragePrice  MMRCurrentAuctionCleanPrice  \\\n",
              "66800                         7813.0                       9250.0   \n",
              "60924                         4381.0                       5885.0   \n",
              "29350                         7524.0                       8277.0   \n",
              "8085                          5946.0                       7408.0   \n",
              "56014                         6150.0                       7713.0   \n",
              "\n",
              "       MMRCurrentRetailAveragePrice  MMRCurrentRetailCleanPrice PRIMEUNIT  \\\n",
              "66800                       11633.0                     13264.0       NaN   \n",
              "60924                        7759.0                      9371.0       NaN   \n",
              "29350                       10564.0                     11431.0       NaN   \n",
              "8085                         9684.0                     11810.0       NaN   \n",
              "56014                        7142.0                      8830.0       NaN   \n",
              "\n",
              "      AUCGUART  BYRNO  VehBCost  IsOnlineSale  WarrantyCost  Year  \\\n",
              "66800      NaN  17675    7560.0             0           686  2010   \n",
              "60924      NaN   5546    7020.0             0          1500  2010   \n",
              "29350      NaN  99761    6800.0             0           754  2009   \n",
              "8085       NaN  17675    7800.0             0          2452  2010   \n",
              "56014      NaN  18880    7900.0             0          1503  2009   \n",
              "\n",
              "       mean_MMRCurrentAuctionAveragePrice_Make  \\\n",
              "66800                              7021.627649   \n",
              "60924                              6232.051888   \n",
              "29350                              6546.501242   \n",
              "8085                               6232.051888   \n",
              "56014                              6032.147123   \n",
              "\n",
              "       mean_MMRCurrentAuctionAveragePrice_Model  \\\n",
              "66800                               7091.027900   \n",
              "60924                               5090.230337   \n",
              "29350                               7586.763860   \n",
              "8085                                7290.643939   \n",
              "56014                               7732.619808   \n",
              "\n",
              "       mean_MMRCurrentAuctionAveragePrice_Trim  \\\n",
              "66800                              6171.007828   \n",
              "60924                              6466.957348   \n",
              "29350                              5768.078539   \n",
              "8085                               6466.957348   \n",
              "56014                              5831.287933   \n",
              "\n",
              "       mean_MMRCurrentAuctionAveragePrice_SubModel  \\\n",
              "66800                                  5577.972891   \n",
              "60924                                  4689.661074   \n",
              "29350                                  7387.896366   \n",
              "8085                                   6451.841443   \n",
              "56014                                  6996.750000   \n",
              "\n",
              "       mean_MMRCurrentAuctionAveragePrice_Color  \\\n",
              "66800                               6794.120395   \n",
              "60924                               6582.068127   \n",
              "29350                               6007.655969   \n",
              "8085                                6053.234606   \n",
              "56014                               6178.132744   \n",
              "\n",
              "       mean_MMRCurrentAuctionAveragePrice_Transmission  \n",
              "66800                                      6180.060667  \n",
              "60924                                      6180.060667  \n",
              "29350                                      6180.060667  \n",
              "8085                                       6180.060667  \n",
              "56014                                      6180.060667  "
            ]
          },
          "metadata": {
            "tags": []
          },
          "execution_count": 61
        }
      ]
    },
    {
      "cell_type": "code",
      "metadata": {
        "colab": {
          "base_uri": "https://localhost:8080/",
          "height": 100
        },
        "id": "-535ky3e18ge",
        "outputId": "222e7be3-b1b6-4b37-9c66-44bb54251a16"
      },
      "source": [
        "X_test.iloc[1:2, :]"
      ],
      "execution_count": null,
      "outputs": [
        {
          "output_type": "execute_result",
          "data": {
            "text/html": [
              "<div>\n",
              "<style scoped>\n",
              "    .dataframe tbody tr th:only-of-type {\n",
              "        vertical-align: middle;\n",
              "    }\n",
              "\n",
              "    .dataframe tbody tr th {\n",
              "        vertical-align: top;\n",
              "    }\n",
              "\n",
              "    .dataframe thead th {\n",
              "        text-align: right;\n",
              "    }\n",
              "</style>\n",
              "<table border=\"1\" class=\"dataframe\">\n",
              "  <thead>\n",
              "    <tr style=\"text-align: right;\">\n",
              "      <th></th>\n",
              "      <th>Auction</th>\n",
              "      <th>VehYear</th>\n",
              "      <th>VehicleAge</th>\n",
              "      <th>Transmission</th>\n",
              "      <th>WheelType</th>\n",
              "      <th>VehOdo</th>\n",
              "      <th>Nationality</th>\n",
              "      <th>Size</th>\n",
              "      <th>TopThreeAmericanName</th>\n",
              "      <th>MMRAcquisitionAuctionAveragePrice</th>\n",
              "      <th>MMRAcquisitionAuctionCleanPrice</th>\n",
              "      <th>MMRAcquisitionRetailAveragePrice</th>\n",
              "      <th>MMRAcquisitonRetailCleanPrice</th>\n",
              "      <th>MMRCurrentAuctionAveragePrice</th>\n",
              "      <th>MMRCurrentAuctionCleanPrice</th>\n",
              "      <th>MMRCurrentRetailAveragePrice</th>\n",
              "      <th>MMRCurrentRetailCleanPrice</th>\n",
              "      <th>PRIMEUNIT</th>\n",
              "      <th>AUCGUART</th>\n",
              "      <th>BYRNO</th>\n",
              "      <th>VehBCost</th>\n",
              "      <th>IsOnlineSale</th>\n",
              "      <th>WarrantyCost</th>\n",
              "      <th>Year</th>\n",
              "      <th>mean_MMRCurrentAuctionAveragePrice_Make</th>\n",
              "      <th>mean_MMRCurrentAuctionAveragePrice_Model</th>\n",
              "      <th>mean_MMRCurrentAuctionAveragePrice_Trim</th>\n",
              "      <th>mean_MMRCurrentAuctionAveragePrice_SubModel</th>\n",
              "      <th>mean_MMRCurrentAuctionAveragePrice_Color</th>\n",
              "      <th>mean_MMRCurrentAuctionAveragePrice_Transmission</th>\n",
              "    </tr>\n",
              "  </thead>\n",
              "  <tbody>\n",
              "    <tr>\n",
              "      <th>60924</th>\n",
              "      <td>MANHEIM</td>\n",
              "      <td>2004</td>\n",
              "      <td>6</td>\n",
              "      <td>AUTO</td>\n",
              "      <td>Alloy</td>\n",
              "      <td>57477</td>\n",
              "      <td>AMERICAN</td>\n",
              "      <td>LARGE</td>\n",
              "      <td>GM</td>\n",
              "      <td>4249.0</td>\n",
              "      <td>5452.0</td>\n",
              "      <td>6678.0</td>\n",
              "      <td>8172.0</td>\n",
              "      <td>4381.0</td>\n",
              "      <td>5885.0</td>\n",
              "      <td>7759.0</td>\n",
              "      <td>9371.0</td>\n",
              "      <td>NaN</td>\n",
              "      <td>NaN</td>\n",
              "      <td>5546</td>\n",
              "      <td>7020.0</td>\n",
              "      <td>0</td>\n",
              "      <td>1500</td>\n",
              "      <td>2010</td>\n",
              "      <td>6232.051888</td>\n",
              "      <td>5090.230337</td>\n",
              "      <td>6466.957348</td>\n",
              "      <td>4689.661074</td>\n",
              "      <td>6582.068127</td>\n",
              "      <td>6180.060667</td>\n",
              "    </tr>\n",
              "  </tbody>\n",
              "</table>\n",
              "</div>"
            ],
            "text/plain": [
              "       Auction  VehYear  VehicleAge Transmission WheelType  VehOdo  \\\n",
              "60924  MANHEIM     2004           6         AUTO     Alloy   57477   \n",
              "\n",
              "      Nationality   Size TopThreeAmericanName  \\\n",
              "60924    AMERICAN  LARGE                   GM   \n",
              "\n",
              "       MMRAcquisitionAuctionAveragePrice  MMRAcquisitionAuctionCleanPrice  \\\n",
              "60924                             4249.0                           5452.0   \n",
              "\n",
              "       MMRAcquisitionRetailAveragePrice  MMRAcquisitonRetailCleanPrice  \\\n",
              "60924                            6678.0                         8172.0   \n",
              "\n",
              "       MMRCurrentAuctionAveragePrice  MMRCurrentAuctionCleanPrice  \\\n",
              "60924                         4381.0                       5885.0   \n",
              "\n",
              "       MMRCurrentRetailAveragePrice  MMRCurrentRetailCleanPrice PRIMEUNIT  \\\n",
              "60924                        7759.0                      9371.0       NaN   \n",
              "\n",
              "      AUCGUART  BYRNO  VehBCost  IsOnlineSale  WarrantyCost  Year  \\\n",
              "60924      NaN   5546    7020.0             0          1500  2010   \n",
              "\n",
              "       mean_MMRCurrentAuctionAveragePrice_Make  \\\n",
              "60924                              6232.051888   \n",
              "\n",
              "       mean_MMRCurrentAuctionAveragePrice_Model  \\\n",
              "60924                               5090.230337   \n",
              "\n",
              "       mean_MMRCurrentAuctionAveragePrice_Trim  \\\n",
              "60924                              6466.957348   \n",
              "\n",
              "       mean_MMRCurrentAuctionAveragePrice_SubModel  \\\n",
              "60924                                  4689.661074   \n",
              "\n",
              "       mean_MMRCurrentAuctionAveragePrice_Color  \\\n",
              "60924                               6582.068127   \n",
              "\n",
              "       mean_MMRCurrentAuctionAveragePrice_Transmission  \n",
              "60924                                      6180.060667  "
            ]
          },
          "metadata": {
            "tags": []
          },
          "execution_count": 63
        }
      ]
    },
    {
      "cell_type": "code",
      "metadata": {
        "colab": {
          "base_uri": "https://localhost:8080/"
        },
        "id": "gdNF48yG1cPp",
        "outputId": "f2508abc-1d92-4f7b-ffa9-95c1fc4d4d07"
      },
      "source": [
        "array = rf_RandomGrid.predict_proba(X_test.iloc[1:2, :])[0]\n",
        "array[0]"
      ],
      "execution_count": null,
      "outputs": [
        {
          "output_type": "execute_result",
          "data": {
            "text/plain": [
              "array([0.50157852, 0.49842148])"
            ]
          },
          "metadata": {
            "tags": []
          },
          "execution_count": 69
        }
      ]
    },
    {
      "cell_type": "markdown",
      "metadata": {
        "id": "rCzFJQIdznB2"
      },
      "source": [
        "It is observed that although the accuray has dropped significantly but the deviation between the training and test sets is minimal. Hence our model is fairly generalized.\n",
        "\n",
        "Results captured can now be submitted to kaggle. In the following block we create the output file and the same can be uploaded to kaggle"
      ]
    },
    {
      "cell_type": "code",
      "metadata": {
        "colab": {
          "base_uri": "https://localhost:8080/"
        },
        "id": "cMvT0wOszCe3",
        "outputId": "038c5f09-0fd1-40b1-ca4d-2786536e002a"
      },
      "source": [
        "preds = rf_RandomGrid.predict(test.iloc[:, 1:31])\n",
        "output = pd.DataFrame({'Refid': test.RefId, 'IsBadBuy': preds})\n",
        "output.to_csv('my_submission_rf_model_hyperparameterized.csv', index=False)\n",
        "print(\"Your submission was successfully saved!\")"
      ],
      "execution_count": null,
      "outputs": [
        {
          "output_type": "stream",
          "text": [
            "Your submission was successfully saved!\n"
          ],
          "name": "stdout"
        }
      ]
    },
    {
      "cell_type": "markdown",
      "metadata": {
        "id": "dO2d1hvCyAOF"
      },
      "source": [
        "# <font color=\"white\" size=+2.0><b>8: Implementing XBboost Forest</b></font> <a name=\"8\"></a>\n",
        "\n",
        "\n",
        "---\n",
        "<a href=\"#top\" class=\"btn btn-primary btn-sm\" role=\"button\" aria-pressed=\"true\" style=\"color:white\" data-toggle=\"popover\">Go to TOC</a> "
      ]
    },
    {
      "cell_type": "markdown",
      "metadata": {
        "id": "x9nfCZGC7Nvm"
      },
      "source": [
        "First we will setup our pipelines as usual"
      ]
    },
    {
      "cell_type": "code",
      "metadata": {
        "id": "nhcIVRnHLnVM"
      },
      "source": [
        "preprocessor = make_column_transformer(\n",
        "    \n",
        "    (make_pipeline(\n",
        "    #SimpleImputer(strategy = 'median'),\n",
        "    KNNImputer(n_neighbors=2, weights=\"uniform\"),\n",
        "    MinMaxScaler()), numerical_features),\n",
        "    \n",
        "    (make_pipeline(\n",
        "    SimpleImputer(strategy = 'constant', fill_value = 'missing'),\n",
        "    OneHotEncoder(categories = 'auto', handle_unknown = 'ignore')), categorical_features),\n",
        "\n",
        ")\n",
        "\n",
        "preprocessor_best = make_pipeline(preprocessor,\n",
        "                                  VarianceThreshold(), \n",
        "                                  SelectKBest(f_classif, k = 50)\n",
        "                                 )\n"
      ],
      "execution_count": null,
      "outputs": []
    },
    {
      "cell_type": "markdown",
      "metadata": {
        "id": "2hhGlSAG7YrF"
      },
      "source": [
        "Here we call the xgboost classifier"
      ]
    },
    {
      "cell_type": "code",
      "metadata": {
        "id": "Xq4dQTb9r6tp"
      },
      "source": [
        "from xgboost import XGBClassifier\n",
        "import xgboost as xgb\n",
        "# model = XGBClassifier(random_state=42, n_jobs=-1, n_estimators=20, max_depth=4, use_label_encoder=False)\n",
        "\n",
        "XG_model = make_pipeline(preprocessor_best, XGBClassifier(n_estimators = 100))"
      ],
      "execution_count": null,
      "outputs": []
    },
    {
      "cell_type": "markdown",
      "metadata": {
        "id": "_r2v4dSt9ido"
      },
      "source": [
        "Now we fit the model to the entire dataset. Remember we wont be performing train test split instead we will use K fold cross validation to evaluta our model."
      ]
    },
    {
      "cell_type": "code",
      "metadata": {
        "colab": {
          "base_uri": "https://localhost:8080/"
        },
        "id": "l6nWXHv9s2zr",
        "outputId": "94dd7063-7f2c-4a3d-dbe5-da09c922bcf5"
      },
      "source": [
        "%%time\n",
        "\n",
        "# XG_model.fit(X_train, y_train)\n",
        "XG_model.fit(X, y)"
      ],
      "execution_count": null,
      "outputs": [
        {
          "output_type": "stream",
          "text": [
            "/usr/local/lib/python3.7/dist-packages/xgboost/sklearn.py:1146: UserWarning: The use of label encoder in XGBClassifier is deprecated and will be removed in a future release. To remove this warning, do the following: 1) Pass option use_label_encoder=False when constructing XGBClassifier object; and 2) Encode your labels (y) as integers starting with 0, i.e. 0, 1, 2, ..., [num_class - 1].\n",
            "  warnings.warn(label_encoder_deprecation_msg, UserWarning)\n"
          ],
          "name": "stderr"
        },
        {
          "output_type": "stream",
          "text": [
            "[10:07:51] WARNING: ../src/learner.cc:1095: Starting in XGBoost 1.3.0, the default evaluation metric used with the objective 'binary:logistic' was changed from 'error' to 'logloss'. Explicitly set eval_metric if you'd like to restore the old behavior.\n",
            "CPU times: user 2min 3s, sys: 4.45 s, total: 2min 8s\n",
            "Wall time: 1min 32s\n"
          ],
          "name": "stdout"
        },
        {
          "output_type": "execute_result",
          "data": {
            "text/plain": [
              "Pipeline(steps=[('pipeline',\n",
              "                 Pipeline(steps=[('columntransformer',\n",
              "                                  ColumnTransformer(transformers=[('pipeline-1',\n",
              "                                                                   Pipeline(steps=[('knnimputer',\n",
              "                                                                                    KNNImputer(n_neighbors=2)),\n",
              "                                                                                   ('minmaxscaler',\n",
              "                                                                                    MinMaxScaler())]),\n",
              "                                                                   ['VehYear',\n",
              "                                                                    'VehicleAge',\n",
              "                                                                    'VehOdo',\n",
              "                                                                    'MMRAcquisitionAuctionAveragePrice',\n",
              "                                                                    'MMRAcquisitionAuctionCleanPrice',\n",
              "                                                                    'MMRAcquisitionRetailAveragePrice',\n",
              "                                                                    'MMRAcquis...\n",
              "                               colsample_bytree=1, gamma=0, gpu_id=-1,\n",
              "                               importance_type='gain',\n",
              "                               interaction_constraints='',\n",
              "                               learning_rate=0.300000012, max_delta_step=0,\n",
              "                               max_depth=6, min_child_weight=1, missing=nan,\n",
              "                               monotone_constraints='()', n_estimators=100,\n",
              "                               n_jobs=2, num_parallel_tree=1, random_state=0,\n",
              "                               reg_alpha=0, reg_lambda=1, scale_pos_weight=1,\n",
              "                               subsample=1, tree_method='exact',\n",
              "                               validate_parameters=1, verbosity=None))])"
            ]
          },
          "metadata": {
            "tags": []
          },
          "execution_count": 48
        }
      ]
    },
    {
      "cell_type": "code",
      "metadata": {
        "colab": {
          "base_uri": "https://localhost:8080/"
        },
        "id": "8fFTdcueMdWC",
        "outputId": "ff367cc2-2a85-4b28-c74e-720b12a685c7"
      },
      "source": [
        "# XG_model.score(X_train, y_train)\n",
        "XG_model.score(X, y)"
      ],
      "execution_count": null,
      "outputs": [
        {
          "output_type": "execute_result",
          "data": {
            "text/plain": [
              "0.8396972206164951"
            ]
          },
          "metadata": {
            "tags": []
          },
          "execution_count": 49
        }
      ]
    },
    {
      "cell_type": "markdown",
      "metadata": {
        "id": "yFtYWkCD909t"
      },
      "source": [
        "Our model has shown the accuracy of about 83% when tested on train set. Let us now implement the k fold cross validation"
      ]
    },
    {
      "cell_type": "markdown",
      "metadata": {
        "id": "2foFqR8Kyk5o"
      },
      "source": [
        "**K Fold Cross Validation**"
      ]
    },
    {
      "cell_type": "code",
      "metadata": {
        "id": "3E0i9qEgyoBn"
      },
      "source": [
        "from sklearn.model_selection import KFold"
      ],
      "execution_count": null,
      "outputs": []
    },
    {
      "cell_type": "code",
      "metadata": {
        "id": "2IckEakfyn-d"
      },
      "source": [
        "def train_and_evaluate(X_train, train_targets, X_val, val_targets, **params):\n",
        "    model = make_pipeline(preprocessor_best, XGBClassifier(random_state=42, n_jobs=-1, **params))\n",
        "    model.fit(X_train, train_targets)\n",
        "    train_accuracy = model.score(X_train, train_targets)\n",
        "    val_accuracy = model.score(X_val, val_targets)\n",
        "    return model, train_accuracy, val_accuracy"
      ],
      "execution_count": null,
      "outputs": []
    },
    {
      "cell_type": "code",
      "metadata": {
        "id": "Ocf3yooDyn8J"
      },
      "source": [
        "kfold = KFold(n_splits=5)"
      ],
      "execution_count": null,
      "outputs": []
    },
    {
      "cell_type": "code",
      "metadata": {
        "colab": {
          "base_uri": "https://localhost:8080/"
        },
        "id": "CRGRn0Yvyn5G",
        "outputId": "b2ffe1d0-ee5b-4e7a-ccc4-ea3334497b4f"
      },
      "source": [
        "models = []\n",
        "\n",
        "for train_idxs, val_idxs in kfold.split(X):\n",
        "    X_train, train_targets = X.iloc[train_idxs], y.iloc[train_idxs]\n",
        "    X_val, val_targets = X.iloc[val_idxs], y.iloc[val_idxs]\n",
        "    model, train_accuracy, val_accuracy = train_and_evaluate(X_train, \n",
        "                                                     train_targets, \n",
        "                                                     X_val, \n",
        "                                                     val_targets, \n",
        "                                                     max_depth=4, \n",
        "                                                     n_estimators=20)\n",
        "    models.append(model)\n",
        "    print('Train Accuracy: {}, Validation Accuracy: {}'.format(train_accuracy, val_accuracy))"
      ],
      "execution_count": null,
      "outputs": [
        {
          "output_type": "stream",
          "text": [
            "/usr/local/lib/python3.7/dist-packages/xgboost/sklearn.py:1146: UserWarning: The use of label encoder in XGBClassifier is deprecated and will be removed in a future release. To remove this warning, do the following: 1) Pass option use_label_encoder=False when constructing XGBClassifier object; and 2) Encode your labels (y) as integers starting with 0, i.e. 0, 1, 2, ..., [num_class - 1].\n",
            "  warnings.warn(label_encoder_deprecation_msg, UserWarning)\n"
          ],
          "name": "stderr"
        },
        {
          "output_type": "stream",
          "text": [
            "[10:14:49] WARNING: ../src/learner.cc:1095: Starting in XGBoost 1.3.0, the default evaluation metric used with the objective 'binary:logistic' was changed from 'error' to 'logloss'. Explicitly set eval_metric if you'd like to restore the old behavior.\n",
            "Train Accuracy: 0.7315815683862085, Validation Accuracy: 0.3719876576963637\n"
          ],
          "name": "stdout"
        },
        {
          "output_type": "stream",
          "text": [
            "/usr/local/lib/python3.7/dist-packages/xgboost/sklearn.py:1146: UserWarning: The use of label encoder in XGBClassifier is deprecated and will be removed in a future release. To remove this warning, do the following: 1) Pass option use_label_encoder=False when constructing XGBClassifier object; and 2) Encode your labels (y) as integers starting with 0, i.e. 0, 1, 2, ..., [num_class - 1].\n",
            "  warnings.warn(label_encoder_deprecation_msg, UserWarning)\n"
          ],
          "name": "stderr"
        },
        {
          "output_type": "stream",
          "text": [
            "[10:16:16] WARNING: ../src/learner.cc:1095: Starting in XGBoost 1.3.0, the default evaluation metric used with the objective 'binary:logistic' was changed from 'error' to 'logloss'. Explicitly set eval_metric if you'd like to restore the old behavior.\n",
            "Train Accuracy: 0.7172081124097998, Validation Accuracy: 0.3719876576963637\n"
          ],
          "name": "stdout"
        },
        {
          "output_type": "stream",
          "text": [
            "/usr/local/lib/python3.7/dist-packages/xgboost/sklearn.py:1146: UserWarning: The use of label encoder in XGBClassifier is deprecated and will be removed in a future release. To remove this warning, do the following: 1) Pass option use_label_encoder=False when constructing XGBClassifier object; and 2) Encode your labels (y) as integers starting with 0, i.e. 0, 1, 2, ..., [num_class - 1].\n",
            "  warnings.warn(label_encoder_deprecation_msg, UserWarning)\n"
          ],
          "name": "stderr"
        },
        {
          "output_type": "stream",
          "text": [
            "[10:18:01] WARNING: ../src/learner.cc:1095: Starting in XGBoost 1.3.0, the default evaluation metric used with the objective 'binary:logistic' was changed from 'error' to 'logloss'. Explicitly set eval_metric if you'd like to restore the old behavior.\n",
            "Train Accuracy: 0.7171397603773032, Validation Accuracy: 0.4797484669765262\n"
          ],
          "name": "stdout"
        },
        {
          "output_type": "stream",
          "text": [
            "/usr/local/lib/python3.7/dist-packages/xgboost/sklearn.py:1146: UserWarning: The use of label encoder in XGBClassifier is deprecated and will be removed in a future release. To remove this warning, do the following: 1) Pass option use_label_encoder=False when constructing XGBClassifier object; and 2) Encode your labels (y) as integers starting with 0, i.e. 0, 1, 2, ..., [num_class - 1].\n",
            "  warnings.warn(label_encoder_deprecation_msg, UserWarning)\n"
          ],
          "name": "stderr"
        },
        {
          "output_type": "stream",
          "text": [
            "[10:19:52] WARNING: ../src/learner.cc:1095: Starting in XGBoost 1.3.0, the default evaluation metric used with the objective 'binary:logistic' was changed from 'error' to 'logloss'. Explicitly set eval_metric if you'd like to restore the old behavior.\n",
            "Train Accuracy: 0.7364931501498863, Validation Accuracy: 0.41510760457758855\n"
          ],
          "name": "stdout"
        },
        {
          "output_type": "stream",
          "text": [
            "/usr/local/lib/python3.7/dist-packages/xgboost/sklearn.py:1146: UserWarning: The use of label encoder in XGBClassifier is deprecated and will be removed in a future release. To remove this warning, do the following: 1) Pass option use_label_encoder=False when constructing XGBClassifier object; and 2) Encode your labels (y) as integers starting with 0, i.e. 0, 1, 2, ..., [num_class - 1].\n",
            "  warnings.warn(label_encoder_deprecation_msg, UserWarning)\n"
          ],
          "name": "stderr"
        },
        {
          "output_type": "stream",
          "text": [
            "[10:21:49] WARNING: ../src/learner.cc:1095: Starting in XGBoost 1.3.0, the default evaluation metric used with the objective 'binary:logistic' was changed from 'error' to 'logloss'. Explicitly set eval_metric if you'd like to restore the old behavior.\n",
            "Train Accuracy: 0.7382533296879272, Validation Accuracy: 0.4253183345051168\n"
          ],
          "name": "stdout"
        }
      ]
    },
    {
      "cell_type": "markdown",
      "metadata": {
        "id": "hCag7rjB287C"
      },
      "source": [
        "Train Accuracy: 0.7321576783743934, Validation Accuracy: 0.3810881537319845\n",
        "\n",
        "Train Accuracy: 0.7148939078809894, Validation Accuracy: 0.39284458852478227\n",
        "\n",
        "Train Accuracy: 0.7126871136889592, Validation Accuracy: 0.48498222864508067\n",
        "\n",
        "Train Accuracy: 0.7391100565368954, Validation Accuracy: 0.43030113658555635\n",
        "\n",
        "Train Accuracy: 0.7381556848806781, Validation Accuracy: 0.4356690883524725\n"
      ]
    },
    {
      "cell_type": "markdown",
      "metadata": {
        "id": "P0thXDSW3qfc"
      },
      "source": [
        "As observed here although the accuracy of training set is high but validation set seems to exbhit very low accuracy. So none of these model is good enough but we can take avaerage of these model so that the errors are reduced. Let's also define a function to average predictions from the 5 different models."
      ]
    },
    {
      "cell_type": "code",
      "metadata": {
        "id": "-9gTZ5x6yn2b"
      },
      "source": [
        "import numpy as np\n",
        "\n",
        "def predict_avg(models, inputs):\n",
        "    return np.mean([model.predict(inputs) for model in models], axis=0)"
      ],
      "execution_count": null,
      "outputs": []
    },
    {
      "cell_type": "markdown",
      "metadata": {
        "id": "DD2h1YGH-s65"
      },
      "source": [
        "Now we predict the test outcome based on the average learning of all above 5 models"
      ]
    },
    {
      "cell_type": "code",
      "metadata": {
        "id": "65z5Vs6T1uJv"
      },
      "source": [
        "preds = predict_avg(models, test.iloc[:, 1:31])"
      ],
      "execution_count": null,
      "outputs": []
    },
    {
      "cell_type": "code",
      "metadata": {
        "id": "Dh_qWKQc1t-B"
      },
      "source": [
        "for x in range(0, len(preds)):\n",
        "  if preds[x] <=0.5:\n",
        "    preds[x] =0\n",
        "  else:\n",
        "    preds[x] =1"
      ],
      "execution_count": null,
      "outputs": []
    },
    {
      "cell_type": "code",
      "metadata": {
        "colab": {
          "base_uri": "https://localhost:8080/"
        },
        "id": "SdDMGxGr1uBH",
        "outputId": "645ddde5-b0ab-420f-88eb-07ec90303cc8"
      },
      "source": [
        "preds"
      ],
      "execution_count": null,
      "outputs": [
        {
          "output_type": "execute_result",
          "data": {
            "text/plain": [
              "array([0., 0., 0., ..., 0., 0., 0.])"
            ]
          },
          "metadata": {
            "tags": []
          },
          "execution_count": 57
        }
      ]
    },
    {
      "cell_type": "code",
      "metadata": {
        "id": "QCoX6EV1G6Wq",
        "colab": {
          "base_uri": "https://localhost:8080/"
        },
        "outputId": "2c8c98bf-5c1e-4758-d438-cd6063f8f926"
      },
      "source": [
        "output = pd.DataFrame({'Refid': test.RefId, 'IsBadBuy': preds})\n",
        "output.to_csv('my_submission_xgboost_crossvalidation.csv', index=False)\n",
        "print(\"Your submission was successfully saved!\")"
      ],
      "execution_count": null,
      "outputs": [
        {
          "output_type": "stream",
          "text": [
            "Your submission was successfully saved!\n"
          ],
          "name": "stdout"
        }
      ]
    },
    {
      "cell_type": "markdown",
      "metadata": {
        "id": "P3xAP_Wzx_-9"
      },
      "source": [
        "# 9: Sample prediction and saving model weights <a name=\"9\"></a>\n",
        "\n",
        "\n",
        "---\n",
        "<a href=\"#top\" class=\"btn btn-primary btn-sm\" role=\"button\" aria-pressed=\"true\" style=\"color:white\" data-toggle=\"popover\">Go to TOC</a> "
      ]
    },
    {
      "cell_type": "markdown",
      "metadata": {
        "id": "ycvXS4qmE9dG"
      },
      "source": [
        "Making Predictions on New Inputs"
      ]
    },
    {
      "cell_type": "code",
      "metadata": {
        "id": "6T0cKi0LE_Bz"
      },
      "source": [
        "def predict_input(model, single_input):\n",
        "    input_df = pd.DataFrame([single_input])\n",
        "    pred = rf_RandomGrid.predict(input_df)\n",
        "    prob = rf_RandomGrid.predict_proba(input_df)[0]\n",
        "    return pred, prob[0]"
      ],
      "execution_count": null,
      "outputs": []
    },
    {
      "cell_type": "code",
      "metadata": {
        "id": "yHUmoMdbFX2A"
      },
      "source": [
        "new_input = {'Auction':'ADESA', \n",
        "             'VehYear':2004, \n",
        "             'VehicleAge':6, \n",
        "             'Transmission':'AUTO', \n",
        "             'WheelType':'Alloy',\n",
        "             'VehOdo':33333, \n",
        "             'Nationality':'TOP LINE ASIAN', \n",
        "             'Size':'MEDIUM',\n",
        "             'TopThreeAmericanName':'OTHER',\n",
        "             'MMRAcquisitionAuctionAveragePrice':7777, \n",
        "             'MMRAcquisitionAuctionCleanPrice':8888,\n",
        "             'MMRAcquisitionRetailAveragePrice':10000, \n",
        "             'MMRAcquisitonRetailCleanPrice':12000,\n",
        "             'MMRCurrentAuctionAveragePrice':7777, \n",
        "             'MMRCurrentAuctionCleanPrice':9999,\n",
        "             'MMRCurrentRetailAveragePrice':11111, \n",
        "             'MMRCurrentRetailCleanPrice':11111,\n",
        "             'PRIMEUNIT':'NaN', \n",
        "             'AUCGUART':'NaN', \n",
        "             'BYRNO':17777, \n",
        "             'VehBCost':7777, \n",
        "             'IsOnlineSale':0,\n",
        "             'WarrantyCost':600, \n",
        "             'Year':2010, \n",
        "             'mean_MMRCurrentAuctionAveragePrice_Make':7021.627649,\n",
        "             'mean_MMRCurrentAuctionAveragePrice_Model':7091.0279,\n",
        "             'mean_MMRCurrentAuctionAveragePrice_Trim':6171.007828,\n",
        "             'mean_MMRCurrentAuctionAveragePrice_SubModel':5577.972891,\n",
        "             'mean_MMRCurrentAuctionAveragePrice_Color':6794.120395,\n",
        "             'mean_MMRCurrentAuctionAveragePrice_Transmission':6180.060667}"
      ],
      "execution_count": null,
      "outputs": []
    },
    {
      "cell_type": "code",
      "metadata": {
        "id": "gzmcrGAIFdKC",
        "colab": {
          "base_uri": "https://localhost:8080/"
        },
        "outputId": "bc17a572-9f5d-4c1b-91e4-1aaf27a6f66c"
      },
      "source": [
        "predict_input(rf_RandomGrid, new_input)"
      ],
      "execution_count": null,
      "outputs": [
        {
          "output_type": "execute_result",
          "data": {
            "text/plain": [
              "(array([0]), 0.6374213492228148)"
            ]
          },
          "metadata": {
            "tags": []
          },
          "execution_count": 76
        }
      ]
    },
    {
      "cell_type": "markdown",
      "metadata": {
        "id": "SQfRR8IXJjEc"
      },
      "source": [
        "The output of our given sample is 0 and as per our model the probablity of output being zero is 63%"
      ]
    },
    {
      "cell_type": "markdown",
      "metadata": {
        "id": "IeG_pAvSEljC"
      },
      "source": [
        "**Saving the model**\n",
        "\n",
        "\n",
        "We can save the parameters (weights and biases) of our trained model to disk, so that we needn't retrain the model from scratch each time we wish to use it. Along with the model, it's also important to save imputers, scalers, encoders and even column names. Anything that will be required while generating predictions using the model should be saved.\n",
        "\n",
        "We can use the joblib module to save and load Python objects on the disk."
      ]
    },
    {
      "cell_type": "code",
      "metadata": {
        "id": "j1siYCAoB7px",
        "colab": {
          "base_uri": "https://localhost:8080/"
        },
        "outputId": "ba9b79bd-5e7b-417f-fb57-cfc8c4bfe490"
      },
      "source": [
        "import joblib\n",
        "\n",
        "car_quality_check = {\n",
        "    'model': rf_RandomGrid\n",
        "}\n",
        "\n",
        "joblib.dump(car_quality_check, 'car_quality_check.joblib')"
      ],
      "execution_count": null,
      "outputs": [
        {
          "output_type": "execute_result",
          "data": {
            "text/plain": [
              "['car_quality_check.joblib']"
            ]
          },
          "metadata": {
            "tags": []
          },
          "execution_count": 77
        }
      ]
    },
    {
      "cell_type": "markdown",
      "metadata": {
        "id": "MOh-QD3vCiOj"
      },
      "source": [
        "The object can be loaded back using joblib.load"
      ]
    },
    {
      "cell_type": "code",
      "metadata": {
        "id": "ZK-1gtSZClzs"
      },
      "source": [
        "car_quality_check2 = joblib.load('car_quality_check.joblib')"
      ],
      "execution_count": null,
      "outputs": []
    },
    {
      "cell_type": "markdown",
      "metadata": {
        "id": "4El89NajC0Nc"
      },
      "source": [
        "We can check if the reloaded model is bheaving as we expected it"
      ]
    },
    {
      "cell_type": "code",
      "metadata": {
        "id": "ezGSgHyGC56D",
        "colab": {
          "base_uri": "https://localhost:8080/"
        },
        "outputId": "08b63d27-708c-4ff8-d826-cf0eb72cfab4"
      },
      "source": [
        "test_preds2 = car_quality_check2['model'].score(X_test, y_test)\n",
        "print(f'Accuracy of the model Random forest is {test_preds2:.3f}')"
      ],
      "execution_count": null,
      "outputs": [
        {
          "output_type": "stream",
          "text": [
            "Accuracy of the model Random forest is 0.696\n"
          ],
          "name": "stdout"
        }
      ]
    },
    {
      "cell_type": "markdown",
      "metadata": {
        "id": "7QwncTU-JwtU"
      },
      "source": [
        "The accuracy is matching up the with original models hence we have saved and recalled the model sucessfully."
      ]
    },
    {
      "cell_type": "markdown",
      "metadata": {
        "id": "1YbQFGixywkp"
      },
      "source": [
        "# 10: Summary <a name=\"10\"></a>\n",
        "\n",
        "\n",
        "---\n",
        "<a href=\"#top\" class=\"btn btn-primary btn-sm\" role=\"button\" aria-pressed=\"true\" style=\"color:white\" data-toggle=\"popover\">Go to TOC</a> "
      ]
    },
    {
      "cell_type": "markdown",
      "metadata": {
        "id": "JvOWQ28gpJG-"
      },
      "source": [
        "I summarize the my entire notebook as follows\n",
        "\n",
        "- We downloaded the Car quality detection Dataset dataset from Kaggle.\n",
        "- We ran EDA and analysised the input features.\n",
        "- We then performed feature engineering and data cleaning to filtered out on the relevant user data.\n",
        "- After this we take two different algorith to build Machine learning model.\n",
        "  - Random forest\n",
        "  - XGboost\n",
        "- We applied hyperparameterization and parameter tuning to get best our of the ml model and to generalize it in best possible ways.\n",
        "- The output file generate can be submitted to Kaggle to evaluate your results."
      ]
    },
    {
      "cell_type": "markdown",
      "metadata": {
        "id": "3ZeVlRBKywfh"
      },
      "source": [
        "# 11: Future Work <a name=\"11\"></a>\n",
        "\n",
        "\n",
        "---\n",
        "<a href=\"#top\" class=\"btn btn-primary btn-sm\" role=\"button\" aria-pressed=\"true\" style=\"color:white\" data-toggle=\"popover\">Go to TOC</a> "
      ]
    },
    {
      "cell_type": "markdown",
      "metadata": {
        "id": "M2_4E4scqXBj"
      },
      "source": [
        "- Although I tried couple of models. There are many more models which can be tried off like decision trees, light GMS\n",
        "\n",
        "- Implementing deep learning to get better model\n",
        "\n",
        "- sumbit your results to Kaggle competions and evaluate your model perfomace at the leader boad."
      ]
    },
    {
      "cell_type": "markdown",
      "metadata": {
        "id": "6HTo8gG0ywc6"
      },
      "source": [
        "# 12: References <a name=\"12\"></a>\n",
        "\n",
        "\n",
        "---\n",
        "<a href=\"#top\" class=\"btn btn-primary btn-sm\" role=\"button\" aria-pressed=\"true\" style=\"color:white\" data-toggle=\"popover\">Go to TOC</a> "
      ]
    },
    {
      "cell_type": "markdown",
      "metadata": {
        "id": "3EibMu-9rHaF"
      },
      "source": [
        "I took my innspriation from the following notebooks\n",
        "\n",
        "- https://www.kaggle.com/mikhailtokar/ml-rgr-dgk\n",
        "- https://www.kaggle.com/funxexcel/starter-code-don-t-get-kicked-rf-model\n",
        "- https://jovian.ai/learn/machine-learning-with-python-zero-to-gbms/lesson/random-forests-and-regularization\n",
        "- https://jovian.ai/learn/machine-learning-with-python-zero-to-gbms/lesson/gradient-boosting-with-xgboost\n",
        "\n",
        "Lastly, I would like to say thanks to Akansh and the Jovian.ml for providing the course on machine learning. If u want to get started this [course](https://jovian.ai/learn/machine-learning-with-python-zero-to-gbms) might be good start."
      ]
    }
  ]
}