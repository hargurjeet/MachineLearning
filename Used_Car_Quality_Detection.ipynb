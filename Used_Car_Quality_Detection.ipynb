{
  "nbformat": 4,
  "nbformat_minor": 0,
  "metadata": {
    "colab": {
      "name": "Used Car Quality Detection.ipynb",
      "provenance": [],
      "authorship_tag": "ABX9TyPMlJkJt0iOXUxSZcaO3Zok",
      "include_colab_link": true
    },
    "kernelspec": {
      "name": "python3",
      "display_name": "Python 3"
    },
    "language_info": {
      "name": "python"
    },
    "accelerator": "GPU"
  },
  "cells": [
    {
      "cell_type": "markdown",
      "metadata": {
        "id": "view-in-github",
        "colab_type": "text"
      },
      "source": [
        "<a href=\"https://colab.research.google.com/github/hargurjeet/MachineLearning/blob/master/Used_Car_Quality_Detection.ipynb\" target=\"_parent\"><img src=\"https://colab.research.google.com/assets/colab-badge.svg\" alt=\"Open In Colab\"/></a>"
      ]
    },
    {
      "cell_type": "code",
      "metadata": {
        "colab": {
          "base_uri": "https://localhost:8080/"
        },
        "id": "8D4TWeEDUB3V",
        "outputId": "3ac17049-7a12-420f-ccaa-d734765428b2"
      },
      "source": [
        "!pip install numpy pandas matplotlib seaborn --quiet\n",
        "!pip install jovian opendatasets xgboost graphviz lightgbm scikit-learn xgboost lightgbm --upgrade --quiet"
      ],
      "execution_count": 1,
      "outputs": [
        {
          "output_type": "stream",
          "text": [
            "\u001b[K     |████████████████████████████████| 68 kB 4.5 MB/s \n",
            "\u001b[K     |████████████████████████████████| 166.7 MB 15 kB/s \n",
            "\u001b[K     |████████████████████████████████| 2.0 MB 38.1 MB/s \n",
            "\u001b[K     |████████████████████████████████| 22.3 MB 1.5 MB/s \n",
            "\u001b[?25h  Building wheel for uuid (setup.py) ... \u001b[?25l\u001b[?25hdone\n"
          ],
          "name": "stdout"
        }
      ]
    },
    {
      "cell_type": "code",
      "metadata": {
        "id": "_4UzdMAEUIYO"
      },
      "source": [
        "#importing dataset\n",
        "import os\n",
        "import opendatasets as od\n",
        "import pandas as pd\n",
        "import numpy as np\n",
        "\n",
        "#Pipeline\n",
        "from sklearn.pipeline import make_pipeline\n",
        "from sklearn.compose import make_column_transformer\n",
        "\n",
        "#For Missing Value and Feature Engineering\n",
        "from sklearn.feature_selection import SelectKBest, chi2, f_classif, VarianceThreshold\n",
        "from sklearn.impute import SimpleImputer, KNNImputer, MissingIndicator\n",
        "from sklearn.preprocessing import KBinsDiscretizer, OneHotEncoder, MinMaxScaler\n",
        "from sklearn.decomposition import PCA\n",
        "from sklearn.ensemble import RandomForestClassifier, ExtraTreesClassifier\n",
        "\n",
        "import time\n",
        "\n",
        "#for visualization\n",
        "pd.set_option(\"display.max_columns\", 120)\n",
        "pd.set_option(\"display.max_rows\", 120)"
      ],
      "execution_count": 2,
      "outputs": []
    },
    {
      "cell_type": "code",
      "metadata": {
        "colab": {
          "base_uri": "https://localhost:8080/"
        },
        "id": "lfCdVqEMUJ97",
        "outputId": "4bba44e3-b424-47fb-b8a6-851af13237aa"
      },
      "source": [
        "od.download('https://www.kaggle.com/c/DontGetKicked/data?select=test.csv')"
      ],
      "execution_count": 3,
      "outputs": [
        {
          "output_type": "stream",
          "text": [
            "Please provide your Kaggle credentials to download this dataset. Learn more: http://bit.ly/kaggle-creds\n",
            "Your Kaggle username: hargurjeet\n",
            "Your Kaggle Key: ··········\n"
          ],
          "name": "stdout"
        },
        {
          "output_type": "stream",
          "text": [
            "\r  0%|          | 0.00/10.2M [00:00<?, ?B/s]"
          ],
          "name": "stderr"
        },
        {
          "output_type": "stream",
          "text": [
            "Downloading DontGetKicked.zip to ./DontGetKicked\n"
          ],
          "name": "stdout"
        },
        {
          "output_type": "stream",
          "text": [
            "100%|██████████| 10.2M/10.2M [00:00<00:00, 25.2MB/s]\n"
          ],
          "name": "stderr"
        },
        {
          "output_type": "stream",
          "text": [
            "\n",
            "Extracting archive ./DontGetKicked/DontGetKicked.zip to ./DontGetKicked\n"
          ],
          "name": "stdout"
        }
      ]
    },
    {
      "cell_type": "code",
      "metadata": {
        "colab": {
          "base_uri": "https://localhost:8080/"
        },
        "id": "Q_4ukX7TUPev",
        "outputId": "43e148f8-bc20-451a-c5bb-ffc63dffb567"
      },
      "source": [
        "os.listdir('DontGetKicked')"
      ],
      "execution_count": 4,
      "outputs": [
        {
          "output_type": "execute_result",
          "data": {
            "text/plain": [
              "['Carvana_Data_Dictionary.txt',\n",
              " 'training.zip',\n",
              " 'test.csv',\n",
              " 'training.csv',\n",
              " 'example_entry.csv',\n",
              " 'test.zip']"
            ]
          },
          "metadata": {
            "tags": []
          },
          "execution_count": 4
        }
      ]
    },
    {
      "cell_type": "code",
      "metadata": {
        "colab": {
          "base_uri": "https://localhost:8080/",
          "height": 377
        },
        "id": "QafC5UF9Ubfk",
        "outputId": "f0bb1449-e426-4427-c624-33c8a47ac53f"
      },
      "source": [
        "train=pd.read_csv('/content/DontGetKicked/training.csv') \n",
        "test= pd.read_csv('/content/DontGetKicked/test.csv')\n",
        "train.head()"
      ],
      "execution_count": 5,
      "outputs": [
        {
          "output_type": "execute_result",
          "data": {
            "text/html": [
              "<div>\n",
              "<style scoped>\n",
              "    .dataframe tbody tr th:only-of-type {\n",
              "        vertical-align: middle;\n",
              "    }\n",
              "\n",
              "    .dataframe tbody tr th {\n",
              "        vertical-align: top;\n",
              "    }\n",
              "\n",
              "    .dataframe thead th {\n",
              "        text-align: right;\n",
              "    }\n",
              "</style>\n",
              "<table border=\"1\" class=\"dataframe\">\n",
              "  <thead>\n",
              "    <tr style=\"text-align: right;\">\n",
              "      <th></th>\n",
              "      <th>RefId</th>\n",
              "      <th>IsBadBuy</th>\n",
              "      <th>PurchDate</th>\n",
              "      <th>Auction</th>\n",
              "      <th>VehYear</th>\n",
              "      <th>VehicleAge</th>\n",
              "      <th>Make</th>\n",
              "      <th>Model</th>\n",
              "      <th>Trim</th>\n",
              "      <th>SubModel</th>\n",
              "      <th>Color</th>\n",
              "      <th>Transmission</th>\n",
              "      <th>WheelTypeID</th>\n",
              "      <th>WheelType</th>\n",
              "      <th>VehOdo</th>\n",
              "      <th>Nationality</th>\n",
              "      <th>Size</th>\n",
              "      <th>TopThreeAmericanName</th>\n",
              "      <th>MMRAcquisitionAuctionAveragePrice</th>\n",
              "      <th>MMRAcquisitionAuctionCleanPrice</th>\n",
              "      <th>MMRAcquisitionRetailAveragePrice</th>\n",
              "      <th>MMRAcquisitonRetailCleanPrice</th>\n",
              "      <th>MMRCurrentAuctionAveragePrice</th>\n",
              "      <th>MMRCurrentAuctionCleanPrice</th>\n",
              "      <th>MMRCurrentRetailAveragePrice</th>\n",
              "      <th>MMRCurrentRetailCleanPrice</th>\n",
              "      <th>PRIMEUNIT</th>\n",
              "      <th>AUCGUART</th>\n",
              "      <th>BYRNO</th>\n",
              "      <th>VNZIP1</th>\n",
              "      <th>VNST</th>\n",
              "      <th>VehBCost</th>\n",
              "      <th>IsOnlineSale</th>\n",
              "      <th>WarrantyCost</th>\n",
              "    </tr>\n",
              "  </thead>\n",
              "  <tbody>\n",
              "    <tr>\n",
              "      <th>0</th>\n",
              "      <td>1</td>\n",
              "      <td>0</td>\n",
              "      <td>12/7/2009</td>\n",
              "      <td>ADESA</td>\n",
              "      <td>2006</td>\n",
              "      <td>3</td>\n",
              "      <td>MAZDA</td>\n",
              "      <td>MAZDA3</td>\n",
              "      <td>i</td>\n",
              "      <td>4D SEDAN I</td>\n",
              "      <td>RED</td>\n",
              "      <td>AUTO</td>\n",
              "      <td>1.0</td>\n",
              "      <td>Alloy</td>\n",
              "      <td>89046</td>\n",
              "      <td>OTHER ASIAN</td>\n",
              "      <td>MEDIUM</td>\n",
              "      <td>OTHER</td>\n",
              "      <td>8155.0</td>\n",
              "      <td>9829.0</td>\n",
              "      <td>11636.0</td>\n",
              "      <td>13600.0</td>\n",
              "      <td>7451.0</td>\n",
              "      <td>8552.0</td>\n",
              "      <td>11597.0</td>\n",
              "      <td>12409.0</td>\n",
              "      <td>NaN</td>\n",
              "      <td>NaN</td>\n",
              "      <td>21973</td>\n",
              "      <td>33619</td>\n",
              "      <td>FL</td>\n",
              "      <td>7100.0</td>\n",
              "      <td>0</td>\n",
              "      <td>1113</td>\n",
              "    </tr>\n",
              "    <tr>\n",
              "      <th>1</th>\n",
              "      <td>2</td>\n",
              "      <td>0</td>\n",
              "      <td>12/7/2009</td>\n",
              "      <td>ADESA</td>\n",
              "      <td>2004</td>\n",
              "      <td>5</td>\n",
              "      <td>DODGE</td>\n",
              "      <td>1500 RAM PICKUP 2WD</td>\n",
              "      <td>ST</td>\n",
              "      <td>QUAD CAB 4.7L SLT</td>\n",
              "      <td>WHITE</td>\n",
              "      <td>AUTO</td>\n",
              "      <td>1.0</td>\n",
              "      <td>Alloy</td>\n",
              "      <td>93593</td>\n",
              "      <td>AMERICAN</td>\n",
              "      <td>LARGE TRUCK</td>\n",
              "      <td>CHRYSLER</td>\n",
              "      <td>6854.0</td>\n",
              "      <td>8383.0</td>\n",
              "      <td>10897.0</td>\n",
              "      <td>12572.0</td>\n",
              "      <td>7456.0</td>\n",
              "      <td>9222.0</td>\n",
              "      <td>11374.0</td>\n",
              "      <td>12791.0</td>\n",
              "      <td>NaN</td>\n",
              "      <td>NaN</td>\n",
              "      <td>19638</td>\n",
              "      <td>33619</td>\n",
              "      <td>FL</td>\n",
              "      <td>7600.0</td>\n",
              "      <td>0</td>\n",
              "      <td>1053</td>\n",
              "    </tr>\n",
              "    <tr>\n",
              "      <th>2</th>\n",
              "      <td>3</td>\n",
              "      <td>0</td>\n",
              "      <td>12/7/2009</td>\n",
              "      <td>ADESA</td>\n",
              "      <td>2005</td>\n",
              "      <td>4</td>\n",
              "      <td>DODGE</td>\n",
              "      <td>STRATUS V6</td>\n",
              "      <td>SXT</td>\n",
              "      <td>4D SEDAN SXT FFV</td>\n",
              "      <td>MAROON</td>\n",
              "      <td>AUTO</td>\n",
              "      <td>2.0</td>\n",
              "      <td>Covers</td>\n",
              "      <td>73807</td>\n",
              "      <td>AMERICAN</td>\n",
              "      <td>MEDIUM</td>\n",
              "      <td>CHRYSLER</td>\n",
              "      <td>3202.0</td>\n",
              "      <td>4760.0</td>\n",
              "      <td>6943.0</td>\n",
              "      <td>8457.0</td>\n",
              "      <td>4035.0</td>\n",
              "      <td>5557.0</td>\n",
              "      <td>7146.0</td>\n",
              "      <td>8702.0</td>\n",
              "      <td>NaN</td>\n",
              "      <td>NaN</td>\n",
              "      <td>19638</td>\n",
              "      <td>33619</td>\n",
              "      <td>FL</td>\n",
              "      <td>4900.0</td>\n",
              "      <td>0</td>\n",
              "      <td>1389</td>\n",
              "    </tr>\n",
              "    <tr>\n",
              "      <th>3</th>\n",
              "      <td>4</td>\n",
              "      <td>0</td>\n",
              "      <td>12/7/2009</td>\n",
              "      <td>ADESA</td>\n",
              "      <td>2004</td>\n",
              "      <td>5</td>\n",
              "      <td>DODGE</td>\n",
              "      <td>NEON</td>\n",
              "      <td>SXT</td>\n",
              "      <td>4D SEDAN</td>\n",
              "      <td>SILVER</td>\n",
              "      <td>AUTO</td>\n",
              "      <td>1.0</td>\n",
              "      <td>Alloy</td>\n",
              "      <td>65617</td>\n",
              "      <td>AMERICAN</td>\n",
              "      <td>COMPACT</td>\n",
              "      <td>CHRYSLER</td>\n",
              "      <td>1893.0</td>\n",
              "      <td>2675.0</td>\n",
              "      <td>4658.0</td>\n",
              "      <td>5690.0</td>\n",
              "      <td>1844.0</td>\n",
              "      <td>2646.0</td>\n",
              "      <td>4375.0</td>\n",
              "      <td>5518.0</td>\n",
              "      <td>NaN</td>\n",
              "      <td>NaN</td>\n",
              "      <td>19638</td>\n",
              "      <td>33619</td>\n",
              "      <td>FL</td>\n",
              "      <td>4100.0</td>\n",
              "      <td>0</td>\n",
              "      <td>630</td>\n",
              "    </tr>\n",
              "    <tr>\n",
              "      <th>4</th>\n",
              "      <td>5</td>\n",
              "      <td>0</td>\n",
              "      <td>12/7/2009</td>\n",
              "      <td>ADESA</td>\n",
              "      <td>2005</td>\n",
              "      <td>4</td>\n",
              "      <td>FORD</td>\n",
              "      <td>FOCUS</td>\n",
              "      <td>ZX3</td>\n",
              "      <td>2D COUPE ZX3</td>\n",
              "      <td>SILVER</td>\n",
              "      <td>MANUAL</td>\n",
              "      <td>2.0</td>\n",
              "      <td>Covers</td>\n",
              "      <td>69367</td>\n",
              "      <td>AMERICAN</td>\n",
              "      <td>COMPACT</td>\n",
              "      <td>FORD</td>\n",
              "      <td>3913.0</td>\n",
              "      <td>5054.0</td>\n",
              "      <td>7723.0</td>\n",
              "      <td>8707.0</td>\n",
              "      <td>3247.0</td>\n",
              "      <td>4384.0</td>\n",
              "      <td>6739.0</td>\n",
              "      <td>7911.0</td>\n",
              "      <td>NaN</td>\n",
              "      <td>NaN</td>\n",
              "      <td>19638</td>\n",
              "      <td>33619</td>\n",
              "      <td>FL</td>\n",
              "      <td>4000.0</td>\n",
              "      <td>0</td>\n",
              "      <td>1020</td>\n",
              "    </tr>\n",
              "  </tbody>\n",
              "</table>\n",
              "</div>"
            ],
            "text/plain": [
              "   RefId  IsBadBuy  PurchDate Auction  VehYear  VehicleAge   Make  \\\n",
              "0      1         0  12/7/2009   ADESA     2006           3  MAZDA   \n",
              "1      2         0  12/7/2009   ADESA     2004           5  DODGE   \n",
              "2      3         0  12/7/2009   ADESA     2005           4  DODGE   \n",
              "3      4         0  12/7/2009   ADESA     2004           5  DODGE   \n",
              "4      5         0  12/7/2009   ADESA     2005           4   FORD   \n",
              "\n",
              "                 Model Trim           SubModel   Color Transmission  \\\n",
              "0               MAZDA3    i         4D SEDAN I     RED         AUTO   \n",
              "1  1500 RAM PICKUP 2WD   ST  QUAD CAB 4.7L SLT   WHITE         AUTO   \n",
              "2           STRATUS V6  SXT   4D SEDAN SXT FFV  MAROON         AUTO   \n",
              "3                 NEON  SXT           4D SEDAN  SILVER         AUTO   \n",
              "4                FOCUS  ZX3       2D COUPE ZX3  SILVER       MANUAL   \n",
              "\n",
              "   WheelTypeID WheelType  VehOdo  Nationality         Size  \\\n",
              "0          1.0     Alloy   89046  OTHER ASIAN       MEDIUM   \n",
              "1          1.0     Alloy   93593     AMERICAN  LARGE TRUCK   \n",
              "2          2.0    Covers   73807     AMERICAN       MEDIUM   \n",
              "3          1.0     Alloy   65617     AMERICAN      COMPACT   \n",
              "4          2.0    Covers   69367     AMERICAN      COMPACT   \n",
              "\n",
              "  TopThreeAmericanName  MMRAcquisitionAuctionAveragePrice  \\\n",
              "0                OTHER                             8155.0   \n",
              "1             CHRYSLER                             6854.0   \n",
              "2             CHRYSLER                             3202.0   \n",
              "3             CHRYSLER                             1893.0   \n",
              "4                 FORD                             3913.0   \n",
              "\n",
              "   MMRAcquisitionAuctionCleanPrice  MMRAcquisitionRetailAveragePrice  \\\n",
              "0                           9829.0                           11636.0   \n",
              "1                           8383.0                           10897.0   \n",
              "2                           4760.0                            6943.0   \n",
              "3                           2675.0                            4658.0   \n",
              "4                           5054.0                            7723.0   \n",
              "\n",
              "   MMRAcquisitonRetailCleanPrice  MMRCurrentAuctionAveragePrice  \\\n",
              "0                        13600.0                         7451.0   \n",
              "1                        12572.0                         7456.0   \n",
              "2                         8457.0                         4035.0   \n",
              "3                         5690.0                         1844.0   \n",
              "4                         8707.0                         3247.0   \n",
              "\n",
              "   MMRCurrentAuctionCleanPrice  MMRCurrentRetailAveragePrice  \\\n",
              "0                       8552.0                       11597.0   \n",
              "1                       9222.0                       11374.0   \n",
              "2                       5557.0                        7146.0   \n",
              "3                       2646.0                        4375.0   \n",
              "4                       4384.0                        6739.0   \n",
              "\n",
              "   MMRCurrentRetailCleanPrice PRIMEUNIT AUCGUART  BYRNO  VNZIP1 VNST  \\\n",
              "0                     12409.0       NaN      NaN  21973   33619   FL   \n",
              "1                     12791.0       NaN      NaN  19638   33619   FL   \n",
              "2                      8702.0       NaN      NaN  19638   33619   FL   \n",
              "3                      5518.0       NaN      NaN  19638   33619   FL   \n",
              "4                      7911.0       NaN      NaN  19638   33619   FL   \n",
              "\n",
              "   VehBCost  IsOnlineSale  WarrantyCost  \n",
              "0    7100.0             0          1113  \n",
              "1    7600.0             0          1053  \n",
              "2    4900.0             0          1389  \n",
              "3    4100.0             0           630  \n",
              "4    4000.0             0          1020  "
            ]
          },
          "metadata": {
            "tags": []
          },
          "execution_count": 5
        }
      ]
    },
    {
      "cell_type": "markdown",
      "metadata": {
        "id": "HxqZ2gxSXS48"
      },
      "source": [
        "Preprocessing and Feature Engineering"
      ]
    },
    {
      "cell_type": "code",
      "metadata": {
        "colab": {
          "base_uri": "https://localhost:8080/"
        },
        "id": "c-1GOBrqVIEz",
        "outputId": "8a92a86f-20cd-4357-d1d4-c101d38bc241"
      },
      "source": [
        "train.info()"
      ],
      "execution_count": 6,
      "outputs": [
        {
          "output_type": "stream",
          "text": [
            "<class 'pandas.core.frame.DataFrame'>\n",
            "RangeIndex: 72983 entries, 0 to 72982\n",
            "Data columns (total 34 columns):\n",
            " #   Column                             Non-Null Count  Dtype  \n",
            "---  ------                             --------------  -----  \n",
            " 0   RefId                              72983 non-null  int64  \n",
            " 1   IsBadBuy                           72983 non-null  int64  \n",
            " 2   PurchDate                          72983 non-null  object \n",
            " 3   Auction                            72983 non-null  object \n",
            " 4   VehYear                            72983 non-null  int64  \n",
            " 5   VehicleAge                         72983 non-null  int64  \n",
            " 6   Make                               72983 non-null  object \n",
            " 7   Model                              72983 non-null  object \n",
            " 8   Trim                               70623 non-null  object \n",
            " 9   SubModel                           72975 non-null  object \n",
            " 10  Color                              72975 non-null  object \n",
            " 11  Transmission                       72974 non-null  object \n",
            " 12  WheelTypeID                        69814 non-null  float64\n",
            " 13  WheelType                          69809 non-null  object \n",
            " 14  VehOdo                             72983 non-null  int64  \n",
            " 15  Nationality                        72978 non-null  object \n",
            " 16  Size                               72978 non-null  object \n",
            " 17  TopThreeAmericanName               72978 non-null  object \n",
            " 18  MMRAcquisitionAuctionAveragePrice  72965 non-null  float64\n",
            " 19  MMRAcquisitionAuctionCleanPrice    72965 non-null  float64\n",
            " 20  MMRAcquisitionRetailAveragePrice   72965 non-null  float64\n",
            " 21  MMRAcquisitonRetailCleanPrice      72965 non-null  float64\n",
            " 22  MMRCurrentAuctionAveragePrice      72668 non-null  float64\n",
            " 23  MMRCurrentAuctionCleanPrice        72668 non-null  float64\n",
            " 24  MMRCurrentRetailAveragePrice       72668 non-null  float64\n",
            " 25  MMRCurrentRetailCleanPrice         72668 non-null  float64\n",
            " 26  PRIMEUNIT                          3419 non-null   object \n",
            " 27  AUCGUART                           3419 non-null   object \n",
            " 28  BYRNO                              72983 non-null  int64  \n",
            " 29  VNZIP1                             72983 non-null  int64  \n",
            " 30  VNST                               72983 non-null  object \n",
            " 31  VehBCost                           72983 non-null  float64\n",
            " 32  IsOnlineSale                       72983 non-null  int64  \n",
            " 33  WarrantyCost                       72983 non-null  int64  \n",
            "dtypes: float64(10), int64(9), object(15)\n",
            "memory usage: 18.9+ MB\n"
          ],
          "name": "stdout"
        }
      ]
    },
    {
      "cell_type": "markdown",
      "metadata": {
        "id": "Rj3jC1M2p3HO"
      },
      "source": [
        "# Feature Engineering"
      ]
    },
    {
      "cell_type": "code",
      "metadata": {
        "id": "unOrrRcFXYsR"
      },
      "source": [
        "def split_date(df):\n",
        "  df['PurchDate'] = pd.to_datetime(df['PurchDate'])\n",
        "  df['Year'] = df.PurchDate.dt.year"
      ],
      "execution_count": 7,
      "outputs": []
    },
    {
      "cell_type": "code",
      "metadata": {
        "id": "9RZXea0UqlC_"
      },
      "source": [
        "def MeanOnFeatures(df):\n",
        "  df['mean_MMRCurrentAuctionAveragePrice_Make']=train.groupby(['Make'])['MMRCurrentAuctionAveragePrice'].transform('mean')\n",
        "  df['mean_MMRCurrentAuctionAveragePrice_Model']=train.groupby(['Model'])['MMRCurrentAuctionAveragePrice'].transform('mean')\n",
        "  df['mean_MMRCurrentAuctionAveragePrice_Trim']=train.groupby(['Trim'])['MMRCurrentAuctionAveragePrice'].transform('mean')\n",
        "  df['mean_MMRCurrentAuctionAveragePrice_SubModel']=train.groupby(['SubModel'])['MMRCurrentAuctionAveragePrice'].transform('mean')\n",
        "  df['mean_MMRCurrentAuctionAveragePrice_Color']=train.groupby(['Color'])['MMRCurrentAuctionAveragePrice'].transform('mean')\n",
        "  df['mean_MMRCurrentAuctionAveragePrice_Transmission']=train.groupby(['Transmission'])['MMRCurrentAuctionAveragePrice'].transform('mean')"
      ],
      "execution_count": 8,
      "outputs": []
    },
    {
      "cell_type": "code",
      "metadata": {
        "id": "R3KwbqjCX0-8"
      },
      "source": [
        "split_date(train)\n",
        "split_date(test)\n",
        "MeanOnFeatures(train)\n",
        "MeanOnFeatures(test)"
      ],
      "execution_count": 9,
      "outputs": []
    },
    {
      "cell_type": "code",
      "metadata": {
        "colab": {
          "base_uri": "https://localhost:8080/",
          "height": 199
        },
        "id": "8Lf3BO8FZmFp",
        "outputId": "1c1dad76-8bc6-4339-9a0c-9a4c90c4752a"
      },
      "source": [
        "train.head(2)"
      ],
      "execution_count": 10,
      "outputs": [
        {
          "output_type": "execute_result",
          "data": {
            "text/html": [
              "<div>\n",
              "<style scoped>\n",
              "    .dataframe tbody tr th:only-of-type {\n",
              "        vertical-align: middle;\n",
              "    }\n",
              "\n",
              "    .dataframe tbody tr th {\n",
              "        vertical-align: top;\n",
              "    }\n",
              "\n",
              "    .dataframe thead th {\n",
              "        text-align: right;\n",
              "    }\n",
              "</style>\n",
              "<table border=\"1\" class=\"dataframe\">\n",
              "  <thead>\n",
              "    <tr style=\"text-align: right;\">\n",
              "      <th></th>\n",
              "      <th>RefId</th>\n",
              "      <th>IsBadBuy</th>\n",
              "      <th>PurchDate</th>\n",
              "      <th>Auction</th>\n",
              "      <th>VehYear</th>\n",
              "      <th>VehicleAge</th>\n",
              "      <th>Make</th>\n",
              "      <th>Model</th>\n",
              "      <th>Trim</th>\n",
              "      <th>SubModel</th>\n",
              "      <th>Color</th>\n",
              "      <th>Transmission</th>\n",
              "      <th>WheelTypeID</th>\n",
              "      <th>WheelType</th>\n",
              "      <th>VehOdo</th>\n",
              "      <th>Nationality</th>\n",
              "      <th>Size</th>\n",
              "      <th>TopThreeAmericanName</th>\n",
              "      <th>MMRAcquisitionAuctionAveragePrice</th>\n",
              "      <th>MMRAcquisitionAuctionCleanPrice</th>\n",
              "      <th>MMRAcquisitionRetailAveragePrice</th>\n",
              "      <th>MMRAcquisitonRetailCleanPrice</th>\n",
              "      <th>MMRCurrentAuctionAveragePrice</th>\n",
              "      <th>MMRCurrentAuctionCleanPrice</th>\n",
              "      <th>MMRCurrentRetailAveragePrice</th>\n",
              "      <th>MMRCurrentRetailCleanPrice</th>\n",
              "      <th>PRIMEUNIT</th>\n",
              "      <th>AUCGUART</th>\n",
              "      <th>BYRNO</th>\n",
              "      <th>VNZIP1</th>\n",
              "      <th>VNST</th>\n",
              "      <th>VehBCost</th>\n",
              "      <th>IsOnlineSale</th>\n",
              "      <th>WarrantyCost</th>\n",
              "      <th>Year</th>\n",
              "      <th>mean_MMRCurrentAuctionAveragePrice_Make</th>\n",
              "      <th>mean_MMRCurrentAuctionAveragePrice_Model</th>\n",
              "      <th>mean_MMRCurrentAuctionAveragePrice_Trim</th>\n",
              "      <th>mean_MMRCurrentAuctionAveragePrice_SubModel</th>\n",
              "      <th>mean_MMRCurrentAuctionAveragePrice_Color</th>\n",
              "      <th>mean_MMRCurrentAuctionAveragePrice_Transmission</th>\n",
              "    </tr>\n",
              "  </thead>\n",
              "  <tbody>\n",
              "    <tr>\n",
              "      <th>0</th>\n",
              "      <td>1</td>\n",
              "      <td>0</td>\n",
              "      <td>2009-12-07</td>\n",
              "      <td>ADESA</td>\n",
              "      <td>2006</td>\n",
              "      <td>3</td>\n",
              "      <td>MAZDA</td>\n",
              "      <td>MAZDA3</td>\n",
              "      <td>i</td>\n",
              "      <td>4D SEDAN I</td>\n",
              "      <td>RED</td>\n",
              "      <td>AUTO</td>\n",
              "      <td>1.0</td>\n",
              "      <td>Alloy</td>\n",
              "      <td>89046</td>\n",
              "      <td>OTHER ASIAN</td>\n",
              "      <td>MEDIUM</td>\n",
              "      <td>OTHER</td>\n",
              "      <td>8155.0</td>\n",
              "      <td>9829.0</td>\n",
              "      <td>11636.0</td>\n",
              "      <td>13600.0</td>\n",
              "      <td>7451.0</td>\n",
              "      <td>8552.0</td>\n",
              "      <td>11597.0</td>\n",
              "      <td>12409.0</td>\n",
              "      <td>NaN</td>\n",
              "      <td>NaN</td>\n",
              "      <td>21973</td>\n",
              "      <td>33619</td>\n",
              "      <td>FL</td>\n",
              "      <td>7100.0</td>\n",
              "      <td>0</td>\n",
              "      <td>1113</td>\n",
              "      <td>2009</td>\n",
              "      <td>6318.976386</td>\n",
              "      <td>7334.472637</td>\n",
              "      <td>7155.238095</td>\n",
              "      <td>6900.784360</td>\n",
              "      <td>6053.234606</td>\n",
              "      <td>6180.060667</td>\n",
              "    </tr>\n",
              "    <tr>\n",
              "      <th>1</th>\n",
              "      <td>2</td>\n",
              "      <td>0</td>\n",
              "      <td>2009-12-07</td>\n",
              "      <td>ADESA</td>\n",
              "      <td>2004</td>\n",
              "      <td>5</td>\n",
              "      <td>DODGE</td>\n",
              "      <td>1500 RAM PICKUP 2WD</td>\n",
              "      <td>ST</td>\n",
              "      <td>QUAD CAB 4.7L SLT</td>\n",
              "      <td>WHITE</td>\n",
              "      <td>AUTO</td>\n",
              "      <td>1.0</td>\n",
              "      <td>Alloy</td>\n",
              "      <td>93593</td>\n",
              "      <td>AMERICAN</td>\n",
              "      <td>LARGE TRUCK</td>\n",
              "      <td>CHRYSLER</td>\n",
              "      <td>6854.0</td>\n",
              "      <td>8383.0</td>\n",
              "      <td>10897.0</td>\n",
              "      <td>12572.0</td>\n",
              "      <td>7456.0</td>\n",
              "      <td>9222.0</td>\n",
              "      <td>11374.0</td>\n",
              "      <td>12791.0</td>\n",
              "      <td>NaN</td>\n",
              "      <td>NaN</td>\n",
              "      <td>19638</td>\n",
              "      <td>33619</td>\n",
              "      <td>FL</td>\n",
              "      <td>7600.0</td>\n",
              "      <td>0</td>\n",
              "      <td>1053</td>\n",
              "      <td>2009</td>\n",
              "      <td>6546.501242</td>\n",
              "      <td>7653.358182</td>\n",
              "      <td>6769.117857</td>\n",
              "      <td>7408.289277</td>\n",
              "      <td>6001.013157</td>\n",
              "      <td>6180.060667</td>\n",
              "    </tr>\n",
              "  </tbody>\n",
              "</table>\n",
              "</div>"
            ],
            "text/plain": [
              "   RefId  IsBadBuy  PurchDate Auction  VehYear  VehicleAge   Make  \\\n",
              "0      1         0 2009-12-07   ADESA     2006           3  MAZDA   \n",
              "1      2         0 2009-12-07   ADESA     2004           5  DODGE   \n",
              "\n",
              "                 Model Trim           SubModel  Color Transmission  \\\n",
              "0               MAZDA3    i         4D SEDAN I    RED         AUTO   \n",
              "1  1500 RAM PICKUP 2WD   ST  QUAD CAB 4.7L SLT  WHITE         AUTO   \n",
              "\n",
              "   WheelTypeID WheelType  VehOdo  Nationality         Size  \\\n",
              "0          1.0     Alloy   89046  OTHER ASIAN       MEDIUM   \n",
              "1          1.0     Alloy   93593     AMERICAN  LARGE TRUCK   \n",
              "\n",
              "  TopThreeAmericanName  MMRAcquisitionAuctionAveragePrice  \\\n",
              "0                OTHER                             8155.0   \n",
              "1             CHRYSLER                             6854.0   \n",
              "\n",
              "   MMRAcquisitionAuctionCleanPrice  MMRAcquisitionRetailAveragePrice  \\\n",
              "0                           9829.0                           11636.0   \n",
              "1                           8383.0                           10897.0   \n",
              "\n",
              "   MMRAcquisitonRetailCleanPrice  MMRCurrentAuctionAveragePrice  \\\n",
              "0                        13600.0                         7451.0   \n",
              "1                        12572.0                         7456.0   \n",
              "\n",
              "   MMRCurrentAuctionCleanPrice  MMRCurrentRetailAveragePrice  \\\n",
              "0                       8552.0                       11597.0   \n",
              "1                       9222.0                       11374.0   \n",
              "\n",
              "   MMRCurrentRetailCleanPrice PRIMEUNIT AUCGUART  BYRNO  VNZIP1 VNST  \\\n",
              "0                     12409.0       NaN      NaN  21973   33619   FL   \n",
              "1                     12791.0       NaN      NaN  19638   33619   FL   \n",
              "\n",
              "   VehBCost  IsOnlineSale  WarrantyCost  Year  \\\n",
              "0    7100.0             0          1113  2009   \n",
              "1    7600.0             0          1053  2009   \n",
              "\n",
              "   mean_MMRCurrentAuctionAveragePrice_Make  \\\n",
              "0                              6318.976386   \n",
              "1                              6546.501242   \n",
              "\n",
              "   mean_MMRCurrentAuctionAveragePrice_Model  \\\n",
              "0                               7334.472637   \n",
              "1                               7653.358182   \n",
              "\n",
              "   mean_MMRCurrentAuctionAveragePrice_Trim  \\\n",
              "0                              7155.238095   \n",
              "1                              6769.117857   \n",
              "\n",
              "   mean_MMRCurrentAuctionAveragePrice_SubModel  \\\n",
              "0                                  6900.784360   \n",
              "1                                  7408.289277   \n",
              "\n",
              "   mean_MMRCurrentAuctionAveragePrice_Color  \\\n",
              "0                               6053.234606   \n",
              "1                               6001.013157   \n",
              "\n",
              "   mean_MMRCurrentAuctionAveragePrice_Transmission  \n",
              "0                                      6180.060667  \n",
              "1                                      6180.060667  "
            ]
          },
          "metadata": {
            "tags": []
          },
          "execution_count": 10
        }
      ]
    },
    {
      "cell_type": "markdown",
      "metadata": {
        "id": "vT1J7mOGjicW"
      },
      "source": [
        "Divide Dataset into X and Y"
      ]
    },
    {
      "cell_type": "code",
      "metadata": {
        "id": "Oc6BQ2VEISdV"
      },
      "source": [
        "#create X and y datasets for splitting \n",
        "X = train.drop(['RefId', 'IsBadBuy'], axis=1)\n",
        "y = train['IsBadBuy']"
      ],
      "execution_count": 11,
      "outputs": []
    },
    {
      "cell_type": "code",
      "metadata": {
        "id": "Do3urfCvISao"
      },
      "source": [
        "all_features = X.columns\n",
        "all_features = all_features.tolist()"
      ],
      "execution_count": 12,
      "outputs": []
    },
    {
      "cell_type": "code",
      "metadata": {
        "id": "D4n5eGrPISXl"
      },
      "source": [
        "numerical_features = [c for c, dtype in zip(X.columns, X.dtypes)\n",
        "                     if dtype.kind in ['i','f']]\n",
        "categorical_features = [c for c, dtype in zip(X.columns, X.dtypes)\n",
        "                     if dtype.kind not in ['i','f']]"
      ],
      "execution_count": 13,
      "outputs": []
    },
    {
      "cell_type": "code",
      "metadata": {
        "id": "QEu77sfyISU8"
      },
      "source": [
        "#import train_test_split library\n",
        "from sklearn.model_selection import train_test_split\n",
        "\n",
        "# create train test split\n",
        "X_train, X_test, y_train, y_test = train_test_split( X,  y, test_size=0.3, random_state=42) "
      ],
      "execution_count": 14,
      "outputs": []
    },
    {
      "cell_type": "markdown",
      "metadata": {
        "id": "28o8DII3MIn9"
      },
      "source": [
        "Setup Pipeline"
      ]
    },
    {
      "cell_type": "code",
      "metadata": {
        "id": "bFzw9jnsLrgV"
      },
      "source": [
        "preprocessor = make_column_transformer(\n",
        "    \n",
        "    (make_pipeline(\n",
        "    #SimpleImputer(strategy = 'median'),\n",
        "    KNNImputer(n_neighbors=2, weights=\"uniform\"),\n",
        "    MinMaxScaler()), numerical_features),\n",
        "    \n",
        "    (make_pipeline(\n",
        "    SimpleImputer(strategy = 'constant', fill_value = 'missing'),\n",
        "    OneHotEncoder(categories = 'auto', handle_unknown = 'ignore')), categorical_features),\n",
        "    \n",
        ")"
      ],
      "execution_count": 15,
      "outputs": []
    },
    {
      "cell_type": "code",
      "metadata": {
        "id": "Bry30NBQLrXe"
      },
      "source": [
        "preprocessor_best = make_pipeline(preprocessor, \n",
        "                                  VarianceThreshold(), \n",
        "                                  SelectKBest(f_classif, k = 50)\n",
        "                                 )"
      ],
      "execution_count": 16,
      "outputs": []
    },
    {
      "cell_type": "code",
      "metadata": {
        "id": "Xr0zamtiLrUx"
      },
      "source": [
        "RF_Model = make_pipeline(preprocessor_best, RandomForestClassifier(n_estimators = 100))"
      ],
      "execution_count": 17,
      "outputs": []
    },
    {
      "cell_type": "markdown",
      "metadata": {
        "id": "zcp24pmGORtP"
      },
      "source": [
        "Grid Search"
      ]
    },
    {
      "cell_type": "code",
      "metadata": {
        "id": "raO48pbcLrSO"
      },
      "source": [
        "# Number of trees in random forest\n",
        "n_estimators = [int(x) for x in np.linspace(start = 100, stop = 1000, num = 50)]\n",
        "# Number of features to consider at every split\n",
        "max_features = ['auto', 'sqrt']\n",
        "#Maximum number of levels in tree\n",
        "max_depth = [2,4,6,8]\n",
        "# Minimum number of samples required to split a node\n",
        "#min_samples_split = [2, 5]\n",
        "# Minimum number of samples required at each leaf node\n",
        "#min_samples_leaf = [1, 2]\n",
        "# Method of selecting samples for training each tree\n",
        "#bootstrap = [True, False]"
      ],
      "execution_count": 18,
      "outputs": []
    },
    {
      "cell_type": "code",
      "metadata": {
        "colab": {
          "base_uri": "https://localhost:8080/"
        },
        "id": "Jz-lCtqwLrP4",
        "outputId": "d0e6ce05-e43f-4497-cafd-ecfa0a9472c2"
      },
      "source": [
        "# Create the param grid\n",
        "param_grid = {'randomforestclassifier__n_estimators': n_estimators,\n",
        "               'randomforestclassifier__max_features': max_features,\n",
        "               'randomforestclassifier__max_depth': max_depth\n",
        "               #'randomforestclassifier__min_samples_split': min_samples_split,\n",
        "               #'randomforestclassifier__min_samples_leaf': min_samples_leaf,\n",
        "               #'randomforestclassifier__bootstrap': bootstrap\n",
        "             }\n",
        "print(param_grid)"
      ],
      "execution_count": 19,
      "outputs": [
        {
          "output_type": "stream",
          "text": [
            "{'randomforestclassifier__n_estimators': [100, 118, 136, 155, 173, 191, 210, 228, 246, 265, 283, 302, 320, 338, 357, 375, 393, 412, 430, 448, 467, 485, 504, 522, 540, 559, 577, 595, 614, 632, 651, 669, 687, 706, 724, 742, 761, 779, 797, 816, 834, 853, 871, 889, 908, 926, 944, 963, 981, 1000], 'randomforestclassifier__max_features': ['auto', 'sqrt'], 'randomforestclassifier__max_depth': [2, 4, 6, 8]}\n"
          ],
          "name": "stdout"
        }
      ]
    },
    {
      "cell_type": "code",
      "metadata": {
        "id": "LNikJDEwLrM7"
      },
      "source": [
        "from sklearn.model_selection import RandomizedSearchCV\n",
        "rf_RandomGrid = RandomizedSearchCV(estimator = RF_Model, param_distributions = param_grid, cv = 3, verbose=1, n_jobs = -1, n_iter = 5, scoring = 'f1')"
      ],
      "execution_count": 20,
      "outputs": []
    },
    {
      "cell_type": "code",
      "metadata": {
        "colab": {
          "base_uri": "https://localhost:8080/"
        },
        "id": "6ceRkvMJLrJ4",
        "outputId": "e4fbd299-5c32-4e88-8798-fa3ef1d9bc72"
      },
      "source": [
        "%%time\n",
        "rf_RandomGrid.fit(X_train, y_train)"
      ],
      "execution_count": 22,
      "outputs": [
        {
          "output_type": "stream",
          "text": [
            "Fitting 3 folds for each of 5 candidates, totalling 15 fits\n",
            "CPU times: user 1min 40s, sys: 1.57 s, total: 1min 41s\n",
            "Wall time: 9min 55s\n"
          ],
          "name": "stdout"
        },
        {
          "output_type": "execute_result",
          "data": {
            "text/plain": [
              "RandomizedSearchCV(cv=3,\n",
              "                   estimator=Pipeline(steps=[('pipeline',\n",
              "                                              Pipeline(steps=[('columntransformer',\n",
              "                                                               ColumnTransformer(transformers=[('pipeline-1',\n",
              "                                                                                                Pipeline(steps=[('knnimputer',\n",
              "                                                                                                                 KNNImputer(n_neighbors=2)),\n",
              "                                                                                                                ('minmaxscaler',\n",
              "                                                                                                                 MinMaxScaler())]),\n",
              "                                                                                                ['VehYear',\n",
              "                                                                                                 'VehicleAge',\n",
              "                                                                                                 'WheelTypeID',\n",
              "                                                                                                 'VehOdo',\n",
              "                                                                                                 'MMRAcquisitionAuctionAveragePrice',\n",
              "                                                                                                 'MMRAcquisitionAuctionCleanPric...\n",
              "                                              RandomForestClassifier())]),\n",
              "                   n_iter=5, n_jobs=-1,\n",
              "                   param_distributions={'randomforestclassifier__max_depth': [2,\n",
              "                                                                              4,\n",
              "                                                                              6,\n",
              "                                                                              8],\n",
              "                                        'randomforestclassifier__max_features': ['auto',\n",
              "                                                                                 'sqrt'],\n",
              "                                        'randomforestclassifier__n_estimators': [100,\n",
              "                                                                                 118,\n",
              "                                                                                 136,\n",
              "                                                                                 155,\n",
              "                                                                                 173,\n",
              "                                                                                 191,\n",
              "                                                                                 210,\n",
              "                                                                                 228,\n",
              "                                                                                 246,\n",
              "                                                                                 265,\n",
              "                                                                                 283,\n",
              "                                                                                 302,\n",
              "                                                                                 320,\n",
              "                                                                                 338,\n",
              "                                                                                 357,\n",
              "                                                                                 375,\n",
              "                                                                                 393,\n",
              "                                                                                 412,\n",
              "                                                                                 430,\n",
              "                                                                                 448,\n",
              "                                                                                 467,\n",
              "                                                                                 485,\n",
              "                                                                                 504,\n",
              "                                                                                 522,\n",
              "                                                                                 540,\n",
              "                                                                                 559,\n",
              "                                                                                 577,\n",
              "                                                                                 595,\n",
              "                                                                                 614,\n",
              "                                                                                 632, ...]},\n",
              "                   scoring='f1', verbose=1)"
            ]
          },
          "metadata": {
            "tags": []
          },
          "execution_count": 22
        }
      ]
    },
    {
      "cell_type": "code",
      "metadata": {
        "colab": {
          "base_uri": "https://localhost:8080/"
        },
        "id": "aUJtHLssQE2j",
        "outputId": "cd4e8172-de66-470b-b954-17743e3ba4e2"
      },
      "source": [
        "rf_RandomGrid.best_estimator_"
      ],
      "execution_count": 23,
      "outputs": [
        {
          "output_type": "execute_result",
          "data": {
            "text/plain": [
              "Pipeline(steps=[('pipeline',\n",
              "                 Pipeline(steps=[('columntransformer',\n",
              "                                  ColumnTransformer(transformers=[('pipeline-1',\n",
              "                                                                   Pipeline(steps=[('knnimputer',\n",
              "                                                                                    KNNImputer(n_neighbors=2)),\n",
              "                                                                                   ('minmaxscaler',\n",
              "                                                                                    MinMaxScaler())]),\n",
              "                                                                   ['VehYear',\n",
              "                                                                    'VehicleAge',\n",
              "                                                                    'WheelTypeID',\n",
              "                                                                    'VehOdo',\n",
              "                                                                    'MMRAcquisitionAuctionAveragePrice',\n",
              "                                                                    'MMRAcquisitionAuctionCleanPrice',\n",
              "                                                                    'MMRAcquisitionRetailAveragePri...\n",
              "                                                                   ['PurchDate',\n",
              "                                                                    'Auction',\n",
              "                                                                    'Make',\n",
              "                                                                    'Model',\n",
              "                                                                    'Trim',\n",
              "                                                                    'SubModel',\n",
              "                                                                    'Color',\n",
              "                                                                    'Transmission',\n",
              "                                                                    'WheelType',\n",
              "                                                                    'Nationality',\n",
              "                                                                    'Size',\n",
              "                                                                    'TopThreeAmericanName',\n",
              "                                                                    'PRIMEUNIT',\n",
              "                                                                    'AUCGUART',\n",
              "                                                                    'VNST'])])),\n",
              "                                 ('variancethreshold', VarianceThreshold()),\n",
              "                                 ('selectkbest', SelectKBest(k=50))])),\n",
              "                ('randomforestclassifier',\n",
              "                 RandomForestClassifier(max_depth=8, max_features='sqrt',\n",
              "                                        n_estimators=522))])"
            ]
          },
          "metadata": {
            "tags": []
          },
          "execution_count": 23
        }
      ]
    },
    {
      "cell_type": "markdown",
      "metadata": {
        "id": "WATzeDMrQLKO"
      },
      "source": [
        "Accuracy"
      ]
    },
    {
      "cell_type": "code",
      "metadata": {
        "colab": {
          "base_uri": "https://localhost:8080/"
        },
        "id": "hq163eH1QEzC",
        "outputId": "c7feab4d-8549-4ad9-d308-2c84bb23acf6"
      },
      "source": [
        "print(f'Train : {rf_RandomGrid.score(X_train, y_train):.3f}')\n",
        "print(f'Test : {rf_RandomGrid.score(X_test, y_test):.3f}')"
      ],
      "execution_count": 24,
      "outputs": [
        {
          "output_type": "stream",
          "text": [
            "Train : 0.369\n",
            "Test : 0.369\n"
          ],
          "name": "stdout"
        }
      ]
    },
    {
      "cell_type": "markdown",
      "metadata": {
        "id": "DHs_2G8PsC60"
      },
      "source": [
        "Gradient Boosting"
      ]
    },
    {
      "cell_type": "code",
      "metadata": {
        "id": "nhcIVRnHLnVM"
      },
      "source": [
        "preprocessor = make_column_transformer(\n",
        "    \n",
        "    (make_pipeline(\n",
        "    #SimpleImputer(strategy = 'median'),\n",
        "    KNNImputer(n_neighbors=2, weights=\"uniform\"),\n",
        "    MinMaxScaler()), numerical_features),\n",
        "    \n",
        "    (make_pipeline(\n",
        "    SimpleImputer(strategy = 'constant', fill_value = 'missing'),\n",
        "    OneHotEncoder(categories = 'auto', handle_unknown = 'ignore')), categorical_features),\n",
        "\n",
        ")\n",
        "\n",
        "preprocessor_best = make_pipeline(preprocessor, \n",
        "                                  VarianceThreshold(), \n",
        "                                  SelectKBest(f_classif, k = 50)\n",
        "                                 )\n"
      ],
      "execution_count": 25,
      "outputs": []
    },
    {
      "cell_type": "code",
      "metadata": {
        "id": "gWOxuSksLud7"
      },
      "source": [
        ""
      ],
      "execution_count": null,
      "outputs": []
    },
    {
      "cell_type": "code",
      "metadata": {
        "id": "Xq4dQTb9r6tp"
      },
      "source": [
        "from xgboost import XGBClassifier\n",
        "# model = XGBClassifier(random_state=42, n_jobs=-1, n_estimators=20, max_depth=4, use_label_encoder=False)\n",
        "\n",
        "\n",
        "model = make_pipeline(preprocessor_best, XGBClassifier(random_state=42, n_jobs=-1, n_estimators=20, max_depth=4, use_label_encoder=False))"
      ],
      "execution_count": 26,
      "outputs": []
    },
    {
      "cell_type": "code",
      "metadata": {
        "colab": {
          "base_uri": "https://localhost:8080/"
        },
        "id": "l6nWXHv9s2zr",
        "outputId": "68b37bd0-2070-479f-f322-d250fa678e48"
      },
      "source": [
        "%%time\n",
        "\n",
        "model.fit(X, y)"
      ],
      "execution_count": 27,
      "outputs": [
        {
          "output_type": "stream",
          "text": [
            "[04:51:31] WARNING: ../src/learner.cc:1095: Starting in XGBoost 1.3.0, the default evaluation metric used with the objective 'binary:logistic' was changed from 'error' to 'logloss'. Explicitly set eval_metric if you'd like to restore the old behavior.\n",
            "CPU times: user 49.8 s, sys: 1.59 s, total: 51.3 s\n",
            "Wall time: 44.8 s\n"
          ],
          "name": "stdout"
        },
        {
          "output_type": "execute_result",
          "data": {
            "text/plain": [
              "Pipeline(steps=[('pipeline',\n",
              "                 Pipeline(steps=[('columntransformer',\n",
              "                                  ColumnTransformer(transformers=[('pipeline-1',\n",
              "                                                                   Pipeline(steps=[('knnimputer',\n",
              "                                                                                    KNNImputer(n_neighbors=2)),\n",
              "                                                                                   ('minmaxscaler',\n",
              "                                                                                    MinMaxScaler())]),\n",
              "                                                                   ['VehYear',\n",
              "                                                                    'VehicleAge',\n",
              "                                                                    'WheelTypeID',\n",
              "                                                                    'VehOdo',\n",
              "                                                                    'MMRAcquisitionAuctionAveragePrice',\n",
              "                                                                    'MMRAcquisitionAuctionCleanPrice',\n",
              "                                                                    'MMRAcquisitionRetailAveragePri...\n",
              "                               importance_type='gain',\n",
              "                               interaction_constraints='',\n",
              "                               learning_rate=0.300000012, max_delta_step=0,\n",
              "                               max_depth=4, min_child_weight=1, missing=nan,\n",
              "                               monotone_constraints='()', n_estimators=20,\n",
              "                               n_jobs=-1, num_parallel_tree=1, random_state=42,\n",
              "                               reg_alpha=0, reg_lambda=1, scale_pos_weight=1,\n",
              "                               subsample=1, tree_method='exact',\n",
              "                               use_label_encoder=False, validate_parameters=1,\n",
              "                               verbosity=None))])"
            ]
          },
          "metadata": {
            "tags": []
          },
          "execution_count": 27
        }
      ]
    },
    {
      "cell_type": "code",
      "metadata": {
        "id": "b_JcgjBZs7hA"
      },
      "source": [
        "preds = model.predict(X)"
      ],
      "execution_count": 28,
      "outputs": []
    },
    {
      "cell_type": "code",
      "metadata": {
        "colab": {
          "base_uri": "https://localhost:8080/"
        },
        "id": "35Kd2T_P2VLR",
        "outputId": "581ffc42-7230-4c47-8a10-2dd97560c232"
      },
      "source": [
        "preds"
      ],
      "execution_count": 29,
      "outputs": [
        {
          "output_type": "execute_result",
          "data": {
            "text/plain": [
              "array([0, 0, 0, ..., 0, 0, 0])"
            ]
          },
          "metadata": {
            "tags": []
          },
          "execution_count": 29
        }
      ]
    },
    {
      "cell_type": "code",
      "metadata": {
        "id": "-IdxGm942WxQ"
      },
      "source": [
        "from sklearn.metrics import accuracy_score, confusion_matrix"
      ],
      "execution_count": 30,
      "outputs": []
    },
    {
      "cell_type": "code",
      "metadata": {
        "id": "wBNIv5gl2f2u"
      },
      "source": [
        "accuracy = accuracy_score(y, preds)"
      ],
      "execution_count": 32,
      "outputs": []
    },
    {
      "cell_type": "code",
      "metadata": {
        "colab": {
          "base_uri": "https://localhost:8080/"
        },
        "id": "y6eMT0jI2y-u",
        "outputId": "53afffae-2dfb-44ad-e409-a057ab29ba75"
      },
      "source": [
        "print(\"Accuracy: %.2f%%\" % (accuracy * 100.0))"
      ],
      "execution_count": 33,
      "outputs": [
        {
          "output_type": "stream",
          "text": [
            "Accuracy: 90.12%\n"
          ],
          "name": "stdout"
        }
      ]
    },
    {
      "cell_type": "code",
      "metadata": {
        "colab": {
          "base_uri": "https://localhost:8080/"
        },
        "id": "8fFTdcueMdWC",
        "outputId": "1addebf0-0edd-4fe3-9700-9eb6171a4fdc"
      },
      "source": [
        "model.score(X, y)"
      ],
      "execution_count": 34,
      "outputs": [
        {
          "output_type": "execute_result",
          "data": {
            "text/plain": [
              "0.9011961689708562"
            ]
          },
          "metadata": {
            "tags": []
          },
          "execution_count": 34
        }
      ]
    },
    {
      "cell_type": "code",
      "metadata": {
        "colab": {
          "base_uri": "https://localhost:8080/"
        },
        "id": "CBx2z5CzNxPO",
        "outputId": "2fc7e892-c77d-4609-ac6d-432c24080890"
      },
      "source": [
        "y.value_counts()"
      ],
      "execution_count": 37,
      "outputs": [
        {
          "output_type": "execute_result",
          "data": {
            "text/plain": [
              "0    64007\n",
              "1     8976\n",
              "Name: IsBadBuy, dtype: int64"
            ]
          },
          "metadata": {
            "tags": []
          },
          "execution_count": 37
        }
      ]
    },
    {
      "cell_type": "code",
      "metadata": {
        "colab": {
          "base_uri": "https://localhost:8080/",
          "height": 164
        },
        "id": "dewZeUNJ4fum",
        "outputId": "5dbcd09c-2c76-4e25-c1bb-c2aa20962c2d"
      },
      "source": [
        "model.feature_importances_"
      ],
      "execution_count": 35,
      "outputs": [
        {
          "output_type": "error",
          "ename": "AttributeError",
          "evalue": "ignored",
          "traceback": [
            "\u001b[0;31m---------------------------------------------------------------------------\u001b[0m",
            "\u001b[0;31mAttributeError\u001b[0m                            Traceback (most recent call last)",
            "\u001b[0;32m<ipython-input-35-f9dc4bf4ced8>\u001b[0m in \u001b[0;36m<module>\u001b[0;34m()\u001b[0m\n\u001b[0;32m----> 1\u001b[0;31m \u001b[0mmodel\u001b[0m\u001b[0;34m.\u001b[0m\u001b[0mfeature_importances_\u001b[0m\u001b[0;34m\u001b[0m\u001b[0;34m\u001b[0m\u001b[0m\n\u001b[0m",
            "\u001b[0;31mAttributeError\u001b[0m: 'Pipeline' object has no attribute 'feature_importances_'"
          ]
        }
      ]
    },
    {
      "cell_type": "code",
      "metadata": {
        "id": "vsI2FMU71rrl"
      },
      "source": [
        "importance_df = pd.DataFrame({\n",
        "    'feature': X.columns,\n",
        "    'importance': model.feature_importances_\n",
        "}).sort_values('importance', ascending=False)"
      ],
      "execution_count": null,
      "outputs": []
    },
    {
      "cell_type": "code",
      "metadata": {
        "id": "kfFySFEM11sD"
      },
      "source": [
        "importance_df.head(10)"
      ],
      "execution_count": null,
      "outputs": []
    },
    {
      "cell_type": "code",
      "metadata": {
        "id": "lNgIi-5y1345"
      },
      "source": [
        "import matplotlib.pyplot as plt\n",
        "import seaborn as sns\n",
        "plt.title('Feature Importance')\n",
        "sns.barplot(data=importance_df.head(10), x='importance', y='feature');"
      ],
      "execution_count": null,
      "outputs": []
    },
    {
      "cell_type": "code",
      "metadata": {
        "id": "SUNBfRL42Cx5"
      },
      "source": [
        ""
      ],
      "execution_count": null,
      "outputs": []
    }
  ]
}