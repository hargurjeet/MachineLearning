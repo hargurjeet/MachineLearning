{
  "nbformat": 4,
  "nbformat_minor": 0,
  "metadata": {
    "colab": {
      "name": "Used Car Quality Detection.ipynb",
      "provenance": [],
      "toc_visible": true,
      "authorship_tag": "ABX9TyOqyl70jrEhxD+pcSbxEzcC",
      "include_colab_link": true
    },
    "kernelspec": {
      "name": "python3",
      "display_name": "Python 3"
    },
    "language_info": {
      "name": "python"
    }
  },
  "cells": [
    {
      "cell_type": "markdown",
      "metadata": {
        "id": "view-in-github",
        "colab_type": "text"
      },
      "source": [
        "<a href=\"https://colab.research.google.com/github/hargurjeet/MachineLearning/blob/master/Used_Car_Quality_Detection.ipynb\" target=\"_parent\"><img src=\"https://colab.research.google.com/assets/colab-badge.svg\" alt=\"Open In Colab\"/></a>"
      ]
    },
    {
      "cell_type": "markdown",
      "metadata": {
        "id": "Vdpz77FmwQRF"
      },
      "source": [
        "# **Car Quality Detection by XBboost and Random Forests**"
      ]
    },
    {
      "cell_type": "markdown",
      "metadata": {
        "id": "mK3oibLQwrvy"
      },
      "source": [
        "Machine learning is the science of getting computers to act without being explicitly programmed. In the past decade, machine learning has given us self-driving cars, practical speech recognition, effective web search, and a vastly improved understanding of the human genome. Machine learning is so pervasive today that you probably use it dozens of times a day without knowing it. In this notebook I implement two of the most known machine learning algorthim to predict the quality of a car."
      ]
    },
    {
      "cell_type": "markdown",
      "metadata": {
        "id": "E23u3dNcxR5i"
      },
      "source": [
        "# **Table Of Contents**<a name=\"top\"></a>\n",
        "\n",
        "\n",
        "---\n",
        "\n",
        "\n",
        "\n",
        "---\n",
        "\n",
        "\n",
        "  1. [About the Dataset](#1)\n",
        "  2. [Loading the dataset Preprocessing](#2)\n",
        "  3. [Expainatory Data Analysis](#3)\n",
        "  4. [Feature Engineering](#4)\n",
        "  4. [Data Cleaning and Pipelines Implementation](#4)\n",
        "  5. [Implemneting Random Forest](#5)\n",
        "  6. [Implemneting XBboost Forest](#6)\n",
        "  7. [Hyperparamterization](#7)\n",
        "  8. [Testing the models on sample dataset](#8)\n",
        "  9. [Summary](#9)\n",
        "  10. [Future Work](#10)\n",
        "  11. [References](#11)"
      ]
    },
    {
      "cell_type": "markdown",
      "metadata": {
        "id": "c0AddVA8xhJi"
      },
      "source": [
        "# <font color=\"darkslateblue\" size=+2.0><b>1: AboutDataset</b></font> <a name=\"1\"></a>\n",
        "\n",
        "\n",
        "---\n",
        "<a href=\"#top\" class=\"btn btn-primary btn-sm\" role=\"button\" aria-pressed=\"true\" style=\"color:white\" data-toggle=\"popover\">Go to TOC</a> "
      ]
    },
    {
      "cell_type": "markdown",
      "metadata": {
        "id": "1u2kf9DbyAWN"
      },
      "source": [
        "One of the biggest challenges of an auto dealership purchasing a used car at an auto auction is the risk of that the vehicle might have serious issues that prevent it from being sold to customers. The auto community calls these unfortunate purchases \"kicks\".\n",
        "\n",
        "Kicked cars often result when there are tampered odometers, mechanical issues the dealer is not able to address, issues with getting the vehicle title from the seller, or some other unforeseen problem. Kick cars can be very costly to dealers after transportation cost, throw-away repair work, and market losses in reselling the vehicle.\n",
        "\n",
        "Modelers who can figure out which cars have a higher risk of being kick can provide real value to dealerships trying to provide the best inventory selection possible to their customers.\n",
        "\n",
        "The challenge of this competition is to predict if the car purchased at the Auction is a Kick (bad buy).\n",
        "\n",
        "- The challenge of this competition is to predict if the car purchased at the Auction is a good / bad buy.\n",
        "- All the variables in the data set are defined in the file Carvana_Data_Dictionary.txt \n",
        "- The data contains missing values \n",
        "- The dependent variable (IsBadBuy) is binary (C2)\n",
        "- There are 32 Independent variables (C3-C34)\n",
        "- The data set is split to 60% training and 40% testing."
      ]
    },
    {
      "cell_type": "markdown",
      "metadata": {
        "id": "fx_dbCpoyA_F"
      },
      "source": [
        "# <font color=\"black\" size=+2.0><b>2: Loading the dataset Preprocessing</b></font> <a name=\"2\"></a>\n",
        "\n",
        "\n",
        "---\n",
        "<a href=\"#top\" class=\"btn btn-primary btn-sm\" role=\"button\" aria-pressed=\"true\" style=\"color:white\" data-toggle=\"popover\">Go to TOC</a> "
      ]
    },
    {
      "cell_type": "markdown",
      "metadata": {
        "id": "7JW0cqebc_CE"
      },
      "source": [
        "Downloading all the required python packages to get started, also imported all the required libraries"
      ]
    },
    {
      "cell_type": "code",
      "metadata": {
        "colab": {
          "base_uri": "https://localhost:8080/"
        },
        "id": "8D4TWeEDUB3V",
        "outputId": "1aa5b316-99c0-42db-92b5-46a31c5f6b93"
      },
      "source": [
        "!pip install numpy pandas matplotlib seaborn --quiet\n",
        "!pip install jovian opendatasets xgboost graphviz lightgbm scikit-learn xgboost lightgbm --upgrade --quiet"
      ],
      "execution_count": 1,
      "outputs": [
        {
          "output_type": "stream",
          "text": [
            "\u001b[K     |████████████████████████████████| 68 kB 2.6 MB/s \n",
            "\u001b[K     |████████████████████████████████| 166.7 MB 7.0 kB/s \n",
            "\u001b[K     |████████████████████████████████| 2.0 MB 39.8 MB/s \n",
            "\u001b[K     |████████████████████████████████| 22.3 MB 1.4 MB/s \n",
            "\u001b[?25h  Building wheel for uuid (setup.py) ... \u001b[?25l\u001b[?25hdone\n"
          ],
          "name": "stdout"
        }
      ]
    },
    {
      "cell_type": "code",
      "metadata": {
        "id": "_4UzdMAEUIYO"
      },
      "source": [
        "#importing dataset\n",
        "import os\n",
        "import opendatasets as od\n",
        "import pandas as pd\n",
        "import numpy as np\n",
        "\n",
        "#Pipeline\n",
        "from sklearn.pipeline import make_pipeline\n",
        "from sklearn.compose import make_column_transformer\n",
        "\n",
        "#For Missing Value and Feature Engineering\n",
        "from sklearn.feature_selection import SelectKBest, chi2, f_classif, VarianceThreshold\n",
        "from sklearn.impute import SimpleImputer, KNNImputer, MissingIndicator\n",
        "from sklearn.preprocessing import KBinsDiscretizer, OneHotEncoder, MinMaxScaler\n",
        "from sklearn.decomposition import PCA\n",
        "from sklearn.ensemble import RandomForestClassifier, ExtraTreesClassifier\n",
        "\n",
        "import time\n",
        "\n",
        "#for visualization\n",
        "import seaborn as sns\n",
        "pd.set_option(\"display.max_columns\", 120)\n",
        "pd.set_option(\"display.max_rows\", 120)"
      ],
      "execution_count": 2,
      "outputs": []
    },
    {
      "cell_type": "markdown",
      "metadata": {
        "id": "SizpSP4Jd4k6"
      },
      "source": [
        "To download the dataset from Kaggle, I use the library **od**.\n",
        "\n",
        "To connect to kaggle enter user Kaggle username name and API key. \n",
        "\n",
        "Please read though this article to understand the process of getting your API key from kaggle.\n",
        "\n",
        "https://www.analyticsvidhya.com/blog/2021/04/how-to-download-kaggle-datasets-using-jupyter-notebook/"
      ]
    },
    {
      "cell_type": "code",
      "metadata": {
        "colab": {
          "base_uri": "https://localhost:8080/"
        },
        "id": "lfCdVqEMUJ97",
        "outputId": "6173bfa4-ef9e-4190-be9d-5b33607c2dcd"
      },
      "source": [
        "od.download('https://www.kaggle.com/c/DontGetKicked/data?select=test.csv')"
      ],
      "execution_count": 3,
      "outputs": [
        {
          "output_type": "stream",
          "text": [
            "Please provide your Kaggle credentials to download this dataset. Learn more: http://bit.ly/kaggle-creds\n",
            "Your Kaggle username: hargurjeet\n",
            "Your Kaggle Key: ··········\n"
          ],
          "name": "stdout"
        },
        {
          "output_type": "stream",
          "text": [
            "100%|██████████| 10.2M/10.2M [00:00<00:00, 84.0MB/s]"
          ],
          "name": "stderr"
        },
        {
          "output_type": "stream",
          "text": [
            "Downloading DontGetKicked.zip to ./DontGetKicked\n",
            "\n",
            "Extracting archive ./DontGetKicked/DontGetKicked.zip to ./DontGetKicked\n"
          ],
          "name": "stdout"
        },
        {
          "output_type": "stream",
          "text": [
            "\n"
          ],
          "name": "stderr"
        }
      ]
    },
    {
      "cell_type": "markdown",
      "metadata": {
        "id": "9Bb9TUT0e8tv"
      },
      "source": [
        "Below are the list of files downloaded. You can access all the downloaded filename using os.listdir(<'downloaded folder name'>)"
      ]
    },
    {
      "cell_type": "code",
      "metadata": {
        "colab": {
          "base_uri": "https://localhost:8080/"
        },
        "id": "Q_4ukX7TUPev",
        "outputId": "e82427c5-013b-4801-a6e3-9a153884f5a4"
      },
      "source": [
        "os.listdir('DontGetKicked')"
      ],
      "execution_count": 4,
      "outputs": [
        {
          "output_type": "execute_result",
          "data": {
            "text/plain": [
              "['test.csv',\n",
              " 'example_entry.csv',\n",
              " 'training.zip',\n",
              " 'training.csv',\n",
              " 'Carvana_Data_Dictionary.txt',\n",
              " 'test.zip']"
            ]
          },
          "metadata": {
            "tags": []
          },
          "execution_count": 4
        }
      ]
    },
    {
      "cell_type": "markdown",
      "metadata": {
        "id": "jy9ubhOvfXn0"
      },
      "source": [
        "I use pandas to read the train and test data sets. Here I access few records of training dataset"
      ]
    },
    {
      "cell_type": "code",
      "metadata": {
        "colab": {
          "base_uri": "https://localhost:8080/",
          "height": 377
        },
        "id": "QafC5UF9Ubfk",
        "outputId": "fd345a7d-d316-47eb-ce96-8bca8ad392a9"
      },
      "source": [
        "train=pd.read_csv('/content/DontGetKicked/training.csv') \n",
        "test= pd.read_csv('/content/DontGetKicked/test.csv')\n",
        "train.head()"
      ],
      "execution_count": 5,
      "outputs": [
        {
          "output_type": "execute_result",
          "data": {
            "text/html": [
              "<div>\n",
              "<style scoped>\n",
              "    .dataframe tbody tr th:only-of-type {\n",
              "        vertical-align: middle;\n",
              "    }\n",
              "\n",
              "    .dataframe tbody tr th {\n",
              "        vertical-align: top;\n",
              "    }\n",
              "\n",
              "    .dataframe thead th {\n",
              "        text-align: right;\n",
              "    }\n",
              "</style>\n",
              "<table border=\"1\" class=\"dataframe\">\n",
              "  <thead>\n",
              "    <tr style=\"text-align: right;\">\n",
              "      <th></th>\n",
              "      <th>RefId</th>\n",
              "      <th>IsBadBuy</th>\n",
              "      <th>PurchDate</th>\n",
              "      <th>Auction</th>\n",
              "      <th>VehYear</th>\n",
              "      <th>VehicleAge</th>\n",
              "      <th>Make</th>\n",
              "      <th>Model</th>\n",
              "      <th>Trim</th>\n",
              "      <th>SubModel</th>\n",
              "      <th>Color</th>\n",
              "      <th>Transmission</th>\n",
              "      <th>WheelTypeID</th>\n",
              "      <th>WheelType</th>\n",
              "      <th>VehOdo</th>\n",
              "      <th>Nationality</th>\n",
              "      <th>Size</th>\n",
              "      <th>TopThreeAmericanName</th>\n",
              "      <th>MMRAcquisitionAuctionAveragePrice</th>\n",
              "      <th>MMRAcquisitionAuctionCleanPrice</th>\n",
              "      <th>MMRAcquisitionRetailAveragePrice</th>\n",
              "      <th>MMRAcquisitonRetailCleanPrice</th>\n",
              "      <th>MMRCurrentAuctionAveragePrice</th>\n",
              "      <th>MMRCurrentAuctionCleanPrice</th>\n",
              "      <th>MMRCurrentRetailAveragePrice</th>\n",
              "      <th>MMRCurrentRetailCleanPrice</th>\n",
              "      <th>PRIMEUNIT</th>\n",
              "      <th>AUCGUART</th>\n",
              "      <th>BYRNO</th>\n",
              "      <th>VNZIP1</th>\n",
              "      <th>VNST</th>\n",
              "      <th>VehBCost</th>\n",
              "      <th>IsOnlineSale</th>\n",
              "      <th>WarrantyCost</th>\n",
              "    </tr>\n",
              "  </thead>\n",
              "  <tbody>\n",
              "    <tr>\n",
              "      <th>0</th>\n",
              "      <td>1</td>\n",
              "      <td>0</td>\n",
              "      <td>12/7/2009</td>\n",
              "      <td>ADESA</td>\n",
              "      <td>2006</td>\n",
              "      <td>3</td>\n",
              "      <td>MAZDA</td>\n",
              "      <td>MAZDA3</td>\n",
              "      <td>i</td>\n",
              "      <td>4D SEDAN I</td>\n",
              "      <td>RED</td>\n",
              "      <td>AUTO</td>\n",
              "      <td>1.0</td>\n",
              "      <td>Alloy</td>\n",
              "      <td>89046</td>\n",
              "      <td>OTHER ASIAN</td>\n",
              "      <td>MEDIUM</td>\n",
              "      <td>OTHER</td>\n",
              "      <td>8155.0</td>\n",
              "      <td>9829.0</td>\n",
              "      <td>11636.0</td>\n",
              "      <td>13600.0</td>\n",
              "      <td>7451.0</td>\n",
              "      <td>8552.0</td>\n",
              "      <td>11597.0</td>\n",
              "      <td>12409.0</td>\n",
              "      <td>NaN</td>\n",
              "      <td>NaN</td>\n",
              "      <td>21973</td>\n",
              "      <td>33619</td>\n",
              "      <td>FL</td>\n",
              "      <td>7100.0</td>\n",
              "      <td>0</td>\n",
              "      <td>1113</td>\n",
              "    </tr>\n",
              "    <tr>\n",
              "      <th>1</th>\n",
              "      <td>2</td>\n",
              "      <td>0</td>\n",
              "      <td>12/7/2009</td>\n",
              "      <td>ADESA</td>\n",
              "      <td>2004</td>\n",
              "      <td>5</td>\n",
              "      <td>DODGE</td>\n",
              "      <td>1500 RAM PICKUP 2WD</td>\n",
              "      <td>ST</td>\n",
              "      <td>QUAD CAB 4.7L SLT</td>\n",
              "      <td>WHITE</td>\n",
              "      <td>AUTO</td>\n",
              "      <td>1.0</td>\n",
              "      <td>Alloy</td>\n",
              "      <td>93593</td>\n",
              "      <td>AMERICAN</td>\n",
              "      <td>LARGE TRUCK</td>\n",
              "      <td>CHRYSLER</td>\n",
              "      <td>6854.0</td>\n",
              "      <td>8383.0</td>\n",
              "      <td>10897.0</td>\n",
              "      <td>12572.0</td>\n",
              "      <td>7456.0</td>\n",
              "      <td>9222.0</td>\n",
              "      <td>11374.0</td>\n",
              "      <td>12791.0</td>\n",
              "      <td>NaN</td>\n",
              "      <td>NaN</td>\n",
              "      <td>19638</td>\n",
              "      <td>33619</td>\n",
              "      <td>FL</td>\n",
              "      <td>7600.0</td>\n",
              "      <td>0</td>\n",
              "      <td>1053</td>\n",
              "    </tr>\n",
              "    <tr>\n",
              "      <th>2</th>\n",
              "      <td>3</td>\n",
              "      <td>0</td>\n",
              "      <td>12/7/2009</td>\n",
              "      <td>ADESA</td>\n",
              "      <td>2005</td>\n",
              "      <td>4</td>\n",
              "      <td>DODGE</td>\n",
              "      <td>STRATUS V6</td>\n",
              "      <td>SXT</td>\n",
              "      <td>4D SEDAN SXT FFV</td>\n",
              "      <td>MAROON</td>\n",
              "      <td>AUTO</td>\n",
              "      <td>2.0</td>\n",
              "      <td>Covers</td>\n",
              "      <td>73807</td>\n",
              "      <td>AMERICAN</td>\n",
              "      <td>MEDIUM</td>\n",
              "      <td>CHRYSLER</td>\n",
              "      <td>3202.0</td>\n",
              "      <td>4760.0</td>\n",
              "      <td>6943.0</td>\n",
              "      <td>8457.0</td>\n",
              "      <td>4035.0</td>\n",
              "      <td>5557.0</td>\n",
              "      <td>7146.0</td>\n",
              "      <td>8702.0</td>\n",
              "      <td>NaN</td>\n",
              "      <td>NaN</td>\n",
              "      <td>19638</td>\n",
              "      <td>33619</td>\n",
              "      <td>FL</td>\n",
              "      <td>4900.0</td>\n",
              "      <td>0</td>\n",
              "      <td>1389</td>\n",
              "    </tr>\n",
              "    <tr>\n",
              "      <th>3</th>\n",
              "      <td>4</td>\n",
              "      <td>0</td>\n",
              "      <td>12/7/2009</td>\n",
              "      <td>ADESA</td>\n",
              "      <td>2004</td>\n",
              "      <td>5</td>\n",
              "      <td>DODGE</td>\n",
              "      <td>NEON</td>\n",
              "      <td>SXT</td>\n",
              "      <td>4D SEDAN</td>\n",
              "      <td>SILVER</td>\n",
              "      <td>AUTO</td>\n",
              "      <td>1.0</td>\n",
              "      <td>Alloy</td>\n",
              "      <td>65617</td>\n",
              "      <td>AMERICAN</td>\n",
              "      <td>COMPACT</td>\n",
              "      <td>CHRYSLER</td>\n",
              "      <td>1893.0</td>\n",
              "      <td>2675.0</td>\n",
              "      <td>4658.0</td>\n",
              "      <td>5690.0</td>\n",
              "      <td>1844.0</td>\n",
              "      <td>2646.0</td>\n",
              "      <td>4375.0</td>\n",
              "      <td>5518.0</td>\n",
              "      <td>NaN</td>\n",
              "      <td>NaN</td>\n",
              "      <td>19638</td>\n",
              "      <td>33619</td>\n",
              "      <td>FL</td>\n",
              "      <td>4100.0</td>\n",
              "      <td>0</td>\n",
              "      <td>630</td>\n",
              "    </tr>\n",
              "    <tr>\n",
              "      <th>4</th>\n",
              "      <td>5</td>\n",
              "      <td>0</td>\n",
              "      <td>12/7/2009</td>\n",
              "      <td>ADESA</td>\n",
              "      <td>2005</td>\n",
              "      <td>4</td>\n",
              "      <td>FORD</td>\n",
              "      <td>FOCUS</td>\n",
              "      <td>ZX3</td>\n",
              "      <td>2D COUPE ZX3</td>\n",
              "      <td>SILVER</td>\n",
              "      <td>MANUAL</td>\n",
              "      <td>2.0</td>\n",
              "      <td>Covers</td>\n",
              "      <td>69367</td>\n",
              "      <td>AMERICAN</td>\n",
              "      <td>COMPACT</td>\n",
              "      <td>FORD</td>\n",
              "      <td>3913.0</td>\n",
              "      <td>5054.0</td>\n",
              "      <td>7723.0</td>\n",
              "      <td>8707.0</td>\n",
              "      <td>3247.0</td>\n",
              "      <td>4384.0</td>\n",
              "      <td>6739.0</td>\n",
              "      <td>7911.0</td>\n",
              "      <td>NaN</td>\n",
              "      <td>NaN</td>\n",
              "      <td>19638</td>\n",
              "      <td>33619</td>\n",
              "      <td>FL</td>\n",
              "      <td>4000.0</td>\n",
              "      <td>0</td>\n",
              "      <td>1020</td>\n",
              "    </tr>\n",
              "  </tbody>\n",
              "</table>\n",
              "</div>"
            ],
            "text/plain": [
              "   RefId  IsBadBuy  PurchDate Auction  VehYear  VehicleAge   Make  \\\n",
              "0      1         0  12/7/2009   ADESA     2006           3  MAZDA   \n",
              "1      2         0  12/7/2009   ADESA     2004           5  DODGE   \n",
              "2      3         0  12/7/2009   ADESA     2005           4  DODGE   \n",
              "3      4         0  12/7/2009   ADESA     2004           5  DODGE   \n",
              "4      5         0  12/7/2009   ADESA     2005           4   FORD   \n",
              "\n",
              "                 Model Trim           SubModel   Color Transmission  \\\n",
              "0               MAZDA3    i         4D SEDAN I     RED         AUTO   \n",
              "1  1500 RAM PICKUP 2WD   ST  QUAD CAB 4.7L SLT   WHITE         AUTO   \n",
              "2           STRATUS V6  SXT   4D SEDAN SXT FFV  MAROON         AUTO   \n",
              "3                 NEON  SXT           4D SEDAN  SILVER         AUTO   \n",
              "4                FOCUS  ZX3       2D COUPE ZX3  SILVER       MANUAL   \n",
              "\n",
              "   WheelTypeID WheelType  VehOdo  Nationality         Size  \\\n",
              "0          1.0     Alloy   89046  OTHER ASIAN       MEDIUM   \n",
              "1          1.0     Alloy   93593     AMERICAN  LARGE TRUCK   \n",
              "2          2.0    Covers   73807     AMERICAN       MEDIUM   \n",
              "3          1.0     Alloy   65617     AMERICAN      COMPACT   \n",
              "4          2.0    Covers   69367     AMERICAN      COMPACT   \n",
              "\n",
              "  TopThreeAmericanName  MMRAcquisitionAuctionAveragePrice  \\\n",
              "0                OTHER                             8155.0   \n",
              "1             CHRYSLER                             6854.0   \n",
              "2             CHRYSLER                             3202.0   \n",
              "3             CHRYSLER                             1893.0   \n",
              "4                 FORD                             3913.0   \n",
              "\n",
              "   MMRAcquisitionAuctionCleanPrice  MMRAcquisitionRetailAveragePrice  \\\n",
              "0                           9829.0                           11636.0   \n",
              "1                           8383.0                           10897.0   \n",
              "2                           4760.0                            6943.0   \n",
              "3                           2675.0                            4658.0   \n",
              "4                           5054.0                            7723.0   \n",
              "\n",
              "   MMRAcquisitonRetailCleanPrice  MMRCurrentAuctionAveragePrice  \\\n",
              "0                        13600.0                         7451.0   \n",
              "1                        12572.0                         7456.0   \n",
              "2                         8457.0                         4035.0   \n",
              "3                         5690.0                         1844.0   \n",
              "4                         8707.0                         3247.0   \n",
              "\n",
              "   MMRCurrentAuctionCleanPrice  MMRCurrentRetailAveragePrice  \\\n",
              "0                       8552.0                       11597.0   \n",
              "1                       9222.0                       11374.0   \n",
              "2                       5557.0                        7146.0   \n",
              "3                       2646.0                        4375.0   \n",
              "4                       4384.0                        6739.0   \n",
              "\n",
              "   MMRCurrentRetailCleanPrice PRIMEUNIT AUCGUART  BYRNO  VNZIP1 VNST  \\\n",
              "0                     12409.0       NaN      NaN  21973   33619   FL   \n",
              "1                     12791.0       NaN      NaN  19638   33619   FL   \n",
              "2                      8702.0       NaN      NaN  19638   33619   FL   \n",
              "3                      5518.0       NaN      NaN  19638   33619   FL   \n",
              "4                      7911.0       NaN      NaN  19638   33619   FL   \n",
              "\n",
              "   VehBCost  IsOnlineSale  WarrantyCost  \n",
              "0    7100.0             0          1113  \n",
              "1    7600.0             0          1053  \n",
              "2    4900.0             0          1389  \n",
              "3    4100.0             0           630  \n",
              "4    4000.0             0          1020  "
            ]
          },
          "metadata": {
            "tags": []
          },
          "execution_count": 5
        }
      ]
    },
    {
      "cell_type": "markdown",
      "metadata": {
        "id": "-D6YDR8DyA6I"
      },
      "source": [
        "# <font color=\"white\" size=+2.0><b>3: Expainatory Data Analysis</b></font> <a name=\"3\"></a>\n",
        "\n",
        "\n",
        "---\n",
        "<a href=\"#top\" class=\"btn btn-primary btn-sm\" role=\"button\" aria-pressed=\"true\" style=\"color:white\" data-toggle=\"popover\">Go to TOC</a> "
      ]
    },
    {
      "cell_type": "code",
      "metadata": {
        "colab": {
          "base_uri": "https://localhost:8080/"
        },
        "id": "c-1GOBrqVIEz",
        "outputId": "72aab3aa-adef-475c-db6b-f6b21af3ee80"
      },
      "source": [
        "train.info()"
      ],
      "execution_count": 6,
      "outputs": [
        {
          "output_type": "stream",
          "text": [
            "<class 'pandas.core.frame.DataFrame'>\n",
            "RangeIndex: 72983 entries, 0 to 72982\n",
            "Data columns (total 34 columns):\n",
            " #   Column                             Non-Null Count  Dtype  \n",
            "---  ------                             --------------  -----  \n",
            " 0   RefId                              72983 non-null  int64  \n",
            " 1   IsBadBuy                           72983 non-null  int64  \n",
            " 2   PurchDate                          72983 non-null  object \n",
            " 3   Auction                            72983 non-null  object \n",
            " 4   VehYear                            72983 non-null  int64  \n",
            " 5   VehicleAge                         72983 non-null  int64  \n",
            " 6   Make                               72983 non-null  object \n",
            " 7   Model                              72983 non-null  object \n",
            " 8   Trim                               70623 non-null  object \n",
            " 9   SubModel                           72975 non-null  object \n",
            " 10  Color                              72975 non-null  object \n",
            " 11  Transmission                       72974 non-null  object \n",
            " 12  WheelTypeID                        69814 non-null  float64\n",
            " 13  WheelType                          69809 non-null  object \n",
            " 14  VehOdo                             72983 non-null  int64  \n",
            " 15  Nationality                        72978 non-null  object \n",
            " 16  Size                               72978 non-null  object \n",
            " 17  TopThreeAmericanName               72978 non-null  object \n",
            " 18  MMRAcquisitionAuctionAveragePrice  72965 non-null  float64\n",
            " 19  MMRAcquisitionAuctionCleanPrice    72965 non-null  float64\n",
            " 20  MMRAcquisitionRetailAveragePrice   72965 non-null  float64\n",
            " 21  MMRAcquisitonRetailCleanPrice      72965 non-null  float64\n",
            " 22  MMRCurrentAuctionAveragePrice      72668 non-null  float64\n",
            " 23  MMRCurrentAuctionCleanPrice        72668 non-null  float64\n",
            " 24  MMRCurrentRetailAveragePrice       72668 non-null  float64\n",
            " 25  MMRCurrentRetailCleanPrice         72668 non-null  float64\n",
            " 26  PRIMEUNIT                          3419 non-null   object \n",
            " 27  AUCGUART                           3419 non-null   object \n",
            " 28  BYRNO                              72983 non-null  int64  \n",
            " 29  VNZIP1                             72983 non-null  int64  \n",
            " 30  VNST                               72983 non-null  object \n",
            " 31  VehBCost                           72983 non-null  float64\n",
            " 32  IsOnlineSale                       72983 non-null  int64  \n",
            " 33  WarrantyCost                       72983 non-null  int64  \n",
            "dtypes: float64(10), int64(9), object(15)\n",
            "memory usage: 18.9+ MB\n"
          ],
          "name": "stdout"
        }
      ]
    },
    {
      "cell_type": "markdown",
      "metadata": {
        "id": "Rj3jC1M2p3HO"
      },
      "source": [
        "# <font color=\"white\" size=+2.0><b>4: Feature Engineering</b></font> <a name=\"4\"></a>\n",
        "\n",
        "\n",
        "---\n",
        "<a href=\"#top\" class=\"btn btn-primary btn-sm\" role=\"button\" aria-pressed=\"true\" style=\"color:white\" data-toggle=\"popover\">Go to TOC</a> "
      ]
    },
    {
      "cell_type": "markdown",
      "metadata": {
        "id": "SqE8VSpOf5-G"
      },
      "source": [
        "Here I create few addtional column using the existing column to drive some addtional features from the datasets.\n",
        "\n",
        "The additional features help the model in better training, aslo ensuring the model to be more generalized."
      ]
    },
    {
      "cell_type": "code",
      "metadata": {
        "id": "unOrrRcFXYsR"
      },
      "source": [
        "def split_date(df):\n",
        "  df['PurchDate'] = pd.to_datetime(df['PurchDate'])\n",
        "  df['Year'] = df.PurchDate.dt.year"
      ],
      "execution_count": 7,
      "outputs": []
    },
    {
      "cell_type": "code",
      "metadata": {
        "id": "9RZXea0UqlC_"
      },
      "source": [
        "def MeanOnFeatures(df):\n",
        "  df['mean_MMRCurrentAuctionAveragePrice_Make']=train.groupby(['Make'])['MMRCurrentAuctionAveragePrice'].transform('mean')\n",
        "  df['mean_MMRCurrentAuctionAveragePrice_Model']=train.groupby(['Model'])['MMRCurrentAuctionAveragePrice'].transform('mean')\n",
        "  df['mean_MMRCurrentAuctionAveragePrice_Trim']=train.groupby(['Trim'])['MMRCurrentAuctionAveragePrice'].transform('mean')\n",
        "  df['mean_MMRCurrentAuctionAveragePrice_SubModel']=train.groupby(['SubModel'])['MMRCurrentAuctionAveragePrice'].transform('mean')\n",
        "  df['mean_MMRCurrentAuctionAveragePrice_Color']=train.groupby(['Color'])['MMRCurrentAuctionAveragePrice'].transform('mean')\n",
        "  df['mean_MMRCurrentAuctionAveragePrice_Transmission']=train.groupby(['Transmission'])['MMRCurrentAuctionAveragePrice'].transform('mean')"
      ],
      "execution_count": 8,
      "outputs": []
    },
    {
      "cell_type": "code",
      "metadata": {
        "id": "R3KwbqjCX0-8"
      },
      "source": [
        "split_date(train)\n",
        "split_date(test)\n",
        "MeanOnFeatures(train)\n",
        "MeanOnFeatures(test)"
      ],
      "execution_count": 9,
      "outputs": []
    },
    {
      "cell_type": "code",
      "metadata": {
        "colab": {
          "base_uri": "https://localhost:8080/",
          "height": 0
        },
        "id": "8Lf3BO8FZmFp",
        "outputId": "57175e29-e332-461e-e22b-6580bc30509f"
      },
      "source": [
        "train.head(2)"
      ],
      "execution_count": 10,
      "outputs": [
        {
          "output_type": "execute_result",
          "data": {
            "text/html": [
              "<div>\n",
              "<style scoped>\n",
              "    .dataframe tbody tr th:only-of-type {\n",
              "        vertical-align: middle;\n",
              "    }\n",
              "\n",
              "    .dataframe tbody tr th {\n",
              "        vertical-align: top;\n",
              "    }\n",
              "\n",
              "    .dataframe thead th {\n",
              "        text-align: right;\n",
              "    }\n",
              "</style>\n",
              "<table border=\"1\" class=\"dataframe\">\n",
              "  <thead>\n",
              "    <tr style=\"text-align: right;\">\n",
              "      <th></th>\n",
              "      <th>RefId</th>\n",
              "      <th>IsBadBuy</th>\n",
              "      <th>PurchDate</th>\n",
              "      <th>Auction</th>\n",
              "      <th>VehYear</th>\n",
              "      <th>VehicleAge</th>\n",
              "      <th>Make</th>\n",
              "      <th>Model</th>\n",
              "      <th>Trim</th>\n",
              "      <th>SubModel</th>\n",
              "      <th>Color</th>\n",
              "      <th>Transmission</th>\n",
              "      <th>WheelTypeID</th>\n",
              "      <th>WheelType</th>\n",
              "      <th>VehOdo</th>\n",
              "      <th>Nationality</th>\n",
              "      <th>Size</th>\n",
              "      <th>TopThreeAmericanName</th>\n",
              "      <th>MMRAcquisitionAuctionAveragePrice</th>\n",
              "      <th>MMRAcquisitionAuctionCleanPrice</th>\n",
              "      <th>MMRAcquisitionRetailAveragePrice</th>\n",
              "      <th>MMRAcquisitonRetailCleanPrice</th>\n",
              "      <th>MMRCurrentAuctionAveragePrice</th>\n",
              "      <th>MMRCurrentAuctionCleanPrice</th>\n",
              "      <th>MMRCurrentRetailAveragePrice</th>\n",
              "      <th>MMRCurrentRetailCleanPrice</th>\n",
              "      <th>PRIMEUNIT</th>\n",
              "      <th>AUCGUART</th>\n",
              "      <th>BYRNO</th>\n",
              "      <th>VNZIP1</th>\n",
              "      <th>VNST</th>\n",
              "      <th>VehBCost</th>\n",
              "      <th>IsOnlineSale</th>\n",
              "      <th>WarrantyCost</th>\n",
              "      <th>Year</th>\n",
              "      <th>mean_MMRCurrentAuctionAveragePrice_Make</th>\n",
              "      <th>mean_MMRCurrentAuctionAveragePrice_Model</th>\n",
              "      <th>mean_MMRCurrentAuctionAveragePrice_Trim</th>\n",
              "      <th>mean_MMRCurrentAuctionAveragePrice_SubModel</th>\n",
              "      <th>mean_MMRCurrentAuctionAveragePrice_Color</th>\n",
              "      <th>mean_MMRCurrentAuctionAveragePrice_Transmission</th>\n",
              "    </tr>\n",
              "  </thead>\n",
              "  <tbody>\n",
              "    <tr>\n",
              "      <th>0</th>\n",
              "      <td>1</td>\n",
              "      <td>0</td>\n",
              "      <td>2009-12-07</td>\n",
              "      <td>ADESA</td>\n",
              "      <td>2006</td>\n",
              "      <td>3</td>\n",
              "      <td>MAZDA</td>\n",
              "      <td>MAZDA3</td>\n",
              "      <td>i</td>\n",
              "      <td>4D SEDAN I</td>\n",
              "      <td>RED</td>\n",
              "      <td>AUTO</td>\n",
              "      <td>1.0</td>\n",
              "      <td>Alloy</td>\n",
              "      <td>89046</td>\n",
              "      <td>OTHER ASIAN</td>\n",
              "      <td>MEDIUM</td>\n",
              "      <td>OTHER</td>\n",
              "      <td>8155.0</td>\n",
              "      <td>9829.0</td>\n",
              "      <td>11636.0</td>\n",
              "      <td>13600.0</td>\n",
              "      <td>7451.0</td>\n",
              "      <td>8552.0</td>\n",
              "      <td>11597.0</td>\n",
              "      <td>12409.0</td>\n",
              "      <td>NaN</td>\n",
              "      <td>NaN</td>\n",
              "      <td>21973</td>\n",
              "      <td>33619</td>\n",
              "      <td>FL</td>\n",
              "      <td>7100.0</td>\n",
              "      <td>0</td>\n",
              "      <td>1113</td>\n",
              "      <td>2009</td>\n",
              "      <td>6318.976386</td>\n",
              "      <td>7334.472637</td>\n",
              "      <td>7155.238095</td>\n",
              "      <td>6900.784360</td>\n",
              "      <td>6053.234606</td>\n",
              "      <td>6180.060667</td>\n",
              "    </tr>\n",
              "    <tr>\n",
              "      <th>1</th>\n",
              "      <td>2</td>\n",
              "      <td>0</td>\n",
              "      <td>2009-12-07</td>\n",
              "      <td>ADESA</td>\n",
              "      <td>2004</td>\n",
              "      <td>5</td>\n",
              "      <td>DODGE</td>\n",
              "      <td>1500 RAM PICKUP 2WD</td>\n",
              "      <td>ST</td>\n",
              "      <td>QUAD CAB 4.7L SLT</td>\n",
              "      <td>WHITE</td>\n",
              "      <td>AUTO</td>\n",
              "      <td>1.0</td>\n",
              "      <td>Alloy</td>\n",
              "      <td>93593</td>\n",
              "      <td>AMERICAN</td>\n",
              "      <td>LARGE TRUCK</td>\n",
              "      <td>CHRYSLER</td>\n",
              "      <td>6854.0</td>\n",
              "      <td>8383.0</td>\n",
              "      <td>10897.0</td>\n",
              "      <td>12572.0</td>\n",
              "      <td>7456.0</td>\n",
              "      <td>9222.0</td>\n",
              "      <td>11374.0</td>\n",
              "      <td>12791.0</td>\n",
              "      <td>NaN</td>\n",
              "      <td>NaN</td>\n",
              "      <td>19638</td>\n",
              "      <td>33619</td>\n",
              "      <td>FL</td>\n",
              "      <td>7600.0</td>\n",
              "      <td>0</td>\n",
              "      <td>1053</td>\n",
              "      <td>2009</td>\n",
              "      <td>6546.501242</td>\n",
              "      <td>7653.358182</td>\n",
              "      <td>6769.117857</td>\n",
              "      <td>7408.289277</td>\n",
              "      <td>6001.013157</td>\n",
              "      <td>6180.060667</td>\n",
              "    </tr>\n",
              "  </tbody>\n",
              "</table>\n",
              "</div>"
            ],
            "text/plain": [
              "   RefId  IsBadBuy  PurchDate Auction  VehYear  VehicleAge   Make  \\\n",
              "0      1         0 2009-12-07   ADESA     2006           3  MAZDA   \n",
              "1      2         0 2009-12-07   ADESA     2004           5  DODGE   \n",
              "\n",
              "                 Model Trim           SubModel  Color Transmission  \\\n",
              "0               MAZDA3    i         4D SEDAN I    RED         AUTO   \n",
              "1  1500 RAM PICKUP 2WD   ST  QUAD CAB 4.7L SLT  WHITE         AUTO   \n",
              "\n",
              "   WheelTypeID WheelType  VehOdo  Nationality         Size  \\\n",
              "0          1.0     Alloy   89046  OTHER ASIAN       MEDIUM   \n",
              "1          1.0     Alloy   93593     AMERICAN  LARGE TRUCK   \n",
              "\n",
              "  TopThreeAmericanName  MMRAcquisitionAuctionAveragePrice  \\\n",
              "0                OTHER                             8155.0   \n",
              "1             CHRYSLER                             6854.0   \n",
              "\n",
              "   MMRAcquisitionAuctionCleanPrice  MMRAcquisitionRetailAveragePrice  \\\n",
              "0                           9829.0                           11636.0   \n",
              "1                           8383.0                           10897.0   \n",
              "\n",
              "   MMRAcquisitonRetailCleanPrice  MMRCurrentAuctionAveragePrice  \\\n",
              "0                        13600.0                         7451.0   \n",
              "1                        12572.0                         7456.0   \n",
              "\n",
              "   MMRCurrentAuctionCleanPrice  MMRCurrentRetailAveragePrice  \\\n",
              "0                       8552.0                       11597.0   \n",
              "1                       9222.0                       11374.0   \n",
              "\n",
              "   MMRCurrentRetailCleanPrice PRIMEUNIT AUCGUART  BYRNO  VNZIP1 VNST  \\\n",
              "0                     12409.0       NaN      NaN  21973   33619   FL   \n",
              "1                     12791.0       NaN      NaN  19638   33619   FL   \n",
              "\n",
              "   VehBCost  IsOnlineSale  WarrantyCost  Year  \\\n",
              "0    7100.0             0          1113  2009   \n",
              "1    7600.0             0          1053  2009   \n",
              "\n",
              "   mean_MMRCurrentAuctionAveragePrice_Make  \\\n",
              "0                              6318.976386   \n",
              "1                              6546.501242   \n",
              "\n",
              "   mean_MMRCurrentAuctionAveragePrice_Model  \\\n",
              "0                               7334.472637   \n",
              "1                               7653.358182   \n",
              "\n",
              "   mean_MMRCurrentAuctionAveragePrice_Trim  \\\n",
              "0                              7155.238095   \n",
              "1                              6769.117857   \n",
              "\n",
              "   mean_MMRCurrentAuctionAveragePrice_SubModel  \\\n",
              "0                                  6900.784360   \n",
              "1                                  7408.289277   \n",
              "\n",
              "   mean_MMRCurrentAuctionAveragePrice_Color  \\\n",
              "0                               6053.234606   \n",
              "1                               6001.013157   \n",
              "\n",
              "   mean_MMRCurrentAuctionAveragePrice_Transmission  \n",
              "0                                      6180.060667  \n",
              "1                                      6180.060667  "
            ]
          },
          "metadata": {
            "tags": []
          },
          "execution_count": 10
        }
      ]
    },
    {
      "cell_type": "markdown",
      "metadata": {
        "id": "XhhJORWwyAsm"
      },
      "source": [
        "# <font color=\"white\" size=+2.0><b>5: Data Cleaning, Spliting and Pipelines Implementation</b></font> <a name=\"5\"></a>\n",
        "\n",
        "\n",
        "---\n",
        "<a href=\"#top\" class=\"btn btn-primary btn-sm\" role=\"button\" aria-pressed=\"true\" style=\"color:white\" data-toggle=\"popover\">Go to TOC</a> "
      ]
    },
    {
      "cell_type": "markdown",
      "metadata": {
        "id": "vT1J7mOGjicW"
      },
      "source": [
        "We perform the following tasks under this section\n",
        "- Segregating the features and target.\n",
        "- Identifying the numberical and categorical columns.\n",
        "- Spliting the dataset between train and testing. \n",
        "- For numberical columns\n",
        "  - Used KNN Imputer to fill the missing values.\n",
        "  - MinMaxScaler() to normalize the numberical values.\n",
        "- For categorical columns\n",
        "  - Used Simple Imputer to fill up the missing values.\n",
        "  - OneHotEncoder to all the catogorical columns.\n",
        "- Finally all the above steps are put inside a **pipelines**"
      ]
    },
    {
      "cell_type": "code",
      "metadata": {
        "id": "Oc6BQ2VEISdV"
      },
      "source": [
        "#create X and y datasets for splitting \n",
        "X = train.drop(['RefId', 'IsBadBuy'], axis=1)\n",
        "y = train['IsBadBuy']"
      ],
      "execution_count": 11,
      "outputs": []
    },
    {
      "cell_type": "code",
      "metadata": {
        "id": "Do3urfCvISao"
      },
      "source": [
        "all_features = X.columns\n",
        "all_features = all_features.tolist()"
      ],
      "execution_count": 12,
      "outputs": []
    },
    {
      "cell_type": "code",
      "metadata": {
        "id": "D4n5eGrPISXl"
      },
      "source": [
        "numerical_features = [c for c, dtype in zip(X.columns, X.dtypes)\n",
        "                     if dtype.kind in ['i','f']]\n",
        "categorical_features = [c for c, dtype in zip(X.columns, X.dtypes)\n",
        "                     if dtype.kind not in ['i','f']]"
      ],
      "execution_count": 13,
      "outputs": []
    },
    {
      "cell_type": "code",
      "metadata": {
        "id": "QEu77sfyISU8"
      },
      "source": [
        "#import train_test_split library\n",
        "from sklearn.model_selection import train_test_split\n",
        "\n",
        "# create train test split\n",
        "X_train, X_test, y_train, y_test = train_test_split( X,  y, test_size=0.3, random_state=42) "
      ],
      "execution_count": 14,
      "outputs": []
    },
    {
      "cell_type": "code",
      "metadata": {
        "id": "bFzw9jnsLrgV"
      },
      "source": [
        "preprocessor = make_column_transformer(\n",
        "    \n",
        "    (make_pipeline(\n",
        "    #SimpleImputer(strategy = 'median'),\n",
        "    KNNImputer(n_neighbors=2, weights=\"uniform\"),\n",
        "    MinMaxScaler()), numerical_features),\n",
        "    \n",
        "    (make_pipeline(\n",
        "    SimpleImputer(strategy = 'constant', fill_value = 'missing'),\n",
        "    OneHotEncoder(categories = 'auto', handle_unknown = 'ignore')), categorical_features),\n",
        "    \n",
        ")"
      ],
      "execution_count": 15,
      "outputs": []
    },
    {
      "cell_type": "code",
      "metadata": {
        "id": "Bry30NBQLrXe"
      },
      "source": [
        "preprocessor_best = make_pipeline(preprocessor, \n",
        "                                  VarianceThreshold(), \n",
        "                                  SelectKBest(f_classif, k = 50)\n",
        "                                 )"
      ],
      "execution_count": 16,
      "outputs": []
    },
    {
      "cell_type": "markdown",
      "metadata": {
        "id": "EW27vLx9yAdR"
      },
      "source": [
        "# <font color=\"white\" size=+2.0><b>6: Implemneting Random Forest</b></font> <a name=\"6\"></a>\n",
        "\n",
        "\n",
        "---\n",
        "<a href=\"#top\" class=\"btn btn-primary btn-sm\" role=\"button\" aria-pressed=\"true\" style=\"color:white\" data-toggle=\"popover\">Go to TOC</a> "
      ]
    },
    {
      "cell_type": "code",
      "metadata": {
        "id": "Xr0zamtiLrUx"
      },
      "source": [
        "RF_Model = make_pipeline(preprocessor_best, RandomForestClassifier(n_estimators = 100))"
      ],
      "execution_count": 17,
      "outputs": []
    },
    {
      "cell_type": "code",
      "metadata": {
        "colab": {
          "base_uri": "https://localhost:8080/"
        },
        "id": "DSnpK2mFwU-D",
        "outputId": "e5232bcd-90e3-4c39-9c8b-036c12dcadc7"
      },
      "source": [
        "RF_Model.fit(X_train, y_train)\n",
        "RF_Model.score(X_train, y_train)"
      ],
      "execution_count": 27,
      "outputs": [
        {
          "output_type": "execute_result",
          "data": {
            "text/plain": [
              "0.9999804259317256"
            ]
          },
          "metadata": {
            "tags": []
          },
          "execution_count": 27
        }
      ]
    },
    {
      "cell_type": "markdown",
      "metadata": {
        "id": "jBG5nXYFukYm"
      },
      "source": [
        "The training set accuracy is close to 100%! But we can't rely solely on the training set accuracy, we must evaluate the model on the validation/test set too.\n",
        "\n",
        "We can make predictions and compute accuracy in one step using model.score"
      ]
    },
    {
      "cell_type": "code",
      "metadata": {
        "colab": {
          "base_uri": "https://localhost:8080/"
        },
        "id": "WZTInThNwU5Y",
        "outputId": "a641575a-b931-4123-f787-5b0348e92553"
      },
      "source": [
        "RF_Model.score(X_test, y_test)"
      ],
      "execution_count": 28,
      "outputs": [
        {
          "output_type": "execute_result",
          "data": {
            "text/plain": [
              "0.897739209865266"
            ]
          },
          "metadata": {
            "tags": []
          },
          "execution_count": 28
        }
      ]
    },
    {
      "cell_type": "markdown",
      "metadata": {
        "id": "JZAKALB-uz5c"
      },
      "source": [
        "Although the training accuracy is 100%, the accuracy on the validation set is just about 89%, which is only marginally better then always predicting **0** which is 87%."
      ]
    },
    {
      "cell_type": "code",
      "metadata": {
        "colab": {
          "base_uri": "https://localhost:8080/"
        },
        "id": "j-xDRBy0uIv0",
        "outputId": "880c84d7-dc55-4ce2-e815-cfe01f9fd246"
      },
      "source": [
        "y_test.value_counts() / len(y_test)"
      ],
      "execution_count": 29,
      "outputs": [
        {
          "output_type": "execute_result",
          "data": {
            "text/plain": [
              "0    0.877461\n",
              "1    0.122539\n",
              "Name: IsBadBuy, dtype: float64"
            ]
          },
          "metadata": {
            "tags": []
          },
          "execution_count": 29
        }
      ]
    },
    {
      "cell_type": "markdown",
      "metadata": {
        "id": "CnLBIH49vKVX"
      },
      "source": [
        "It appears that the model has learned the training examples perfect, and doesn't generalize well to previously unseen examples. This phenomenon is called \"overfitting\", and reducing overfitting is one of the most important parts of any machine learning project."
      ]
    },
    {
      "cell_type": "markdown",
      "metadata": {
        "id": "Cy3wHMTNyAHN"
      },
      "source": [
        "# <font color=\"white\" size=+2.0><b>7: Hyperparamterization and Parameter Tuning  - Random Forest</b></font> <a name=\"7\"></a>\n",
        "\n",
        "\n",
        "---\n",
        "<a href=\"#top\" class=\"btn btn-primary btn-sm\" role=\"button\" aria-pressed=\"true\" style=\"color:white\" data-toggle=\"popover\">Go to TOC</a> "
      ]
    },
    {
      "cell_type": "markdown",
      "metadata": {
        "id": "38eEPocJyIXQ"
      },
      "source": [
        "As we saw in the previous section, our random tree classifier memorized all training examples, leading to a 100% training accuracy, while the validation accuracy was only marginally better than a dumb baseline model. This phenomenon is called overfitting, and in this section, we'll look at some strategies for reducing overfitting. The process of reducing overfitting is known as regularlization.\n",
        "\n",
        "\n",
        "By varying the following fields, we can prevent the tree from memorizing all training examples, which may lead to better generalization"
      ]
    },
    {
      "cell_type": "code",
      "metadata": {
        "id": "raO48pbcLrSO"
      },
      "source": [
        "# Number of trees in random forest\n",
        "n_estimators = [int(x) for x in np.linspace(start = 100, stop = 1000, num = 19)]\n",
        "# Number of features to consider at every split\n",
        "max_features = ['auto', 'sqrt']\n",
        "#Maximum number of levels in tree\n",
        "max_depth = [2,4,6,8]\n",
        "# Minimum number of samples required to split a node\n",
        "min_samples_split = [2, 5]\n",
        "# Minimum number of samples required at each leaf node\n",
        "min_samples_leaf = [1, 2]\n",
        "# Method of selecting samples for training each tree\n",
        "bootstrap = [True, False]"
      ],
      "execution_count": 18,
      "outputs": []
    },
    {
      "cell_type": "code",
      "metadata": {
        "colab": {
          "base_uri": "https://localhost:8080/"
        },
        "id": "Jz-lCtqwLrP4",
        "outputId": "467387f3-9648-477a-d046-9b2df6999a25"
      },
      "source": [
        "# Create the param grid\n",
        "param_grid = {'randomforestclassifier__n_estimators': n_estimators,\n",
        "               'randomforestclassifier__max_features': max_features,\n",
        "               'randomforestclassifier__max_depth': max_depth,\n",
        "               'randomforestclassifier__min_samples_split': min_samples_split,\n",
        "               'randomforestclassifier__min_samples_leaf': min_samples_leaf,\n",
        "               'randomforestclassifier__bootstrap': bootstrap\n",
        "             }\n",
        "print(param_grid)"
      ],
      "execution_count": 20,
      "outputs": [
        {
          "output_type": "stream",
          "text": [
            "{'randomforestclassifier__n_estimators': [100, 150, 200, 250, 300, 350, 400, 450, 500, 550, 600, 650, 700, 750, 800, 850, 900, 950, 1000], 'randomforestclassifier__max_features': ['auto', 'sqrt'], 'randomforestclassifier__max_depth': [2, 4, 6, 8], 'randomforestclassifier__min_samples_split': [2, 5], 'randomforestclassifier__min_samples_leaf': [1, 2], 'randomforestclassifier__bootstrap': [True, False]}\n"
          ],
          "name": "stdout"
        }
      ]
    },
    {
      "cell_type": "code",
      "metadata": {
        "id": "LNikJDEwLrM7"
      },
      "source": [
        "from sklearn.model_selection import RandomizedSearchCV\n",
        "rf_RandomGrid = RandomizedSearchCV(estimator = RF_Model, param_distributions = param_grid, cv = 3, verbose=1, n_jobs = -1, n_iter = 5, scoring = 'f1')"
      ],
      "execution_count": 21,
      "outputs": []
    },
    {
      "cell_type": "code",
      "metadata": {
        "colab": {
          "base_uri": "https://localhost:8080/"
        },
        "id": "6ceRkvMJLrJ4",
        "outputId": "997d2dfe-940e-4a8a-be05-ee5727150622"
      },
      "source": [
        "%%time\n",
        "rf_RandomGrid.fit(X_train, y_train)"
      ],
      "execution_count": 23,
      "outputs": [
        {
          "output_type": "stream",
          "text": [
            "Fitting 3 folds for each of 5 candidates, totalling 15 fits\n",
            "CPU times: user 1min 23s, sys: 2.71 s, total: 1min 26s\n",
            "Wall time: 11min 39s\n"
          ],
          "name": "stdout"
        },
        {
          "output_type": "execute_result",
          "data": {
            "text/plain": [
              "RandomizedSearchCV(cv=3,\n",
              "                   estimator=Pipeline(steps=[('pipeline',\n",
              "                                              Pipeline(steps=[('columntransformer',\n",
              "                                                               ColumnTransformer(transformers=[('pipeline-1',\n",
              "                                                                                                Pipeline(steps=[('knnimputer',\n",
              "                                                                                                                 KNNImputer(n_neighbors=2)),\n",
              "                                                                                                                ('minmaxscaler',\n",
              "                                                                                                                 MinMaxScaler())]),\n",
              "                                                                                                ['VehYear',\n",
              "                                                                                                 'VehicleAge',\n",
              "                                                                                                 'WheelTypeID',\n",
              "                                                                                                 'VehOdo',\n",
              "                                                                                                 'MMRAcquisitionAuctionAveragePrice',\n",
              "                                                                                                 'MMRAcquisitionAuctionCleanPric...\n",
              "                   param_distributions={'randomforestclassifier__bootstrap': [True,\n",
              "                                                                              False],\n",
              "                                        'randomforestclassifier__max_depth': [2,\n",
              "                                                                              4,\n",
              "                                                                              6,\n",
              "                                                                              8],\n",
              "                                        'randomforestclassifier__max_features': ['auto',\n",
              "                                                                                 'sqrt'],\n",
              "                                        'randomforestclassifier__min_samples_leaf': [1,\n",
              "                                                                                     2],\n",
              "                                        'randomforestclassifier__min_samples_split': [2,\n",
              "                                                                                      5],\n",
              "                                        'randomforestclassifier__n_estimators': [100,\n",
              "                                                                                 150,\n",
              "                                                                                 200,\n",
              "                                                                                 250,\n",
              "                                                                                 300,\n",
              "                                                                                 350,\n",
              "                                                                                 400,\n",
              "                                                                                 450,\n",
              "                                                                                 500,\n",
              "                                                                                 550,\n",
              "                                                                                 600,\n",
              "                                                                                 650,\n",
              "                                                                                 700,\n",
              "                                                                                 750,\n",
              "                                                                                 800,\n",
              "                                                                                 850,\n",
              "                                                                                 900,\n",
              "                                                                                 950,\n",
              "                                                                                 1000]},\n",
              "                   scoring='f1', verbose=1)"
            ]
          },
          "metadata": {
            "tags": []
          },
          "execution_count": 23
        }
      ]
    },
    {
      "cell_type": "code",
      "metadata": {
        "colab": {
          "base_uri": "https://localhost:8080/"
        },
        "id": "nGipvOuhuI1K",
        "outputId": "17989b4f-a12b-45b7-c3c6-e82cad0adb2c"
      },
      "source": [
        "rf_RandomGrid.score(X_train, y_train)"
      ],
      "execution_count": 24,
      "outputs": [
        {
          "output_type": "execute_result",
          "data": {
            "text/plain": [
              "0.36867499690708894"
            ]
          },
          "metadata": {
            "tags": []
          },
          "execution_count": 24
        }
      ]
    },
    {
      "cell_type": "code",
      "metadata": {
        "colab": {
          "base_uri": "https://localhost:8080/"
        },
        "id": "u8bjj5mPuIyT",
        "outputId": "7a5100e9-e451-4c95-82d6-39122a4d2992"
      },
      "source": [
        "rf_RandomGrid.score(X_test, y_test)"
      ],
      "execution_count": 25,
      "outputs": [
        {
          "output_type": "execute_result",
          "data": {
            "text/plain": [
              "0.3646219686162625"
            ]
          },
          "metadata": {
            "tags": []
          },
          "execution_count": 25
        }
      ]
    },
    {
      "cell_type": "markdown",
      "metadata": {
        "id": "hfVtPYQ-y__K"
      },
      "source": [
        "I now pick the best parameters which would help to me to achive better accuray from the avalaible list of parameters"
      ]
    },
    {
      "cell_type": "code",
      "metadata": {
        "colab": {
          "base_uri": "https://localhost:8080/"
        },
        "id": "aUJtHLssQE2j",
        "outputId": "a6a35301-3c75-4a58-aadc-4e3968b201ca"
      },
      "source": [
        "rf_RandomGrid.best_estimator_"
      ],
      "execution_count": null,
      "outputs": [
        {
          "output_type": "execute_result",
          "data": {
            "text/plain": [
              "Pipeline(steps=[('pipeline',\n",
              "                 Pipeline(steps=[('columntransformer',\n",
              "                                  ColumnTransformer(transformers=[('pipeline-1',\n",
              "                                                                   Pipeline(steps=[('knnimputer',\n",
              "                                                                                    KNNImputer(n_neighbors=2)),\n",
              "                                                                                   ('minmaxscaler',\n",
              "                                                                                    MinMaxScaler())]),\n",
              "                                                                   ['VehYear',\n",
              "                                                                    'VehicleAge',\n",
              "                                                                    'WheelTypeID',\n",
              "                                                                    'VehOdo',\n",
              "                                                                    'MMRAcquisitionAuctionAveragePrice',\n",
              "                                                                    'MMRAcquisitionAuctionCleanPrice',\n",
              "                                                                    'MMRAcquisitionRetailAveragePri...\n",
              "                                                                                    OneHotEncoder(handle_unknown='ignore'))]),\n",
              "                                                                   ['PurchDate',\n",
              "                                                                    'Auction',\n",
              "                                                                    'Make',\n",
              "                                                                    'Model',\n",
              "                                                                    'Trim',\n",
              "                                                                    'SubModel',\n",
              "                                                                    'Color',\n",
              "                                                                    'Transmission',\n",
              "                                                                    'WheelType',\n",
              "                                                                    'Nationality',\n",
              "                                                                    'Size',\n",
              "                                                                    'TopThreeAmericanName',\n",
              "                                                                    'PRIMEUNIT',\n",
              "                                                                    'AUCGUART',\n",
              "                                                                    'VNST'])])),\n",
              "                                 ('variancethreshold', VarianceThreshold()),\n",
              "                                 ('selectkbest', SelectKBest(k=50))])),\n",
              "                ('randomforestclassifier',\n",
              "                 RandomForestClassifier(max_depth=8, n_estimators=302))])"
            ]
          },
          "metadata": {
            "tags": []
          },
          "execution_count": 23
        }
      ]
    },
    {
      "cell_type": "markdown",
      "metadata": {
        "id": "WATzeDMrQLKO"
      },
      "source": [
        "Accuracy"
      ]
    },
    {
      "cell_type": "code",
      "metadata": {
        "colab": {
          "base_uri": "https://localhost:8080/"
        },
        "id": "hq163eH1QEzC",
        "outputId": "802db33e-e2b5-4639-b83a-f599e01d9cbf"
      },
      "source": [
        "print(f'Train : {rf_RandomGrid.score(X_train, y_train):.3f}')\n",
        "print(f'Test : {rf_RandomGrid.score(X_test, y_test):.3f}')"
      ],
      "execution_count": null,
      "outputs": [
        {
          "output_type": "stream",
          "text": [
            "Train : 0.378\n",
            "Test : 0.371\n"
          ],
          "name": "stdout"
        }
      ]
    },
    {
      "cell_type": "markdown",
      "metadata": {
        "id": "rCzFJQIdznB2"
      },
      "source": [
        "It is observed that although the accuray has dropped significantly but the deviation between the training and test sets is minimal. Hence our model is fairly generalized."
      ]
    },
    {
      "cell_type": "markdown",
      "metadata": {
        "id": "dO2d1hvCyAOF"
      },
      "source": [
        "# <font color=\"white\" size=+2.0><b>8: Implementing XBboost Forest</b></font> <a name=\"8\"></a>\n",
        "\n",
        "\n",
        "---\n",
        "<a href=\"#top\" class=\"btn btn-primary btn-sm\" role=\"button\" aria-pressed=\"true\" style=\"color:white\" data-toggle=\"popover\">Go to TOC</a> "
      ]
    },
    {
      "cell_type": "code",
      "metadata": {
        "id": "nhcIVRnHLnVM"
      },
      "source": [
        "preprocessor = make_column_transformer(\n",
        "    \n",
        "    (make_pipeline(\n",
        "    #SimpleImputer(strategy = 'median'),\n",
        "    KNNImputer(n_neighbors=2, weights=\"uniform\"),\n",
        "    MinMaxScaler()), numerical_features),\n",
        "    \n",
        "    (make_pipeline(\n",
        "    SimpleImputer(strategy = 'constant', fill_value = 'missing'),\n",
        "    OneHotEncoder(categories = 'auto', handle_unknown = 'ignore')), categorical_features),\n",
        "\n",
        ")\n",
        "\n",
        "preprocessor_best = make_pipeline(preprocessor,\n",
        "                                  VarianceThreshold(), \n",
        "                                  SelectKBest(f_classif, k = 50)\n",
        "                                 )\n"
      ],
      "execution_count": 30,
      "outputs": []
    },
    {
      "cell_type": "code",
      "metadata": {
        "id": "Xq4dQTb9r6tp"
      },
      "source": [
        "from xgboost import XGBClassifier\n",
        "import xgboost as xgb\n",
        "# model = XGBClassifier(random_state=42, n_jobs=-1, n_estimators=20, max_depth=4, use_label_encoder=False)\n",
        "\n",
        "\n",
        "XG_model = make_pipeline(preprocessor_best, XGBClassifier(n_estimators = 100))"
      ],
      "execution_count": 31,
      "outputs": []
    },
    {
      "cell_type": "code",
      "metadata": {
        "colab": {
          "base_uri": "https://localhost:8080/"
        },
        "id": "l6nWXHv9s2zr",
        "outputId": "8113143f-2e8d-426f-968e-e453ed9c1911"
      },
      "source": [
        "%%time\n",
        "\n",
        "XG_model.fit(X_train, y_train)"
      ],
      "execution_count": 33,
      "outputs": [
        {
          "output_type": "stream",
          "text": [
            "/usr/local/lib/python3.7/dist-packages/xgboost/sklearn.py:1146: UserWarning: The use of label encoder in XGBClassifier is deprecated and will be removed in a future release. To remove this warning, do the following: 1) Pass option use_label_encoder=False when constructing XGBClassifier object; and 2) Encode your labels (y) as integers starting with 0, i.e. 0, 1, 2, ..., [num_class - 1].\n",
            "  warnings.warn(label_encoder_deprecation_msg, UserWarning)\n"
          ],
          "name": "stderr"
        },
        {
          "output_type": "stream",
          "text": [
            "[16:47:51] WARNING: ../src/learner.cc:1095: Starting in XGBoost 1.3.0, the default evaluation metric used with the objective 'binary:logistic' was changed from 'error' to 'logloss'. Explicitly set eval_metric if you'd like to restore the old behavior.\n",
            "CPU times: user 55.2 s, sys: 865 ms, total: 56 s\n",
            "Wall time: 37.2 s\n"
          ],
          "name": "stdout"
        },
        {
          "output_type": "execute_result",
          "data": {
            "text/plain": [
              "Pipeline(steps=[('pipeline',\n",
              "                 Pipeline(steps=[('columntransformer',\n",
              "                                  ColumnTransformer(transformers=[('pipeline-1',\n",
              "                                                                   Pipeline(steps=[('knnimputer',\n",
              "                                                                                    KNNImputer(n_neighbors=2)),\n",
              "                                                                                   ('minmaxscaler',\n",
              "                                                                                    MinMaxScaler())]),\n",
              "                                                                   ['VehYear',\n",
              "                                                                    'VehicleAge',\n",
              "                                                                    'WheelTypeID',\n",
              "                                                                    'VehOdo',\n",
              "                                                                    'MMRAcquisitionAuctionAveragePrice',\n",
              "                                                                    'MMRAcquisitionAuctionCleanPrice',\n",
              "                                                                    'MMRAcquisitionRetailAveragePri...\n",
              "                               colsample_bytree=1, gamma=0, gpu_id=-1,\n",
              "                               importance_type='gain',\n",
              "                               interaction_constraints='',\n",
              "                               learning_rate=0.300000012, max_delta_step=0,\n",
              "                               max_depth=6, min_child_weight=1, missing=nan,\n",
              "                               monotone_constraints='()', n_estimators=100,\n",
              "                               n_jobs=2, num_parallel_tree=1, random_state=0,\n",
              "                               reg_alpha=0, reg_lambda=1, scale_pos_weight=1,\n",
              "                               subsample=1, tree_method='exact',\n",
              "                               validate_parameters=1, verbosity=None))])"
            ]
          },
          "metadata": {
            "tags": []
          },
          "execution_count": 33
        }
      ]
    },
    {
      "cell_type": "code",
      "metadata": {
        "colab": {
          "base_uri": "https://localhost:8080/"
        },
        "id": "8fFTdcueMdWC",
        "outputId": "1321f3b7-68cc-4c00-bc7f-105663aecf34"
      },
      "source": [
        "XG_model.score(X_train, y_train)"
      ],
      "execution_count": 34,
      "outputs": [
        {
          "output_type": "execute_result",
          "data": {
            "text/plain": [
              "0.9170646727215784"
            ]
          },
          "metadata": {
            "tags": []
          },
          "execution_count": 34
        }
      ]
    },
    {
      "cell_type": "markdown",
      "metadata": {
        "id": "nv9PMVUHEpai"
      },
      "source": [
        "# <font color=\"white\" size=+2.0><b>9: Hyperparamterization and Parameter Tuning  - XGboost</b></font> <a name=\"9\"></a>\n",
        "\n",
        "\n",
        "---\n",
        "<a href=\"#top\" class=\"btn btn-primary btn-sm\" role=\"button\" aria-pressed=\"true\" style=\"color:white\" data-toggle=\"popover\">Go to TOC</a> "
      ]
    },
    {
      "cell_type": "markdown",
      "metadata": {
        "id": "BL603s6J3yvc"
      },
      "source": [
        "By reducing the maximum depth of the decision tree, we can prevent the tree from memorizing all training examples, which may lead to better generalization"
      ]
    },
    {
      "cell_type": "code",
      "metadata": {
        "colab": {
          "base_uri": "https://localhost:8080/"
        },
        "id": "2TucrJR5OoyN",
        "outputId": "2664b667-88d3-4dd0-ccf3-129fb28a4e9e"
      },
      "source": [
        "param_grid = {\n",
        "# Number of trees in random forest\n",
        "'xgbclassifier__n_estimators' : [int(x) for x in np.linspace(start = 100, stop = 1000, num = 100)],\n",
        "# Number of features to consider at every split\n",
        "'xgbclassifier__learning_rate' : [0.1, 0.2, 0.3],\n",
        "#Maximum number of levels in tree\n",
        "'xgbclassifier__max_depth' : [2, 4, 6, 8]\n",
        "\n",
        "}\n",
        "\n",
        "print(param_grid)"
      ],
      "execution_count": 35,
      "outputs": [
        {
          "output_type": "stream",
          "text": [
            "{'xgbclassifier__n_estimators': [100, 109, 118, 127, 136, 145, 154, 163, 172, 181, 190, 200, 209, 218, 227, 236, 245, 254, 263, 272, 281, 290, 300, 309, 318, 327, 336, 345, 354, 363, 372, 381, 390, 400, 409, 418, 427, 436, 445, 454, 463, 472, 481, 490, 500, 509, 518, 527, 536, 545, 554, 563, 572, 581, 590, 600, 609, 618, 627, 636, 645, 654, 663, 672, 681, 690, 700, 709, 718, 727, 736, 745, 754, 763, 772, 781, 790, 800, 809, 818, 827, 836, 845, 854, 863, 872, 881, 890, 900, 909, 918, 927, 936, 945, 954, 963, 972, 981, 990, 1000], 'xgbclassifier__learning_rate': [0.1, 0.2, 0.3], 'xgbclassifier__max_depth': [2, 4, 6, 8]}\n"
          ],
          "name": "stdout"
        }
      ]
    },
    {
      "cell_type": "code",
      "metadata": {
        "id": "c9Yyox_3Oove"
      },
      "source": [
        "XG_RandomGrid = RandomizedSearchCV(estimator = XG_model, param_distributions = param_grid, cv = 3, verbose=1, n_jobs = -1, n_iter = 5, scoring = 'f1')"
      ],
      "execution_count": 36,
      "outputs": []
    },
    {
      "cell_type": "code",
      "metadata": {
        "colab": {
          "base_uri": "https://localhost:8080/"
        },
        "id": "PCywwCheOos9",
        "outputId": "716bc93d-7e40-40cb-9573-b6edc3951775"
      },
      "source": [
        "XG_RandomGrid.fit(X_train, y_train)"
      ],
      "execution_count": null,
      "outputs": [
        {
          "output_type": "stream",
          "text": [
            "Fitting 3 folds for each of 5 candidates, totalling 15 fits\n"
          ],
          "name": "stdout"
        }
      ]
    },
    {
      "cell_type": "code",
      "metadata": {
        "id": "zT1-CoPGOoqM"
      },
      "source": [
        "# XG_model.best_estimator_\n",
        "\n",
        "XG_RandomGrid.best_estimator_"
      ],
      "execution_count": null,
      "outputs": []
    },
    {
      "cell_type": "code",
      "metadata": {
        "id": "r0tIREcdOon6"
      },
      "source": [
        "print(f'Train : {XG_RandomGrid.score(X_train, y_train):.3f}')"
      ],
      "execution_count": null,
      "outputs": []
    },
    {
      "cell_type": "code",
      "metadata": {
        "id": "z5BRNL4YENlO"
      },
      "source": [
        "print(f'Test : {XG_RandomGrid.score(X_test, y_test):.3f}')"
      ],
      "execution_count": null,
      "outputs": []
    },
    {
      "cell_type": "markdown",
      "metadata": {
        "id": "vTFUX9Z10SQS"
      },
      "source": [
        ""
      ]
    },
    {
      "cell_type": "markdown",
      "metadata": {
        "id": "P3xAP_Wzx_-9"
      },
      "source": [
        "# <font color=\"white\" size=+2.0><b>8: Testing the models on sample dataset</b></font> <a name=\"8\"></a>\n",
        "\n",
        "\n",
        "---\n",
        "<a href=\"#top\" class=\"btn btn-primary btn-sm\" role=\"button\" aria-pressed=\"true\" style=\"color:white\" data-toggle=\"popover\">Go to TOC</a> "
      ]
    },
    {
      "cell_type": "code",
      "metadata": {
        "id": "Uvcv2y_DFd6V"
      },
      "source": [
        "example_entry = pd.read_csv('/content/DontGetKicked/example_entry.csv')\n",
        "example_entry"
      ],
      "execution_count": null,
      "outputs": []
    },
    {
      "cell_type": "code",
      "metadata": {
        "id": "TAOXe2bIG6dR"
      },
      "source": [
        "preds = XG_RandomGrid.predict(test)"
      ],
      "execution_count": null,
      "outputs": []
    },
    {
      "cell_type": "code",
      "metadata": {
        "id": "QCoX6EV1G6Wq"
      },
      "source": [
        "output = pd.DataFrame({'Refid': test.Refid, 'IsBadBuy': preds})\n",
        "output.to_csv('my_submission.csv', index=False)\n",
        "print(\"Your submission was successfully saved!\")"
      ],
      "execution_count": null,
      "outputs": []
    },
    {
      "cell_type": "code",
      "metadata": {
        "id": "S76_gKWBG6Tv"
      },
      "source": [
        ""
      ],
      "execution_count": null,
      "outputs": []
    },
    {
      "cell_type": "markdown",
      "metadata": {
        "id": "1YbQFGixywkp"
      },
      "source": [
        "# <font color=\"white\" size=+2.0><b>9: Summary</b></font> <a name=\"9\"></a>\n",
        "\n",
        "\n",
        "---\n",
        "<a href=\"#top\" class=\"btn btn-primary btn-sm\" role=\"button\" aria-pressed=\"true\" style=\"color:white\" data-toggle=\"popover\">Go to TOC</a> "
      ]
    },
    {
      "cell_type": "markdown",
      "metadata": {
        "id": "3ZeVlRBKywfh"
      },
      "source": [
        "# <font color=\"white\" size=+2.0><b>10: Future Work</b></font> <a name=\"10\"></a>\n",
        "\n",
        "\n",
        "---\n",
        "<a href=\"#top\" class=\"btn btn-primary btn-sm\" role=\"button\" aria-pressed=\"true\" style=\"color:white\" data-toggle=\"popover\">Go to TOC</a> "
      ]
    },
    {
      "cell_type": "markdown",
      "metadata": {
        "id": "6HTo8gG0ywc6"
      },
      "source": [
        "# <font color=\"white\" size=+2.0><b>11: References</b></font> <a name=\"11\"></a>\n",
        "\n",
        "\n",
        "---\n",
        "<a href=\"#top\" class=\"btn btn-primary btn-sm\" role=\"button\" aria-pressed=\"true\" style=\"color:white\" data-toggle=\"popover\">Go to TOC</a> "
      ]
    },
    {
      "cell_type": "code",
      "metadata": {
        "id": "CKUUxFzHOolj"
      },
      "source": [
        ""
      ],
      "execution_count": null,
      "outputs": []
    },
    {
      "cell_type": "code",
      "metadata": {
        "id": "TS7oIQ0wOoi1"
      },
      "source": [
        ""
      ],
      "execution_count": null,
      "outputs": []
    },
    {
      "cell_type": "code",
      "metadata": {
        "id": "dewZeUNJ4fum"
      },
      "source": [
        "model.feature_importances_"
      ],
      "execution_count": null,
      "outputs": []
    },
    {
      "cell_type": "code",
      "metadata": {
        "id": "vsI2FMU71rrl"
      },
      "source": [
        "importance_df = pd.DataFrame({\n",
        "    'feature': X.columns,\n",
        "    'importance': model.feature_importances_\n",
        "}).sort_values('importance', ascending=False)"
      ],
      "execution_count": null,
      "outputs": []
    },
    {
      "cell_type": "code",
      "metadata": {
        "id": "kfFySFEM11sD"
      },
      "source": [
        "importance_df.head(10)"
      ],
      "execution_count": null,
      "outputs": []
    },
    {
      "cell_type": "code",
      "metadata": {
        "id": "lNgIi-5y1345"
      },
      "source": [
        "import matplotlib.pyplot as plt\n",
        "import seaborn as sns\n",
        "plt.title('Feature Importance')\n",
        "sns.barplot(data=importance_df.head(10), x='importance', y='feature');"
      ],
      "execution_count": null,
      "outputs": []
    },
    {
      "cell_type": "code",
      "metadata": {
        "id": "SUNBfRL42Cx5"
      },
      "source": [
        ""
      ],
      "execution_count": null,
      "outputs": []
    }
  ]
}