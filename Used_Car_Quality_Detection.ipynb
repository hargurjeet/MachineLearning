{
  "nbformat": 4,
  "nbformat_minor": 0,
  "metadata": {
    "colab": {
      "name": "Used Car Quality Detection.ipynb",
      "provenance": [],
      "authorship_tag": "ABX9TyNvyQS2Pa3CDX6I0EJ0fhr/",
      "include_colab_link": true
    },
    "kernelspec": {
      "name": "python3",
      "display_name": "Python 3"
    },
    "language_info": {
      "name": "python"
    },
    "accelerator": "GPU"
  },
  "cells": [
    {
      "cell_type": "markdown",
      "metadata": {
        "id": "view-in-github",
        "colab_type": "text"
      },
      "source": [
        "<a href=\"https://colab.research.google.com/github/hargurjeet/MachineLearning/blob/master/Used_Car_Quality_Detection.ipynb\" target=\"_parent\"><img src=\"https://colab.research.google.com/assets/colab-badge.svg\" alt=\"Open In Colab\"/></a>"
      ]
    },
    {
      "cell_type": "code",
      "metadata": {
        "id": "8D4TWeEDUB3V"
      },
      "source": [
        "!pip install numpy pandas matplotlib seaborn --quiet\n",
        "!pip install jovian opendatasets xgboost graphviz lightgbm scikit-learn xgboost lightgbm --upgrade --quiet"
      ],
      "execution_count": 1,
      "outputs": []
    },
    {
      "cell_type": "code",
      "metadata": {
        "id": "_4UzdMAEUIYO"
      },
      "source": [
        "import os\n",
        "import opendatasets as od\n",
        "import pandas as pd\n",
        "pd.set_option(\"display.max_columns\", 120)\n",
        "pd.set_option(\"display.max_rows\", 120)"
      ],
      "execution_count": 2,
      "outputs": []
    },
    {
      "cell_type": "code",
      "metadata": {
        "colab": {
          "base_uri": "https://localhost:8080/"
        },
        "id": "lfCdVqEMUJ97",
        "outputId": "be8b0084-4633-4d3b-9906-e1e7c03642f2"
      },
      "source": [
        "od.download('https://www.kaggle.com/c/DontGetKicked/data?select=test.csv')"
      ],
      "execution_count": 3,
      "outputs": [
        {
          "output_type": "stream",
          "text": [
            "Skipping, found downloaded files in \"./DontGetKicked\" (use force=True to force download)\n"
          ],
          "name": "stdout"
        }
      ]
    },
    {
      "cell_type": "code",
      "metadata": {
        "colab": {
          "base_uri": "https://localhost:8080/"
        },
        "id": "Q_4ukX7TUPev",
        "outputId": "db238e84-b5d7-495f-c535-6132bf778566"
      },
      "source": [
        "os.listdir('DontGetKicked')"
      ],
      "execution_count": 4,
      "outputs": [
        {
          "output_type": "execute_result",
          "data": {
            "text/plain": [
              "['example_entry.csv',\n",
              " 'test.zip',\n",
              " 'training.zip',\n",
              " 'Carvana_Data_Dictionary.txt',\n",
              " 'training.csv',\n",
              " 'test.csv']"
            ]
          },
          "metadata": {
            "tags": []
          },
          "execution_count": 4
        }
      ]
    },
    {
      "cell_type": "code",
      "metadata": {
        "colab": {
          "base_uri": "https://localhost:8080/",
          "height": 759
        },
        "id": "QafC5UF9Ubfk",
        "outputId": "9920a93e-d9ce-4f28-8e55-9e16b79b46b5"
      },
      "source": [
        "car_data=pd.read_csv('/content/DontGetKicked/training.csv', index_col=0) \n",
        "car_data"
      ],
      "execution_count": 5,
      "outputs": [
        {
          "output_type": "execute_result",
          "data": {
            "text/html": [
              "<div>\n",
              "<style scoped>\n",
              "    .dataframe tbody tr th:only-of-type {\n",
              "        vertical-align: middle;\n",
              "    }\n",
              "\n",
              "    .dataframe tbody tr th {\n",
              "        vertical-align: top;\n",
              "    }\n",
              "\n",
              "    .dataframe thead th {\n",
              "        text-align: right;\n",
              "    }\n",
              "</style>\n",
              "<table border=\"1\" class=\"dataframe\">\n",
              "  <thead>\n",
              "    <tr style=\"text-align: right;\">\n",
              "      <th></th>\n",
              "      <th>IsBadBuy</th>\n",
              "      <th>PurchDate</th>\n",
              "      <th>Auction</th>\n",
              "      <th>VehYear</th>\n",
              "      <th>VehicleAge</th>\n",
              "      <th>Make</th>\n",
              "      <th>Model</th>\n",
              "      <th>Trim</th>\n",
              "      <th>SubModel</th>\n",
              "      <th>Color</th>\n",
              "      <th>Transmission</th>\n",
              "      <th>WheelTypeID</th>\n",
              "      <th>WheelType</th>\n",
              "      <th>VehOdo</th>\n",
              "      <th>Nationality</th>\n",
              "      <th>Size</th>\n",
              "      <th>TopThreeAmericanName</th>\n",
              "      <th>MMRAcquisitionAuctionAveragePrice</th>\n",
              "      <th>MMRAcquisitionAuctionCleanPrice</th>\n",
              "      <th>MMRAcquisitionRetailAveragePrice</th>\n",
              "      <th>MMRAcquisitonRetailCleanPrice</th>\n",
              "      <th>MMRCurrentAuctionAveragePrice</th>\n",
              "      <th>MMRCurrentAuctionCleanPrice</th>\n",
              "      <th>MMRCurrentRetailAveragePrice</th>\n",
              "      <th>MMRCurrentRetailCleanPrice</th>\n",
              "      <th>PRIMEUNIT</th>\n",
              "      <th>AUCGUART</th>\n",
              "      <th>BYRNO</th>\n",
              "      <th>VNZIP1</th>\n",
              "      <th>VNST</th>\n",
              "      <th>VehBCost</th>\n",
              "      <th>IsOnlineSale</th>\n",
              "      <th>WarrantyCost</th>\n",
              "    </tr>\n",
              "    <tr>\n",
              "      <th>RefId</th>\n",
              "      <th></th>\n",
              "      <th></th>\n",
              "      <th></th>\n",
              "      <th></th>\n",
              "      <th></th>\n",
              "      <th></th>\n",
              "      <th></th>\n",
              "      <th></th>\n",
              "      <th></th>\n",
              "      <th></th>\n",
              "      <th></th>\n",
              "      <th></th>\n",
              "      <th></th>\n",
              "      <th></th>\n",
              "      <th></th>\n",
              "      <th></th>\n",
              "      <th></th>\n",
              "      <th></th>\n",
              "      <th></th>\n",
              "      <th></th>\n",
              "      <th></th>\n",
              "      <th></th>\n",
              "      <th></th>\n",
              "      <th></th>\n",
              "      <th></th>\n",
              "      <th></th>\n",
              "      <th></th>\n",
              "      <th></th>\n",
              "      <th></th>\n",
              "      <th></th>\n",
              "      <th></th>\n",
              "      <th></th>\n",
              "      <th></th>\n",
              "    </tr>\n",
              "  </thead>\n",
              "  <tbody>\n",
              "    <tr>\n",
              "      <th>1</th>\n",
              "      <td>0</td>\n",
              "      <td>12/7/2009</td>\n",
              "      <td>ADESA</td>\n",
              "      <td>2006</td>\n",
              "      <td>3</td>\n",
              "      <td>MAZDA</td>\n",
              "      <td>MAZDA3</td>\n",
              "      <td>i</td>\n",
              "      <td>4D SEDAN I</td>\n",
              "      <td>RED</td>\n",
              "      <td>AUTO</td>\n",
              "      <td>1.0</td>\n",
              "      <td>Alloy</td>\n",
              "      <td>89046</td>\n",
              "      <td>OTHER ASIAN</td>\n",
              "      <td>MEDIUM</td>\n",
              "      <td>OTHER</td>\n",
              "      <td>8155.0</td>\n",
              "      <td>9829.0</td>\n",
              "      <td>11636.0</td>\n",
              "      <td>13600.0</td>\n",
              "      <td>7451.0</td>\n",
              "      <td>8552.0</td>\n",
              "      <td>11597.0</td>\n",
              "      <td>12409.0</td>\n",
              "      <td>NaN</td>\n",
              "      <td>NaN</td>\n",
              "      <td>21973</td>\n",
              "      <td>33619</td>\n",
              "      <td>FL</td>\n",
              "      <td>7100.0</td>\n",
              "      <td>0</td>\n",
              "      <td>1113</td>\n",
              "    </tr>\n",
              "    <tr>\n",
              "      <th>2</th>\n",
              "      <td>0</td>\n",
              "      <td>12/7/2009</td>\n",
              "      <td>ADESA</td>\n",
              "      <td>2004</td>\n",
              "      <td>5</td>\n",
              "      <td>DODGE</td>\n",
              "      <td>1500 RAM PICKUP 2WD</td>\n",
              "      <td>ST</td>\n",
              "      <td>QUAD CAB 4.7L SLT</td>\n",
              "      <td>WHITE</td>\n",
              "      <td>AUTO</td>\n",
              "      <td>1.0</td>\n",
              "      <td>Alloy</td>\n",
              "      <td>93593</td>\n",
              "      <td>AMERICAN</td>\n",
              "      <td>LARGE TRUCK</td>\n",
              "      <td>CHRYSLER</td>\n",
              "      <td>6854.0</td>\n",
              "      <td>8383.0</td>\n",
              "      <td>10897.0</td>\n",
              "      <td>12572.0</td>\n",
              "      <td>7456.0</td>\n",
              "      <td>9222.0</td>\n",
              "      <td>11374.0</td>\n",
              "      <td>12791.0</td>\n",
              "      <td>NaN</td>\n",
              "      <td>NaN</td>\n",
              "      <td>19638</td>\n",
              "      <td>33619</td>\n",
              "      <td>FL</td>\n",
              "      <td>7600.0</td>\n",
              "      <td>0</td>\n",
              "      <td>1053</td>\n",
              "    </tr>\n",
              "    <tr>\n",
              "      <th>3</th>\n",
              "      <td>0</td>\n",
              "      <td>12/7/2009</td>\n",
              "      <td>ADESA</td>\n",
              "      <td>2005</td>\n",
              "      <td>4</td>\n",
              "      <td>DODGE</td>\n",
              "      <td>STRATUS V6</td>\n",
              "      <td>SXT</td>\n",
              "      <td>4D SEDAN SXT FFV</td>\n",
              "      <td>MAROON</td>\n",
              "      <td>AUTO</td>\n",
              "      <td>2.0</td>\n",
              "      <td>Covers</td>\n",
              "      <td>73807</td>\n",
              "      <td>AMERICAN</td>\n",
              "      <td>MEDIUM</td>\n",
              "      <td>CHRYSLER</td>\n",
              "      <td>3202.0</td>\n",
              "      <td>4760.0</td>\n",
              "      <td>6943.0</td>\n",
              "      <td>8457.0</td>\n",
              "      <td>4035.0</td>\n",
              "      <td>5557.0</td>\n",
              "      <td>7146.0</td>\n",
              "      <td>8702.0</td>\n",
              "      <td>NaN</td>\n",
              "      <td>NaN</td>\n",
              "      <td>19638</td>\n",
              "      <td>33619</td>\n",
              "      <td>FL</td>\n",
              "      <td>4900.0</td>\n",
              "      <td>0</td>\n",
              "      <td>1389</td>\n",
              "    </tr>\n",
              "    <tr>\n",
              "      <th>4</th>\n",
              "      <td>0</td>\n",
              "      <td>12/7/2009</td>\n",
              "      <td>ADESA</td>\n",
              "      <td>2004</td>\n",
              "      <td>5</td>\n",
              "      <td>DODGE</td>\n",
              "      <td>NEON</td>\n",
              "      <td>SXT</td>\n",
              "      <td>4D SEDAN</td>\n",
              "      <td>SILVER</td>\n",
              "      <td>AUTO</td>\n",
              "      <td>1.0</td>\n",
              "      <td>Alloy</td>\n",
              "      <td>65617</td>\n",
              "      <td>AMERICAN</td>\n",
              "      <td>COMPACT</td>\n",
              "      <td>CHRYSLER</td>\n",
              "      <td>1893.0</td>\n",
              "      <td>2675.0</td>\n",
              "      <td>4658.0</td>\n",
              "      <td>5690.0</td>\n",
              "      <td>1844.0</td>\n",
              "      <td>2646.0</td>\n",
              "      <td>4375.0</td>\n",
              "      <td>5518.0</td>\n",
              "      <td>NaN</td>\n",
              "      <td>NaN</td>\n",
              "      <td>19638</td>\n",
              "      <td>33619</td>\n",
              "      <td>FL</td>\n",
              "      <td>4100.0</td>\n",
              "      <td>0</td>\n",
              "      <td>630</td>\n",
              "    </tr>\n",
              "    <tr>\n",
              "      <th>5</th>\n",
              "      <td>0</td>\n",
              "      <td>12/7/2009</td>\n",
              "      <td>ADESA</td>\n",
              "      <td>2005</td>\n",
              "      <td>4</td>\n",
              "      <td>FORD</td>\n",
              "      <td>FOCUS</td>\n",
              "      <td>ZX3</td>\n",
              "      <td>2D COUPE ZX3</td>\n",
              "      <td>SILVER</td>\n",
              "      <td>MANUAL</td>\n",
              "      <td>2.0</td>\n",
              "      <td>Covers</td>\n",
              "      <td>69367</td>\n",
              "      <td>AMERICAN</td>\n",
              "      <td>COMPACT</td>\n",
              "      <td>FORD</td>\n",
              "      <td>3913.0</td>\n",
              "      <td>5054.0</td>\n",
              "      <td>7723.0</td>\n",
              "      <td>8707.0</td>\n",
              "      <td>3247.0</td>\n",
              "      <td>4384.0</td>\n",
              "      <td>6739.0</td>\n",
              "      <td>7911.0</td>\n",
              "      <td>NaN</td>\n",
              "      <td>NaN</td>\n",
              "      <td>19638</td>\n",
              "      <td>33619</td>\n",
              "      <td>FL</td>\n",
              "      <td>4000.0</td>\n",
              "      <td>0</td>\n",
              "      <td>1020</td>\n",
              "    </tr>\n",
              "    <tr>\n",
              "      <th>...</th>\n",
              "      <td>...</td>\n",
              "      <td>...</td>\n",
              "      <td>...</td>\n",
              "      <td>...</td>\n",
              "      <td>...</td>\n",
              "      <td>...</td>\n",
              "      <td>...</td>\n",
              "      <td>...</td>\n",
              "      <td>...</td>\n",
              "      <td>...</td>\n",
              "      <td>...</td>\n",
              "      <td>...</td>\n",
              "      <td>...</td>\n",
              "      <td>...</td>\n",
              "      <td>...</td>\n",
              "      <td>...</td>\n",
              "      <td>...</td>\n",
              "      <td>...</td>\n",
              "      <td>...</td>\n",
              "      <td>...</td>\n",
              "      <td>...</td>\n",
              "      <td>...</td>\n",
              "      <td>...</td>\n",
              "      <td>...</td>\n",
              "      <td>...</td>\n",
              "      <td>...</td>\n",
              "      <td>...</td>\n",
              "      <td>...</td>\n",
              "      <td>...</td>\n",
              "      <td>...</td>\n",
              "      <td>...</td>\n",
              "      <td>...</td>\n",
              "      <td>...</td>\n",
              "    </tr>\n",
              "    <tr>\n",
              "      <th>73010</th>\n",
              "      <td>1</td>\n",
              "      <td>12/2/2009</td>\n",
              "      <td>ADESA</td>\n",
              "      <td>2001</td>\n",
              "      <td>8</td>\n",
              "      <td>MERCURY</td>\n",
              "      <td>SABLE</td>\n",
              "      <td>GS</td>\n",
              "      <td>4D SEDAN GS</td>\n",
              "      <td>BLACK</td>\n",
              "      <td>AUTO</td>\n",
              "      <td>1.0</td>\n",
              "      <td>Alloy</td>\n",
              "      <td>45234</td>\n",
              "      <td>AMERICAN</td>\n",
              "      <td>MEDIUM</td>\n",
              "      <td>FORD</td>\n",
              "      <td>1996.0</td>\n",
              "      <td>2993.0</td>\n",
              "      <td>2656.0</td>\n",
              "      <td>3732.0</td>\n",
              "      <td>2190.0</td>\n",
              "      <td>3055.0</td>\n",
              "      <td>4836.0</td>\n",
              "      <td>5937.0</td>\n",
              "      <td>NaN</td>\n",
              "      <td>NaN</td>\n",
              "      <td>18111</td>\n",
              "      <td>30212</td>\n",
              "      <td>GA</td>\n",
              "      <td>4200.0</td>\n",
              "      <td>0</td>\n",
              "      <td>993</td>\n",
              "    </tr>\n",
              "    <tr>\n",
              "      <th>73011</th>\n",
              "      <td>0</td>\n",
              "      <td>12/2/2009</td>\n",
              "      <td>ADESA</td>\n",
              "      <td>2007</td>\n",
              "      <td>2</td>\n",
              "      <td>CHEVROLET</td>\n",
              "      <td>MALIBU 4C</td>\n",
              "      <td>LS</td>\n",
              "      <td>4D SEDAN LS</td>\n",
              "      <td>SILVER</td>\n",
              "      <td>AUTO</td>\n",
              "      <td>NaN</td>\n",
              "      <td>NaN</td>\n",
              "      <td>71759</td>\n",
              "      <td>AMERICAN</td>\n",
              "      <td>MEDIUM</td>\n",
              "      <td>GM</td>\n",
              "      <td>6418.0</td>\n",
              "      <td>7325.0</td>\n",
              "      <td>7431.0</td>\n",
              "      <td>8411.0</td>\n",
              "      <td>6785.0</td>\n",
              "      <td>8132.0</td>\n",
              "      <td>10151.0</td>\n",
              "      <td>11652.0</td>\n",
              "      <td>NaN</td>\n",
              "      <td>NaN</td>\n",
              "      <td>18881</td>\n",
              "      <td>30212</td>\n",
              "      <td>GA</td>\n",
              "      <td>6200.0</td>\n",
              "      <td>0</td>\n",
              "      <td>1038</td>\n",
              "    </tr>\n",
              "    <tr>\n",
              "      <th>73012</th>\n",
              "      <td>0</td>\n",
              "      <td>12/2/2009</td>\n",
              "      <td>ADESA</td>\n",
              "      <td>2005</td>\n",
              "      <td>4</td>\n",
              "      <td>JEEP</td>\n",
              "      <td>GRAND CHEROKEE 2WD V</td>\n",
              "      <td>Lar</td>\n",
              "      <td>4D WAGON LAREDO</td>\n",
              "      <td>SILVER</td>\n",
              "      <td>AUTO</td>\n",
              "      <td>1.0</td>\n",
              "      <td>Alloy</td>\n",
              "      <td>88500</td>\n",
              "      <td>AMERICAN</td>\n",
              "      <td>MEDIUM SUV</td>\n",
              "      <td>CHRYSLER</td>\n",
              "      <td>8545.0</td>\n",
              "      <td>9959.0</td>\n",
              "      <td>9729.0</td>\n",
              "      <td>11256.0</td>\n",
              "      <td>8375.0</td>\n",
              "      <td>9802.0</td>\n",
              "      <td>11831.0</td>\n",
              "      <td>14402.0</td>\n",
              "      <td>NaN</td>\n",
              "      <td>NaN</td>\n",
              "      <td>18111</td>\n",
              "      <td>30212</td>\n",
              "      <td>GA</td>\n",
              "      <td>8200.0</td>\n",
              "      <td>0</td>\n",
              "      <td>1893</td>\n",
              "    </tr>\n",
              "    <tr>\n",
              "      <th>73013</th>\n",
              "      <td>0</td>\n",
              "      <td>12/2/2009</td>\n",
              "      <td>ADESA</td>\n",
              "      <td>2006</td>\n",
              "      <td>3</td>\n",
              "      <td>CHEVROLET</td>\n",
              "      <td>IMPALA</td>\n",
              "      <td>LS</td>\n",
              "      <td>4D SEDAN LS</td>\n",
              "      <td>WHITE</td>\n",
              "      <td>AUTO</td>\n",
              "      <td>1.0</td>\n",
              "      <td>Alloy</td>\n",
              "      <td>79554</td>\n",
              "      <td>AMERICAN</td>\n",
              "      <td>LARGE</td>\n",
              "      <td>GM</td>\n",
              "      <td>6420.0</td>\n",
              "      <td>7604.0</td>\n",
              "      <td>7434.0</td>\n",
              "      <td>8712.0</td>\n",
              "      <td>6590.0</td>\n",
              "      <td>7684.0</td>\n",
              "      <td>10099.0</td>\n",
              "      <td>11228.0</td>\n",
              "      <td>NaN</td>\n",
              "      <td>NaN</td>\n",
              "      <td>18881</td>\n",
              "      <td>30212</td>\n",
              "      <td>GA</td>\n",
              "      <td>7000.0</td>\n",
              "      <td>0</td>\n",
              "      <td>1974</td>\n",
              "    </tr>\n",
              "    <tr>\n",
              "      <th>73014</th>\n",
              "      <td>0</td>\n",
              "      <td>12/2/2009</td>\n",
              "      <td>ADESA</td>\n",
              "      <td>2006</td>\n",
              "      <td>3</td>\n",
              "      <td>MAZDA</td>\n",
              "      <td>MAZDA6</td>\n",
              "      <td>s</td>\n",
              "      <td>4D SEDAN S</td>\n",
              "      <td>SILVER</td>\n",
              "      <td>AUTO</td>\n",
              "      <td>1.0</td>\n",
              "      <td>Alloy</td>\n",
              "      <td>66855</td>\n",
              "      <td>OTHER ASIAN</td>\n",
              "      <td>MEDIUM</td>\n",
              "      <td>OTHER</td>\n",
              "      <td>7535.0</td>\n",
              "      <td>8771.0</td>\n",
              "      <td>8638.0</td>\n",
              "      <td>9973.0</td>\n",
              "      <td>7730.0</td>\n",
              "      <td>9102.0</td>\n",
              "      <td>11954.0</td>\n",
              "      <td>13246.0</td>\n",
              "      <td>NaN</td>\n",
              "      <td>NaN</td>\n",
              "      <td>18111</td>\n",
              "      <td>30212</td>\n",
              "      <td>GA</td>\n",
              "      <td>8000.0</td>\n",
              "      <td>0</td>\n",
              "      <td>1313</td>\n",
              "    </tr>\n",
              "  </tbody>\n",
              "</table>\n",
              "<p>72983 rows × 33 columns</p>\n",
              "</div>"
            ],
            "text/plain": [
              "       IsBadBuy  PurchDate Auction  VehYear  VehicleAge       Make  \\\n",
              "RefId                                                                \n",
              "1             0  12/7/2009   ADESA     2006           3      MAZDA   \n",
              "2             0  12/7/2009   ADESA     2004           5      DODGE   \n",
              "3             0  12/7/2009   ADESA     2005           4      DODGE   \n",
              "4             0  12/7/2009   ADESA     2004           5      DODGE   \n",
              "5             0  12/7/2009   ADESA     2005           4       FORD   \n",
              "...         ...        ...     ...      ...         ...        ...   \n",
              "73010         1  12/2/2009   ADESA     2001           8    MERCURY   \n",
              "73011         0  12/2/2009   ADESA     2007           2  CHEVROLET   \n",
              "73012         0  12/2/2009   ADESA     2005           4       JEEP   \n",
              "73013         0  12/2/2009   ADESA     2006           3  CHEVROLET   \n",
              "73014         0  12/2/2009   ADESA     2006           3      MAZDA   \n",
              "\n",
              "                      Model Trim           SubModel   Color Transmission  \\\n",
              "RefId                                                                      \n",
              "1                    MAZDA3    i         4D SEDAN I     RED         AUTO   \n",
              "2       1500 RAM PICKUP 2WD   ST  QUAD CAB 4.7L SLT   WHITE         AUTO   \n",
              "3                STRATUS V6  SXT   4D SEDAN SXT FFV  MAROON         AUTO   \n",
              "4                      NEON  SXT           4D SEDAN  SILVER         AUTO   \n",
              "5                     FOCUS  ZX3       2D COUPE ZX3  SILVER       MANUAL   \n",
              "...                     ...  ...                ...     ...          ...   \n",
              "73010                 SABLE   GS        4D SEDAN GS   BLACK         AUTO   \n",
              "73011             MALIBU 4C   LS        4D SEDAN LS  SILVER         AUTO   \n",
              "73012  GRAND CHEROKEE 2WD V  Lar    4D WAGON LAREDO  SILVER         AUTO   \n",
              "73013                IMPALA   LS        4D SEDAN LS   WHITE         AUTO   \n",
              "73014                MAZDA6    s         4D SEDAN S  SILVER         AUTO   \n",
              "\n",
              "       WheelTypeID WheelType  VehOdo  Nationality         Size  \\\n",
              "RefId                                                            \n",
              "1              1.0     Alloy   89046  OTHER ASIAN       MEDIUM   \n",
              "2              1.0     Alloy   93593     AMERICAN  LARGE TRUCK   \n",
              "3              2.0    Covers   73807     AMERICAN       MEDIUM   \n",
              "4              1.0     Alloy   65617     AMERICAN      COMPACT   \n",
              "5              2.0    Covers   69367     AMERICAN      COMPACT   \n",
              "...            ...       ...     ...          ...          ...   \n",
              "73010          1.0     Alloy   45234     AMERICAN       MEDIUM   \n",
              "73011          NaN       NaN   71759     AMERICAN       MEDIUM   \n",
              "73012          1.0     Alloy   88500     AMERICAN   MEDIUM SUV   \n",
              "73013          1.0     Alloy   79554     AMERICAN        LARGE   \n",
              "73014          1.0     Alloy   66855  OTHER ASIAN       MEDIUM   \n",
              "\n",
              "      TopThreeAmericanName  MMRAcquisitionAuctionAveragePrice  \\\n",
              "RefId                                                           \n",
              "1                    OTHER                             8155.0   \n",
              "2                 CHRYSLER                             6854.0   \n",
              "3                 CHRYSLER                             3202.0   \n",
              "4                 CHRYSLER                             1893.0   \n",
              "5                     FORD                             3913.0   \n",
              "...                    ...                                ...   \n",
              "73010                 FORD                             1996.0   \n",
              "73011                   GM                             6418.0   \n",
              "73012             CHRYSLER                             8545.0   \n",
              "73013                   GM                             6420.0   \n",
              "73014                OTHER                             7535.0   \n",
              "\n",
              "       MMRAcquisitionAuctionCleanPrice  MMRAcquisitionRetailAveragePrice  \\\n",
              "RefId                                                                      \n",
              "1                               9829.0                           11636.0   \n",
              "2                               8383.0                           10897.0   \n",
              "3                               4760.0                            6943.0   \n",
              "4                               2675.0                            4658.0   \n",
              "5                               5054.0                            7723.0   \n",
              "...                                ...                               ...   \n",
              "73010                           2993.0                            2656.0   \n",
              "73011                           7325.0                            7431.0   \n",
              "73012                           9959.0                            9729.0   \n",
              "73013                           7604.0                            7434.0   \n",
              "73014                           8771.0                            8638.0   \n",
              "\n",
              "       MMRAcquisitonRetailCleanPrice  MMRCurrentAuctionAveragePrice  \\\n",
              "RefId                                                                 \n",
              "1                            13600.0                         7451.0   \n",
              "2                            12572.0                         7456.0   \n",
              "3                             8457.0                         4035.0   \n",
              "4                             5690.0                         1844.0   \n",
              "5                             8707.0                         3247.0   \n",
              "...                              ...                            ...   \n",
              "73010                         3732.0                         2190.0   \n",
              "73011                         8411.0                         6785.0   \n",
              "73012                        11256.0                         8375.0   \n",
              "73013                         8712.0                         6590.0   \n",
              "73014                         9973.0                         7730.0   \n",
              "\n",
              "       MMRCurrentAuctionCleanPrice  MMRCurrentRetailAveragePrice  \\\n",
              "RefId                                                              \n",
              "1                           8552.0                       11597.0   \n",
              "2                           9222.0                       11374.0   \n",
              "3                           5557.0                        7146.0   \n",
              "4                           2646.0                        4375.0   \n",
              "5                           4384.0                        6739.0   \n",
              "...                            ...                           ...   \n",
              "73010                       3055.0                        4836.0   \n",
              "73011                       8132.0                       10151.0   \n",
              "73012                       9802.0                       11831.0   \n",
              "73013                       7684.0                       10099.0   \n",
              "73014                       9102.0                       11954.0   \n",
              "\n",
              "       MMRCurrentRetailCleanPrice PRIMEUNIT AUCGUART  BYRNO  VNZIP1 VNST  \\\n",
              "RefId                                                                      \n",
              "1                         12409.0       NaN      NaN  21973   33619   FL   \n",
              "2                         12791.0       NaN      NaN  19638   33619   FL   \n",
              "3                          8702.0       NaN      NaN  19638   33619   FL   \n",
              "4                          5518.0       NaN      NaN  19638   33619   FL   \n",
              "5                          7911.0       NaN      NaN  19638   33619   FL   \n",
              "...                           ...       ...      ...    ...     ...  ...   \n",
              "73010                      5937.0       NaN      NaN  18111   30212   GA   \n",
              "73011                     11652.0       NaN      NaN  18881   30212   GA   \n",
              "73012                     14402.0       NaN      NaN  18111   30212   GA   \n",
              "73013                     11228.0       NaN      NaN  18881   30212   GA   \n",
              "73014                     13246.0       NaN      NaN  18111   30212   GA   \n",
              "\n",
              "       VehBCost  IsOnlineSale  WarrantyCost  \n",
              "RefId                                        \n",
              "1        7100.0             0          1113  \n",
              "2        7600.0             0          1053  \n",
              "3        4900.0             0          1389  \n",
              "4        4100.0             0           630  \n",
              "5        4000.0             0          1020  \n",
              "...         ...           ...           ...  \n",
              "73010    4200.0             0           993  \n",
              "73011    6200.0             0          1038  \n",
              "73012    8200.0             0          1893  \n",
              "73013    7000.0             0          1974  \n",
              "73014    8000.0             0          1313  \n",
              "\n",
              "[72983 rows x 33 columns]"
            ]
          },
          "metadata": {
            "tags": []
          },
          "execution_count": 5
        }
      ]
    },
    {
      "cell_type": "markdown",
      "metadata": {
        "id": "HxqZ2gxSXS48"
      },
      "source": [
        "Preprocessing and Feature Engineering"
      ]
    },
    {
      "cell_type": "code",
      "metadata": {
        "colab": {
          "base_uri": "https://localhost:8080/"
        },
        "id": "c-1GOBrqVIEz",
        "outputId": "08b43c20-f2bf-4d12-ee0e-375e55914b3d"
      },
      "source": [
        "car_data.info()"
      ],
      "execution_count": 6,
      "outputs": [
        {
          "output_type": "stream",
          "text": [
            "<class 'pandas.core.frame.DataFrame'>\n",
            "Int64Index: 72983 entries, 1 to 73014\n",
            "Data columns (total 33 columns):\n",
            " #   Column                             Non-Null Count  Dtype  \n",
            "---  ------                             --------------  -----  \n",
            " 0   IsBadBuy                           72983 non-null  int64  \n",
            " 1   PurchDate                          72983 non-null  object \n",
            " 2   Auction                            72983 non-null  object \n",
            " 3   VehYear                            72983 non-null  int64  \n",
            " 4   VehicleAge                         72983 non-null  int64  \n",
            " 5   Make                               72983 non-null  object \n",
            " 6   Model                              72983 non-null  object \n",
            " 7   Trim                               70623 non-null  object \n",
            " 8   SubModel                           72975 non-null  object \n",
            " 9   Color                              72975 non-null  object \n",
            " 10  Transmission                       72974 non-null  object \n",
            " 11  WheelTypeID                        69814 non-null  float64\n",
            " 12  WheelType                          69809 non-null  object \n",
            " 13  VehOdo                             72983 non-null  int64  \n",
            " 14  Nationality                        72978 non-null  object \n",
            " 15  Size                               72978 non-null  object \n",
            " 16  TopThreeAmericanName               72978 non-null  object \n",
            " 17  MMRAcquisitionAuctionAveragePrice  72965 non-null  float64\n",
            " 18  MMRAcquisitionAuctionCleanPrice    72965 non-null  float64\n",
            " 19  MMRAcquisitionRetailAveragePrice   72965 non-null  float64\n",
            " 20  MMRAcquisitonRetailCleanPrice      72965 non-null  float64\n",
            " 21  MMRCurrentAuctionAveragePrice      72668 non-null  float64\n",
            " 22  MMRCurrentAuctionCleanPrice        72668 non-null  float64\n",
            " 23  MMRCurrentRetailAveragePrice       72668 non-null  float64\n",
            " 24  MMRCurrentRetailCleanPrice         72668 non-null  float64\n",
            " 25  PRIMEUNIT                          3419 non-null   object \n",
            " 26  AUCGUART                           3419 non-null   object \n",
            " 27  BYRNO                              72983 non-null  int64  \n",
            " 28  VNZIP1                             72983 non-null  int64  \n",
            " 29  VNST                               72983 non-null  object \n",
            " 30  VehBCost                           72983 non-null  float64\n",
            " 31  IsOnlineSale                       72983 non-null  int64  \n",
            " 32  WarrantyCost                       72983 non-null  int64  \n",
            "dtypes: float64(10), int64(8), object(15)\n",
            "memory usage: 18.9+ MB\n"
          ],
          "name": "stdout"
        }
      ]
    },
    {
      "cell_type": "code",
      "metadata": {
        "id": "unOrrRcFXYsR"
      },
      "source": [
        "def split_date(df):\n",
        "  df['PurchDate'] = pd.to_datetime(df['PurchDate'])\n",
        "  df['Year'] = df.PurchDate.dt.year\n",
        "  df['Month'] = df.PurchDate.dt.month\n",
        "  df['Day'] = df.PurchDate.dt.day\n",
        "  df['WeekOfYear'] = df.PurchDate.dt.isocalendar().week"
      ],
      "execution_count": 7,
      "outputs": []
    },
    {
      "cell_type": "code",
      "metadata": {
        "id": "R3KwbqjCX0-8"
      },
      "source": [
        "split_date(car_data)"
      ],
      "execution_count": 8,
      "outputs": []
    },
    {
      "cell_type": "code",
      "metadata": {
        "colab": {
          "base_uri": "https://localhost:8080/",
          "height": 230
        },
        "id": "8Lf3BO8FZmFp",
        "outputId": "00a0da60-70e4-4ed1-f10f-2b74bde2353f"
      },
      "source": [
        "car_data.head(2)"
      ],
      "execution_count": 9,
      "outputs": [
        {
          "output_type": "execute_result",
          "data": {
            "text/html": [
              "<div>\n",
              "<style scoped>\n",
              "    .dataframe tbody tr th:only-of-type {\n",
              "        vertical-align: middle;\n",
              "    }\n",
              "\n",
              "    .dataframe tbody tr th {\n",
              "        vertical-align: top;\n",
              "    }\n",
              "\n",
              "    .dataframe thead th {\n",
              "        text-align: right;\n",
              "    }\n",
              "</style>\n",
              "<table border=\"1\" class=\"dataframe\">\n",
              "  <thead>\n",
              "    <tr style=\"text-align: right;\">\n",
              "      <th></th>\n",
              "      <th>IsBadBuy</th>\n",
              "      <th>PurchDate</th>\n",
              "      <th>Auction</th>\n",
              "      <th>VehYear</th>\n",
              "      <th>VehicleAge</th>\n",
              "      <th>Make</th>\n",
              "      <th>Model</th>\n",
              "      <th>Trim</th>\n",
              "      <th>SubModel</th>\n",
              "      <th>Color</th>\n",
              "      <th>Transmission</th>\n",
              "      <th>WheelTypeID</th>\n",
              "      <th>WheelType</th>\n",
              "      <th>VehOdo</th>\n",
              "      <th>Nationality</th>\n",
              "      <th>Size</th>\n",
              "      <th>TopThreeAmericanName</th>\n",
              "      <th>MMRAcquisitionAuctionAveragePrice</th>\n",
              "      <th>MMRAcquisitionAuctionCleanPrice</th>\n",
              "      <th>MMRAcquisitionRetailAveragePrice</th>\n",
              "      <th>MMRAcquisitonRetailCleanPrice</th>\n",
              "      <th>MMRCurrentAuctionAveragePrice</th>\n",
              "      <th>MMRCurrentAuctionCleanPrice</th>\n",
              "      <th>MMRCurrentRetailAveragePrice</th>\n",
              "      <th>MMRCurrentRetailCleanPrice</th>\n",
              "      <th>PRIMEUNIT</th>\n",
              "      <th>AUCGUART</th>\n",
              "      <th>BYRNO</th>\n",
              "      <th>VNZIP1</th>\n",
              "      <th>VNST</th>\n",
              "      <th>VehBCost</th>\n",
              "      <th>IsOnlineSale</th>\n",
              "      <th>WarrantyCost</th>\n",
              "      <th>Year</th>\n",
              "      <th>Month</th>\n",
              "      <th>Day</th>\n",
              "      <th>WeekOfYear</th>\n",
              "    </tr>\n",
              "    <tr>\n",
              "      <th>RefId</th>\n",
              "      <th></th>\n",
              "      <th></th>\n",
              "      <th></th>\n",
              "      <th></th>\n",
              "      <th></th>\n",
              "      <th></th>\n",
              "      <th></th>\n",
              "      <th></th>\n",
              "      <th></th>\n",
              "      <th></th>\n",
              "      <th></th>\n",
              "      <th></th>\n",
              "      <th></th>\n",
              "      <th></th>\n",
              "      <th></th>\n",
              "      <th></th>\n",
              "      <th></th>\n",
              "      <th></th>\n",
              "      <th></th>\n",
              "      <th></th>\n",
              "      <th></th>\n",
              "      <th></th>\n",
              "      <th></th>\n",
              "      <th></th>\n",
              "      <th></th>\n",
              "      <th></th>\n",
              "      <th></th>\n",
              "      <th></th>\n",
              "      <th></th>\n",
              "      <th></th>\n",
              "      <th></th>\n",
              "      <th></th>\n",
              "      <th></th>\n",
              "      <th></th>\n",
              "      <th></th>\n",
              "      <th></th>\n",
              "      <th></th>\n",
              "    </tr>\n",
              "  </thead>\n",
              "  <tbody>\n",
              "    <tr>\n",
              "      <th>1</th>\n",
              "      <td>0</td>\n",
              "      <td>2009-12-07</td>\n",
              "      <td>ADESA</td>\n",
              "      <td>2006</td>\n",
              "      <td>3</td>\n",
              "      <td>MAZDA</td>\n",
              "      <td>MAZDA3</td>\n",
              "      <td>i</td>\n",
              "      <td>4D SEDAN I</td>\n",
              "      <td>RED</td>\n",
              "      <td>AUTO</td>\n",
              "      <td>1.0</td>\n",
              "      <td>Alloy</td>\n",
              "      <td>89046</td>\n",
              "      <td>OTHER ASIAN</td>\n",
              "      <td>MEDIUM</td>\n",
              "      <td>OTHER</td>\n",
              "      <td>8155.0</td>\n",
              "      <td>9829.0</td>\n",
              "      <td>11636.0</td>\n",
              "      <td>13600.0</td>\n",
              "      <td>7451.0</td>\n",
              "      <td>8552.0</td>\n",
              "      <td>11597.0</td>\n",
              "      <td>12409.0</td>\n",
              "      <td>NaN</td>\n",
              "      <td>NaN</td>\n",
              "      <td>21973</td>\n",
              "      <td>33619</td>\n",
              "      <td>FL</td>\n",
              "      <td>7100.0</td>\n",
              "      <td>0</td>\n",
              "      <td>1113</td>\n",
              "      <td>2009</td>\n",
              "      <td>12</td>\n",
              "      <td>7</td>\n",
              "      <td>50</td>\n",
              "    </tr>\n",
              "    <tr>\n",
              "      <th>2</th>\n",
              "      <td>0</td>\n",
              "      <td>2009-12-07</td>\n",
              "      <td>ADESA</td>\n",
              "      <td>2004</td>\n",
              "      <td>5</td>\n",
              "      <td>DODGE</td>\n",
              "      <td>1500 RAM PICKUP 2WD</td>\n",
              "      <td>ST</td>\n",
              "      <td>QUAD CAB 4.7L SLT</td>\n",
              "      <td>WHITE</td>\n",
              "      <td>AUTO</td>\n",
              "      <td>1.0</td>\n",
              "      <td>Alloy</td>\n",
              "      <td>93593</td>\n",
              "      <td>AMERICAN</td>\n",
              "      <td>LARGE TRUCK</td>\n",
              "      <td>CHRYSLER</td>\n",
              "      <td>6854.0</td>\n",
              "      <td>8383.0</td>\n",
              "      <td>10897.0</td>\n",
              "      <td>12572.0</td>\n",
              "      <td>7456.0</td>\n",
              "      <td>9222.0</td>\n",
              "      <td>11374.0</td>\n",
              "      <td>12791.0</td>\n",
              "      <td>NaN</td>\n",
              "      <td>NaN</td>\n",
              "      <td>19638</td>\n",
              "      <td>33619</td>\n",
              "      <td>FL</td>\n",
              "      <td>7600.0</td>\n",
              "      <td>0</td>\n",
              "      <td>1053</td>\n",
              "      <td>2009</td>\n",
              "      <td>12</td>\n",
              "      <td>7</td>\n",
              "      <td>50</td>\n",
              "    </tr>\n",
              "  </tbody>\n",
              "</table>\n",
              "</div>"
            ],
            "text/plain": [
              "       IsBadBuy  PurchDate Auction  VehYear  VehicleAge   Make  \\\n",
              "RefId                                                            \n",
              "1             0 2009-12-07   ADESA     2006           3  MAZDA   \n",
              "2             0 2009-12-07   ADESA     2004           5  DODGE   \n",
              "\n",
              "                     Model Trim           SubModel  Color Transmission  \\\n",
              "RefId                                                                    \n",
              "1                   MAZDA3    i         4D SEDAN I    RED         AUTO   \n",
              "2      1500 RAM PICKUP 2WD   ST  QUAD CAB 4.7L SLT  WHITE         AUTO   \n",
              "\n",
              "       WheelTypeID WheelType  VehOdo  Nationality         Size  \\\n",
              "RefId                                                            \n",
              "1              1.0     Alloy   89046  OTHER ASIAN       MEDIUM   \n",
              "2              1.0     Alloy   93593     AMERICAN  LARGE TRUCK   \n",
              "\n",
              "      TopThreeAmericanName  MMRAcquisitionAuctionAveragePrice  \\\n",
              "RefId                                                           \n",
              "1                    OTHER                             8155.0   \n",
              "2                 CHRYSLER                             6854.0   \n",
              "\n",
              "       MMRAcquisitionAuctionCleanPrice  MMRAcquisitionRetailAveragePrice  \\\n",
              "RefId                                                                      \n",
              "1                               9829.0                           11636.0   \n",
              "2                               8383.0                           10897.0   \n",
              "\n",
              "       MMRAcquisitonRetailCleanPrice  MMRCurrentAuctionAveragePrice  \\\n",
              "RefId                                                                 \n",
              "1                            13600.0                         7451.0   \n",
              "2                            12572.0                         7456.0   \n",
              "\n",
              "       MMRCurrentAuctionCleanPrice  MMRCurrentRetailAveragePrice  \\\n",
              "RefId                                                              \n",
              "1                           8552.0                       11597.0   \n",
              "2                           9222.0                       11374.0   \n",
              "\n",
              "       MMRCurrentRetailCleanPrice PRIMEUNIT AUCGUART  BYRNO  VNZIP1 VNST  \\\n",
              "RefId                                                                      \n",
              "1                         12409.0       NaN      NaN  21973   33619   FL   \n",
              "2                         12791.0       NaN      NaN  19638   33619   FL   \n",
              "\n",
              "       VehBCost  IsOnlineSale  WarrantyCost  Year  Month  Day  WeekOfYear  \n",
              "RefId                                                                      \n",
              "1        7100.0             0          1113  2009     12    7          50  \n",
              "2        7600.0             0          1053  2009     12    7          50  "
            ]
          },
          "metadata": {
            "tags": []
          },
          "execution_count": 9
        }
      ]
    },
    {
      "cell_type": "code",
      "metadata": {
        "id": "xuTQLlGUX5ER"
      },
      "source": [
        "car_data.Transmission = car_data.Transmission.str.upper()"
      ],
      "execution_count": 10,
      "outputs": []
    },
    {
      "cell_type": "markdown",
      "metadata": {
        "id": "vT1J7mOGjicW"
      },
      "source": [
        "Let me filter out columns which are not relevant"
      ]
    },
    {
      "cell_type": "code",
      "metadata": {
        "colab": {
          "base_uri": "https://localhost:8080/"
        },
        "id": "XyErq_BtcNQi",
        "outputId": "d4500d89-6677-41b3-fd72-9dd5c99cedfd"
      },
      "source": [
        "car_data.columns"
      ],
      "execution_count": 11,
      "outputs": [
        {
          "output_type": "execute_result",
          "data": {
            "text/plain": [
              "Index(['IsBadBuy', 'PurchDate', 'Auction', 'VehYear', 'VehicleAge', 'Make',\n",
              "       'Model', 'Trim', 'SubModel', 'Color', 'Transmission', 'WheelTypeID',\n",
              "       'WheelType', 'VehOdo', 'Nationality', 'Size', 'TopThreeAmericanName',\n",
              "       'MMRAcquisitionAuctionAveragePrice', 'MMRAcquisitionAuctionCleanPrice',\n",
              "       'MMRAcquisitionRetailAveragePrice', 'MMRAcquisitonRetailCleanPrice',\n",
              "       'MMRCurrentAuctionAveragePrice', 'MMRCurrentAuctionCleanPrice',\n",
              "       'MMRCurrentRetailAveragePrice', 'MMRCurrentRetailCleanPrice',\n",
              "       'PRIMEUNIT', 'AUCGUART', 'BYRNO', 'VNZIP1', 'VNST', 'VehBCost',\n",
              "       'IsOnlineSale', 'WarrantyCost', 'Year', 'Month', 'Day', 'WeekOfYear'],\n",
              "      dtype='object')"
            ]
          },
          "metadata": {
            "tags": []
          },
          "execution_count": 11
        }
      ]
    },
    {
      "cell_type": "code",
      "metadata": {
        "id": "mjcDYkNrjovI"
      },
      "source": [
        "relevant_coulmns = ['IsBadBuy', 'Auction', 'VehYear', 'VehicleAge', 'Make',\n",
        "       'Model', 'Trim', 'SubModel', 'Color', 'Transmission', 'WheelTypeID',\n",
        "       'WheelType', 'VehOdo', 'Nationality', 'Size', 'TopThreeAmericanName',\n",
        "       'MMRAcquisitionAuctionAveragePrice', 'MMRAcquisitionAuctionCleanPrice',\n",
        "       'MMRAcquisitionRetailAveragePrice', 'MMRAcquisitonRetailCleanPrice',\n",
        "       'MMRCurrentAuctionAveragePrice', 'MMRCurrentAuctionCleanPrice',\n",
        "       'MMRCurrentRetailAveragePrice', 'MMRCurrentRetailCleanPrice',\n",
        "       'PRIMEUNIT', 'AUCGUART', 'VNZIP1', 'VehBCost',\n",
        "       'IsOnlineSale', 'WarrantyCost', 'Year', 'Month']"
      ],
      "execution_count": 12,
      "outputs": []
    },
    {
      "cell_type": "code",
      "metadata": {
        "colab": {
          "base_uri": "https://localhost:8080/",
          "height": 230
        },
        "id": "_Lk1Mt4IksnV",
        "outputId": "6e98c093-d1f8-4c6d-8abc-5e33366d147d"
      },
      "source": [
        "car_data = car_data[relevant_coulmns]\n",
        "car_data.head(2)"
      ],
      "execution_count": 13,
      "outputs": [
        {
          "output_type": "execute_result",
          "data": {
            "text/html": [
              "<div>\n",
              "<style scoped>\n",
              "    .dataframe tbody tr th:only-of-type {\n",
              "        vertical-align: middle;\n",
              "    }\n",
              "\n",
              "    .dataframe tbody tr th {\n",
              "        vertical-align: top;\n",
              "    }\n",
              "\n",
              "    .dataframe thead th {\n",
              "        text-align: right;\n",
              "    }\n",
              "</style>\n",
              "<table border=\"1\" class=\"dataframe\">\n",
              "  <thead>\n",
              "    <tr style=\"text-align: right;\">\n",
              "      <th></th>\n",
              "      <th>IsBadBuy</th>\n",
              "      <th>Auction</th>\n",
              "      <th>VehYear</th>\n",
              "      <th>VehicleAge</th>\n",
              "      <th>Make</th>\n",
              "      <th>Model</th>\n",
              "      <th>Trim</th>\n",
              "      <th>SubModel</th>\n",
              "      <th>Color</th>\n",
              "      <th>Transmission</th>\n",
              "      <th>WheelTypeID</th>\n",
              "      <th>WheelType</th>\n",
              "      <th>VehOdo</th>\n",
              "      <th>Nationality</th>\n",
              "      <th>Size</th>\n",
              "      <th>TopThreeAmericanName</th>\n",
              "      <th>MMRAcquisitionAuctionAveragePrice</th>\n",
              "      <th>MMRAcquisitionAuctionCleanPrice</th>\n",
              "      <th>MMRAcquisitionRetailAveragePrice</th>\n",
              "      <th>MMRAcquisitonRetailCleanPrice</th>\n",
              "      <th>MMRCurrentAuctionAveragePrice</th>\n",
              "      <th>MMRCurrentAuctionCleanPrice</th>\n",
              "      <th>MMRCurrentRetailAveragePrice</th>\n",
              "      <th>MMRCurrentRetailCleanPrice</th>\n",
              "      <th>PRIMEUNIT</th>\n",
              "      <th>AUCGUART</th>\n",
              "      <th>VNZIP1</th>\n",
              "      <th>VehBCost</th>\n",
              "      <th>IsOnlineSale</th>\n",
              "      <th>WarrantyCost</th>\n",
              "      <th>Year</th>\n",
              "      <th>Month</th>\n",
              "    </tr>\n",
              "    <tr>\n",
              "      <th>RefId</th>\n",
              "      <th></th>\n",
              "      <th></th>\n",
              "      <th></th>\n",
              "      <th></th>\n",
              "      <th></th>\n",
              "      <th></th>\n",
              "      <th></th>\n",
              "      <th></th>\n",
              "      <th></th>\n",
              "      <th></th>\n",
              "      <th></th>\n",
              "      <th></th>\n",
              "      <th></th>\n",
              "      <th></th>\n",
              "      <th></th>\n",
              "      <th></th>\n",
              "      <th></th>\n",
              "      <th></th>\n",
              "      <th></th>\n",
              "      <th></th>\n",
              "      <th></th>\n",
              "      <th></th>\n",
              "      <th></th>\n",
              "      <th></th>\n",
              "      <th></th>\n",
              "      <th></th>\n",
              "      <th></th>\n",
              "      <th></th>\n",
              "      <th></th>\n",
              "      <th></th>\n",
              "      <th></th>\n",
              "      <th></th>\n",
              "    </tr>\n",
              "  </thead>\n",
              "  <tbody>\n",
              "    <tr>\n",
              "      <th>1</th>\n",
              "      <td>0</td>\n",
              "      <td>ADESA</td>\n",
              "      <td>2006</td>\n",
              "      <td>3</td>\n",
              "      <td>MAZDA</td>\n",
              "      <td>MAZDA3</td>\n",
              "      <td>i</td>\n",
              "      <td>4D SEDAN I</td>\n",
              "      <td>RED</td>\n",
              "      <td>AUTO</td>\n",
              "      <td>1.0</td>\n",
              "      <td>Alloy</td>\n",
              "      <td>89046</td>\n",
              "      <td>OTHER ASIAN</td>\n",
              "      <td>MEDIUM</td>\n",
              "      <td>OTHER</td>\n",
              "      <td>8155.0</td>\n",
              "      <td>9829.0</td>\n",
              "      <td>11636.0</td>\n",
              "      <td>13600.0</td>\n",
              "      <td>7451.0</td>\n",
              "      <td>8552.0</td>\n",
              "      <td>11597.0</td>\n",
              "      <td>12409.0</td>\n",
              "      <td>NaN</td>\n",
              "      <td>NaN</td>\n",
              "      <td>33619</td>\n",
              "      <td>7100.0</td>\n",
              "      <td>0</td>\n",
              "      <td>1113</td>\n",
              "      <td>2009</td>\n",
              "      <td>12</td>\n",
              "    </tr>\n",
              "    <tr>\n",
              "      <th>2</th>\n",
              "      <td>0</td>\n",
              "      <td>ADESA</td>\n",
              "      <td>2004</td>\n",
              "      <td>5</td>\n",
              "      <td>DODGE</td>\n",
              "      <td>1500 RAM PICKUP 2WD</td>\n",
              "      <td>ST</td>\n",
              "      <td>QUAD CAB 4.7L SLT</td>\n",
              "      <td>WHITE</td>\n",
              "      <td>AUTO</td>\n",
              "      <td>1.0</td>\n",
              "      <td>Alloy</td>\n",
              "      <td>93593</td>\n",
              "      <td>AMERICAN</td>\n",
              "      <td>LARGE TRUCK</td>\n",
              "      <td>CHRYSLER</td>\n",
              "      <td>6854.0</td>\n",
              "      <td>8383.0</td>\n",
              "      <td>10897.0</td>\n",
              "      <td>12572.0</td>\n",
              "      <td>7456.0</td>\n",
              "      <td>9222.0</td>\n",
              "      <td>11374.0</td>\n",
              "      <td>12791.0</td>\n",
              "      <td>NaN</td>\n",
              "      <td>NaN</td>\n",
              "      <td>33619</td>\n",
              "      <td>7600.0</td>\n",
              "      <td>0</td>\n",
              "      <td>1053</td>\n",
              "      <td>2009</td>\n",
              "      <td>12</td>\n",
              "    </tr>\n",
              "  </tbody>\n",
              "</table>\n",
              "</div>"
            ],
            "text/plain": [
              "       IsBadBuy Auction  VehYear  VehicleAge   Make                Model Trim  \\\n",
              "RefId                                                                           \n",
              "1             0   ADESA     2006           3  MAZDA               MAZDA3    i   \n",
              "2             0   ADESA     2004           5  DODGE  1500 RAM PICKUP 2WD   ST   \n",
              "\n",
              "                SubModel  Color Transmission  WheelTypeID WheelType  VehOdo  \\\n",
              "RefId                                                                         \n",
              "1             4D SEDAN I    RED         AUTO          1.0     Alloy   89046   \n",
              "2      QUAD CAB 4.7L SLT  WHITE         AUTO          1.0     Alloy   93593   \n",
              "\n",
              "       Nationality         Size TopThreeAmericanName  \\\n",
              "RefId                                                  \n",
              "1      OTHER ASIAN       MEDIUM                OTHER   \n",
              "2         AMERICAN  LARGE TRUCK             CHRYSLER   \n",
              "\n",
              "       MMRAcquisitionAuctionAveragePrice  MMRAcquisitionAuctionCleanPrice  \\\n",
              "RefId                                                                       \n",
              "1                                 8155.0                           9829.0   \n",
              "2                                 6854.0                           8383.0   \n",
              "\n",
              "       MMRAcquisitionRetailAveragePrice  MMRAcquisitonRetailCleanPrice  \\\n",
              "RefId                                                                    \n",
              "1                               11636.0                        13600.0   \n",
              "2                               10897.0                        12572.0   \n",
              "\n",
              "       MMRCurrentAuctionAveragePrice  MMRCurrentAuctionCleanPrice  \\\n",
              "RefId                                                               \n",
              "1                             7451.0                       8552.0   \n",
              "2                             7456.0                       9222.0   \n",
              "\n",
              "       MMRCurrentRetailAveragePrice  MMRCurrentRetailCleanPrice PRIMEUNIT  \\\n",
              "RefId                                                                       \n",
              "1                           11597.0                     12409.0       NaN   \n",
              "2                           11374.0                     12791.0       NaN   \n",
              "\n",
              "      AUCGUART  VNZIP1  VehBCost  IsOnlineSale  WarrantyCost  Year  Month  \n",
              "RefId                                                                      \n",
              "1          NaN   33619    7100.0             0          1113  2009     12  \n",
              "2          NaN   33619    7600.0             0          1053  2009     12  "
            ]
          },
          "metadata": {
            "tags": []
          },
          "execution_count": 13
        }
      ]
    },
    {
      "cell_type": "code",
      "metadata": {
        "id": "Bbvhjd_dkv0l"
      },
      "source": [
        "input_cols = ['Auction', 'VehYear', 'VehicleAge', 'Make',\n",
        "       'Model', 'Trim', 'SubModel', 'Color', 'Transmission', 'WheelTypeID',\n",
        "       'WheelType', 'VehOdo', 'Nationality', 'Size', 'TopThreeAmericanName',\n",
        "       'MMRAcquisitionAuctionAveragePrice', 'MMRAcquisitionAuctionCleanPrice',\n",
        "       'MMRAcquisitionRetailAveragePrice', 'MMRAcquisitonRetailCleanPrice',\n",
        "       'MMRCurrentAuctionAveragePrice', 'MMRCurrentAuctionCleanPrice',\n",
        "       'MMRCurrentRetailAveragePrice', 'MMRCurrentRetailCleanPrice',\n",
        "       'PRIMEUNIT', 'AUCGUART', 'VehBCost',\n",
        "       'IsOnlineSale', 'WarrantyCost', 'Year', 'Month']\n",
        "target_col = 'IsBadBuy'"
      ],
      "execution_count": 14,
      "outputs": []
    },
    {
      "cell_type": "code",
      "metadata": {
        "id": "Q42UDx4PweGK"
      },
      "source": [
        "inputs = car_data[input_cols].copy()\n",
        "targets = car_data[target_col].copy()"
      ],
      "execution_count": 15,
      "outputs": []
    },
    {
      "cell_type": "code",
      "metadata": {
        "colab": {
          "base_uri": "https://localhost:8080/"
        },
        "id": "nsLqE0PyyNGN",
        "outputId": "d292a42b-a9f8-4585-83ef-ed3727ebf24f"
      },
      "source": [
        "inputs.shape"
      ],
      "execution_count": 16,
      "outputs": [
        {
          "output_type": "execute_result",
          "data": {
            "text/plain": [
              "(72983, 30)"
            ]
          },
          "metadata": {
            "tags": []
          },
          "execution_count": 16
        }
      ]
    },
    {
      "cell_type": "code",
      "metadata": {
        "id": "CR8HjUrywjNL"
      },
      "source": [
        "numeric_cols = ['VehYear', 'VehicleAge', 'WheelTypeID', 'VehOdo', 'MMRAcquisitionAuctionAveragePrice', 'MMRAcquisitionAuctionCleanPrice',\n",
        "       'MMRAcquisitionRetailAveragePrice', 'MMRAcquisitonRetailCleanPrice',\n",
        "       'MMRCurrentAuctionAveragePrice', 'MMRCurrentAuctionCleanPrice',\n",
        "       'MMRCurrentRetailAveragePrice', 'MMRCurrentRetailCleanPrice', 'VehBCost',  'IsOnlineSale', 'WarrantyCost', 'Year', 'Month']\n",
        "categorical_cols = ['Auction', 'Make', 'Model', 'Trim', 'SubModel', 'Color', 'Transmission', 'WheelType', \n",
        "                    'Nationality', 'Size', 'TopThreeAmericanName', 'PRIMEUNIT', 'AUCGUART']"
      ],
      "execution_count": 17,
      "outputs": []
    },
    {
      "cell_type": "markdown",
      "metadata": {
        "id": "Riqado0uhO6i"
      },
      "source": [
        "Impute missing numerical data"
      ]
    },
    {
      "cell_type": "code",
      "metadata": {
        "id": "PbJg_ZOsm-Q7"
      },
      "source": [
        "## Filling missing values\n",
        "inputs.WheelTypeID.fillna(0.0, inplace=True)\n",
        "\n",
        "## Dropping the records with NaN\n",
        "inputs.dropna(subset = [\"MMRCurrentAuctionAveragePrice\"], inplace=True)"
      ],
      "execution_count": 18,
      "outputs": []
    },
    {
      "cell_type": "code",
      "metadata": {
        "colab": {
          "base_uri": "https://localhost:8080/"
        },
        "id": "YEraM6a7zbC5",
        "outputId": "7265fcc2-e580-4aa2-f2d1-5aeb30ba8532"
      },
      "source": [
        "inputs[numeric_cols].isna().sum()"
      ],
      "execution_count": 19,
      "outputs": [
        {
          "output_type": "execute_result",
          "data": {
            "text/plain": [
              "VehYear                              0\n",
              "VehicleAge                           0\n",
              "WheelTypeID                          0\n",
              "VehOdo                               0\n",
              "MMRAcquisitionAuctionAveragePrice    0\n",
              "MMRAcquisitionAuctionCleanPrice      0\n",
              "MMRAcquisitionRetailAveragePrice     0\n",
              "MMRAcquisitonRetailCleanPrice        0\n",
              "MMRCurrentAuctionAveragePrice        0\n",
              "MMRCurrentAuctionCleanPrice          0\n",
              "MMRCurrentRetailAveragePrice         0\n",
              "MMRCurrentRetailCleanPrice           0\n",
              "VehBCost                             0\n",
              "IsOnlineSale                         0\n",
              "WarrantyCost                         0\n",
              "Year                                 0\n",
              "Month                                0\n",
              "dtype: int64"
            ]
          },
          "metadata": {
            "tags": []
          },
          "execution_count": 19
        }
      ]
    },
    {
      "cell_type": "code",
      "metadata": {
        "colab": {
          "base_uri": "https://localhost:8080/"
        },
        "id": "6JQ9-ki-lMqw",
        "outputId": "e921a0a4-57f5-4448-a45b-0dea1095a7a9"
      },
      "source": [
        "inputs[categorical_cols].isna().sum()"
      ],
      "execution_count": 20,
      "outputs": [
        {
          "output_type": "execute_result",
          "data": {
            "text/plain": [
              "Auction                     0\n",
              "Make                        0\n",
              "Model                       0\n",
              "Trim                     2358\n",
              "SubModel                    8\n",
              "Color                       8\n",
              "Transmission                9\n",
              "WheelType                3172\n",
              "Nationality                 1\n",
              "Size                        1\n",
              "TopThreeAmericanName        1\n",
              "PRIMEUNIT               69263\n",
              "AUCGUART                69263\n",
              "dtype: int64"
            ]
          },
          "metadata": {
            "tags": []
          },
          "execution_count": 20
        }
      ]
    },
    {
      "cell_type": "code",
      "metadata": {
        "colab": {
          "base_uri": "https://localhost:8080/"
        },
        "id": "otE8MGy1v_Fn",
        "outputId": "5320d78c-53ba-4c03-bf60-72902e10443c"
      },
      "source": [
        "inputs[categorical_cols].fillna('Unknown', inplace=True)"
      ],
      "execution_count": 21,
      "outputs": [
        {
          "output_type": "stream",
          "text": [
            "/usr/local/lib/python3.7/dist-packages/pandas/core/frame.py:4327: SettingWithCopyWarning: \n",
            "A value is trying to be set on a copy of a slice from a DataFrame\n",
            "\n",
            "See the caveats in the documentation: https://pandas.pydata.org/pandas-docs/stable/user_guide/indexing.html#returning-a-view-versus-a-copy\n",
            "  downcast=downcast,\n"
          ],
          "name": "stderr"
        }
      ]
    },
    {
      "cell_type": "code",
      "metadata": {
        "colab": {
          "base_uri": "https://localhost:8080/"
        },
        "id": "DrQt8DoiuPZu",
        "outputId": "16e51dab-9c0e-4d26-b7e4-b5ba6a698182"
      },
      "source": [
        "inputs.index"
      ],
      "execution_count": 49,
      "outputs": [
        {
          "output_type": "execute_result",
          "data": {
            "text/plain": [
              "Int64Index([    1,     2,     3,     4,     5,     6,     7,     8,     9,\n",
              "               10,\n",
              "            ...\n",
              "            73005, 73006, 73007, 73008, 73009, 73010, 73011, 73012, 73013,\n",
              "            73014],\n",
              "           dtype='int64', name='RefId', length=72668)"
            ]
          },
          "metadata": {
            "tags": []
          },
          "execution_count": 49
        }
      ]
    },
    {
      "cell_type": "code",
      "metadata": {
        "id": "Hzy4rgudujeA"
      },
      "source": [
        "targets = targets[targets.index.isin(inputs.index)]"
      ],
      "execution_count": 55,
      "outputs": []
    },
    {
      "cell_type": "code",
      "metadata": {
        "id": "vfwTC3ZOjwl_"
      },
      "source": [
        "from sklearn.impute import SimpleImputer\n",
        "\n",
        "from sklearn.preprocessing import OneHotEncoder\n",
        "\n",
        "encoder = OneHotEncoder(sparse=False, handle_unknown='ignore').fit(car_data[categorical_cols])\n",
        "encoded_cols = list(encoder.get_feature_names(categorical_cols))"
      ],
      "execution_count": 22,
      "outputs": []
    },
    {
      "cell_type": "code",
      "metadata": {
        "colab": {
          "base_uri": "https://localhost:8080/"
        },
        "id": "rQNqYntZq7bT",
        "outputId": "b805db5c-dc49-44d2-a501-1a11c840bf46"
      },
      "source": [
        "len(encoded_cols)"
      ],
      "execution_count": 25,
      "outputs": [
        {
          "output_type": "execute_result",
          "data": {
            "text/plain": [
              "2151"
            ]
          },
          "metadata": {
            "tags": []
          },
          "execution_count": 25
        }
      ]
    },
    {
      "cell_type": "code",
      "metadata": {
        "id": "l9UgsOu_twDS"
      },
      "source": [
        "inputs[encoded_cols] = encoder.transform(inputs[categorical_cols])"
      ],
      "execution_count": 24,
      "outputs": []
    },
    {
      "cell_type": "code",
      "metadata": {
        "id": "MEBDgUG-ur6t"
      },
      "source": [
        "X = inputs[numeric_cols + encoded_cols]"
      ],
      "execution_count": 26,
      "outputs": []
    },
    {
      "cell_type": "markdown",
      "metadata": {
        "id": "DHs_2G8PsC60"
      },
      "source": [
        "Gradient Boosting"
      ]
    },
    {
      "cell_type": "code",
      "metadata": {
        "id": "Xq4dQTb9r6tp"
      },
      "source": [
        "from xgboost import XGBClassifier\n",
        "model = XGBClassifier(random_state=42, n_jobs=-1, n_estimators=20, max_depth=4, use_label_encoder=False)"
      ],
      "execution_count": 31,
      "outputs": []
    },
    {
      "cell_type": "code",
      "metadata": {
        "colab": {
          "base_uri": "https://localhost:8080/"
        },
        "id": "l6nWXHv9s2zr",
        "outputId": "f632953a-50eb-4547-dc5c-3956c7e33c1f"
      },
      "source": [
        "%%time\n",
        "\n",
        "model.fit(X, targets)"
      ],
      "execution_count": 56,
      "outputs": [
        {
          "output_type": "stream",
          "text": [
            "[15:11:50] WARNING: ../src/learner.cc:1095: Starting in XGBoost 1.3.0, the default evaluation metric used with the objective 'binary:logistic' was changed from 'error' to 'logloss'. Explicitly set eval_metric if you'd like to restore the old behavior.\n",
            "CPU times: user 2min 20s, sys: 60.1 ms, total: 2min 20s\n",
            "Wall time: 1min 12s\n"
          ],
          "name": "stdout"
        },
        {
          "output_type": "execute_result",
          "data": {
            "text/plain": [
              "XGBClassifier(base_score=0.5, booster='gbtree', colsample_bylevel=1,\n",
              "              colsample_bynode=1, colsample_bytree=1, gamma=0, gpu_id=-1,\n",
              "              importance_type='gain', interaction_constraints='',\n",
              "              learning_rate=0.300000012, max_delta_step=0, max_depth=4,\n",
              "              min_child_weight=1, missing=nan, monotone_constraints='()',\n",
              "              n_estimators=20, n_jobs=-1, num_parallel_tree=1, random_state=42,\n",
              "              reg_alpha=0, reg_lambda=1, scale_pos_weight=1, subsample=1,\n",
              "              tree_method='exact', use_label_encoder=False,\n",
              "              validate_parameters=1, verbosity=None)"
            ]
          },
          "metadata": {
            "tags": []
          },
          "execution_count": 56
        }
      ]
    },
    {
      "cell_type": "code",
      "metadata": {
        "id": "b_JcgjBZs7hA"
      },
      "source": [
        "preds = model.predict(X)"
      ],
      "execution_count": 57,
      "outputs": []
    },
    {
      "cell_type": "code",
      "metadata": {
        "colab": {
          "base_uri": "https://localhost:8080/"
        },
        "id": "35Kd2T_P2VLR",
        "outputId": "faeaa6d7-0694-49ca-fb00-bc27475c7dfc"
      },
      "source": [
        "preds"
      ],
      "execution_count": 58,
      "outputs": [
        {
          "output_type": "execute_result",
          "data": {
            "text/plain": [
              "array([0, 0, 0, ..., 0, 0, 0])"
            ]
          },
          "metadata": {
            "tags": []
          },
          "execution_count": 58
        }
      ]
    },
    {
      "cell_type": "code",
      "metadata": {
        "id": "-IdxGm942WxQ"
      },
      "source": [
        "from sklearn.metrics import accuracy_score, confusion_matrix"
      ],
      "execution_count": 59,
      "outputs": []
    },
    {
      "cell_type": "code",
      "metadata": {
        "colab": {
          "base_uri": "https://localhost:8080/"
        },
        "id": "wBNIv5gl2f2u",
        "outputId": "b772ede8-84de-4b48-f468-ea708aaa577e"
      },
      "source": [
        "accuracy_score(targets, preds)"
      ],
      "execution_count": 60,
      "outputs": [
        {
          "output_type": "execute_result",
          "data": {
            "text/plain": [
              "0.9004788902955909"
            ]
          },
          "metadata": {
            "tags": []
          },
          "execution_count": 60
        }
      ]
    },
    {
      "cell_type": "code",
      "metadata": {
        "id": "y6eMT0jI2y-u"
      },
      "source": [
        ""
      ],
      "execution_count": null,
      "outputs": []
    }
  ]
}