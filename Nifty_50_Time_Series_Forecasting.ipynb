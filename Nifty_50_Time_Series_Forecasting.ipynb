{
  "nbformat": 4,
  "nbformat_minor": 0,
  "metadata": {
    "colab": {
      "name": "Nifty 50 Time Series Forecasting.ipynb",
      "provenance": [],
      "authorship_tag": "ABX9TyN2i1v/FZp4eTneMj9fEz36",
      "include_colab_link": true
    },
    "kernelspec": {
      "name": "python3",
      "display_name": "Python 3"
    },
    "language_info": {
      "name": "python"
    }
  },
  "cells": [
    {
      "cell_type": "markdown",
      "metadata": {
        "id": "view-in-github",
        "colab_type": "text"
      },
      "source": [
        "<a href=\"https://colab.research.google.com/github/hargurjeet/MachineLearning/blob/master/Nifty_50_Time_Series_Forecasting.ipynb\" target=\"_parent\"><img src=\"https://colab.research.google.com/assets/colab-badge.svg\" alt=\"Open In Colab\"/></a>"
      ]
    },
    {
      "cell_type": "markdown",
      "source": [
        "High level steps to approach the problem statement\n",
        "\n",
        "<br> Import the dataset\n",
        "<br>  Visualize the Time Series Data\n",
        "<br>  Make the time series data stationary\n",
        "<br>  Plot the Correlation and AutoCorrelation Charts\n",
        "<br> Construct the ARIMA Model or Seasonal ARIMA based on the data\n",
        "<br> Use the model to make predictions\n"
      ],
      "metadata": {
        "id": "b3O5PN6qB-Yc"
      }
    },
    {
      "cell_type": "code",
      "execution_count": 4,
      "metadata": {
        "colab": {
          "base_uri": "https://localhost:8080/"
        },
        "id": "_hMm9T1WBY8o",
        "outputId": "fc0304d9-2bb7-4151-a56d-1f9b6216a81a"
      },
      "outputs": [
        {
          "output_type": "stream",
          "name": "stdout",
          "text": [
            "Collecting opendatasets\n",
            "  Using cached opendatasets-0.1.20-py3-none-any.whl (14 kB)\n",
            "Requirement already satisfied: click in /usr/local/lib/python3.7/dist-packages (from opendatasets) (7.1.2)\n",
            "Requirement already satisfied: tqdm in /usr/local/lib/python3.7/dist-packages (from opendatasets) (4.62.3)\n",
            "Requirement already satisfied: kaggle in /usr/local/lib/python3.7/dist-packages (from opendatasets) (1.5.12)\n",
            "Requirement already satisfied: python-dateutil in /usr/local/lib/python3.7/dist-packages (from kaggle->opendatasets) (2.8.2)\n",
            "Requirement already satisfied: six>=1.10 in /usr/local/lib/python3.7/dist-packages (from kaggle->opendatasets) (1.15.0)\n",
            "Requirement already satisfied: certifi in /usr/local/lib/python3.7/dist-packages (from kaggle->opendatasets) (2021.10.8)\n",
            "Requirement already satisfied: python-slugify in /usr/local/lib/python3.7/dist-packages (from kaggle->opendatasets) (5.0.2)\n",
            "Requirement already satisfied: requests in /usr/local/lib/python3.7/dist-packages (from kaggle->opendatasets) (2.23.0)\n",
            "Requirement already satisfied: urllib3 in /usr/local/lib/python3.7/dist-packages (from kaggle->opendatasets) (1.24.3)\n",
            "Requirement already satisfied: text-unidecode>=1.3 in /usr/local/lib/python3.7/dist-packages (from python-slugify->kaggle->opendatasets) (1.3)\n",
            "Requirement already satisfied: chardet<4,>=3.0.2 in /usr/local/lib/python3.7/dist-packages (from requests->kaggle->opendatasets) (3.0.4)\n",
            "Requirement already satisfied: idna<3,>=2.5 in /usr/local/lib/python3.7/dist-packages (from requests->kaggle->opendatasets) (2.10)\n",
            "Installing collected packages: opendatasets\n",
            "Successfully installed opendatasets-0.1.20\n"
          ]
        }
      ],
      "source": [
        "!pip install opendatasets "
      ]
    },
    {
      "cell_type": "code",
      "source": [
        "# Importing the dataset\n",
        "import opendatasets as od\n",
        "import pandas as pd\n",
        "\n",
        "kaggle_url = 'https://www.kaggle.com/rohanrao/nifty50-stock-market-data?select=TITAN.csv'\n",
        "od.download(kaggle_url)"
      ],
      "metadata": {
        "colab": {
          "base_uri": "https://localhost:8080/"
        },
        "id": "9bufadF04Jfe",
        "outputId": "883ec261-45a8-4089-c8c5-8ba3d48cf4ba"
      },
      "execution_count": 6,
      "outputs": [
        {
          "output_type": "stream",
          "name": "stdout",
          "text": [
            "Please provide your Kaggle credentials to download this dataset. Learn more: http://bit.ly/kaggle-creds\n",
            "Your Kaggle username: hargurjeet\n",
            "Your Kaggle Key: ··········\n",
            "Downloading nifty50-stock-market-data.zip to ./nifty50-stock-market-data\n"
          ]
        },
        {
          "output_type": "stream",
          "name": "stderr",
          "text": [
            "100%|██████████| 18.4M/18.4M [00:01<00:00, 13.0MB/s]\n"
          ]
        },
        {
          "output_type": "stream",
          "name": "stdout",
          "text": [
            "\n"
          ]
        }
      ]
    },
    {
      "cell_type": "code",
      "source": [
        "file_path = '/content/nifty50-stock-market-data/TITAN.csv'\n",
        "df = pd.read_csv('/content/nifty50-stock-market-data/TITAN.csv')\n",
        "\n",
        "df.head()"
      ],
      "metadata": {
        "colab": {
          "base_uri": "https://localhost:8080/",
          "height": 330
        },
        "id": "BY9hWOEV4wb4",
        "outputId": "2b7506b6-4fc9-40e1-bd7b-e65ba5cef938"
      },
      "execution_count": 9,
      "outputs": [
        {
          "output_type": "execute_result",
          "data": {
            "text/html": [
              "<div>\n",
              "<style scoped>\n",
              "    .dataframe tbody tr th:only-of-type {\n",
              "        vertical-align: middle;\n",
              "    }\n",
              "\n",
              "    .dataframe tbody tr th {\n",
              "        vertical-align: top;\n",
              "    }\n",
              "\n",
              "    .dataframe thead th {\n",
              "        text-align: right;\n",
              "    }\n",
              "</style>\n",
              "<table border=\"1\" class=\"dataframe\">\n",
              "  <thead>\n",
              "    <tr style=\"text-align: right;\">\n",
              "      <th></th>\n",
              "      <th>Date</th>\n",
              "      <th>Symbol</th>\n",
              "      <th>Series</th>\n",
              "      <th>Prev Close</th>\n",
              "      <th>Open</th>\n",
              "      <th>High</th>\n",
              "      <th>Low</th>\n",
              "      <th>Last</th>\n",
              "      <th>Close</th>\n",
              "      <th>VWAP</th>\n",
              "      <th>Volume</th>\n",
              "      <th>Turnover</th>\n",
              "      <th>Trades</th>\n",
              "      <th>Deliverable Volume</th>\n",
              "      <th>%Deliverble</th>\n",
              "    </tr>\n",
              "  </thead>\n",
              "  <tbody>\n",
              "    <tr>\n",
              "      <th>0</th>\n",
              "      <td>2000-01-03</td>\n",
              "      <td>TITAN</td>\n",
              "      <td>EQ</td>\n",
              "      <td>144.95</td>\n",
              "      <td>146.0</td>\n",
              "      <td>156.45</td>\n",
              "      <td>146.0</td>\n",
              "      <td>155.00</td>\n",
              "      <td>155.70</td>\n",
              "      <td>154.36</td>\n",
              "      <td>23000</td>\n",
              "      <td>3.550370e+11</td>\n",
              "      <td>NaN</td>\n",
              "      <td>NaN</td>\n",
              "      <td>NaN</td>\n",
              "    </tr>\n",
              "    <tr>\n",
              "      <th>1</th>\n",
              "      <td>2000-01-04</td>\n",
              "      <td>TITAN</td>\n",
              "      <td>EQ</td>\n",
              "      <td>155.70</td>\n",
              "      <td>152.0</td>\n",
              "      <td>152.00</td>\n",
              "      <td>144.0</td>\n",
              "      <td>148.05</td>\n",
              "      <td>147.40</td>\n",
              "      <td>146.72</td>\n",
              "      <td>26300</td>\n",
              "      <td>3.858700e+11</td>\n",
              "      <td>NaN</td>\n",
              "      <td>NaN</td>\n",
              "      <td>NaN</td>\n",
              "    </tr>\n",
              "    <tr>\n",
              "      <th>2</th>\n",
              "      <td>2000-01-05</td>\n",
              "      <td>TITAN</td>\n",
              "      <td>EQ</td>\n",
              "      <td>147.40</td>\n",
              "      <td>144.0</td>\n",
              "      <td>148.80</td>\n",
              "      <td>136.0</td>\n",
              "      <td>139.95</td>\n",
              "      <td>138.40</td>\n",
              "      <td>142.95</td>\n",
              "      <td>20600</td>\n",
              "      <td>2.944850e+11</td>\n",
              "      <td>NaN</td>\n",
              "      <td>NaN</td>\n",
              "      <td>NaN</td>\n",
              "    </tr>\n",
              "    <tr>\n",
              "      <th>3</th>\n",
              "      <td>2000-01-06</td>\n",
              "      <td>TITAN</td>\n",
              "      <td>EQ</td>\n",
              "      <td>138.40</td>\n",
              "      <td>142.0</td>\n",
              "      <td>149.50</td>\n",
              "      <td>141.0</td>\n",
              "      <td>149.50</td>\n",
              "      <td>149.50</td>\n",
              "      <td>147.87</td>\n",
              "      <td>31600</td>\n",
              "      <td>4.672750e+11</td>\n",
              "      <td>NaN</td>\n",
              "      <td>NaN</td>\n",
              "      <td>NaN</td>\n",
              "    </tr>\n",
              "    <tr>\n",
              "      <th>4</th>\n",
              "      <td>2000-01-07</td>\n",
              "      <td>TITAN</td>\n",
              "      <td>EQ</td>\n",
              "      <td>149.50</td>\n",
              "      <td>149.5</td>\n",
              "      <td>153.00</td>\n",
              "      <td>145.0</td>\n",
              "      <td>147.75</td>\n",
              "      <td>146.35</td>\n",
              "      <td>148.63</td>\n",
              "      <td>36600</td>\n",
              "      <td>5.439965e+11</td>\n",
              "      <td>NaN</td>\n",
              "      <td>NaN</td>\n",
              "      <td>NaN</td>\n",
              "    </tr>\n",
              "  </tbody>\n",
              "</table>\n",
              "</div>"
            ],
            "text/plain": [
              "         Date Symbol Series  ...  Trades  Deliverable Volume  %Deliverble\n",
              "0  2000-01-03  TITAN     EQ  ...     NaN                 NaN          NaN\n",
              "1  2000-01-04  TITAN     EQ  ...     NaN                 NaN          NaN\n",
              "2  2000-01-05  TITAN     EQ  ...     NaN                 NaN          NaN\n",
              "3  2000-01-06  TITAN     EQ  ...     NaN                 NaN          NaN\n",
              "4  2000-01-07  TITAN     EQ  ...     NaN                 NaN          NaN\n",
              "\n",
              "[5 rows x 15 columns]"
            ]
          },
          "metadata": {},
          "execution_count": 9
        }
      ]
    },
    {
      "cell_type": "code",
      "source": [
        ""
      ],
      "metadata": {
        "id": "hR46Qzum5Lg8"
      },
      "execution_count": null,
      "outputs": []
    }
  ]
}