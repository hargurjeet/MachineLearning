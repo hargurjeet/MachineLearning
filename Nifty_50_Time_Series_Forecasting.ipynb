{
  "nbformat": 4,
  "nbformat_minor": 0,
  "metadata": {
    "colab": {
      "name": "Nifty 50 Time Series Forecasting.ipynb",
      "provenance": [],
      "authorship_tag": "ABX9TyOAd1AVtKiBYowIweiPvqt4",
      "include_colab_link": true
    },
    "kernelspec": {
      "name": "python3",
      "display_name": "Python 3"
    },
    "language_info": {
      "name": "python"
    }
  },
  "cells": [
    {
      "cell_type": "markdown",
      "metadata": {
        "id": "view-in-github",
        "colab_type": "text"
      },
      "source": [
        "<a href=\"https://colab.research.google.com/github/hargurjeet/MachineLearning/blob/master/Nifty_50_Time_Series_Forecasting.ipynb\" target=\"_parent\"><img src=\"https://colab.research.google.com/assets/colab-badge.svg\" alt=\"Open In Colab\"/></a>"
      ]
    },
    {
      "cell_type": "markdown",
      "source": [
        "# **Nifty 50 Time Series Forecasting**"
      ],
      "metadata": {
        "id": "b3O5PN6qB-Yc"
      }
    },
    {
      "cell_type": "markdown",
      "source": [
        "# **Table Of Contents**<a name=\"top\"></a>\n",
        "\n",
        "\n",
        "---\n",
        "\n",
        "\n",
        "\n",
        "---\n",
        "\n",
        "\n",
        "  1. [About the Dataset](#1)\n",
        "  2. [Loading the dataset Preprocessing](#2)\n",
        "  3. [Expainatory Data Analysis](#3)\n",
        "  4. [Covid Period and Recovery](#4)\n",
        "  5. [Stationary Conversion](#5)\n",
        "  6. [Implemneting XGBoost](#6)\n",
        "  7. [Hyperparameter Tuning - XGBoost](#7)\n",
        "  8. [Auto Corelation](#8)\n",
        "  9. [ARIMA](#9)\n",
        "  10. [Facebook Prophet](#10)\n",
        "  11. [Summary](#11)\n",
        "  12. [Future Work](#12)\n",
        "  13. [References](#13)"
      ],
      "metadata": {
        "id": "hrwryrmAh_vJ"
      }
    },
    {
      "cell_type": "markdown",
      "source": [
        "# 1: AboutDataset <a name=\"1\"></a>\n",
        "\n",
        "\n",
        "---\n",
        "<a href=\"#top\" class=\"btn btn-primary btn-sm\" role=\"button\" aria-pressed=\"true\" style=\"color:white\" data-toggle=\"popover\">Go to TOC</a> "
      ],
      "metadata": {
        "id": "M5F12iWJjiYi"
      }
    },
    {
      "cell_type": "markdown",
      "source": [
        "The data is the price history and trading volumes of the fifty stocks in the index NIFTY 50 from NSE (National Stock Exchange) India. All datasets are at a day-level with pricing and trading values split across .cvs files for each stock along with a metadata file with some macro-information about the stocks itself. The data spans from 1st January, 2000 to 30th April, 2021.\n",
        "\n",
        "The dataset contains the following features\n",
        "\n",
        "- Date - Trading day\n",
        "- Symbol - Stock Name\n",
        "- Prev Close - Closing price of the stock on previous day\n",
        "- Open - Openning Price on the given day\n",
        "- High - Highest Price on the given day\n",
        "- Low - Lowest Price on the given day\n",
        "- Last - Last Price on the given day\n",
        "- Close - Closing Price on the given day\n",
        "- VWAP - Average price on the stock traded througout the day\n",
        "\n",
        "Since we have data of 50 stocks avaliable, It would make sense to pick one stock at a time and perform the analysis, Hence I am picking Titan for my analysis"
      ],
      "metadata": {
        "id": "Us8Gq8RXKMKd"
      }
    },
    {
      "cell_type": "markdown",
      "source": [
        "# 2: Loading the dataset Preprocessing <a name=\"2\"></a>\n",
        "\n",
        "\n",
        "---\n",
        "<a href=\"#top\" class=\"btn btn-primary btn-sm\" role=\"button\" aria-pressed=\"true\" style=\"color:white\" data-toggle=\"popover\">Go to TOC</a> "
      ],
      "metadata": {
        "id": "ZrjLfcggjiVS"
      }
    },
    {
      "cell_type": "markdown",
      "source": [
        "We load the dataset from [kaggle](https://www.kaggle.com/datasets) using a custom made library opendatasets.\n",
        "\n",
        "I also import other standard imports to perfrom data analysis, model building...etc"
      ],
      "metadata": {
        "id": "bFozuPAKLlOo"
      }
    },
    {
      "cell_type": "code",
      "execution_count": 198,
      "metadata": {
        "colab": {
          "base_uri": "https://localhost:8080/"
        },
        "id": "_hMm9T1WBY8o",
        "outputId": "fc45ce2a-ed9c-466a-b97c-36da574a57c6"
      },
      "outputs": [
        {
          "output_type": "stream",
          "name": "stdout",
          "text": [
            "Requirement already satisfied: opendatasets in /usr/local/lib/python3.7/dist-packages (0.1.20)\n",
            "Requirement already satisfied: kaggle in /usr/local/lib/python3.7/dist-packages (from opendatasets) (1.5.12)\n",
            "Requirement already satisfied: click in /usr/local/lib/python3.7/dist-packages (from opendatasets) (7.1.2)\n",
            "Requirement already satisfied: tqdm in /usr/local/lib/python3.7/dist-packages (from opendatasets) (4.62.3)\n",
            "Requirement already satisfied: six>=1.10 in /usr/local/lib/python3.7/dist-packages (from kaggle->opendatasets) (1.15.0)\n",
            "Requirement already satisfied: urllib3 in /usr/local/lib/python3.7/dist-packages (from kaggle->opendatasets) (1.24.3)\n",
            "Requirement already satisfied: certifi in /usr/local/lib/python3.7/dist-packages (from kaggle->opendatasets) (2021.10.8)\n",
            "Requirement already satisfied: python-dateutil in /usr/local/lib/python3.7/dist-packages (from kaggle->opendatasets) (2.8.2)\n",
            "Requirement already satisfied: requests in /usr/local/lib/python3.7/dist-packages (from kaggle->opendatasets) (2.23.0)\n",
            "Requirement already satisfied: python-slugify in /usr/local/lib/python3.7/dist-packages (from kaggle->opendatasets) (5.0.2)\n",
            "Requirement already satisfied: text-unidecode>=1.3 in /usr/local/lib/python3.7/dist-packages (from python-slugify->kaggle->opendatasets) (1.3)\n",
            "Requirement already satisfied: chardet<4,>=3.0.2 in /usr/local/lib/python3.7/dist-packages (from requests->kaggle->opendatasets) (3.0.4)\n",
            "Requirement already satisfied: idna<3,>=2.5 in /usr/local/lib/python3.7/dist-packages (from requests->kaggle->opendatasets) (2.10)\n",
            "Requirement already satisfied: pmdarima in /usr/local/lib/python3.7/dist-packages (1.8.4)\n",
            "Requirement already satisfied: pandas>=0.19 in /usr/local/lib/python3.7/dist-packages (from pmdarima) (1.1.5)\n",
            "Requirement already satisfied: scikit-learn>=0.22 in /usr/local/lib/python3.7/dist-packages (from pmdarima) (1.0.1)\n",
            "Requirement already satisfied: setuptools!=50.0.0,>=38.6.0 in /usr/local/lib/python3.7/dist-packages (from pmdarima) (57.4.0)\n",
            "Requirement already satisfied: joblib>=0.11 in /usr/local/lib/python3.7/dist-packages (from pmdarima) (1.1.0)\n",
            "Requirement already satisfied: scipy>=1.3.2 in /usr/local/lib/python3.7/dist-packages (from pmdarima) (1.4.1)\n",
            "Requirement already satisfied: urllib3 in /usr/local/lib/python3.7/dist-packages (from pmdarima) (1.24.3)\n",
            "Requirement already satisfied: numpy>=1.19.3 in /usr/local/lib/python3.7/dist-packages (from pmdarima) (1.19.5)\n",
            "Requirement already satisfied: Cython!=0.29.18,>=0.29 in /usr/local/lib/python3.7/dist-packages (from pmdarima) (0.29.24)\n",
            "Requirement already satisfied: statsmodels!=0.12.0,>=0.11 in /usr/local/lib/python3.7/dist-packages (from pmdarima) (0.13.1)\n",
            "Requirement already satisfied: pytz>=2017.2 in /usr/local/lib/python3.7/dist-packages (from pandas>=0.19->pmdarima) (2018.9)\n",
            "Requirement already satisfied: python-dateutil>=2.7.3 in /usr/local/lib/python3.7/dist-packages (from pandas>=0.19->pmdarima) (2.8.2)\n",
            "Requirement already satisfied: six>=1.5 in /usr/local/lib/python3.7/dist-packages (from python-dateutil>=2.7.3->pandas>=0.19->pmdarima) (1.15.0)\n",
            "Requirement already satisfied: threadpoolctl>=2.0.0 in /usr/local/lib/python3.7/dist-packages (from scikit-learn>=0.22->pmdarima) (3.0.0)\n",
            "Requirement already satisfied: patsy>=0.5.2 in /usr/local/lib/python3.7/dist-packages (from statsmodels!=0.12.0,>=0.11->pmdarima) (0.5.2)\n"
          ]
        }
      ],
      "source": [
        "!pip install opendatasets \n",
        "\n",
        "!pip install pmdarima"
      ]
    },
    {
      "cell_type": "code",
      "source": [
        "# To Imporing dataset from kaggle\n",
        "import opendatasets as od\n",
        "\n",
        "# For data preprocessing\n",
        "import pandas as pd\n",
        "import numpy as np\n",
        "\n",
        "# To build visualizations\n",
        "import matplotlib.pyplot as plt\n",
        "import seaborn as sns\n",
        "import missingno as msno\n",
        "import plotly.express as px\n",
        "import plotly.graph_objects as go\n",
        "\n",
        "# Stats model to perfrom statistical analysis\n",
        "from statsmodels.tsa.stattools import adfuller\n",
        "from statsmodels.tsa.seasonal import seasonal_decompose\n",
        "\n",
        "# To build ML models\n",
        "from fbprophet import Prophet\n",
        "from matplotlib import pyplot as plt\n",
        "import pandas.util.testing as tm\n",
        "from pmdarima import auto_arima\n",
        "from sklearn.metrics import mean_absolute_error, mean_squared_error"
      ],
      "metadata": {
        "id": "FqrYNaxD8i6v"
      },
      "execution_count": 199,
      "outputs": []
    },
    {
      "cell_type": "markdown",
      "source": [
        "To download the dataset from Kaggle you need to generate the API key from kaggle website. You can go through this [article](https://jovian.ai/forum/t/what-is-kaggle-api-key-how-to-get-my-kaggle-key/17721) to understand the process"
      ],
      "metadata": {
        "id": "Sz9gN2XUPbjJ"
      }
    },
    {
      "cell_type": "code",
      "source": [
        "# using pandas library to import the dataset\n",
        "# Setting the data columns to index and for the convience to perfrom data analysis\n",
        "od.download('https://www.kaggle.com/rohanrao/nifty50-stock-market-data?select=ASIANPAINT.csv')\n",
        "df = pd.read_csv(\"/content/nifty50-stock-market-data/HDFCBANK.csv\")\n",
        "df.set_index(\"Date\", drop=False, inplace=True)\n",
        "df.head()"
      ],
      "metadata": {
        "id": "SQn8t16ik6lf",
        "colab": {
          "base_uri": "https://localhost:8080/",
          "height": 299
        },
        "outputId": "de5e93e8-b8e8-42c1-f005-231b185c8aad"
      },
      "execution_count": 200,
      "outputs": [
        {
          "output_type": "stream",
          "name": "stdout",
          "text": [
            "Skipping, found downloaded files in \"./nifty50-stock-market-data\" (use force=True to force download)\n"
          ]
        },
        {
          "output_type": "execute_result",
          "data": {
            "text/html": [
              "\n",
              "  <div id=\"df-941a2115-c8bc-4722-afec-59417852b513\">\n",
              "    <div class=\"colab-df-container\">\n",
              "      <div>\n",
              "<style scoped>\n",
              "    .dataframe tbody tr th:only-of-type {\n",
              "        vertical-align: middle;\n",
              "    }\n",
              "\n",
              "    .dataframe tbody tr th {\n",
              "        vertical-align: top;\n",
              "    }\n",
              "\n",
              "    .dataframe thead th {\n",
              "        text-align: right;\n",
              "    }\n",
              "</style>\n",
              "<table border=\"1\" class=\"dataframe\">\n",
              "  <thead>\n",
              "    <tr style=\"text-align: right;\">\n",
              "      <th></th>\n",
              "      <th>Date</th>\n",
              "      <th>Symbol</th>\n",
              "      <th>Series</th>\n",
              "      <th>Prev Close</th>\n",
              "      <th>Open</th>\n",
              "      <th>High</th>\n",
              "      <th>Low</th>\n",
              "      <th>Last</th>\n",
              "      <th>Close</th>\n",
              "      <th>VWAP</th>\n",
              "      <th>Volume</th>\n",
              "      <th>Turnover</th>\n",
              "      <th>Trades</th>\n",
              "      <th>Deliverable Volume</th>\n",
              "      <th>%Deliverble</th>\n",
              "    </tr>\n",
              "    <tr>\n",
              "      <th>Date</th>\n",
              "      <th></th>\n",
              "      <th></th>\n",
              "      <th></th>\n",
              "      <th></th>\n",
              "      <th></th>\n",
              "      <th></th>\n",
              "      <th></th>\n",
              "      <th></th>\n",
              "      <th></th>\n",
              "      <th></th>\n",
              "      <th></th>\n",
              "      <th></th>\n",
              "      <th></th>\n",
              "      <th></th>\n",
              "      <th></th>\n",
              "    </tr>\n",
              "  </thead>\n",
              "  <tbody>\n",
              "    <tr>\n",
              "      <th>2000-01-03</th>\n",
              "      <td>2000-01-03</td>\n",
              "      <td>HDFCBANK</td>\n",
              "      <td>EQ</td>\n",
              "      <td>157.40</td>\n",
              "      <td>166.00</td>\n",
              "      <td>170.00</td>\n",
              "      <td>166.00</td>\n",
              "      <td>170.00</td>\n",
              "      <td>170.00</td>\n",
              "      <td>169.52</td>\n",
              "      <td>33259</td>\n",
              "      <td>5.638122e+11</td>\n",
              "      <td>NaN</td>\n",
              "      <td>NaN</td>\n",
              "      <td>NaN</td>\n",
              "    </tr>\n",
              "    <tr>\n",
              "      <th>2000-01-04</th>\n",
              "      <td>2000-01-04</td>\n",
              "      <td>HDFCBANK</td>\n",
              "      <td>EQ</td>\n",
              "      <td>170.00</td>\n",
              "      <td>182.00</td>\n",
              "      <td>183.45</td>\n",
              "      <td>171.00</td>\n",
              "      <td>174.00</td>\n",
              "      <td>173.80</td>\n",
              "      <td>174.99</td>\n",
              "      <td>168710</td>\n",
              "      <td>2.952261e+12</td>\n",
              "      <td>NaN</td>\n",
              "      <td>NaN</td>\n",
              "      <td>NaN</td>\n",
              "    </tr>\n",
              "    <tr>\n",
              "      <th>2000-01-05</th>\n",
              "      <td>2000-01-05</td>\n",
              "      <td>HDFCBANK</td>\n",
              "      <td>EQ</td>\n",
              "      <td>173.80</td>\n",
              "      <td>170.00</td>\n",
              "      <td>173.90</td>\n",
              "      <td>165.00</td>\n",
              "      <td>168.00</td>\n",
              "      <td>166.95</td>\n",
              "      <td>169.20</td>\n",
              "      <td>159820</td>\n",
              "      <td>2.704094e+12</td>\n",
              "      <td>NaN</td>\n",
              "      <td>NaN</td>\n",
              "      <td>NaN</td>\n",
              "    </tr>\n",
              "    <tr>\n",
              "      <th>2000-01-06</th>\n",
              "      <td>2000-01-06</td>\n",
              "      <td>HDFCBANK</td>\n",
              "      <td>EQ</td>\n",
              "      <td>166.95</td>\n",
              "      <td>168.00</td>\n",
              "      <td>170.00</td>\n",
              "      <td>165.30</td>\n",
              "      <td>168.95</td>\n",
              "      <td>168.30</td>\n",
              "      <td>168.44</td>\n",
              "      <td>85026</td>\n",
              "      <td>1.432166e+12</td>\n",
              "      <td>NaN</td>\n",
              "      <td>NaN</td>\n",
              "      <td>NaN</td>\n",
              "    </tr>\n",
              "    <tr>\n",
              "      <th>2000-01-07</th>\n",
              "      <td>2000-01-07</td>\n",
              "      <td>HDFCBANK</td>\n",
              "      <td>EQ</td>\n",
              "      <td>168.30</td>\n",
              "      <td>162.15</td>\n",
              "      <td>171.00</td>\n",
              "      <td>162.15</td>\n",
              "      <td>170.75</td>\n",
              "      <td>168.35</td>\n",
              "      <td>166.79</td>\n",
              "      <td>85144</td>\n",
              "      <td>1.420158e+12</td>\n",
              "      <td>NaN</td>\n",
              "      <td>NaN</td>\n",
              "      <td>NaN</td>\n",
              "    </tr>\n",
              "  </tbody>\n",
              "</table>\n",
              "</div>\n",
              "      <button class=\"colab-df-convert\" onclick=\"convertToInteractive('df-941a2115-c8bc-4722-afec-59417852b513')\"\n",
              "              title=\"Convert this dataframe to an interactive table.\"\n",
              "              style=\"display:none;\">\n",
              "        \n",
              "  <svg xmlns=\"http://www.w3.org/2000/svg\" height=\"24px\"viewBox=\"0 0 24 24\"\n",
              "       width=\"24px\">\n",
              "    <path d=\"M0 0h24v24H0V0z\" fill=\"none\"/>\n",
              "    <path d=\"M18.56 5.44l.94 2.06.94-2.06 2.06-.94-2.06-.94-.94-2.06-.94 2.06-2.06.94zm-11 1L8.5 8.5l.94-2.06 2.06-.94-2.06-.94L8.5 2.5l-.94 2.06-2.06.94zm10 10l.94 2.06.94-2.06 2.06-.94-2.06-.94-.94-2.06-.94 2.06-2.06.94z\"/><path d=\"M17.41 7.96l-1.37-1.37c-.4-.4-.92-.59-1.43-.59-.52 0-1.04.2-1.43.59L10.3 9.45l-7.72 7.72c-.78.78-.78 2.05 0 2.83L4 21.41c.39.39.9.59 1.41.59.51 0 1.02-.2 1.41-.59l7.78-7.78 2.81-2.81c.8-.78.8-2.07 0-2.86zM5.41 20L4 18.59l7.72-7.72 1.47 1.35L5.41 20z\"/>\n",
              "  </svg>\n",
              "      </button>\n",
              "      \n",
              "  <style>\n",
              "    .colab-df-container {\n",
              "      display:flex;\n",
              "      flex-wrap:wrap;\n",
              "      gap: 12px;\n",
              "    }\n",
              "\n",
              "    .colab-df-convert {\n",
              "      background-color: #E8F0FE;\n",
              "      border: none;\n",
              "      border-radius: 50%;\n",
              "      cursor: pointer;\n",
              "      display: none;\n",
              "      fill: #1967D2;\n",
              "      height: 32px;\n",
              "      padding: 0 0 0 0;\n",
              "      width: 32px;\n",
              "    }\n",
              "\n",
              "    .colab-df-convert:hover {\n",
              "      background-color: #E2EBFA;\n",
              "      box-shadow: 0px 1px 2px rgba(60, 64, 67, 0.3), 0px 1px 3px 1px rgba(60, 64, 67, 0.15);\n",
              "      fill: #174EA6;\n",
              "    }\n",
              "\n",
              "    [theme=dark] .colab-df-convert {\n",
              "      background-color: #3B4455;\n",
              "      fill: #D2E3FC;\n",
              "    }\n",
              "\n",
              "    [theme=dark] .colab-df-convert:hover {\n",
              "      background-color: #434B5C;\n",
              "      box-shadow: 0px 1px 3px 1px rgba(0, 0, 0, 0.15);\n",
              "      filter: drop-shadow(0px 1px 2px rgba(0, 0, 0, 0.3));\n",
              "      fill: #FFFFFF;\n",
              "    }\n",
              "  </style>\n",
              "\n",
              "      <script>\n",
              "        const buttonEl =\n",
              "          document.querySelector('#df-941a2115-c8bc-4722-afec-59417852b513 button.colab-df-convert');\n",
              "        buttonEl.style.display =\n",
              "          google.colab.kernel.accessAllowed ? 'block' : 'none';\n",
              "\n",
              "        async function convertToInteractive(key) {\n",
              "          const element = document.querySelector('#df-941a2115-c8bc-4722-afec-59417852b513');\n",
              "          const dataTable =\n",
              "            await google.colab.kernel.invokeFunction('convertToInteractive',\n",
              "                                                     [key], {});\n",
              "          if (!dataTable) return;\n",
              "\n",
              "          const docLinkHtml = 'Like what you see? Visit the ' +\n",
              "            '<a target=\"_blank\" href=https://colab.research.google.com/notebooks/data_table.ipynb>data table notebook</a>'\n",
              "            + ' to learn more about interactive tables.';\n",
              "          element.innerHTML = '';\n",
              "          dataTable['output_type'] = 'display_data';\n",
              "          await google.colab.output.renderOutput(dataTable, element);\n",
              "          const docLink = document.createElement('div');\n",
              "          docLink.innerHTML = docLinkHtml;\n",
              "          element.appendChild(docLink);\n",
              "        }\n",
              "      </script>\n",
              "    </div>\n",
              "  </div>\n",
              "  "
            ],
            "text/plain": [
              "                  Date    Symbol  ... Deliverable Volume  %Deliverble\n",
              "Date                              ...                                \n",
              "2000-01-03  2000-01-03  HDFCBANK  ...                NaN          NaN\n",
              "2000-01-04  2000-01-04  HDFCBANK  ...                NaN          NaN\n",
              "2000-01-05  2000-01-05  HDFCBANK  ...                NaN          NaN\n",
              "2000-01-06  2000-01-06  HDFCBANK  ...                NaN          NaN\n",
              "2000-01-07  2000-01-07  HDFCBANK  ...                NaN          NaN\n",
              "\n",
              "[5 rows x 15 columns]"
            ]
          },
          "metadata": {},
          "execution_count": 200
        }
      ]
    },
    {
      "cell_type": "markdown",
      "source": [
        "Before we process any analysis it is important for us to check if any junk data is avaliable in our dataset, If yes then its needs to be cleaned up"
      ],
      "metadata": {
        "id": "8wt8UtLwQYhw"
      }
    },
    {
      "cell_type": "code",
      "source": [
        "df.describe()"
      ],
      "metadata": {
        "colab": {
          "base_uri": "https://localhost:8080/",
          "height": 382
        },
        "id": "cLPZT3JNMgkm",
        "outputId": "b163e81d-c2e6-4ffc-a028-a98c327591c4"
      },
      "execution_count": 201,
      "outputs": [
        {
          "output_type": "execute_result",
          "data": {
            "text/html": [
              "\n",
              "  <div id=\"df-0f324f5c-a4d7-404b-887a-6f91c6c3146f\">\n",
              "    <div class=\"colab-df-container\">\n",
              "      <div>\n",
              "<style scoped>\n",
              "    .dataframe tbody tr th:only-of-type {\n",
              "        vertical-align: middle;\n",
              "    }\n",
              "\n",
              "    .dataframe tbody tr th {\n",
              "        vertical-align: top;\n",
              "    }\n",
              "\n",
              "    .dataframe thead th {\n",
              "        text-align: right;\n",
              "    }\n",
              "</style>\n",
              "<table border=\"1\" class=\"dataframe\">\n",
              "  <thead>\n",
              "    <tr style=\"text-align: right;\">\n",
              "      <th></th>\n",
              "      <th>Prev Close</th>\n",
              "      <th>Open</th>\n",
              "      <th>High</th>\n",
              "      <th>Low</th>\n",
              "      <th>Last</th>\n",
              "      <th>Close</th>\n",
              "      <th>VWAP</th>\n",
              "      <th>Volume</th>\n",
              "      <th>Turnover</th>\n",
              "      <th>Trades</th>\n",
              "      <th>Deliverable Volume</th>\n",
              "      <th>%Deliverble</th>\n",
              "    </tr>\n",
              "  </thead>\n",
              "  <tbody>\n",
              "    <tr>\n",
              "      <th>count</th>\n",
              "      <td>5306.000000</td>\n",
              "      <td>5306.000000</td>\n",
              "      <td>5306.000000</td>\n",
              "      <td>5306.000000</td>\n",
              "      <td>5306.000000</td>\n",
              "      <td>5306.000000</td>\n",
              "      <td>5306.000000</td>\n",
              "      <td>5.306000e+03</td>\n",
              "      <td>5.306000e+03</td>\n",
              "      <td>2456.000000</td>\n",
              "      <td>4.797000e+03</td>\n",
              "      <td>4797.000000</td>\n",
              "    </tr>\n",
              "    <tr>\n",
              "      <th>mean</th>\n",
              "      <td>1007.093884</td>\n",
              "      <td>1007.472767</td>\n",
              "      <td>1019.986939</td>\n",
              "      <td>993.822211</td>\n",
              "      <td>1007.364003</td>\n",
              "      <td>1007.330390</td>\n",
              "      <td>1006.929263</td>\n",
              "      <td>2.102580e+06</td>\n",
              "      <td>2.448837e+14</td>\n",
              "      <td>82923.625407</td>\n",
              "      <td>1.261883e+06</td>\n",
              "      <td>0.595003</td>\n",
              "    </tr>\n",
              "    <tr>\n",
              "      <th>std</th>\n",
              "      <td>635.757762</td>\n",
              "      <td>635.461516</td>\n",
              "      <td>641.444674</td>\n",
              "      <td>629.502818</td>\n",
              "      <td>635.722752</td>\n",
              "      <td>635.675021</td>\n",
              "      <td>635.481917</td>\n",
              "      <td>3.970048e+06</td>\n",
              "      <td>4.778103e+14</td>\n",
              "      <td>93575.061741</td>\n",
              "      <td>2.070127e+06</td>\n",
              "      <td>0.121337</td>\n",
              "    </tr>\n",
              "    <tr>\n",
              "      <th>min</th>\n",
              "      <td>157.400000</td>\n",
              "      <td>162.150000</td>\n",
              "      <td>167.900000</td>\n",
              "      <td>157.000000</td>\n",
              "      <td>163.000000</td>\n",
              "      <td>163.400000</td>\n",
              "      <td>161.400000</td>\n",
              "      <td>1.042000e+03</td>\n",
              "      <td>2.291142e+10</td>\n",
              "      <td>807.000000</td>\n",
              "      <td>4.631000e+03</td>\n",
              "      <td>0.177900</td>\n",
              "    </tr>\n",
              "    <tr>\n",
              "      <th>25%</th>\n",
              "      <td>479.912500</td>\n",
              "      <td>482.112500</td>\n",
              "      <td>486.912500</td>\n",
              "      <td>473.100000</td>\n",
              "      <td>480.700000</td>\n",
              "      <td>480.200000</td>\n",
              "      <td>479.512500</td>\n",
              "      <td>3.058325e+05</td>\n",
              "      <td>1.640025e+13</td>\n",
              "      <td>26850.500000</td>\n",
              "      <td>2.624830e+05</td>\n",
              "      <td>0.517800</td>\n",
              "    </tr>\n",
              "    <tr>\n",
              "      <th>50%</th>\n",
              "      <td>934.750000</td>\n",
              "      <td>939.350000</td>\n",
              "      <td>953.950000</td>\n",
              "      <td>922.175000</td>\n",
              "      <td>935.600000</td>\n",
              "      <td>935.725000</td>\n",
              "      <td>937.455000</td>\n",
              "      <td>9.444650e+05</td>\n",
              "      <td>1.150443e+14</td>\n",
              "      <td>44227.000000</td>\n",
              "      <td>6.271970e+05</td>\n",
              "      <td>0.600200</td>\n",
              "    </tr>\n",
              "    <tr>\n",
              "      <th>75%</th>\n",
              "      <td>1421.000000</td>\n",
              "      <td>1423.525000</td>\n",
              "      <td>1440.000000</td>\n",
              "      <td>1399.000000</td>\n",
              "      <td>1422.812500</td>\n",
              "      <td>1421.000000</td>\n",
              "      <td>1420.567500</td>\n",
              "      <td>2.123647e+06</td>\n",
              "      <td>2.154477e+14</td>\n",
              "      <td>104139.250000</td>\n",
              "      <td>1.433151e+06</td>\n",
              "      <td>0.674000</td>\n",
              "    </tr>\n",
              "    <tr>\n",
              "      <th>max</th>\n",
              "      <td>2565.800000</td>\n",
              "      <td>2566.000000</td>\n",
              "      <td>2583.300000</td>\n",
              "      <td>2553.700000</td>\n",
              "      <td>2563.000000</td>\n",
              "      <td>2565.800000</td>\n",
              "      <td>2570.700000</td>\n",
              "      <td>1.005650e+08</td>\n",
              "      <td>1.426400e+16</td>\n",
              "      <td>790631.000000</td>\n",
              "      <td>6.669683e+07</td>\n",
              "      <td>1.000000</td>\n",
              "    </tr>\n",
              "  </tbody>\n",
              "</table>\n",
              "</div>\n",
              "      <button class=\"colab-df-convert\" onclick=\"convertToInteractive('df-0f324f5c-a4d7-404b-887a-6f91c6c3146f')\"\n",
              "              title=\"Convert this dataframe to an interactive table.\"\n",
              "              style=\"display:none;\">\n",
              "        \n",
              "  <svg xmlns=\"http://www.w3.org/2000/svg\" height=\"24px\"viewBox=\"0 0 24 24\"\n",
              "       width=\"24px\">\n",
              "    <path d=\"M0 0h24v24H0V0z\" fill=\"none\"/>\n",
              "    <path d=\"M18.56 5.44l.94 2.06.94-2.06 2.06-.94-2.06-.94-.94-2.06-.94 2.06-2.06.94zm-11 1L8.5 8.5l.94-2.06 2.06-.94-2.06-.94L8.5 2.5l-.94 2.06-2.06.94zm10 10l.94 2.06.94-2.06 2.06-.94-2.06-.94-.94-2.06-.94 2.06-2.06.94z\"/><path d=\"M17.41 7.96l-1.37-1.37c-.4-.4-.92-.59-1.43-.59-.52 0-1.04.2-1.43.59L10.3 9.45l-7.72 7.72c-.78.78-.78 2.05 0 2.83L4 21.41c.39.39.9.59 1.41.59.51 0 1.02-.2 1.41-.59l7.78-7.78 2.81-2.81c.8-.78.8-2.07 0-2.86zM5.41 20L4 18.59l7.72-7.72 1.47 1.35L5.41 20z\"/>\n",
              "  </svg>\n",
              "      </button>\n",
              "      \n",
              "  <style>\n",
              "    .colab-df-container {\n",
              "      display:flex;\n",
              "      flex-wrap:wrap;\n",
              "      gap: 12px;\n",
              "    }\n",
              "\n",
              "    .colab-df-convert {\n",
              "      background-color: #E8F0FE;\n",
              "      border: none;\n",
              "      border-radius: 50%;\n",
              "      cursor: pointer;\n",
              "      display: none;\n",
              "      fill: #1967D2;\n",
              "      height: 32px;\n",
              "      padding: 0 0 0 0;\n",
              "      width: 32px;\n",
              "    }\n",
              "\n",
              "    .colab-df-convert:hover {\n",
              "      background-color: #E2EBFA;\n",
              "      box-shadow: 0px 1px 2px rgba(60, 64, 67, 0.3), 0px 1px 3px 1px rgba(60, 64, 67, 0.15);\n",
              "      fill: #174EA6;\n",
              "    }\n",
              "\n",
              "    [theme=dark] .colab-df-convert {\n",
              "      background-color: #3B4455;\n",
              "      fill: #D2E3FC;\n",
              "    }\n",
              "\n",
              "    [theme=dark] .colab-df-convert:hover {\n",
              "      background-color: #434B5C;\n",
              "      box-shadow: 0px 1px 3px 1px rgba(0, 0, 0, 0.15);\n",
              "      filter: drop-shadow(0px 1px 2px rgba(0, 0, 0, 0.3));\n",
              "      fill: #FFFFFF;\n",
              "    }\n",
              "  </style>\n",
              "\n",
              "      <script>\n",
              "        const buttonEl =\n",
              "          document.querySelector('#df-0f324f5c-a4d7-404b-887a-6f91c6c3146f button.colab-df-convert');\n",
              "        buttonEl.style.display =\n",
              "          google.colab.kernel.accessAllowed ? 'block' : 'none';\n",
              "\n",
              "        async function convertToInteractive(key) {\n",
              "          const element = document.querySelector('#df-0f324f5c-a4d7-404b-887a-6f91c6c3146f');\n",
              "          const dataTable =\n",
              "            await google.colab.kernel.invokeFunction('convertToInteractive',\n",
              "                                                     [key], {});\n",
              "          if (!dataTable) return;\n",
              "\n",
              "          const docLinkHtml = 'Like what you see? Visit the ' +\n",
              "            '<a target=\"_blank\" href=https://colab.research.google.com/notebooks/data_table.ipynb>data table notebook</a>'\n",
              "            + ' to learn more about interactive tables.';\n",
              "          element.innerHTML = '';\n",
              "          dataTable['output_type'] = 'display_data';\n",
              "          await google.colab.output.renderOutput(dataTable, element);\n",
              "          const docLink = document.createElement('div');\n",
              "          docLink.innerHTML = docLinkHtml;\n",
              "          element.appendChild(docLink);\n",
              "        }\n",
              "      </script>\n",
              "    </div>\n",
              "  </div>\n",
              "  "
            ],
            "text/plain": [
              "        Prev Close         Open  ...  Deliverable Volume  %Deliverble\n",
              "count  5306.000000  5306.000000  ...        4.797000e+03  4797.000000\n",
              "mean   1007.093884  1007.472767  ...        1.261883e+06     0.595003\n",
              "std     635.757762   635.461516  ...        2.070127e+06     0.121337\n",
              "min     157.400000   162.150000  ...        4.631000e+03     0.177900\n",
              "25%     479.912500   482.112500  ...        2.624830e+05     0.517800\n",
              "50%     934.750000   939.350000  ...        6.271970e+05     0.600200\n",
              "75%    1421.000000  1423.525000  ...        1.433151e+06     0.674000\n",
              "max    2565.800000  2566.000000  ...        6.669683e+07     1.000000\n",
              "\n",
              "[8 rows x 12 columns]"
            ]
          },
          "metadata": {},
          "execution_count": 201
        }
      ]
    },
    {
      "cell_type": "code",
      "source": [
        "df.info()"
      ],
      "metadata": {
        "colab": {
          "base_uri": "https://localhost:8080/"
        },
        "id": "zFnQywbpQ0Pb",
        "outputId": "26d72537-0f6c-4fab-9532-08a4cf61b863"
      },
      "execution_count": 202,
      "outputs": [
        {
          "output_type": "stream",
          "name": "stdout",
          "text": [
            "<class 'pandas.core.frame.DataFrame'>\n",
            "Index: 5306 entries, 2000-01-03 to 2021-04-30\n",
            "Data columns (total 15 columns):\n",
            " #   Column              Non-Null Count  Dtype  \n",
            "---  ------              --------------  -----  \n",
            " 0   Date                5306 non-null   object \n",
            " 1   Symbol              5306 non-null   object \n",
            " 2   Series              5306 non-null   object \n",
            " 3   Prev Close          5306 non-null   float64\n",
            " 4   Open                5306 non-null   float64\n",
            " 5   High                5306 non-null   float64\n",
            " 6   Low                 5306 non-null   float64\n",
            " 7   Last                5306 non-null   float64\n",
            " 8   Close               5306 non-null   float64\n",
            " 9   VWAP                5306 non-null   float64\n",
            " 10  Volume              5306 non-null   int64  \n",
            " 11  Turnover            5306 non-null   float64\n",
            " 12  Trades              2456 non-null   float64\n",
            " 13  Deliverable Volume  4797 non-null   float64\n",
            " 14  %Deliverble         4797 non-null   float64\n",
            "dtypes: float64(11), int64(1), object(3)\n",
            "memory usage: 663.2+ KB\n"
          ]
        }
      ]
    },
    {
      "cell_type": "code",
      "source": [
        "def missing_values_table(df):\n",
        "        # Total missing values\n",
        "        mis_val = df.isnull().sum()\n",
        "        \n",
        "        # Percentage of missing values\n",
        "        mis_val_percent = 100 * df.isnull().sum() / len(df)\n",
        "        \n",
        "        # Make a table with the results\n",
        "        mis_val_table = pd.concat([mis_val, mis_val_percent], axis=1)\n",
        "        \n",
        "        # Rename the columns\n",
        "        mis_val_table_ren_columns = mis_val_table.rename(\n",
        "        columns = {0 : 'Missing Values', 1 : '% of Total Values'})\n",
        "        \n",
        "        # Sort the table by percentage of missing descending\n",
        "        mis_val_table_ren_columns = mis_val_table_ren_columns[\n",
        "            mis_val_table_ren_columns.iloc[:,1] != 0].sort_values(\n",
        "        '% of Total Values', ascending=False).round(1)\n",
        "        \n",
        "        # Print some summary information\n",
        "        print (\"Your selected dataframe has \" + str(df.shape[1]) + \" columns.\\n\"      \n",
        "            \"There are \" + str(mis_val_table_ren_columns.shape[0]) +\n",
        "              \" columns that have missing values.\")\n",
        "        \n",
        "        # Return the dataframe with missing information\n",
        "        return mis_val_table_ren_columns"
      ],
      "metadata": {
        "id": "oNELRGVVQ0NO"
      },
      "execution_count": 203,
      "outputs": []
    },
    {
      "cell_type": "code",
      "source": [
        "missing_table=missing_values_table(df)\n",
        "missing_table"
      ],
      "metadata": {
        "colab": {
          "base_uri": "https://localhost:8080/",
          "height": 178
        },
        "id": "g4ttBNtJQ0KA",
        "outputId": "3eb53755-7064-4842-e143-30693b5d06ac"
      },
      "execution_count": 204,
      "outputs": [
        {
          "output_type": "stream",
          "name": "stdout",
          "text": [
            "Your selected dataframe has 15 columns.\n",
            "There are 3 columns that have missing values.\n"
          ]
        },
        {
          "output_type": "execute_result",
          "data": {
            "text/html": [
              "\n",
              "  <div id=\"df-fa760f1f-1992-42e2-99e6-fca522b882a0\">\n",
              "    <div class=\"colab-df-container\">\n",
              "      <div>\n",
              "<style scoped>\n",
              "    .dataframe tbody tr th:only-of-type {\n",
              "        vertical-align: middle;\n",
              "    }\n",
              "\n",
              "    .dataframe tbody tr th {\n",
              "        vertical-align: top;\n",
              "    }\n",
              "\n",
              "    .dataframe thead th {\n",
              "        text-align: right;\n",
              "    }\n",
              "</style>\n",
              "<table border=\"1\" class=\"dataframe\">\n",
              "  <thead>\n",
              "    <tr style=\"text-align: right;\">\n",
              "      <th></th>\n",
              "      <th>Missing Values</th>\n",
              "      <th>% of Total Values</th>\n",
              "    </tr>\n",
              "  </thead>\n",
              "  <tbody>\n",
              "    <tr>\n",
              "      <th>Trades</th>\n",
              "      <td>2850</td>\n",
              "      <td>53.7</td>\n",
              "    </tr>\n",
              "    <tr>\n",
              "      <th>Deliverable Volume</th>\n",
              "      <td>509</td>\n",
              "      <td>9.6</td>\n",
              "    </tr>\n",
              "    <tr>\n",
              "      <th>%Deliverble</th>\n",
              "      <td>509</td>\n",
              "      <td>9.6</td>\n",
              "    </tr>\n",
              "  </tbody>\n",
              "</table>\n",
              "</div>\n",
              "      <button class=\"colab-df-convert\" onclick=\"convertToInteractive('df-fa760f1f-1992-42e2-99e6-fca522b882a0')\"\n",
              "              title=\"Convert this dataframe to an interactive table.\"\n",
              "              style=\"display:none;\">\n",
              "        \n",
              "  <svg xmlns=\"http://www.w3.org/2000/svg\" height=\"24px\"viewBox=\"0 0 24 24\"\n",
              "       width=\"24px\">\n",
              "    <path d=\"M0 0h24v24H0V0z\" fill=\"none\"/>\n",
              "    <path d=\"M18.56 5.44l.94 2.06.94-2.06 2.06-.94-2.06-.94-.94-2.06-.94 2.06-2.06.94zm-11 1L8.5 8.5l.94-2.06 2.06-.94-2.06-.94L8.5 2.5l-.94 2.06-2.06.94zm10 10l.94 2.06.94-2.06 2.06-.94-2.06-.94-.94-2.06-.94 2.06-2.06.94z\"/><path d=\"M17.41 7.96l-1.37-1.37c-.4-.4-.92-.59-1.43-.59-.52 0-1.04.2-1.43.59L10.3 9.45l-7.72 7.72c-.78.78-.78 2.05 0 2.83L4 21.41c.39.39.9.59 1.41.59.51 0 1.02-.2 1.41-.59l7.78-7.78 2.81-2.81c.8-.78.8-2.07 0-2.86zM5.41 20L4 18.59l7.72-7.72 1.47 1.35L5.41 20z\"/>\n",
              "  </svg>\n",
              "      </button>\n",
              "      \n",
              "  <style>\n",
              "    .colab-df-container {\n",
              "      display:flex;\n",
              "      flex-wrap:wrap;\n",
              "      gap: 12px;\n",
              "    }\n",
              "\n",
              "    .colab-df-convert {\n",
              "      background-color: #E8F0FE;\n",
              "      border: none;\n",
              "      border-radius: 50%;\n",
              "      cursor: pointer;\n",
              "      display: none;\n",
              "      fill: #1967D2;\n",
              "      height: 32px;\n",
              "      padding: 0 0 0 0;\n",
              "      width: 32px;\n",
              "    }\n",
              "\n",
              "    .colab-df-convert:hover {\n",
              "      background-color: #E2EBFA;\n",
              "      box-shadow: 0px 1px 2px rgba(60, 64, 67, 0.3), 0px 1px 3px 1px rgba(60, 64, 67, 0.15);\n",
              "      fill: #174EA6;\n",
              "    }\n",
              "\n",
              "    [theme=dark] .colab-df-convert {\n",
              "      background-color: #3B4455;\n",
              "      fill: #D2E3FC;\n",
              "    }\n",
              "\n",
              "    [theme=dark] .colab-df-convert:hover {\n",
              "      background-color: #434B5C;\n",
              "      box-shadow: 0px 1px 3px 1px rgba(0, 0, 0, 0.15);\n",
              "      filter: drop-shadow(0px 1px 2px rgba(0, 0, 0, 0.3));\n",
              "      fill: #FFFFFF;\n",
              "    }\n",
              "  </style>\n",
              "\n",
              "      <script>\n",
              "        const buttonEl =\n",
              "          document.querySelector('#df-fa760f1f-1992-42e2-99e6-fca522b882a0 button.colab-df-convert');\n",
              "        buttonEl.style.display =\n",
              "          google.colab.kernel.accessAllowed ? 'block' : 'none';\n",
              "\n",
              "        async function convertToInteractive(key) {\n",
              "          const element = document.querySelector('#df-fa760f1f-1992-42e2-99e6-fca522b882a0');\n",
              "          const dataTable =\n",
              "            await google.colab.kernel.invokeFunction('convertToInteractive',\n",
              "                                                     [key], {});\n",
              "          if (!dataTable) return;\n",
              "\n",
              "          const docLinkHtml = 'Like what you see? Visit the ' +\n",
              "            '<a target=\"_blank\" href=https://colab.research.google.com/notebooks/data_table.ipynb>data table notebook</a>'\n",
              "            + ' to learn more about interactive tables.';\n",
              "          element.innerHTML = '';\n",
              "          dataTable['output_type'] = 'display_data';\n",
              "          await google.colab.output.renderOutput(dataTable, element);\n",
              "          const docLink = document.createElement('div');\n",
              "          docLink.innerHTML = docLinkHtml;\n",
              "          element.appendChild(docLink);\n",
              "        }\n",
              "      </script>\n",
              "    </div>\n",
              "  </div>\n",
              "  "
            ],
            "text/plain": [
              "                    Missing Values  % of Total Values\n",
              "Trades                        2850               53.7\n",
              "Deliverable Volume             509                9.6\n",
              "%Deliverble                    509                9.6"
            ]
          },
          "metadata": {},
          "execution_count": 204
        }
      ]
    },
    {
      "cell_type": "markdown",
      "source": [
        "We have missing values in Trades, deliverable volumes and %Deliverble. I choose too remove these columns as they might no add any values to our analysis"
      ],
      "metadata": {
        "id": "gUGBvlYLRdT5"
      }
    },
    {
      "cell_type": "code",
      "source": [
        "df.drop(['Trades','Deliverable Volume','%Deliverble'],axis=1,inplace=True)"
      ],
      "metadata": {
        "id": "XNS5NfqDQ0Hj"
      },
      "execution_count": 205,
      "outputs": []
    },
    {
      "cell_type": "markdown",
      "source": [
        "# 3: Expainatory Data Analysis <a name=\"3\"></a>\n",
        "\n",
        "\n",
        "---\n",
        "<a href=\"#top\" class=\"btn btn-primary btn-sm\" role=\"button\" aria-pressed=\"true\" style=\"color:white\" data-toggle=\"popover\">Go to TOC</a> "
      ],
      "metadata": {
        "id": "_MbaSq0pjiRP"
      }
    },
    {
      "cell_type": "markdown",
      "source": [
        "## 3.1 Plotting VWAP over time"
      ],
      "metadata": {
        "id": "_vJOONmEVlVA"
      }
    },
    {
      "cell_type": "code",
      "source": [
        "# Using the pandas library\n",
        "\n",
        "plt.rcParams['figure.figsize'] = (20, 5)\n",
        "plt.title('VWAP over time')\n",
        "df.VWAP.plot() ;"
      ],
      "metadata": {
        "colab": {
          "base_uri": "https://localhost:8080/",
          "height": 350
        },
        "id": "Xu3NBgcCVsdH",
        "outputId": "206d5fc2-6c83-418e-8cdb-03444b7a21d2"
      },
      "execution_count": 206,
      "outputs": [
        {
          "output_type": "display_data",
          "data": {
            "image/png": "[encoded data removed]",
            "text/plain": [
              "<Figure size 1440x360 with 1 Axes>"
            ]
          },
          "metadata": {
            "needs_background": "light"
          }
        }
      ]
    },
    {
      "cell_type": "code",
      "source": [
        "# A pro technique would be to use plotly for interactive visual\n",
        "fig = px.line(df, x='Date', y='VWAP', title='Time Series with Selectors')\n",
        "\n",
        "fig.update_xaxes(\n",
        "    rangeslider_visible=False,\n",
        "    rangeselector=dict(\n",
        "        buttons=list([\n",
        "            dict(count=1, label=\"1m\", step=\"month\", stepmode=\"backward\"),\n",
        "            dict(count=6, label=\"6m\", step=\"month\", stepmode=\"backward\"),\n",
        "            dict(count=1, label=\"YTD\", step=\"year\", stepmode=\"todate\"),\n",
        "            dict(count=1, label=\"1y\", step=\"year\", stepmode=\"backward\"),\n",
        "            dict(step=\"all\")\n",
        "        ])\n",
        "    )\n",
        ")\n",
        "fig.show()"
      ],
      "metadata": {
        "colab": {
          "base_uri": "https://localhost:8080/",
          "height": 542
        },
        "id": "smV7wGpdwRzz",
        "outputId": "eb44d596-fb93-4613-83ea-1090ad9b383c"
      },
      "execution_count": 207,
      "outputs": [
        {
          "output_type": "display_data",
          "data": {
            "text/html": [
              "<html>\n",
              "<head><meta charset=\"utf-8\" /></head>\n",
              "<body>\n",
              "    <div>\n",
              "            <script src=\"https://cdnjs.cloudflare.com/ajax/libs/mathjax/2.7.5/MathJax.js?config=TeX-AMS-MML_SVG\"></script><script type=\"text/javascript\">if (window.MathJax) {MathJax.Hub.Config({SVG: {font: \"STIX-Web\"}});}</script>\n",
              "                <script type=\"text/javascript\">window.PlotlyConfig = {MathJaxConfig: 'local'};</script>\n",
              "        <script src=\"https://cdn.plot.ly/plotly-latest.min.js\"></script>    \n",
              "            <div id=\"3b7a9e43-30af-43d4-a769-91b4b65e6868\" class=\"plotly-graph-div\" style=\"height:525px; width:100%;\"></div>\n",
              "            <script type=\"text/javascript\">\n",
              "                \n",
              "                    window.PLOTLYENV=window.PLOTLYENV || {};\n",
              "                    \n",
              "                if (document.getElementById(\"3b7a9e43-30af-43d4-a769-91b4b65e6868\")) {\n",
              "                    Plotly.newPlot(\n",
              "                        '3b7a9e43-30af-43d4-a769-91b4b65e6868',\n",
              "                        [{\"hoverlabel\": {\"namelength\": 0}, \"hovertemplate\": \"Date=%{x}<br>VWAP=%{y}\", \"legendgroup\": \"\", \"line\": {\"color\": \"#636efa\", \"dash\": \"solid\"}, \"mode\": \"lines\", \"name\": \"\", \"showlegend\": false, \"type\": \"scattergl\", \"x\": [\"2000-01-03\", \"2000-01-04\", \"2000-01-05\", \"2000-01-06\", \"2000-01-07\", \"2000-01-10\", \"2000-01-11\", \"2000-01-12\", \"2000-01-13\", \"2000-01-14\", \"2000-01-17\", \"2000-01-18\", \"2000-01-19\", \"2000-01-20\", \"2000-01-21\", \"2000-01-24\", \"2000-01-25\", \"2000-01-27\", \"2000-01-28\", \"2000-01-31\", \"2000-02-01\", \"2000-02-02\", \"2000-02-03\", \"2000-02-04\", \"2000-02-07\", \"2000-02-08\", \"2000-02-09\", \"2000-02-10\", \"2000-02-11\", \"2000-02-14\", \"2000-02-15\", \"2000-02-16\", \"2000-02-17\", \"2000-02-18\", \"2000-02-21\", \"2000-02-22\", \"2000-02-23\", \"2000-02-24\", \"2000-02-25\", \"2000-02-28\", \"2000-02-29\", \"2000-03-01\", \"2000-03-02\", \"2000-03-03\", \"2000-03-06\", \"2000-03-07\", \"2000-03-08\", \"2000-03-09\", \"2000-03-10\", \"2000-03-13\", \"2000-03-14\", \"2000-03-15\", \"2000-03-16\", \"2000-03-21\", \"2000-03-22\", \"2000-03-23\", \"2000-03-24\", \"2000-03-27\", \"2000-03-28\", \"2000-03-29\", \"2000-03-30\", \"2000-03-31\", \"2000-04-03\", \"2000-04-04\", \"2000-04-05\", \"2000-04-06\", \"2000-04-07\", \"2000-04-10\", \"2000-04-11\", \"2000-04-12\", \"2000-04-13\", \"2000-04-17\", \"2000-04-18\", \"2000-04-19\", \"2000-04-20\", \"2000-04-24\", \"2000-04-25\", \"2000-04-26\", \"2000-04-27\", \"2000-04-28\", \"2000-05-02\", \"2000-05-03\", \"2000-05-04\", \"2000-05-05\", \"2000-05-08\", \"2000-05-09\", \"2000-05-10\", \"2000-05-11\", \"2000-05-12\", \"2000-05-15\", \"2000-05-16\", \"2000-05-17\", \"2000-05-18\", \"2000-05-19\", \"2000-05-22\", \"2000-05-23\", \"2000-05-24\", \"2000-05-25\", \"2000-05-26\", \"2000-05-29\", \"2000-05-30\", \"2000-05-31\", \"2000-06-01\", \"2000-06-02\", \"2000-06-05\", \"2000-06-06\", \"2000-06-07\", \"2000-06-08\", \"2000-06-09\", \"2000-06-12\", \"2000-06-13\", \"2000-06-14\", \"2000-06-15\", \"2000-06-16\", \"2000-06-19\", \"2000-06-20\", \"2000-06-21\", \"2000-06-22\", \"2000-06-23\", \"2000-06-26\", \"2000-06-27\", \"2000-06-28\", \"2000-06-29\", \"2000-06-30\", \"2000-07-03\", \"2000-07-04\", \"2000-07-05\", \"2000-07-06\", \"2000-07-07\", \"2000-07-10\", \"2000-07-11\", \"2000-07-12\", \"2000-07-13\", \"2000-07-14\", \"2000-07-17\", \"2000-07-18\", \"2000-07-19\", \"2000-07-20\", \"2000-07-21\", \"2000-07-24\", \"2000-07-25\", \"2000-07-26\", \"2000-07-27\", \"2000-07-28\", \"2000-07-31\", \"2000-08-01\", \"2000-08-02\", \"2000-08-03\", \"2000-08-04\", \"2000-08-07\", \"2000-08-08\", \"2000-08-09\", \"2000-08-10\", \"2000-08-11\", \"2000-08-14\", \"2000-08-16\", \"2000-08-17\", \"2000-08-18\", \"2000-08-21\", \"2000-08-22\", \"2000-08-23\", \"2000-08-24\", \"2000-08-25\", \"2000-08-28\", \"2000-08-29\", \"2000-08-30\", \"2000-08-31\", \"2000-09-04\", \"2000-09-05\", \"2000-09-06\", \"2000-09-07\", \"2000-09-08\", \"2000-09-11\", \"2000-09-12\", \"2000-09-13\", \"2000-09-14\", \"2000-09-15\", \"2000-09-18\", \"2000-09-19\", \"2000-09-20\", \"2000-09-21\", \"2000-09-22\", \"2000-09-25\", \"2000-09-26\", \"2000-09-27\", \"2000-09-28\", \"2000-09-29\", \"2000-10-03\", \"2000-10-04\", \"2000-10-05\", \"2000-10-06\", \"2000-10-09\", \"2000-10-10\", \"2000-10-11\", \"2000-10-12\", \"2000-10-13\", \"2000-10-16\", \"2000-10-17\", \"2000-10-18\", \"2000-10-19\", \"2000-10-20\", \"2000-10-23\", \"2000-10-24\", \"2000-10-25\", \"2000-10-26\", \"2000-10-27\", \"2000-10-30\", \"2000-10-31\", \"2000-11-01\", \"2000-11-02\", \"2000-11-03\", \"2000-11-06\", \"2000-11-07\", \"2000-11-08\", \"2000-11-09\", \"2000-11-10\", \"2000-11-13\", \"2000-11-14\", \"2000-11-15\", \"2000-11-16\", \"2000-11-17\", \"2000-11-20\", \"2000-11-21\", \"2000-11-22\", \"2000-11-23\", \"2000-11-24\", \"2000-11-27\", \"2000-11-28\", \"2000-11-29\", \"2000-11-30\", \"2000-12-01\", \"2000-12-04\", \"2000-12-05\", \"2000-12-06\", \"2000-12-07\", \"2000-12-08\", \"2000-12-11\", \"2000-12-12\", \"2000-12-13\", \"2000-12-14\", \"2000-12-15\", \"2000-12-18\", \"2000-12-19\", \"2000-12-20\", \"2000-12-21\", \"2000-12-22\", \"2000-12-26\", \"2000-12-27\", \"2000-12-28\", \"2000-12-29\", \"2001-01-01\", \"2001-01-02\", \"2001-01-03\", \"2001-01-04\", \"2001-01-05\", \"2001-01-08\", \"2001-01-09\", \"2001-01-10\", \"2001-01-11\", \"2001-01-12\", \"2001-01-15\", \"2001-01-16\", \"2001-01-17\", \"2001-01-18\", \"2001-01-19\", \"2001-01-22\", \"2001-01-23\", \"2001-01-24\", \"2001-01-25\", \"2001-01-29\", \"2001-01-30\", \"2001-01-31\", \"2001-02-01\", \"2001-02-02\", \"2001-02-05\", \"2001-02-06\", \"2001-02-07\", \"2001-02-08\", \"2001-02-09\", \"2001-02-12\", \"2001-02-13\", \"2001-02-14\", \"2001-02-15\", \"2001-02-16\", \"2001-02-19\", \"2001-02-20\", \"2001-02-21\", \"2001-02-22\", \"2001-02-23\", \"2001-02-26\", \"2001-02-27\", \"2001-02-28\", \"2001-03-01\", \"2001-03-02\", \"2001-03-05\", \"2001-03-07\", \"2001-03-08\", \"2001-03-09\", \"2001-03-12\", \"2001-03-13\", \"2001-03-14\", \"2001-03-15\", \"2001-03-16\", \"2001-03-19\", \"2001-03-20\", \"2001-03-21\", \"2001-03-22\", \"2001-03-23\", \"2001-03-26\", \"2001-03-27\", \"2001-03-28\", \"2001-03-29\", \"2001-03-30\", \"2001-04-02\", \"2001-04-03\", \"2001-04-04\", \"2001-04-06\", \"2001-04-09\", \"2001-04-10\", \"2001-04-11\", \"2001-04-12\", \"2001-04-16\", \"2001-04-17\", \"2001-04-18\", \"2001-04-19\", \"2001-04-20\", \"2001-04-23\", \"2001-04-24\", \"2001-04-25\", \"2001-04-26\", \"2001-04-27\", \"2001-04-30\", \"2001-05-02\", \"2001-05-03\", \"2001-05-04\", \"2001-05-07\", \"2001-05-08\", \"2001-05-09\", \"2001-05-10\", \"2001-05-11\", \"2001-05-14\", \"2001-05-15\", \"2001-05-16\", \"2001-05-17\", \"2001-05-18\", \"2001-05-21\", \"2001-05-22\", \"2001-05-23\", \"2001-05-24\", \"2001-05-25\", \"2001-05-28\", \"2001-05-29\", \"2001-05-30\", \"2001-05-31\", \"2001-06-01\", \"2001-06-04\", \"2001-06-05\", \"2001-06-06\", \"2001-06-07\", \"2001-06-08\", \"2001-06-11\", \"2001-06-12\", \"2001-06-13\", \"2001-06-14\", \"2001-06-15\", \"2001-06-18\", \"2001-06-19\", \"2001-06-20\", \"2001-06-21\", \"2001-06-22\", \"2001-06-25\", \"2001-06-26\", \"2001-06-27\", \"2001-06-28\", \"2001-06-29\", \"2001-07-02\", \"2001-07-03\", \"2001-07-04\", \"2001-07-05\", \"2001-07-06\", \"2001-07-09\", \"2001-07-10\", \"2001-07-11\", \"2001-07-12\", \"2001-07-13\", \"2001-07-16\", \"2001-07-17\", \"2001-07-18\", \"2001-07-19\", \"2001-07-20\", \"2001-07-23\", \"2001-07-24\", \"2001-07-25\", \"2001-07-26\", \"2001-07-27\", \"2001-07-30\", \"2001-07-31\", \"2001-08-01\", \"2001-08-02\", \"2001-08-03\", \"2001-08-06\", \"2001-08-07\", \"2001-08-08\", \"2001-08-09\", \"2001-08-10\", \"2001-08-13\", \"2001-08-14\", \"2001-08-16\", \"2001-08-17\", \"2001-08-20\", \"2001-08-21\", \"2001-08-23\", \"2001-08-24\", \"2001-08-27\", \"2001-08-28\", \"2001-08-29\", \"2001-08-30\", \"2001-08-31\", \"2001-09-03\", \"2001-09-04\", \"2001-09-05\", \"2001-09-06\", \"2001-09-07\", \"2001-09-10\", \"2001-09-11\", \"2001-09-12\", \"2001-09-13\", \"2001-09-14\", \"2001-09-17\", \"2001-09-18\", \"2001-09-19\", \"2001-09-20\", \"2001-09-21\", \"2001-09-24\", \"2001-09-25\", \"2001-09-26\", \"2001-09-27\", \"2001-09-28\", \"2001-10-01\", \"2001-10-03\", \"2001-10-04\", \"2001-10-05\", \"2001-10-08\", \"2001-10-09\", \"2001-10-10\", \"2001-10-11\", \"2001-10-12\", \"2001-10-15\", \"2001-10-16\", \"2001-10-17\", \"2001-10-18\", \"2001-10-19\", \"2001-10-22\", \"2001-10-23\", \"2001-10-24\", \"2001-10-25\", \"2001-10-29\", \"2001-10-30\", \"2001-10-31\", \"2001-11-01\", \"2001-11-02\", \"2001-11-05\", \"2001-11-06\", \"2001-11-07\", \"2001-11-08\", \"2001-11-09\", \"2001-11-12\", \"2001-11-13\", \"2001-11-14\", \"2001-11-15\", \"2001-11-19\", \"2001-11-20\", \"2001-11-21\", \"2001-11-22\", \"2001-11-23\", \"2001-11-26\", \"2001-11-27\", \"2001-11-28\", \"2001-11-29\", \"2001-12-03\", \"2001-12-04\", \"2001-12-05\", \"2001-12-06\", \"2001-12-07\", \"2001-12-10\", \"2001-12-11\", \"2001-12-12\", \"2001-12-13\", \"2001-12-14\", \"2001-12-18\", \"2001-12-19\", \"2001-12-20\", \"2001-12-21\", \"2001-12-24\", \"2001-12-26\", \"2001-12-27\", \"2001-12-28\", \"2001-12-31\", \"2002-01-01\", \"2002-01-02\", \"2002-01-03\", \"2002-01-04\", \"2002-01-07\", \"2002-01-08\", \"2002-01-09\", \"2002-01-10\", \"2002-01-11\", \"2002-01-14\", \"2002-01-15\", \"2002-01-16\", \"2002-01-17\", \"2002-01-18\", \"2002-01-21\", \"2002-01-22\", \"2002-01-23\", \"2002-01-24\", \"2002-01-25\", \"2002-01-28\", \"2002-01-29\", \"2002-01-30\", \"2002-01-31\", \"2002-02-01\", \"2002-02-04\", \"2002-02-05\", \"2002-02-06\", \"2002-02-07\", \"2002-02-08\", \"2002-02-11\", \"2002-02-12\", \"2002-02-13\", \"2002-02-14\", \"2002-02-15\", \"2002-02-18\", \"2002-02-19\", \"2002-02-20\", \"2002-02-21\", \"2002-02-22\", \"2002-02-25\", \"2002-02-26\", \"2002-02-27\", \"2002-02-28\", \"2002-03-01\", \"2002-03-04\", \"2002-03-05\", \"2002-03-06\", \"2002-03-07\", \"2002-03-08\", \"2002-03-11\", \"2002-03-12\", \"2002-03-13\", \"2002-03-14\", \"2002-03-15\", \"2002-03-18\", \"2002-03-19\", \"2002-03-20\", \"2002-03-21\", \"2002-03-22\", \"2002-03-26\", \"2002-03-27\", \"2002-03-28\", \"2002-04-01\", \"2002-04-02\", \"2002-04-03\", \"2002-04-04\", \"2002-04-05\", \"2002-04-08\", \"2002-04-09\", \"2002-04-10\", \"2002-04-11\", \"2002-04-12\", \"2002-04-15\", \"2002-04-16\", \"2002-04-17\", \"2002-04-18\", \"2002-04-19\", \"2002-04-22\", \"2002-04-23\", \"2002-04-24\", \"2002-04-25\", \"2002-04-26\", \"2002-04-29\", \"2002-04-30\", \"2002-05-02\", \"2002-05-03\", \"2002-05-06\", \"2002-05-07\", \"2002-05-08\", \"2002-05-09\", \"2002-05-10\", \"2002-05-13\", \"2002-05-14\", \"2002-05-15\", \"2002-05-16\", \"2002-05-17\", \"2002-05-20\", \"2002-05-21\", \"2002-05-22\", \"2002-05-23\", \"2002-05-24\", \"2002-05-27\", \"2002-05-28\", \"2002-05-29\", \"2002-05-30\", \"2002-05-31\", \"2002-06-03\", \"2002-06-04\", \"2002-06-05\", \"2002-06-06\", \"2002-06-07\", \"2002-06-10\", \"2002-06-11\", \"2002-06-12\", \"2002-06-13\", \"2002-06-14\", \"2002-06-17\", \"2002-06-18\", \"2002-06-19\", \"2002-06-20\", \"2002-06-21\", \"2002-06-24\", \"2002-06-25\", \"2002-06-26\", \"2002-06-27\", \"2002-06-28\", \"2002-07-01\", \"2002-07-02\", \"2002-07-03\", \"2002-07-04\", \"2002-07-05\", \"2002-07-08\", \"2002-07-09\", \"2002-07-10\", \"2002-07-11\", \"2002-07-12\", \"2002-07-15\", \"2002-07-16\", \"2002-07-17\", \"2002-07-18\", \"2002-07-19\", \"2002-07-22\", \"2002-07-23\", \"2002-07-24\", \"2002-07-25\", \"2002-07-26\", \"2002-07-29\", \"2002-07-30\", \"2002-07-31\", \"2002-08-01\", \"2002-08-02\", \"2002-08-05\", \"2002-08-06\", \"2002-08-07\", \"2002-08-08\", \"2002-08-09\", \"2002-08-12\", \"2002-08-13\", \"2002-08-14\", \"2002-08-16\", \"2002-08-19\", \"2002-08-20\", \"2002-08-21\", \"2002-08-22\", \"2002-08-23\", \"2002-08-26\", \"2002-08-27\", \"2002-08-28\", \"2002-08-29\", \"2002-08-30\", \"2002-09-02\", \"2002-09-03\", \"2002-09-04\", \"2002-09-05\", \"2002-09-06\", \"2002-09-09\", \"2002-09-11\", \"2002-09-12\", \"2002-09-13\", \"2002-09-16\", \"2002-09-17\", \"2002-09-18\", \"2002-09-19\", \"2002-09-20\", \"2002-09-23\", \"2002-09-24\", \"2002-09-25\", \"2002-09-26\", \"2002-09-27\", \"2002-09-30\", \"2002-10-01\", \"2002-10-03\", \"2002-10-04\", \"2002-10-07\", \"2002-10-08\", \"2002-10-09\", \"2002-10-10\", \"2002-10-11\", \"2002-10-14\", \"2002-10-16\", \"2002-10-17\", \"2002-10-18\", \"2002-10-21\", \"2002-10-22\", \"2002-10-23\", \"2002-10-24\", \"2002-10-25\", \"2002-10-28\", \"2002-10-29\", \"2002-10-30\", \"2002-10-31\", \"2002-11-01\", \"2002-11-04\", \"2002-11-05\", \"2002-11-07\", \"2002-11-08\", \"2002-11-11\", \"2002-11-12\", \"2002-11-13\", \"2002-11-14\", \"2002-11-15\", \"2002-11-18\", \"2002-11-20\", \"2002-11-21\", \"2002-11-22\", \"2002-11-25\", \"2002-11-26\", \"2002-11-27\", \"2002-11-28\", \"2002-11-29\", \"2002-12-02\", \"2002-12-03\", \"2002-12-04\", \"2002-12-05\", \"2002-12-06\", \"2002-12-09\", \"2002-12-10\", \"2002-12-11\", \"2002-12-12\", \"2002-12-13\", \"2002-12-16\", \"2002-12-17\", \"2002-12-18\", \"2002-12-19\", \"2002-12-20\", \"2002-12-23\", \"2002-12-24\", \"2002-12-26\", \"2002-12-27\", \"2002-12-30\", \"2002-12-31\", \"2003-01-01\", \"2003-01-02\", \"2003-01-03\", \"2003-01-06\", \"2003-01-07\", \"2003-01-08\", \"2003-01-09\", \"2003-01-10\", \"2003-01-13\", \"2003-01-14\", \"2003-01-15\", \"2003-01-16\", \"2003-01-17\", \"2003-01-20\", \"2003-01-21\", \"2003-01-22\", \"2003-01-23\", \"2003-01-24\", \"2003-01-27\", \"2003-01-28\", \"2003-01-29\", \"2003-01-30\", \"2003-01-31\", \"2003-02-03\", \"2003-02-04\", \"2003-02-05\", \"2003-02-06\", \"2003-02-07\", \"2003-02-10\", \"2003-02-11\", \"2003-02-12\", \"2003-02-14\", \"2003-02-17\", \"2003-02-18\", \"2003-02-19\", \"2003-02-20\", \"2003-02-21\", \"2003-02-24\", \"2003-02-25\", \"2003-02-26\", \"2003-02-27\", \"2003-02-28\", \"2003-03-03\", \"2003-03-04\", \"2003-03-05\", \"2003-03-06\", \"2003-03-07\", \"2003-03-10\", \"2003-03-11\", \"2003-03-12\", \"2003-03-13\", \"2003-03-17\", \"2003-03-19\", \"2003-03-20\", \"2003-03-21\", \"2003-03-22\", \"2003-03-24\", \"2003-03-25\", \"2003-03-26\", \"2003-03-27\", \"2003-03-28\", \"2003-03-31\", \"2003-04-01\", \"2003-04-02\", \"2003-04-03\", \"2003-04-04\", \"2003-04-07\", \"2003-04-08\", \"2003-04-09\", \"2003-04-10\", \"2003-04-11\", \"2003-04-15\", \"2003-04-16\", \"2003-04-17\", \"2003-04-21\", \"2003-04-22\", \"2003-04-23\", \"2003-04-24\", \"2003-04-25\", \"2003-04-28\", \"2003-04-29\", \"2003-04-30\", \"2003-05-02\", \"2003-05-05\", \"2003-05-06\", \"2003-05-07\", \"2003-05-08\", \"2003-05-09\", \"2003-05-12\", \"2003-05-13\", \"2003-05-14\", \"2003-05-15\", \"2003-05-16\", \"2003-05-19\", \"2003-05-20\", \"2003-05-21\", \"2003-05-22\", \"2003-05-23\", \"2003-05-26\", \"2003-05-27\", \"2003-05-28\", \"2003-05-29\", \"2003-05-30\", \"2003-06-02\", \"2003-06-03\", \"2003-06-04\", \"2003-06-05\", \"2003-06-06\", \"2003-06-09\", \"2003-06-10\", \"2003-06-11\", \"2003-06-12\", \"2003-06-13\", \"2003-06-16\", \"2003-06-17\", \"2003-06-18\", \"2003-06-19\", \"2003-06-20\", \"2003-06-23\", \"2003-06-24\", \"2003-06-25\", \"2003-06-26\", \"2003-06-27\", \"2003-06-30\", \"2003-07-01\", \"2003-07-02\", \"2003-07-03\", \"2003-07-04\", \"2003-07-07\", \"2003-07-08\", \"2003-07-09\", \"2003-07-10\", \"2003-07-11\", \"2003-07-14\", \"2003-07-15\", \"2003-07-16\", \"2003-07-17\", \"2003-07-18\", \"2003-07-21\", \"2003-07-22\", \"2003-07-23\", \"2003-07-24\", \"2003-07-25\", \"2003-07-28\", \"2003-07-29\", \"2003-07-30\", \"2003-07-31\", \"2003-08-01\", \"2003-08-04\", \"2003-08-05\", \"2003-08-06\", \"2003-08-07\", \"2003-08-08\", \"2003-08-11\", \"2003-08-12\", \"2003-08-13\", \"2003-08-14\", \"2003-08-18\", \"2003-08-19\", \"2003-08-20\", \"2003-08-21\", \"2003-08-22\", \"2003-08-25\", \"2003-08-26\", \"2003-08-27\", \"2003-08-28\", \"2003-08-29\", \"2003-09-01\", \"2003-09-02\", \"2003-09-03\", \"2003-09-04\", \"2003-09-05\", \"2003-09-08\", \"2003-09-09\", \"2003-09-10\", \"2003-09-11\", \"2003-09-12\", \"2003-09-15\", \"2003-09-16\", \"2003-09-17\", \"2003-09-18\", \"2003-09-19\", \"2003-09-22\", \"2003-09-23\", \"2003-09-24\", \"2003-09-25\", \"2003-09-26\", \"2003-09-29\", \"2003-09-30\", \"2003-10-01\", \"2003-10-03\", \"2003-10-06\", \"2003-10-07\", \"2003-10-08\", \"2003-10-09\", \"2003-10-10\", \"2003-10-13\", \"2003-10-14\", \"2003-10-15\", \"2003-10-16\", \"2003-10-17\", \"2003-10-20\", \"2003-10-21\", \"2003-10-22\", \"2003-10-23\", \"2003-10-24\", \"2003-10-25\", \"2003-10-27\", \"2003-10-28\", \"2003-10-29\", \"2003-10-30\", \"2003-10-31\", \"2003-11-03\", \"2003-11-04\", \"2003-11-05\", \"2003-11-06\", \"2003-11-07\", \"2003-11-10\", \"2003-11-11\", \"2003-11-12\", \"2003-11-13\", \"2003-11-14\", \"2003-11-15\", \"2003-11-17\", \"2003-11-18\", \"2003-11-19\", \"2003-11-20\", \"2003-11-21\", \"2003-11-24\", \"2003-11-25\", \"2003-11-27\", \"2003-11-28\", \"2003-12-01\", \"2003-12-02\", \"2003-12-03\", \"2003-12-04\", \"2003-12-05\", \"2003-12-08\", \"2003-12-09\", \"2003-12-10\", \"2003-12-11\", \"2003-12-12\", \"2003-12-15\", \"2003-12-16\", \"2003-12-17\", \"2003-12-18\", \"2003-12-19\", \"2003-12-22\", \"2003-12-23\", \"2003-12-24\", \"2003-12-26\", \"2003-12-29\", \"2003-12-30\", \"2003-12-31\", \"2004-01-01\", \"2004-01-02\", \"2004-01-05\", \"2004-01-06\", \"2004-01-07\", \"2004-01-08\", \"2004-01-09\", \"2004-01-12\", \"2004-01-13\", \"2004-01-14\", \"2004-01-15\", \"2004-01-16\", \"2004-01-19\", \"2004-01-20\", \"2004-01-21\", \"2004-01-22\", \"2004-01-23\", \"2004-01-27\", \"2004-01-28\", \"2004-01-29\", \"2004-01-30\", \"2004-02-03\", \"2004-02-04\", \"2004-02-05\", \"2004-02-06\", \"2004-02-09\", \"2004-02-10\", \"2004-02-11\", \"2004-02-12\", \"2004-02-13\", \"2004-02-16\", \"2004-02-17\", \"2004-02-18\", \"2004-02-19\", \"2004-02-20\", \"2004-02-23\", \"2004-02-24\", \"2004-02-25\", \"2004-02-26\", \"2004-02-27\", \"2004-03-01\", \"2004-03-03\", \"2004-03-04\", \"2004-03-05\", \"2004-03-08\", \"2004-03-09\", \"2004-03-10\", \"2004-03-11\", \"2004-03-12\", \"2004-03-15\", \"2004-03-16\", \"2004-03-17\", \"2004-03-18\", \"2004-03-19\", \"2004-03-22\", \"2004-03-23\", \"2004-03-24\", \"2004-03-25\", \"2004-03-26\", \"2004-03-29\", \"2004-03-30\", \"2004-03-31\", \"2004-04-01\", \"2004-04-02\", \"2004-04-05\", \"2004-04-06\", \"2004-04-07\", \"2004-04-08\", \"2004-04-12\", \"2004-04-13\", \"2004-04-15\", \"2004-04-16\", \"2004-04-17\", \"2004-04-19\", \"2004-04-20\", \"2004-04-21\", \"2004-04-22\", \"2004-04-23\", \"2004-04-27\", \"2004-04-28\", \"2004-04-29\", \"2004-04-30\", \"2004-05-03\", \"2004-05-04\", \"2004-05-05\", \"2004-05-06\", \"2004-05-07\", \"2004-05-10\", \"2004-05-11\", \"2004-05-12\", \"2004-05-13\", \"2004-05-14\", \"2004-05-17\", \"2004-05-18\", \"2004-05-19\", \"2004-05-20\", \"2004-05-21\", \"2004-05-24\", \"2004-05-25\", \"2004-05-26\", \"2004-05-27\", \"2004-05-28\", \"2004-05-31\", \"2004-06-01\", \"2004-06-02\", \"2004-06-03\", \"2004-06-04\", \"2004-06-07\", \"2004-06-08\", \"2004-06-09\", \"2004-06-10\", \"2004-06-11\", \"2004-06-14\", \"2004-06-15\", \"2004-06-16\", \"2004-06-17\", \"2004-06-18\", \"2004-06-21\", \"2004-06-22\", \"2004-06-23\", \"2004-06-24\", \"2004-06-25\", \"2004-06-28\", \"2004-06-29\", \"2004-06-30\", \"2004-07-01\", \"2004-07-02\", \"2004-07-05\", \"2004-07-06\", \"2004-07-07\", \"2004-07-08\", \"2004-07-09\", \"2004-07-12\", \"2004-07-13\", \"2004-07-14\", \"2004-07-15\", \"2004-07-16\", \"2004-07-19\", \"2004-07-20\", \"2004-07-21\", \"2004-07-22\", \"2004-07-23\", \"2004-07-26\", \"2004-07-27\", \"2004-07-28\", \"2004-07-29\", \"2004-07-30\", \"2004-08-02\", \"2004-08-03\", \"2004-08-04\", \"2004-08-05\", \"2004-08-06\", \"2004-08-09\", \"2004-08-10\", \"2004-08-11\", \"2004-08-12\", \"2004-08-13\", \"2004-08-16\", \"2004-08-17\", \"2004-08-18\", \"2004-08-19\", \"2004-08-20\", \"2004-08-23\", \"2004-08-24\", \"2004-08-25\", \"2004-08-26\", \"2004-08-27\", \"2004-08-30\", \"2004-08-31\", \"2004-09-01\", \"2004-09-02\", \"2004-09-03\", \"2004-09-06\", \"2004-09-07\", \"2004-09-08\", \"2004-09-09\", \"2004-09-10\", \"2004-09-13\", \"2004-09-14\", \"2004-09-15\", \"2004-09-16\", \"2004-09-17\", \"2004-09-20\", \"2004-09-21\", \"2004-09-22\", \"2004-09-23\", \"2004-09-24\", \"2004-09-27\", \"2004-09-28\", \"2004-09-29\", \"2004-09-30\", \"2004-10-01\", \"2004-10-04\", \"2004-10-05\", \"2004-10-06\", \"2004-10-07\", \"2004-10-08\", \"2004-10-09\", \"2004-10-11\", \"2004-10-12\", \"2004-10-14\", \"2004-10-15\", \"2004-10-18\", \"2004-10-19\", \"2004-10-20\", \"2004-10-21\", \"2004-10-25\", \"2004-10-26\", \"2004-10-27\", \"2004-10-28\", \"2004-10-29\", \"2004-11-01\", \"2004-11-02\", \"2004-11-03\", \"2004-11-04\", \"2004-11-05\", \"2004-11-08\", \"2004-11-09\", \"2004-11-10\", \"2004-11-11\", \"2004-11-12\", \"2004-11-16\", \"2004-11-17\", \"2004-11-18\", \"2004-11-19\", \"2004-11-22\", \"2004-11-23\", \"2004-11-24\", \"2004-11-25\", \"2004-11-29\", \"2004-11-30\", \"2004-12-01\", \"2004-12-02\", \"2004-12-03\", \"2004-12-06\", \"2004-12-07\", \"2004-12-08\", \"2004-12-09\", \"2004-12-10\", \"2004-12-13\", \"2004-12-14\", \"2004-12-15\", \"2004-12-16\", \"2004-12-17\", \"2004-12-20\", \"2004-12-21\", \"2004-12-22\", \"2004-12-23\", \"2004-12-24\", \"2004-12-27\", \"2004-12-28\", \"2004-12-29\", \"2004-12-30\", \"2004-12-31\", \"2005-01-03\", \"2005-01-04\", \"2005-01-05\", \"2005-01-06\", \"2005-01-07\", \"2005-01-10\", \"2005-01-11\", \"2005-01-12\", \"2005-01-13\", \"2005-01-14\", \"2005-01-17\", \"2005-01-18\", \"2005-01-19\", \"2005-01-20\", \"2005-01-24\", \"2005-01-25\", \"2005-01-27\", \"2005-01-28\", \"2005-01-31\", \"2005-02-01\", \"2005-02-02\", \"2005-02-03\", \"2005-02-04\", \"2005-02-07\", \"2005-02-08\", \"2005-02-09\", \"2005-02-10\", \"2005-02-11\", \"2005-02-14\", \"2005-02-15\", \"2005-02-16\", \"2005-02-17\", \"2005-02-18\", \"2005-02-21\", \"2005-02-22\", \"2005-02-23\", \"2005-02-24\", \"2005-02-25\", \"2005-02-28\", \"2005-03-01\", \"2005-03-02\", \"2005-03-03\", \"2005-03-04\", \"2005-03-07\", \"2005-03-08\", \"2005-03-09\", \"2005-03-10\", \"2005-03-11\", \"2005-03-14\", \"2005-03-15\", \"2005-03-16\", \"2005-03-17\", \"2005-03-18\", \"2005-03-21\", \"2005-03-22\", \"2005-03-23\", \"2005-03-24\", \"2005-03-28\", \"2005-03-29\", \"2005-03-30\", \"2005-03-31\", \"2005-04-01\", \"2005-04-04\", \"2005-04-05\", \"2005-04-06\", \"2005-04-07\", \"2005-04-08\", \"2005-04-11\", \"2005-04-12\", \"2005-04-13\", \"2005-04-15\", \"2005-04-18\", \"2005-04-19\", \"2005-04-20\", \"2005-04-21\", \"2005-04-22\", \"2005-04-25\", \"2005-04-26\", \"2005-04-27\", \"2005-04-28\", \"2005-04-29\", \"2005-05-02\", \"2005-05-03\", \"2005-05-04\", \"2005-05-05\", \"2005-05-06\", \"2005-05-09\", \"2005-05-10\", \"2005-05-11\", \"2005-05-12\", \"2005-05-13\", \"2005-05-16\", \"2005-05-17\", \"2005-05-18\", \"2005-05-19\", \"2005-05-20\", \"2005-05-23\", \"2005-05-24\", \"2005-05-25\", \"2005-05-26\", \"2005-05-27\", \"2005-05-30\", \"2005-05-31\", \"2005-06-01\", \"2005-06-02\", \"2005-06-03\", \"2005-06-04\", \"2005-06-06\", \"2005-06-07\", \"2005-06-08\", \"2005-06-09\", \"2005-06-10\", \"2005-06-13\", \"2005-06-14\", \"2005-06-15\", \"2005-06-16\", \"2005-06-17\", \"2005-06-20\", \"2005-06-21\", \"2005-06-22\", \"2005-06-23\", \"2005-06-24\", \"2005-06-27\", \"2005-06-28\", \"2005-06-29\", \"2005-06-30\", \"2005-07-01\", \"2005-07-04\", \"2005-07-05\", \"2005-07-06\", \"2005-07-07\", \"2005-07-08\", \"2005-07-11\", \"2005-07-12\", \"2005-07-13\", \"2005-07-14\", \"2005-07-15\", \"2005-07-18\", \"2005-07-19\", \"2005-07-20\", \"2005-07-21\", \"2005-07-22\", \"2005-07-25\", \"2005-07-26\", \"2005-07-27\", \"2005-07-29\", \"2005-08-01\", \"2005-08-02\", \"2005-08-03\", \"2005-08-04\", \"2005-08-05\", \"2005-08-08\", \"2005-08-09\", \"2005-08-10\", \"2005-08-11\", \"2005-08-12\", \"2005-08-16\", \"2005-08-17\", \"2005-08-18\", \"2005-08-19\", \"2005-08-22\", \"2005-08-23\", \"2005-08-24\", \"2005-08-25\", \"2005-08-26\", \"2005-08-29\", \"2005-08-30\", \"2005-08-31\", \"2005-09-01\", \"2005-09-02\", \"2005-09-05\", \"2005-09-06\", \"2005-09-08\", \"2005-09-09\", \"2005-09-12\", \"2005-09-13\", \"2005-09-14\", \"2005-09-15\", \"2005-09-16\", \"2005-09-19\", \"2005-09-20\", \"2005-09-21\", \"2005-09-22\", \"2005-09-23\", \"2005-09-26\", \"2005-09-27\", \"2005-09-28\", \"2005-09-29\", \"2005-09-30\", \"2005-10-03\", \"2005-10-04\", \"2005-10-05\", \"2005-10-06\", \"2005-10-07\", \"2005-10-10\", \"2005-10-11\", \"2005-10-13\", \"2005-10-14\", \"2005-10-17\", \"2005-10-18\", \"2005-10-19\", \"2005-10-20\", \"2005-10-21\", \"2005-10-24\", \"2005-10-25\", \"2005-10-26\", \"2005-10-27\", \"2005-10-28\", \"2005-10-31\", \"2005-11-01\", \"2005-11-02\", \"2005-11-07\", \"2005-11-08\", \"2005-11-09\", \"2005-11-10\", \"2005-11-11\", \"2005-11-14\", \"2005-11-16\", \"2005-11-17\", \"2005-11-18\", \"2005-11-21\", \"2005-11-22\", \"2005-11-23\", \"2005-11-24\", \"2005-11-25\", \"2005-11-26\", \"2005-11-28\", \"2005-11-29\", \"2005-11-30\", \"2005-12-01\", \"2005-12-02\", \"2005-12-05\", \"2005-12-06\", \"2005-12-07\", \"2005-12-08\", \"2005-12-09\", \"2005-12-12\", \"2005-12-13\", \"2005-12-14\", \"2005-12-15\", \"2005-12-16\", \"2005-12-19\", \"2005-12-20\", \"2005-12-21\", \"2005-12-22\", \"2005-12-23\", \"2005-12-26\", \"2005-12-27\", \"2005-12-28\", \"2005-12-29\", \"2005-12-30\", \"2006-01-02\", \"2006-01-03\", \"2006-01-04\", \"2006-01-05\", \"2006-01-06\", \"2006-01-09\", \"2006-01-10\", \"2006-01-12\", \"2006-01-13\", \"2006-01-16\", \"2006-01-17\", \"2006-01-18\", \"2006-01-19\", \"2006-01-20\", \"2006-01-23\", \"2006-01-24\", \"2006-01-25\", \"2006-01-27\", \"2006-01-30\", \"2006-01-31\", \"2006-02-01\", \"2006-02-02\", \"2006-02-03\", \"2006-02-06\", \"2006-02-07\", \"2006-02-08\", \"2006-02-10\", \"2006-02-13\", \"2006-02-14\", \"2006-02-15\", \"2006-02-16\", \"2006-02-17\", \"2006-02-20\", \"2006-02-21\", \"2006-02-22\", \"2006-02-23\", \"2006-02-24\", \"2006-02-27\", \"2006-02-28\", \"2006-03-01\", \"2006-03-02\", \"2006-03-03\", \"2006-03-06\", \"2006-03-07\", \"2006-03-08\", \"2006-03-09\", \"2006-03-10\", \"2006-03-13\", \"2006-03-14\", \"2006-03-16\", \"2006-03-17\", \"2006-03-20\", \"2006-03-21\", \"2006-03-22\", \"2006-03-23\", \"2006-03-24\", \"2006-03-27\", \"2006-03-28\", \"2006-03-29\", \"2006-03-30\", \"2006-03-31\", \"2006-04-03\", \"2006-04-04\", \"2006-04-05\", \"2006-04-07\", \"2006-04-10\", \"2006-04-12\", \"2006-04-13\", \"2006-04-17\", \"2006-04-18\", \"2006-04-19\", \"2006-04-20\", \"2006-04-21\", \"2006-04-24\", \"2006-04-25\", \"2006-04-26\", \"2006-04-27\", \"2006-04-28\", \"2006-04-29\", \"2006-05-02\", \"2006-05-03\", \"2006-05-04\", \"2006-05-05\", \"2006-05-08\", \"2006-05-09\", \"2006-05-10\", \"2006-05-11\", \"2006-05-12\", \"2006-05-15\", \"2006-05-16\", \"2006-05-17\", \"2006-05-18\", \"2006-05-19\", \"2006-05-22\", \"2006-05-23\", \"2006-05-24\", \"2006-05-25\", \"2006-05-26\", \"2006-05-29\", \"2006-05-30\", \"2006-05-31\", \"2006-06-01\", \"2006-06-02\", \"2006-06-05\", \"2006-06-06\", \"2006-06-07\", \"2006-06-08\", \"2006-06-09\", \"2006-06-12\", \"2006-06-13\", \"2006-06-14\", \"2006-06-15\", \"2006-06-16\", \"2006-06-19\", \"2006-06-20\", \"2006-06-21\", \"2006-06-22\", \"2006-06-23\", \"2006-06-25\", \"2006-06-26\", \"2006-06-27\", \"2006-06-28\", \"2006-06-29\", \"2006-06-30\", \"2006-07-03\", \"2006-07-04\", \"2006-07-05\", \"2006-07-06\", \"2006-07-07\", \"2006-07-10\", \"2006-07-11\", \"2006-07-12\", \"2006-07-13\", \"2006-07-14\", \"2006-07-17\", \"2006-07-18\", \"2006-07-19\", \"2006-07-20\", \"2006-07-21\", \"2006-07-24\", \"2006-07-25\", \"2006-07-26\", \"2006-07-27\", \"2006-07-28\", \"2006-07-31\", \"2006-08-01\", \"2006-08-02\", \"2006-08-03\", \"2006-08-04\", \"2006-08-07\", \"2006-08-08\", \"2006-08-09\", \"2006-08-10\", \"2006-08-11\", \"2006-08-14\", \"2006-08-16\", \"2006-08-17\", \"2006-08-18\", \"2006-08-21\", \"2006-08-22\", \"2006-08-23\", \"2006-08-24\", \"2006-08-25\", \"2006-08-28\", \"2006-08-29\", \"2006-08-30\", \"2006-08-31\", \"2006-09-01\", \"2006-09-04\", \"2006-09-05\", \"2006-09-06\", \"2006-09-07\", \"2006-09-08\", \"2006-09-11\", \"2006-09-12\", \"2006-09-13\", \"2006-09-14\", \"2006-09-15\", \"2006-09-18\", \"2006-09-19\", \"2006-09-20\", \"2006-09-21\", \"2006-09-22\", \"2006-09-25\", \"2006-09-26\", \"2006-09-27\", \"2006-09-28\", \"2006-09-29\", \"2006-10-03\", \"2006-10-04\", \"2006-10-05\", \"2006-10-06\", \"2006-10-09\", \"2006-10-10\", \"2006-10-11\", \"2006-10-12\", \"2006-10-13\", \"2006-10-16\", \"2006-10-17\", \"2006-10-18\", \"2006-10-19\", \"2006-10-20\", \"2006-10-21\", \"2006-10-23\", \"2006-10-26\", \"2006-10-27\", \"2006-10-30\", \"2006-10-31\", \"2006-11-01\", \"2006-11-02\", \"2006-11-03\", \"2006-11-06\", \"2006-11-07\", \"2006-11-08\", \"2006-11-09\", \"2006-11-10\", \"2006-11-13\", \"2006-11-14\", \"2006-11-15\", \"2006-11-16\", \"2006-11-17\", \"2006-11-20\", \"2006-11-21\", \"2006-11-22\", \"2006-11-23\", \"2006-11-24\", \"2006-11-27\", \"2006-11-28\", \"2006-11-29\", \"2006-11-30\", \"2006-12-01\", \"2006-12-04\", \"2006-12-05\", \"2006-12-06\", \"2006-12-07\", \"2006-12-08\", \"2006-12-11\", \"2006-12-12\", \"2006-12-13\", \"2006-12-14\", \"2006-12-15\", \"2006-12-18\", \"2006-12-19\", \"2006-12-20\", \"2006-12-21\", \"2006-12-22\", \"2006-12-26\", \"2006-12-27\", \"2006-12-28\", \"2006-12-29\", \"2007-01-02\", \"2007-01-03\", \"2007-01-04\", \"2007-01-05\", \"2007-01-08\", \"2007-01-09\", \"2007-01-10\", \"2007-01-11\", \"2007-01-12\", \"2007-01-15\", \"2007-01-16\", \"2007-01-17\", \"2007-01-18\", \"2007-01-19\", \"2007-01-22\", \"2007-01-23\", \"2007-01-24\", \"2007-01-25\", \"2007-01-29\", \"2007-01-31\", \"2007-02-01\", \"2007-02-02\", \"2007-02-05\", \"2007-02-06\", \"2007-02-07\", \"2007-02-08\", \"2007-02-09\", \"2007-02-12\", \"2007-02-13\", \"2007-02-14\", \"2007-02-15\", \"2007-02-19\", \"2007-02-20\", \"2007-02-21\", \"2007-02-22\", \"2007-02-23\", \"2007-02-26\", \"2007-02-27\", \"2007-02-28\", \"2007-03-01\", \"2007-03-02\", \"2007-03-05\", \"2007-03-06\", \"2007-03-07\", \"2007-03-08\", \"2007-03-09\", \"2007-03-12\", \"2007-03-13\", \"2007-03-14\", \"2007-03-15\", \"2007-03-16\", \"2007-03-19\", \"2007-03-20\", \"2007-03-21\", \"2007-03-22\", \"2007-03-23\", \"2007-03-26\", \"2007-03-28\", \"2007-03-29\", \"2007-03-30\", \"2007-04-02\", \"2007-04-03\", \"2007-04-04\", \"2007-04-05\", \"2007-04-09\", \"2007-04-10\", \"2007-04-11\", \"2007-04-12\", \"2007-04-13\", \"2007-04-16\", \"2007-04-17\", \"2007-04-18\", \"2007-04-19\", \"2007-04-20\", \"2007-04-23\", \"2007-04-24\", \"2007-04-25\", \"2007-04-26\", \"2007-04-27\", \"2007-04-30\", \"2007-05-03\", \"2007-05-04\", \"2007-05-07\", \"2007-05-08\", \"2007-05-09\", \"2007-05-10\", \"2007-05-11\", \"2007-05-14\", \"2007-05-15\", \"2007-05-16\", \"2007-05-17\", \"2007-05-18\", \"2007-05-21\", \"2007-05-22\", \"2007-05-23\", \"2007-05-24\", \"2007-05-25\", \"2007-05-28\", \"2007-05-29\", \"2007-05-30\", \"2007-05-31\", \"2007-06-01\", \"2007-06-04\", \"2007-06-05\", \"2007-06-06\", \"2007-06-07\", \"2007-06-08\", \"2007-06-11\", \"2007-06-12\", \"2007-06-13\", \"2007-06-14\", \"2007-06-15\", \"2007-06-18\", \"2007-06-19\", \"2007-06-20\", \"2007-06-21\", \"2007-06-22\", \"2007-06-25\", \"2007-06-26\", \"2007-06-27\", \"2007-06-28\", \"2007-06-29\", \"2007-07-02\", \"2007-07-03\", \"2007-07-04\", \"2007-07-05\", \"2007-07-06\", \"2007-07-09\", \"2007-07-10\", \"2007-07-11\", \"2007-07-12\", \"2007-07-13\", \"2007-07-16\", \"2007-07-17\", \"2007-07-18\", \"2007-07-19\", \"2007-07-20\", \"2007-07-23\", \"2007-07-24\", \"2007-07-25\", \"2007-07-26\", \"2007-07-27\", \"2007-07-30\", \"2007-07-31\", \"2007-08-01\", \"2007-08-02\", \"2007-08-03\", \"2007-08-06\", \"2007-08-07\", \"2007-08-08\", \"2007-08-09\", \"2007-08-10\", \"2007-08-13\", \"2007-08-14\", \"2007-08-16\", \"2007-08-17\", \"2007-08-20\", \"2007-08-21\", \"2007-08-22\", \"2007-08-23\", \"2007-08-24\", \"2007-08-27\", \"2007-08-28\", \"2007-08-29\", \"2007-08-30\", \"2007-08-31\", \"2007-09-03\", \"2007-09-04\", \"2007-09-05\", \"2007-09-06\", \"2007-09-07\", \"2007-09-10\", \"2007-09-11\", \"2007-09-12\", \"2007-09-13\", \"2007-09-14\", \"2007-09-17\", \"2007-09-18\", \"2007-09-19\", \"2007-09-20\", \"2007-09-21\", \"2007-09-24\", \"2007-09-25\", \"2007-09-26\", \"2007-09-27\", \"2007-09-28\", \"2007-10-01\", \"2007-10-03\", \"2007-10-04\", \"2007-10-05\", \"2007-10-08\", \"2007-10-09\", \"2007-10-10\", \"2007-10-11\", \"2007-10-12\", \"2007-10-15\", \"2007-10-16\", \"2007-10-17\", \"2007-10-18\", \"2007-10-19\", \"2007-10-22\", \"2007-10-23\", \"2007-10-24\", \"2007-10-25\", \"2007-10-26\", \"2007-10-29\", \"2007-10-30\", \"2007-10-31\", \"2007-11-01\", \"2007-11-02\", \"2007-11-05\", \"2007-11-06\", \"2007-11-07\", \"2007-11-08\", \"2007-11-09\", \"2007-11-12\", \"2007-11-13\", \"2007-11-14\", \"2007-11-15\", \"2007-11-16\", \"2007-11-19\", \"2007-11-20\", \"2007-11-21\", \"2007-11-22\", \"2007-11-23\", \"2007-11-26\", \"2007-11-27\", \"2007-11-28\", \"2007-11-29\", \"2007-11-30\", \"2007-12-03\", \"2007-12-04\", \"2007-12-05\", \"2007-12-06\", \"2007-12-07\", \"2007-12-10\", \"2007-12-11\", \"2007-12-12\", \"2007-12-13\", \"2007-12-14\", \"2007-12-17\", \"2007-12-18\", \"2007-12-19\", \"2007-12-20\", \"2007-12-24\", \"2007-12-26\", \"2007-12-27\", \"2007-12-28\", \"2007-12-31\", \"2008-01-01\", \"2008-01-02\", \"2008-01-03\", \"2008-01-04\", \"2008-01-07\", \"2008-01-08\", \"2008-01-09\", \"2008-01-10\", \"2008-01-11\", \"2008-01-14\", \"2008-01-15\", \"2008-01-16\", \"2008-01-17\", \"2008-01-18\", \"2008-01-21\", \"2008-01-22\", \"2008-01-23\", \"2008-01-24\", \"2008-01-25\", \"2008-01-28\", \"2008-01-29\", \"2008-01-30\", \"2008-01-31\", \"2008-02-01\", \"2008-02-04\", \"2008-02-05\", \"2008-02-06\", \"2008-02-07\", \"2008-02-08\", \"2008-02-11\", \"2008-02-12\", \"2008-02-13\", \"2008-02-14\", \"2008-02-15\", \"2008-02-18\", \"2008-02-19\", \"2008-02-20\", \"2008-02-21\", \"2008-02-22\", \"2008-02-25\", \"2008-02-26\", \"2008-02-27\", \"2008-02-28\", \"2008-02-29\", \"2008-03-03\", \"2008-03-04\", \"2008-03-05\", \"2008-03-07\", \"2008-03-10\", \"2008-03-11\", \"2008-03-12\", \"2008-03-13\", \"2008-03-14\", \"2008-03-17\", \"2008-03-18\", \"2008-03-19\", \"2008-03-24\", \"2008-03-25\", \"2008-03-26\", \"2008-03-27\", \"2008-03-28\", \"2008-03-31\", \"2008-04-01\", \"2008-04-02\", \"2008-04-03\", \"2008-04-04\", \"2008-04-07\", \"2008-04-08\", \"2008-04-09\", \"2008-04-10\", \"2008-04-11\", \"2008-04-15\", \"2008-04-16\", \"2008-04-17\", \"2008-04-21\", \"2008-04-22\", \"2008-04-23\", \"2008-04-24\", \"2008-04-25\", \"2008-04-28\", \"2008-04-29\", \"2008-04-30\", \"2008-05-02\", \"2008-05-05\", \"2008-05-06\", \"2008-05-07\", \"2008-05-08\", \"2008-05-09\", \"2008-05-12\", \"2008-05-13\", \"2008-05-14\", \"2008-05-15\", \"2008-05-16\", \"2008-05-20\", \"2008-05-21\", \"2008-05-22\", \"2008-05-23\", \"2008-05-26\", \"2008-05-27\", \"2008-05-28\", \"2008-05-29\", \"2008-05-30\", \"2008-06-02\", \"2008-06-03\", \"2008-06-04\", \"2008-06-05\", \"2008-06-06\", \"2008-06-09\", \"2008-06-10\", \"2008-06-11\", \"2008-06-12\", \"2008-06-13\", \"2008-06-16\", \"2008-06-17\", \"2008-06-18\", \"2008-06-19\", \"2008-06-20\", \"2008-06-23\", \"2008-06-24\", \"2008-06-25\", \"2008-06-26\", \"2008-06-27\", \"2008-06-30\", \"2008-07-01\", \"2008-07-02\", \"2008-07-03\", \"2008-07-04\", \"2008-07-07\", \"2008-07-08\", \"2008-07-09\", \"2008-07-10\", \"2008-07-11\", \"2008-07-14\", \"2008-07-15\", \"2008-07-16\", \"2008-07-17\", \"2008-07-18\", \"2008-07-21\", \"2008-07-22\", \"2008-07-23\", \"2008-07-24\", \"2008-07-25\", \"2008-07-28\", \"2008-07-29\", \"2008-07-30\", \"2008-07-31\", \"2008-08-01\", \"2008-08-04\", \"2008-08-05\", \"2008-08-06\", \"2008-08-07\", \"2008-08-08\", \"2008-08-11\", \"2008-08-12\", \"2008-08-13\", \"2008-08-14\", \"2008-08-18\", \"2008-08-19\", \"2008-08-20\", \"2008-08-21\", \"2008-08-22\", \"2008-08-25\", \"2008-08-26\", \"2008-08-27\", \"2008-08-28\", \"2008-08-29\", \"2008-09-01\", \"2008-09-02\", \"2008-09-04\", \"2008-09-05\", \"2008-09-08\", \"2008-09-09\", \"2008-09-10\", \"2008-09-11\", \"2008-09-12\", \"2008-09-15\", \"2008-09-16\", \"2008-09-17\", \"2008-09-18\", \"2008-09-19\", \"2008-09-22\", \"2008-09-23\", \"2008-09-24\", \"2008-09-25\", \"2008-09-26\", \"2008-09-29\", \"2008-09-30\", \"2008-10-01\", \"2008-10-03\", \"2008-10-06\", \"2008-10-07\", \"2008-10-08\", \"2008-10-10\", \"2008-10-13\", \"2008-10-14\", \"2008-10-15\", \"2008-10-16\", \"2008-10-17\", \"2008-10-20\", \"2008-10-21\", \"2008-10-22\", \"2008-10-23\", \"2008-10-24\", \"2008-10-27\", \"2008-10-28\", \"2008-10-29\", \"2008-10-31\", \"2008-11-03\", \"2008-11-04\", \"2008-11-05\", \"2008-11-06\", \"2008-11-07\", \"2008-11-10\", \"2008-11-11\", \"2008-11-12\", \"2008-11-14\", \"2008-11-17\", \"2008-11-18\", \"2008-11-19\", \"2008-11-20\", \"2008-11-21\", \"2008-11-24\", \"2008-11-25\", \"2008-11-26\", \"2008-11-28\", \"2008-12-01\", \"2008-12-02\", \"2008-12-03\", \"2008-12-04\", \"2008-12-05\", \"2008-12-08\", \"2008-12-10\", \"2008-12-11\", \"2008-12-12\", \"2008-12-15\", \"2008-12-16\", \"2008-12-17\", \"2008-12-18\", \"2008-12-19\", \"2008-12-22\", \"2008-12-23\", \"2008-12-24\", \"2008-12-26\", \"2008-12-29\", \"2008-12-30\", \"2008-12-31\", \"2009-01-01\", \"2009-01-02\", \"2009-01-05\", \"2009-01-06\", \"2009-01-07\", \"2009-01-09\", \"2009-01-12\", \"2009-01-13\", \"2009-01-14\", \"2009-01-15\", \"2009-01-16\", \"2009-01-19\", \"2009-01-20\", \"2009-01-21\", \"2009-01-22\", \"2009-01-23\", \"2009-01-27\", \"2009-01-28\", \"2009-01-29\", \"2009-01-30\", \"2009-02-02\", \"2009-02-03\", \"2009-02-04\", \"2009-02-05\", \"2009-02-06\", \"2009-02-09\", \"2009-02-10\", \"2009-02-11\", \"2009-02-12\", \"2009-02-13\", \"2009-02-16\", \"2009-02-17\", \"2009-02-18\", \"2009-02-19\", \"2009-02-20\", \"2009-02-24\", \"2009-02-25\", \"2009-02-26\", \"2009-02-27\", \"2009-03-02\", \"2009-03-03\", \"2009-03-04\", \"2009-03-05\", \"2009-03-06\", \"2009-03-09\", \"2009-03-12\", \"2009-03-13\", \"2009-03-16\", \"2009-03-17\", \"2009-03-18\", \"2009-03-19\", \"2009-03-20\", \"2009-03-23\", \"2009-03-24\", \"2009-03-25\", \"2009-03-26\", \"2009-03-27\", \"2009-03-30\", \"2009-03-31\", \"2009-04-01\", \"2009-04-02\", \"2009-04-06\", \"2009-04-08\", \"2009-04-09\", \"2009-04-13\", \"2009-04-15\", \"2009-04-16\", \"2009-04-17\", \"2009-04-20\", \"2009-04-21\", \"2009-04-22\", \"2009-04-23\", \"2009-04-24\", \"2009-04-27\", \"2009-04-28\", \"2009-04-29\", \"2009-05-04\", \"2009-05-05\", \"2009-05-06\", \"2009-05-07\", \"2009-05-08\", \"2009-05-11\", \"2009-05-12\", \"2009-05-13\", \"2009-05-14\", \"2009-05-15\", \"2009-05-18\", \"2009-05-19\", \"2009-05-20\", \"2009-05-21\", \"2009-05-22\", \"2009-05-25\", \"2009-05-26\", \"2009-05-27\", \"2009-05-28\", \"2009-05-29\", \"2009-06-01\", \"2009-06-02\", \"2009-06-03\", \"2009-06-04\", \"2009-06-05\", \"2009-06-08\", \"2009-06-09\", \"2009-06-10\", \"2009-06-11\", \"2009-06-12\", \"2009-06-15\", \"2009-06-16\", \"2009-06-17\", \"2009-06-18\", \"2009-06-19\", \"2009-06-22\", \"2009-06-23\", \"2009-06-24\", \"2009-06-25\", \"2009-06-26\", \"2009-06-29\", \"2009-06-30\", \"2009-07-01\", \"2009-07-02\", \"2009-07-03\", \"2009-07-06\", \"2009-07-07\", \"2009-07-08\", \"2009-07-09\", \"2009-07-10\", \"2009-07-13\", \"2009-07-14\", \"2009-07-15\", \"2009-07-16\", \"2009-07-17\", \"2009-07-20\", \"2009-07-21\", \"2009-07-22\", \"2009-07-23\", \"2009-07-24\", \"2009-07-27\", \"2009-07-28\", \"2009-07-29\", \"2009-07-30\", \"2009-07-31\", \"2009-08-03\", \"2009-08-04\", \"2009-08-05\", \"2009-08-06\", \"2009-08-07\", \"2009-08-10\", \"2009-08-11\", \"2009-08-12\", \"2009-08-13\", \"2009-08-14\", \"2009-08-17\", \"2009-08-18\", \"2009-08-19\", \"2009-08-20\", \"2009-08-21\", \"2009-08-24\", \"2009-08-25\", \"2009-08-26\", \"2009-08-27\", \"2009-08-28\", \"2009-08-31\", \"2009-09-01\", \"2009-09-02\", \"2009-09-03\", \"2009-09-04\", \"2009-09-07\", \"2009-09-08\", \"2009-09-09\", \"2009-09-10\", \"2009-09-11\", \"2009-09-14\", \"2009-09-15\", \"2009-09-16\", \"2009-09-17\", \"2009-09-18\", \"2009-09-22\", \"2009-09-23\", \"2009-09-24\", \"2009-09-25\", \"2009-09-29\", \"2009-09-30\", \"2009-10-01\", \"2009-10-05\", \"2009-10-06\", \"2009-10-07\", \"2009-10-08\", \"2009-10-09\", \"2009-10-12\", \"2009-10-14\", \"2009-10-15\", \"2009-10-16\", \"2009-10-17\", \"2009-10-20\", \"2009-10-21\", \"2009-10-22\", \"2009-10-23\", \"2009-10-26\", \"2009-10-27\", \"2009-10-28\", \"2009-10-29\", \"2009-10-30\", \"2009-11-03\", \"2009-11-04\", \"2009-11-05\", \"2009-11-06\", \"2009-11-09\", \"2009-11-10\", \"2009-11-11\", \"2009-11-12\", \"2009-11-13\", \"2009-11-16\", \"2009-11-17\", \"2009-11-18\", \"2009-11-19\", \"2009-11-20\", \"2009-11-23\", \"2009-11-24\", \"2009-11-25\", \"2009-11-26\", \"2009-11-27\", \"2009-11-30\", \"2009-12-01\", \"2009-12-02\", \"2009-12-03\", \"2009-12-04\", \"2009-12-07\", \"2009-12-08\", \"2009-12-09\", \"2009-12-10\", \"2009-12-11\", \"2009-12-14\", \"2009-12-15\", \"2009-12-16\", \"2009-12-17\", \"2009-12-18\", \"2009-12-21\", \"2009-12-22\", \"2009-12-23\", \"2009-12-24\", \"2009-12-29\", \"2009-12-30\", \"2009-12-31\", \"2010-01-04\", \"2010-01-05\", \"2010-01-06\", \"2010-01-07\", \"2010-01-08\", \"2010-01-11\", \"2010-01-12\", \"2010-01-13\", \"2010-01-14\", \"2010-01-15\", \"2010-01-18\", \"2010-01-19\", \"2010-01-20\", \"2010-01-21\", \"2010-01-22\", \"2010-01-25\", \"2010-01-27\", \"2010-01-28\", \"2010-01-29\", \"2010-02-01\", \"2010-02-02\", \"2010-02-03\", \"2010-02-04\", \"2010-02-05\", \"2010-02-06\", \"2010-02-08\", \"2010-02-09\", \"2010-02-10\", \"2010-02-11\", \"2010-02-15\", \"2010-02-16\", \"2010-02-17\", \"2010-02-18\", \"2010-02-19\", \"2010-02-22\", \"2010-02-23\", \"2010-02-24\", \"2010-02-25\", \"2010-02-26\", \"2010-03-02\", \"2010-03-03\", \"2010-03-04\", \"2010-03-05\", \"2010-03-08\", \"2010-03-09\", \"2010-03-10\", \"2010-03-11\", \"2010-03-12\", \"2010-03-15\", \"2010-03-16\", \"2010-03-17\", \"2010-03-18\", \"2010-03-19\", \"2010-03-22\", \"2010-03-23\", \"2010-03-25\", \"2010-03-26\", \"2010-03-29\", \"2010-03-30\", \"2010-03-31\", \"2010-04-01\", \"2010-04-05\", \"2010-04-06\", \"2010-04-07\", \"2010-04-08\", \"2010-04-09\", \"2010-04-12\", \"2010-04-13\", \"2010-04-15\", \"2010-04-16\", \"2010-04-19\", \"2010-04-20\", \"2010-04-21\", \"2010-04-22\", \"2010-04-23\", \"2010-04-26\", \"2010-04-27\", \"2010-04-28\", \"2010-04-29\", \"2010-04-30\", \"2010-05-03\", \"2010-05-04\", \"2010-05-05\", \"2010-05-06\", \"2010-05-07\", \"2010-05-10\", \"2010-05-11\", \"2010-05-12\", \"2010-05-13\", \"2010-05-14\", \"2010-05-17\", \"2010-05-18\", \"2010-05-19\", \"2010-05-20\", \"2010-05-21\", \"2010-05-24\", \"2010-05-25\", \"2010-05-26\", \"2010-05-27\", \"2010-05-28\", \"2010-05-31\", \"2010-06-01\", \"2010-06-02\", \"2010-06-03\", \"2010-06-04\", \"2010-06-07\", \"2010-06-08\", \"2010-06-09\", \"2010-06-10\", \"2010-06-11\", \"2010-06-14\", \"2010-06-15\", \"2010-06-16\", \"2010-06-17\", \"2010-06-18\", \"2010-06-21\", \"2010-06-22\", \"2010-06-23\", \"2010-06-24\", \"2010-06-25\", \"2010-06-28\", \"2010-06-29\", \"2010-06-30\", \"2010-07-01\", \"2010-07-02\", \"2010-07-05\", \"2010-07-06\", \"2010-07-07\", \"2010-07-08\", \"2010-07-09\", \"2010-07-12\", \"2010-07-13\", \"2010-07-14\", \"2010-07-15\", \"2010-07-16\", \"2010-07-19\", \"2010-07-20\", \"2010-07-21\", \"2010-07-22\", \"2010-07-23\", \"2010-07-26\", \"2010-07-27\", \"2010-07-28\", \"2010-07-29\", \"2010-07-30\", \"2010-08-02\", \"2010-08-03\", \"2010-08-04\", \"2010-08-05\", \"2010-08-06\", \"2010-08-09\", \"2010-08-10\", \"2010-08-11\", \"2010-08-12\", \"2010-08-13\", \"2010-08-16\", \"2010-08-17\", \"2010-08-18\", \"2010-08-19\", \"2010-08-20\", \"2010-08-23\", \"2010-08-24\", \"2010-08-25\", \"2010-08-26\", \"2010-08-27\", \"2010-08-30\", \"2010-08-31\", \"2010-09-01\", \"2010-09-02\", \"2010-09-03\", \"2010-09-06\", \"2010-09-07\", \"2010-09-08\", \"2010-09-09\", \"2010-09-13\", \"2010-09-14\", \"2010-09-15\", \"2010-09-16\", \"2010-09-17\", \"2010-09-20\", \"2010-09-21\", \"2010-09-22\", \"2010-09-23\", \"2010-09-24\", \"2010-09-27\", \"2010-09-28\", \"2010-09-29\", \"2010-09-30\", \"2010-10-01\", \"2010-10-04\", \"2010-10-05\", \"2010-10-06\", \"2010-10-07\", \"2010-10-08\", \"2010-10-11\", \"2010-10-12\", \"2010-10-13\", \"2010-10-14\", \"2010-10-15\", \"2010-10-18\", \"2010-10-19\", \"2010-10-20\", \"2010-10-21\", \"2010-10-22\", \"2010-10-25\", \"2010-10-26\", \"2010-10-27\", \"2010-10-28\", \"2010-10-29\", \"2010-11-01\", \"2010-11-02\", \"2010-11-03\", \"2010-11-04\", \"2010-11-05\", \"2010-11-08\", \"2010-11-09\", \"2010-11-10\", \"2010-11-11\", \"2010-11-12\", \"2010-11-15\", \"2010-11-16\", \"2010-11-18\", \"2010-11-19\", \"2010-11-22\", \"2010-11-23\", \"2010-11-24\", \"2010-11-25\", \"2010-11-26\", \"2010-11-29\", \"2010-11-30\", \"2010-12-01\", \"2010-12-02\", \"2010-12-03\", \"2010-12-06\", \"2010-12-07\", \"2010-12-08\", \"2010-12-09\", \"2010-12-10\", \"2010-12-13\", \"2010-12-14\", \"2010-12-15\", \"2010-12-16\", \"2010-12-20\", \"2010-12-21\", \"2010-12-22\", \"2010-12-23\", \"2010-12-24\", \"2010-12-27\", \"2010-12-28\", \"2010-12-29\", \"2010-12-30\", \"2010-12-31\", \"2011-01-03\", \"2011-01-04\", \"2011-01-05\", \"2011-01-06\", \"2011-01-07\", \"2011-01-10\", \"2011-01-11\", \"2011-01-12\", \"2011-01-13\", \"2011-01-14\", \"2011-01-17\", \"2011-01-18\", \"2011-01-19\", \"2011-01-20\", \"2011-01-21\", \"2011-01-24\", \"2011-01-25\", \"2011-01-27\", \"2011-01-28\", \"2011-01-31\", \"2011-02-01\", \"2011-02-02\", \"2011-02-03\", \"2011-02-04\", \"2011-02-07\", \"2011-02-08\", \"2011-02-09\", \"2011-02-10\", \"2011-02-11\", \"2011-02-14\", \"2011-02-15\", \"2011-02-16\", \"2011-02-17\", \"2011-02-18\", \"2011-02-21\", \"2011-02-22\", \"2011-02-23\", \"2011-02-24\", \"2011-02-25\", \"2011-02-28\", \"2011-03-01\", \"2011-03-03\", \"2011-03-04\", \"2011-03-07\", \"2011-03-08\", \"2011-03-09\", \"2011-03-10\", \"2011-03-11\", \"2011-03-14\", \"2011-03-15\", \"2011-03-16\", \"2011-03-17\", \"2011-03-18\", \"2011-03-21\", \"2011-03-22\", \"2011-03-23\", \"2011-03-24\", \"2011-03-25\", \"2011-03-28\", \"2011-03-29\", \"2011-03-30\", \"2011-03-31\", \"2011-04-01\", \"2011-04-04\", \"2011-04-05\", \"2011-04-06\", \"2011-04-07\", \"2011-04-08\", \"2011-04-11\", \"2011-04-13\", \"2011-04-15\", \"2011-04-18\", \"2011-04-19\", \"2011-04-20\", \"2011-04-21\", \"2011-04-25\", \"2011-04-26\", \"2011-04-27\", \"2011-04-28\", \"2011-04-29\", \"2011-05-02\", \"2011-05-03\", \"2011-05-04\", \"2011-05-05\", \"2011-05-06\", \"2011-05-09\", \"2011-05-10\", \"2011-05-11\", \"2011-05-12\", \"2011-05-13\", \"2011-05-16\", \"2011-05-17\", \"2011-05-18\", \"2011-05-19\", \"2011-05-20\", \"2011-05-23\", \"2011-05-24\", \"2011-05-25\", \"2011-05-26\", \"2011-05-27\", \"2011-05-30\", \"2011-05-31\", \"2011-06-01\", \"2011-06-02\", \"2011-06-03\", \"2011-06-06\", \"2011-06-07\", \"2011-06-08\", \"2011-06-09\", \"2011-06-10\", \"2011-06-13\", \"2011-06-14\", \"2011-06-15\", \"2011-06-16\", \"2011-06-17\", \"2011-06-20\", \"2011-06-21\", \"2011-06-22\", \"2011-06-23\", \"2011-06-24\", \"2011-06-27\", \"2011-06-28\", \"2011-06-29\", \"2011-06-30\", \"2011-07-01\", \"2011-07-04\", \"2011-07-05\", \"2011-07-06\", \"2011-07-07\", \"2011-07-08\", \"2011-07-11\", \"2011-07-12\", \"2011-07-13\", \"2011-07-14\", \"2011-07-15\", \"2011-07-18\", \"2011-07-19\", \"2011-07-20\", \"2011-07-21\", \"2011-07-22\", \"2011-07-25\", \"2011-07-26\", \"2011-07-27\", \"2011-07-28\", \"2011-07-29\", \"2011-08-01\", \"2011-08-02\", \"2011-08-03\", \"2011-08-04\", \"2011-08-05\", \"2011-08-08\", \"2011-08-09\", \"2011-08-10\", \"2011-08-11\", \"2011-08-12\", \"2011-08-16\", \"2011-08-17\", \"2011-08-18\", \"2011-08-19\", \"2011-08-22\", \"2011-08-23\", \"2011-08-24\", \"2011-08-25\", \"2011-08-26\", \"2011-08-29\", \"2011-08-30\", \"2011-09-02\", \"2011-09-05\", \"2011-09-06\", \"2011-09-07\", \"2011-09-08\", \"2011-09-09\", \"2011-09-12\", \"2011-09-13\", \"2011-09-14\", \"2011-09-15\", \"2011-09-16\", \"2011-09-19\", \"2011-09-20\", \"2011-09-21\", \"2011-09-22\", \"2011-09-23\", \"2011-09-26\", \"2011-09-27\", \"2011-09-28\", \"2011-09-29\", \"2011-09-30\", \"2011-10-03\", \"2011-10-04\", \"2011-10-05\", \"2011-10-07\", \"2011-10-10\", \"2011-10-11\", \"2011-10-12\", \"2011-10-13\", \"2011-10-14\", \"2011-10-17\", \"2011-10-18\", \"2011-10-19\", \"2011-10-20\", \"2011-10-21\", \"2011-10-24\", \"2011-10-25\", \"2011-10-26\", \"2011-10-28\", \"2011-10-31\", \"2011-11-01\", \"2011-11-02\", \"2011-11-03\", \"2011-11-04\", \"2011-11-08\", \"2011-11-09\", \"2011-11-11\", \"2011-11-14\", \"2011-11-15\", \"2011-11-16\", \"2011-11-17\", \"2011-11-18\", \"2011-11-21\", \"2011-11-22\", \"2011-11-23\", \"2011-11-24\", \"2011-11-25\", \"2011-11-28\", \"2011-11-29\", \"2011-11-30\", \"2011-12-01\", \"2011-12-02\", \"2011-12-05\", \"2011-12-07\", \"2011-12-08\", \"2011-12-09\", \"2011-12-12\", \"2011-12-13\", \"2011-12-14\", \"2011-12-15\", \"2011-12-16\", \"2011-12-19\", \"2011-12-20\", \"2011-12-21\", \"2011-12-22\", \"2011-12-23\", \"2011-12-26\", \"2011-12-27\", \"2011-12-28\", \"2011-12-29\", \"2011-12-30\", \"2012-01-02\", \"2012-01-03\", \"2012-01-04\", \"2012-01-05\", \"2012-01-06\", \"2012-01-07\", \"2012-01-09\", \"2012-01-10\", \"2012-01-11\", \"2012-01-12\", \"2012-01-13\", \"2012-01-16\", \"2012-01-17\", \"2012-01-18\", \"2012-01-19\", \"2012-01-20\", \"2012-01-23\", \"2012-01-24\", \"2012-01-25\", \"2012-01-27\", \"2012-01-30\", \"2012-01-31\", \"2012-02-01\", \"2012-02-02\", \"2012-02-03\", \"2012-02-06\", \"2012-02-07\", \"2012-02-08\", \"2012-02-09\", \"2012-02-10\", \"2012-02-13\", \"2012-02-14\", \"2012-02-15\", \"2012-02-16\", \"2012-02-17\", \"2012-02-21\", \"2012-02-22\", \"2012-02-23\", \"2012-02-24\", \"2012-02-27\", \"2012-02-28\", \"2012-02-29\", \"2012-03-01\", \"2012-03-02\", \"2012-03-03\", \"2012-03-05\", \"2012-03-06\", \"2012-03-07\", \"2012-03-09\", \"2012-03-12\", \"2012-03-13\", \"2012-03-14\", \"2012-03-15\", \"2012-03-16\", \"2012-03-19\", \"2012-03-20\", \"2012-03-21\", \"2012-03-22\", \"2012-03-23\", \"2012-03-26\", \"2012-03-27\", \"2012-03-28\", \"2012-03-29\", \"2012-03-30\", \"2012-04-02\", \"2012-04-03\", \"2012-04-04\", \"2012-04-09\", \"2012-04-10\", \"2012-04-11\", \"2012-04-12\", \"2012-04-13\", \"2012-04-16\", \"2012-04-17\", \"2012-04-18\", \"2012-04-19\", \"2012-04-20\", \"2012-04-23\", \"2012-04-24\", \"2012-04-25\", \"2012-04-26\", \"2012-04-27\", \"2012-04-28\", \"2012-04-30\", \"2012-05-02\", \"2012-05-03\", \"2012-05-04\", \"2012-05-07\", \"2012-05-08\", \"2012-05-09\", \"2012-05-10\", \"2012-05-11\", \"2012-05-14\", \"2012-05-15\", \"2012-05-16\", \"2012-05-17\", \"2012-05-18\", \"2012-05-21\", \"2012-05-22\", \"2012-05-23\", \"2012-05-24\", \"2012-05-25\", \"2012-05-28\", \"2012-05-29\", \"2012-05-30\", \"2012-05-31\", \"2012-06-01\", \"2012-06-04\", \"2012-06-05\", \"2012-06-06\", \"2012-06-07\", \"2012-06-08\", \"2012-06-11\", \"2012-06-12\", \"2012-06-13\", \"2012-06-14\", \"2012-06-15\", \"2012-06-18\", \"2012-06-19\", \"2012-06-20\", \"2012-06-21\", \"2012-06-22\", \"2012-06-25\", \"2012-06-26\", \"2012-06-27\", \"2012-06-28\", \"2012-06-29\", \"2012-07-02\", \"2012-07-03\", \"2012-07-04\", \"2012-07-05\", \"2012-07-06\", \"2012-07-09\", \"2012-07-10\", \"2012-07-11\", \"2012-07-12\", \"2012-07-13\", \"2012-07-16\", \"2012-07-17\", \"2012-07-18\", \"2012-07-19\", \"2012-07-20\", \"2012-07-23\", \"2012-07-24\", \"2012-07-25\", \"2012-07-26\", \"2012-07-27\", \"2012-07-30\", \"2012-07-31\", \"2012-08-01\", \"2012-08-02\", \"2012-08-03\", \"2012-08-06\", \"2012-08-07\", \"2012-08-08\", \"2012-08-09\", \"2012-08-10\", \"2012-08-13\", \"2012-08-14\", \"2012-08-16\", \"2012-08-17\", \"2012-08-21\", \"2012-08-22\", \"2012-08-23\", \"2012-08-24\", \"2012-08-27\", \"2012-08-28\", \"2012-08-29\", \"2012-08-30\", \"2012-08-31\", \"2012-09-03\", \"2012-09-04\", \"2012-09-05\", \"2012-09-06\", \"2012-09-07\", \"2012-09-08\", \"2012-09-10\", \"2012-09-11\", \"2012-09-12\", \"2012-09-13\", \"2012-09-14\", \"2012-09-17\", \"2012-09-18\", \"2012-09-20\", \"2012-09-21\", \"2012-09-24\", \"2012-09-25\", \"2012-09-26\", \"2012-09-27\", \"2012-09-28\", \"2012-10-01\", \"2012-10-03\", \"2012-10-04\", \"2012-10-05\", \"2012-10-08\", \"2012-10-09\", \"2012-10-10\", \"2012-10-11\", \"2012-10-12\", \"2012-10-15\", \"2012-10-16\", \"2012-10-17\", \"2012-10-18\", \"2012-10-19\", \"2012-10-22\", \"2012-10-23\", \"2012-10-25\", \"2012-10-26\", \"2012-10-29\", \"2012-10-30\", \"2012-10-31\", \"2012-11-01\", \"2012-11-02\", \"2012-11-05\", \"2012-11-06\", \"2012-11-07\", \"2012-11-08\", \"2012-11-09\", \"2012-11-12\", \"2012-11-13\", \"2012-11-15\", \"2012-11-16\", \"2012-11-19\", \"2012-11-20\", \"2012-11-21\", \"2012-11-22\", \"2012-11-23\", \"2012-11-26\", \"2012-11-27\", \"2012-11-29\", \"2012-11-30\", \"2012-12-03\", \"2012-12-04\", \"2012-12-05\", \"2012-12-06\", \"2012-12-07\", \"2012-12-10\", \"2012-12-11\", \"2012-12-12\", \"2012-12-13\", \"2012-12-14\", \"2012-12-17\", \"2012-12-18\", \"2012-12-19\", \"2012-12-20\", \"2012-12-21\", \"2012-12-24\", \"2012-12-26\", \"2012-12-27\", \"2012-12-28\", \"2012-12-31\", \"2013-01-01\", \"2013-01-02\", \"2013-01-03\", \"2013-01-04\", \"2013-01-07\", \"2013-01-08\", \"2013-01-09\", \"2013-01-10\", \"2013-01-11\", \"2013-01-14\", \"2013-01-15\", \"2013-01-16\", \"2013-01-17\", \"2013-01-18\", \"2013-01-21\", \"2013-01-22\", \"2013-01-23\", \"2013-01-24\", \"2013-01-25\", \"2013-01-28\", \"2013-01-29\", \"2013-01-30\", \"2013-01-31\", \"2013-02-01\", \"2013-02-04\", \"2013-02-05\", \"2013-02-06\", \"2013-02-07\", \"2013-02-08\", \"2013-02-11\", \"2013-02-12\", \"2013-02-13\", \"2013-02-14\", \"2013-02-15\", \"2013-02-18\", \"2013-02-19\", \"2013-02-20\", \"2013-02-21\", \"2013-02-22\", \"2013-02-25\", \"2013-02-26\", \"2013-02-27\", \"2013-02-28\", \"2013-03-01\", \"2013-03-04\", \"2013-03-05\", \"2013-03-06\", \"2013-03-07\", \"2013-03-08\", \"2013-03-11\", \"2013-03-12\", \"2013-03-13\", \"2013-03-14\", \"2013-03-15\", \"2013-03-18\", \"2013-03-19\", \"2013-03-20\", \"2013-03-21\", \"2013-03-22\", \"2013-03-25\", \"2013-03-26\", \"2013-03-28\", \"2013-04-01\", \"2013-04-02\", \"2013-04-03\", \"2013-04-04\", \"2013-04-05\", \"2013-04-08\", \"2013-04-09\", \"2013-04-10\", \"2013-04-11\", \"2013-04-12\", \"2013-04-15\", \"2013-04-16\", \"2013-04-17\", \"2013-04-18\", \"2013-04-22\", \"2013-04-23\", \"2013-04-25\", \"2013-04-26\", \"2013-04-29\", \"2013-04-30\", \"2013-05-02\", \"2013-05-03\", \"2013-05-06\", \"2013-05-07\", \"2013-05-08\", \"2013-05-09\", \"2013-05-10\", \"2013-05-11\", \"2013-05-13\", \"2013-05-14\", \"2013-05-15\", \"2013-05-16\", \"2013-05-17\", \"2013-05-20\", \"2013-05-21\", \"2013-05-22\", \"2013-05-23\", \"2013-05-24\", \"2013-05-27\", \"2013-05-28\", \"2013-05-29\", \"2013-05-30\", \"2013-05-31\", \"2013-06-03\", \"2013-06-04\", \"2013-06-05\", \"2013-06-06\", \"2013-06-07\", \"2013-06-10\", \"2013-06-11\", \"2013-06-12\", \"2013-06-13\", \"2013-06-14\", \"2013-06-17\", \"2013-06-18\", \"2013-06-19\", \"2013-06-20\", \"2013-06-21\", \"2013-06-24\", \"2013-06-25\", \"2013-06-26\", \"2013-06-27\", \"2013-06-28\", \"2013-07-01\", \"2013-07-02\", \"2013-07-03\", \"2013-07-04\", \"2013-07-05\", \"2013-07-08\", \"2013-07-09\", \"2013-07-10\", \"2013-07-11\", \"2013-07-12\", \"2013-07-15\", \"2013-07-16\", \"2013-07-17\", \"2013-07-18\", \"2013-07-19\", \"2013-07-22\", \"2013-07-23\", \"2013-07-24\", \"2013-07-25\", \"2013-07-26\", \"2013-07-29\", \"2013-07-30\", \"2013-07-31\", \"2013-08-01\", \"2013-08-02\", \"2013-08-05\", \"2013-08-06\", \"2013-08-07\", \"2013-08-08\", \"2013-08-12\", \"2013-08-13\", \"2013-08-14\", \"2013-08-16\", \"2013-08-19\", \"2013-08-20\", \"2013-08-21\", \"2013-08-22\", \"2013-08-23\", \"2013-08-26\", \"2013-08-27\", \"2013-08-28\", \"2013-08-29\", \"2013-08-30\", \"2013-09-02\", \"2013-09-03\", \"2013-09-04\", \"2013-09-05\", \"2013-09-06\", \"2013-09-10\", \"2013-09-11\", \"2013-09-12\", \"2013-09-13\", \"2013-09-16\", \"2013-09-17\", \"2013-09-18\", \"2013-09-19\", \"2013-09-20\", \"2013-09-23\", \"2013-09-24\", \"2013-09-25\", \"2013-09-26\", \"2013-09-27\", \"2013-09-30\", \"2013-10-01\", \"2013-10-03\", \"2013-10-04\", \"2013-10-07\", \"2013-10-08\", \"2013-10-09\", \"2013-10-10\", \"2013-10-11\", \"2013-10-14\", \"2013-10-15\", \"2013-10-17\", \"2013-10-18\", \"2013-10-21\", \"2013-10-22\", \"2013-10-23\", \"2013-10-24\", \"2013-10-25\", \"2013-10-28\", \"2013-10-29\", \"2013-10-30\", \"2013-10-31\", \"2013-11-01\", \"2013-11-03\", \"2013-11-05\", \"2013-11-06\", \"2013-11-07\", \"2013-11-08\", \"2013-11-11\", \"2013-11-12\", \"2013-11-13\", \"2013-11-14\", \"2013-11-18\", \"2013-11-19\", \"2013-11-20\", \"2013-11-21\", \"2013-11-22\", \"2013-11-25\", \"2013-11-26\", \"2013-11-27\", \"2013-11-28\", \"2013-11-29\", \"2013-12-02\", \"2013-12-03\", \"2013-12-04\", \"2013-12-05\", \"2013-12-06\", \"2013-12-09\", \"2013-12-10\", \"2013-12-11\", \"2013-12-12\", \"2013-12-13\", \"2013-12-16\", \"2013-12-17\", \"2013-12-18\", \"2013-12-19\", \"2013-12-20\", \"2013-12-23\", \"2013-12-24\", \"2013-12-26\", \"2013-12-27\", \"2013-12-30\", \"2013-12-31\", \"2014-01-01\", \"2014-01-02\", \"2014-01-03\", \"2014-01-06\", \"2014-01-07\", \"2014-01-08\", \"2014-01-09\", \"2014-01-10\", \"2014-01-13\", \"2014-01-14\", \"2014-01-15\", \"2014-01-16\", \"2014-01-17\", \"2014-01-20\", \"2014-01-21\", \"2014-01-22\", \"2014-01-23\", \"2014-01-24\", \"2014-01-27\", \"2014-01-28\", \"2014-01-29\", \"2014-01-30\", \"2014-01-31\", \"2014-02-03\", \"2014-02-04\", \"2014-02-05\", \"2014-02-06\", \"2014-02-07\", \"2014-02-10\", \"2014-02-11\", \"2014-02-12\", \"2014-02-13\", \"2014-02-14\", \"2014-02-17\", \"2014-02-18\", \"2014-02-19\", \"2014-02-20\", \"2014-02-21\", \"2014-02-24\", \"2014-02-25\", \"2014-02-26\", \"2014-02-28\", \"2014-03-03\", \"2014-03-04\", \"2014-03-05\", \"2014-03-06\", \"2014-03-07\", \"2014-03-10\", \"2014-03-11\", \"2014-03-12\", \"2014-03-13\", \"2014-03-14\", \"2014-03-18\", \"2014-03-19\", \"2014-03-20\", \"2014-03-21\", \"2014-03-22\", \"2014-03-24\", \"2014-03-25\", \"2014-03-26\", \"2014-03-27\", \"2014-03-28\", \"2014-03-31\", \"2014-04-01\", \"2014-04-02\", \"2014-04-03\", \"2014-04-04\", \"2014-04-07\", \"2014-04-09\", \"2014-04-10\", \"2014-04-11\", \"2014-04-15\", \"2014-04-16\", \"2014-04-17\", \"2014-04-21\", \"2014-04-22\", \"2014-04-23\", \"2014-04-25\", \"2014-04-28\", \"2014-04-29\", \"2014-04-30\", \"2014-05-02\", \"2014-05-05\", \"2014-05-06\", \"2014-05-07\", \"2014-05-08\", \"2014-05-09\", \"2014-05-12\", \"2014-05-13\", \"2014-05-14\", \"2014-05-15\", \"2014-05-16\", \"2014-05-19\", \"2014-05-20\", \"2014-05-21\", \"2014-05-22\", \"2014-05-23\", \"2014-05-26\", \"2014-05-27\", \"2014-05-28\", \"2014-05-29\", \"2014-05-30\", \"2014-06-02\", \"2014-06-03\", \"2014-06-04\", \"2014-06-05\", \"2014-06-06\", \"2014-06-09\", \"2014-06-10\", \"2014-06-11\", \"2014-06-12\", \"2014-06-13\", \"2014-06-16\", \"2014-06-17\", \"2014-06-18\", \"2014-06-19\", \"2014-06-20\", \"2014-06-23\", \"2014-06-24\", \"2014-06-25\", \"2014-06-26\", \"2014-06-27\", \"2014-06-30\", \"2014-07-01\", \"2014-07-02\", \"2014-07-03\", \"2014-07-04\", \"2014-07-07\", \"2014-07-08\", \"2014-07-09\", \"2014-07-10\", \"2014-07-11\", \"2014-07-14\", \"2014-07-15\", \"2014-07-16\", \"2014-07-17\", \"2014-07-18\", \"2014-07-21\", \"2014-07-22\", \"2014-07-23\", \"2014-07-24\", \"2014-07-25\", \"2014-07-28\", \"2014-07-30\", \"2014-07-31\", \"2014-08-01\", \"2014-08-04\", \"2014-08-05\", \"2014-08-06\", \"2014-08-07\", \"2014-08-08\", \"2014-08-11\", \"2014-08-12\", \"2014-08-13\", \"2014-08-14\", \"2014-08-18\", \"2014-08-19\", \"2014-08-20\", \"2014-08-21\", \"2014-08-22\", \"2014-08-25\", \"2014-08-26\", \"2014-08-27\", \"2014-08-28\", \"2014-09-01\", \"2014-09-02\", \"2014-09-03\", \"2014-09-04\", \"2014-09-05\", \"2014-09-08\", \"2014-09-09\", \"2014-09-10\", \"2014-09-11\", \"2014-09-12\", \"2014-09-15\", \"2014-09-16\", \"2014-09-17\", \"2014-09-18\", \"2014-09-19\", \"2014-09-22\", \"2014-09-23\", \"2014-09-24\", \"2014-09-25\", \"2014-09-26\", \"2014-09-29\", \"2014-09-30\", \"2014-10-01\", \"2014-10-07\", \"2014-10-08\", \"2014-10-09\", \"2014-10-10\", \"2014-10-13\", \"2014-10-14\", \"2014-10-16\", \"2014-10-17\", \"2014-10-20\", \"2014-10-21\", \"2014-10-22\", \"2014-10-23\", \"2014-10-27\", \"2014-10-28\", \"2014-10-29\", \"2014-10-30\", \"2014-10-31\", \"2014-11-03\", \"2014-11-05\", \"2014-11-07\", \"2014-11-10\", \"2014-11-11\", \"2014-11-12\", \"2014-11-13\", \"2014-11-14\", \"2014-11-17\", \"2014-11-18\", \"2014-11-19\", \"2014-11-20\", \"2014-11-21\", \"2014-11-24\", \"2014-11-25\", \"2014-11-26\", \"2014-11-27\", \"2014-11-28\", \"2014-12-01\", \"2014-12-02\", \"2014-12-03\", \"2014-12-04\", \"2014-12-05\", \"2014-12-08\", \"2014-12-09\", \"2014-12-10\", \"2014-12-11\", \"2014-12-12\", \"2014-12-15\", \"2014-12-16\", \"2014-12-17\", \"2014-12-18\", \"2014-12-19\", \"2014-12-22\", \"2014-12-23\", \"2014-12-24\", \"2014-12-26\", \"2014-12-29\", \"2014-12-30\", \"2014-12-31\", \"2015-01-01\", \"2015-01-02\", \"2015-01-05\", \"2015-01-06\", \"2015-01-07\", \"2015-01-08\", \"2015-01-09\", \"2015-01-12\", \"2015-01-13\", \"2015-01-14\", \"2015-01-15\", \"2015-01-16\", \"2015-01-19\", \"2015-01-20\", \"2015-01-21\", \"2015-01-22\", \"2015-01-23\", \"2015-01-27\", \"2015-01-28\", \"2015-01-29\", \"2015-01-30\", \"2015-02-02\", \"2015-02-03\", \"2015-02-04\", \"2015-02-05\", \"2015-02-06\", \"2015-02-09\", \"2015-02-10\", \"2015-02-11\", \"2015-02-12\", \"2015-02-13\", \"2015-02-16\", \"2015-02-18\", \"2015-02-19\", \"2015-02-20\", \"2015-02-23\", \"2015-02-24\", \"2015-02-25\", \"2015-02-26\", \"2015-02-27\", \"2015-02-28\", \"2015-03-02\", \"2015-03-03\", \"2015-03-04\", \"2015-03-05\", \"2015-03-09\", \"2015-03-10\", \"2015-03-11\", \"2015-03-12\", \"2015-03-13\", \"2015-03-16\", \"2015-03-17\", \"2015-03-18\", \"2015-03-19\", \"2015-03-20\", \"2015-03-23\", \"2015-03-24\", \"2015-03-25\", \"2015-03-26\", \"2015-03-27\", \"2015-03-30\", \"2015-03-31\", \"2015-04-01\", \"2015-04-06\", \"2015-04-07\", \"2015-04-08\", \"2015-04-09\", \"2015-04-10\", \"2015-04-13\", \"2015-04-15\", \"2015-04-16\", \"2015-04-17\", \"2015-04-20\", \"2015-04-21\", \"2015-04-22\", \"2015-04-23\", \"2015-04-24\", \"2015-04-27\", \"2015-04-28\", \"2015-04-29\", \"2015-04-30\", \"2015-05-04\", \"2015-05-05\", \"2015-05-06\", \"2015-05-07\", \"2015-05-08\", \"2015-05-11\", \"2015-05-12\", \"2015-05-13\", \"2015-05-14\", \"2015-05-15\", \"2015-05-18\", \"2015-05-19\", \"2015-05-20\", \"2015-05-21\", \"2015-05-22\", \"2015-05-25\", \"2015-05-26\", \"2015-05-27\", \"2015-05-28\", \"2015-05-29\", \"2015-06-01\", \"2015-06-02\", \"2015-06-03\", \"2015-06-04\", \"2015-06-05\", \"2015-06-08\", \"2015-06-09\", \"2015-06-10\", \"2015-06-11\", \"2015-06-12\", \"2015-06-15\", \"2015-06-16\", \"2015-06-17\", \"2015-06-18\", \"2015-06-19\", \"2015-06-22\", \"2015-06-23\", \"2015-06-24\", \"2015-06-25\", \"2015-06-26\", \"2015-06-29\", \"2015-06-30\", \"2015-07-01\", \"2015-07-02\", \"2015-07-03\", \"2015-07-06\", \"2015-07-07\", \"2015-07-08\", \"2015-07-09\", \"2015-07-10\", \"2015-07-13\", \"2015-07-14\", \"2015-07-15\", \"2015-07-16\", \"2015-07-17\", \"2015-07-20\", \"2015-07-21\", \"2015-07-22\", \"2015-07-23\", \"2015-07-24\", \"2015-07-27\", \"2015-07-28\", \"2015-07-29\", \"2015-07-30\", \"2015-07-31\", \"2015-08-03\", \"2015-08-04\", \"2015-08-05\", \"2015-08-06\", \"2015-08-07\", \"2015-08-10\", \"2015-08-11\", \"2015-08-12\", \"2015-08-13\", \"2015-08-14\", \"2015-08-17\", \"2015-08-18\", \"2015-08-19\", \"2015-08-20\", \"2015-08-21\", \"2015-08-24\", \"2015-08-25\", \"2015-08-26\", \"2015-08-27\", \"2015-08-28\", \"2015-08-31\", \"2015-09-01\", \"2015-09-02\", \"2015-09-03\", \"2015-09-04\", \"2015-09-07\", \"2015-09-08\", \"2015-09-09\", \"2015-09-10\", \"2015-09-11\", \"2015-09-14\", \"2015-09-15\", \"2015-09-16\", \"2015-09-18\", \"2015-09-21\", \"2015-09-22\", \"2015-09-23\", \"2015-09-24\", \"2015-09-28\", \"2015-09-29\", \"2015-09-30\", \"2015-10-01\", \"2015-10-05\", \"2015-10-06\", \"2015-10-07\", \"2015-10-08\", \"2015-10-09\", \"2015-10-12\", \"2015-10-13\", \"2015-10-14\", \"2015-10-15\", \"2015-10-16\", \"2015-10-19\", \"2015-10-20\", \"2015-10-21\", \"2015-10-23\", \"2015-10-26\", \"2015-10-27\", \"2015-10-28\", \"2015-10-29\", \"2015-10-30\", \"2015-11-02\", \"2015-11-03\", \"2015-11-04\", \"2015-11-05\", \"2015-11-06\", \"2015-11-09\", \"2015-11-10\", \"2015-11-11\", \"2015-11-13\", \"2015-11-16\", \"2015-11-17\", \"2015-11-18\", \"2015-11-19\", \"2015-11-20\", \"2015-11-23\", \"2015-11-24\", \"2015-11-26\", \"2015-11-27\", \"2015-11-30\", \"2015-12-01\", \"2015-12-02\", \"2015-12-03\", \"2015-12-04\", \"2015-12-07\", \"2015-12-08\", \"2015-12-09\", \"2015-12-10\", \"2015-12-11\", \"2015-12-14\", \"2015-12-15\", \"2015-12-16\", \"2015-12-17\", \"2015-12-18\", \"2015-12-21\", \"2015-12-22\", \"2015-12-23\", \"2015-12-24\", \"2015-12-28\", \"2015-12-29\", \"2015-12-30\", \"2015-12-31\", \"2016-01-01\", \"2016-01-04\", \"2016-01-05\", \"2016-01-06\", \"2016-01-07\", \"2016-01-08\", \"2016-01-11\", \"2016-01-12\", \"2016-01-13\", \"2016-01-14\", \"2016-01-15\", \"2016-01-18\", \"2016-01-19\", \"2016-01-20\", \"2016-01-21\", \"2016-01-22\", \"2016-01-25\", \"2016-01-27\", \"2016-01-28\", \"2016-01-29\", \"2016-02-01\", \"2016-02-02\", \"2016-02-03\", \"2016-02-04\", \"2016-02-05\", \"2016-02-08\", \"2016-02-09\", \"2016-02-10\", \"2016-02-11\", \"2016-02-12\", \"2016-02-15\", \"2016-02-16\", \"2016-02-17\", \"2016-02-18\", \"2016-02-19\", \"2016-02-22\", \"2016-02-23\", \"2016-02-24\", \"2016-02-25\", \"2016-02-26\", \"2016-02-29\", \"2016-03-01\", \"2016-03-02\", \"2016-03-03\", \"2016-03-04\", \"2016-03-08\", \"2016-03-09\", \"2016-03-10\", \"2016-03-11\", \"2016-03-14\", \"2016-03-15\", \"2016-03-16\", \"2016-03-17\", \"2016-03-18\", \"2016-03-21\", \"2016-03-22\", \"2016-03-23\", \"2016-03-28\", \"2016-03-29\", \"2016-03-30\", \"2016-03-31\", \"2016-04-01\", \"2016-04-04\", \"2016-04-05\", \"2016-04-06\", \"2016-04-07\", \"2016-04-08\", \"2016-04-11\", \"2016-04-12\", \"2016-04-13\", \"2016-04-18\", \"2016-04-20\", \"2016-04-21\", \"2016-04-22\", \"2016-04-25\", \"2016-04-26\", \"2016-04-27\", \"2016-04-28\", \"2016-04-29\", \"2016-05-02\", \"2016-05-03\", \"2016-05-04\", \"2016-05-05\", \"2016-05-06\", \"2016-05-09\", \"2016-05-10\", \"2016-05-11\", \"2016-05-12\", \"2016-05-13\", \"2016-05-16\", \"2016-05-17\", \"2016-05-18\", \"2016-05-19\", \"2016-05-20\", \"2016-05-23\", \"2016-05-24\", \"2016-05-25\", \"2016-05-26\", \"2016-05-27\", \"2016-05-30\", \"2016-05-31\", \"2016-06-01\", \"2016-06-02\", \"2016-06-03\", \"2016-06-06\", \"2016-06-07\", \"2016-06-08\", \"2016-06-09\", \"2016-06-10\", \"2016-06-13\", \"2016-06-14\", \"2016-06-15\", \"2016-06-16\", \"2016-06-17\", \"2016-06-20\", \"2016-06-21\", \"2016-06-22\", \"2016-06-23\", \"2016-06-24\", \"2016-06-27\", \"2016-06-28\", \"2016-06-29\", \"2016-06-30\", \"2016-07-01\", \"2016-07-04\", \"2016-07-05\", \"2016-07-07\", \"2016-07-08\", \"2016-07-11\", \"2016-07-12\", \"2016-07-13\", \"2016-07-14\", \"2016-07-15\", \"2016-07-18\", \"2016-07-19\", \"2016-07-20\", \"2016-07-21\", \"2016-07-22\", \"2016-07-25\", \"2016-07-26\", \"2016-07-27\", \"2016-07-28\", \"2016-07-29\", \"2016-08-01\", \"2016-08-02\", \"2016-08-03\", \"2016-08-04\", \"2016-08-05\", \"2016-08-08\", \"2016-08-09\", \"2016-08-10\", \"2016-08-11\", \"2016-08-12\", \"2016-08-16\", \"2016-08-17\", \"2016-08-18\", \"2016-08-19\", \"2016-08-22\", \"2016-08-23\", \"2016-08-24\", \"2016-08-25\", \"2016-08-26\", \"2016-08-29\", \"2016-08-30\", \"2016-08-31\", \"2016-09-01\", \"2016-09-02\", \"2016-09-06\", \"2016-09-07\", \"2016-09-08\", \"2016-09-09\", \"2016-09-12\", \"2016-09-14\", \"2016-09-15\", \"2016-09-16\", \"2016-09-19\", \"2016-09-20\", \"2016-09-21\", \"2016-09-22\", \"2016-09-23\", \"2016-09-26\", \"2016-09-27\", \"2016-09-28\", \"2016-09-29\", \"2016-09-30\", \"2016-10-03\", \"2016-10-04\", \"2016-10-05\", \"2016-10-06\", \"2016-10-07\", \"2016-10-10\", \"2016-10-13\", \"2016-10-14\", \"2016-10-17\", \"2016-10-18\", \"2016-10-19\", \"2016-10-20\", \"2016-10-21\", \"2016-10-24\", \"2016-10-25\", \"2016-10-26\", \"2016-10-27\", \"2016-10-28\", \"2016-10-30\", \"2016-11-01\", \"2016-11-02\", \"2016-11-03\", \"2016-11-04\", \"2016-11-07\", \"2016-11-08\", \"2016-11-09\", \"2016-11-10\", \"2016-11-11\", \"2016-11-15\", \"2016-11-16\", \"2016-11-17\", \"2016-11-18\", \"2016-11-21\", \"2016-11-22\", \"2016-11-23\", \"2016-11-24\", \"2016-11-25\", \"2016-11-28\", \"2016-11-29\", \"2016-11-30\", \"2016-12-01\", \"2016-12-02\", \"2016-12-05\", \"2016-12-06\", \"2016-12-07\", \"2016-12-08\", \"2016-12-09\", \"2016-12-12\", \"2016-12-13\", \"2016-12-14\", \"2016-12-15\", \"2016-12-16\", \"2016-12-19\", \"2016-12-20\", \"2016-12-21\", \"2016-12-22\", \"2016-12-23\", \"2016-12-26\", \"2016-12-27\", \"2016-12-28\", \"2016-12-29\", \"2016-12-30\", \"2017-01-02\", \"2017-01-03\", \"2017-01-04\", \"2017-01-05\", \"2017-01-06\", \"2017-01-09\", \"2017-01-10\", \"2017-01-11\", \"2017-01-12\", \"2017-01-13\", \"2017-01-16\", \"2017-01-17\", \"2017-01-18\", \"2017-01-19\", \"2017-01-20\", \"2017-01-23\", \"2017-01-24\", \"2017-01-25\", \"2017-01-27\", \"2017-01-30\", \"2017-01-31\", \"2017-02-01\", \"2017-02-02\", \"2017-02-03\", \"2017-02-06\", \"2017-02-07\", \"2017-02-08\", \"2017-02-09\", \"2017-02-10\", \"2017-02-13\", \"2017-02-14\", \"2017-02-15\", \"2017-02-16\", \"2017-02-17\", \"2017-02-20\", \"2017-02-21\", \"2017-02-22\", \"2017-02-23\", \"2017-02-27\", \"2017-02-28\", \"2017-03-01\", \"2017-03-02\", \"2017-03-03\", \"2017-03-06\", \"2017-03-07\", \"2017-03-08\", \"2017-03-09\", \"2017-03-10\", \"2017-03-14\", \"2017-03-15\", \"2017-03-16\", \"2017-03-17\", \"2017-03-20\", \"2017-03-21\", \"2017-03-22\", \"2017-03-23\", \"2017-03-24\", \"2017-03-27\", \"2017-03-28\", \"2017-03-29\", \"2017-03-30\", \"2017-03-31\", \"2017-04-03\", \"2017-04-05\", \"2017-04-06\", \"2017-04-07\", \"2017-04-10\", \"2017-04-11\", \"2017-04-12\", \"2017-04-13\", \"2017-04-17\", \"2017-04-18\", \"2017-04-19\", \"2017-04-20\", \"2017-04-21\", \"2017-04-24\", \"2017-04-25\", \"2017-04-26\", \"2017-04-27\", \"2017-04-28\", \"2017-05-02\", \"2017-05-03\", \"2017-05-04\", \"2017-05-05\", \"2017-05-08\", \"2017-05-09\", \"2017-05-10\", \"2017-05-11\", \"2017-05-12\", \"2017-05-15\", \"2017-05-16\", \"2017-05-17\", \"2017-05-18\", \"2017-05-19\", \"2017-05-22\", \"2017-05-23\", \"2017-05-24\", \"2017-05-25\", \"2017-05-26\", \"2017-05-29\", \"2017-05-30\", \"2017-05-31\", \"2017-06-01\", \"2017-06-02\", \"2017-06-05\", \"2017-06-06\", \"2017-06-07\", \"2017-06-08\", \"2017-06-09\", \"2017-06-12\", \"2017-06-13\", \"2017-06-14\", \"2017-06-15\", \"2017-06-16\", \"2017-06-19\", \"2017-06-20\", \"2017-06-21\", \"2017-06-22\", \"2017-06-23\", \"2017-06-27\", \"2017-06-28\", \"2017-06-29\", \"2017-06-30\", \"2017-07-03\", \"2017-07-04\", \"2017-07-05\", \"2017-07-06\", \"2017-07-07\", \"2017-07-10\", \"2017-07-11\", \"2017-07-12\", \"2017-07-13\", \"2017-07-14\", \"2017-07-17\", \"2017-07-18\", \"2017-07-19\", \"2017-07-20\", \"2017-07-21\", \"2017-07-24\", \"2017-07-25\", \"2017-07-26\", \"2017-07-27\", \"2017-07-28\", \"2017-07-31\", \"2017-08-01\", \"2017-08-02\", \"2017-08-03\", \"2017-08-04\", \"2017-08-07\", \"2017-08-08\", \"2017-08-09\", \"2017-08-10\", \"2017-08-11\", \"2017-08-14\", \"2017-08-16\", \"2017-08-17\", \"2017-08-18\", \"2017-08-21\", \"2017-08-22\", \"2017-08-23\", \"2017-08-24\", \"2017-08-28\", \"2017-08-29\", \"2017-08-30\", \"2017-08-31\", \"2017-09-01\", \"2017-09-04\", \"2017-09-05\", \"2017-09-06\", \"2017-09-07\", \"2017-09-08\", \"2017-09-11\", \"2017-09-12\", \"2017-09-13\", \"2017-09-14\", \"2017-09-15\", \"2017-09-18\", \"2017-09-19\", \"2017-09-20\", \"2017-09-21\", \"2017-09-22\", \"2017-09-25\", \"2017-09-26\", \"2017-09-27\", \"2017-09-28\", \"2017-09-29\", \"2017-10-03\", \"2017-10-04\", \"2017-10-05\", \"2017-10-06\", \"2017-10-09\", \"2017-10-10\", \"2017-10-11\", \"2017-10-12\", \"2017-10-13\", \"2017-10-16\", \"2017-10-17\", \"2017-10-18\", \"2017-10-19\", \"2017-10-23\", \"2017-10-24\", \"2017-10-25\", \"2017-10-26\", \"2017-10-27\", \"2017-10-30\", \"2017-10-31\", \"2017-11-01\", \"2017-11-02\", \"2017-11-03\", \"2017-11-06\", \"2017-11-07\", \"2017-11-08\", \"2017-11-09\", \"2017-11-10\", \"2017-11-13\", \"2017-11-14\", \"2017-11-15\", \"2017-11-16\", \"2017-11-17\", \"2017-11-20\", \"2017-11-21\", \"2017-11-22\", \"2017-11-23\", \"2017-11-24\", \"2017-11-27\", \"2017-11-28\", \"2017-11-29\", \"2017-11-30\", \"2017-12-01\", \"2017-12-04\", \"2017-12-05\", \"2017-12-06\", \"2017-12-07\", \"2017-12-08\", \"2017-12-11\", \"2017-12-12\", \"2017-12-13\", \"2017-12-14\", \"2017-12-15\", \"2017-12-18\", \"2017-12-19\", \"2017-12-20\", \"2017-12-21\", \"2017-12-22\", \"2017-12-26\", \"2017-12-27\", \"2017-12-28\", \"2017-12-29\", \"2018-01-01\", \"2018-01-02\", \"2018-01-03\", \"2018-01-04\", \"2018-01-05\", \"2018-01-08\", \"2018-01-09\", \"2018-01-10\", \"2018-01-11\", \"2018-01-12\", \"2018-01-15\", \"2018-01-16\", \"2018-01-17\", \"2018-01-18\", \"2018-01-19\", \"2018-01-22\", \"2018-01-23\", \"2018-01-24\", \"2018-01-25\", \"2018-01-29\", \"2018-01-30\", \"2018-01-31\", \"2018-02-01\", \"2018-02-02\", \"2018-02-05\", \"2018-02-06\", \"2018-02-07\", \"2018-02-08\", \"2018-02-09\", \"2018-02-12\", \"2018-02-14\", \"2018-02-15\", \"2018-02-16\", \"2018-02-19\", \"2018-02-20\", \"2018-02-21\", \"2018-02-22\", \"2018-02-23\", \"2018-02-26\", \"2018-02-27\", \"2018-02-28\", \"2018-03-01\", \"2018-03-05\", \"2018-03-06\", \"2018-03-07\", \"2018-03-08\", \"2018-03-09\", \"2018-03-12\", \"2018-03-13\", \"2018-03-14\", \"2018-03-15\", \"2018-03-16\", \"2018-03-19\", \"2018-03-20\", \"2018-03-21\", \"2018-03-22\", \"2018-03-23\", \"2018-03-26\", \"2018-03-27\", \"2018-03-28\", \"2018-04-02\", \"2018-04-03\", \"2018-04-04\", \"2018-04-05\", \"2018-04-06\", \"2018-04-09\", \"2018-04-10\", \"2018-04-11\", \"2018-04-12\", \"2018-04-13\", \"2018-04-16\", \"2018-04-17\", \"2018-04-18\", \"2018-04-19\", \"2018-04-20\", \"2018-04-23\", \"2018-04-24\", \"2018-04-25\", \"2018-04-26\", \"2018-04-27\", \"2018-04-30\", \"2018-05-02\", \"2018-05-03\", \"2018-05-04\", \"2018-05-07\", \"2018-05-08\", \"2018-05-09\", \"2018-05-10\", \"2018-05-11\", \"2018-05-14\", \"2018-05-15\", \"2018-05-16\", \"2018-05-17\", \"2018-05-18\", \"2018-05-21\", \"2018-05-22\", \"2018-05-23\", \"2018-05-24\", \"2018-05-25\", \"2018-05-28\", \"2018-05-29\", \"2018-05-30\", \"2018-05-31\", \"2018-06-01\", \"2018-06-04\", \"2018-06-05\", \"2018-06-06\", \"2018-06-07\", \"2018-06-08\", \"2018-06-11\", \"2018-06-12\", \"2018-06-13\", \"2018-06-14\", \"2018-06-15\", \"2018-06-18\", \"2018-06-19\", \"2018-06-20\", \"2018-06-21\", \"2018-06-22\", \"2018-06-25\", \"2018-06-26\", \"2018-06-27\", \"2018-06-28\", \"2018-06-29\", \"2018-07-02\", \"2018-07-03\", \"2018-07-04\", \"2018-07-05\", \"2018-07-06\", \"2018-07-09\", \"2018-07-10\", \"2018-07-11\", \"2018-07-12\", \"2018-07-13\", \"2018-07-16\", \"2018-07-17\", \"2018-07-18\", \"2018-07-19\", \"2018-07-20\", \"2018-07-23\", \"2018-07-24\", \"2018-07-25\", \"2018-07-26\", \"2018-07-27\", \"2018-07-30\", \"2018-07-31\", \"2018-08-01\", \"2018-08-02\", \"2018-08-03\", \"2018-08-06\", \"2018-08-07\", \"2018-08-08\", \"2018-08-09\", \"2018-08-10\", \"2018-08-13\", \"2018-08-14\", \"2018-08-16\", \"2018-08-17\", \"2018-08-20\", \"2018-08-21\", \"2018-08-23\", \"2018-08-24\", \"2018-08-27\", \"2018-08-28\", \"2018-08-29\", \"2018-08-30\", \"2018-08-31\", \"2018-09-03\", \"2018-09-04\", \"2018-09-05\", \"2018-09-06\", \"2018-09-07\", \"2018-09-10\", \"2018-09-11\", \"2018-09-12\", \"2018-09-14\", \"2018-09-17\", \"2018-09-18\", \"2018-09-19\", \"2018-09-21\", \"2018-09-24\", \"2018-09-25\", \"2018-09-26\", \"2018-09-27\", \"2018-09-28\", \"2018-10-01\", \"2018-10-03\", \"2018-10-04\", \"2018-10-05\", \"2018-10-08\", \"2018-10-09\", \"2018-10-10\", \"2018-10-11\", \"2018-10-12\", \"2018-10-15\", \"2018-10-16\", \"2018-10-17\", \"2018-10-19\", \"2018-10-22\", \"2018-10-23\", \"2018-10-24\", \"2018-10-25\", \"2018-10-26\", \"2018-10-29\", \"2018-10-30\", \"2018-10-31\", \"2018-11-01\", \"2018-11-02\", \"2018-11-05\", \"2018-11-06\", \"2018-11-07\", \"2018-11-09\", \"2018-11-12\", \"2018-11-13\", \"2018-11-14\", \"2018-11-15\", \"2018-11-16\", \"2018-11-19\", \"2018-11-20\", \"2018-11-21\", \"2018-11-22\", \"2018-11-26\", \"2018-11-27\", \"2018-11-28\", \"2018-11-29\", \"2018-11-30\", \"2018-12-03\", \"2018-12-04\", \"2018-12-05\", \"2018-12-06\", \"2018-12-07\", \"2018-12-10\", \"2018-12-11\", \"2018-12-12\", \"2018-12-13\", \"2018-12-14\", \"2018-12-17\", \"2018-12-18\", \"2018-12-19\", \"2018-12-20\", \"2018-12-21\", \"2018-12-24\", \"2018-12-26\", \"2018-12-27\", \"2018-12-28\", \"2018-12-31\", \"2019-01-01\", \"2019-01-02\", \"2019-01-03\", \"2019-01-04\", \"2019-01-07\", \"2019-01-08\", \"2019-01-09\", \"2019-01-10\", \"2019-01-11\", \"2019-01-14\", \"2019-01-15\", \"2019-01-16\", \"2019-01-17\", \"2019-01-18\", \"2019-01-21\", \"2019-01-22\", \"2019-01-23\", \"2019-01-24\", \"2019-01-25\", \"2019-01-28\", \"2019-01-29\", \"2019-01-30\", \"2019-01-31\", \"2019-02-01\", \"2019-02-04\", \"2019-02-05\", \"2019-02-06\", \"2019-02-07\", \"2019-02-08\", \"2019-02-11\", \"2019-02-12\", \"2019-02-13\", \"2019-02-14\", \"2019-02-15\", \"2019-02-18\", \"2019-02-19\", \"2019-02-20\", \"2019-02-21\", \"2019-02-22\", \"2019-02-25\", \"2019-02-26\", \"2019-02-27\", \"2019-02-28\", \"2019-03-01\", \"2019-03-05\", \"2019-03-06\", \"2019-03-07\", \"2019-03-08\", \"2019-03-11\", \"2019-03-12\", \"2019-03-13\", \"2019-03-14\", \"2019-03-15\", \"2019-03-18\", \"2019-03-19\", \"2019-03-20\", \"2019-03-22\", \"2019-03-25\", \"2019-03-26\", \"2019-03-27\", \"2019-03-28\", \"2019-03-29\", \"2019-04-01\", \"2019-04-02\", \"2019-04-03\", \"2019-04-04\", \"2019-04-05\", \"2019-04-08\", \"2019-04-09\", \"2019-04-10\", \"2019-04-11\", \"2019-04-12\", \"2019-04-15\", \"2019-04-16\", \"2019-04-18\", \"2019-04-22\", \"2019-04-23\", \"2019-04-24\", \"2019-04-25\", \"2019-04-26\", \"2019-04-30\", \"2019-05-02\", \"2019-05-03\", \"2019-05-06\", \"2019-05-07\", \"2019-05-08\", \"2019-05-09\", \"2019-05-10\", \"2019-05-13\", \"2019-05-14\", \"2019-05-15\", \"2019-05-16\", \"2019-05-17\", \"2019-05-20\", \"2019-05-21\", \"2019-05-22\", \"2019-05-23\", \"2019-05-24\", \"2019-05-27\", \"2019-05-28\", \"2019-05-29\", \"2019-05-30\", \"2019-05-31\", \"2019-06-03\", \"2019-06-04\", \"2019-06-06\", \"2019-06-07\", \"2019-06-10\", \"2019-06-11\", \"2019-06-12\", \"2019-06-13\", \"2019-06-14\", \"2019-06-17\", \"2019-06-18\", \"2019-06-19\", \"2019-06-20\", \"2019-06-21\", \"2019-06-24\", \"2019-06-25\", \"2019-06-26\", \"2019-06-27\", \"2019-06-28\", \"2019-07-01\", \"2019-07-02\", \"2019-07-03\", \"2019-07-04\", \"2019-07-05\", \"2019-07-08\", \"2019-07-09\", \"2019-07-10\", \"2019-07-11\", \"2019-07-12\", \"2019-07-15\", \"2019-07-16\", \"2019-07-17\", \"2019-07-18\", \"2019-07-19\", \"2019-07-22\", \"2019-07-23\", \"2019-07-24\", \"2019-07-25\", \"2019-07-26\", \"2019-07-29\", \"2019-07-30\", \"2019-07-31\", \"2019-08-01\", \"2019-08-02\", \"2019-08-05\", \"2019-08-06\", \"2019-08-07\", \"2019-08-08\", \"2019-08-09\", \"2019-08-13\", \"2019-08-14\", \"2019-08-16\", \"2019-08-19\", \"2019-08-20\", \"2019-08-21\", \"2019-08-22\", \"2019-08-23\", \"2019-08-26\", \"2019-08-27\", \"2019-08-28\", \"2019-08-29\", \"2019-08-30\", \"2019-09-03\", \"2019-09-04\", \"2019-09-05\", \"2019-09-06\", \"2019-09-09\", \"2019-09-11\", \"2019-09-12\", \"2019-09-13\", \"2019-09-16\", \"2019-09-17\", \"2019-09-18\", \"2019-09-19\", \"2019-09-20\", \"2019-09-23\", \"2019-09-24\", \"2019-09-25\", \"2019-09-26\", \"2019-09-27\", \"2019-09-30\", \"2019-10-01\", \"2019-10-03\", \"2019-10-04\", \"2019-10-07\", \"2019-10-09\", \"2019-10-10\", \"2019-10-11\", \"2019-10-14\", \"2019-10-15\", \"2019-10-16\", \"2019-10-17\", \"2019-10-18\", \"2019-10-22\", \"2019-10-23\", \"2019-10-24\", \"2019-10-25\", \"2019-10-27\", \"2019-10-29\", \"2019-10-30\", \"2019-10-31\", \"2019-11-01\", \"2019-11-04\", \"2019-11-05\", \"2019-11-06\", \"2019-11-07\", \"2019-11-08\", \"2019-11-11\", \"2019-11-13\", \"2019-11-14\", \"2019-11-15\", \"2019-11-18\", \"2019-11-19\", \"2019-11-20\", \"2019-11-21\", \"2019-11-22\", \"2019-11-25\", \"2019-11-26\", \"2019-11-27\", \"2019-11-28\", \"2019-11-29\", \"2019-12-02\", \"2019-12-03\", \"2019-12-04\", \"2019-12-05\", \"2019-12-06\", \"2019-12-09\", \"2019-12-10\", \"2019-12-11\", \"2019-12-12\", \"2019-12-13\", \"2019-12-16\", \"2019-12-17\", \"2019-12-18\", \"2019-12-19\", \"2019-12-20\", \"2019-12-23\", \"2019-12-24\", \"2019-12-26\", \"2019-12-27\", \"2019-12-30\", \"2019-12-31\", \"2020-01-01\", \"2020-01-02\", \"2020-01-03\", \"2020-01-06\", \"2020-01-07\", \"2020-01-08\", \"2020-01-09\", \"2020-01-10\", \"2020-01-13\", \"2020-01-14\", \"2020-01-15\", \"2020-01-16\", \"2020-01-17\", \"2020-01-20\", \"2020-01-21\", \"2020-01-22\", \"2020-01-23\", \"2020-01-24\", \"2020-01-27\", \"2020-01-28\", \"2020-01-29\", \"2020-01-30\", \"2020-01-31\", \"2020-02-01\", \"2020-02-03\", \"2020-02-04\", \"2020-02-05\", \"2020-02-06\", \"2020-02-07\", \"2020-02-10\", \"2020-02-11\", \"2020-02-12\", \"2020-02-13\", \"2020-02-14\", \"2020-02-17\", \"2020-02-18\", \"2020-02-19\", \"2020-02-20\", \"2020-02-24\", \"2020-02-25\", \"2020-02-26\", \"2020-02-27\", \"2020-02-28\", \"2020-03-02\", \"2020-03-03\", \"2020-03-04\", \"2020-03-05\", \"2020-03-06\", \"2020-03-09\", \"2020-03-11\", \"2020-03-12\", \"2020-03-13\", \"2020-03-16\", \"2020-03-17\", \"2020-03-18\", \"2020-03-19\", \"2020-03-20\", \"2020-03-23\", \"2020-03-24\", \"2020-03-25\", \"2020-03-26\", \"2020-03-27\", \"2020-03-30\", \"2020-03-31\", \"2020-04-01\", \"2020-04-03\", \"2020-04-07\", \"2020-04-08\", \"2020-04-09\", \"2020-04-13\", \"2020-04-15\", \"2020-04-16\", \"2020-04-17\", \"2020-04-20\", \"2020-04-21\", \"2020-04-22\", \"2020-04-23\", \"2020-04-24\", \"2020-04-27\", \"2020-04-28\", \"2020-04-29\", \"2020-04-30\", \"2020-05-04\", \"2020-05-05\", \"2020-05-06\", \"2020-05-07\", \"2020-05-08\", \"2020-05-11\", \"2020-05-12\", \"2020-05-13\", \"2020-05-14\", \"2020-05-15\", \"2020-05-18\", \"2020-05-19\", \"2020-05-20\", \"2020-05-21\", \"2020-05-22\", \"2020-05-26\", \"2020-05-27\", \"2020-05-28\", \"2020-05-29\", \"2020-06-01\", \"2020-06-02\", \"2020-06-03\", \"2020-06-04\", \"2020-06-05\", \"2020-06-08\", \"2020-06-09\", \"2020-06-10\", \"2020-06-11\", \"2020-06-12\", \"2020-06-15\", \"2020-06-16\", \"2020-06-17\", \"2020-06-18\", \"2020-06-19\", \"2020-06-22\", \"2020-06-23\", \"2020-06-24\", \"2020-06-25\", \"2020-06-26\", \"2020-06-29\", \"2020-06-30\", \"2020-07-01\", \"2020-07-02\", \"2020-07-03\", \"2020-07-06\", \"2020-07-07\", \"2020-07-08\", \"2020-07-09\", \"2020-07-10\", \"2020-07-13\", \"2020-07-14\", \"2020-07-15\", \"2020-07-16\", \"2020-07-17\", \"2020-07-20\", \"2020-07-21\", \"2020-07-22\", \"2020-07-23\", \"2020-07-24\", \"2020-07-27\", \"2020-07-28\", \"2020-07-29\", \"2020-07-30\", \"2020-07-31\", \"2020-08-03\", \"2020-08-04\", \"2020-08-05\", \"2020-08-06\", \"2020-08-07\", \"2020-08-10\", \"2020-08-11\", \"2020-08-12\", \"2020-08-13\", \"2020-08-14\", \"2020-08-17\", \"2020-08-18\", \"2020-08-19\", \"2020-08-20\", \"2020-08-21\", \"2020-08-24\", \"2020-08-25\", \"2020-08-26\", \"2020-08-27\", \"2020-08-28\", \"2020-08-31\", \"2020-09-01\", \"2020-09-02\", \"2020-09-03\", \"2020-09-04\", \"2020-09-07\", \"2020-09-08\", \"2020-09-09\", \"2020-09-10\", \"2020-09-11\", \"2020-09-14\", \"2020-09-15\", \"2020-09-16\", \"2020-09-17\", \"2020-09-18\", \"2020-09-21\", \"2020-09-22\", \"2020-09-23\", \"2020-09-24\", \"2020-09-25\", \"2020-09-28\", \"2020-09-29\", \"2020-09-30\", \"2020-10-01\", \"2020-10-05\", \"2020-10-06\", \"2020-10-07\", \"2020-10-08\", \"2020-10-09\", \"2020-10-12\", \"2020-10-13\", \"2020-10-14\", \"2020-10-15\", \"2020-10-16\", \"2020-10-19\", \"2020-10-20\", \"2020-10-21\", \"2020-10-22\", \"2020-10-23\", \"2020-10-26\", \"2020-10-27\", \"2020-10-28\", \"2020-10-29\", \"2020-10-30\", \"2020-11-02\", \"2020-11-03\", \"2020-11-04\", \"2020-11-05\", \"2020-11-06\", \"2020-11-09\", \"2020-11-10\", \"2020-11-11\", \"2020-11-12\", \"2020-11-13\", \"2020-11-14\", \"2020-11-17\", \"2020-11-18\", \"2020-11-19\", \"2020-11-20\", \"2020-11-23\", \"2020-11-24\", \"2020-11-25\", \"2020-11-26\", \"2020-11-27\", \"2020-12-01\", \"2020-12-02\", \"2020-12-03\", \"2020-12-04\", \"2020-12-07\", \"2020-12-08\", \"2020-12-09\", \"2020-12-10\", \"2020-12-11\", \"2020-12-14\", \"2020-12-15\", \"2020-12-16\", \"2020-12-17\", \"2020-12-18\", \"2020-12-21\", \"2020-12-22\", \"2020-12-23\", \"2020-12-24\", \"2020-12-28\", \"2020-12-29\", \"2020-12-30\", \"2020-12-31\", \"2021-01-01\", \"2021-01-04\", \"2021-01-05\", \"2021-01-06\", \"2021-01-07\", \"2021-01-08\", \"2021-01-11\", \"2021-01-12\", \"2021-01-13\", \"2021-01-14\", \"2021-01-15\", \"2021-01-18\", \"2021-01-19\", \"2021-01-20\", \"2021-01-21\", \"2021-01-22\", \"2021-01-25\", \"2021-01-27\", \"2021-01-28\", \"2021-01-29\", \"2021-02-01\", \"2021-02-02\", \"2021-02-03\", \"2021-02-04\", \"2021-02-05\", \"2021-02-08\", \"2021-02-09\", \"2021-02-10\", \"2021-02-11\", \"2021-02-12\", \"2021-02-15\", \"2021-02-16\", \"2021-02-17\", \"2021-02-18\", \"2021-02-19\", \"2021-02-22\", \"2021-02-23\", \"2021-02-24\", \"2021-02-25\", \"2021-02-26\", \"2021-03-01\", \"2021-03-02\", \"2021-03-03\", \"2021-03-04\", \"2021-03-05\", \"2021-03-08\", \"2021-03-09\", \"2021-03-10\", \"2021-03-12\", \"2021-03-15\", \"2021-03-16\", \"2021-03-17\", \"2021-03-18\", \"2021-03-19\", \"2021-03-22\", \"2021-03-23\", \"2021-03-24\", \"2021-03-25\", \"2021-03-26\", \"2021-03-30\", \"2021-03-31\", \"2021-04-01\", \"2021-04-05\", \"2021-04-06\", \"2021-04-07\", \"2021-04-08\", \"2021-04-09\", \"2021-04-12\", \"2021-04-13\", \"2021-04-15\", \"2021-04-16\", \"2021-04-19\", \"2021-04-20\", \"2021-04-22\", \"2021-04-23\", \"2021-04-26\", \"2021-04-27\", \"2021-04-28\", \"2021-04-29\", \"2021-04-30\"], \"xaxis\": \"x\", \"y\": [169.52, 174.99, 169.2, 168.44, 166.79, 167.79, 161.4, 163.89, 165.26, 164.68, 177.96, 168.86, 178.0, 179.03, 181.9, 198.75, 210.62, 229.18, 227.85, 241.45, 238.92, 245.93, 233.14, 224.0, 240.7, 249.44, 252.96, 254.44, 236.2, 231.65, 231.01, 239.38, 253.57, 244.75, 240.46, 223.6, 226.4, 223.39, 227.89, 224.08, 226.42, 230.17, 252.9, 273.15, 262.51, 260.59, 276.05, 262.23, 255.35, 264.1, 262.42, 258.15, 258.11, 253.52, 260.42, 277.67, 270.64, 271.53, 273.31, 272.29, 257.66, 256.56, 256.59, 227.68, 215.65, 196.65, 207.41, 224.44, 222.63, 232.04, 225.69, 214.03, 220.07, 225.01, 221.84, 230.97, 226.6, 243.55, 243.28, 245.37, 247.26, 243.14, 250.82, 260.3, 260.42, 259.1, 259.75, 264.03, 264.39, 256.61, 257.24, 258.02, 256.49, 256.65, 250.11, 230.74, 241.3, 239.09, 231.55, 222.08, 223.31, 230.26, 229.34, 239.93, 254.38, 243.49, 238.78, 240.33, 245.96, 245.77, 248.08, 250.83, 250.18, 250.68, 251.41, 254.39, 258.96, 258.49, 257.43, 255.02, 253.42, 250.33, 255.46, 252.7, 266.29, 276.58, 276.61, 275.03, 281.49, 278.92, 276.2, 270.24, 268.01, 266.91, 255.95, 251.66, 250.34, 251.61, 242.87, 228.9, 236.41, 245.33, 243.63, 238.83, 233.88, 229.64, 223.22, 242.59, 250.17, 239.89, 249.72, 247.06, 245.0, 242.45, 242.88, 245.95, 250.81, 239.47, 232.76, 230.85, 233.96, 231.85, 238.82, 237.08, 235.68, 236.07, 237.72, 239.25, 241.16, 244.81, 242.19, 239.63, 240.57, 237.02, 237.07, 233.28, 227.02, 209.57, 222.54, 225.49, 222.98, 217.88, 222.74, 221.9, 223.84, 223.87, 233.51, 236.82, 235.75, 234.91, 239.67, 241.64, 239.81, 233.78, 235.77, 234.87, 236.13, 237.14, 235.88, 241.93, 244.46, 243.72, 242.46, 241.97, 242.11, 240.21, 244.67, 250.52, 247.91, 250.94, 250.29, 249.92, 248.75, 246.93, 242.46, 245.12, 240.9, 235.05, 240.47, 232.71, 227.93, 228.0, 226.61, 225.42, 217.71, 222.86, 225.24, 223.32, 221.81, 221.53, 215.22, 216.85, 214.99, 219.91, 218.72, 219.78, 222.87, 228.96, 234.99, 232.35, 222.03, 216.88, 215.56, 219.65, 217.23, 216.87, 215.01, 218.32, 221.21, 222.73, 223.52, 222.92, 228.46, 226.32, 227.34, 230.2, 234.39, 230.07, 229.41, 235.11, 245.24, 249.23, 247.7, 248.95, 250.31, 252.75, 249.64, 248.74, 250.28, 246.02, 246.99, 253.17, 251.69, 250.88, 262.38, 260.36, 254.71, 256.08, 271.04, 267.12, 260.69, 261.14, 263.03, 258.64, 256.95, 252.82, 248.0, 251.84, 248.14, 249.35, 249.88, 260.17, 267.69, 267.69, 260.07, 255.2, 261.19, 252.77, 250.44, 234.5, 234.25, 243.7, 233.36, 233.04, 229.63, 232.64, 233.01, 228.79, 228.19, 227.46, 230.32, 229.42, 228.52, 218.77, 224.12, 224.08, 227.58, 224.01, 226.1, 228.02, 227.21, 233.6, 242.63, 246.13, 240.29, 242.37, 242.59, 239.86, 237.38, 237.45, 232.68, 230.43, 234.67, 232.56, 232.21, 235.87, 233.3, 234.43, 239.16, 234.75, 235.71, 237.44, 239.97, 237.49, 236.77, 238.42, 237.06, 237.62, 236.73, 231.8, 233.17, 234.48, 231.08, 229.74, 230.25, 231.37, 232.19, 233.31, 228.66, 230.84, 230.06, 229.34, 228.0, 220.57, 213.11, 203.96, 204.91, 210.88, 219.68, 220.6, 213.22, 214.24, 213.87, 214.78, 211.73, 213.04, 207.95, 201.97, 203.65, 203.94, 204.01, 206.58, 210.72, 214.85, 219.49, 219.2, 220.98, 226.24, 224.59, 225.63, 219.88, 225.27, 230.74, 229.67, 231.13, 231.27, 233.85, 234.73, 233.98, 233.6, 232.15, 231.98, 233.19, 230.22, 230.81, 230.53, 231.72, 232.71, 238.07, 234.52, 235.38, 234.93, 235.37, 235.03, 234.97, 234.83, 234.93, 235.66, 234.2, 234.41, 234.72, 235.42, 232.2, 232.36, 234.73, 221.95, 219.81, 210.36, 193.76, 195.11, 208.36, 213.58, 210.78, 204.03, 207.47, 211.04, 212.94, 216.17, 212.85, 210.5, 211.85, 213.27, 211.29, 214.39, 214.79, 218.92, 232.34, 228.68, 227.67, 225.4, 224.18, 224.3, 231.52, 224.5, 225.83, 223.17, 220.51, 217.95, 217.74, 217.9, 220.58, 221.44, 217.92, 218.54, 216.93, 219.06, 219.46, 219.49, 221.95, 220.2, 222.17, 224.18, 224.81, 223.58, 224.62, 227.32, 226.61, 226.06, 220.16, 220.52, 222.87, 222.75, 226.08, 230.34, 232.0, 224.64, 224.76, 225.92, 224.48, 221.42, 219.88, 218.96, 222.0, 218.3, 220.37, 221.06, 220.27, 222.91, 225.02, 224.53, 224.7, 224.49, 223.79, 222.66, 224.46, 224.81, 228.42, 233.99, 241.27, 234.42, 232.33, 235.46, 237.84, 239.3, 242.13, 238.64, 230.32, 229.9, 227.43, 224.77, 224.87, 224.71, 225.25, 223.43, 224.15, 228.34, 224.18, 229.14, 231.5, 230.67, 228.83, 233.11, 248.21, 237.31, 236.47, 237.39, 243.48, 246.34, 238.3, 237.35, 238.22, 235.17, 235.68, 235.73, 237.27, 237.27, 233.99, 233.15, 231.17, 233.86, 234.52, 235.0, 237.33, 235.75, 235.4, 234.44, 233.56, 231.55, 235.71, 237.15, 234.64, 234.79, 229.46, 227.14, 225.07, 225.09, 225.93, 226.05, 223.68, 223.48, 224.05, 224.03, 225.15, 225.1, 227.8, 221.41, 224.78, 224.56, 222.94, 224.28, 219.7, 219.54, 218.27, 216.5, 217.19, 218.44, 220.56, 221.53, 221.3, 219.77, 219.99, 221.97, 216.75, 218.65, 216.68, 218.64, 218.85, 214.55, 216.69, 219.27, 221.61, 221.6, 221.81, 225.74, 229.85, 227.17, 222.74, 222.1, 218.0, 220.03, 220.69, 219.96, 219.34, 219.85, 219.04, 218.97, 218.67, 217.92, 219.42, 214.97, 214.59, 214.46, 208.3, 203.05, 209.51, 209.82, 209.38, 213.31, 213.36, 210.07, 209.29, 209.83, 209.48, 209.99, 209.95, 209.49, 209.23, 210.65, 212.59, 213.04, 217.23, 212.76, 212.05, 211.54, 212.27, 210.27, 211.93, 211.54, 209.5, 210.35, 210.56, 210.24, 209.59, 209.86, 209.87, 210.5, 208.47, 209.92, 210.35, 210.88, 209.43, 208.6, 209.37, 209.31, 209.65, 209.9, 209.56, 210.47, 210.24, 209.78, 211.45, 211.67, 211.18, 209.91, 211.69, 213.63, 213.99, 215.71, 218.84, 222.62, 220.45, 220.19, 219.94, 216.55, 210.58, 210.1, 214.2, 215.82, 212.61, 209.1, 209.03, 208.78, 209.11, 208.35, 206.87, 206.96, 207.84, 205.5, 200.02, 199.4, 197.17, 196.85, 195.94, 194.87, 193.46, 194.16, 195.09, 188.79, 190.35, 190.15, 192.25, 193.89, 194.73, 195.29, 195.38, 196.85, 193.56, 192.45, 192.71, 193.77, 193.11, 193.13, 195.2, 196.12, 195.65, 195.72, 195.27, 195.14, 194.82, 194.89, 195.39, 196.35, 197.1, 197.57, 190.81, 188.74, 191.65, 201.51, 210.4, 211.74, 217.05, 216.98, 219.61, 220.58, 219.63, 218.27, 218.26, 214.88, 214.45, 216.95, 217.17, 216.57, 215.02, 216.83, 214.91, 213.36, 214.69, 217.39, 217.81, 219.7, 218.61, 221.58, 223.8, 225.98, 236.04, 238.98, 237.79, 237.26, 229.17, 229.38, 228.58, 236.6, 238.15, 240.96, 240.04, 242.21, 248.23, 244.18, 245.44, 246.2, 249.34, 248.48, 246.25, 250.53, 251.18, 249.83, 248.61, 245.87, 247.82, 248.11, 248.3, 247.4, 242.2, 241.92, 241.22, 238.14, 240.42, 238.65, 238.24, 239.63, 239.8, 240.14, 243.99, 240.12, 239.33, 235.67, 233.08, 235.02, 228.1, 234.56, 236.66, 234.1, 234.13, 234.85, 235.91, 247.08, 242.14, 237.37, 242.5, 239.69, 239.18, 244.37, 247.03, 245.0, 243.44, 237.43, 240.54, 243.61, 243.8, 246.14, 244.12, 252.05, 252.06, 247.49, 245.5, 243.32, 243.75, 244.98, 244.66, 243.48, 247.41, 250.2, 249.04, 245.82, 244.0, 243.85, 243.56, 249.62, 246.16, 245.16, 246.02, 246.05, 244.99, 247.06, 252.85, 253.46, 259.38, 262.49, 255.94, 256.91, 253.25, 253.26, 253.17, 253.94, 251.67, 250.17, 249.82, 246.22, 242.23, 241.98, 242.42, 248.88, 254.95, 261.53, 263.22, 287.22, 277.8, 280.64, 289.59, 283.27, 284.11, 288.74, 286.29, 284.97, 281.54, 276.58, 273.93, 277.22, 272.21, 259.29, 258.47, 264.11, 266.36, 264.68, 269.82, 265.04, 265.24, 269.21, 277.34, 275.82, 272.53, 272.25, 274.83, 274.68, 269.67, 270.27, 276.19, 280.27, 285.22, 287.33, 288.6, 279.43, 280.1, 284.71, 280.12, 277.19, 277.95, 281.17, 284.78, 279.84, 279.66, 279.94, 280.14, 279.27, 279.46, 278.25, 277.21, 276.83, 277.78, 266.74, 268.76, 264.85, 265.69, 272.85, 271.5, 268.95, 271.71, 274.04, 282.06, 292.15, 305.28, 311.75, 310.9, 313.84, 312.36, 311.07, 312.86, 309.39, 312.8, 319.55, 317.85, 311.7, 304.11, 300.46, 301.07, 307.38, 306.85, 310.63, 315.6, 317.78, 315.91, 319.64, 312.35, 310.16, 307.91, 305.8, 307.0, 306.41, 302.53, 300.84, 299.39, 299.17, 301.17, 302.84, 297.86, 299.7, 299.68, 303.47, 303.02, 303.69, 303.48, 310.18, 317.74, 325.16, 331.71, 329.73, 324.61, 332.81, 338.0, 347.96, 353.83, 355.81, 359.27, 359.07, 355.52, 358.73, 359.4, 357.49, 357.67, 357.61, 371.38, 378.34, 369.66, 365.57, 366.2, 366.21, 368.55, 361.74, 360.04, 370.28, 365.55, 364.96, 364.79, 384.48, 393.1, 373.08, 375.99, 368.34, 369.06, 364.66, 365.26, 361.38, 358.44, 345.01, 342.29, 340.25, 352.82, 352.67, 363.08, 371.38, 373.35, 373.82, 373.81, 376.38, 378.81, 378.43, 376.05, 366.15, 362.27, 368.96, 364.48, 368.01, 370.6, 376.08, 388.2, 382.43, 384.04, 386.25, 377.28, 377.17, 374.96, 364.7, 363.08, 352.19, 357.34, 356.55, 355.12, 340.93, 342.95, 350.63, 361.84, 368.36, 374.24, 369.68, 374.56, 383.19, 388.37, 392.8, 385.34, 382.16, 381.93, 376.27, 381.62, 381.76, 382.03, 380.75, 375.96, 375.32, 373.08, 374.01, 380.12, 379.91, 379.97, 377.58, 378.87, 375.96, 379.44, 383.78, 386.4, 378.77, 378.22, 372.28, 363.73, 365.11, 353.24, 312.06, 331.14, 353.8, 352.72, 353.59, 368.78, 365.95, 371.03, 372.33, 368.75, 355.61, 352.36, 353.72, 353.21, 352.4, 362.62, 362.9, 367.76, 382.25, 367.57, 362.02, 363.4, 368.81, 373.53, 375.13, 376.91, 375.36, 369.02, 371.45, 363.84, 365.23, 369.09, 368.61, 370.91, 365.04, 358.62, 364.52, 369.14, 365.18, 367.41, 368.22, 364.19, 365.87, 365.46, 363.3, 367.31, 367.88, 370.61, 369.7, 367.19, 371.51, 374.07, 370.8, 373.9, 373.89, 371.35, 367.48, 365.51, 369.02, 366.6, 368.24, 373.02, 373.21, 370.53, 367.48, 362.86, 364.01, 362.22, 362.48, 359.27, 359.99, 370.66, 374.46, 376.45, 372.24, 370.58, 367.65, 368.47, 370.71, 369.87, 375.56, 381.38, 387.91, 387.21, 389.72, 389.68, 389.96, 396.43, 396.91, 401.67, 405.56, 407.98, 410.16, 413.27, 405.17, 401.19, 405.31, 403.92, 404.77, 410.94, 413.8, 416.31, 414.56, 410.03, 410.1, 408.69, 409.24, 403.94, 401.08, 404.98, 408.91, 412.24, 412.58, 405.03, 409.85, 409.42, 417.2, 418.16, 415.04, 420.79, 418.85, 427.2, 425.82, 432.85, 447.67, 453.42, 472.28, 470.3, 469.99, 475.65, 483.95, 479.04, 484.02, 477.85, 483.97, 483.87, 495.56, 498.75, 498.52, 488.21, 488.35, 487.16, 483.6, 480.51, 476.51, 477.45, 468.42, 472.88, 475.62, 476.21, 481.45, 482.0, 491.07, 494.27, 498.34, 492.87, 501.0, 502.97, 512.51, 516.54, 519.84, 521.21, 524.22, 523.22, 505.04, 489.22, 489.34, 499.41, 483.86, 480.76, 499.17, 512.22, 515.82, 512.64, 518.35, 511.76, 493.63, 505.64, 526.6, 536.74, 552.91, 558.31, 557.36, 570.9, 571.33, 565.17, 566.11, 583.61, 579.1, 572.95, 572.21, 565.08, 568.25, 558.87, 563.79, 561.45, 559.82, 557.7, 567.0, 567.26, 584.53, 578.26, 576.3, 576.91, 585.73, 599.08, 613.71, 618.64, 622.17, 610.28, 604.87, 593.7, 596.56, 580.34, 565.33, 561.66, 550.52, 537.19, 518.33, 533.66, 533.14, 531.74, 544.77, 545.93, 549.46, 549.01, 549.02, 564.08, 547.4, 553.54, 557.03, 565.89, 544.35, 520.58, 531.1, 540.17, 537.72, 539.65, 539.95, 539.07, 538.41, 536.59, 531.26, 539.4, 538.95, 537.94, 546.97, 540.57, 537.04, 540.94, 534.57, 533.58, 532.7, 539.14, 538.14, 534.34, 543.04, 538.85, 546.13, 549.29, 541.03, 537.49, 539.7, 537.14, 538.59, 539.3, 540.56, 544.33, 540.13, 548.8, 573.99, 586.46, 581.9, 580.53, 576.55, 590.01, 592.95, 594.93, 595.4, 597.24, 598.09, 598.65, 581.37, 580.22, 596.07, 588.0, 601.28, 629.59, 621.04, 630.65, 633.09, 639.84, 651.46, 648.14, 663.1, 658.99, 644.14, 641.92, 634.96, 628.44, 637.79, 642.7, 643.29, 641.31, 678.84, 681.1, 687.93, 706.97, 676.55, 673.64, 678.1, 683.58, 676.91, 660.88, 656.33, 659.99, 662.39, 663.96, 651.04, 662.22, 660.21, 659.17, 659.18, 651.41, 643.64, 644.46, 638.58, 636.7, 645.13, 639.78, 637.39, 634.59, 641.46, 640.06, 648.4, 668.76, 671.99, 679.02, 687.95, 690.74, 693.22, 708.82, 724.46, 726.12, 707.95, 674.43, 678.14, 686.75, 693.2, 697.59, 691.75, 681.65, 704.2, 703.62, 686.32, 674.76, 686.35, 686.93, 682.86, 661.66, 654.24, 662.93, 648.49, 644.92, 647.93, 639.83, 636.93, 631.4, 626.47, 611.76, 613.87, 626.71, 620.97, 629.35, 635.08, 633.15, 629.25, 634.44, 663.4, 688.44, 696.37, 701.58, 684.19, 683.09, 686.71, 691.11, 694.75, 694.84, 696.46, 685.79, 691.5, 689.66, 705.67, 693.96, 685.23, 689.15, 690.07, 688.37, 693.08, 695.13, 711.62, 714.53, 696.64, 707.11, 725.75, 737.14, 737.45, 727.52, 706.99, 707.23, 711.26, 707.42, 708.06, 713.95, 713.82, 724.49, 736.08, 754.63, 763.05, 753.9, 749.65, 740.9, 740.33, 748.22, 731.72, 729.08, 729.61, 720.91, 719.44, 718.21, 738.16, 742.21, 754.03, 753.36, 745.2, 728.0, 739.22, 759.09, 757.0, 761.77, 750.74, 749.14, 745.49, 755.91, 743.98, 726.34, 726.48, 725.88, 716.13, 710.76, 725.13, 731.68, 737.92, 749.02, 757.21, 760.22, 757.5, 749.87, 748.44, 755.48, 757.71, 766.11, 767.92, 758.53, 767.67, 756.32, 757.99, 745.52, 739.68, 737.99, 740.71, 743.28, 772.02, 775.4, 772.34, 812.81, 837.77, 818.63, 820.67, 810.2, 805.34, 810.41, 833.43, 849.77, 844.36, 852.68, 821.34, 827.52, 838.96, 834.51, 807.81, 824.01, 852.74, 864.87, 877.25, 876.51, 870.06, 862.53, 865.69, 870.32, 866.89, 851.45, 836.85, 837.29, 821.07, 799.28, 776.93, 764.12, 759.09, 747.16, 772.34, 773.79, 752.13, 729.67, 743.27, 758.34, 749.41, 725.82, 717.83, 683.28, 700.39, 703.01, 651.82, 645.07, 693.71, 746.21, 727.11, 711.11, 711.37, 733.27, 740.15, 743.51, 762.32, 741.71, 731.35, 749.44, 780.87, 779.95, 785.72, 803.95, 796.9, 789.15, 775.49, 763.97, 753.29, 752.4, 729.72, 713.34, 708.88, 702.61, 732.31, 711.84, 726.56, 758.95, 772.04, 784.93, 791.89, 796.75, 780.68, 775.02, 798.21, 797.78, 801.36, 811.58, 809.84, 805.46, 810.23, 807.55, 841.64, 846.13, 837.12, 835.29, 849.14, 850.76, 845.78, 847.6, 844.46, 852.39, 841.57, 848.58, 866.58, 881.51, 876.25, 869.26, 850.37, 848.12, 826.42, 834.13, 871.0, 867.37, 877.49, 881.3, 880.05, 873.81, 879.25, 878.59, 877.8, 885.71, 900.52, 917.69, 924.46, 922.14, 900.7, 928.94, 937.47, 928.65, 938.88, 956.26, 957.98, 990.19, 1042.14, 1031.09, 982.57, 973.17, 964.63, 961.57, 966.65, 992.71, 1002.63, 1012.02, 1012.3, 1004.34, 1008.69, 1002.82, 1000.5, 1002.21, 997.72, 1012.84, 1040.67, 1055.67, 1060.0, 1074.66, 1126.03, 1132.02, 1092.18, 1090.45, 1090.54, 1098.9, 1112.49, 1111.71, 1096.72, 1093.98, 1119.53, 1129.16, 1104.43, 1098.51, 1093.94, 1102.21, 1094.94, 1026.87, 1036.92, 1042.59, 1044.03, 1060.85, 1051.18, 1043.42, 1020.8, 1012.25, 1006.23, 1023.11, 1054.71, 1074.95, 1085.66, 1075.58, 1062.99, 1046.79, 1056.32, 1032.82, 1015.68, 1003.47, 999.93, 1040.98, 1091.99, 1092.65, 1062.54, 1065.36, 1069.12, 1054.13, 1038.91, 1048.15, 1063.03, 1070.21, 1066.58, 1088.58, 1109.37, 1097.98, 1091.2, 1086.13, 1109.84, 1108.65, 1100.72, 1072.67, 1021.1, 1040.74, 1033.2, 1034.37, 1020.8, 997.37, 963.47, 952.09, 957.7, 931.4, 968.87, 949.5, 924.95, 926.62, 927.41, 951.0, 974.08, 964.14, 954.18, 931.67, 928.79, 900.86, 918.28, 954.61, 962.45, 1005.2, 1008.03, 977.24, 959.84, 935.62, 952.79, 909.64, 914.02, 925.91, 932.73, 966.49, 975.03, 983.35, 958.22, 977.77, 982.51, 979.8, 985.22, 980.12, 997.22, 989.07, 1010.36, 1030.14, 1032.4, 1023.04, 1013.54, 1008.42, 1009.32, 1007.3, 992.36, 988.3, 1014.12, 996.36, 1004.92, 1005.7, 1020.82, 1049.2, 1060.3, 1107.4, 1120.45, 1116.01, 1094.57, 1072.61, 1122.68, 1134.96, 1115.05, 1140.14, 1155.13, 1164.74, 1158.8, 1140.55, 1116.45, 1088.22, 1113.38, 1089.55, 1079.63, 1098.51, 1110.46, 1107.13, 1100.09, 1101.94, 1104.8, 1106.11, 1099.24, 1101.92, 1092.72, 1089.95, 1120.68, 1145.08, 1155.54, 1145.79, 1137.54, 1144.4, 1169.48, 1164.06, 1150.29, 1186.68, 1218.33, 1209.46, 1199.86, 1203.83, 1192.03, 1204.02, 1217.36, 1235.32, 1228.71, 1207.01, 1163.95, 1175.62, 1181.52, 1151.06, 1150.25, 1153.73, 1125.6, 1143.42, 1174.22, 1174.58, 1123.77, 1135.88, 1138.8, 1098.41, 1067.43, 1119.19, 1107.87, 1108.92, 1110.16, 1090.98, 1113.77, 1140.12, 1155.88, 1175.58, 1177.32, 1184.87, 1175.74, 1170.18, 1178.52, 1191.62, 1186.21, 1195.19, 1185.95, 1205.6, 1235.66, 1228.13, 1217.65, 1304.06, 1322.93, 1318.77, 1343.74, 1370.39, 1373.12, 1404.05, 1429.56, 1417.69, 1422.16, 1402.27, 1406.32, 1417.83, 1412.38, 1420.78, 1439.24, 1433.45, 1491.15, 1494.73, 1439.4, 1426.58, 1373.87, 1365.66, 1468.59, 1496.04, 1504.24, 1541.74, 1641.01, 1652.8, 1634.76, 1700.36, 1713.85, 1713.83, 1717.73, 1658.56, 1562.64, 1548.05, 1476.96, 1540.98, 1716.37, 1694.33, 1683.4, 1657.29, 1637.33, 1575.73, 1574.87, 1564.46, 1651.6, 1623.27, 1623.35, 1678.97, 1717.84, 1696.5, 1701.16, 1717.65, 1716.34, 1721.35, 1695.93, 1753.62, 1755.27, 1758.82, 1721.11, 1682.9, 1650.97, 1655.86, 1642.32, 1689.16, 1700.43, 1735.69, 1718.32, 1723.59, 1724.04, 1713.95, 1695.1, 1698.64, 1656.69, 1704.31, 1745.78, 1755.83, 1745.9, 1793.88, 1797.29, 1678.01, 1642.29, 1593.58, 1508.0, 1429.73, 1509.92, 1525.07, 1612.85, 1529.51, 1554.74, 1527.69, 1557.47, 1533.41, 1575.54, 1524.93, 1490.26, 1494.13, 1469.53, 1395.11, 1412.45, 1463.89, 1536.64, 1544.39, 1554.87, 1568.35, 1526.4, 1539.75, 1489.42, 1419.17, 1457.35, 1464.31, 1468.56, 1448.67, 1397.73, 1347.09, 1337.85, 1278.59, 1281.41, 1326.69, 1396.51, 1308.96, 1307.96, 1233.69, 1208.14, 1290.03, 1314.47, 1400.75, 1436.19, 1430.84, 1394.8, 1325.46, 1302.66, 1347.44, 1336.48, 1296.24, 1301.09, 1306.39, 1335.16, 1349.58, 1336.61, 1303.85, 1314.22, 1370.6, 1439.12, 1471.79, 1448.71, 1441.78, 1481.12, 1526.85, 1533.24, 1529.44, 1547.61, 1541.79, 1542.79, 1538.35, 1509.77, 1466.92, 1453.9, 1482.98, 1463.69, 1476.74, 1508.78, 1468.93, 1413.99, 1381.48, 1390.0, 1354.57, 1327.86, 1336.28, 1335.25, 1354.68, 1330.64, 1268.27, 1229.98, 1207.0, 1246.05, 1180.13, 1129.3, 1175.49, 1149.01, 1136.59, 1146.64, 1195.36, 1177.29, 1126.16, 1102.58, 1095.62, 1084.7, 1061.85, 1072.54, 1014.28, 1003.72, 982.99, 1008.87, 982.9, 997.19, 1015.54, 991.49, 1045.4, 1055.45, 1054.66, 1032.7, 940.54, 919.91, 958.42, 1024.47, 1068.69, 1121.03, 1190.93, 1209.75, 1130.59, 1131.75, 1038.85, 1089.04, 1093.96, 1095.34, 1114.87, 1161.18, 1257.21, 1248.04, 1255.48, 1316.76, 1282.88, 1228.37, 1176.74, 1206.51, 1193.74, 1227.77, 1188.69, 1181.62, 1222.01, 1237.6, 1247.19, 1218.24, 1271.26, 1273.37, 1333.48, 1306.46, 1257.16, 1308.44, 1297.51, 1270.48, 1262.8, 1244.4, 1187.75, 1203.28, 1206.88, 1173.01, 1285.82, 1302.02, 1262.45, 1279.64, 1290.39, 1256.13, 1208.04, 1208.79, 1270.17, 1288.61, 1228.13, 1155.31, 1052.9, 1038.08, 1131.03, 1168.19, 1130.06, 1085.93, 1073.83, 1076.7, 1100.78, 1071.23, 1054.53, 978.26, 905.29, 966.46, 964.92, 1019.8, 1065.35, 1084.08, 1122.16, 1065.13, 1071.02, 1089.45, 1042.57, 1027.53, 1019.57, 942.39, 907.51, 923.96, 825.25, 839.28, 833.07, 856.15, 871.81, 908.41, 939.24, 865.76, 880.47, 900.94, 907.49, 930.65, 921.67, 927.71, 903.82, 947.82, 957.92, 1000.67, 1031.57, 1057.28, 1039.35, 994.77, 965.28, 991.96, 982.69, 1018.95, 1011.3, 1010.33, 1020.3, 1038.59, 1074.25, 1044.29, 1019.83, 1002.49, 989.75, 993.16, 920.66, 936.04, 941.26, 910.17, 891.81, 897.63, 888.51, 889.22, 904.3, 920.15, 925.39, 896.15, 899.48, 889.58, 890.36, 897.38, 913.09, 944.81, 929.65, 933.51, 946.03, 916.13, 880.58, 874.69, 884.49, 866.62, 849.07, 865.43, 862.6, 867.65, 847.44, 835.41, 841.67, 818.6, 803.29, 798.07, 805.0, 823.42, 839.03, 840.71, 848.27, 834.04, 827.08, 871.58, 954.57, 961.03, 989.23, 999.62, 954.58, 952.64, 980.71, 1039.15, 1061.44, 1031.21, 1056.07, 1100.78, 1077.19, 1073.46, 1083.91, 1074.94, 1078.76, 1086.43, 1086.51, 1099.37, 1120.37, 1094.84, 1094.59, 1178.43, 1184.45, 1177.3, 1175.49, 1140.72, 1151.69, 1179.31, 1162.53, 1151.88, 1177.19, 1377.36, 1404.82, 1376.68, 1372.12, 1373.9, 1363.75, 1363.67, 1403.02, 1432.22, 1446.57, 1433.93, 1398.47, 1385.76, 1375.13, 1412.73, 1402.14, 1415.52, 1500.96, 1544.1, 1530.95, 1534.24, 1529.91, 1553.3, 1533.52, 1546.36, 1550.62, 1486.81, 1470.23, 1468.94, 1484.74, 1511.66, 1494.17, 1500.95, 1490.33, 1501.0, 1454.53, 1423.77, 1379.74, 1395.54, 1387.73, 1367.69, 1380.11, 1362.04, 1384.65, 1414.4, 1455.66, 1464.41, 1452.6, 1453.22, 1444.19, 1435.06, 1415.91, 1410.31, 1447.69, 1495.82, 1479.56, 1479.74, 1447.11, 1433.45, 1399.36, 1379.11, 1376.0, 1384.74, 1421.04, 1422.22, 1406.66, 1437.98, 1438.45, 1480.01, 1463.66, 1479.53, 1481.87, 1468.19, 1453.42, 1453.45, 1466.81, 1456.66, 1440.08, 1434.69, 1442.0, 1463.72, 1463.86, 1466.3, 1490.64, 1480.13, 1495.75, 1507.36, 1519.05, 1532.44, 1523.26, 1535.41, 1572.09, 1607.47, 1608.02, 1613.88, 1640.75, 1650.78, 1635.83, 1640.05, 1690.04, 1676.65, 1674.1, 1683.12, 1703.88, 1711.53, 1721.68, 1707.39, 1697.74, 1673.05, 1666.33, 1686.69, 1684.54, 1673.81, 1635.78, 1616.55, 1641.59, 1612.71, 1620.81, 1604.49, 1640.22, 1680.18, 1712.06, 1721.86, 1723.72, 1726.94, 1731.74, 1727.22, 1748.52, 1724.96, 1743.82, 1767.1, 1758.38, 1795.01, 1770.61, 1717.05, 1761.85, 1785.91, 1800.1, 1813.88, 1791.07, 1796.41, 1815.8, 1804.75, 1785.62, 1784.45, 1769.42, 1728.15, 1690.92, 1677.95, 1661.82, 1658.9, 1654.52, 1675.57, 1704.81, 1699.95, 1686.03, 1700.15, 1704.63, 1713.93, 1701.5, 1714.12, 1715.09, 1715.66, 1695.82, 1681.3, 1683.13, 1689.42, 1755.69, 1775.4, 1759.19, 1720.43, 1682.38, 1646.37, 1620.0, 1592.74, 1595.47, 1605.38, 1583.09, 1613.22, 1611.09, 1575.63, 1576.16, 1566.91, 1567.37, 1589.31, 1614.83, 1603.38, 1600.05, 1642.63, 1675.06, 1682.95, 1703.74, 1699.43, 1700.19, 1692.62, 1711.84, 1730.48, 1762.97, 1773.16, 1782.31, 1786.32, 1804.65, 1812.65, 1820.44, 1801.8, 1812.28, 1786.12, 1808.04, 1798.71, 1816.11, 1840.23, 1872.04, 1911.28, 1934.81, 1967.76, 1926.3, 1923.85, 1934.36, 1943.02, 1933.75, 1936.9, 1909.48, 1939.38, 1955.03, 1946.88, 1967.04, 1957.51, 1942.29, 1946.38, 1948.04, 1935.46, 1946.72, 1987.63, 1978.84, 1972.0, 1972.12, 1998.5, 1974.44, 1953.69, 1902.01, 1895.61, 1850.09, 1910.34, 1940.14, 1967.24, 1973.08, 1959.76, 1926.1, 1902.34, 1864.2, 1857.94, 1830.73, 1838.05, 1804.19, 1834.76, 1872.04, 1897.65, 1884.1, 1855.75, 1842.82, 1893.91, 1889.21, 1873.32, 1877.11, 1881.31, 1899.89, 1944.46, 1969.1, 1965.65, 1980.25, 1986.55, 1990.51, 2001.46, 1991.07, 1996.59, 1999.2, 1958.81, 1941.34, 1911.24, 1903.4, 1903.53, 1914.49, 1914.7, 1948.07, 1945.84, 1954.83, 1985.04, 2041.73, 2062.24, 2102.47, 2067.59, 2042.2, 2050.21, 2051.67, 2037.92, 2045.05, 2036.98, 2044.34, 2064.76, 2081.53, 2096.82, 2115.87, 2132.94, 2132.35, 2107.78, 2106.28, 2092.83, 2082.83, 2086.4, 2098.54, 2066.68, 2083.7, 2085.3, 2115.19, 2174.53, 2213.28, 2218.87, 2202.16, 2186.77, 2196.14, 2189.19, 2163.22, 2129.93, 2129.98, 2142.55, 2184.46, 2186.85, 2206.41, 2193.99, 2183.9, 2226.64, 2273.05, 2334.62, 2362.89, 2389.29, 2398.31, 2425.94, 2474.31, 2465.72, 2461.15, 2483.43, 2460.07, 2438.82, 2442.41, 2474.86, 2482.51, 2496.23, 2466.8, 2461.2, 2438.72, 2405.98, 2391.56, 2360.08, 2423.96, 2431.79, 2403.73, 2379.04, 2397.11, 2344.86, 2358.48, 2337.97, 2320.33, 2304.74, 2271.09, 2275.19, 2263.22, 2341.68, 2365.48, 2362.69, 2390.61, 2396.38, 2355.13, 2376.59, 2400.21, 2370.45, 2338.07, 2361.51, 2360.07, 2350.23, 2309.97, 2354.05, 2349.97, 2334.82, 2329.52, 2300.28, 2304.99, 2291.87, 2339.77, 2383.31, 2387.07, 2403.83, 2347.35, 2285.05, 2241.0, 2200.02, 2217.44, 2240.03, 2188.88, 2180.32, 2173.13, 2206.82, 2203.94, 2191.81, 2203.01, 2211.43, 2241.45, 2308.41, 2306.42, 2348.16, 2385.59, 2355.04, 2313.85, 2323.94, 2279.24, 2179.89, 2161.08, 2160.27, 2157.04, 2114.87, 2069.93, 2088.08, 2081.69, 2085.05, 2096.48, 2113.25, 2117.86, 2075.94, 2064.34, 2023.92, 2039.18, 2032.8, 2049.43, 2045.03, 2050.26, 2012.17, 2013.34, 2026.1, 2042.15, 2089.94, 2106.58, 2096.5, 2163.05, 2211.59, 2165.7, 2151.3, 2131.66, 2076.8, 2053.73, 2065.14, 2124.43, 2184.55, 2221.01, 2170.65, 2201.79, 2206.44, 2201.67, 2191.15, 2204.8, 2171.24, 2193.74, 2207.96, 2159.22, 2159.37, 2157.67, 2167.24, 2184.04, 2240.26, 2295.16, 2309.91, 2339.62, 2351.2, 2334.8, 2387.12, 2389.93, 2372.3, 2352.8, 2362.65, 2299.15, 2332.39, 2366.23, 2346.42, 2346.78, 2363.31, 2405.6, 2405.91, 2358.25, 2352.74, 2342.78, 2297.11, 2277.17, 2257.03, 2256.88, 2231.39, 2273.09, 2277.6, 2252.65, 2244.75, 2244.98, 2264.3, 2253.98, 2257.98, 2263.08, 2276.04, 2297.37, 2265.35, 2273.24, 2255.56, 2262.45, 2292.68, 2308.75, 2375.73, 2397.6, 2356.74, 2358.69, 2366.03, 2377.48, 2362.56, 2360.04, 2355.92, 2366.91, 2386.02, 2383.16, 2353.77, 2350.16, 2301.09, 2328.93, 2326.28, 2326.89, 2370.84, 2414.74, 2419.64, 2467.29, 2506.02, 2497.6, 2528.72, 2530.96, 2546.47, 2562.26, 2570.7, 2536.21, 2481.53, 2510.65, 505.75, 507.59, 515.03, 513.22, 508.61, 497.93, 502.78, 501.9, 499.94, 498.28, 489.79, 485.65, 489.14, 483.3, 481.89, 481.0, 469.56, 465.04, 460.88, 478.06, 480.76, 470.12, 464.33, 465.02, 467.32, 456.23, 456.73, 455.28, 456.89, 448.23, 442.67, 452.74, 466.0, 473.27, 467.91, 467.73, 485.24, 483.0, 479.3, 466.85, 469.94, 471.49, 480.15, 483.58, 482.35, 488.5, 494.24, 477.1, 458.0, 447.99, 458.02, 457.06, 468.67, 469.42, 455.17, 449.43, 445.71, 451.63, 453.88, 460.78, 461.23, 472.34, 470.79, 477.25, 475.75, 488.88, 486.0, 488.26, 490.35, 463.86, 471.82, 483.28, 486.83, 484.96, 485.18, 477.55, 483.2, 482.48, 480.7, 469.06, 475.55, 473.86, 467.2, 462.36, 455.72, 448.49, 445.3, 424.96, 423.21, 428.25, 438.51, 439.45, 441.37, 456.33, 461.3, 461.8, 467.13, 457.06, 446.16, 438.39, 432.92, 436.8, 431.85, 427.68, 405.95, 413.16, 426.91, 436.74, 441.43, 442.87, 439.39, 437.33, 434.02, 428.95, 423.61, 435.69, 438.95, 444.2, 447.78, 451.32, 452.86, 459.59, 459.6, 465.66, 466.97, 460.59, 467.37, 477.12, 485.65, 486.1, 484.75, 488.98, 488.99, 488.42, 477.12, 487.15, 490.32, 497.76, 502.12, 506.85, 511.7, 510.91, 517.51, 518.93, 522.5, 518.39, 527.19, 527.77, 526.9, 526.59, 533.22, 532.34, 524.32, 522.43, 522.59, 522.31, 511.3, 516.58, 519.55, 509.85, 511.52, 507.86, 523.21, 520.13, 524.39, 526.29, 516.13, 515.65, 499.63, 504.71, 511.69, 514.17, 512.21, 509.52, 516.93, 513.5, 509.64, 518.58, 525.26, 533.29, 526.7, 522.79, 520.21, 523.27, 531.15, 533.71, 528.15, 529.35, 537.48, 548.2, 552.78, 549.54, 542.33, 544.06, 543.55, 539.89, 543.56, 543.91, 548.54, 553.3, 542.43, 524.83, 522.93, 514.41, 518.0, 514.49, 501.53, 500.65, 492.53, 501.23, 495.77, 501.14, 494.39, 486.36, 495.99, 499.66, 504.76, 506.99, 501.03, 503.37, 497.38, 490.71, 502.39, 516.6, 531.05, 538.19, 544.75, 546.12, 546.07, 539.43, 543.91, 536.37, 531.77, 533.34, 538.61, 540.94, 543.88, 543.37, 550.6, 548.52, 559.82, 568.56, 576.78, 578.19, 580.57, 584.29, 574.49, 584.32, 588.83, 580.13, 587.26, 587.44, 582.98, 585.21, 589.17, 583.38, 574.76, 573.94, 577.17, 568.11, 582.68, 587.81, 586.19, 584.11, 580.13, 583.57, 598.63, 599.8, 598.87, 604.35, 602.62, 604.06, 606.68, 601.21, 596.62, 591.75, 598.17, 599.52, 597.46, 595.01, 589.92, 591.91, 594.37, 595.5, 594.43, 590.09, 592.78, 590.51, 590.36, 591.27, 592.52, 589.64, 597.53, 598.01, 608.01, 611.98, 607.74, 605.15, 619.01, 630.45, 633.17, 629.04, 630.77, 629.56, 623.29, 620.35, 630.45, 622.75, 620.65, 626.67, 618.89, 624.3, 630.04, 629.97, 630.45, 628.37, 632.7, 629.47, 635.61, 634.0, 635.33, 633.37, 640.07, 637.58, 633.27, 631.53, 630.85, 633.56, 638.43, 641.34, 638.64, 639.53, 647.11, 647.91, 643.71, 645.09, 643.59, 652.58, 658.62, 668.52, 666.58, 663.18, 678.31, 692.49, 699.9, 688.39, 684.34, 692.97, 686.64, 691.11, 692.7, 693.29, 692.64, 693.04, 689.43, 678.69, 675.85, 683.69, 682.86, 676.79, 674.88, 680.06, 679.29, 677.47, 676.84, 682.68, 686.96, 684.7, 676.86, 671.03, 669.34, 669.96, 673.9, 670.13, 669.13, 668.39, 664.71, 663.67, 665.06, 659.45, 656.89, 658.78, 659.66, 661.94, 668.94, 659.04, 652.85, 646.62, 639.26, 646.37, 643.0, 639.96, 639.34, 648.97, 656.17, 661.92, 664.07, 672.25, 677.64, 678.76, 675.01, 677.58, 670.63, 662.15, 659.89, 655.2, 644.27, 632.48, 623.18, 623.9, 629.59, 632.95, 633.62, 650.8, 654.72, 646.89, 638.04, 636.75, 640.43, 642.5, 633.28, 626.6, 615.25, 610.02, 610.39, 613.46, 616.2, 624.98, 627.54, 627.57, 618.68, 620.04, 623.68, 622.67, 626.43, 637.77, 641.62, 639.56, 659.02, 663.79, 666.69, 695.16, 688.81, 688.13, 687.56, 694.84, 683.37, 690.42, 684.91, 672.86, 681.75, 693.65, 694.57, 699.43, 702.76, 703.31, 689.85, 708.71, 720.36, 716.54, 717.49, 710.53, 702.56, 700.24, 700.68, 712.84, 713.88, 710.91, 722.38, 703.82, 692.81, 686.85, 687.4, 683.08, 681.46, 677.42, 670.79, 666.53, 656.36, 664.31, 663.71, 661.38, 660.47, 642.08, 635.68, 628.48, 637.68, 630.32, 641.65, 664.38, 669.96, 660.1, 648.51, 652.28, 666.92, 660.06, 670.15, 663.18, 680.99, 689.16, 691.19, 678.01, 663.99, 669.96, 681.56, 683.29, 686.96, 661.96, 657.35, 646.01, 634.08, 628.65, 613.93, 624.5, 630.94, 626.47, 610.69, 607.23, 609.57, 603.76, 614.38, 616.41, 595.33, 578.4, 581.22, 603.81, 586.11, 600.68, 612.74, 569.42, 550.04, 573.11, 585.45, 591.33, 570.43, 567.14, 601.76, 605.81, 633.17, 638.32, 634.26, 629.35, 641.88, 640.68, 642.32, 681.13, 657.57, 641.14, 639.17, 621.4, 621.3, 610.8, 599.07, 604.98, 626.0, 642.41, 625.7, 637.1, 641.87, 640.77, 651.22, 660.23, 658.71, 651.06, 670.67, 669.79, 668.99, 659.72, 669.55, 669.59, 671.08, 676.45, 682.56, 679.37, 682.78, 680.4, 678.74, 669.9, 669.28, 655.23, 651.28, 652.77, 635.82, 645.07, 661.08, 661.23, 653.3, 640.42, 641.92, 655.71, 654.25, 651.24, 655.2, 662.6, 661.96, 657.17, 657.16, 686.04, 681.59, 704.05, 695.57, 692.8, 694.85, 692.52, 686.85, 663.11, 664.32, 657.39, 658.53, 666.94, 660.07, 664.85, 670.44, 669.88, 664.42, 666.09, 665.37, 661.19, 660.56, 662.03, 664.6, 662.46, 666.8, 670.07, 673.28, 678.04, 678.03, 665.93, 671.35, 675.41, 680.02, 678.77, 672.61, 652.74, 645.82, 645.59, 633.09, 628.37, 629.26, 627.63, 633.9, 640.68, 648.4, 643.35, 644.72, 646.93, 636.19, 637.0, 648.74, 660.54, 665.01, 663.35, 665.39, 666.54, 670.77, 675.27, 669.5, 667.66, 669.59, 667.23, 673.12, 700.4, 726.76, 727.3, 725.33, 742.13, 730.89, 735.14, 738.25, 731.33, 734.09, 732.11, 748.04, 753.73, 747.48, 749.16, 741.82, 748.83, 739.97, 728.75, 730.73, 726.9, 727.61, 732.06, 743.0, 739.19, 724.48, 727.31, 714.03, 718.52, 724.97, 731.24, 729.34, 725.05, 717.29, 720.97, 719.71, 717.95, 717.92, 719.12, 719.07, 743.66, 784.42, 788.12, 782.14, 781.59, 837.06, 821.09, 816.76, 809.57, 801.28, 790.14, 798.34, 800.46, 819.41, 814.83, 796.54, 811.1, 821.67, 821.74, 805.59, 808.6, 823.13, 816.2, 819.68, 835.56, 845.79, 836.48, 835.83, 838.21, 829.07, 823.96, 820.65, 828.03, 828.29, 814.19, 817.55, 824.81, 819.73, 834.46, 837.35, 848.23, 846.03, 837.32, 828.57, 829.12, 817.15, 816.01, 822.93, 826.29, 833.49, 830.23, 835.74, 837.3, 840.21, 841.01, 841.02, 830.73, 834.92, 835.45, 820.41, 813.02, 816.13, 813.48, 813.81, 799.07, 795.72, 801.84, 810.59, 827.37, 830.85, 827.04, 825.16, 829.26, 841.19, 847.58, 843.32, 838.49, 841.6, 843.14, 854.74, 858.55, 854.42, 848.55, 860.02, 865.33, 858.17, 856.02, 854.47, 861.14, 855.6, 847.24, 855.16, 858.09, 854.45, 852.28, 852.63, 855.6, 862.14, 869.56, 871.02, 866.37, 860.34, 864.2, 882.29, 872.21, 867.69, 870.26, 866.0, 879.99, 895.84, 895.97, 897.33, 895.56, 901.66, 896.34, 894.1, 895.16, 910.13, 910.62, 916.7, 899.67, 899.32, 909.38, 913.98, 913.15, 922.01, 917.19, 924.73, 928.81, 916.99, 927.47, 940.0, 951.21, 950.16, 948.09, 958.8, 954.07, 943.71, 937.18, 937.19, 939.67, 935.19, 929.61, 929.97, 930.02, 932.27, 938.78, 928.05, 921.16, 929.15, 941.27, 952.83, 964.96, 949.1, 948.85, 952.05, 951.15, 951.92, 949.13, 965.25, 959.15, 948.51, 946.73, 963.78, 974.04, 968.74, 966.42, 966.41, 988.71, 1005.85, 1007.93, 1015.62, 1025.11, 1023.9, 1042.17, 1059.75, 1070.38, 1085.47, 1076.43, 1072.08, 1066.32, 1071.08, 1082.44, 1061.19, 1040.2, 1051.31, 1059.33, 1064.91, 1069.71, 1075.64, 1075.22, 1075.15, 1079.11, 1071.86, 1064.97, 1063.52, 1041.56, 1053.95, 1060.44, 1087.72, 1085.82, 1085.88, 1076.04, 1063.78, 1053.9, 1055.6, 1054.83, 1043.51, 1052.4, 1055.47, 1063.39, 1060.44, 1053.67, 1053.83, 1046.07, 1038.21, 1011.46, 1016.24, 1027.99, 1027.6, 1026.17, 1029.4, 1030.58, 1036.95, 1047.43, 1042.24, 1040.46, 1038.26, 1026.56, 1020.11, 1013.49, 1005.86, 1007.45, 1015.83, 1009.89, 1003.24, 999.14, 996.24, 986.66, 1002.47, 992.19, 974.11, 958.44, 971.0, 984.91, 972.37, 982.95, 983.96, 990.14, 1002.19, 1008.32, 1021.44, 1022.89, 1024.45, 1025.23, 1023.85, 1032.62, 1029.66, 1043.34, 1045.89, 1021.61, 1008.77, 1007.27, 1011.46, 1003.15, 1002.27, 1012.42, 1006.7, 1000.81, 1006.13, 1002.16, 1005.7, 1018.48, 1021.94, 1050.32, 1054.74, 1048.31, 1058.33, 1059.45, 1043.33, 1058.31, 1072.41, 1060.89, 1069.15, 1073.31, 1085.86, 1072.71, 1069.57, 1085.73, 1096.31, 1093.57, 1097.42, 1110.59, 1111.09, 1112.51, 1111.98, 1109.12, 1109.14, 1110.18, 1098.27, 1106.91, 1110.58, 1111.49, 1110.29, 1102.56, 1090.91, 1091.9, 1095.03, 1091.82, 1099.76, 1091.48, 1077.46, 1077.39, 1096.47, 1091.89, 1084.81, 1081.72, 1076.95, 1060.07, 1025.45, 1018.01, 1018.51, 1020.26, 1031.42, 1025.26, 1002.86, 994.26, 1008.12, 991.95, 993.01, 993.57, 1016.22, 1004.23, 1011.13, 1014.41, 1013.2, 1021.98, 1053.08, 1047.89, 1046.35, 1039.05, 1044.09, 1052.03, 1056.53, 1067.76, 1066.73, 1093.73, 1087.09, 1088.96, 1080.3, 1087.33, 1086.87, 1077.02, 1081.1, 1088.52, 1094.45, 1098.11, 1096.82, 1095.61, 1107.73, 1101.88, 1108.23, 1115.53, 1106.2, 1100.7, 1082.25, 1086.54, 1090.63, 1076.86, 1083.7, 1060.69, 1057.2, 1055.11, 1051.29, 1058.94, 1059.19, 1055.51, 1062.88, 1073.74, 1066.69, 1067.82, 1063.77, 1077.19, 1076.08, 1080.57, 1080.15, 1075.59, 1062.15, 1064.66, 1051.65, 1051.28, 1057.01, 1050.17, 1052.42, 1054.01, 1066.42, 1073.91, 1072.78, 1073.6, 1069.98, 1073.28, 1072.33, 1075.95, 1077.24, 1076.02, 1081.8, 1086.44, 1073.26, 1066.11, 1068.9, 1058.0, 1060.7, 1054.79, 1048.66, 1048.78, 1049.41, 1047.59, 1032.91, 1033.14, 1015.7, 1021.37, 1033.08, 1039.2, 1039.48, 1035.97, 1045.27, 1060.88, 1060.52, 1045.86, 1050.8, 1056.01, 1048.41, 1025.84, 1017.87, 991.48, 977.49, 978.94, 971.38, 969.44, 984.08, 982.58, 990.36, 972.01, 953.35, 948.21, 960.86, 966.6, 980.45, 1004.48, 1014.76, 1010.09, 1015.49, 1017.99, 1019.51, 1025.02, 1030.36, 1025.61, 1024.82, 1029.03, 1027.28, 1039.99, 1048.55, 1046.06, 1048.62, 1054.95, 1063.19, 1072.96, 1062.89, 1068.19, 1064.16, 1062.92, 1056.31, 1058.15, 1055.07, 1063.53, 1078.79, 1086.51, 1093.9, 1098.33, 1093.29, 1090.78, 1108.27, 1121.48, 1123.6, 1122.22, 1123.62, 1125.5, 1128.1, 1129.96, 1121.62, 1140.33, 1141.36, 1136.8, 1143.96, 1139.53, 1152.03, 1159.99, 1137.39, 1137.43, 1142.2, 1140.88, 1139.24, 1163.62, 1179.03, 1185.55, 1183.79, 1180.7, 1174.76, 1174.85, 1174.94, 1175.2, 1174.34, 1164.76, 1157.58, 1164.62, 1156.09, 1148.51, 1162.38, 1162.8, 1172.49, 1172.16, 1166.05, 1171.63, 1184.36, 1154.94, 1162.11, 1168.27, 1165.87, 1172.0, 1180.29, 1175.22, 1165.93, 1179.86, 1174.8, 1196.78, 1199.97, 1198.59, 1197.06, 1215.63, 1231.23, 1219.12, 1233.42, 1230.13, 1228.13, 1239.8, 1241.44, 1237.51, 1244.62, 1242.04, 1242.97, 1245.35, 1243.11, 1239.31, 1249.05, 1249.91, 1245.95, 1231.7, 1229.93, 1227.8, 1225.63, 1231.98, 1247.8, 1246.73, 1247.87, 1249.58, 1253.34, 1259.5, 1257.34, 1241.38, 1260.07, 1280.94, 1283.34, 1285.3, 1298.04, 1290.82, 1288.25, 1286.5, 1278.7, 1270.7, 1277.55, 1299.0, 1292.84, 1287.73, 1292.9, 1307.09, 1313.78, 1299.36, 1300.13, 1293.9, 1286.23, 1274.04, 1285.29, 1287.73, 1282.96, 1288.88, 1280.57, 1283.13, 1264.59, 1262.52, 1240.43, 1249.52, 1256.12, 1256.82, 1262.49, 1268.36, 1253.22, 1243.37, 1239.38, 1255.19, 1255.81, 1258.64, 1250.99, 1252.72, 1247.18, 1246.08, 1248.47, 1240.03, 1271.69, 1275.07, 1266.17, 1246.95, 1233.17, 1219.74, 1197.85, 1195.59, 1189.84, 1168.7, 1176.81, 1189.76, 1185.09, 1192.81, 1201.55, 1186.34, 1188.46, 1196.07, 1190.7, 1196.73, 1197.13, 1185.31, 1185.61, 1178.72, 1179.94, 1178.42, 1176.34, 1178.85, 1180.02, 1172.68, 1182.23, 1176.14, 1179.76, 1189.23, 1198.17, 1206.05, 1198.08, 1192.5, 1187.86, 1186.93, 1192.99, 1197.47, 1208.44, 1229.29, 1232.72, 1230.97, 1243.17, 1240.11, 1245.98, 1238.18, 1236.63, 1243.28, 1259.62, 1283.33, 1294.12, 1284.17, 1286.42, 1296.22, 1297.53, 1307.93, 1315.54, 1308.36, 1308.54, 1300.43, 1303.18, 1308.2, 1310.53, 1319.18, 1327.69, 1418.39, 1391.53, 1407.76, 1406.18, 1404.96, 1391.6, 1390.32, 1390.47, 1388.39, 1373.26, 1382.96, 1383.79, 1391.29, 1391.2, 1398.73, 1411.99, 1415.42, 1417.78, 1423.0, 1436.37, 1441.36, 1430.73, 1428.73, 1427.54, 1412.28, 1421.69, 1428.63, 1462.08, 1442.01, 1433.35, 1437.51, 1434.76, 1439.23, 1436.68, 1436.05, 1443.6, 1441.73, 1433.42, 1448.74, 1446.58, 1461.72, 1482.06, 1527.25, 1537.68, 1546.13, 1565.15, 1544.82, 1540.81, 1543.93, 1529.35, 1531.86, 1533.56, 1537.87, 1548.16, 1551.42, 1542.32, 1550.73, 1555.11, 1557.51, 1556.99, 1556.93, 1572.46, 1575.09, 1566.76, 1605.26, 1617.56, 1634.94, 1622.75, 1631.48, 1630.91, 1636.04, 1633.27, 1638.5, 1638.26, 1648.3, 1660.39, 1666.54, 1680.14, 1672.03, 1662.08, 1665.86, 1683.38, 1686.31, 1692.56, 1705.36, 1684.39, 1673.41, 1666.08, 1666.21, 1654.33, 1658.07, 1656.45, 1651.02, 1658.74, 1663.38, 1674.39, 1681.6, 1675.45, 1687.47, 1677.65, 1681.96, 1683.26, 1691.79, 1701.51, 1708.42, 1722.12, 1746.35, 1743.52, 1783.31, 1773.42, 1778.4, 1787.29, 1793.32, 1784.16, 1783.23, 1788.9, 1777.66, 1765.73, 1759.88, 1745.33, 1763.29, 1771.34, 1770.23, 1750.79, 1747.56, 1744.99, 1767.91, 1764.17, 1764.02, 1744.1, 1763.86, 1772.21, 1771.67, 1752.37, 1757.77, 1753.59, 1766.63, 1781.89, 1816.72, 1833.12, 1841.58, 1839.93, 1845.98, 1861.58, 1858.58, 1850.15, 1839.29, 1826.77, 1802.36, 1790.07, 1779.35, 1789.02, 1812.45, 1811.27, 1804.18, 1800.4, 1799.53, 1797.35, 1806.18, 1802.03, 1805.42, 1845.91, 1857.21, 1848.53, 1864.24, 1853.98, 1850.99, 1866.12, 1800.74, 1789.19, 1792.86, 1805.49, 1805.2, 1819.3, 1822.05, 1829.95, 1833.27, 1828.67, 1826.22, 1826.26, 1821.63, 1806.89, 1805.86, 1796.37, 1807.23, 1827.72, 1836.08, 1845.41, 1853.89, 1847.79, 1848.31, 1852.09, 1866.29, 1869.11, 1859.89, 1850.81, 1840.43, 1818.21, 1809.42, 1809.12, 1839.43, 1846.99, 1826.78, 1832.2, 1826.18, 1877.73, 1876.25, 1884.02, 1885.29, 1871.04, 1870.36, 1867.6, 1863.9, 1873.07, 1873.42, 1862.24, 1868.27, 1859.01, 1860.54, 1862.6, 1861.87, 1861.62, 1863.6, 1868.69, 1868.58, 1891.97, 1899.62, 1893.05, 1939.75, 1947.44, 1969.82, 1953.81, 1958.02, 1968.83, 1995.69, 1994.03, 2003.12, 2001.09, 1963.93, 1916.75, 1868.86, 1875.43, 1887.25, 1853.01, 1872.43, 1889.56, 1882.55, 1883.79, 1876.45, 1875.4, 1858.84, 1851.2, 1869.03, 1904.1, 1908.74, 1883.79, 1884.58, 1867.66, 1864.57, 1839.17, 1844.42, 1856.06, 1863.99, 1870.24, 1857.75, 1879.2, 1861.09, 1851.78, 1845.17, 1853.89, 1872.05, 1844.22, 1868.66, 1888.52, 1886.44, 1917.34, 1917.02, 1903.29, 1900.56, 1917.27, 1936.3, 1920.94, 1913.82, 1920.27, 1928.02, 1938.89, 1944.42, 1942.91, 1938.07, 1945.78, 1947.51, 1935.57, 1924.27, 1930.42, 1918.5, 1945.7, 1965.16, 1963.23, 1981.08, 1980.88, 1964.31, 1973.46, 1991.88, 1999.73, 2021.18, 2046.53, 2031.04, 2022.12, 2014.47, 1993.75, 1997.96, 1976.78, 1970.67, 2004.87, 2037.48, 2042.07, 2040.97, 2118.27, 2116.77, 2098.04, 2050.5, 2057.29, 2070.16, 2046.16, 2051.22, 2045.45, 2034.95, 2039.58, 2031.56, 2019.92, 2028.53, 2046.34, 2058.53, 2066.71, 2090.83, 2096.18, 2111.09, 2127.87, 2124.32, 2078.06, 2073.27, 2090.23, 2119.49, 2122.21, 2123.14, 2144.28, 2148.79, 2170.17, 2182.75, 2173.65, 2174.09, 2197.09, 2183.12, 2181.89, 2161.43, 2161.82, 2169.01, 2187.34, 2198.69, 2172.52, 2166.28, 2165.15, 2133.82, 2125.56, 2121.83, 2122.33, 2142.56, 2113.99, 2113.08, 2086.73, 2096.29, 2075.3, 2083.55, 2097.76, 2102.15, 2089.39, 2076.05, 2079.6, 2085.96, 2082.02, 2068.31, 2066.01, 2074.56, 2058.91, 2044.77, 2044.28, 2049.34, 2035.83, 2016.36, 2003.65, 2025.31, 1996.62, 1996.22, 1972.12, 1972.83, 1944.39, 1936.01, 1966.04, 1972.52, 2002.53, 2020.89, 2030.01, 1977.74, 1969.01, 1952.44, 1944.92, 1963.16, 1931.15, 1981.23, 1994.75, 2002.38, 1995.84, 1968.79, 2000.42, 1987.49, 1990.39, 1975.89, 1962.89, 1915.87, 1917.66, 1899.44, 1911.87, 1932.67, 1949.18, 1963.84, 1957.17, 1949.37, 1935.97, 1922.55, 1945.75, 1970.02, 2002.21, 2014.67, 2011.58, 2015.13, 2023.07, 2040.0, 2056.61, 2087.01, 2115.77, 2123.64, 2124.73, 2087.81, 2095.14, 2092.75, 2099.32, 2086.54, 2051.47, 2078.41, 2106.01, 2100.36, 2120.53, 2120.42, 2129.21, 2119.71, 2126.59, 2088.5, 2093.35, 2115.65, 2124.98, 2124.35, 2131.37, 2132.45, 2112.75, 2119.55, 2128.37, 2105.77, 2112.62, 2114.87, 2114.59, 2102.69, 2118.86, 2118.69, 2124.86, 2128.13, 2151.51, 2136.85, 2123.27, 2109.73, 2102.2, 2090.88, 2067.93, 2035.54, 2060.96, 2099.48, 2097.57, 2110.78, 2120.9, 2122.39, 2126.16, 2132.18, 2137.61, 2146.54, 2117.31, 2091.52, 2098.16, 2095.84, 2095.02, 2106.26, 2099.68, 2113.52, 2113.91, 2099.89, 2089.8, 2087.11, 2085.84, 2098.7, 2112.14, 2118.36, 2131.9, 2154.73, 2206.86, 2225.44, 2247.38, 2266.32, 2262.32, 2287.11, 2284.13, 2270.95, 2293.76, 2306.72, 2304.15, 2308.98, 2320.63, 2296.22, 2303.77, 2293.66, 2293.19, 2298.32, 2283.13, 2244.54, 2252.26, 2262.61, 2281.07, 2297.97, 2303.58, 2286.36, 2264.62, 2263.98, 2274.13, 2270.33, 2306.89, 2345.11, 2370.96, 2338.56, 2338.9, 2304.51, 2287.67, 2306.93, 2297.73, 2288.05, 2297.43, 2295.63, 2334.59, 2405.29, 2427.0, 2412.93, 2386.08, 2360.61, 2402.57, 2403.58, 2421.3, 2435.84, 2436.13, 2447.39, 2454.96, 2440.37, 2435.83, 2444.94, 2449.47, 2432.41, 2429.67, 2443.97, 2427.31, 2416.67, 2431.33, 2428.38, 2416.28, 2422.38, 2420.42, 2448.85, 2472.34, 2451.45, 2476.08, 2484.49, 2496.5, 2484.12, 2478.09, 2424.02, 2386.59, 2385.87, 2406.53, 2398.71, 2389.62, 2396.89, 2402.1, 2417.18, 2387.87, 2302.41, 2261.89, 2276.22, 2297.27, 2284.17, 2246.77, 2255.35, 2249.21, 2220.25, 2201.32, 2177.33, 2186.84, 2188.35, 2212.99, 2274.74, 2226.91, 2223.33, 2222.29, 2227.18, 2218.57, 2229.56, 2199.15, 2157.09, 2216.97, 2257.98, 2240.16, 2236.05, 2238.3, 2210.2, 2242.36, 2249.57, 2240.48, 2246.95, 2254.26, 2271.76, 2252.89, 2250.46, 2220.32, 2203.61, 1093.79, 1174.97, 1257.31, 1244.36, 1238.04, 1249.5, 1245.87, 1229.6, 1241.11, 1227.27, 1209.48, 1201.38, 1211.14, 1204.54, 1206.12, 1211.27, 1217.66, 1222.27, 1221.84, 1227.68, 1244.3, 1242.17, 1241.78, 1234.93, 1238.06, 1246.85, 1253.11, 1247.19, 1235.87, 1239.18, 1236.72, 1243.91, 1260.3, 1258.28, 1260.58, 1260.9, 1267.09, 1279.78, 1264.6, 1269.59, 1274.0, 1279.3, 1269.56, 1272.73, 1273.47, 1277.74, 1269.05, 1267.91, 1265.0, 1257.55, 1244.89, 1249.82, 1250.9, 1242.41, 1249.14, 1248.04, 1261.92, 1266.95, 1256.17, 1267.95, 1287.03, 1296.05, 1292.36, 1298.01, 1293.83, 1274.91, 1275.3, 1282.1, 1272.87, 1276.64, 1284.56, 1270.48, 1247.24, 1261.48, 1253.71, 1271.27, 1282.11, 1289.33, 1284.81, 1280.62, 1285.32, 1277.38, 1265.0, 1244.14, 1243.37, 1240.93, 1247.28, 1220.97, 1221.37, 1235.01, 1224.75, 1230.24, 1210.2, 1188.67, 1222.0, 1237.42, 1242.01, 1238.21, 1235.68, 1246.8, 1249.42, 1241.95, 1227.78, 1221.46, 1209.57, 1221.68, 1221.38, 1205.66, 1201.07, 1195.09, 1191.25, 1176.25, 1184.61, 1178.14, 1152.73, 1155.77, 1124.34, 1094.8, 1105.77, 1036.26, 1018.3, 1013.09, 982.62, 916.25, 857.03, 868.05, 784.5, 775.82, 803.92, 898.62, 923.14, 858.48, 854.73, 831.99, 825.26, 871.57, 902.09, 913.38, 907.82, 885.42, 870.76, 906.63, 945.7, 922.24, 920.24, 939.81, 938.02, 941.28, 930.5, 964.08, 1006.05, 932.42, 928.05, 936.39, 930.31, 932.46, 934.32, 888.33, 938.46, 899.79, 885.0, 847.83, 846.32, 844.42, 870.64, 844.52, 860.62, 881.85, 938.36, 937.44, 987.51, 993.25, 1029.96, 1015.67, 1022.13, 1031.68, 1004.5, 989.98, 976.14, 959.62, 954.63, 978.56, 985.61, 998.66, 1029.14, 1038.22, 1031.23, 1043.88, 1026.56, 1041.81, 1058.38, 1068.09, 1083.32, 1098.3, 1079.3, 1109.16, 1101.79, 1115.55, 1121.08, 1108.8, 1086.03, 1057.27, 1066.96, 1048.11, 1080.41, 1138.35, 1142.37, 1124.94, 1133.04, 1112.21, 1084.25, 1080.9, 1072.25, 1064.47, 1031.43, 1007.5, 1039.32, 1035.64, 1041.75, 1034.69, 1055.9, 1062.91, 1057.73, 1063.05, 1047.2, 1031.26, 1044.74, 1063.75, 1059.3, 1081.52, 1112.49, 1116.31, 1118.92, 1117.89, 1111.75, 1126.33, 1128.0, 1130.82, 1138.33, 1114.55, 1109.77, 1112.0, 1099.31, 1095.11, 1083.3, 1073.19, 1066.57, 1084.56, 1087.14, 1068.82, 1058.7, 1042.49, 1046.38, 1035.26, 1038.13, 1053.08, 1059.74, 1070.11, 1099.6, 1121.66, 1137.63, 1154.88, 1187.94, 1218.62, 1220.43, 1206.34, 1190.04, 1195.09, 1189.99, 1206.93, 1218.32, 1238.33, 1237.77, 1238.33, 1222.29, 1216.83, 1214.22, 1189.63, 1186.31, 1198.51, 1243.15, 1251.63, 1269.42, 1294.89, 1334.35, 1376.45, 1393.64, 1373.54, 1356.21, 1370.51, 1401.66, 1408.6, 1383.36, 1391.31, 1398.55, 1430.0, 1431.81, 1410.64, 1429.86, 1439.22, 1410.23, 1396.88, 1386.77, 1368.13, 1377.34, 1395.27, 1386.04, 1382.89, 1376.22, 1380.9, 1405.85, 1429.35, 1416.04, 1402.25, 1365.22, 1371.48, 1393.22, 1414.43, 1428.05, 1427.25, 1436.4, 1433.57, 1417.2, 1419.93, 1423.55, 1422.34, 1432.81, 1452.8, 1469.44, 1476.17, 1468.8, 1458.15, 1488.94, 1490.12, 1493.75, 1479.22, 1454.4, 1465.91, 1437.02, 1364.16, 1388.21, 1439.43, 1556.51, 1565.97, 1568.3, 1595.45, 1614.56, 1611.29, 1592.85, 1577.79, 1584.36, 1608.22, 1625.28, 1602.21, 1570.9, 1547.93, 1557.44, 1537.17, 1561.95, 1620.67, 1543.86, 1559.43, 1569.86, 1579.75, 1552.34, 1532.82, 1530.38, 1556.52, 1559.83, 1569.97, 1525.05, 1523.05, 1514.12, 1504.98, 1487.08, 1473.27, 1487.07, 1489.09, 1468.53, 1486.8, 1537.72, 1499.76, 1480.53, 1451.04, 1444.46, 1445.04, 1445.54, 1422.88, 1374.47, 1383.23, 1410.25, 1436.06, 1393.68, 1405.29, 1393.28, 1418.34, 1413.19, 1430.4, 1463.19, 1481.15, 1421.13], \"yaxis\": \"y\"}],\n",
              "                        {\"legend\": {\"tracegroupgap\": 0}, \"template\": {\"data\": {\"bar\": [{\"error_x\": {\"color\": \"#2a3f5f\"}, \"error_y\": {\"color\": \"#2a3f5f\"}, \"marker\": {\"line\": {\"color\": \"#E5ECF6\", \"width\": 0.5}}, \"type\": \"bar\"}], \"barpolar\": [{\"marker\": {\"line\": {\"color\": \"#E5ECF6\", \"width\": 0.5}}, \"type\": \"barpolar\"}], \"carpet\": [{\"aaxis\": {\"endlinecolor\": \"#2a3f5f\", \"gridcolor\": \"white\", \"linecolor\": \"white\", \"minorgridcolor\": \"white\", \"startlinecolor\": \"#2a3f5f\"}, \"baxis\": {\"endlinecolor\": \"#2a3f5f\", \"gridcolor\": \"white\", \"linecolor\": \"white\", \"minorgridcolor\": \"white\", \"startlinecolor\": \"#2a3f5f\"}, \"type\": \"carpet\"}], \"choropleth\": [{\"colorbar\": {\"outlinewidth\": 0, \"ticks\": \"\"}, \"type\": \"choropleth\"}], \"contour\": [{\"colorbar\": {\"outlinewidth\": 0, \"ticks\": \"\"}, \"colorscale\": [[0.0, \"#0d0887\"], [0.1111111111111111, \"#46039f\"], [0.2222222222222222, \"#7201a8\"], [0.3333333333333333, \"#9c179e\"], [0.4444444444444444, \"#bd3786\"], [0.5555555555555556, \"#d8576b\"], [0.6666666666666666, \"#ed7953\"], [0.7777777777777778, \"#fb9f3a\"], [0.8888888888888888, \"#fdca26\"], [1.0, \"#f0f921\"]], \"type\": \"contour\"}], \"contourcarpet\": [{\"colorbar\": {\"outlinewidth\": 0, \"ticks\": \"\"}, \"type\": \"contourcarpet\"}], \"heatmap\": [{\"colorbar\": {\"outlinewidth\": 0, \"ticks\": \"\"}, \"colorscale\": [[0.0, \"#0d0887\"], [0.1111111111111111, \"#46039f\"], [0.2222222222222222, \"#7201a8\"], [0.3333333333333333, \"#9c179e\"], [0.4444444444444444, \"#bd3786\"], [0.5555555555555556, \"#d8576b\"], [0.6666666666666666, \"#ed7953\"], [0.7777777777777778, \"#fb9f3a\"], [0.8888888888888888, \"#fdca26\"], [1.0, \"#f0f921\"]], \"type\": \"heatmap\"}], \"heatmapgl\": [{\"colorbar\": {\"outlinewidth\": 0, \"ticks\": \"\"}, \"colorscale\": [[0.0, \"#0d0887\"], [0.1111111111111111, \"#46039f\"], [0.2222222222222222, \"#7201a8\"], [0.3333333333333333, \"#9c179e\"], [0.4444444444444444, \"#bd3786\"], [0.5555555555555556, \"#d8576b\"], [0.6666666666666666, \"#ed7953\"], [0.7777777777777778, \"#fb9f3a\"], [0.8888888888888888, \"#fdca26\"], [1.0, \"#f0f921\"]], \"type\": \"heatmapgl\"}], \"histogram\": [{\"marker\": {\"colorbar\": {\"outlinewidth\": 0, \"ticks\": \"\"}}, \"type\": \"histogram\"}], \"histogram2d\": [{\"colorbar\": {\"outlinewidth\": 0, \"ticks\": \"\"}, \"colorscale\": [[0.0, \"#0d0887\"], [0.1111111111111111, \"#46039f\"], [0.2222222222222222, \"#7201a8\"], [0.3333333333333333, \"#9c179e\"], [0.4444444444444444, \"#bd3786\"], [0.5555555555555556, \"#d8576b\"], [0.6666666666666666, \"#ed7953\"], [0.7777777777777778, \"#fb9f3a\"], [0.8888888888888888, \"#fdca26\"], [1.0, \"#f0f921\"]], \"type\": \"histogram2d\"}], \"histogram2dcontour\": [{\"colorbar\": {\"outlinewidth\": 0, \"ticks\": \"\"}, \"colorscale\": [[0.0, \"#0d0887\"], [0.1111111111111111, \"#46039f\"], [0.2222222222222222, \"#7201a8\"], [0.3333333333333333, \"#9c179e\"], [0.4444444444444444, \"#bd3786\"], [0.5555555555555556, \"#d8576b\"], [0.6666666666666666, \"#ed7953\"], [0.7777777777777778, \"#fb9f3a\"], [0.8888888888888888, \"#fdca26\"], [1.0, \"#f0f921\"]], \"type\": \"histogram2dcontour\"}], \"mesh3d\": [{\"colorbar\": {\"outlinewidth\": 0, \"ticks\": \"\"}, \"type\": \"mesh3d\"}], \"parcoords\": [{\"line\": {\"colorbar\": {\"outlinewidth\": 0, \"ticks\": \"\"}}, \"type\": \"parcoords\"}], \"pie\": [{\"automargin\": true, \"type\": \"pie\"}], \"scatter\": [{\"marker\": {\"colorbar\": {\"outlinewidth\": 0, \"ticks\": \"\"}}, \"type\": \"scatter\"}], \"scatter3d\": [{\"line\": {\"colorbar\": {\"outlinewidth\": 0, \"ticks\": \"\"}}, \"marker\": {\"colorbar\": {\"outlinewidth\": 0, \"ticks\": \"\"}}, \"type\": \"scatter3d\"}], \"scattercarpet\": [{\"marker\": {\"colorbar\": {\"outlinewidth\": 0, \"ticks\": \"\"}}, \"type\": \"scattercarpet\"}], \"scattergeo\": [{\"marker\": {\"colorbar\": {\"outlinewidth\": 0, \"ticks\": \"\"}}, \"type\": \"scattergeo\"}], \"scattergl\": [{\"marker\": {\"colorbar\": {\"outlinewidth\": 0, \"ticks\": \"\"}}, \"type\": \"scattergl\"}], \"scattermapbox\": [{\"marker\": {\"colorbar\": {\"outlinewidth\": 0, \"ticks\": \"\"}}, \"type\": \"scattermapbox\"}], \"scatterpolar\": [{\"marker\": {\"colorbar\": {\"outlinewidth\": 0, \"ticks\": \"\"}}, \"type\": \"scatterpolar\"}], \"scatterpolargl\": [{\"marker\": {\"colorbar\": {\"outlinewidth\": 0, \"ticks\": \"\"}}, \"type\": \"scatterpolargl\"}], \"scatterternary\": [{\"marker\": {\"colorbar\": {\"outlinewidth\": 0, \"ticks\": \"\"}}, \"type\": \"scatterternary\"}], \"surface\": [{\"colorbar\": {\"outlinewidth\": 0, \"ticks\": \"\"}, \"colorscale\": [[0.0, \"#0d0887\"], [0.1111111111111111, \"#46039f\"], [0.2222222222222222, \"#7201a8\"], [0.3333333333333333, \"#9c179e\"], [0.4444444444444444, \"#bd3786\"], [0.5555555555555556, \"#d8576b\"], [0.6666666666666666, \"#ed7953\"], [0.7777777777777778, \"#fb9f3a\"], [0.8888888888888888, \"#fdca26\"], [1.0, \"#f0f921\"]], \"type\": \"surface\"}], \"table\": [{\"cells\": {\"fill\": {\"color\": \"#EBF0F8\"}, \"line\": {\"color\": \"white\"}}, \"header\": {\"fill\": {\"color\": \"#C8D4E3\"}, \"line\": {\"color\": \"white\"}}, \"type\": \"table\"}]}, \"layout\": {\"annotationdefaults\": {\"arrowcolor\": \"#2a3f5f\", \"arrowhead\": 0, \"arrowwidth\": 1}, \"coloraxis\": {\"colorbar\": {\"outlinewidth\": 0, \"ticks\": \"\"}}, \"colorscale\": {\"diverging\": [[0, \"#8e0152\"], [0.1, \"#c51b7d\"], [0.2, \"#de77ae\"], [0.3, \"#f1b6da\"], [0.4, \"#fde0ef\"], [0.5, \"#f7f7f7\"], [0.6, \"#e6f5d0\"], [0.7, \"#b8e186\"], [0.8, \"#7fbc41\"], [0.9, \"#4d9221\"], [1, \"#276419\"]], \"sequential\": [[0.0, \"#0d0887\"], [0.1111111111111111, \"#46039f\"], [0.2222222222222222, \"#7201a8\"], [0.3333333333333333, \"#9c179e\"], [0.4444444444444444, \"#bd3786\"], [0.5555555555555556, \"#d8576b\"], [0.6666666666666666, \"#ed7953\"], [0.7777777777777778, \"#fb9f3a\"], [0.8888888888888888, \"#fdca26\"], [1.0, \"#f0f921\"]], \"sequentialminus\": [[0.0, \"#0d0887\"], [0.1111111111111111, \"#46039f\"], [0.2222222222222222, \"#7201a8\"], [0.3333333333333333, \"#9c179e\"], [0.4444444444444444, \"#bd3786\"], [0.5555555555555556, \"#d8576b\"], [0.6666666666666666, \"#ed7953\"], [0.7777777777777778, \"#fb9f3a\"], [0.8888888888888888, \"#fdca26\"], [1.0, \"#f0f921\"]]}, \"colorway\": [\"#636efa\", \"#EF553B\", \"#00cc96\", \"#ab63fa\", \"#FFA15A\", \"#19d3f3\", \"#FF6692\", \"#B6E880\", \"#FF97FF\", \"#FECB52\"], \"font\": {\"color\": \"#2a3f5f\"}, \"geo\": {\"bgcolor\": \"white\", \"lakecolor\": \"white\", \"landcolor\": \"#E5ECF6\", \"showlakes\": true, \"showland\": true, \"subunitcolor\": \"white\"}, \"hoverlabel\": {\"align\": \"left\"}, \"hovermode\": \"closest\", \"mapbox\": {\"style\": \"light\"}, \"paper_bgcolor\": \"white\", \"plot_bgcolor\": \"#E5ECF6\", \"polar\": {\"angularaxis\": {\"gridcolor\": \"white\", \"linecolor\": \"white\", \"ticks\": \"\"}, \"bgcolor\": \"#E5ECF6\", \"radialaxis\": {\"gridcolor\": \"white\", \"linecolor\": \"white\", \"ticks\": \"\"}}, \"scene\": {\"xaxis\": {\"backgroundcolor\": \"#E5ECF6\", \"gridcolor\": \"white\", \"gridwidth\": 2, \"linecolor\": \"white\", \"showbackground\": true, \"ticks\": \"\", \"zerolinecolor\": \"white\"}, \"yaxis\": {\"backgroundcolor\": \"#E5ECF6\", \"gridcolor\": \"white\", \"gridwidth\": 2, \"linecolor\": \"white\", \"showbackground\": true, \"ticks\": \"\", \"zerolinecolor\": \"white\"}, \"zaxis\": {\"backgroundcolor\": \"#E5ECF6\", \"gridcolor\": \"white\", \"gridwidth\": 2, \"linecolor\": \"white\", \"showbackground\": true, \"ticks\": \"\", \"zerolinecolor\": \"white\"}}, \"shapedefaults\": {\"line\": {\"color\": \"#2a3f5f\"}}, \"ternary\": {\"aaxis\": {\"gridcolor\": \"white\", \"linecolor\": \"white\", \"ticks\": \"\"}, \"baxis\": {\"gridcolor\": \"white\", \"linecolor\": \"white\", \"ticks\": \"\"}, \"bgcolor\": \"#E5ECF6\", \"caxis\": {\"gridcolor\": \"white\", \"linecolor\": \"white\", \"ticks\": \"\"}}, \"title\": {\"x\": 0.05}, \"xaxis\": {\"automargin\": true, \"gridcolor\": \"white\", \"linecolor\": \"white\", \"ticks\": \"\", \"title\": {\"standoff\": 15}, \"zerolinecolor\": \"white\", \"zerolinewidth\": 2}, \"yaxis\": {\"automargin\": true, \"gridcolor\": \"white\", \"linecolor\": \"white\", \"ticks\": \"\", \"title\": {\"standoff\": 15}, \"zerolinecolor\": \"white\", \"zerolinewidth\": 2}}}, \"title\": {\"text\": \"Time Series with Selectors\"}, \"xaxis\": {\"anchor\": \"y\", \"domain\": [0.0, 1.0], \"rangeselector\": {\"buttons\": [{\"count\": 1, \"label\": \"1m\", \"step\": \"month\", \"stepmode\": \"backward\"}, {\"count\": 6, \"label\": \"6m\", \"step\": \"month\", \"stepmode\": \"backward\"}, {\"count\": 1, \"label\": \"YTD\", \"step\": \"year\", \"stepmode\": \"todate\"}, {\"count\": 1, \"label\": \"1y\", \"step\": \"year\", \"stepmode\": \"backward\"}, {\"step\": \"all\"}]}, \"rangeslider\": {\"visible\": false}, \"title\": {\"text\": \"Date\"}}, \"yaxis\": {\"anchor\": \"x\", \"domain\": [0.0, 1.0], \"title\": {\"text\": \"VWAP\"}}},\n",
              "                        {\"responsive\": true}\n",
              "                    ).then(function(){\n",
              "                            \n",
              "var gd = document.getElementById('3b7a9e43-30af-43d4-a769-91b4b65e6868');\n",
              "var x = new MutationObserver(function (mutations, observer) {{\n",
              "        var display = window.getComputedStyle(gd).display;\n",
              "        if (!display || display === 'none') {{\n",
              "            console.log([gd, 'removed!']);\n",
              "            Plotly.purge(gd);\n",
              "            observer.disconnect();\n",
              "        }}\n",
              "}});\n",
              "\n",
              "// Listen for the removal of the full notebook cells\n",
              "var notebookContainer = gd.closest('#notebook-container');\n",
              "if (notebookContainer) {{\n",
              "    x.observe(notebookContainer, {childList: true});\n",
              "}}\n",
              "\n",
              "// Listen for the clearing of the current output cell\n",
              "var outputEl = gd.closest('.output');\n",
              "if (outputEl) {{\n",
              "    x.observe(outputEl, {childList: true});\n",
              "}}\n",
              "\n",
              "                        })\n",
              "                };\n",
              "                \n",
              "            </script>\n",
              "        </div>\n",
              "</body>\n",
              "</html>"
            ]
          },
          "metadata": {}
        }
      ]
    },
    {
      "cell_type": "markdown",
      "source": [
        "Observartion\n",
        "- Steady increase in stock price till july 2011.\n",
        "- The stock fell considerably and on the rise again till March 2020.\n",
        "- The stock again see a sharp fall in 2020. Can this be due to covid, let us check"
      ],
      "metadata": {
        "id": "lRDqGm90Wj5B"
      }
    },
    {
      "cell_type": "code",
      "source": [
        "# Splitting the date column to extract year, month, week and day\n",
        "df.Date = pd.to_datetime(df.Date, format=\"%Y-%m-%d\")\n",
        "df[\"month\"] = df.Date.dt.month\n",
        "df[\"week\"] = df.Date.dt.week\n",
        "df[\"day\"] = df.Date.dt.day\n",
        "df[\"Year\"]= df.Date.dt.year\n",
        "df[\"day_of_week\"] = df.Date.dt.dayofweek\n",
        "\n",
        "#Below code block is used to plot the graph\n",
        "fig = go.Figure([go.Scatter(x=df.loc[df[\"Year\"] == 2020].Date,y=df.loc[df[\"Year\"] == 2020].VWAP)])\n",
        "fig.update_layout(\n",
        "    autosize=False,\n",
        "    width=1000,\n",
        "    height=500,\n",
        "    template='simple_white',\n",
        "    title='Volume in 2020'\n",
        ")\n",
        "fig.update_xaxes(title=\"Date\")\n",
        "fig.update_yaxes(title=\"Volume\")\n",
        "fig.show()"
      ],
      "metadata": {
        "colab": {
          "base_uri": "https://localhost:8080/",
          "height": 586
        },
        "id": "dwRa-1z6aCiU",
        "outputId": "78221612-4e83-4722-98c3-5886c65d90e8"
      },
      "execution_count": 208,
      "outputs": [
        {
          "output_type": "stream",
          "name": "stderr",
          "text": [
            "/usr/local/lib/python3.7/dist-packages/ipykernel_launcher.py:4: FutureWarning:\n",
            "\n",
            "Series.dt.weekofyear and Series.dt.week have been deprecated.  Please use Series.dt.isocalendar().week instead.\n",
            "\n"
          ]
        },
        {
          "output_type": "display_data",
          "data": {
            "text/html": [
              "<html>\n",
              "<head><meta charset=\"utf-8\" /></head>\n",
              "<body>\n",
              "    <div>\n",
              "            <script src=\"https://cdnjs.cloudflare.com/ajax/libs/mathjax/2.7.5/MathJax.js?config=TeX-AMS-MML_SVG\"></script><script type=\"text/javascript\">if (window.MathJax) {MathJax.Hub.Config({SVG: {font: \"STIX-Web\"}});}</script>\n",
              "                <script type=\"text/javascript\">window.PlotlyConfig = {MathJaxConfig: 'local'};</script>\n",
              "        <script src=\"https://cdn.plot.ly/plotly-latest.min.js\"></script>    \n",
              "            <div id=\"b4978b3c-92aa-4ca7-9f5d-fbe40d980a02\" class=\"plotly-graph-div\" style=\"height:500px; width:1000px;\"></div>\n",
              "            <script type=\"text/javascript\">\n",
              "                \n",
              "                    window.PLOTLYENV=window.PLOTLYENV || {};\n",
              "                    \n",
              "                if (document.getElementById(\"b4978b3c-92aa-4ca7-9f5d-fbe40d980a02\")) {\n",
              "                    Plotly.newPlot(\n",
              "                        'b4978b3c-92aa-4ca7-9f5d-fbe40d980a02',\n",
              "                        [{\"type\": \"scatter\", \"x\": [\"2020-01-01T00:00:00\", \"2020-01-02T00:00:00\", \"2020-01-03T00:00:00\", \"2020-01-06T00:00:00\", \"2020-01-07T00:00:00\", \"2020-01-08T00:00:00\", \"2020-01-09T00:00:00\", \"2020-01-10T00:00:00\", \"2020-01-13T00:00:00\", \"2020-01-14T00:00:00\", \"2020-01-15T00:00:00\", \"2020-01-16T00:00:00\", \"2020-01-17T00:00:00\", \"2020-01-20T00:00:00\", \"2020-01-21T00:00:00\", \"2020-01-22T00:00:00\", \"2020-01-23T00:00:00\", \"2020-01-24T00:00:00\", \"2020-01-27T00:00:00\", \"2020-01-28T00:00:00\", \"2020-01-29T00:00:00\", \"2020-01-30T00:00:00\", \"2020-01-31T00:00:00\", \"2020-02-01T00:00:00\", \"2020-02-03T00:00:00\", \"2020-02-04T00:00:00\", \"2020-02-05T00:00:00\", \"2020-02-06T00:00:00\", \"2020-02-07T00:00:00\", \"2020-02-10T00:00:00\", \"2020-02-11T00:00:00\", \"2020-02-12T00:00:00\", \"2020-02-13T00:00:00\", \"2020-02-14T00:00:00\", \"2020-02-17T00:00:00\", \"2020-02-18T00:00:00\", \"2020-02-19T00:00:00\", \"2020-02-20T00:00:00\", \"2020-02-24T00:00:00\", \"2020-02-25T00:00:00\", \"2020-02-26T00:00:00\", \"2020-02-27T00:00:00\", \"2020-02-28T00:00:00\", \"2020-03-02T00:00:00\", \"2020-03-03T00:00:00\", \"2020-03-04T00:00:00\", \"2020-03-05T00:00:00\", \"2020-03-06T00:00:00\", \"2020-03-09T00:00:00\", \"2020-03-11T00:00:00\", \"2020-03-12T00:00:00\", \"2020-03-13T00:00:00\", \"2020-03-16T00:00:00\", \"2020-03-17T00:00:00\", \"2020-03-18T00:00:00\", \"2020-03-19T00:00:00\", \"2020-03-20T00:00:00\", \"2020-03-23T00:00:00\", \"2020-03-24T00:00:00\", \"2020-03-25T00:00:00\", \"2020-03-26T00:00:00\", \"2020-03-27T00:00:00\", \"2020-03-30T00:00:00\", \"2020-03-31T00:00:00\", \"2020-04-01T00:00:00\", \"2020-04-03T00:00:00\", \"2020-04-07T00:00:00\", \"2020-04-08T00:00:00\", \"2020-04-09T00:00:00\", \"2020-04-13T00:00:00\", \"2020-04-15T00:00:00\", \"2020-04-16T00:00:00\", \"2020-04-17T00:00:00\", \"2020-04-20T00:00:00\", \"2020-04-21T00:00:00\", \"2020-04-22T00:00:00\", \"2020-04-23T00:00:00\", \"2020-04-24T00:00:00\", \"2020-04-27T00:00:00\", \"2020-04-28T00:00:00\", \"2020-04-29T00:00:00\", \"2020-04-30T00:00:00\", \"2020-05-04T00:00:00\", \"2020-05-05T00:00:00\", \"2020-05-06T00:00:00\", \"2020-05-07T00:00:00\", \"2020-05-08T00:00:00\", \"2020-05-11T00:00:00\", \"2020-05-12T00:00:00\", \"2020-05-13T00:00:00\", \"2020-05-14T00:00:00\", \"2020-05-15T00:00:00\", \"2020-05-18T00:00:00\", \"2020-05-19T00:00:00\", \"2020-05-20T00:00:00\", \"2020-05-21T00:00:00\", \"2020-05-22T00:00:00\", \"2020-05-26T00:00:00\", \"2020-05-27T00:00:00\", \"2020-05-28T00:00:00\", \"2020-05-29T00:00:00\", \"2020-06-01T00:00:00\", \"2020-06-02T00:00:00\", \"2020-06-03T00:00:00\", \"2020-06-04T00:00:00\", \"2020-06-05T00:00:00\", \"2020-06-08T00:00:00\", \"2020-06-09T00:00:00\", \"2020-06-10T00:00:00\", \"2020-06-11T00:00:00\", \"2020-06-12T00:00:00\", \"2020-06-15T00:00:00\", \"2020-06-16T00:00:00\", \"2020-06-17T00:00:00\", \"2020-06-18T00:00:00\", \"2020-06-19T00:00:00\", \"2020-06-22T00:00:00\", \"2020-06-23T00:00:00\", \"2020-06-24T00:00:00\", \"2020-06-25T00:00:00\", \"2020-06-26T00:00:00\", \"2020-06-29T00:00:00\", \"2020-06-30T00:00:00\", \"2020-07-01T00:00:00\", \"2020-07-02T00:00:00\", \"2020-07-03T00:00:00\", \"2020-07-06T00:00:00\", \"2020-07-07T00:00:00\", \"2020-07-08T00:00:00\", \"2020-07-09T00:00:00\", \"2020-07-10T00:00:00\", \"2020-07-13T00:00:00\", \"2020-07-14T00:00:00\", \"2020-07-15T00:00:00\", \"2020-07-16T00:00:00\", \"2020-07-17T00:00:00\", \"2020-07-20T00:00:00\", \"2020-07-21T00:00:00\", \"2020-07-22T00:00:00\", \"2020-07-23T00:00:00\", \"2020-07-24T00:00:00\", \"2020-07-27T00:00:00\", \"2020-07-28T00:00:00\", \"2020-07-29T00:00:00\", \"2020-07-30T00:00:00\", \"2020-07-31T00:00:00\", \"2020-08-03T00:00:00\", \"2020-08-04T00:00:00\", \"2020-08-05T00:00:00\", \"2020-08-06T00:00:00\", \"2020-08-07T00:00:00\", \"2020-08-10T00:00:00\", \"2020-08-11T00:00:00\", \"2020-08-12T00:00:00\", \"2020-08-13T00:00:00\", \"2020-08-14T00:00:00\", \"2020-08-17T00:00:00\", \"2020-08-18T00:00:00\", \"2020-08-19T00:00:00\", \"2020-08-20T00:00:00\", \"2020-08-21T00:00:00\", \"2020-08-24T00:00:00\", \"2020-08-25T00:00:00\", \"2020-08-26T00:00:00\", \"2020-08-27T00:00:00\", \"2020-08-28T00:00:00\", \"2020-08-31T00:00:00\", \"2020-09-01T00:00:00\", \"2020-09-02T00:00:00\", \"2020-09-03T00:00:00\", \"2020-09-04T00:00:00\", \"2020-09-07T00:00:00\", \"2020-09-08T00:00:00\", \"2020-09-09T00:00:00\", \"2020-09-10T00:00:00\", \"2020-09-11T00:00:00\", \"2020-09-14T00:00:00\", \"2020-09-15T00:00:00\", \"2020-09-16T00:00:00\", \"2020-09-17T00:00:00\", \"2020-09-18T00:00:00\", \"2020-09-21T00:00:00\", \"2020-09-22T00:00:00\", \"2020-09-23T00:00:00\", \"2020-09-24T00:00:00\", \"2020-09-25T00:00:00\", \"2020-09-28T00:00:00\", \"2020-09-29T00:00:00\", \"2020-09-30T00:00:00\", \"2020-10-01T00:00:00\", \"2020-10-05T00:00:00\", \"2020-10-06T00:00:00\", \"2020-10-07T00:00:00\", \"2020-10-08T00:00:00\", \"2020-10-09T00:00:00\", \"2020-10-12T00:00:00\", \"2020-10-13T00:00:00\", \"2020-10-14T00:00:00\", \"2020-10-15T00:00:00\", \"2020-10-16T00:00:00\", \"2020-10-19T00:00:00\", \"2020-10-20T00:00:00\", \"2020-10-21T00:00:00\", \"2020-10-22T00:00:00\", \"2020-10-23T00:00:00\", \"2020-10-26T00:00:00\", \"2020-10-27T00:00:00\", \"2020-10-28T00:00:00\", \"2020-10-29T00:00:00\", \"2020-10-30T00:00:00\", \"2020-11-02T00:00:00\", \"2020-11-03T00:00:00\", \"2020-11-04T00:00:00\", \"2020-11-05T00:00:00\", \"2020-11-06T00:00:00\", \"2020-11-09T00:00:00\", \"2020-11-10T00:00:00\", \"2020-11-11T00:00:00\", \"2020-11-12T00:00:00\", \"2020-11-13T00:00:00\", \"2020-11-14T00:00:00\", \"2020-11-17T00:00:00\", \"2020-11-18T00:00:00\", \"2020-11-19T00:00:00\", \"2020-11-20T00:00:00\", \"2020-11-23T00:00:00\", \"2020-11-24T00:00:00\", \"2020-11-25T00:00:00\", \"2020-11-26T00:00:00\", \"2020-11-27T00:00:00\", \"2020-12-01T00:00:00\", \"2020-12-02T00:00:00\", \"2020-12-03T00:00:00\", \"2020-12-04T00:00:00\", \"2020-12-07T00:00:00\", \"2020-12-08T00:00:00\", \"2020-12-09T00:00:00\", \"2020-12-10T00:00:00\", \"2020-12-11T00:00:00\", \"2020-12-14T00:00:00\", \"2020-12-15T00:00:00\", \"2020-12-16T00:00:00\", \"2020-12-17T00:00:00\", \"2020-12-18T00:00:00\", \"2020-12-21T00:00:00\", \"2020-12-22T00:00:00\", \"2020-12-23T00:00:00\", \"2020-12-24T00:00:00\", \"2020-12-28T00:00:00\", \"2020-12-29T00:00:00\", \"2020-12-30T00:00:00\", \"2020-12-31T00:00:00\"], \"y\": [1276.64, 1284.56, 1270.48, 1247.24, 1261.48, 1253.71, 1271.27, 1282.11, 1289.33, 1284.81, 1280.62, 1285.32, 1277.38, 1265.0, 1244.14, 1243.37, 1240.93, 1247.28, 1220.97, 1221.37, 1235.01, 1224.75, 1230.24, 1210.2, 1188.67, 1222.0, 1237.42, 1242.01, 1238.21, 1235.68, 1246.8, 1249.42, 1241.95, 1227.78, 1221.46, 1209.57, 1221.68, 1221.38, 1205.66, 1201.07, 1195.09, 1191.25, 1176.25, 1184.61, 1178.14, 1152.73, 1155.77, 1124.34, 1094.8, 1105.77, 1036.26, 1018.3, 1013.09, 982.62, 916.25, 857.03, 868.05, 784.5, 775.82, 803.92, 898.62, 923.14, 858.48, 854.73, 831.99, 825.26, 871.57, 902.09, 913.38, 907.82, 885.42, 870.76, 906.63, 945.7, 922.24, 920.24, 939.81, 938.02, 941.28, 930.5, 964.08, 1006.05, 932.42, 928.05, 936.39, 930.31, 932.46, 934.32, 888.33, 938.46, 899.79, 885.0, 847.83, 846.32, 844.42, 870.64, 844.52, 860.62, 881.85, 938.36, 937.44, 987.51, 993.25, 1029.96, 1015.67, 1022.13, 1031.68, 1004.5, 989.98, 976.14, 959.62, 954.63, 978.56, 985.61, 998.66, 1029.14, 1038.22, 1031.23, 1043.88, 1026.56, 1041.81, 1058.38, 1068.09, 1083.32, 1098.3, 1079.3, 1109.16, 1101.79, 1115.55, 1121.08, 1108.8, 1086.03, 1057.27, 1066.96, 1048.11, 1080.41, 1138.35, 1142.37, 1124.94, 1133.04, 1112.21, 1084.25, 1080.9, 1072.25, 1064.47, 1031.43, 1007.5, 1039.32, 1035.64, 1041.75, 1034.69, 1055.9, 1062.91, 1057.73, 1063.05, 1047.2, 1031.26, 1044.74, 1063.75, 1059.3, 1081.52, 1112.49, 1116.31, 1118.92, 1117.89, 1111.75, 1126.33, 1128.0, 1130.82, 1138.33, 1114.55, 1109.77, 1112.0, 1099.31, 1095.11, 1083.3, 1073.19, 1066.57, 1084.56, 1087.14, 1068.82, 1058.7, 1042.49, 1046.38, 1035.26, 1038.13, 1053.08, 1059.74, 1070.11, 1099.6, 1121.66, 1137.63, 1154.88, 1187.94, 1218.62, 1220.43, 1206.34, 1190.04, 1195.09, 1189.99, 1206.93, 1218.32, 1238.33, 1237.77, 1238.33, 1222.29, 1216.83, 1214.22, 1189.63, 1186.31, 1198.51, 1243.15, 1251.63, 1269.42, 1294.89, 1334.35, 1376.45, 1393.64, 1373.54, 1356.21, 1370.51, 1401.66, 1408.6, 1383.36, 1391.31, 1398.55, 1430.0, 1431.81, 1410.64, 1429.86, 1439.22, 1410.23, 1396.88, 1386.77, 1368.13, 1377.34, 1395.27, 1386.04, 1382.89, 1376.22, 1380.9, 1405.85, 1429.35, 1416.04, 1402.25, 1365.22, 1371.48, 1393.22, 1414.43, 1428.05, 1427.25, 1436.4]}],\n",
              "                        {\"autosize\": false, \"height\": 500, \"template\": {\"data\": {\"bar\": [{\"error_x\": {\"color\": \"rgb(36,36,36)\"}, \"error_y\": {\"color\": \"rgb(36,36,36)\"}, \"marker\": {\"line\": {\"color\": \"white\", \"width\": 0.5}}, \"type\": \"bar\"}], \"barpolar\": [{\"marker\": {\"line\": {\"color\": \"white\", \"width\": 0.5}}, \"type\": \"barpolar\"}], \"carpet\": [{\"aaxis\": {\"endlinecolor\": \"rgb(36,36,36)\", \"gridcolor\": \"white\", \"linecolor\": \"white\", \"minorgridcolor\": \"white\", \"startlinecolor\": \"rgb(36,36,36)\"}, \"baxis\": {\"endlinecolor\": \"rgb(36,36,36)\", \"gridcolor\": \"white\", \"linecolor\": \"white\", \"minorgridcolor\": \"white\", \"startlinecolor\": \"rgb(36,36,36)\"}, \"type\": \"carpet\"}], \"choropleth\": [{\"colorbar\": {\"outlinewidth\": 10, \"tickcolor\": \"rgb(36,36,36)\", \"ticklen\": 8, \"ticks\": \"outside\", \"tickwidth\": 2}, \"type\": \"choropleth\"}], \"contour\": [{\"colorbar\": {\"outlinewidth\": 10, \"tickcolor\": \"rgb(36,36,36)\", \"ticklen\": 8, \"ticks\": \"outside\", \"tickwidth\": 2}, \"colorscale\": [[0.0, \"#440154\"], [0.1111111111111111, \"#482878\"], [0.2222222222222222, \"#3e4989\"], [0.3333333333333333, \"#31688e\"], [0.4444444444444444, \"#26828e\"], [0.5555555555555556, \"#1f9e89\"], [0.6666666666666666, \"#35b779\"], [0.7777777777777778, \"#6ece58\"], [0.8888888888888888, \"#b5de2b\"], [1.0, \"#fde725\"]], \"type\": \"contour\"}], \"contourcarpet\": [{\"colorbar\": {\"outlinewidth\": 10, \"tickcolor\": \"rgb(36,36,36)\", \"ticklen\": 8, \"ticks\": \"outside\", \"tickwidth\": 2}, \"type\": \"contourcarpet\"}], \"heatmap\": [{\"colorbar\": {\"outlinewidth\": 10, \"tickcolor\": \"rgb(36,36,36)\", \"ticklen\": 8, \"ticks\": \"outside\", \"tickwidth\": 2}, \"colorscale\": [[0.0, \"#440154\"], [0.1111111111111111, \"#482878\"], [0.2222222222222222, \"#3e4989\"], [0.3333333333333333, \"#31688e\"], [0.4444444444444444, \"#26828e\"], [0.5555555555555556, \"#1f9e89\"], [0.6666666666666666, \"#35b779\"], [0.7777777777777778, \"#6ece58\"], [0.8888888888888888, \"#b5de2b\"], [1.0, \"#fde725\"]], \"type\": \"heatmap\"}], \"heatmapgl\": [{\"colorbar\": {\"outlinewidth\": 10, \"tickcolor\": \"rgb(36,36,36)\", \"ticklen\": 8, \"ticks\": \"outside\", \"tickwidth\": 2}, \"colorscale\": [[0.0, \"#440154\"], [0.1111111111111111, \"#482878\"], [0.2222222222222222, \"#3e4989\"], [0.3333333333333333, \"#31688e\"], [0.4444444444444444, \"#26828e\"], [0.5555555555555556, \"#1f9e89\"], [0.6666666666666666, \"#35b779\"], [0.7777777777777778, \"#6ece58\"], [0.8888888888888888, \"#b5de2b\"], [1.0, \"#fde725\"]], \"type\": \"heatmapgl\"}], \"histogram\": [{\"marker\": {\"line\": {\"color\": \"white\", \"width\": 0.6}}, \"type\": \"histogram\"}], \"histogram2d\": [{\"colorbar\": {\"outlinewidth\": 10, \"tickcolor\": \"rgb(36,36,36)\", \"ticklen\": 8, \"ticks\": \"outside\", \"tickwidth\": 2}, \"colorscale\": [[0.0, \"#440154\"], [0.1111111111111111, \"#482878\"], [0.2222222222222222, \"#3e4989\"], [0.3333333333333333, \"#31688e\"], [0.4444444444444444, \"#26828e\"], [0.5555555555555556, \"#1f9e89\"], [0.6666666666666666, \"#35b779\"], [0.7777777777777778, \"#6ece58\"], [0.8888888888888888, \"#b5de2b\"], [1.0, \"#fde725\"]], \"type\": \"histogram2d\"}], \"histogram2dcontour\": [{\"colorbar\": {\"outlinewidth\": 10, \"tickcolor\": \"rgb(36,36,36)\", \"ticklen\": 8, \"ticks\": \"outside\", \"tickwidth\": 2}, \"colorscale\": [[0.0, \"#440154\"], [0.1111111111111111, \"#482878\"], [0.2222222222222222, \"#3e4989\"], [0.3333333333333333, \"#31688e\"], [0.4444444444444444, \"#26828e\"], [0.5555555555555556, \"#1f9e89\"], [0.6666666666666666, \"#35b779\"], [0.7777777777777778, \"#6ece58\"], [0.8888888888888888, \"#b5de2b\"], [1.0, \"#fde725\"]], \"type\": \"histogram2dcontour\"}], \"mesh3d\": [{\"colorbar\": {\"outlinewidth\": 10, \"tickcolor\": \"rgb(36,36,36)\", \"ticklen\": 8, \"ticks\": \"outside\", \"tickwidth\": 2}, \"type\": \"mesh3d\"}], \"parcoords\": [{\"line\": {\"colorbar\": {\"outlinewidth\": 10, \"tickcolor\": \"rgb(36,36,36)\", \"ticklen\": 8, \"ticks\": \"outside\", \"tickwidth\": 2}}, \"type\": \"parcoords\"}], \"pie\": [{\"automargin\": true, \"type\": \"pie\"}], \"scatter\": [{\"marker\": {\"colorbar\": {\"outlinewidth\": 10, \"tickcolor\": \"rgb(36,36,36)\", \"ticklen\": 8, \"ticks\": \"outside\", \"tickwidth\": 2}}, \"type\": \"scatter\"}], \"scatter3d\": [{\"line\": {\"colorbar\": {\"outlinewidth\": 10, \"tickcolor\": \"rgb(36,36,36)\", \"ticklen\": 8, \"ticks\": \"outside\", \"tickwidth\": 2}}, \"marker\": {\"colorbar\": {\"outlinewidth\": 10, \"tickcolor\": \"rgb(36,36,36)\", \"ticklen\": 8, \"ticks\": \"outside\", \"tickwidth\": 2}}, \"type\": \"scatter3d\"}], \"scattercarpet\": [{\"marker\": {\"colorbar\": {\"outlinewidth\": 10, \"tickcolor\": \"rgb(36,36,36)\", \"ticklen\": 8, \"ticks\": \"outside\", \"tickwidth\": 2}}, \"type\": \"scattercarpet\"}], \"scattergeo\": [{\"marker\": {\"colorbar\": {\"outlinewidth\": 10, \"tickcolor\": \"rgb(36,36,36)\", \"ticklen\": 8, \"ticks\": \"outside\", \"tickwidth\": 2}}, \"type\": \"scattergeo\"}], \"scattergl\": [{\"marker\": {\"colorbar\": {\"outlinewidth\": 10, \"tickcolor\": \"rgb(36,36,36)\", \"ticklen\": 8, \"ticks\": \"outside\", \"tickwidth\": 2}}, \"type\": \"scattergl\"}], \"scattermapbox\": [{\"marker\": {\"colorbar\": {\"outlinewidth\": 10, \"tickcolor\": \"rgb(36,36,36)\", \"ticklen\": 8, \"ticks\": \"outside\", \"tickwidth\": 2}}, \"type\": \"scattermapbox\"}], \"scatterpolar\": [{\"marker\": {\"colorbar\": {\"outlinewidth\": 10, \"tickcolor\": \"rgb(36,36,36)\", \"ticklen\": 8, \"ticks\": \"outside\", \"tickwidth\": 2}}, \"type\": \"scatterpolar\"}], \"scatterpolargl\": [{\"marker\": {\"colorbar\": {\"outlinewidth\": 10, \"tickcolor\": \"rgb(36,36,36)\", \"ticklen\": 8, \"ticks\": \"outside\", \"tickwidth\": 2}}, \"type\": \"scatterpolargl\"}], \"scatterternary\": [{\"marker\": {\"colorbar\": {\"outlinewidth\": 10, \"tickcolor\": \"rgb(36,36,36)\", \"ticklen\": 8, \"ticks\": \"outside\", \"tickwidth\": 2}}, \"type\": \"scatterternary\"}], \"surface\": [{\"colorbar\": {\"outlinewidth\": 10, \"tickcolor\": \"rgb(36,36,36)\", \"ticklen\": 8, \"ticks\": \"outside\", \"tickwidth\": 2}, \"colorscale\": [[0.0, \"#440154\"], [0.1111111111111111, \"#482878\"], [0.2222222222222222, \"#3e4989\"], [0.3333333333333333, \"#31688e\"], [0.4444444444444444, \"#26828e\"], [0.5555555555555556, \"#1f9e89\"], [0.6666666666666666, \"#35b779\"], [0.7777777777777778, \"#6ece58\"], [0.8888888888888888, \"#b5de2b\"], [1.0, \"#fde725\"]], \"type\": \"surface\"}], \"table\": [{\"cells\": {\"fill\": {\"color\": \"rgb(237,237,237)\"}, \"line\": {\"color\": \"white\"}}, \"header\": {\"fill\": {\"color\": \"rgb(217,217,217)\"}, \"line\": {\"color\": \"white\"}}, \"type\": \"table\"}]}, \"layout\": {\"annotationdefaults\": {\"arrowhead\": 0, \"arrowwidth\": 1}, \"coloraxis\": {\"colorbar\": {\"outlinewidth\": 10, \"tickcolor\": \"rgb(36,36,36)\", \"ticklen\": 8, \"ticks\": \"outside\", \"tickwidth\": 2}}, \"colorscale\": {\"diverging\": [[0.0, \"rgb(103,0,31)\"], [0.1, \"rgb(178,24,43)\"], [0.2, \"rgb(214,96,77)\"], [0.3, \"rgb(244,165,130)\"], [0.4, \"rgb(253,219,199)\"], [0.5, \"rgb(247,247,247)\"], [0.6, \"rgb(209,229,240)\"], [0.7, \"rgb(146,197,222)\"], [0.8, \"rgb(67,147,195)\"], [0.9, \"rgb(33,102,172)\"], [1.0, \"rgb(5,48,97)\"]], \"sequential\": [[0.0, \"#440154\"], [0.1111111111111111, \"#482878\"], [0.2222222222222222, \"#3e4989\"], [0.3333333333333333, \"#31688e\"], [0.4444444444444444, \"#26828e\"], [0.5555555555555556, \"#1f9e89\"], [0.6666666666666666, \"#35b779\"], [0.7777777777777778, \"#6ece58\"], [0.8888888888888888, \"#b5de2b\"], [1.0, \"#fde725\"]], \"sequentialminus\": [[0.0, \"#440154\"], [0.1111111111111111, \"#482878\"], [0.2222222222222222, \"#3e4989\"], [0.3333333333333333, \"#31688e\"], [0.4444444444444444, \"#26828e\"], [0.5555555555555556, \"#1f9e89\"], [0.6666666666666666, \"#35b779\"], [0.7777777777777778, \"#6ece58\"], [0.8888888888888888, \"#b5de2b\"], [1.0, \"#fde725\"]]}, \"colorway\": [\"#1F77B4\", \"#FF7F0E\", \"#2CA02C\", \"#D62728\", \"#9467BD\", \"#8C564B\", \"#E377C2\", \"#7F7F7F\", \"#BCBD22\", \"#17BECF\"], \"font\": {\"color\": \"rgb(36,36,36)\"}, \"geo\": {\"bgcolor\": \"white\", \"lakecolor\": \"white\", \"landcolor\": \"white\", \"showlakes\": true, \"showland\": true, \"subunitcolor\": \"white\"}, \"hoverlabel\": {\"align\": \"left\"}, \"hovermode\": \"closest\", \"mapbox\": {\"style\": \"light\"}, \"paper_bgcolor\": \"white\", \"plot_bgcolor\": \"white\", \"polar\": {\"angularaxis\": {\"gridcolor\": \"rgb(232,232,232)\", \"linecolor\": \"rgb(36,36,36)\", \"showgrid\": false, \"showline\": true, \"ticks\": \"outside\"}, \"bgcolor\": \"white\", \"radialaxis\": {\"gridcolor\": \"rgb(232,232,232)\", \"linecolor\": \"rgb(36,36,36)\", \"showgrid\": false, \"showline\": true, \"ticks\": \"outside\"}}, \"scene\": {\"xaxis\": {\"backgroundcolor\": \"white\", \"gridcolor\": \"rgb(232,232,232)\", \"gridwidth\": 2, \"linecolor\": \"rgb(36,36,36)\", \"showbackground\": true, \"showgrid\": false, \"showline\": true, \"ticks\": \"outside\", \"zeroline\": false, \"zerolinecolor\": \"rgb(36,36,36)\"}, \"yaxis\": {\"backgroundcolor\": \"white\", \"gridcolor\": \"rgb(232,232,232)\", \"gridwidth\": 2, \"linecolor\": \"rgb(36,36,36)\", \"showbackground\": true, \"showgrid\": false, \"showline\": true, \"ticks\": \"outside\", \"zeroline\": false, \"zerolinecolor\": \"rgb(36,36,36)\"}, \"zaxis\": {\"backgroundcolor\": \"white\", \"gridcolor\": \"rgb(232,232,232)\", \"gridwidth\": 2, \"linecolor\": \"rgb(36,36,36)\", \"showbackground\": true, \"showgrid\": false, \"showline\": true, \"ticks\": \"outside\", \"zeroline\": false, \"zerolinecolor\": \"rgb(36,36,36)\"}}, \"shapedefaults\": {\"fillcolor\": \"black\", \"line\": {\"width\": 0}, \"opacity\": 0.3}, \"ternary\": {\"aaxis\": {\"gridcolor\": \"rgb(232,232,232)\", \"linecolor\": \"rgb(36,36,36)\", \"showgrid\": false, \"showline\": true, \"ticks\": \"outside\"}, \"baxis\": {\"gridcolor\": \"rgb(232,232,232)\", \"linecolor\": \"rgb(36,36,36)\", \"showgrid\": false, \"showline\": true, \"ticks\": \"outside\"}, \"bgcolor\": \"white\", \"caxis\": {\"gridcolor\": \"rgb(232,232,232)\", \"linecolor\": \"rgb(36,36,36)\", \"showgrid\": false, \"showline\": true, \"ticks\": \"outside\"}}, \"title\": {\"x\": 0.05}, \"xaxis\": {\"automargin\": true, \"gridcolor\": \"rgb(232,232,232)\", \"linecolor\": \"rgb(36,36,36)\", \"showgrid\": false, \"showline\": true, \"ticks\": \"outside\", \"title\": {\"standoff\": 15}, \"zeroline\": false, \"zerolinecolor\": \"rgb(36,36,36)\"}, \"yaxis\": {\"automargin\": true, \"gridcolor\": \"rgb(232,232,232)\", \"linecolor\": \"rgb(36,36,36)\", \"showgrid\": false, \"showline\": true, \"ticks\": \"outside\", \"title\": {\"standoff\": 15}, \"zeroline\": false, \"zerolinecolor\": \"rgb(36,36,36)\"}}}, \"title\": {\"text\": \"Volume in 2020\"}, \"width\": 1000, \"xaxis\": {\"title\": {\"text\": \"Date\"}}, \"yaxis\": {\"title\": {\"text\": \"Volume\"}}},\n",
              "                        {\"responsive\": true}\n",
              "                    ).then(function(){\n",
              "                            \n",
              "var gd = document.getElementById('b4978b3c-92aa-4ca7-9f5d-fbe40d980a02');\n",
              "var x = new MutationObserver(function (mutations, observer) {{\n",
              "        var display = window.getComputedStyle(gd).display;\n",
              "        if (!display || display === 'none') {{\n",
              "            console.log([gd, 'removed!']);\n",
              "            Plotly.purge(gd);\n",
              "            observer.disconnect();\n",
              "        }}\n",
              "}});\n",
              "\n",
              "// Listen for the removal of the full notebook cells\n",
              "var notebookContainer = gd.closest('#notebook-container');\n",
              "if (notebookContainer) {{\n",
              "    x.observe(notebookContainer, {childList: true});\n",
              "}}\n",
              "\n",
              "// Listen for the clearing of the current output cell\n",
              "var outputEl = gd.closest('.output');\n",
              "if (outputEl) {{\n",
              "    x.observe(outputEl, {childList: true});\n",
              "}}\n",
              "\n",
              "                        })\n",
              "                };\n",
              "                \n",
              "            </script>\n",
              "        </div>\n",
              "</body>\n",
              "</html>"
            ]
          },
          "metadata": {}
        }
      ]
    },
    {
      "cell_type": "markdown",
      "source": [
        "It is evident that stock price felt the pressure during the Covid times"
      ],
      "metadata": {
        "id": "TCHF5rklcfbR"
      }
    },
    {
      "cell_type": "markdown",
      "source": [
        "## 3.2 Plotting the moving average"
      ],
      "metadata": {
        "id": "qa54a77jbQyQ"
      }
    },
    {
      "cell_type": "markdown",
      "source": [
        "While we analysising the stocks it would be good point to have a look on the moving average to understand the dips and high level. Traders prefer the following moving averages while making a call to buys or sell the stock\n",
        "\n",
        "- 50 day MA\n",
        "- 100 day MA\n",
        "- 200 day MA"
      ],
      "metadata": {
        "id": "51P8k_-HhGlT"
      }
    },
    {
      "cell_type": "code",
      "source": [
        "df.reset_index(drop=True, inplace=True)\n",
        "numbers = df.High\n",
        "\n",
        "window_size = 200\n",
        "\n",
        "i = 0\n",
        "moving_averages = []\n",
        "while i < len(numbers) - window_size + 1:\n",
        "    this_window = numbers[i : i + window_size]\n",
        "\n",
        "\n",
        "    window_average = sum(this_window) / window_size\n",
        "    moving_averages.append(window_average)\n",
        "    i += 1\n",
        "\n",
        "print(moving_averages)"
      ],
      "metadata": {
        "colab": {
          "base_uri": "https://localhost:8080/"
        },
        "id": "uacpYp6dbQYE",
        "outputId": "90d08b61-6e52-4e65-9f01-d9df2b9dc20c"
      },
      "execution_count": 209,
      "outputs": [
        {
          "output_type": "stream",
          "name": "stdout",
          "text": [
            "[244.08050000000006, 244.46550000000008, 244.78275000000008, 245.1332500000001, 245.5032500000001, 245.87325000000007, 246.19000000000008, 246.5955000000001, 247.03025000000008, 247.45300000000006, 247.87800000000007, 248.24950000000007, 248.62100000000007, 248.97550000000007, 249.30125000000007, 249.5702500000001, 249.78925000000007, 249.92625000000007, 249.95900000000006, 250.01400000000004, 249.98875000000007, 249.92875000000006, 249.77750000000003, 249.67250000000004, 249.66200000000003, 249.54800000000003, 249.40425000000008, 249.23175000000006, 249.05550000000005, 248.95750000000007, 248.91250000000008, 248.83875000000006, 248.7040000000001, 248.5050000000001, 248.3895000000001, 248.24950000000013, 248.15700000000012, 248.1055000000001, 248.1152500000001, 248.1652500000001, 248.2002500000001, 248.1652500000001, 248.09400000000005, 247.9247500000001, 247.66850000000014, 247.29600000000013, 247.05650000000009, 246.75700000000012, 246.45700000000008, 246.26675000000006, 246.01800000000006, 245.74675000000008, 245.5217500000001, 245.3867500000001, 245.23625000000007, 245.06125000000011, 244.81100000000012, 244.61225000000013, 244.42200000000008, 244.18950000000012, 243.94475000000008, 243.8742500000001, 243.8322500000001, 243.7222500000001, 243.75975000000008, 243.8697500000001, 244.1072500000001, 244.33250000000007, 244.46450000000007, 244.56500000000008, 244.60000000000008, 244.68250000000006, 244.83250000000007, 244.98325000000008, 245.09125000000012, 245.31825000000012, 245.46375000000006, 245.6062500000001, 245.6540000000001, 245.77400000000011, 245.89600000000013, 245.95350000000013, 246.0325000000001, 246.0775000000001, 246.0772500000001, 246.02125000000007, 245.9840000000001, 245.9290000000001, 245.8545000000001, 245.76250000000007, 245.70750000000007, 245.65875000000008, 245.69875000000008, 245.77725000000007, 245.83475, 245.88025000000005, 245.94525000000004, 246.00300000000004, 246.05550000000002, 246.14075000000005, 246.22850000000003, 246.32100000000005, 246.37325000000004, 246.43825000000004, 246.38825000000006, 246.24575000000007, 246.18075000000007, 246.16625000000005, 246.11675000000005, 246.02175000000003, 245.9265, 245.82100000000003, 245.681, 245.57100000000005, 245.43725000000003, 245.30225000000007, 245.14350000000002, 244.98100000000002, 244.80725, 244.65175000000002, 244.52700000000004, 244.42700000000005, 244.33650000000006, 244.28150000000005, 244.25250000000008, 244.11250000000004, 243.93325000000004, 243.73375000000004, 243.54325000000009, 243.31325000000007, 243.09800000000007, 242.87800000000007, 242.66400000000004, 242.47275000000008, 242.32275000000004, 242.17525000000006, 242.08825000000004, 242.00850000000005, 241.91850000000005, 241.89275000000006, 241.89275000000006, 241.85425000000004, 241.80875000000003, 241.80025, 241.7895, 241.8095, 241.8495, 241.91350000000003, 241.81900000000005, 241.74350000000007, 241.68000000000006, 241.56550000000004, 241.47050000000002, 241.40275000000003, 241.33775000000006, 241.27525000000006, 241.20350000000005, 241.09350000000006, 241.04700000000005, 241.02200000000005, 241.01850000000005, 240.96300000000002, 240.94900000000004, 240.86050000000003, 240.79000000000005, 240.70350000000002, 240.5795, 240.422, 240.27700000000004, 240.17200000000005, 240.05950000000004, 239.92950000000005, 239.7995, 239.6745, 239.55675, 239.44375, 239.335, 239.24949999999998, 239.16424999999998, 239.01675, 238.86575000000002, 238.76450000000006, 238.69500000000005, 238.63375000000005, 238.59875000000002, 238.57300000000004, 238.547, 238.457, 238.40200000000002, 238.3365, 238.28400000000002, 238.16350000000003, 238.07300000000004, 238.01300000000003, 237.97750000000005, 237.96000000000004, 237.93850000000003, 237.89500000000007, 237.88250000000005, 237.88825000000008, 237.85575000000009, 237.79450000000008, 237.72900000000004, 237.69125000000008, 237.6412500000001, 237.5857500000001, 237.52900000000008, 237.44850000000008, 237.34125000000012, 237.27375000000006, 237.19375000000008, 237.1137500000001, 237.02625000000006, 236.9577500000001, 236.89100000000005, 236.84200000000004, 236.78675000000004, 236.76175000000006, 236.75425000000007, 236.72425000000007, 236.71325000000007, 236.73300000000006, 236.77250000000006, 236.81750000000008, 236.8492500000001, 236.90550000000007, 236.9247500000001, 236.9212500000001, 236.88200000000012, 236.71000000000012, 236.6400000000001, 236.6202500000001, 236.6192500000001, 236.59975000000009, 236.51275000000012, 236.50775000000013, 236.4800000000001, 236.44450000000012, 236.37975000000014, 236.24825000000013, 236.1432500000001, 236.05075000000016, 236.02925000000013, 236.01025000000013, 235.97825000000012, 235.9595000000001, 235.96950000000012, 236.0495000000001, 236.1145000000001, 236.1377500000001, 236.16000000000008, 236.17100000000005, 236.17100000000005, 236.1860000000001, 236.19650000000004, 236.18300000000008, 236.15200000000007, 236.08200000000008, 235.9770000000001, 235.9107500000001, 235.80825000000007, 235.66575000000003, 235.51775000000006, 235.37225000000007, 235.27675000000008, 235.10175000000007, 234.90575000000007, 234.74075000000005, 234.58575000000008, 234.43325000000007, 234.30325000000008, 234.1757500000001, 234.02825000000013, 233.8880000000001, 233.7500000000001, 233.51650000000012, 233.34100000000012, 233.17225000000013, 233.04225000000014, 232.79100000000014, 232.55150000000012, 232.34900000000013, 232.15550000000013, 231.96900000000008, 231.79925000000011, 231.65325000000007, 231.51575000000008, 231.38350000000008, 231.2780000000001, 231.1530000000001, 231.02050000000006, 230.8755000000001, 230.6547500000001, 230.4157500000001, 230.1597500000001, 229.93975000000012, 229.7547500000001, 229.5435000000001, 229.39350000000013, 229.27850000000012, 229.16200000000012, 229.0617500000001, 228.9525000000001, 228.8592500000001, 228.79925000000011, 228.7492500000001, 228.6717500000001, 228.64175000000012, 228.6517500000001, 228.76675000000014, 228.8620000000001, 228.86750000000012, 228.90700000000012, 228.96700000000007, 229.0460000000001, 229.13100000000009, 229.21500000000012, 229.2375000000001, 229.26100000000005, 229.27625000000006, 229.25375000000003, 229.21375000000003, 229.13425000000004, 229.03375, 228.919, 228.81375, 228.74875, 228.66424999999998, 228.60524999999998, 228.58025, 228.54049999999998, 228.5205, 228.52599999999998, 228.61100000000002, 228.66, 228.71125, 228.73375, 228.79075, 228.86575000000005, 228.87125000000003, 228.88600000000005, 228.90550000000007, 228.88600000000002, 228.86925000000002, 228.85150000000004, 228.85650000000004, 228.83700000000005, 228.81600000000006, 228.80550000000002, 228.776, 228.76450000000006, 228.76925000000003, 228.76925000000003, 228.792, 228.83, 228.855, 228.87325000000004, 228.89325000000005, 228.889, 228.931, 228.9635, 229.01150000000004, 229.03900000000004, 229.06350000000003, 229.084, 229.17825000000005, 229.24575000000004, 229.34325, 229.42325, 229.43575, 229.42325000000005, 229.47325000000004, 229.53350000000003, 229.58825000000004, 229.65225000000007, 229.73275000000004, 229.80225000000007, 229.87725000000006, 229.97150000000008, 230.0670000000001, 230.1630000000001, 230.24625000000012, 230.30625000000012, 230.3512500000001, 230.36625000000012, 230.34575000000012, 230.33875000000012, 230.3367500000001, 230.3052500000001, 230.28550000000007, 230.26050000000006, 230.25075000000004, 230.22625000000005, 230.17425000000003, 230.12025000000003, 230.04275, 230.03150000000002, 229.9525, 229.8595, 229.752, 229.71450000000002, 229.66025000000002, 229.60875, 229.5515, 229.54274999999998, 229.54825, 229.54799999999994, 229.50875, 229.46650000000002, 229.37675000000002, 229.29925000000003, 229.24425000000002, 229.18075000000005, 229.10425000000004, 229.02500000000003, 228.94500000000005, 228.87025000000003, 228.77500000000003, 228.68875000000003, 228.60725000000002, 228.50275, 228.41025, 228.29574999999997, 228.18074999999996, 228.051, 227.93925, 227.85975000000002, 227.78075, 227.7785, 227.84575, 227.86575000000002, 227.85174999999998, 227.81325, 227.79825, 227.79075, 227.7505, 227.73074999999997, 227.69549999999995, 227.66849999999994, 227.65474999999992, 227.66974999999994, 227.69774999999993, 227.6969999999999, 227.6857499999999, 227.6779999999999, 227.66674999999992, 227.61924999999988, 227.51424999999992, 227.41924999999992, 227.3234999999999, 227.24199999999993, 227.16099999999992, 227.09099999999995, 226.95449999999994, 226.84549999999993, 226.7614999999999, 226.70749999999992, 226.65124999999992, 226.6154999999999, 226.5814999999999, 226.5489999999999, 226.48449999999994, 226.42949999999993, 226.37099999999987, 226.2704999999999, 226.22799999999992, 226.18349999999992, 226.1397499999999, 226.09724999999992, 226.02974999999992, 225.96474999999992, 225.90674999999987, 225.84899999999988, 225.77499999999986, 225.69999999999985, 225.63599999999988, 225.55949999999987, 225.4867499999999, 225.40674999999987, 225.3817499999999, 225.3817499999999, 225.38024999999988, 225.35499999999982, 225.31649999999982, 225.22974999999985, 225.14149999999984, 225.05474999999984, 225.04199999999986, 224.97249999999988, 224.91749999999985, 224.85999999999984, 224.80249999999987, 224.73299999999983, 224.65224999999987, 224.59774999999988, 224.52524999999991, 224.4527499999999, 224.39049999999992, 224.2952499999999, 224.18024999999994, 224.06524999999993, 223.92549999999991, 223.79049999999995, 223.65374999999992, 223.51074999999994, 223.36574999999996, 223.21324999999993, 223.04074999999997, 222.83499999999995, 222.52649999999997, 222.2525, 222.047, 221.8275, 221.59249999999997, 221.363, 221.129, 220.90524999999997, 220.72224999999997, 220.53724999999997, 220.34775000000002, 220.18175, 220.02175, 219.86225, 219.70475000000002, 219.57025000000002, 219.41250000000002, 219.24000000000007, 219.08250000000007, 218.91500000000005, 218.7245000000001, 218.5420000000001, 218.37700000000007, 218.18650000000008, 217.91600000000008, 217.66700000000012, 217.41825000000014, 217.16500000000013, 216.91050000000013, 216.65950000000015, 216.5082500000002, 216.3830000000002, 216.25800000000018, 216.15750000000017, 216.06375000000017, 215.9792500000002, 215.8780000000002, 215.77675000000022, 215.68175000000025, 215.5870000000002, 215.5215000000002, 215.4460000000002, 215.3612500000002, 215.2737500000002, 215.15375000000023, 215.04875000000018, 214.9487500000002, 214.84125000000017, 214.74325000000022, 214.6710000000002, 214.5565000000002, 214.4787500000002, 214.37075000000019, 214.36825000000022, 214.32625000000021, 214.30625000000026, 214.32200000000026, 214.39675000000025, 214.45625000000027, 214.50375000000022, 214.57075000000023, 214.65025000000023, 214.6640000000002, 214.7090000000002, 214.7842500000002, 214.8615000000002, 214.9077500000002, 214.9815000000002, 215.0882500000002, 215.1892500000002, 215.31125000000017, 215.43625000000017, 215.5850000000002, 215.7275000000002, 215.87250000000017, 216.0375000000002, 216.22675000000015, 216.38000000000014, 216.51950000000016, 216.64350000000016, 216.77875000000014, 216.91875000000016, 217.07750000000016, 217.22375000000014, 217.34125000000014, 217.4607500000001, 217.5832500000001, 217.62775000000013, 217.75775000000013, 217.89275000000012, 217.99025000000012, 218.04775000000012, 218.12925000000007, 218.22675000000007, 218.3317500000001, 218.4180000000001, 218.46225000000007, 218.5490000000001, 218.6077500000001, 218.6777500000001, 218.75275000000008, 218.82925000000014, 218.8960000000001, 218.9607500000001, 219.0412500000001, 219.12450000000013, 219.2345000000001, 219.37825000000012, 219.51800000000014, 219.60925000000015, 219.75075000000012, 219.88525000000016, 220.02300000000014, 220.18050000000017, 220.3500000000002, 220.53350000000017, 220.69150000000013, 220.84775000000013, 221.01275000000012, 221.14800000000017, 221.28575000000012, 221.44975000000017, 221.62625000000017, 221.85100000000017, 222.08100000000016, 222.27575000000013, 222.46350000000012, 222.63275000000013, 222.82050000000015, 222.99250000000015, 223.15175000000013, 223.28275000000014, 223.43725000000018, 223.62050000000013, 223.82550000000015, 223.9952500000001, 224.18500000000014, 224.3875000000001, 224.5565000000001, 224.74900000000014, 224.95650000000012, 225.12950000000012, 225.32075000000012, 225.5155000000001, 225.7015000000001, 225.9055000000001, 226.1325000000001, 226.34125000000012, 226.6000000000001, 226.87700000000007, 227.11725000000007, 227.36400000000006, 227.60400000000004, 227.834, 228.05550000000002, 228.28600000000003, 228.50675000000004, 228.72025000000002, 228.9335, 229.12500000000003, 229.29500000000004, 229.46000000000004, 229.62800000000004, 229.813, 230.05700000000002, 230.342, 230.61450000000002, 231.05200000000002, 231.41100000000003, 231.75824999999998, 232.15699999999998, 232.45699999999997, 232.76199999999997, 233.10725, 233.48199999999994, 233.88199999999995, 234.22224999999992, 234.57149999999993, 234.83649999999994, 235.13149999999993, 235.44649999999993, 235.76649999999995, 236.01274999999995, 236.3017499999999, 236.59799999999993, 236.8969999999999, 237.2232499999999, 237.54124999999988, 237.83624999999995, 238.14624999999992, 238.52124999999992, 238.90724999999986, 239.28724999999991, 239.68124999999992, 240.07124999999994, 240.47924999999992, 240.87424999999993, 241.27324999999993, 241.68824999999993, 242.11899999999994, 242.60249999999996, 243.08149999999995, 243.56999999999994, 244.03849999999994, 244.47349999999994, 244.93799999999993, 245.38699999999994, 245.79475, 246.20274999999995, 246.67299999999994, 247.16275, 247.60575, 248.05075, 248.49475, 248.92225, 249.3265, 249.74450000000002, 250.16075, 250.57824999999997, 250.99525000000003, 251.41525000000001, 251.79775, 252.16275000000002, 252.54325, 252.88925, 253.268, 253.66674999999998, 254.06750000000002, 254.47250000000003, 254.8315, 255.18375, 255.58175000000003, 256.08225000000004, 256.61325, 257.07825, 257.5445, 258.06575000000004, 258.53875000000005, 259.09075000000007, 259.56600000000003, 260.04150000000004, 260.56700000000006, 261.08175000000006, 261.56675, 262.05125000000004, 262.48125000000005, 262.94325000000003, 263.43800000000005, 263.92300000000006, 264.3980000000001, 264.8950000000001, 265.37775000000005, 265.8832500000001, 266.3182500000001, 266.8007500000001, 267.2250000000001, 267.5655000000001, 267.8982500000001, 268.2720000000001, 268.6400000000001, 268.98050000000006, 269.3035000000001, 269.6597500000001, 269.9697500000001, 270.2797500000001, 270.5965000000001, 270.90025000000014, 271.1932500000001, 271.4665000000001, 271.7765000000001, 272.0612500000001, 272.3587500000001, 272.63650000000007, 272.96100000000007, 273.3105000000001, 273.7005000000001, 274.1000000000001, 274.5200000000001, 274.9345000000001, 275.38125000000014, 275.8502500000001, 276.36025000000006, 276.9287500000001, 277.49750000000006, 278.0915000000001, 278.6715000000001, 279.26050000000015, 279.8600000000001, 280.4345000000001, 281.0300000000001, 281.6385000000001, 282.2557500000001, 282.98000000000013, 283.6837500000001, 284.3412500000001, 284.9337500000001, 285.5900000000001, 286.2035000000001, 286.88150000000013, 287.5365000000001, 288.1665000000001, 288.91250000000014, 289.5617500000001, 290.21600000000007, 290.87725000000006, 291.7052500000001, 292.4977500000001, 293.17350000000005, 293.8382500000001, 294.49300000000005, 295.13200000000006, 295.77425000000005, 296.40900000000005, 297.21025000000003, 297.83975000000004, 298.36975000000007, 298.90450000000004, 299.45275000000004, 300.0377500000001, 300.61025000000006, 301.21775, 301.853, 302.4965, 303.1267500000001, 303.7202500000001, 304.37100000000004, 305.0455, 305.73325000000006, 306.39575, 307.03000000000003, 307.64325, 308.28725000000003, 308.90925000000004, 309.50875, 310.12625, 310.8067500000001, 311.5445, 312.23800000000006, 312.93825000000004, 313.63800000000003, 314.3165, 314.97900000000004, 315.629, 316.25675, 316.88475, 317.45175, 317.99725, 318.5185, 318.98600000000005, 319.43875, 319.87625, 320.4185, 320.95050000000003, 321.55600000000004, 322.18250000000006, 322.7805, 323.41675, 324.07625, 324.76675, 325.51775000000004, 326.2585, 326.97225000000003, 327.69425, 328.358, 328.973, 329.56300000000005, 330.17525000000006, 330.6140000000001, 331.083, 331.5545, 331.92199999999997, 332.38699999999994, 332.88225, 333.3515, 333.79675000000003, 334.22850000000005, 334.71799999999996, 335.2027499999999, 335.73774999999995, 336.31274999999994, 336.87774999999993, 337.41774999999996, 338.05400000000003, 338.589, 339.11300000000006, 339.664, 340.15525, 340.54474999999996, 341.00325, 341.49799999999993, 341.888, 342.3082499999999, 342.7872499999999, 343.24, 343.754, 344.259, 344.77375, 345.22475, 345.61975000000007, 346.00975000000005, 346.3727500000001, 346.7127500000001, 347.09925000000004, 347.49575000000004, 347.94075000000004, 348.45574999999997, 348.95000000000005, 349.38225000000006, 349.82225000000005, 350.2322500000001, 350.65675000000005, 351.12975000000006, 351.6097500000001, 352.094, 352.58424999999994, 353.13424999999995, 353.62325, 354.07449999999994, 354.53324999999995, 354.98625, 355.457, 355.94674999999995, 356.39674999999994, 356.86175, 357.3717499999999, 357.8652499999999, 358.3499999999999, 358.8545, 359.31199999999995, 359.79349999999994, 360.2134999999999, 360.57549999999986, 360.82474999999994, 361.05424999999997, 361.35425, 361.6474999999999, 361.87749999999994, 362.18575, 362.41599999999994, 362.7209999999999, 363.04349999999994, 363.30349999999993, 363.5687499999999, 363.85124999999994, 364.1305, 364.48524999999995, 364.78824999999995, 365.0755, 365.381, 365.6915, 365.97149999999993, 366.23099999999994, 366.4527499999999, 366.68674999999996, 366.90175000000005, 367.1825, 367.45, 367.73, 368.039, 368.3585, 368.72799999999995, 369.10274999999996, 369.45700000000005, 369.80199999999996, 370.12825, 370.45824999999996, 370.81149999999997, 371.19274999999993, 371.59275, 372.0495, 372.53675, 372.9627499999999, 373.39799999999997, 373.80099999999993, 374.2049999999999, 374.5475, 374.902, 375.272, 375.68125, 376.06625, 376.43075000000005, 376.733, 376.926, 377.1405, 377.3664999999999, 377.60349999999994, 377.87049999999994, 378.1645, 378.45349999999985, 378.71874999999983, 378.99999999999983, 379.23524999999995, 379.369, 379.50950000000006, 379.6664999999999, 379.85024999999996, 380.01424999999995, 380.2109999999999, 380.43325, 380.66524999999996, 380.9047499999999, 381.0347499999999, 381.24999999999983, 381.5319999999999, 381.81074999999987, 381.8842499999999, 381.9967499999999, 382.1867499999998, 382.4299999999998, 382.74524999999977, 383.03524999999985, 383.4382499999998, 383.8834999999999, 384.23474999999985, 384.7354999999999, 385.3392499999999, 386.0239999999998, 386.6892499999998, 387.3192499999997, 387.97924999999975, 388.57149999999973, 389.1322499999998, 389.6797499999998, 390.27974999999975, 390.92324999999977, 391.5377499999998, 392.13074999999975, 392.6887499999998, 393.2612499999998, 393.8417499999998, 394.41374999999977, 395.00349999999975, 395.5314999999998, 396.0464999999998, 396.5419999999998, 397.0157499999998, 397.41574999999983, 397.8914999999999, 398.3902499999999, 398.90299999999996, 399.44975, 400.14975, 400.7497499999999, 401.39724999999993, 402.06475, 402.84274999999997, 403.6377499999999, 404.4824999999999, 405.31825, 406.1685, 407.086, 407.837, 408.5615, 409.13975, 409.78074999999995, 410.3545, 410.87949999999995, 411.48949999999996, 412.13950000000006, 412.78450000000004, 413.45825, 414.14950000000005, 414.7975, 415.44849999999997, 416.22549999999995, 417.03549999999996, 417.8302499999999, 418.73099999999994, 419.6707499999999, 420.5917499999999, 421.5817499999999, 422.5817499999999, 423.5329999999999, 424.4837499999999, 425.5082499999998, 426.53324999999984, 427.5184999999998, 428.5124999999997, 429.47749999999974, 430.3674999999997, 431.22049999999973, 432.13049999999976, 433.0349999999997, 433.9812499999997, 434.91124999999977, 435.9029999999998, 436.9227499999998, 438.1719999999998, 439.30699999999985, 440.3674999999998, 441.4674999999998, 442.63149999999985, 443.7974999999998, 445.0707499999998, 446.2967499999998, 447.5447499999999, 448.7549999999999, 449.98499999999984, 451.2044999999998, 452.4244999999999, 453.58149999999995, 454.66124999999994, 455.66674999999987, 456.60674999999986, 457.4967499999999, 458.5567499999999, 459.33149999999995, 460.22149999999993, 461.0709999999999, 461.9654999999999, 462.8709999999999, 463.7504999999999, 464.6604999999999, 465.54674999999986, 466.48174999999986, 467.3522499999999, 468.2972499999999, 469.2419999999999, 470.2507499999999, 471.2067499999999, 472.0084999999999, 472.83374999999984, 473.75374999999985, 475.0749999999999, 476.0294999999998, 476.88224999999983, 477.7409999999998, 478.58049999999986, 479.45049999999986, 480.28724999999986, 481.13849999999985, 482.00849999999986, 482.85924999999986, 483.7787499999998, 484.63749999999976, 485.5369999999998, 486.4067499999998, 487.2117499999998, 488.0314999999998, 488.8389999999999, 489.6514999999999, 490.54049999999984, 491.3504999999998, 492.2154999999998, 493.0914999999999, 493.9792499999998, 494.89849999999984, 495.7759999999998, 496.62274999999977, 497.4587499999998, 498.2992499999998, 499.15974999999986, 500.04549999999983, 500.91224999999974, 501.82224999999977, 502.70724999999976, 503.67474999999985, 504.8444999999998, 505.9362499999998, 506.9937499999998, 508.02924999999976, 509.05699999999973, 510.16224999999974, 511.3477499999998, 512.4914999999997, 513.6274999999998, 514.7642499999997, 515.8992499999997, 516.9937499999997, 517.9839999999997, 518.9037499999998, 519.9472499999997, 520.9614999999998, 522.0359999999997, 523.2472499999998, 524.3747499999997, 525.5157499999998, 526.6652499999997, 527.8414999999997, 529.0822499999998, 530.2687499999997, 531.5514999999997, 532.8714999999997, 534.1169999999997, 535.3419999999998, 536.5249999999997, 537.6439999999998, 538.7499999999998, 540.0314999999998, 541.1854999999998, 542.3497499999999, 543.7647499999998, 545.1457499999998, 546.6664999999998, 548.2719999999998, 549.7282499999998, 551.0984999999998, 552.4892499999999, 554.1049999999998, 555.4729999999998, 557.2384999999998, 558.5014999999999, 559.81525, 561.06025, 562.2852499999999, 563.53675, 564.76175, 565.9877499999999, 567.16025, 568.35475, 569.4952499999998, 570.5155, 571.4704999999999, 572.405, 573.2652499999999, 574.1462499999999, 574.9514999999999, 575.7649999999999, 576.5372499999999, 577.29725, 578.0874999999999, 578.9324999999999, 579.8974999999999, 580.7872499999999, 581.7152499999999, 582.6602499999999, 583.6152499999998, 584.6302499999998, 585.7294999999998, 586.9747499999999, 588.2332499999998, 589.3757499999997, 590.4352499999998, 591.4604999999998, 592.5574999999998, 593.6834999999999, 594.8184999999997, 595.8827499999998, 596.9187499999998, 598.0187499999997, 599.1062499999998, 599.9804999999998, 600.8974999999998, 601.8349999999998, 602.7894999999999, 603.6289999999998, 604.3689999999997, 605.0442499999997, 605.7672499999996, 606.4282499999997, 607.0382499999997, 607.7382499999998, 608.4527499999998, 609.2064999999998, 609.8664999999997, 610.5722499999997, 611.2477499999998, 611.8377499999998, 612.4017499999998, 613.0057499999998, 613.5412499999998, 614.1212499999998, 614.7559999999999, 615.3614999999999, 615.8644999999998, 616.5344999999999, 617.2904999999998, 617.9407499999999, 618.632, 619.3039999999999, 619.8884999999998, 620.4684999999998, 621.1134999999998, 621.7324999999998, 622.3054999999999, 622.8754999999999, 623.4597499999999, 624.0784999999998, 624.689, 625.3934999999999, 626.0804999999999, 626.7149999999998, 627.3594999999998, 628.0169999999998, 628.6869999999998, 629.3007499999999, 629.9409999999998, 630.5567499999999, 631.2917499999999, 631.9302499999998, 632.6049999999998, 633.3259999999998, 634.0409999999998, 634.6509999999998, 635.2684999999998, 635.7494999999998, 636.2239999999998, 636.7989999999998, 637.3469999999998, 637.8919999999997, 638.5267499999998, 639.2469999999998, 640.0722499999997, 641.0072499999999, 642.1322499999999, 642.9772499999998, 644.1282499999999, 645.1972499999998, 646.2717499999999, 647.25775, 648.2374999999998, 649.2304999999999, 650.1439999999999, 651.0789999999998, 651.8932499999999, 652.7132499999999, 653.5192499999999, 654.4694999999999, 655.3467499999999, 656.3702499999999, 657.5682499999999, 658.6532499999998, 659.6214999999997, 660.2102499999997, 661.2707499999998, 662.4057499999998, 663.5472499999997, 664.6532499999998, 665.7329999999998, 666.8067499999999, 667.9499999999998, 669.0779999999999, 670.1024999999997, 670.9779999999998, 671.8927499999998, 672.7627499999998, 673.6489999999998, 674.6225, 675.6429999999999, 676.7154999999999, 677.8054999999999, 678.8427499999998, 679.9777499999998, 681.0727499999998, 682.2017499999998, 683.2367499999999, 684.2894999999996, 685.4284999999998, 686.5842499999998, 687.7257499999997, 688.8757499999997, 690.0307499999997, 691.1832499999998, 692.2924999999999, 693.3524999999998, 694.3719999999998, 695.4309999999998, 696.1662499999998, 696.9422499999997, 698.0597499999997, 699.0397499999996, 700.0192499999997, 701.2394999999998, 702.4339999999997, 703.7089999999996, 704.9034999999997, 706.0284999999998, 707.0884999999997, 708.1792499999997, 709.3972499999998, 710.7489999999999, 712.0069999999998, 713.3427499999998, 714.5317499999999, 715.4919999999998, 716.627, 717.722, 718.6275, 719.5924999999999, 720.6374999999998, 721.7374999999998, 722.8669999999998, 723.9719999999999, 725.1569999999998, 726.3514999999998, 727.5254999999999, 728.7294999999998, 729.9239999999996, 730.9239999999996, 731.9297499999997, 733.0057499999997, 733.7507499999997, 734.4857499999997, 735.0757499999996, 735.4257499999997, 735.9407499999996, 736.4809999999997, 736.9809999999997, 737.2209999999997, 737.6119999999996, 737.6619999999997, 738.2014999999997, 738.7014999999997, 739.2114999999997, 739.5364999999998, 739.8449999999998, 740.1299999999997, 740.3894999999998, 740.70875, 740.7334999999999, 740.7779999999999, 741.1119999999999, 741.6844999999998, 742.0654999999997, 742.4654999999999, 742.8012499999999, 743.3515, 743.8557499999998, 744.4634999999997, 745.1034999999997, 745.6829999999998, 746.2729999999997, 746.6779999999998, 747.3522499999996, 747.9022499999996, 748.3919999999997, 749.0069999999997, 749.5417499999998, 750.0172499999999, 750.2172499999999, 750.4147499999998, 750.6724999999997, 751.0379999999998, 751.3677499999997, 751.5377499999996, 751.5879999999997, 751.6479999999997, 751.8494999999998, 752.0104999999998, 752.1222499999999, 752.3992499999999, 752.8449999999998, 753.403, 753.947, 754.4824999999998, 755.0229999999999, 755.5979999999998, 756.2979999999999, 756.9637499999999, 757.6887499999998, 758.5032499999999, 759.2982499999998, 760.1232499999999, 760.9807499999998, 761.8507499999998, 763.0332499999998, 764.1979999999998, 765.3114999999999, 766.3424999999999, 767.4434999999999, 768.6184999999999, 769.702, 770.73975, 771.8147499999999, 772.9149999999998, 773.7874999999999, 774.5824999999999, 775.4822499999999, 776.3812499999999, 777.2895, 778.2494999999998, 779.0644999999998, 779.807, 780.5880000000001, 781.31475, 782.23975, 783.14575, 784.07075, 785.0050000000001, 785.8705000000002, 786.7687500000002, 787.7227500000001, 788.7037500000001, 789.6507500000001, 790.6415000000001, 791.6615, 792.9150000000002, 794.0050000000001, 794.9850000000001, 796.036, 797.14125, 798.1612500000001, 799.096, 800.086, 801.2035000000001, 802.41575, 803.8410000000002, 805.5307500000001, 807.2782500000003, 808.8582500000002, 810.2485000000001, 811.5525000000002, 812.7522500000002, 813.9012500000003, 815.0512500000003, 816.2512500000003, 817.5862500000003, 818.9817500000004, 820.3077500000003, 821.6617500000002, 822.9570000000002, 824.2480000000003, 825.6230000000003, 826.9620000000002, 828.427, 830.0320000000002, 831.712, 833.3357500000001, 834.9910000000001, 836.9090000000001, 838.7825, 840.6215, 842.48825, 844.261, 845.9989999999998, 847.7734999999999, 849.5064999999998, 851.2414999999997, 852.9652499999997, 854.8222499999997, 856.6517499999998, 858.4842499999996, 860.3597499999996, 862.2497499999996, 864.1757499999997, 866.0617499999996, 867.8982499999995, 869.5747499999994, 871.2047499999994, 872.7442499999994, 874.3187499999992, 875.8859999999995, 877.4309999999995, 878.8509999999994, 880.1457499999997, 881.4432499999997, 882.7952499999996, 884.2362499999996, 885.7962499999995, 887.4297499999997, 888.9687499999997, 890.4437499999996, 891.9037499999996, 893.4479999999998, 894.9229999999995, 896.3482499999997, 897.5967499999996, 898.9507499999995, 900.5497499999994, 902.0047499999996, 903.6032499999997, 905.1987499999997, 906.3739999999997, 907.5329999999996, 908.6279999999996, 909.7034999999996, 910.9027499999997, 912.1927499999997, 913.8824999999997, 915.1024999999997, 916.3689999999997, 917.7189999999996, 918.9629999999997, 920.2779999999999, 921.6759999999999, 923.0159999999997, 924.3459999999999, 925.8409999999998, 927.0759999999998, 927.9622499999998, 928.9167499999998, 929.7007499999999, 930.4452499999998, 931.1302499999998, 931.7807499999998, 932.3757499999998, 932.9167499999998, 933.42725, 933.79225, 934.4872499999999, 935.06225, 935.5372499999999, 936.0772499999998, 936.7067499999997, 937.6567499999998, 938.6067499999997, 939.5759999999998, 940.4809999999998, 941.2359999999998, 942.2949999999997, 943.0949999999997, 943.8974999999997, 944.8174999999999, 945.7969999999997, 947.2819999999997, 948.7834999999997, 950.2484999999996, 951.5134999999996, 952.6489999999998, 954.1092499999997, 955.3552499999998, 956.3502499999996, 957.2027499999997, 958.2422499999998, 959.4822499999996, 960.8717499999996, 962.0567499999997, 963.1542499999997, 964.2792499999997, 965.4142499999999, 966.5847499999998, 967.6697499999998, 968.8247499999998, 969.7957499999998, 970.8372499999998, 972.0104999999998, 973.1304999999998, 974.3307499999996, 975.4809999999998, 976.7309999999998, 978.0557499999999, 979.2957499999998, 980.5702499999998, 981.8397499999998, 983.1797499999998, 984.7347499999997, 986.1897499999998, 987.5894999999998, 989.0279999999999, 990.56525, 992.0152499999998, 993.5552499999998, 995.1902499999998, 996.8482499999998, 998.4482499999998, 1000.0732499999998, 1001.5632499999998, 1003.2132499999998, 1004.9537499999999, 1006.6537499999998, 1008.3734999999999, 1010.1034999999997, 1011.9359999999999, 1013.6809999999998, 1015.4209999999998, 1016.7235, 1017.9487499999999, 1019.3452499999999, 1020.7102499999997, 1021.8102499999998, 1023.06025, 1024.36175, 1025.709, 1027.0075000000002, 1028.285, 1029.5725, 1030.866, 1032.015, 1033.1309999999999, 1034.2447499999998, 1035.3377500000001, 1036.80275, 1038.3652499999998, 1039.95525, 1041.4802499999998, 1042.8322500000002, 1044.27225, 1045.73225, 1047.2945, 1048.6795, 1050.30125, 1052.07775, 1053.75775, 1055.46675, 1057.1005000000002, 1058.6727500000002, 1060.0292500000003, 1061.4990000000003, 1063.1240000000003, 1064.7495000000001, 1066.257, 1067.4820000000002, 1068.79725, 1070.1217500000002, 1071.2117500000002, 1072.185, 1073.03025, 1073.4055, 1073.9405000000002, 1074.7575000000002, 1075.7300000000002, 1076.511, 1077.38075, 1078.2767500000002, 1078.82075, 1079.24475, 1079.75475, 1080.20525, 1080.7247499999999, 1081.3602500000002, 1081.9102500000001, 1082.49125, 1083.18475, 1084.0257499999998, 1084.8967499999999, 1085.6217499999998, 1086.3882499999997, 1086.9895, 1087.5112499999998, 1087.6992500000001, 1087.98575, 1088.41675, 1088.8767500000001, 1089.3635000000002, 1089.8355, 1090.4505, 1091.1019999999999, 1091.7312499999998, 1092.9077499999999, 1093.9707499999997, 1094.9589999999998, 1096.0689999999997, 1097.514, 1098.9239999999998, 1100.6444999999999, 1102.3339999999998, 1104.1349999999998, 1105.9939999999997, 1107.7375, 1109.5479999999998, 1111.3734999999997, 1113.12, 1115.0049999999999, 1117.1394999999998, 1119.301, 1121.831, 1124.25625, 1126.3642499999999, 1128.2392499999999, 1129.9457499999999, 1131.5317499999999, 1133.7567499999998, 1136.05675, 1138.5817499999998, 1141.11125, 1144.2864999999997, 1147.7859999999998, 1151.042, 1154.3349999999998, 1157.8189999999997, 1161.0454999999995, 1164.2849999999994, 1167.6534999999994, 1170.2124999999996, 1172.8474999999996, 1175.1724999999997, 1178.2482499999994, 1181.7732499999993, 1184.7232499999993, 1187.8082499999996, 1190.7032499999996, 1193.4504999999997, 1196.1214999999997, 1198.5929999999996, 1201.0549999999996, 1203.8299999999995, 1206.5299999999995, 1209.4049999999997, 1212.5049999999997, 1216.0054999999998, 1219.3559999999995, 1222.7374999999995, 1226.2279999999998, 1229.9679999999998, 1233.5479999999998, 1237.2039999999997, 1241.2439999999997, 1245.3329999999996, 1249.4879999999996, 1253.3679999999995, 1257.0629999999996, 1260.8929999999998, 1264.6779999999997, 1268.1777499999996, 1271.7527499999999, 1275.3827499999998, 1279.2534999999998, 1283.0934999999997, 1287.1484999999998, 1290.9434999999999, 1294.9424999999997, 1298.8274999999996, 1302.6024999999997, 1306.1449999999998, 1309.5989999999997, 1313.2839999999997, 1317.1819999999996, 1321.2069999999994, 1325.5572499999998, 1329.8092499999996, 1333.8922499999994, 1337.6132499999994, 1341.0582499999996, 1344.2682499999996, 1348.2932499999995, 1351.8182499999996, 1355.0182499999996, 1358.5682499999996, 1361.6332499999996, 1364.7732499999995, 1367.6732499999996, 1370.6627499999997, 1373.6167499999997, 1376.6907499999995, 1379.6362499999998, 1382.0869999999995, 1384.4469999999994, 1386.7369999999996, 1388.8819999999996, 1390.9569999999994, 1393.1969999999994, 1395.8719999999996, 1398.6474999999998, 1401.5979999999995, 1404.5964999999997, 1407.3214999999996, 1410.1214999999993, 1412.7202499999996, 1415.1957499999996, 1417.3189999999997, 1419.4524999999994, 1421.4474999999993, 1423.2089999999994, 1424.6944999999992, 1426.0444999999993, 1427.1982499999995, 1428.4232499999991, 1429.3912499999994, 1430.3912499999994, 1431.8652499999994, 1432.7909999999993, 1433.5954999999992, 1434.0494999999996, 1434.4144999999996, 1435.2792499999996, 1436.3847499999995, 1438.0597499999997, 1439.7029999999995, 1441.469, 1443.15025, 1444.5502500000002, 1445.66025, 1447.0404999999998, 1448.3345, 1449.3569999999997, 1450.3999999999996, 1451.4364999999996, 1452.8824999999997, 1454.2087499999998, 1455.465, 1456.621, 1457.5359999999998, 1458.7859999999998, 1460.2932499999997, 1462.10125, 1463.8482499999998, 1465.368, 1467.013, 1468.7609999999997, 1470.7359999999999, 1472.4514999999994, 1474.1362499999998, 1475.7804999999996, 1477.3919999999996, 1479.0534999999995, 1480.57325, 1482.4432499999998, 1483.6529999999998, 1484.8529999999998, 1486.0014999999999, 1487.24775, 1488.93625, 1490.47125, 1491.6722499999998, 1492.7622499999998, 1494.0067499999998, 1495.0692499999998, 1496.2192499999999, 1497.1772499999997, 1498.0892499999995, 1499.04125, 1500.2662499999997, 1501.0715, 1501.6615, 1502.542, 1503.4277500000003, 1503.7330000000002, 1504.0675000000003, 1504.5067500000002, 1504.6557500000004, 1504.9132500000005, 1505.1387500000003, 1505.4717500000004, 1505.7317500000004, 1505.52175, 1505.2367500000003, 1504.7447500000003, 1504.3142500000004, 1503.8015000000003, 1503.3575000000003, 1502.5725000000007, 1501.6195000000005, 1500.6695000000004, 1499.9100000000005, 1498.9250000000006, 1497.7105000000008, 1496.7160000000006, 1495.6902500000006, 1494.324750000001, 1493.012250000001, 1491.7250000000013, 1490.295000000001, 1488.3490000000008, 1486.0990000000008, 1483.6990000000008, 1481.6945000000007, 1479.9155000000007, 1478.5967500000008, 1477.5782500000007, 1476.7232500000007, 1475.4967500000005, 1474.1452500000005, 1472.4937500000005, 1470.6442500000007, 1468.983250000001, 1466.9832500000007, 1465.0562500000005, 1463.6072500000007, 1462.7587500000006, 1461.8837500000002, 1461.3737500000002, 1460.4777500000002, 1459.4527500000002, 1457.8085000000003, 1456.0957500000002, 1453.86475, 1451.32275, 1449.21775, 1446.7757499999998, 1443.7667499999998, 1441.2257499999998, 1438.7962499999994, 1436.3977499999996, 1434.68825, 1433.16175, 1432.1117499999998, 1430.6417499999998, 1428.4237499999997, 1426.07375, 1424.15375, 1422.27125, 1420.348, 1418.5275, 1416.876, 1414.9160000000002, 1412.7610000000004, 1410.701, 1408.396, 1406.366, 1404.2344999999998, 1402.0182499999999, 1399.85325, 1397.7372499999997, 1395.3372499999998, 1392.9722499999998, 1390.5379999999998, 1388.088, 1385.6374999999998, 1383.0424999999998, 1380.4674999999997, 1377.5274999999997, 1374.4924999999996, 1371.9424999999997, 1369.8832499999999, 1367.1277499999997, 1364.1592499999997, 1361.0942499999996, 1357.9684999999995, 1354.8284999999994, 1351.6584999999995, 1348.5744999999995, 1345.2744999999993, 1341.4544999999991, 1338.0124999999994, 1334.3982499999993, 1330.8632499999992, 1327.3652499999994, 1324.1339999999993, 1320.8489999999993, 1317.2724999999994, 1314.1544999999996, 1311.3879999999997, 1308.6979999999994, 1306.0529999999994, 1302.4479999999996, 1299.0219999999995, 1295.4907499999995, 1291.9607499999995, 1288.2592499999998, 1284.4642499999998, 1280.8794999999998, 1277.3549999999996, 1274.0634999999995, 1270.6244999999994, 1267.4874999999995, 1264.3874999999998, 1261.3374999999996, 1258.4159999999997, 1255.7509999999997, 1253.2959999999998, 1250.5557499999998, 1247.5257499999998, 1244.3007499999997, 1241.1442499999998, 1238.1507499999998, 1235.4007499999998, 1232.9002499999997, 1230.6235, 1228.3994999999998, 1226.1422499999999, 1223.7092499999999, 1221.3537499999998, 1219.0322499999995, 1217.0537499999998, 1215.2387499999998, 1213.5789999999995, 1212.0889999999997, 1210.6934999999996, 1209.5034999999996, 1207.9307499999998, 1206.4907499999997, 1204.9712499999996, 1203.6562499999998, 1202.6897499999998, 1200.8149999999998, 1198.7827499999999, 1196.3802499999997, 1193.7219999999998, 1190.9199999999998, 1188.37375, 1185.93025, 1183.7499999999998, 1181.3239999999996, 1179.1692499999997, 1177.2439999999997, 1175.2334999999996, 1173.1574999999996, 1170.7752499999995, 1168.3974999999998, 1166.1464999999996, 1164.0879999999995, 1162.2087499999996, 1159.8484999999996, 1157.1812499999996, 1154.3684999999996, 1151.5244999999998, 1148.7467499999998, 1145.6467499999997, 1142.3627499999998, 1138.9622499999998, 1135.5217499999999, 1131.9937499999999, 1128.6137499999998, 1125.35325, 1121.9779999999998, 1118.5769999999998, 1114.827, 1111.715, 1108.37975, 1105.07975, 1101.816, 1098.3615, 1095.0995, 1092.144, 1089.404, 1086.665, 1083.966, 1081.6149999999998, 1079.682, 1077.6924999999999, 1075.8029999999999, 1073.9679999999998, 1072.318, 1070.9074999999998, 1069.4829999999997, 1068.36775, 1067.7424999999996, 1067.0929999999998, 1066.4442499999998, 1066.1449999999998, 1065.801, 1065.47975, 1064.84475, 1064.18475, 1063.9097499999998, 1063.7314999999999, 1063.632, 1063.7019999999998, 1063.99275, 1064.13375, 1064.4387499999998, 1065.3967499999999, 1066.3715, 1067.1164999999999, 1067.9565, 1068.7965, 1069.485, 1070.35625, 1071.01575, 1071.4782500000001, 1072.0632500000002, 1074.4117500000002, 1076.8077500000002, 1079.1627500000002, 1081.29275, 1083.04725, 1084.5270000000003, 1085.6115000000002, 1086.6315000000002, 1087.6550000000002, 1088.9810000000004, 1090.6275000000003, 1092.2790000000005, 1093.8940000000005, 1095.2485000000006, 1096.7785000000006, 1098.2312500000005, 1099.4062500000007, 1100.6847500000006, 1102.2097500000007, 1103.6297500000007, 1104.7532500000007, 1105.9032500000005, 1107.5732500000006, 1109.3100000000006, 1111.0355000000009, 1112.8790000000006, 1114.2125000000008, 1115.6955000000007, 1117.2040000000006, 1118.5010000000009, 1119.8555000000006, 1121.1405000000007, 1122.4920000000006, 1123.5635000000004, 1124.6385000000005, 1125.4485000000004, 1126.0150000000008, 1126.6900000000005, 1127.1400000000006, 1127.6465000000005, 1128.1070000000007, 1128.8365000000003, 1129.4130000000005, 1130.3730000000005, 1131.3972500000004, 1132.5872500000005, 1133.8152500000006, 1134.6637500000006, 1135.4047500000006, 1136.2860000000005, 1137.1610000000005, 1137.8120000000006, 1138.5005000000006, 1139.5255000000006, 1140.8572500000007, 1141.8772500000005, 1142.8725000000004, 1143.9660000000006, 1144.9910000000004, 1146.4660000000006, 1148.0515000000005, 1149.0410000000004, 1149.8610000000006, 1151.2660000000003, 1152.9045000000003, 1154.2832500000002, 1155.9935000000003, 1157.6820000000005, 1159.6070000000004, 1161.4420000000002, 1163.7010000000002, 1166.4460000000001, 1169.0895000000003, 1171.3997500000005, 1173.4247500000006, 1175.3500000000004, 1177.1255000000003, 1178.5447500000002, 1180.2597500000004, 1181.9847500000003, 1183.7912500000002, 1185.7610000000004, 1187.8660000000004, 1190.0860000000002, 1192.4925000000005, 1195.3587500000003, 1198.0800000000004, 1201.4567500000003, 1204.8117500000003, 1208.2150000000004, 1211.5400000000002, 1214.9120000000003, 1218.4155, 1221.68675, 1225.3870000000002, 1229.1770000000001, 1232.9255000000003, 1236.4705000000001, 1240.025, 1243.8752500000003, 1247.6047500000002, 1251.4047500000001, 1255.16125, 1258.8112500000002, 1262.3862500000002, 1265.73075, 1269.004, 1272.279, 1275.69925, 1279.0842499999999, 1282.47975, 1285.9147499999997, 1289.2432499999998, 1292.4322499999996, 1295.5302499999996, 1298.8102499999995, 1301.7602499999996, 1304.4302499999994, 1306.9929999999995, 1309.9754999999996, 1313.4154999999998, 1317.0649999999996, 1320.5414999999996, 1324.4514999999997, 1328.4337499999995, 1332.4102499999995, 1336.5699999999995, 1340.8109999999997, 1344.9659999999997, 1349.2169999999999, 1353.5972499999996, 1357.9182499999995, 1362.2755, 1366.6504999999995, 1370.8664999999996, 1375.2524999999996, 1379.6347499999995, 1384.2037499999997, 1388.7997499999994, 1393.1947499999994, 1397.4424999999997, 1401.9227499999997, 1406.3917499999995, 1410.6472499999995, 1414.9422499999994, 1419.3702499999997, 1423.7652499999997, 1427.8484999999994, 1431.9389999999996, 1436.0049999999997, 1440.00425, 1443.9259999999995, 1447.9365, 1452.1717499999995, 1456.5457499999998, 1460.7944999999997, 1465.0919999999999, 1469.5947499999995, 1474.1462499999993, 1478.5762499999994, 1483.23425, 1487.58825, 1492.0365000000002, 1496.2955000000002, 1500.4544999999998, 1504.815, 1508.8109999999997, 1512.8309999999997, 1516.8905, 1520.8155, 1524.5549999999996, 1528.1549999999997, 1531.605, 1534.8854999999999, 1537.721, 1540.531, 1543.346, 1546.0205, 1548.6077500000001, 1551.2087500000002, 1553.6600000000003, 1556.1170000000004, 1558.5612500000007, 1560.9507500000007, 1563.5262500000006, 1566.1912500000005, 1568.675250000001, 1571.0890000000009, 1573.7587500000009, 1576.658750000001, 1579.1237500000009, 1581.6725000000008, 1584.2217500000008, 1586.8317500000005, 1589.4767500000005, 1592.2120000000004, 1594.9722500000003, 1597.8832500000003, 1600.9732500000005, 1603.9882500000003, 1605.3397500000003, 1606.9197500000002, 1608.9642500000004, 1611.1142500000005, 1613.2967500000002, 1615.4475000000002, 1617.5372500000005, 1619.5662500000005, 1621.3597500000003, 1623.1842500000005, 1625.0392500000005, 1627.2392500000005, 1629.7492500000008, 1632.5787500000004, 1635.3737500000002, 1638.0982500000005, 1640.6627500000002, 1642.6677500000003, 1644.6157500000002, 1646.4707500000002, 1648.4080000000001, 1650.3075000000003, 1652.1725000000004, 1654.1885000000004, 1656.1585000000005, 1658.1395000000005, 1660.4380000000008, 1662.5490000000004, 1664.8352500000008, 1667.1292500000009, 1669.314750000001, 1671.4750000000008, 1673.869500000001, 1676.3045000000013, 1678.6132500000012, 1680.8482500000014, 1683.649750000001, 1686.4997500000009, 1689.3787500000008, 1691.973250000001, 1694.643750000001, 1696.869750000001, 1699.609750000001, 1702.349750000001, 1705.0105000000008, 1707.5555000000008, 1710.022500000001, 1712.3880000000008, 1714.6617500000007, 1716.7617500000006, 1718.7937500000005, 1720.8187500000006, 1722.9677500000005, 1724.7077500000005, 1726.4265000000005, 1728.4165000000005, 1730.4477500000005, 1732.5472500000005, 1734.7222500000003, 1736.9060000000004, 1739.3805000000004, 1741.99, 1744.4042500000003, 1746.7147500000003, 1748.9477500000003, 1751.4537500000004, 1753.9292500000001, 1756.50575, 1758.95575, 1761.4807500000002, 1763.9667499999998, 1766.4615, 1768.9179999999997, 1771.6079999999993, 1774.3014999999994, 1776.9212499999994, 1779.4469999999994, 1782.0077499999993, 1784.5117499999992, 1786.9062499999993, 1789.1747499999997, 1791.3817499999993, 1793.6167499999997, 1795.9504999999992, 1798.3149999999994, 1800.644249999999, 1803.1127499999993, 1805.7174999999995, 1808.4224999999994, 1811.2884999999994, 1813.9884999999995, 1816.3239999999996, 1818.4604999999997, 1820.7827499999996, 1822.9324999999997, 1824.9474999999998, 1826.9504999999997, 1829.0244999999995, 1831.0899999999995, 1832.9899999999993, 1835.0904999999996, 1837.3254999999997, 1839.4999999999998, 1841.5749999999998, 1843.5449999999996, 1845.4879999999996, 1847.3429999999996, 1849.2624999999998, 1851.2632499999997, 1853.4434999999994, 1855.3624999999995, 1857.3844999999994, 1859.5189999999996, 1861.85, 1864.648, 1867.4054999999998, 1870.407, 1873.312, 1876.223, 1879.0304999999998, 1881.5497499999997, 1883.79, 1885.9785000000002, 1887.9685, 1890.0385, 1892.2642500000002, 1894.4795000000001, 1896.803, 1899.1430000000003, 1901.3350000000003, 1903.6850000000004, 1906.2600000000002, 1908.9650000000004, 1911.8350000000003, 1915.0915000000005, 1918.2865000000006, 1921.6412500000004, 1925.0467500000002, 1928.3767500000004, 1931.7810000000004, 1935.2525000000005, 1938.6115000000004, 1941.7460000000005, 1945.0910000000006, 1948.5910000000006, 1952.1110000000006, 1955.8890000000006, 1959.8932500000003, 1963.8082500000005, 1967.7922500000004, 1971.6762500000002, 1975.5442500000001, 1979.0442500000001, 1982.6742500000003, 1986.3642500000005, 1990.0792500000005, 1994.2087500000007, 1997.6812500000003, 2000.9162500000002, 2004.1902500000003, 2007.2482500000003, 2010.4687500000002, 2013.3555000000001, 2016.3265000000001, 2019.43175, 2022.3527500000002, 2025.6877500000003, 2028.7327500000001, 2031.6482500000002, 2034.72325, 2037.95375, 2041.4537500000004, 2045.09825, 2048.89175, 2052.84375, 2056.55375, 2060.3737499999997, 2064.2977499999997, 2068.23075, 2071.92625, 2075.891, 2079.844, 2083.7692500000003, 2087.6732500000003, 2091.286, 2094.7105000000006, 2098.28225, 2102.0437500000003, 2105.7390000000005, 2109.2890000000007, 2112.9140000000007, 2116.2655000000004, 2119.421250000001, 2122.2932500000006, 2124.9345000000008, 2127.4857500000007, 2130.085250000001, 2132.330250000001, 2134.493250000001, 2136.517250000001, 2138.5625000000005, 2140.6875000000005, 2142.6080000000006, 2144.5567500000006, 2146.5547500000002, 2148.7982500000003, 2151.4327500000004, 2154.0257500000002, 2156.7887500000006, 2159.663000000001, 2162.328000000001, 2164.6265000000008, 2166.689750000001, 2168.4927500000013, 2169.892750000001, 2171.136750000001, 2172.492250000001, 2173.829250000001, 2175.0712500000013, 2175.786250000001, 2176.626500000001, 2177.5472500000014, 2178.434250000001, 2179.2182500000013, 2180.1737500000013, 2181.1735000000012, 2181.801500000001, 2182.454250000001, 2182.986750000001, 2183.5712500000013, 2184.038750000001, 2184.612250000001, 2185.052750000001, 2185.372750000001, 2185.7387500000013, 2185.938750000001, 2186.1337500000013, 2186.508750000001, 2187.1357500000013, 2188.107250000001, 2189.137250000001, 2190.7322500000014, 2192.257750000001, 2193.522750000001, 2194.576250000001, 2195.3662500000014, 2196.094000000001, 2196.795000000001, 2197.7747500000014, 2199.0847500000013, 2200.8142500000013, 2202.728750000001, 2204.4112500000015, 2206.4037500000013, 2208.331000000001, 2209.871000000001, 2211.3860000000013, 2212.988000000001, 2214.576500000001, 2216.2877500000013, 2217.902750000001, 2219.3347500000013, 2220.7540000000013, 2222.134000000001, 2223.5655000000015, 2224.9502500000012, 2226.5752500000012, 2228.260250000001, 2229.9792500000012, 2231.849250000001, 2233.833750000001, 2235.6690000000012, 2237.644000000001, 2239.6937500000013, 2241.6502500000015, 2243.505250000001, 2245.470250000001, 2247.338000000001, 2249.512250000001, 2251.777750000001, 2254.1285000000007, 2256.305750000001, 2258.6057500000006, 2260.841500000001, 2263.201750000001, 2265.341750000001, 2267.177000000001, 2268.742000000001, 2270.040500000001, 2271.064500000001, 2272.092750000001, 2273.188500000001, 2274.242500000001, 2275.3990000000013, 2276.650250000001, 2277.7252500000013, 2278.7247500000008, 2279.750250000001, 2280.810250000001, 2281.690750000001, 2282.4855000000007, 2283.1890000000008, 2283.884500000001, 2284.764500000001, 2285.613500000001, 2286.4390000000008, 2287.2240000000006, 2288.0895000000005, 2289.138500000001, 2290.2112500000007, 2291.8407500000008, 2293.3687500000005, 2294.5677500000006, 2295.7420000000006, 2296.6970000000006, 2297.453000000001, 2298.114000000001, 2298.8470000000007, 2299.6195000000007, 2300.4445000000005, 2301.3652500000007, 2302.394500000001, 2303.366000000001, 2304.4965000000007, 2305.5287500000004, 2306.274000000001, 2307.013000000001, 2307.6117500000005, 2308.4815000000003, 2309.6412500000006, 2310.5412500000007, 2311.5612500000007, 2312.4360000000006, 2313.254000000001, 2313.8890000000006, 2314.5190000000007, 2314.9692500000006, 2315.3710000000005, 2315.8375000000005, 2316.24875, 2316.28875, 2316.3795000000005, 2306.6375000000003, 2296.8197500000006, 2286.919250000001, 2276.9942500000006, 2266.9632500000007, 2256.939250000001, 2247.0745000000006, 2237.2570000000005, 2227.5680000000007, 2217.8837500000004, 2208.381250000001, 2198.580750000001, 2188.7805000000008, 2179.006250000001, 2168.7537500000008, 2159.083250000001, 2149.602250000001, 2140.1282500000007, 2130.596000000001, 2121.2325000000005, 2112.0260000000007, 2102.926000000001, 2093.7387500000013, 2084.6110000000012, 2075.1552500000007, 2065.537750000001, 2055.998000000001, 2046.2855000000009, 2036.5625000000011, 2026.8595000000014, 2017.078250000001, 2007.2690000000011, 1997.597000000001, 1988.122000000001, 1978.532000000001, 1968.9155000000007, 1959.2702500000007, 1949.898750000001, 1940.3725000000009, 1930.8285000000005, 1921.3380000000006, 1911.9600000000005, 1902.7002500000006, 1893.5607500000003, 1884.3255000000008, 1874.9167500000008, 1865.4050000000009, 1855.8500000000006, 1846.075000000001, 1836.413250000001, 1827.022750000001, 1817.9275000000011, 1809.140250000001, 1800.2892500000007, 1791.234250000001, 1782.364250000001, 1773.5475000000013, 1764.8485000000012, 1756.0432500000013, 1747.1677500000012, 1738.4972500000013, 1729.7545000000014, 1720.9865000000018, 1712.0455000000015, 1702.7685000000017, 1693.5245000000016, 1684.161500000002, 1674.6222500000017, 1665.167250000002, 1655.8725000000018, 1646.5337500000016, 1637.3752500000019, 1628.484000000002, 1619.855500000002, 1611.2255000000018, 1602.5627500000019, 1593.9622500000023, 1585.9340000000022, 1577.7825000000023, 1569.6042500000021, 1561.3315000000023, 1553.0970000000025, 1544.6870000000024, 1536.1627500000022, 1527.9707500000022, 1519.8040000000024, 1511.7342500000022, 1503.558500000002, 1495.4160000000018, 1487.2317500000013, 1479.0315000000014, 1470.9592500000012, 1462.9077500000014, 1455.0677500000013, 1447.1622500000012, 1439.1995000000013, 1431.0030000000015, 1422.7015000000015, 1414.3475000000012, 1405.6322500000012, 1396.6437500000009, 1387.822500000001, 1379.0440000000006, 1370.4815000000006, 1361.9537500000006, 1353.6267500000008, 1345.2190000000007, 1336.6930000000004, 1327.8140000000003, 1318.8765000000005, 1310.0745000000002, 1301.1970000000001, 1292.2135, 1283.3085, 1274.3725, 1265.482, 1256.66825, 1247.8767500000001, 1238.9975, 1230.283, 1221.675, 1213.1215, 1204.532, 1195.883, 1186.87325, 1177.6525, 1168.3784999999998, 1158.9855, 1149.45725, 1140.0995, 1130.51325, 1120.9289999999999, 1111.4189999999999, 1102.049, 1092.539, 1083.3262499999998, 1073.9065, 1064.4465, 1054.98725, 1045.7732499999997, 1036.4052499999998, 1026.9097499999998, 1017.3342499999999, 1007.9732499999997, 998.7032499999998, 989.4772499999998, 980.4532499999997, 971.5639999999995, 962.7507499999997, 953.9924999999996, 945.3129999999994, 936.3927499999995, 927.4947499999994, 918.7619999999994, 910.0844999999993, 901.4594999999994, 892.6209999999993, 883.9154999999995, 875.1532499999994, 866.3694999999996, 857.5544999999995, 848.5444999999994, 839.6854999999995, 830.8954999999994, 822.1979999999993, 813.4629999999992, 804.5529999999992, 795.5394999999993, 786.0462499999991, 776.5654999999992, 767.3212499999994, 758.078999999999, 748.7227499999991, 739.3517499999994, 730.1007499999994, 720.8202499999992, 711.5182499999994, 702.2374999999994, 692.8972499999995, 683.6002499999995, 674.3852499999995, 665.1862499999995, 656.0089999999997, 646.9437499999996, 637.8772499999997, 628.8687499999997, 619.5739999999998, 610.0942499999998, 600.6437499999997, 590.9267499999999, 581.0919999999998, 571.1339999999999, 561.1564999999999, 551.1439999999999, 541.0937499999999, 530.9490000000001, 520.75675, 510.6812499999999, 500.88624999999985, 491.0314999999999, 491.2334999999998, 491.35399999999987, 491.44149999999985, 491.4594999999999, 491.4919999999999, 491.56749999999994, 491.59124999999995, 491.5809999999999, 491.5234999999999, 491.53624999999994, 491.5582499999999, 491.64799999999997, 491.69325, 491.7182499999999, 491.7847499999999, 491.85599999999994, 492.0299999999999, 492.18975, 492.34899999999993, 492.4194999999999, 492.5317499999999, 492.5942499999999, 492.7267499999998, 492.9794999999998, 493.3027499999999, 493.69899999999984, 494.1237499999998, 494.5654999999998, 495.0154999999998, 495.4554999999998, 495.9512499999998, 496.4214999999998, 496.74149999999986, 497.0239999999998, 497.37749999999977, 497.72099999999983, 498.01374999999985, 498.3052499999998, 498.65024999999974, 499.0574999999998, 499.50299999999976, 499.9624999999997, 500.4222499999997, 500.87649999999974, 501.36649999999975, 501.84524999999974, 502.26574999999974, 502.78224999999975, 503.4012499999998, 504.06749999999977, 504.7149999999997, 505.35174999999964, 505.9214999999997, 506.4909999999997, 507.12049999999977, 507.7854999999997, 508.40424999999976, 508.99149999999975, 509.6054999999997, 510.1747499999997, 510.7687499999997, 511.34724999999963, 511.9152499999997, 512.4544999999997, 512.9934999999996, 513.4654999999997, 514.0134999999996, 514.5659999999997, 515.0909999999997, 515.6722499999996, 516.3322499999996, 516.9072499999996, 517.4934999999996, 518.0692499999996, 518.6404999999996, 519.2087499999997, 519.7714999999996, 520.3574999999996, 520.9309999999996, 521.5334999999995, 522.1069999999995, 522.6969999999995, 523.3469999999996, 523.9969999999996, 524.6779999999997, 525.3597499999997, 526.0922499999997, 526.8509999999997, 527.6509999999997, 528.4404999999998, 529.2007499999997, 529.9579999999999, 530.7097499999999, 531.3822499999999, 532.1164999999999, 532.8789999999998, 533.5844999999999, 534.2959999999998, 535.1849999999998, 536.1147499999998, 537.0822499999998, 538.0464999999999, 539.0514999999999, 540.0204999999999, 541.1154999999999, 542.1414999999998, 543.1139999999999, 544.0832499999998, 544.9702499999999, 545.8957499999998, 546.7977499999998, 547.7217499999998, 548.6867499999998, 549.6912499999997, 550.7197499999997, 551.6777499999998, 552.6424999999998, 553.5839999999997, 554.4982499999996, 555.4292499999997, 556.3487499999997, 557.2362499999998, 558.1287499999997, 559.0072499999997, 559.8214999999997, 560.6607499999998, 561.5057499999998, 562.2587499999997, 563.0134999999997, 563.7712499999998, 564.5374999999998, 565.2869999999998, 566.0909999999998, 566.8304999999997, 567.6524999999997, 568.4204999999997, 569.1614999999997, 569.9409999999997, 570.7284999999997, 571.5042499999996, 572.2902499999997, 573.0697499999997, 573.8589999999997, 574.7494999999997, 575.6519999999997, 576.5387499999997, 577.3142499999997, 578.0999999999997, 578.9274999999997, 579.7499999999997, 580.5379999999998, 581.3532499999998, 582.1562499999998, 582.9789999999998, 583.7839999999998, 584.5239999999998, 585.3234999999997, 586.1447499999997, 586.9722499999998, 587.7774999999998, 588.5732499999998, 589.4074999999998, 590.1924999999998, 590.9349999999998, 591.6974999999999, 592.4729999999998, 593.2729999999998, 594.0984999999998, 594.9732499999998, 595.8374999999999, 596.6152499999998, 597.3659999999998, 598.1622499999997, 598.9642499999998, 599.7077499999998, 600.4924999999998, 601.2679999999997, 602.0029999999997, 602.7232499999998, 603.3582499999998, 604.0182499999997, 604.7017499999998, 605.3854999999999, 606.0657499999998, 606.7532499999999, 607.4189999999998, 608.0559999999997, 608.6659999999996, 609.1907499999996, 609.6602499999997, 610.1062499999996, 610.5607499999996, 611.0432499999997, 611.5627499999997, 612.1127499999998, 612.7177499999997, 613.3304999999997, 613.9774999999996, 614.6264999999996, 615.2409999999996, 615.8594999999996, 616.5907499999997, 617.2959999999996, 618.0149999999996, 618.7264999999996, 619.4414999999997, 620.1524999999997, 620.9049999999996, 621.5594999999996, 622.1784999999996, 622.8324999999996, 623.4789999999996, 624.1687499999996, 625.0042499999996, 625.7892499999997, 626.5519999999996, 627.2284999999996, 627.9362499999995, 628.6587499999996, 629.3842499999995, 630.0674999999995, 630.7422499999994, 631.3617499999996, 631.8197499999995, 632.1889999999996, 632.5627499999996, 632.9739999999996, 633.3647499999995, 633.7742499999996, 634.1954999999996, 634.5639999999996, 634.9359999999996, 635.3857499999996, 635.8237499999996, 636.2684999999994, 636.7529999999995, 637.2397499999995, 637.7169999999995, 638.2727499999996, 638.8687499999996, 639.4212499999996, 640.0562499999996, 640.6562499999997, 641.2269999999996, 641.7632499999996, 642.3024999999997, 642.8734999999996, 643.3819999999996, 643.8829999999996, 644.3249999999996, 644.8174999999997, 645.3514999999996, 645.9052499999997, 646.4862499999996, 647.0572499999996, 647.6694999999996, 648.2439999999996, 648.9367499999995, 649.6527499999996, 650.3714999999995, 651.0479999999995, 651.6784999999995, 652.2884999999994, 652.8789999999995, 653.4617499999995, 654.1017499999995, 654.6957499999995, 655.2764999999995, 655.9029999999995, 656.4714999999995, 656.9439999999995, 657.3654999999994, 657.7924999999996, 658.1987499999996, 658.6544999999995, 659.0969999999995, 659.4992499999994, 659.8434999999995, 660.1464999999994, 660.4942499999994, 660.8674999999994, 661.2284999999994, 661.5514999999994, 661.8457499999994, 662.0694999999993, 662.2769999999994, 662.5289999999993, 662.7497499999994, 663.0382499999995, 663.4402499999995, 663.8252499999995, 664.1839999999995, 664.4574999999994, 664.7372499999994, 665.0272499999996, 665.2647499999995, 665.5734999999996, 665.8829999999995, 666.1714999999995, 666.4754999999994, 666.7712499999996, 667.0107499999996, 667.2297499999995, 667.5007499999994, 667.8004999999996, 668.1014999999996, 668.3819999999995, 668.5687499999996, 668.7792499999996, 668.9079999999996, 669.0029999999996, 669.0389999999996, 668.9729999999996, 668.9874999999994, 668.9839999999994, 668.9987499999994, 668.9659999999994, 668.8627499999997, 668.7502499999998, 668.6067499999997, 668.5257499999996, 668.4449999999996, 668.3424999999995, 668.0614999999997, 667.8314999999997, 667.7497499999997, 667.5782499999997, 667.4439999999998, 667.3519999999996, 667.1269999999997, 666.7819999999997, 666.4794999999997, 666.2104999999999, 665.9727499999998, 665.7202499999999, 665.3614999999998, 665.2364999999998, 665.0569999999998, 664.9344999999998, 664.8287499999997, 664.6957499999999, 664.4997499999997, 664.3252499999998, 664.0314999999998, 663.7784999999998, 663.7222499999998, 663.7044999999998, 663.4912499999998, 663.2204999999998, 662.9389999999999, 662.5864999999997, 662.2114999999997, 661.7957499999997, 661.3877499999996, 661.1107499999997, 660.9082499999997, 660.6879999999998, 660.5144999999997, 660.3339999999996, 660.1689999999998, 660.0869999999996, 660.0092499999996, 659.9642499999998, 659.8489999999998, 659.8467499999997, 659.8152499999997, 659.7349999999997, 659.6299999999997, 659.5837499999997, 659.5399999999997, 659.5479999999998, 659.6302499999997, 659.6777499999996, 659.7184999999997, 659.8059999999998, 659.8614999999996, 659.9404999999997, 659.9822499999999, 659.99975, 660.021, 660.0195, 660.0197499999999, 659.9432499999999, 659.8577499999998, 659.8477499999999, 659.8352499999997, 659.8382499999998, 659.7767499999998, 659.7869999999997, 659.8482499999998, 659.9117499999998, 659.9709999999998, 660.0709999999998, 660.1484999999997, 660.1737499999998, 660.1497499999998, 660.1104999999998, 660.1679999999998, 660.2119999999999, 660.3944999999997, 660.5167499999999, 660.6217499999998, 660.7372499999997, 660.9152499999997, 661.0437499999997, 661.1069999999996, 661.2402499999998, 661.3852499999998, 661.5802499999998, 661.7862499999997, 661.9452499999996, 662.1204999999998, 662.2829999999999, 662.3679999999999, 662.4309999999996, 662.5014999999996, 662.6457499999997, 662.7082499999997, 662.7737499999997, 662.8584999999998, 662.9742499999998, 663.1372499999997, 663.3667499999996, 663.6784999999998, 663.9917499999997, 664.3177499999997, 664.5869999999996, 664.8169999999997, 665.0289999999997, 665.2647499999996, 665.5712499999997, 665.8447499999997, 666.0747499999998, 666.2587499999997, 666.3704999999995, 666.4149999999995, 666.3852499999995, 666.3494999999996, 666.1902499999995, 666.0084999999995, 665.8304999999995, 665.5684999999996, 665.3409999999997, 665.1167499999996, 664.8912499999997, 664.6709999999996, 664.4312499999997, 664.1804999999997, 663.9704999999998, 663.8959999999996, 663.8077499999996, 663.6474999999998, 663.4979999999997, 663.3384999999996, 663.1934999999996, 663.0322499999997, 662.9722499999998, 662.7522499999998, 662.5014999999999, 662.2639999999998, 662.0324999999997, 662.0169999999997, 662.1414999999998, 662.3092499999998, 662.4454999999996, 662.6079999999996, 662.7034999999996, 662.8352499999995, 662.9152499999996, 663.0039999999997, 663.1844999999997, 663.3954999999996, 663.6879999999996, 664.0437499999996, 664.3582499999995, 664.7269999999995, 665.0929999999996, 665.4909999999996, 665.9537499999996, 666.3414999999997, 666.6854999999996, 667.0104999999996, 667.3374999999997, 667.7677499999998, 668.2982499999997, 668.8529999999996, 669.3149999999996, 669.7857499999996, 670.1287499999995, 670.3952499999995, 670.6732499999995, 671.0267499999998, 671.4432499999998, 671.80225, 672.0759999999999, 672.3882499999999, 672.6572499999997, 672.9132499999998, 673.1027499999998, 673.2492499999998, 673.3739999999999, 673.7514999999999, 674.3217499999998, 674.8792499999998, 675.3934999999999, 675.9142499999999, 676.7342499999999, 677.5292499999999, 678.30725, 679.0985, 679.9585000000001, 680.7985000000001, 681.7097499999999, 682.574, 683.5337499999998, 684.5102499999998, 685.4674999999999, 686.5075, 687.55925, 688.65375, 689.60675, 690.5935000000001, 691.6335, 692.8085000000001, 694.00825, 695.1362500000001, 696.3977500000001, 697.566, 698.696, 699.953, 701.2927500000001, 702.5390000000001, 703.67175, 704.8137499999998, 705.99525, 707.2440000000001, 708.2395, 709.3030000000002, 710.2377500000002, 711.1977500000003, 712.1942500000001, 713.3165000000002, 714.3755000000003, 715.3922500000003, 716.2920000000004, 717.0825000000004, 717.8075000000005, 718.6457500000006, 719.5680000000004, 720.5520000000004, 721.6170000000004, 722.6810000000004, 723.8515000000003, 724.9927500000003, 726.0227500000002, 727.0057500000001, 728.0640000000001, 728.9902500000001, 729.9452500000001, 730.8997499999999, 731.7199999999998, 732.4869999999999, 733.227, 734.0249999999999, 734.7197499999999, 735.3647499999997, 736.0092499999998, 736.7067499999998, 737.4067499999999, 738.1902499999998, 738.9877499999998, 739.73025, 740.46575, 741.2165, 742.02025, 742.8515000000001, 743.6690000000001, 744.503, 745.3430000000002, 746.2497500000002, 747.2517500000001, 748.2615000000002, 749.3192500000001, 750.3475000000002, 751.3364999999999, 752.344, 753.3740000000001, 754.4615000000002, 755.5170000000003, 756.5332500000003, 757.5440000000001, 758.52975, 759.51975, 760.5002500000003, 761.4677500000001, 762.446, 763.43475, 764.3132500000002, 765.26025, 766.0600000000002, 766.9497500000001, 767.7965, 768.62875, 769.46875, 770.4790000000003, 771.5265, 772.51325, 773.5232500000001, 774.5502500000002, 775.6332500000001, 776.8487500000001, 778.0165000000002, 779.1710000000004, 780.2752500000004, 781.4502500000003, 782.6022500000004, 783.7410000000003, 784.9107500000005, 786.1687500000004, 787.4105000000003, 788.6772500000003, 789.8800000000005, 791.0482500000004, 792.2500000000005, 793.4695000000004, 794.6560000000004, 795.8960000000003, 797.1910000000004, 798.4825000000003, 799.7770000000004, 800.9932500000006, 802.2627500000003, 803.6380000000006, 805.1075000000005, 806.6270000000004, 808.1415000000004, 809.7715000000004, 811.4022500000003, 812.9802500000004, 814.5230000000001, 816.0452500000001, 817.5192500000002, 818.9717500000002, 820.3960000000001, 821.8352500000001, 823.25, 824.691, 826.1932500000001, 827.6432500000001, 828.98375, 830.305, 831.7127500000001, 833.1952500000001, 834.7000000000002, 836.1440000000001, 837.5127500000001, 838.8782500000001, 840.3162500000002, 841.7335, 843.1305000000002, 844.5885000000001, 845.8667499999999, 846.9649999999998, 848.02175, 849.2015000000001, 850.354, 851.5265, 852.6622500000002, 853.819, 855.1177500000001, 856.5047500000002, 857.92475, 859.2952499999999, 860.6572499999999, 862.03825, 863.4744999999999, 865.0927500000001, 866.7937500000003, 868.5290000000002, 870.2717500000003, 872.0467500000003, 873.7927500000004, 875.5367500000002, 877.2762500000001, 878.9277500000003, 880.4625000000003, 882.0800000000003, 883.7450000000001, 885.548, 887.3255000000001, 889.1025000000002, 890.8200000000002, 892.5545000000001, 894.3577500000001, 896.128, 897.8335000000001, 899.5697499999999, 901.23425, 902.9040000000001, 904.653, 906.5329999999999, 908.1929999999999, 909.7652499999998, 911.2152499999997, 912.6502499999998, 914.0057499999997, 915.0452499999997, 916.1897499999998, 917.4017499999999, 918.6187499999999, 919.8732499999999, 921.2177499999998, 922.5664999999998, 923.8107499999999, 924.9739999999998, 926.1052499999998, 927.2247499999997, 928.2739999999999, 929.2524999999997, 930.2989999999996, 931.4214999999997, 932.5007499999996, 933.5349999999995, 934.6079999999997, 935.6709999999998, 936.7412499999997, 937.7262499999996, 938.7437499999995, 939.7432499999996, 940.6539999999995, 941.5934999999996, 942.5597499999994, 943.4989999999993, 944.4402499999995, 945.3952499999997, 946.3572499999995, 947.3097499999994, 948.2034999999995, 949.1112499999996, 949.8762499999996, 950.6972499999996, 951.4219999999993, 952.0559999999995, 952.6642499999996, 953.4289999999995, 954.1527499999995, 954.9454999999995, 955.8124999999994, 956.6427499999995, 957.4379999999994, 958.3029999999994, 959.2089999999994, 960.1082499999992, 961.0449999999994, 961.9649999999995, 962.8999999999994, 963.8019999999996, 964.8029999999994, 965.8119999999997, 966.8824999999997, 968.0234999999998, 969.1114999999996, 970.0814999999998, 971.0729999999998, 972.0729999999998, 973.0952499999999, 974.1109999999999, 975.1634999999999, 976.1774999999999, 977.0735, 977.9697499999999, 978.8344999999999, 979.7289999999999, 980.6719999999998, 981.6029999999998, 982.6234999999999, 983.687, 984.7460000000001, 985.8727500000001, 986.9825, 987.9857500000002, 989.02075, 990.1107499999999, 991.1714999999999, 992.21325, 993.28875, 994.4212499999999, 995.5087499999998, 996.6032499999998, 997.75325, 998.9724999999999, 1000.2024999999998, 1001.4047499999998, 1002.6747499999998, 1003.9909999999999, 1005.2967499999999, 1006.6502499999999, 1007.9074999999998, 1009.0959999999999, 1010.28425, 1011.4077500000001, 1012.6215000000001, 1013.8759999999999, 1015.1109999999999, 1016.25125, 1017.4129999999999, 1018.5329999999999, 1019.5917499999999, 1020.7284999999999, 1021.7754999999999, 1022.7572499999999, 1023.7227499999999, 1024.6654999999998, 1025.58975, 1026.5715, 1027.5795, 1028.5475, 1029.4827500000001, 1030.3335, 1031.10175, 1031.72375, 1032.3522500000001, 1032.9555000000003, 1033.5412500000002, 1034.1555, 1034.7200000000003, 1035.1615000000002, 1035.5612500000002, 1035.96125, 1036.3027500000003, 1036.712, 1037.0870000000002, 1037.4620000000002, 1037.75275, 1038.0532500000002, 1038.3957500000001, 1038.6645000000003, 1038.9927500000003, 1039.5547500000002, 1040.1095, 1040.6882500000002, 1041.2335000000003, 1041.7785000000006, 1042.4035000000003, 1043.0980000000004, 1043.7842500000004, 1044.4877500000005, 1045.2902500000005, 1046.1197500000003, 1046.9490000000003, 1047.7200000000003, 1048.4500000000003, 1049.0970000000004, 1049.6380000000004, 1050.2465000000002, 1050.9642500000002, 1051.6917500000002, 1052.4042500000003, 1053.13225, 1053.8802500000002, 1054.6022500000001, 1055.3205000000003, 1056.1077500000004, 1056.9710000000002, 1057.6987500000002, 1058.3587500000003, 1058.9662500000004, 1059.5665000000001, 1060.1837500000001, 1060.6077500000001, 1060.9782500000001, 1061.2265000000002, 1061.4165000000003, 1061.55175, 1061.66425, 1061.74925, 1061.6795000000002, 1061.54275, 1061.3944999999999, 1061.323, 1061.2355, 1061.192, 1061.1230000000003, 1061.07, 1061.08025, 1061.246, 1061.3980000000001, 1061.479, 1061.4375000000002, 1061.383, 1061.2675000000002, 1061.13775, 1061.0292500000003, 1060.8827500000002, 1060.7742500000002, 1060.7315000000003, 1060.7242500000002, 1060.8642500000003, 1060.9965000000002, 1061.0120000000002, 1060.8995000000002, 1060.8292500000002, 1060.6647500000001, 1060.61425, 1060.6045000000001, 1060.7030000000002, 1060.8180000000002, 1060.9497500000002, 1061.0497500000001, 1061.13425, 1061.1885000000002, 1061.1535000000001, 1061.1070000000002, 1061.1145000000001, 1061.1370000000002, 1061.1657500000001, 1061.21925, 1061.3355000000001, 1061.425, 1061.41775, 1061.7582499999999, 1061.74025, 1061.77725, 1061.81975, 1061.851, 1061.7905, 1061.8002500000002, 1061.9037500000004, 1061.9865000000004, 1062.0757500000002, 1062.2110000000002, 1062.4050000000002, 1062.6230000000003, 1062.67575, 1062.7055, 1062.6755, 1062.5452500000001, 1062.4292500000001, 1062.29175, 1062.21625, 1062.125, 1062.0685, 1062.111, 1062.1885, 1062.064, 1061.8865, 1061.7915, 1061.7375000000002, 1061.6970000000001, 1061.76375, 1061.80375, 1061.83825, 1061.8242500000001, 1061.82375, 1061.8075, 1061.8065, 1061.8452499999999, 1061.81225, 1061.765, 1061.69, 1061.57, 1061.6052499999998, 1061.80325, 1061.9792499999999, 1062.15175, 1062.388, 1062.7074999999998, 1063.0069999999998, 1063.2962499999999, 1063.6059999999998, 1063.9217499999995, 1064.2042499999995, 1064.4604999999997, 1064.6582499999997, 1064.8539999999996, 1064.9244999999996, 1065.0432499999997, 1065.2142499999998, 1065.3599999999997, 1065.5309999999997, 1065.7264999999998, 1065.8664999999996, 1066.0564999999997, 1066.3429999999996, 1066.6457499999997, 1066.9007499999998, 1067.0932499999997, 1067.3652499999998, 1067.6532499999998, 1067.8519999999999, 1067.9837499999996, 1068.1989999999998, 1068.42925, 1068.5592499999998, 1068.7105, 1068.8555, 1069.0449999999996, 1069.3059999999998, 1069.4775, 1069.616, 1069.8359999999998, 1070.0162499999997, 1070.1449999999998, 1070.4397499999998, 1070.7792499999996, 1071.1417499999998, 1071.6067499999997, 1072.0477499999997, 1072.4557499999999, 1072.87125, 1073.2665, 1073.6842499999998, 1074.1097499999998, 1074.5862499999998, 1074.889, 1075.2434999999998, 1075.58775, 1075.93775, 1076.3684999999998, 1076.848, 1077.5145, 1078.24925, 1078.9815, 1079.68425, 1080.4297500000002, 1081.12475, 1081.8632499999999, 1082.659, 1083.4315000000001, 1084.3015, 1085.1775, 1086.025, 1086.7715, 1087.6305, 1088.4585, 1089.3564999999999, 1090.30775, 1091.177, 1091.8777499999999, 1092.73275, 1093.62525, 1094.5117500000001, 1095.43425, 1096.33375, 1097.1375, 1098.0197500000002, 1098.8635000000002, 1099.57725, 1100.2939999999999, 1101.05225, 1101.8935000000001, 1102.7007500000002, 1103.4730000000002, 1104.2957500000002, 1105.1415000000002, 1105.9340000000002, 1106.6910000000003, 1107.4352500000002, 1108.0957500000002, 1108.7507500000002, 1109.3745000000004, 1109.9910000000004, 1110.6955000000003, 1111.3255000000004, 1112.0252500000004, 1112.7352500000004, 1113.5767500000004, 1114.4507500000004, 1115.2697500000004, 1116.1322500000003, 1117.0397500000004, 1118.1665000000003, 1119.2915000000003, 1120.4365000000005, 1121.6810000000003, 1122.8810000000003, 1124.0382500000005, 1125.1815000000004, 1126.2487500000002, 1127.2325000000003, 1128.2745000000002, 1129.4295000000002, 1130.6070000000002, 1131.671, 1132.7560000000003, 1133.9162500000002, 1135.045, 1136.1845, 1137.34725, 1138.4917500000001, 1139.7122500000003, 1140.8322500000002, 1141.96575, 1143.13775, 1144.33875, 1145.5045, 1146.5765000000001, 1147.596, 1148.5659999999998, 1149.5065, 1150.456, 1151.3662499999998, 1152.2992499999998, 1153.2369999999999, 1154.2025, 1155.177, 1156.0925, 1156.9662500000002, 1157.8312500000002, 1158.76675, 1159.6994999999997, 1160.6942499999998, 1161.65025, 1162.64525, 1163.5897499999999, 1164.55025, 1165.55325, 1166.5629999999999, 1167.77075, 1168.993, 1169.898, 1171.0717499999998, 1172.0949999999998, 1173.0415, 1173.8954999999999, 1174.695, 1175.4352499999998, 1176.0317499999996, 1176.6714999999997, 1177.4089999999999, 1178.09925, 1178.7902499999998, 1179.5397499999997, 1180.3917499999998, 1181.2357499999998, 1182.1849999999997, 1183.2822499999995, 1184.3687499999996, 1185.4702499999994, 1186.5314999999996, 1187.5269999999996, 1188.5039999999995, 1189.4964999999995, 1190.4939999999995, 1191.5769999999995, 1192.7157499999996, 1193.7857499999993, 1194.7702499999996, 1195.7827499999994, 1196.6587499999996, 1197.4932499999993, 1198.3434999999995, 1199.2632499999995, 1200.1737499999995, 1201.0954999999994, 1201.9512499999996, 1202.7214999999997, 1203.5269999999996, 1204.3477499999995, 1205.1734999999994, 1206.0974999999996, 1207.0512499999995, 1207.9867499999996, 1208.9199999999996, 1209.9022499999999, 1210.8667499999997, 1211.7972499999996, 1212.6272499999995, 1213.4702499999999, 1214.3562499999996, 1215.3292499999998, 1216.4724999999996, 1217.6487499999996, 1218.7967499999997, 1219.8897499999998, 1221.08475, 1222.1885, 1223.3084999999999, 1224.4084999999998, 1225.47275, 1226.562, 1227.6615, 1228.63025, 1229.58025, 1230.4667499999998, 1231.4067499999999, 1232.42175, 1234.0167499999998, 1235.4215000000002, 1236.85675, 1238.2894999999999, 1239.6715, 1240.9257499999999, 1242.182, 1243.4045, 1244.6445, 1245.7375, 1246.84075, 1248.0232499999997, 1249.30575, 1250.55675, 1251.8470000000002, 1253.2495, 1254.46975, 1255.6395000000002, 1256.8270000000002, 1258.0512500000002, 1259.34675, 1260.6170000000002, 1261.8890000000001, 1263.1362500000002, 1264.3442500000003, 1265.5677500000004, 1266.8517500000003, 1268.4305000000004, 1269.8370000000004, 1271.2627500000003, 1272.7102500000003, 1274.0707500000003, 1275.4515000000004, 1276.7765000000004, 1278.0862500000005, 1279.4587500000007, 1280.8282500000007, 1282.0880000000006, 1283.5035000000005, 1284.9422500000005, 1286.4070000000006, 1288.0545000000006, 1289.8495000000005, 1291.6520000000005, 1293.5195000000003, 1295.5177500000004, 1297.3735000000006, 1299.2000000000005, 1300.9617500000004, 1302.6267500000006, 1304.3315000000005, 1306.0207500000006, 1307.6187500000005, 1309.2012500000008, 1310.8475000000005, 1312.4395000000006, 1314.0260000000007, 1315.6627500000004, 1317.2425000000005, 1318.8217500000007, 1320.4335000000005, 1322.0772500000007, 1323.7450000000003, 1325.3275000000006, 1327.1922500000007, 1329.1025000000002, 1331.1090000000006, 1332.99825, 1334.9382500000004, 1336.8730000000003, 1338.84875, 1340.8685, 1342.9125, 1344.94475, 1347.0542500000004, 1349.1297500000003, 1351.2597500000006, 1353.4470000000008, 1355.5767500000004, 1357.6337500000002, 1359.67325, 1361.8437500000002, 1364.03625, 1366.19, 1368.295, 1370.35875, 1372.38875, 1374.2442500000002, 1376.12875, 1377.9525, 1379.8175, 1381.7290000000003, 1383.6415000000006, 1385.5370000000005, 1387.3625000000002, 1389.5900000000004, 1391.5690000000002, 1393.504, 1395.3857500000001, 1397.22375, 1399.1175, 1401.0259999999998, 1403.007, 1405.0520000000001, 1407.22325, 1409.47375, 1411.79375, 1414.0685, 1416.5845000000002, 1419.07825, 1421.59375, 1424.2445, 1426.9395000000002, 1429.5675, 1432.25125, 1434.9185, 1437.5675, 1440.0880000000002, 1442.53375, 1444.9837500000003, 1447.5335, 1450.1975, 1452.7927499999998, 1455.28125, 1457.757, 1460.2485000000001, 1462.83825, 1465.4489999999998, 1468.0305, 1470.5355000000002, 1473.0985, 1475.58275, 1478.08, 1480.46, 1482.9444999999998, 1485.514, 1488.21775, 1491.07025, 1494.18125, 1497.3657500000002, 1500.6792500000001, 1503.97575, 1507.2402500000003, 1510.5977500000001, 1513.9277500000003, 1517.1955000000003, 1520.4282500000004, 1523.6282500000002, 1526.7262500000004, 1529.6797500000002, 1532.68, 1535.6635, 1538.81275, 1541.9660000000001, 1545.0855000000001, 1548.1380000000001, 1551.2352500000002, 1554.3527500000002, 1557.5025000000003, 1560.6537500000004, 1563.8635000000004, 1567.2000000000003, 1570.6357500000004, 1573.9697500000004, 1577.3700000000003, 1580.6552500000003, 1583.9437500000004, 1587.2912500000002, 1590.5965000000003, 1593.6865000000003, 1596.7515000000003, 1599.8394999999998, 1602.87625, 1605.91725, 1608.8757500000002, 1611.8572499999998, 1614.8587499999996, 1617.83625, 1620.7422499999998, 1623.6372499999998, 1626.5867499999995, 1629.4774999999997, 1632.3224999999998, 1634.9832499999998, 1637.5852499999999, 1640.27675, 1643.0105, 1645.7970000000005, 1648.5470000000005, 1651.3185000000003, 1654.0275, 1656.7375, 1659.5025, 1662.2865, 1665.05675, 1667.8129999999999, 1670.5125, 1673.0852499999999, 1675.5720000000001, 1677.99, 1679.985, 1682.1665, 1684.307, 1686.4379999999999, 1688.53125, 1690.9795000000001, 1693.4932500000002, 1695.979, 1698.5145000000002, 1701.017, 1703.4675, 1705.9440000000002, 1708.2995, 1710.7105000000004, 1713.0665000000006, 1715.3495000000005, 1717.6245000000008, 1719.9015000000006, 1722.0915000000005, 1724.2325000000005, 1726.3610000000003, 1728.5252500000001, 1730.6897500000005, 1732.8975000000005, 1735.168250000001, 1737.566750000001, 1739.942750000001, 1742.055750000001, 1744.555750000001, 1747.1047500000009, 1749.8122500000006, 1752.4307500000007, 1755.050750000001, 1757.7357500000007, 1760.564500000001, 1763.324250000001, 1766.1472500000011, 1769.003250000001, 1771.6777500000014, 1774.0702500000011, 1776.300000000001, 1778.340000000001, 1780.138000000001, 1781.734000000001, 1783.3990000000008, 1785.0187500000009, 1786.6930000000011, 1788.4127500000009, 1790.0795000000007, 1791.7942500000008, 1793.4225000000006, 1795.0225000000005, 1796.7187500000007, 1798.5177500000004, 1800.3265000000006, 1802.0192500000005, 1803.69975, 1805.2797500000004, 1806.8522500000004, 1808.3117500000005, 1809.7547500000007, 1811.1810000000007, 1812.6105000000007, 1814.1570000000006, 1815.349500000001, 1816.627000000001, 1817.7925000000005, 1818.9250000000006, 1819.9895000000006, 1821.1062500000005, 1822.2757500000007, 1823.3465000000006, 1824.6275000000005, 1825.8980000000004, 1827.0995000000005, 1828.4282500000006, 1829.6767500000005, 1830.8420000000008, 1832.0122500000007, 1833.2665000000006, 1834.6030000000005, 1835.8380000000004, 1836.9680000000005, 1838.1262500000003, 1839.2462500000004, 1840.4825000000003, 1841.7625, 1843.155, 1844.4695000000002, 1845.9745, 1847.5320000000002, 1848.93875, 1850.3312499999997, 1851.7122499999998, 1853.0417499999999, 1854.0757499999997, 1855.5117499999997, 1856.9612499999996, 1858.4447499999997, 1859.9509999999998, 1861.41225, 1862.8755, 1864.3895000000002, 1865.8994999999998, 1867.4602499999999, 1869.0852499999999, 1870.5352500000001, 1871.9825000000005, 1873.1120000000008, 1874.2845000000007, 1875.3992500000008, 1876.3235000000009, 1877.2397500000009, 1878.3597500000005, 1879.6360000000009, 1880.9172500000009, 1882.1960000000008, 1884.1107500000007, 1885.9707500000006, 1887.9657500000008, 1889.4257500000008, 1890.8007500000008, 1892.2950000000005, 1893.7962500000006, 1895.3160000000003, 1896.8095000000008, 1898.1937500000006, 1899.5440000000006, 1900.8827500000004, 1902.2817500000006, 1903.6352500000007, 1905.0260000000007, 1906.4727500000008, 1908.0917500000005, 1909.7562500000006, 1911.4572500000006, 1913.1710000000003, 1914.9210000000007, 1916.4760000000006, 1917.818500000001, 1918.9985000000008, 1920.2762500000008, 1921.6622500000005, 1923.0177500000004, 1924.3277500000006, 1925.7685000000004, 1927.3045000000004, 1929.0090000000005, 1930.8507500000005, 1932.8180000000004, 1934.6950000000004, 1936.8000000000002, 1938.6575000000003, 1940.5667500000002, 1942.3972500000004, 1944.2172500000001, 1946.0790000000002, 1948.0812500000002, 1950.0662500000003, 1951.9850000000004, 1953.8072500000003, 1955.3995000000002, 1956.80175, 1958.2685000000001, 1959.5805000000003, 1960.9279999999999, 1962.3384999999998, 1963.6505, 1964.9544999999998, 1966.4242499999998, 1967.91175, 1969.26525, 1970.6729999999998, 1972.0859999999998, 1973.4969999999998, 1974.8319999999999, 1976.0999999999997, 1977.3177499999993, 1978.6409999999998, 1979.9362499999997, 1981.2017499999995, 1982.4797499999997, 1983.7794999999996, 1985.1509999999998, 1986.372, 1987.4754999999998, 1988.5769999999998, 1989.6019999999999, 1990.5420000000001, 1991.34875, 1992.2467500000002, 1993.0515, 1993.7457499999998, 1994.3582499999998, 1994.9877499999996, 1995.5487499999997, 1996.0842499999999, 1996.8315, 1997.6547499999997, 1998.649, 1999.5939999999996, 2000.5962499999996, 2001.4357499999996, 2002.1607499999998, 2002.8057499999995, 2003.1907499999995, 2003.6069999999995, 2003.8802499999997, 2004.350249999999, 2004.9792499999994, 2005.6702499999994, 2006.321249999999, 2006.8739999999991, 2007.5694999999992, 2008.1679999999992, 2008.8082499999996, 2009.4512499999994, 2009.9459999999992, 2010.4432499999994, 2010.7629999999992, 2010.9989999999996, 2011.2997499999994, 2011.7602499999996, 2012.1784999999998, 2012.6677499999998, 2012.9705, 2013.22, 2013.51725, 2013.43575, 2013.43625, 2013.38275, 2013.6142499999999, 2013.87425, 2014.0722499999997, 2014.1572499999997, 2014.32275, 2014.51525, 2014.7797500000001, 2015.3232499999995, 2016.3339999999998, 2017.4617499999995, 2018.6367499999997, 2019.6987499999998, 2020.9017499999995, 2021.9799999999998, 2023.0804999999998, 2024.1307499999998, 2025.013, 2026.0239999999997, 2027.2197499999997, 2028.4669999999996, 2029.8299999999995, 2031.1007499999992, 2032.3237499999993, 2033.4172499999995, 2034.6854999999996, 2035.7389999999996, 2036.9839999999997, 2038.2754999999995, 2039.6972499999997, 2041.0897499999999, 2042.5184999999997, 2043.9087499999996, 2045.1262499999998, 2046.42925, 2047.6684999999998, 2048.8804999999998, 2050.18725, 2051.52675, 2052.8307499999996, 2053.98025, 2055.3472500000003, 2056.4722500000003, 2057.65675, 2058.85325, 2060.007, 2061.1125, 2062.167, 2063.2052500000004, 2064.1230000000005, 2064.9232500000003, 2065.6232500000006, 2066.3095000000003, 2067.0937500000005, 2067.97875, 2068.7937500000007, 2069.6337500000004, 2070.5012500000007, 2071.4272500000006, 2072.347, 2073.1665000000007, 2074.1662500000007, 2075.2512500000007, 2076.2552500000006, 2077.1182500000004, 2077.9342500000002, 2078.5850000000005, 2079.2655000000004, 2079.9152500000005, 2080.61925, 2081.3695000000002, 2082.092, 2082.7192500000006, 2083.1635000000006, 2083.5310000000004, 2083.7615000000005, 2084.0680000000007, 2084.4957500000005, 2085.0222500000004, 2085.6357500000004, 2086.4410000000003, 2087.6410000000005, 2088.92725, 2090.1467500000003, 2091.3450000000007, 2092.4610000000007, 2093.696000000001, 2094.4310000000005, 2095.1802500000003, 2095.9702500000003, 2097.2757500000002, 2098.57675, 2099.8027500000003, 2101.1565, 2102.44175, 2103.7582500000003, 2105.04925, 2106.393, 2107.81325, 2109.13425, 2110.35075, 2111.37575, 2112.38275, 2113.4032500000003, 2114.463750000001, 2115.5240000000003, 2116.5515000000005, 2117.3015000000005, 2118.021, 2118.9730000000004, 2119.9730000000004, 2121.0327500000008, 2122.1860000000006, 2123.3982500000006, 2124.5077500000007, 2125.5497500000006, 2126.390250000001, 2126.9910000000004, 2127.6615000000006, 2128.2780000000007, 2128.928000000001, 2129.364000000001, 2129.991500000001, 2130.8237500000005, 2132.1272500000005, 2133.529250000001, 2134.7752500000006, 2135.957500000001, 2136.828500000001, 2137.943000000001, 2139.1135000000013, 2140.392500000001, 2141.863500000001, 2143.453250000001, 2145.065250000001, 2146.721500000001, 2148.3125000000005, 2149.8737500000007, 2151.604500000001, 2153.384250000001, 2155.101250000001, 2156.927750000001, 2158.757250000001, 2160.4187500000016, 2162.018750000001, 2163.7082500000015, 2165.4252500000016, 2167.1312500000017, 2168.7930000000015, 2170.5302500000016, 2172.4407500000016, 2174.5195000000017, 2176.4997500000018, 2178.5550000000017, 2180.741500000002, 2182.963000000002, 2185.152500000002, 2187.3522500000017, 2189.4852500000015, 2191.4325000000013, 2193.235500000001, 2195.1907500000016, 2197.2315000000012, 2199.256500000002, 2201.3472500000016, 2203.5442500000017, 2205.8792500000013, 2208.0927500000016, 2209.912000000001, 2211.307250000001, 2212.5622500000013, 2213.878500000001, 2215.2577500000016, 2216.675500000001, 2218.1865000000016, 2219.696500000002, 2220.9852500000015, 2222.3637500000013, 2223.3782500000016, 2224.3755000000015, 2225.294500000002, 2226.4445000000014, 2227.9852500000015, 2229.2517500000013, 2230.4342500000016, 2231.5552500000013, 2232.7472500000017, 2234.0002500000014, 2235.3815000000013, 2236.8257500000013, 2238.121250000001, 2239.8020000000015, 2241.3665000000015, 2242.8550000000014, 2244.2435000000014, 2245.7187500000014, 2247.024250000001, 2248.5842500000012, 2250.257750000001, 2251.740750000001, 2253.158750000001, 2254.4637500000013, 2255.802750000001, 2257.0420000000013, 2258.235500000001, 2259.3030000000012, 2260.163750000001, 2255.3595000000005, 2250.916000000001, 2246.642500000001, 2242.2645000000007, 2237.804000000001, 2233.6240000000007, 2229.3650000000007, 2225.0567500000006, 2220.7417500000006, 2216.4367500000008, 2212.2782500000008, 2207.9285000000004, 2203.4530000000004, 2198.9927500000003, 2194.4497500000007, 2189.8542500000003, 2185.1822500000003, 2180.6550000000007, 2176.05875, 2171.708, 2167.358, 2162.91575, 2158.49775, 2154.047, 2149.5015000000003, 2145.0507500000003, 2140.723, 2136.4, 2131.9420000000005, 2127.5745000000006, 2123.19175, 2118.8677500000003, 2114.5962500000005, 2110.38175, 2106.09175, 2101.81675, 2097.52225, 2093.25225, 2088.817, 2084.458, 2080.1935000000003, 2076.02025, 2071.8885000000005, 2067.7757500000002, 2063.7595000000006, 2059.9020000000005, 2055.8685000000005, 2051.683000000001, 2047.4877500000011, 2043.2377500000011, 2038.8872500000011, 2034.5310000000013, 2030.1062500000012, 2025.641000000001, 2021.1692500000008, 2016.664250000001, 2012.3115000000012, 2008.1327500000011, 2003.8927500000011, 1999.726000000001, 1995.6660000000008, 1991.593750000001, 1987.4512500000005, 1983.321500000001, 1979.2020000000007, 1975.0390000000004, 1970.9047500000004, 1966.8440000000005, 1962.6982500000006, 1958.5467500000004, 1954.3367500000008, 1950.1117500000007, 1945.7022500000007, 1941.1845000000003, 1936.3252500000006, 1931.4667500000007, 1926.6017500000007, 1921.6260000000009, 1916.7092500000008, 1911.6490000000008, 1906.5690000000009, 1901.5542500000008, 1896.5035000000007, 1891.1132500000008, 1885.7632500000004, 1880.3725000000004, 1874.9825000000003, 1869.5575000000003, 1864.1164999999999, 1858.7614999999998, 1853.3874999999998, 1847.96175, 1842.5852499999999, 1837.155, 1832.0100000000002, 1826.8890000000001, 1821.6680000000001, 1816.3535000000002, 1810.9930000000004, 1805.6430000000005, 1800.4575000000007, 1795.3375000000005, 1790.0855000000008, 1784.8255000000008, 1779.3180000000004, 1773.6697500000007, 1767.9297500000007, 1762.2440000000008, 1756.4990000000007, 1750.9035000000006, 1745.4160000000006, 1739.716500000001, 1734.1555000000008, 1728.5272500000005, 1722.8912500000006, 1717.1212500000004, 1710.9792500000005, 1704.3777500000006, 1697.7307500000004, 1691.0007500000004, 1684.2085000000006, 1677.4627500000008, 1670.403250000001, 1663.2682500000012, 1655.714000000001, 1648.0475000000013, 1639.9162500000011, 1631.6672500000013, 1623.6757500000012, 1616.014250000001, 1608.6862500000009, 1600.7715000000007, 1592.8400000000008, 1584.9172500000009, 1576.877250000001, 1569.1190000000008, 1561.644500000001, 1554.1390000000008, 1546.648000000001, 1539.115500000001, 1531.420500000001, 1523.867500000001, 1516.4647500000005, 1508.7847500000007, 1500.9772500000006, 1493.3947500000006, 1485.7417500000008, 1478.041250000001, 1470.2437500000008, 1462.7177500000007, 1455.3380000000004, 1447.7650000000006, 1440.4310000000007, 1433.191000000001, 1425.8375000000005, 1418.4672500000006, 1411.222250000001, 1403.6792500000008, 1396.4212500000008, 1388.8312500000009, 1381.189750000001, 1373.8805000000007, 1366.7445000000005, 1359.5995000000005, 1352.4422500000003, 1345.3255000000001, 1338.3165000000001, 1331.5095000000001, 1324.9245, 1318.4995000000001, 1312.3545000000001, 1306.3795, 1300.5595, 1294.7442500000002, 1288.74125, 1282.6295, 1276.39675, 1270.219, 1263.996, 1257.71925, 1251.4502499999999, 1245.2140000000002, 1239.10425, 1233.34375, 1227.228, 1221.0932500000001, 1215.0315000000003, 1209.0505000000003, 1202.9955000000002, 1197.2055000000003, 1191.2485000000001, 1185.2792500000003, 1179.4762500000002, 1173.728, 1167.8370000000002, 1161.9925, 1156.21375, 1150.525, 1144.931, 1139.4102500000001, 1139.44, 1138.735, 1137.7165, 1136.73425, 1136.0047499999998, 1135.3942499999998, 1134.9165, 1134.4389999999999, 1133.8835, 1133.2789999999998, 1132.596, 1131.9687499999998, 1131.26175, 1130.5502499999998, 1129.7187499999998, 1128.754, 1127.9342499999998, 1127.0382499999996, 1126.1639999999998, 1125.2307499999995, 1124.2657499999996, 1123.3719999999996, 1122.4312499999996, 1121.5537499999996, 1120.6737499999995, 1119.6219999999996, 1118.6167499999997, 1117.6462499999996, 1116.7722499999995, 1115.9662499999995, 1115.3569999999993, 1114.6969999999994, 1114.0072499999994, 1113.3217499999994, 1112.6042499999994, 1111.9982499999992, 1111.3312499999993, 1110.6012499999993, 1109.9337499999992, 1109.1857499999992, 1108.3684999999994, 1107.5274999999992, 1106.6592499999992, 1105.7859999999991, 1104.9114999999993, 1103.9527499999995, 1102.9182499999995, 1101.9987499999995, 1101.0989999999993, 1100.2149999999995, 1099.2872499999999, 1098.2842499999997, 1097.2592499999998, 1096.2449999999997, 1095.2364999999998, 1094.2614999999998, 1093.2637499999996, 1092.3364999999997, 1091.5364999999997, 1090.8224999999998, 1090.0674999999997, 1089.3642499999996, 1088.8812499999995, 1088.5462499999996, 1088.2544999999996, 1087.9074999999996, 1087.5839999999996, 1087.2252499999995, 1086.8329999999996, 1086.6079999999995, 1086.3049999999996, 1086.1349999999998, 1086.0759999999998, 1085.9609999999998, 1085.8602499999997, 1085.6612499999997, 1085.3867499999997, 1084.9264999999996, 1084.4602499999996, 1084.1454999999996, 1083.9442499999996, 1083.8437499999995, 1083.6994999999995, 1083.9994999999994, 1084.4542499999995, 1085.1949999999995, 1085.9989999999996, 1086.7667499999995, 1087.4717499999992, 1088.1364999999994, 1089.0047499999994, 1089.9107499999993, 1090.7694999999994, 1091.8217499999994, 1092.7699999999995, 1093.7549999999994, 1094.8334999999995, 1095.7584999999995, 1096.7737499999996, 1097.7437499999996, 1098.6382499999995, 1099.4987499999995, 1100.2639999999997, 1100.9987499999997, 1101.8502499999997, 1102.7504999999994, 1103.6104999999995, 1104.5117499999997, 1105.4067499999996, 1106.3579999999995, 1107.4294999999997, 1108.7294999999997, 1109.9222499999998, 1111.1147499999997, 1112.1387499999996, 1113.2185, 1114.5339999999999, 1116.047, 1117.62075, 1119.42025, 1121.2329999999997, 1123.2629999999997, 1125.4029999999998, 1127.5917499999996, 1130.1919999999998, 1132.7819999999997, 1135.7982499999996, 1139.0727499999996, 1142.1739999999998, 1144.9699999999998, 1147.4667499999998, 1150.3899999999996, 1153.5362499999997, 1156.7752499999997, 1160.0602499999995, 1162.9954999999995, 1165.6099999999997, 1168.3604999999998, 1170.9864999999998, 1173.3404999999996, 1175.9307499999998, 1178.7432499999998, 1181.8309999999997, 1185.0694999999996, 1188.3445, 1191.6432499999999, 1195.0095, 1198.3624999999997, 1201.7177499999998, 1204.7432499999998, 1207.6107499999998, 1210.9357499999996, 1214.4207499999998, 1217.7797499999997, 1221.0929999999998, 1224.1942499999998, 1227.2937499999998, 1230.53525, 1233.8049999999998, 1237.4312499999999, 1240.91375, 1244.3365, 1247.9374999999998, 1251.5974999999999, 1255.0324999999998, 1258.4089999999999, 1261.8252499999999, 1265.1047499999997, 1268.22975, 1271.45475, 1274.22175, 1276.89875, 1279.3625, 1281.7779999999998, 1284.122, 1286.26325, 1288.66675, 1291.19975, 1293.7355, 1296.29725, 1299.24, 1302.01025, 1304.5127499999999, 1306.81325, 1308.9114999999997, 1310.9652499999997, 1313.0447499999998, 1314.92125, 1316.67125, 1318.3885, 1320.1589999999999, 1321.9912499999998, 1323.59975, 1325.1755000000003, 1326.8304999999998, 1328.404, 1329.9904999999999, 1331.576, 1333.3225, 1335.2407500000002, 1336.94475]\n"
          ]
        }
      ]
    },
    {
      "cell_type": "code",
      "source": [
        "len(series)"
      ],
      "metadata": {
        "id": "YJej0TKS8c2B",
        "outputId": "a191cf20-ecab-416a-d39b-88b915cf225e",
        "colab": {
          "base_uri": "https://localhost:8080/"
        }
      },
      "execution_count": 210,
      "outputs": [
        {
          "output_type": "execute_result",
          "data": {
            "text/plain": [
              "5107"
            ]
          },
          "metadata": {},
          "execution_count": 210
        }
      ]
    },
    {
      "cell_type": "code",
      "source": [
        "df.shape"
      ],
      "metadata": {
        "id": "aVwhU94_72k_",
        "outputId": "8e6185c0-9d9d-4e18-f25f-c63a6223a4e9",
        "colab": {
          "base_uri": "https://localhost:8080/"
        }
      },
      "execution_count": 213,
      "outputs": [
        {
          "output_type": "execute_result",
          "data": {
            "text/plain": [
              "(5306, 18)"
            ]
          },
          "metadata": {},
          "execution_count": 213
        }
      ]
    },
    {
      "cell_type": "code",
      "source": [
        "series = pd.Series(moving_averages, name=\"200_MA\")\n",
        "df = pd.concat([df, series], axis=1)"
      ],
      "metadata": {
        "id": "O-2jwWDNiPdT"
      },
      "execution_count": 212,
      "outputs": []
    },
    {
      "cell_type": "code",
      "source": [
        "df['200_MA'] = df['200_MA'].shift(200)"
      ],
      "metadata": {
        "id": "PoRl_lBfiPaJ"
      },
      "execution_count": 214,
      "outputs": []
    },
    {
      "cell_type": "code",
      "source": [
        "df.set_index(\"Date\", drop=False, inplace=True)\n",
        "df.head()"
      ],
      "metadata": {
        "colab": {
          "base_uri": "https://localhost:8080/",
          "height": 386
        },
        "id": "9yb3c6841gpk",
        "outputId": "cf3d70c7-078c-4f60-aa6f-ab8fa47b1f38"
      },
      "execution_count": 216,
      "outputs": [
        {
          "output_type": "execute_result",
          "data": {
            "text/html": [
              "\n",
              "  <div id=\"df-c32897f3-13f4-44a5-a19c-4ee1719c3a16\">\n",
              "    <div class=\"colab-df-container\">\n",
              "      <div>\n",
              "<style scoped>\n",
              "    .dataframe tbody tr th:only-of-type {\n",
              "        vertical-align: middle;\n",
              "    }\n",
              "\n",
              "    .dataframe tbody tr th {\n",
              "        vertical-align: top;\n",
              "    }\n",
              "\n",
              "    .dataframe thead th {\n",
              "        text-align: right;\n",
              "    }\n",
              "</style>\n",
              "<table border=\"1\" class=\"dataframe\">\n",
              "  <thead>\n",
              "    <tr style=\"text-align: right;\">\n",
              "      <th></th>\n",
              "      <th>Date</th>\n",
              "      <th>Symbol</th>\n",
              "      <th>Series</th>\n",
              "      <th>Prev Close</th>\n",
              "      <th>Open</th>\n",
              "      <th>High</th>\n",
              "      <th>Low</th>\n",
              "      <th>Last</th>\n",
              "      <th>Close</th>\n",
              "      <th>VWAP</th>\n",
              "      <th>Volume</th>\n",
              "      <th>Turnover</th>\n",
              "      <th>month</th>\n",
              "      <th>week</th>\n",
              "      <th>day</th>\n",
              "      <th>Year</th>\n",
              "      <th>day_of_week</th>\n",
              "      <th>200_MA</th>\n",
              "    </tr>\n",
              "    <tr>\n",
              "      <th>Date</th>\n",
              "      <th></th>\n",
              "      <th></th>\n",
              "      <th></th>\n",
              "      <th></th>\n",
              "      <th></th>\n",
              "      <th></th>\n",
              "      <th></th>\n",
              "      <th></th>\n",
              "      <th></th>\n",
              "      <th></th>\n",
              "      <th></th>\n",
              "      <th></th>\n",
              "      <th></th>\n",
              "      <th></th>\n",
              "      <th></th>\n",
              "      <th></th>\n",
              "      <th></th>\n",
              "      <th></th>\n",
              "    </tr>\n",
              "  </thead>\n",
              "  <tbody>\n",
              "    <tr>\n",
              "      <th>2000-01-03</th>\n",
              "      <td>2000-01-03</td>\n",
              "      <td>HDFCBANK</td>\n",
              "      <td>EQ</td>\n",
              "      <td>157.40</td>\n",
              "      <td>166.00</td>\n",
              "      <td>170.00</td>\n",
              "      <td>166.00</td>\n",
              "      <td>170.00</td>\n",
              "      <td>170.00</td>\n",
              "      <td>169.52</td>\n",
              "      <td>33259</td>\n",
              "      <td>5.638122e+11</td>\n",
              "      <td>1</td>\n",
              "      <td>1</td>\n",
              "      <td>3</td>\n",
              "      <td>2000</td>\n",
              "      <td>0</td>\n",
              "      <td>NaN</td>\n",
              "    </tr>\n",
              "    <tr>\n",
              "      <th>2000-01-04</th>\n",
              "      <td>2000-01-04</td>\n",
              "      <td>HDFCBANK</td>\n",
              "      <td>EQ</td>\n",
              "      <td>170.00</td>\n",
              "      <td>182.00</td>\n",
              "      <td>183.45</td>\n",
              "      <td>171.00</td>\n",
              "      <td>174.00</td>\n",
              "      <td>173.80</td>\n",
              "      <td>174.99</td>\n",
              "      <td>168710</td>\n",
              "      <td>2.952261e+12</td>\n",
              "      <td>1</td>\n",
              "      <td>1</td>\n",
              "      <td>4</td>\n",
              "      <td>2000</td>\n",
              "      <td>1</td>\n",
              "      <td>NaN</td>\n",
              "    </tr>\n",
              "    <tr>\n",
              "      <th>2000-01-05</th>\n",
              "      <td>2000-01-05</td>\n",
              "      <td>HDFCBANK</td>\n",
              "      <td>EQ</td>\n",
              "      <td>173.80</td>\n",
              "      <td>170.00</td>\n",
              "      <td>173.90</td>\n",
              "      <td>165.00</td>\n",
              "      <td>168.00</td>\n",
              "      <td>166.95</td>\n",
              "      <td>169.20</td>\n",
              "      <td>159820</td>\n",
              "      <td>2.704094e+12</td>\n",
              "      <td>1</td>\n",
              "      <td>1</td>\n",
              "      <td>5</td>\n",
              "      <td>2000</td>\n",
              "      <td>2</td>\n",
              "      <td>NaN</td>\n",
              "    </tr>\n",
              "    <tr>\n",
              "      <th>2000-01-06</th>\n",
              "      <td>2000-01-06</td>\n",
              "      <td>HDFCBANK</td>\n",
              "      <td>EQ</td>\n",
              "      <td>166.95</td>\n",
              "      <td>168.00</td>\n",
              "      <td>170.00</td>\n",
              "      <td>165.30</td>\n",
              "      <td>168.95</td>\n",
              "      <td>168.30</td>\n",
              "      <td>168.44</td>\n",
              "      <td>85026</td>\n",
              "      <td>1.432166e+12</td>\n",
              "      <td>1</td>\n",
              "      <td>1</td>\n",
              "      <td>6</td>\n",
              "      <td>2000</td>\n",
              "      <td>3</td>\n",
              "      <td>NaN</td>\n",
              "    </tr>\n",
              "    <tr>\n",
              "      <th>2000-01-07</th>\n",
              "      <td>2000-01-07</td>\n",
              "      <td>HDFCBANK</td>\n",
              "      <td>EQ</td>\n",
              "      <td>168.30</td>\n",
              "      <td>162.15</td>\n",
              "      <td>171.00</td>\n",
              "      <td>162.15</td>\n",
              "      <td>170.75</td>\n",
              "      <td>168.35</td>\n",
              "      <td>166.79</td>\n",
              "      <td>85144</td>\n",
              "      <td>1.420158e+12</td>\n",
              "      <td>1</td>\n",
              "      <td>1</td>\n",
              "      <td>7</td>\n",
              "      <td>2000</td>\n",
              "      <td>4</td>\n",
              "      <td>NaN</td>\n",
              "    </tr>\n",
              "  </tbody>\n",
              "</table>\n",
              "</div>\n",
              "      <button class=\"colab-df-convert\" onclick=\"convertToInteractive('df-c32897f3-13f4-44a5-a19c-4ee1719c3a16')\"\n",
              "              title=\"Convert this dataframe to an interactive table.\"\n",
              "              style=\"display:none;\">\n",
              "        \n",
              "  <svg xmlns=\"http://www.w3.org/2000/svg\" height=\"24px\"viewBox=\"0 0 24 24\"\n",
              "       width=\"24px\">\n",
              "    <path d=\"M0 0h24v24H0V0z\" fill=\"none\"/>\n",
              "    <path d=\"M18.56 5.44l.94 2.06.94-2.06 2.06-.94-2.06-.94-.94-2.06-.94 2.06-2.06.94zm-11 1L8.5 8.5l.94-2.06 2.06-.94-2.06-.94L8.5 2.5l-.94 2.06-2.06.94zm10 10l.94 2.06.94-2.06 2.06-.94-2.06-.94-.94-2.06-.94 2.06-2.06.94z\"/><path d=\"M17.41 7.96l-1.37-1.37c-.4-.4-.92-.59-1.43-.59-.52 0-1.04.2-1.43.59L10.3 9.45l-7.72 7.72c-.78.78-.78 2.05 0 2.83L4 21.41c.39.39.9.59 1.41.59.51 0 1.02-.2 1.41-.59l7.78-7.78 2.81-2.81c.8-.78.8-2.07 0-2.86zM5.41 20L4 18.59l7.72-7.72 1.47 1.35L5.41 20z\"/>\n",
              "  </svg>\n",
              "      </button>\n",
              "      \n",
              "  <style>\n",
              "    .colab-df-container {\n",
              "      display:flex;\n",
              "      flex-wrap:wrap;\n",
              "      gap: 12px;\n",
              "    }\n",
              "\n",
              "    .colab-df-convert {\n",
              "      background-color: #E8F0FE;\n",
              "      border: none;\n",
              "      border-radius: 50%;\n",
              "      cursor: pointer;\n",
              "      display: none;\n",
              "      fill: #1967D2;\n",
              "      height: 32px;\n",
              "      padding: 0 0 0 0;\n",
              "      width: 32px;\n",
              "    }\n",
              "\n",
              "    .colab-df-convert:hover {\n",
              "      background-color: #E2EBFA;\n",
              "      box-shadow: 0px 1px 2px rgba(60, 64, 67, 0.3), 0px 1px 3px 1px rgba(60, 64, 67, 0.15);\n",
              "      fill: #174EA6;\n",
              "    }\n",
              "\n",
              "    [theme=dark] .colab-df-convert {\n",
              "      background-color: #3B4455;\n",
              "      fill: #D2E3FC;\n",
              "    }\n",
              "\n",
              "    [theme=dark] .colab-df-convert:hover {\n",
              "      background-color: #434B5C;\n",
              "      box-shadow: 0px 1px 3px 1px rgba(0, 0, 0, 0.15);\n",
              "      filter: drop-shadow(0px 1px 2px rgba(0, 0, 0, 0.3));\n",
              "      fill: #FFFFFF;\n",
              "    }\n",
              "  </style>\n",
              "\n",
              "      <script>\n",
              "        const buttonEl =\n",
              "          document.querySelector('#df-c32897f3-13f4-44a5-a19c-4ee1719c3a16 button.colab-df-convert');\n",
              "        buttonEl.style.display =\n",
              "          google.colab.kernel.accessAllowed ? 'block' : 'none';\n",
              "\n",
              "        async function convertToInteractive(key) {\n",
              "          const element = document.querySelector('#df-c32897f3-13f4-44a5-a19c-4ee1719c3a16');\n",
              "          const dataTable =\n",
              "            await google.colab.kernel.invokeFunction('convertToInteractive',\n",
              "                                                     [key], {});\n",
              "          if (!dataTable) return;\n",
              "\n",
              "          const docLinkHtml = 'Like what you see? Visit the ' +\n",
              "            '<a target=\"_blank\" href=https://colab.research.google.com/notebooks/data_table.ipynb>data table notebook</a>'\n",
              "            + ' to learn more about interactive tables.';\n",
              "          element.innerHTML = '';\n",
              "          dataTable['output_type'] = 'display_data';\n",
              "          await google.colab.output.renderOutput(dataTable, element);\n",
              "          const docLink = document.createElement('div');\n",
              "          docLink.innerHTML = docLinkHtml;\n",
              "          element.appendChild(docLink);\n",
              "        }\n",
              "      </script>\n",
              "    </div>\n",
              "  </div>\n",
              "  "
            ],
            "text/plain": [
              "                 Date    Symbol Series  ...  Year  day_of_week  200_MA\n",
              "Date                                    ...                           \n",
              "2000-01-03 2000-01-03  HDFCBANK     EQ  ...  2000            0     NaN\n",
              "2000-01-04 2000-01-04  HDFCBANK     EQ  ...  2000            1     NaN\n",
              "2000-01-05 2000-01-05  HDFCBANK     EQ  ...  2000            2     NaN\n",
              "2000-01-06 2000-01-06  HDFCBANK     EQ  ...  2000            3     NaN\n",
              "2000-01-07 2000-01-07  HDFCBANK     EQ  ...  2000            4     NaN\n",
              "\n",
              "[5 rows x 18 columns]"
            ]
          },
          "metadata": {},
          "execution_count": 216
        }
      ]
    },
    {
      "cell_type": "code",
      "source": [
        "df.loc[df[\"Year\"] == 2020][['VWAP', '200_MA']].plot()\n",
        "# df[['VWAP', '200_MA']].plot()"
      ],
      "metadata": {
        "colab": {
          "base_uri": "https://localhost:8080/",
          "height": 343
        },
        "id": "sIWfq_soqB9E",
        "outputId": "2bf28ef3-81d4-47db-c40c-841a9e7003de"
      },
      "execution_count": 221,
      "outputs": [
        {
          "output_type": "execute_result",
          "data": {
            "text/plain": [
              "<matplotlib.axes._subplots.AxesSubplot at 0x7fdb45b291d0>"
            ]
          },
          "metadata": {},
          "execution_count": 221
        },
        {
          "output_type": "display_data",
          "data": {
            "image/png": "[encoded data removed]",
            "text/plain": [
              "<Figure size 1440x360 with 1 Axes>"
            ]
          },
          "metadata": {
            "needs_background": "light"
          }
        }
      ]
    },
    {
      "cell_type": "code",
      "source": [
        "fig = go.Figure([go.Scatter(x=df.loc[df[\"Year\"] == 2020].Date,y=df.loc[df[\"Year\"] == 2020].VWAP)])\n",
        "fig.update_layout(\n",
        "    autosize=False,\n",
        "    width=1000,\n",
        "    height=500,\n",
        "    template='simple_white',\n",
        "    title='Volume in 2020'\n",
        ")\n",
        "\n",
        "fig.update_xaxes(title=\"Date\")\n",
        "fig.update_yaxes(title=\"Volume\")\n",
        "fig.show()"
      ],
      "metadata": {
        "colab": {
          "base_uri": "https://localhost:8080/",
          "height": 517
        },
        "id": "koZZLtLRsblj",
        "outputId": "fb4d813b-3e9d-45b8-c59e-2d33a43ef302"
      },
      "execution_count": 114,
      "outputs": [
        {
          "output_type": "display_data",
          "data": {
            "text/html": [
              "<html>\n",
              "<head><meta charset=\"utf-8\" /></head>\n",
              "<body>\n",
              "    <div>\n",
              "            <script src=\"https://cdnjs.cloudflare.com/ajax/libs/mathjax/2.7.5/MathJax.js?config=TeX-AMS-MML_SVG\"></script><script type=\"text/javascript\">if (window.MathJax) {MathJax.Hub.Config({SVG: {font: \"STIX-Web\"}});}</script>\n",
              "                <script type=\"text/javascript\">window.PlotlyConfig = {MathJaxConfig: 'local'};</script>\n",
              "        <script src=\"https://cdn.plot.ly/plotly-latest.min.js\"></script>    \n",
              "            <div id=\"86e93e54-4a13-4c4f-902f-f0d04c8a17d0\" class=\"plotly-graph-div\" style=\"height:500px; width:1000px;\"></div>\n",
              "            <script type=\"text/javascript\">\n",
              "                \n",
              "                    window.PLOTLYENV=window.PLOTLYENV || {};\n",
              "                    \n",
              "                if (document.getElementById(\"86e93e54-4a13-4c4f-902f-f0d04c8a17d0\")) {\n",
              "                    Plotly.newPlot(\n",
              "                        '86e93e54-4a13-4c4f-902f-f0d04c8a17d0',\n",
              "                        [{\"type\": \"scatter\", \"x\": [\"2020-01-01T00:00:00\", \"2020-01-02T00:00:00\", \"2020-01-03T00:00:00\", \"2020-01-06T00:00:00\", \"2020-01-07T00:00:00\", \"2020-01-08T00:00:00\", \"2020-01-09T00:00:00\", \"2020-01-10T00:00:00\", \"2020-01-13T00:00:00\", \"2020-01-14T00:00:00\", \"2020-01-15T00:00:00\", \"2020-01-16T00:00:00\", \"2020-01-17T00:00:00\", \"2020-01-20T00:00:00\", \"2020-01-21T00:00:00\", \"2020-01-22T00:00:00\", \"2020-01-23T00:00:00\", \"2020-01-24T00:00:00\", \"2020-01-27T00:00:00\", \"2020-01-28T00:00:00\", \"2020-01-29T00:00:00\", \"2020-01-30T00:00:00\", \"2020-01-31T00:00:00\", \"2020-02-01T00:00:00\", \"2020-02-03T00:00:00\", \"2020-02-04T00:00:00\", \"2020-02-05T00:00:00\", \"2020-02-06T00:00:00\", \"2020-02-07T00:00:00\", \"2020-02-10T00:00:00\", \"2020-02-11T00:00:00\", \"2020-02-12T00:00:00\", \"2020-02-13T00:00:00\", \"2020-02-14T00:00:00\", \"2020-02-17T00:00:00\", \"2020-02-18T00:00:00\", \"2020-02-19T00:00:00\", \"2020-02-20T00:00:00\", \"2020-02-24T00:00:00\", \"2020-02-25T00:00:00\", \"2020-02-26T00:00:00\", \"2020-02-27T00:00:00\", \"2020-02-28T00:00:00\", \"2020-03-02T00:00:00\", \"2020-03-03T00:00:00\", \"2020-03-04T00:00:00\", \"2020-03-05T00:00:00\", \"2020-03-06T00:00:00\", \"2020-03-09T00:00:00\", \"2020-03-11T00:00:00\", \"2020-03-12T00:00:00\", \"2020-03-13T00:00:00\", \"2020-03-16T00:00:00\", \"2020-03-17T00:00:00\", \"2020-03-18T00:00:00\", \"2020-03-19T00:00:00\", \"2020-03-20T00:00:00\", \"2020-03-23T00:00:00\", \"2020-03-24T00:00:00\", \"2020-03-25T00:00:00\", \"2020-03-26T00:00:00\", \"2020-03-27T00:00:00\", \"2020-03-30T00:00:00\", \"2020-03-31T00:00:00\", \"2020-04-01T00:00:00\", \"2020-04-03T00:00:00\", \"2020-04-07T00:00:00\", \"2020-04-08T00:00:00\", \"2020-04-09T00:00:00\", \"2020-04-13T00:00:00\", \"2020-04-15T00:00:00\", \"2020-04-16T00:00:00\", \"2020-04-17T00:00:00\", \"2020-04-20T00:00:00\", \"2020-04-21T00:00:00\", \"2020-04-22T00:00:00\", \"2020-04-23T00:00:00\", \"2020-04-24T00:00:00\", \"2020-04-27T00:00:00\", \"2020-04-28T00:00:00\", \"2020-04-29T00:00:00\", \"2020-04-30T00:00:00\", \"2020-05-04T00:00:00\", \"2020-05-05T00:00:00\", \"2020-05-06T00:00:00\", \"2020-05-07T00:00:00\", \"2020-05-08T00:00:00\", \"2020-05-11T00:00:00\", \"2020-05-12T00:00:00\", \"2020-05-13T00:00:00\", \"2020-05-14T00:00:00\", \"2020-05-15T00:00:00\", \"2020-05-18T00:00:00\", \"2020-05-19T00:00:00\", \"2020-05-20T00:00:00\", \"2020-05-21T00:00:00\", \"2020-05-22T00:00:00\", \"2020-05-26T00:00:00\", \"2020-05-27T00:00:00\", \"2020-05-28T00:00:00\", \"2020-05-29T00:00:00\", \"2020-06-01T00:00:00\", \"2020-06-02T00:00:00\", \"2020-06-03T00:00:00\", \"2020-06-04T00:00:00\", \"2020-06-05T00:00:00\", \"2020-06-08T00:00:00\", \"2020-06-09T00:00:00\", \"2020-06-10T00:00:00\", \"2020-06-11T00:00:00\", \"2020-06-12T00:00:00\", \"2020-06-15T00:00:00\", \"2020-06-16T00:00:00\", \"2020-06-17T00:00:00\", \"2020-06-18T00:00:00\", \"2020-06-19T00:00:00\", \"2020-06-22T00:00:00\", \"2020-06-23T00:00:00\", \"2020-06-24T00:00:00\", \"2020-06-25T00:00:00\", \"2020-06-26T00:00:00\", \"2020-06-29T00:00:00\", \"2020-06-30T00:00:00\", \"2020-07-01T00:00:00\", \"2020-07-02T00:00:00\", \"2020-07-03T00:00:00\", \"2020-07-06T00:00:00\", \"2020-07-07T00:00:00\", \"2020-07-08T00:00:00\", \"2020-07-09T00:00:00\", \"2020-07-10T00:00:00\", \"2020-07-13T00:00:00\", \"2020-07-14T00:00:00\", \"2020-07-15T00:00:00\", \"2020-07-16T00:00:00\", \"2020-07-17T00:00:00\", \"2020-07-20T00:00:00\", \"2020-07-21T00:00:00\", \"2020-07-22T00:00:00\", \"2020-07-23T00:00:00\", \"2020-07-24T00:00:00\", \"2020-07-27T00:00:00\", \"2020-07-28T00:00:00\", \"2020-07-29T00:00:00\", \"2020-07-30T00:00:00\", \"2020-07-31T00:00:00\", \"2020-08-03T00:00:00\", \"2020-08-04T00:00:00\", \"2020-08-05T00:00:00\", \"2020-08-06T00:00:00\", \"2020-08-07T00:00:00\", \"2020-08-10T00:00:00\", \"2020-08-11T00:00:00\", \"2020-08-12T00:00:00\", \"2020-08-13T00:00:00\", \"2020-08-14T00:00:00\", \"2020-08-17T00:00:00\", \"2020-08-18T00:00:00\", \"2020-08-19T00:00:00\", \"2020-08-20T00:00:00\", \"2020-08-21T00:00:00\", \"2020-08-24T00:00:00\", \"2020-08-25T00:00:00\", \"2020-08-26T00:00:00\", \"2020-08-27T00:00:00\", \"2020-08-28T00:00:00\", \"2020-08-31T00:00:00\", \"2020-09-01T00:00:00\", \"2020-09-02T00:00:00\", \"2020-09-03T00:00:00\", \"2020-09-04T00:00:00\", \"2020-09-07T00:00:00\", \"2020-09-08T00:00:00\", \"2020-09-09T00:00:00\", \"2020-09-10T00:00:00\", \"2020-09-11T00:00:00\", \"2020-09-14T00:00:00\", \"2020-09-15T00:00:00\", \"2020-09-16T00:00:00\", \"2020-09-17T00:00:00\", \"2020-09-18T00:00:00\", \"2020-09-21T00:00:00\", \"2020-09-22T00:00:00\", \"2020-09-23T00:00:00\", \"2020-09-24T00:00:00\", \"2020-09-25T00:00:00\", \"2020-09-28T00:00:00\", \"2020-09-29T00:00:00\", \"2020-09-30T00:00:00\", \"2020-10-01T00:00:00\", \"2020-10-05T00:00:00\", \"2020-10-06T00:00:00\", \"2020-10-07T00:00:00\", \"2020-10-08T00:00:00\", \"2020-10-09T00:00:00\", \"2020-10-12T00:00:00\", \"2020-10-13T00:00:00\", \"2020-10-14T00:00:00\", \"2020-10-15T00:00:00\", \"2020-10-16T00:00:00\", \"2020-10-19T00:00:00\", \"2020-10-20T00:00:00\", \"2020-10-21T00:00:00\", \"2020-10-22T00:00:00\", \"2020-10-23T00:00:00\", \"2020-10-26T00:00:00\", \"2020-10-27T00:00:00\", \"2020-10-28T00:00:00\", \"2020-10-29T00:00:00\", \"2020-10-30T00:00:00\", \"2020-11-02T00:00:00\", \"2020-11-03T00:00:00\", \"2020-11-04T00:00:00\", \"2020-11-05T00:00:00\", \"2020-11-06T00:00:00\", \"2020-11-09T00:00:00\", \"2020-11-10T00:00:00\", \"2020-11-11T00:00:00\", \"2020-11-12T00:00:00\", \"2020-11-13T00:00:00\", \"2020-11-14T00:00:00\", \"2020-11-17T00:00:00\", \"2020-11-18T00:00:00\", \"2020-11-19T00:00:00\", \"2020-11-20T00:00:00\", \"2020-11-23T00:00:00\", \"2020-11-24T00:00:00\", \"2020-11-25T00:00:00\", \"2020-11-26T00:00:00\", \"2020-11-27T00:00:00\", \"2020-12-01T00:00:00\", \"2020-12-02T00:00:00\", \"2020-12-03T00:00:00\", \"2020-12-04T00:00:00\", \"2020-12-07T00:00:00\", \"2020-12-08T00:00:00\", \"2020-12-09T00:00:00\", \"2020-12-10T00:00:00\", \"2020-12-11T00:00:00\", \"2020-12-14T00:00:00\", \"2020-12-15T00:00:00\", \"2020-12-16T00:00:00\", \"2020-12-17T00:00:00\", \"2020-12-18T00:00:00\", \"2020-12-21T00:00:00\", \"2020-12-22T00:00:00\", \"2020-12-23T00:00:00\", \"2020-12-24T00:00:00\", \"2020-12-28T00:00:00\", \"2020-12-29T00:00:00\", \"2020-12-30T00:00:00\", \"2020-12-31T00:00:00\"], \"y\": [1276.64, 1284.56, 1270.48, 1247.24, 1261.48, 1253.71, 1271.27, 1282.11, 1289.33, 1284.81, 1280.62, 1285.32, 1277.38, 1265.0, 1244.14, 1243.37, 1240.93, 1247.28, 1220.97, 1221.37, 1235.01, 1224.75, 1230.24, 1210.2, 1188.67, 1222.0, 1237.42, 1242.01, 1238.21, 1235.68, 1246.8, 1249.42, 1241.95, 1227.78, 1221.46, 1209.57, 1221.68, 1221.38, 1205.66, 1201.07, 1195.09, 1191.25, 1176.25, 1184.61, 1178.14, 1152.73, 1155.77, 1124.34, 1094.8, 1105.77, 1036.26, 1018.3, 1013.09, 982.62, 916.25, 857.03, 868.05, 784.5, 775.82, 803.92, 898.62, 923.14, 858.48, 854.73, 831.99, 825.26, 871.57, 902.09, 913.38, 907.82, 885.42, 870.76, 906.63, 945.7, 922.24, 920.24, 939.81, 938.02, 941.28, 930.5, 964.08, 1006.05, 932.42, 928.05, 936.39, 930.31, 932.46, 934.32, 888.33, 938.46, 899.79, 885.0, 847.83, 846.32, 844.42, 870.64, 844.52, 860.62, 881.85, 938.36, 937.44, 987.51, 993.25, 1029.96, 1015.67, 1022.13, 1031.68, 1004.5, 989.98, 976.14, 959.62, 954.63, 978.56, 985.61, 998.66, 1029.14, 1038.22, 1031.23, 1043.88, 1026.56, 1041.81, 1058.38, 1068.09, 1083.32, 1098.3, 1079.3, 1109.16, 1101.79, 1115.55, 1121.08, 1108.8, 1086.03, 1057.27, 1066.96, 1048.11, 1080.41, 1138.35, 1142.37, 1124.94, 1133.04, 1112.21, 1084.25, 1080.9, 1072.25, 1064.47, 1031.43, 1007.5, 1039.32, 1035.64, 1041.75, 1034.69, 1055.9, 1062.91, 1057.73, 1063.05, 1047.2, 1031.26, 1044.74, 1063.75, 1059.3, 1081.52, 1112.49, 1116.31, 1118.92, 1117.89, 1111.75, 1126.33, 1128.0, 1130.82, 1138.33, 1114.55, 1109.77, 1112.0, 1099.31, 1095.11, 1083.3, 1073.19, 1066.57, 1084.56, 1087.14, 1068.82, 1058.7, 1042.49, 1046.38, 1035.26, 1038.13, 1053.08, 1059.74, 1070.11, 1099.6, 1121.66, 1137.63, 1154.88, 1187.94, 1218.62, 1220.43, 1206.34, 1190.04, 1195.09, 1189.99, 1206.93, 1218.32, 1238.33, 1237.77, 1238.33, 1222.29, 1216.83, 1214.22, 1189.63, 1186.31, 1198.51, 1243.15, 1251.63, 1269.42, 1294.89, 1334.35, 1376.45, 1393.64, 1373.54, 1356.21, 1370.51, 1401.66, 1408.6, 1383.36, 1391.31, 1398.55, 1430.0, 1431.81, 1410.64, 1429.86, 1439.22, 1410.23, 1396.88, 1386.77, 1368.13, 1377.34, 1395.27, 1386.04, 1382.89, 1376.22, 1380.9, 1405.85, 1429.35, 1416.04, 1402.25, 1365.22, 1371.48, 1393.22, 1414.43, 1428.05, 1427.25, 1436.4]}],\n",
              "                        {\"autosize\": false, \"height\": 500, \"template\": {\"data\": {\"bar\": [{\"error_x\": {\"color\": \"rgb(36,36,36)\"}, \"error_y\": {\"color\": \"rgb(36,36,36)\"}, \"marker\": {\"line\": {\"color\": \"white\", \"width\": 0.5}}, \"type\": \"bar\"}], \"barpolar\": [{\"marker\": {\"line\": {\"color\": \"white\", \"width\": 0.5}}, \"type\": \"barpolar\"}], \"carpet\": [{\"aaxis\": {\"endlinecolor\": \"rgb(36,36,36)\", \"gridcolor\": \"white\", \"linecolor\": \"white\", \"minorgridcolor\": \"white\", \"startlinecolor\": \"rgb(36,36,36)\"}, \"baxis\": {\"endlinecolor\": \"rgb(36,36,36)\", \"gridcolor\": \"white\", \"linecolor\": \"white\", \"minorgridcolor\": \"white\", \"startlinecolor\": \"rgb(36,36,36)\"}, \"type\": \"carpet\"}], \"choropleth\": [{\"colorbar\": {\"outlinewidth\": 10, \"tickcolor\": \"rgb(36,36,36)\", \"ticklen\": 8, \"ticks\": \"outside\", \"tickwidth\": 2}, \"type\": \"choropleth\"}], \"contour\": [{\"colorbar\": {\"outlinewidth\": 10, \"tickcolor\": \"rgb(36,36,36)\", \"ticklen\": 8, \"ticks\": \"outside\", \"tickwidth\": 2}, \"colorscale\": [[0.0, \"#440154\"], [0.1111111111111111, \"#482878\"], [0.2222222222222222, \"#3e4989\"], [0.3333333333333333, \"#31688e\"], [0.4444444444444444, \"#26828e\"], [0.5555555555555556, \"#1f9e89\"], [0.6666666666666666, \"#35b779\"], [0.7777777777777778, \"#6ece58\"], [0.8888888888888888, \"#b5de2b\"], [1.0, \"#fde725\"]], \"type\": \"contour\"}], \"contourcarpet\": [{\"colorbar\": {\"outlinewidth\": 10, \"tickcolor\": \"rgb(36,36,36)\", \"ticklen\": 8, \"ticks\": \"outside\", \"tickwidth\": 2}, \"type\": \"contourcarpet\"}], \"heatmap\": [{\"colorbar\": {\"outlinewidth\": 10, \"tickcolor\": \"rgb(36,36,36)\", \"ticklen\": 8, \"ticks\": \"outside\", \"tickwidth\": 2}, \"colorscale\": [[0.0, \"#440154\"], [0.1111111111111111, \"#482878\"], [0.2222222222222222, \"#3e4989\"], [0.3333333333333333, \"#31688e\"], [0.4444444444444444, \"#26828e\"], [0.5555555555555556, \"#1f9e89\"], [0.6666666666666666, \"#35b779\"], [0.7777777777777778, \"#6ece58\"], [0.8888888888888888, \"#b5de2b\"], [1.0, \"#fde725\"]], \"type\": \"heatmap\"}], \"heatmapgl\": [{\"colorbar\": {\"outlinewidth\": 10, \"tickcolor\": \"rgb(36,36,36)\", \"ticklen\": 8, \"ticks\": \"outside\", \"tickwidth\": 2}, \"colorscale\": [[0.0, \"#440154\"], [0.1111111111111111, \"#482878\"], [0.2222222222222222, \"#3e4989\"], [0.3333333333333333, \"#31688e\"], [0.4444444444444444, \"#26828e\"], [0.5555555555555556, \"#1f9e89\"], [0.6666666666666666, \"#35b779\"], [0.7777777777777778, \"#6ece58\"], [0.8888888888888888, \"#b5de2b\"], [1.0, \"#fde725\"]], \"type\": \"heatmapgl\"}], \"histogram\": [{\"marker\": {\"line\": {\"color\": \"white\", \"width\": 0.6}}, \"type\": \"histogram\"}], \"histogram2d\": [{\"colorbar\": {\"outlinewidth\": 10, \"tickcolor\": \"rgb(36,36,36)\", \"ticklen\": 8, \"ticks\": \"outside\", \"tickwidth\": 2}, \"colorscale\": [[0.0, \"#440154\"], [0.1111111111111111, \"#482878\"], [0.2222222222222222, \"#3e4989\"], [0.3333333333333333, \"#31688e\"], [0.4444444444444444, \"#26828e\"], [0.5555555555555556, \"#1f9e89\"], [0.6666666666666666, \"#35b779\"], [0.7777777777777778, \"#6ece58\"], [0.8888888888888888, \"#b5de2b\"], [1.0, \"#fde725\"]], \"type\": \"histogram2d\"}], \"histogram2dcontour\": [{\"colorbar\": {\"outlinewidth\": 10, \"tickcolor\": \"rgb(36,36,36)\", \"ticklen\": 8, \"ticks\": \"outside\", \"tickwidth\": 2}, \"colorscale\": [[0.0, \"#440154\"], [0.1111111111111111, \"#482878\"], [0.2222222222222222, \"#3e4989\"], [0.3333333333333333, \"#31688e\"], [0.4444444444444444, \"#26828e\"], [0.5555555555555556, \"#1f9e89\"], [0.6666666666666666, \"#35b779\"], [0.7777777777777778, \"#6ece58\"], [0.8888888888888888, \"#b5de2b\"], [1.0, \"#fde725\"]], \"type\": \"histogram2dcontour\"}], \"mesh3d\": [{\"colorbar\": {\"outlinewidth\": 10, \"tickcolor\": \"rgb(36,36,36)\", \"ticklen\": 8, \"ticks\": \"outside\", \"tickwidth\": 2}, \"type\": \"mesh3d\"}], \"parcoords\": [{\"line\": {\"colorbar\": {\"outlinewidth\": 10, \"tickcolor\": \"rgb(36,36,36)\", \"ticklen\": 8, \"ticks\": \"outside\", \"tickwidth\": 2}}, \"type\": \"parcoords\"}], \"pie\": [{\"automargin\": true, \"type\": \"pie\"}], \"scatter\": [{\"marker\": {\"colorbar\": {\"outlinewidth\": 10, \"tickcolor\": \"rgb(36,36,36)\", \"ticklen\": 8, \"ticks\": \"outside\", \"tickwidth\": 2}}, \"type\": \"scatter\"}], \"scatter3d\": [{\"line\": {\"colorbar\": {\"outlinewidth\": 10, \"tickcolor\": \"rgb(36,36,36)\", \"ticklen\": 8, \"ticks\": \"outside\", \"tickwidth\": 2}}, \"marker\": {\"colorbar\": {\"outlinewidth\": 10, \"tickcolor\": \"rgb(36,36,36)\", \"ticklen\": 8, \"ticks\": \"outside\", \"tickwidth\": 2}}, \"type\": \"scatter3d\"}], \"scattercarpet\": [{\"marker\": {\"colorbar\": {\"outlinewidth\": 10, \"tickcolor\": \"rgb(36,36,36)\", \"ticklen\": 8, \"ticks\": \"outside\", \"tickwidth\": 2}}, \"type\": \"scattercarpet\"}], \"scattergeo\": [{\"marker\": {\"colorbar\": {\"outlinewidth\": 10, \"tickcolor\": \"rgb(36,36,36)\", \"ticklen\": 8, \"ticks\": \"outside\", \"tickwidth\": 2}}, \"type\": \"scattergeo\"}], \"scattergl\": [{\"marker\": {\"colorbar\": {\"outlinewidth\": 10, \"tickcolor\": \"rgb(36,36,36)\", \"ticklen\": 8, \"ticks\": \"outside\", \"tickwidth\": 2}}, \"type\": \"scattergl\"}], \"scattermapbox\": [{\"marker\": {\"colorbar\": {\"outlinewidth\": 10, \"tickcolor\": \"rgb(36,36,36)\", \"ticklen\": 8, \"ticks\": \"outside\", \"tickwidth\": 2}}, \"type\": \"scattermapbox\"}], \"scatterpolar\": [{\"marker\": {\"colorbar\": {\"outlinewidth\": 10, \"tickcolor\": \"rgb(36,36,36)\", \"ticklen\": 8, \"ticks\": \"outside\", \"tickwidth\": 2}}, \"type\": \"scatterpolar\"}], \"scatterpolargl\": [{\"marker\": {\"colorbar\": {\"outlinewidth\": 10, \"tickcolor\": \"rgb(36,36,36)\", \"ticklen\": 8, \"ticks\": \"outside\", \"tickwidth\": 2}}, \"type\": \"scatterpolargl\"}], \"scatterternary\": [{\"marker\": {\"colorbar\": {\"outlinewidth\": 10, \"tickcolor\": \"rgb(36,36,36)\", \"ticklen\": 8, \"ticks\": \"outside\", \"tickwidth\": 2}}, \"type\": \"scatterternary\"}], \"surface\": [{\"colorbar\": {\"outlinewidth\": 10, \"tickcolor\": \"rgb(36,36,36)\", \"ticklen\": 8, \"ticks\": \"outside\", \"tickwidth\": 2}, \"colorscale\": [[0.0, \"#440154\"], [0.1111111111111111, \"#482878\"], [0.2222222222222222, \"#3e4989\"], [0.3333333333333333, \"#31688e\"], [0.4444444444444444, \"#26828e\"], [0.5555555555555556, \"#1f9e89\"], [0.6666666666666666, \"#35b779\"], [0.7777777777777778, \"#6ece58\"], [0.8888888888888888, \"#b5de2b\"], [1.0, \"#fde725\"]], \"type\": \"surface\"}], \"table\": [{\"cells\": {\"fill\": {\"color\": \"rgb(237,237,237)\"}, \"line\": {\"color\": \"white\"}}, \"header\": {\"fill\": {\"color\": \"rgb(217,217,217)\"}, \"line\": {\"color\": \"white\"}}, \"type\": \"table\"}]}, \"layout\": {\"annotationdefaults\": {\"arrowhead\": 0, \"arrowwidth\": 1}, \"coloraxis\": {\"colorbar\": {\"outlinewidth\": 10, \"tickcolor\": \"rgb(36,36,36)\", \"ticklen\": 8, \"ticks\": \"outside\", \"tickwidth\": 2}}, \"colorscale\": {\"diverging\": [[0.0, \"rgb(103,0,31)\"], [0.1, \"rgb(178,24,43)\"], [0.2, \"rgb(214,96,77)\"], [0.3, \"rgb(244,165,130)\"], [0.4, \"rgb(253,219,199)\"], [0.5, \"rgb(247,247,247)\"], [0.6, \"rgb(209,229,240)\"], [0.7, \"rgb(146,197,222)\"], [0.8, \"rgb(67,147,195)\"], [0.9, \"rgb(33,102,172)\"], [1.0, \"rgb(5,48,97)\"]], \"sequential\": [[0.0, \"#440154\"], [0.1111111111111111, \"#482878\"], [0.2222222222222222, \"#3e4989\"], [0.3333333333333333, \"#31688e\"], [0.4444444444444444, \"#26828e\"], [0.5555555555555556, \"#1f9e89\"], [0.6666666666666666, \"#35b779\"], [0.7777777777777778, \"#6ece58\"], [0.8888888888888888, \"#b5de2b\"], [1.0, \"#fde725\"]], \"sequentialminus\": [[0.0, \"#440154\"], [0.1111111111111111, \"#482878\"], [0.2222222222222222, \"#3e4989\"], [0.3333333333333333, \"#31688e\"], [0.4444444444444444, \"#26828e\"], [0.5555555555555556, \"#1f9e89\"], [0.6666666666666666, \"#35b779\"], [0.7777777777777778, \"#6ece58\"], [0.8888888888888888, \"#b5de2b\"], [1.0, \"#fde725\"]]}, \"colorway\": [\"#1F77B4\", \"#FF7F0E\", \"#2CA02C\", \"#D62728\", \"#9467BD\", \"#8C564B\", \"#E377C2\", \"#7F7F7F\", \"#BCBD22\", \"#17BECF\"], \"font\": {\"color\": \"rgb(36,36,36)\"}, \"geo\": {\"bgcolor\": \"white\", \"lakecolor\": \"white\", \"landcolor\": \"white\", \"showlakes\": true, \"showland\": true, \"subunitcolor\": \"white\"}, \"hoverlabel\": {\"align\": \"left\"}, \"hovermode\": \"closest\", \"mapbox\": {\"style\": \"light\"}, \"paper_bgcolor\": \"white\", \"plot_bgcolor\": \"white\", \"polar\": {\"angularaxis\": {\"gridcolor\": \"rgb(232,232,232)\", \"linecolor\": \"rgb(36,36,36)\", \"showgrid\": false, \"showline\": true, \"ticks\": \"outside\"}, \"bgcolor\": \"white\", \"radialaxis\": {\"gridcolor\": \"rgb(232,232,232)\", \"linecolor\": \"rgb(36,36,36)\", \"showgrid\": false, \"showline\": true, \"ticks\": \"outside\"}}, \"scene\": {\"xaxis\": {\"backgroundcolor\": \"white\", \"gridcolor\": \"rgb(232,232,232)\", \"gridwidth\": 2, \"linecolor\": \"rgb(36,36,36)\", \"showbackground\": true, \"showgrid\": false, \"showline\": true, \"ticks\": \"outside\", \"zeroline\": false, \"zerolinecolor\": \"rgb(36,36,36)\"}, \"yaxis\": {\"backgroundcolor\": \"white\", \"gridcolor\": \"rgb(232,232,232)\", \"gridwidth\": 2, \"linecolor\": \"rgb(36,36,36)\", \"showbackground\": true, \"showgrid\": false, \"showline\": true, \"ticks\": \"outside\", \"zeroline\": false, \"zerolinecolor\": \"rgb(36,36,36)\"}, \"zaxis\": {\"backgroundcolor\": \"white\", \"gridcolor\": \"rgb(232,232,232)\", \"gridwidth\": 2, \"linecolor\": \"rgb(36,36,36)\", \"showbackground\": true, \"showgrid\": false, \"showline\": true, \"ticks\": \"outside\", \"zeroline\": false, \"zerolinecolor\": \"rgb(36,36,36)\"}}, \"shapedefaults\": {\"fillcolor\": \"black\", \"line\": {\"width\": 0}, \"opacity\": 0.3}, \"ternary\": {\"aaxis\": {\"gridcolor\": \"rgb(232,232,232)\", \"linecolor\": \"rgb(36,36,36)\", \"showgrid\": false, \"showline\": true, \"ticks\": \"outside\"}, \"baxis\": {\"gridcolor\": \"rgb(232,232,232)\", \"linecolor\": \"rgb(36,36,36)\", \"showgrid\": false, \"showline\": true, \"ticks\": \"outside\"}, \"bgcolor\": \"white\", \"caxis\": {\"gridcolor\": \"rgb(232,232,232)\", \"linecolor\": \"rgb(36,36,36)\", \"showgrid\": false, \"showline\": true, \"ticks\": \"outside\"}}, \"title\": {\"x\": 0.05}, \"xaxis\": {\"automargin\": true, \"gridcolor\": \"rgb(232,232,232)\", \"linecolor\": \"rgb(36,36,36)\", \"showgrid\": false, \"showline\": true, \"ticks\": \"outside\", \"title\": {\"standoff\": 15}, \"zeroline\": false, \"zerolinecolor\": \"rgb(36,36,36)\"}, \"yaxis\": {\"automargin\": true, \"gridcolor\": \"rgb(232,232,232)\", \"linecolor\": \"rgb(36,36,36)\", \"showgrid\": false, \"showline\": true, \"ticks\": \"outside\", \"title\": {\"standoff\": 15}, \"zeroline\": false, \"zerolinecolor\": \"rgb(36,36,36)\"}}}, \"title\": {\"text\": \"Volume in 2020\"}, \"width\": 1000, \"xaxis\": {\"title\": {\"text\": \"Date\"}}, \"yaxis\": {\"title\": {\"text\": \"Volume\"}}},\n",
              "                        {\"responsive\": true}\n",
              "                    ).then(function(){\n",
              "                            \n",
              "var gd = document.getElementById('86e93e54-4a13-4c4f-902f-f0d04c8a17d0');\n",
              "var x = new MutationObserver(function (mutations, observer) {{\n",
              "        var display = window.getComputedStyle(gd).display;\n",
              "        if (!display || display === 'none') {{\n",
              "            console.log([gd, 'removed!']);\n",
              "            Plotly.purge(gd);\n",
              "            observer.disconnect();\n",
              "        }}\n",
              "}});\n",
              "\n",
              "// Listen for the removal of the full notebook cells\n",
              "var notebookContainer = gd.closest('#notebook-container');\n",
              "if (notebookContainer) {{\n",
              "    x.observe(notebookContainer, {childList: true});\n",
              "}}\n",
              "\n",
              "// Listen for the clearing of the current output cell\n",
              "var outputEl = gd.closest('.output');\n",
              "if (outputEl) {{\n",
              "    x.observe(outputEl, {childList: true});\n",
              "}}\n",
              "\n",
              "                        })\n",
              "                };\n",
              "                \n",
              "            </script>\n",
              "        </div>\n",
              "</body>\n",
              "</html>"
            ]
          },
          "metadata": {}
        }
      ]
    },
    {
      "cell_type": "code",
      "source": [
        "fig = go.Figure([go.Scatter(x=df.loc[df[\"Year\"] == 2020].Date,y=df.loc[df[\"Year\"] == 2020]['200_MA'])])\n",
        "fig.update_layout(\n",
        "    autosize=False,\n",
        "    width=1000,\n",
        "    height=500,\n",
        "    template='simple_white',\n",
        "    title='Volume in 2020'\n",
        ")\n",
        "fig.update_xaxes(title=\"Date\")\n",
        "fig.update_yaxes(title=\"Volume\")\n",
        "fig.show()"
      ],
      "metadata": {
        "colab": {
          "base_uri": "https://localhost:8080/",
          "height": 517
        },
        "id": "Ta9s4fyqxxOJ",
        "outputId": "bffb6dd7-bcef-4b59-d851-2d24a2e5e6be"
      },
      "execution_count": 103,
      "outputs": [
        {
          "output_type": "display_data",
          "data": {
            "text/html": [
              "<html>\n",
              "<head><meta charset=\"utf-8\" /></head>\n",
              "<body>\n",
              "    <div>\n",
              "            <script src=\"https://cdnjs.cloudflare.com/ajax/libs/mathjax/2.7.5/MathJax.js?config=TeX-AMS-MML_SVG\"></script><script type=\"text/javascript\">if (window.MathJax) {MathJax.Hub.Config({SVG: {font: \"STIX-Web\"}});}</script>\n",
              "                <script type=\"text/javascript\">window.PlotlyConfig = {MathJaxConfig: 'local'};</script>\n",
              "        <script src=\"https://cdn.plot.ly/plotly-latest.min.js\"></script>    \n",
              "            <div id=\"dd19fed9-745f-4d1d-9f1c-caaca021e3ce\" class=\"plotly-graph-div\" style=\"height:500px; width:1000px;\"></div>\n",
              "            <script type=\"text/javascript\">\n",
              "                \n",
              "                    window.PLOTLYENV=window.PLOTLYENV || {};\n",
              "                    \n",
              "                if (document.getElementById(\"dd19fed9-745f-4d1d-9f1c-caaca021e3ce\")) {\n",
              "                    Plotly.newPlot(\n",
              "                        'dd19fed9-745f-4d1d-9f1c-caaca021e3ce',\n",
              "                        [{\"type\": \"scatter\", \"x\": [\"2020-01-01T00:00:00\", \"2020-01-02T00:00:00\", \"2020-01-03T00:00:00\", \"2020-01-06T00:00:00\", \"2020-01-07T00:00:00\", \"2020-01-08T00:00:00\", \"2020-01-09T00:00:00\", \"2020-01-10T00:00:00\", \"2020-01-13T00:00:00\", \"2020-01-14T00:00:00\", \"2020-01-15T00:00:00\", \"2020-01-16T00:00:00\", \"2020-01-17T00:00:00\", \"2020-01-20T00:00:00\", \"2020-01-21T00:00:00\", \"2020-01-22T00:00:00\", \"2020-01-23T00:00:00\", \"2020-01-24T00:00:00\", \"2020-01-27T00:00:00\", \"2020-01-28T00:00:00\", \"2020-01-29T00:00:00\", \"2020-01-30T00:00:00\", \"2020-01-31T00:00:00\", \"2020-02-01T00:00:00\", \"2020-02-03T00:00:00\", \"2020-02-04T00:00:00\", \"2020-02-05T00:00:00\", \"2020-02-06T00:00:00\", \"2020-02-07T00:00:00\", \"2020-02-10T00:00:00\", \"2020-02-11T00:00:00\", \"2020-02-12T00:00:00\", \"2020-02-13T00:00:00\", \"2020-02-14T00:00:00\", \"2020-02-17T00:00:00\", \"2020-02-18T00:00:00\", \"2020-02-19T00:00:00\", \"2020-02-20T00:00:00\", \"2020-02-24T00:00:00\", \"2020-02-25T00:00:00\", \"2020-02-26T00:00:00\", \"2020-02-27T00:00:00\", \"2020-02-28T00:00:00\", \"2020-03-02T00:00:00\", \"2020-03-03T00:00:00\", \"2020-03-04T00:00:00\", \"2020-03-05T00:00:00\", \"2020-03-06T00:00:00\", \"2020-03-09T00:00:00\", \"2020-03-11T00:00:00\", \"2020-03-12T00:00:00\", \"2020-03-13T00:00:00\", \"2020-03-16T00:00:00\", \"2020-03-17T00:00:00\", \"2020-03-18T00:00:00\", \"2020-03-19T00:00:00\", \"2020-03-20T00:00:00\", \"2020-03-23T00:00:00\", \"2020-03-24T00:00:00\", \"2020-03-25T00:00:00\", \"2020-03-26T00:00:00\", \"2020-03-27T00:00:00\", \"2020-03-30T00:00:00\", \"2020-03-31T00:00:00\", \"2020-04-01T00:00:00\", \"2020-04-03T00:00:00\", \"2020-04-07T00:00:00\", \"2020-04-08T00:00:00\", \"2020-04-09T00:00:00\", \"2020-04-13T00:00:00\", \"2020-04-15T00:00:00\", \"2020-04-16T00:00:00\", \"2020-04-17T00:00:00\", \"2020-04-20T00:00:00\", \"2020-04-21T00:00:00\", \"2020-04-22T00:00:00\", \"2020-04-23T00:00:00\", \"2020-04-24T00:00:00\", \"2020-04-27T00:00:00\", \"2020-04-28T00:00:00\", \"2020-04-29T00:00:00\", \"2020-04-30T00:00:00\", \"2020-05-04T00:00:00\", \"2020-05-05T00:00:00\", \"2020-05-06T00:00:00\", \"2020-05-07T00:00:00\", \"2020-05-08T00:00:00\", \"2020-05-11T00:00:00\", \"2020-05-12T00:00:00\", \"2020-05-13T00:00:00\", \"2020-05-14T00:00:00\", \"2020-05-15T00:00:00\", \"2020-05-18T00:00:00\", \"2020-05-19T00:00:00\", \"2020-05-20T00:00:00\", \"2020-05-21T00:00:00\", \"2020-05-22T00:00:00\", \"2020-05-26T00:00:00\", \"2020-05-27T00:00:00\", \"2020-05-28T00:00:00\", \"2020-05-29T00:00:00\", \"2020-06-01T00:00:00\", \"2020-06-02T00:00:00\", \"2020-06-03T00:00:00\", \"2020-06-04T00:00:00\", \"2020-06-05T00:00:00\", \"2020-06-08T00:00:00\", \"2020-06-09T00:00:00\", \"2020-06-10T00:00:00\", \"2020-06-11T00:00:00\", \"2020-06-12T00:00:00\", \"2020-06-15T00:00:00\", \"2020-06-16T00:00:00\", \"2020-06-17T00:00:00\", \"2020-06-18T00:00:00\", \"2020-06-19T00:00:00\", \"2020-06-22T00:00:00\", \"2020-06-23T00:00:00\", \"2020-06-24T00:00:00\", \"2020-06-25T00:00:00\", \"2020-06-26T00:00:00\", \"2020-06-29T00:00:00\", \"2020-06-30T00:00:00\", \"2020-07-01T00:00:00\", \"2020-07-02T00:00:00\", \"2020-07-03T00:00:00\", \"2020-07-06T00:00:00\", \"2020-07-07T00:00:00\", \"2020-07-08T00:00:00\", \"2020-07-09T00:00:00\", \"2020-07-10T00:00:00\", \"2020-07-13T00:00:00\", \"2020-07-14T00:00:00\", \"2020-07-15T00:00:00\", \"2020-07-16T00:00:00\", \"2020-07-17T00:00:00\", \"2020-07-20T00:00:00\", \"2020-07-21T00:00:00\", \"2020-07-22T00:00:00\", \"2020-07-23T00:00:00\", \"2020-07-24T00:00:00\", \"2020-07-27T00:00:00\", \"2020-07-28T00:00:00\", \"2020-07-29T00:00:00\", \"2020-07-30T00:00:00\", \"2020-07-31T00:00:00\", \"2020-08-03T00:00:00\", \"2020-08-04T00:00:00\", \"2020-08-05T00:00:00\", \"2020-08-06T00:00:00\", \"2020-08-07T00:00:00\", \"2020-08-10T00:00:00\", \"2020-08-11T00:00:00\", \"2020-08-12T00:00:00\", \"2020-08-13T00:00:00\", \"2020-08-14T00:00:00\", \"2020-08-17T00:00:00\", \"2020-08-18T00:00:00\", \"2020-08-19T00:00:00\", \"2020-08-20T00:00:00\", \"2020-08-21T00:00:00\", \"2020-08-24T00:00:00\", \"2020-08-25T00:00:00\", \"2020-08-26T00:00:00\", \"2020-08-27T00:00:00\", \"2020-08-28T00:00:00\", \"2020-08-31T00:00:00\", \"2020-09-01T00:00:00\", \"2020-09-02T00:00:00\", \"2020-09-03T00:00:00\", \"2020-09-04T00:00:00\", \"2020-09-07T00:00:00\", \"2020-09-08T00:00:00\", \"2020-09-09T00:00:00\", \"2020-09-10T00:00:00\", \"2020-09-11T00:00:00\", \"2020-09-14T00:00:00\", \"2020-09-15T00:00:00\", \"2020-09-16T00:00:00\", \"2020-09-17T00:00:00\", \"2020-09-18T00:00:00\", \"2020-09-21T00:00:00\", \"2020-09-22T00:00:00\", \"2020-09-23T00:00:00\", \"2020-09-24T00:00:00\", \"2020-09-25T00:00:00\", \"2020-09-28T00:00:00\", \"2020-09-29T00:00:00\", \"2020-09-30T00:00:00\", \"2020-10-01T00:00:00\", \"2020-10-05T00:00:00\", \"2020-10-06T00:00:00\", \"2020-10-07T00:00:00\", \"2020-10-08T00:00:00\", \"2020-10-09T00:00:00\", \"2020-10-12T00:00:00\", \"2020-10-13T00:00:00\", \"2020-10-14T00:00:00\", \"2020-10-15T00:00:00\", \"2020-10-16T00:00:00\", \"2020-10-19T00:00:00\", \"2020-10-20T00:00:00\", \"2020-10-21T00:00:00\", \"2020-10-22T00:00:00\", \"2020-10-23T00:00:00\", \"2020-10-26T00:00:00\", \"2020-10-27T00:00:00\", \"2020-10-28T00:00:00\", \"2020-10-29T00:00:00\", \"2020-10-30T00:00:00\", \"2020-11-02T00:00:00\", \"2020-11-03T00:00:00\", \"2020-11-04T00:00:00\", \"2020-11-05T00:00:00\", \"2020-11-06T00:00:00\", \"2020-11-09T00:00:00\", \"2020-11-10T00:00:00\", \"2020-11-11T00:00:00\", \"2020-11-12T00:00:00\", \"2020-11-13T00:00:00\", \"2020-11-14T00:00:00\", \"2020-11-17T00:00:00\", \"2020-11-18T00:00:00\", \"2020-11-19T00:00:00\", \"2020-11-20T00:00:00\", \"2020-11-23T00:00:00\", \"2020-11-24T00:00:00\", \"2020-11-25T00:00:00\", \"2020-11-26T00:00:00\", \"2020-11-27T00:00:00\", \"2020-12-01T00:00:00\", \"2020-12-02T00:00:00\", \"2020-12-03T00:00:00\", \"2020-12-04T00:00:00\", \"2020-12-07T00:00:00\", \"2020-12-08T00:00:00\", \"2020-12-09T00:00:00\", \"2020-12-10T00:00:00\", \"2020-12-11T00:00:00\", \"2020-12-14T00:00:00\", \"2020-12-15T00:00:00\", \"2020-12-16T00:00:00\", \"2020-12-17T00:00:00\", \"2020-12-18T00:00:00\", \"2020-12-21T00:00:00\", \"2020-12-22T00:00:00\", \"2020-12-23T00:00:00\", \"2020-12-24T00:00:00\", \"2020-12-28T00:00:00\", \"2020-12-29T00:00:00\", \"2020-12-30T00:00:00\", \"2020-12-31T00:00:00\"], \"y\": [1962.6982500000006, 1958.5467500000004, 1954.3367500000008, 1950.1117500000007, 1945.7022500000007, 1941.1845000000003, 1936.3252500000006, 1931.4667500000007, 1926.6017500000007, 1921.6260000000009, 1916.7092500000008, 1911.6490000000008, 1906.5690000000009, 1901.5542500000008, 1896.5035000000007, 1891.1132500000008, 1885.7632500000004, 1880.3725000000004, 1874.9825000000003, 1869.5575000000003, 1864.1164999999999, 1858.7614999999998, 1853.3874999999998, 1847.96175, 1842.5852499999999, 1837.155, 1832.0100000000002, 1826.8890000000001, 1821.6680000000001, 1816.3535000000002, 1810.9930000000004, 1805.6430000000005, 1800.4575000000007, 1795.3375000000005, 1790.0855000000008, 1784.8255000000008, 1779.3180000000004, 1773.6697500000007, 1767.9297500000007, 1762.2440000000008, 1756.4990000000007, 1750.9035000000006, 1745.4160000000006, 1739.716500000001, 1734.1555000000008, 1728.5272500000005, 1722.8912500000006, 1717.1212500000004, 1710.9792500000005, 1704.3777500000006, 1697.7307500000004, 1691.0007500000004, 1684.2085000000006, 1677.4627500000008, 1670.403250000001, 1663.2682500000012, 1655.714000000001, 1648.0475000000013, 1639.9162500000011, 1631.6672500000013, 1623.6757500000012, 1616.014250000001, 1608.6862500000009, 1600.7715000000007, 1592.8400000000008, 1584.9172500000009, 1576.877250000001, 1569.1190000000008, 1561.644500000001, 1554.1390000000008, 1546.648000000001, 1539.115500000001, 1531.420500000001, 1523.867500000001, 1516.4647500000005, 1508.7847500000007, 1500.9772500000006, 1493.3947500000006, 1485.7417500000008, 1478.041250000001, 1470.2437500000008, 1462.7177500000007, 1455.3380000000004, 1447.7650000000006, 1440.4310000000007, 1433.191000000001, 1425.8375000000005, 1418.4672500000006, 1411.222250000001, 1403.6792500000008, 1396.4212500000008, 1388.8312500000009, 1381.189750000001, 1373.8805000000007, 1366.7445000000005, 1359.5995000000005, 1352.4422500000003, 1345.3255000000001, 1338.3165000000001, 1331.5095000000001, 1324.9245, 1318.4995000000001, 1312.3545000000001, 1306.3795, 1300.5595, 1294.7442500000002, 1288.74125, 1282.6295, 1276.39675, 1270.219, 1263.996, 1257.71925, 1251.4502499999999, 1245.2140000000002, 1239.10425, 1233.34375, 1227.228, 1221.0932500000001, 1215.0315000000003, 1209.0505000000003, 1202.9955000000002, 1197.2055000000003, 1191.2485000000001, 1185.2792500000003, 1179.4762500000002, 1173.728, 1167.8370000000002, 1161.9925, 1156.21375, 1150.525, 1144.931, 1139.4102500000001, 1139.44, 1138.735, 1137.7165, 1136.73425, 1136.0047499999998, 1135.3942499999998, 1134.9165, 1134.4389999999999, 1133.8835, 1133.2789999999998, 1132.596, 1131.9687499999998, 1131.26175, 1130.5502499999998, 1129.7187499999998, 1128.754, 1127.9342499999998, 1127.0382499999996, 1126.1639999999998, 1125.2307499999995, 1124.2657499999996, 1123.3719999999996, 1122.4312499999996, 1121.5537499999996, 1120.6737499999995, 1119.6219999999996, 1118.6167499999997, 1117.6462499999996, 1116.7722499999995, 1115.9662499999995, 1115.3569999999993, 1114.6969999999994, 1114.0072499999994, 1113.3217499999994, 1112.6042499999994, 1111.9982499999992, 1111.3312499999993, 1110.6012499999993, 1109.9337499999992, 1109.1857499999992, 1108.3684999999994, 1107.5274999999992, 1106.6592499999992, 1105.7859999999991, 1104.9114999999993, 1103.9527499999995, 1102.9182499999995, 1101.9987499999995, 1101.0989999999993, 1100.2149999999995, 1099.2872499999999, 1098.2842499999997, 1097.2592499999998, 1096.2449999999997, 1095.2364999999998, 1094.2614999999998, 1093.2637499999996, 1092.3364999999997, 1091.5364999999997, 1090.8224999999998, 1090.0674999999997, 1089.3642499999996, 1088.8812499999995, 1088.5462499999996, 1088.2544999999996, 1087.9074999999996, 1087.5839999999996, 1087.2252499999995, 1086.8329999999996, 1086.6079999999995, 1086.3049999999996, 1086.1349999999998, 1086.0759999999998, 1085.9609999999998, 1085.8602499999997, 1085.6612499999997, 1085.3867499999997, 1084.9264999999996, 1084.4602499999996, 1084.1454999999996, 1083.9442499999996, 1083.8437499999995, 1083.6994999999995, 1083.9994999999994, 1084.4542499999995, 1085.1949999999995, 1085.9989999999996, 1086.7667499999995, 1087.4717499999992, 1088.1364999999994, 1089.0047499999994, 1089.9107499999993, 1090.7694999999994, 1091.8217499999994, 1092.7699999999995, 1093.7549999999994, 1094.8334999999995, 1095.7584999999995, 1096.7737499999996, 1097.7437499999996, 1098.6382499999995, 1099.4987499999995, 1100.2639999999997, 1100.9987499999997, 1101.8502499999997, 1102.7504999999994, 1103.6104999999995, 1104.5117499999997, 1105.4067499999996, 1106.3579999999995, 1107.4294999999997, 1108.7294999999997, 1109.9222499999998, 1111.1147499999997, 1112.1387499999996, 1113.2185, 1114.5339999999999, 1116.047, 1117.62075, 1119.42025]}],\n",
              "                        {\"autosize\": false, \"height\": 500, \"template\": {\"data\": {\"bar\": [{\"error_x\": {\"color\": \"rgb(36,36,36)\"}, \"error_y\": {\"color\": \"rgb(36,36,36)\"}, \"marker\": {\"line\": {\"color\": \"white\", \"width\": 0.5}}, \"type\": \"bar\"}], \"barpolar\": [{\"marker\": {\"line\": {\"color\": \"white\", \"width\": 0.5}}, \"type\": \"barpolar\"}], \"carpet\": [{\"aaxis\": {\"endlinecolor\": \"rgb(36,36,36)\", \"gridcolor\": \"white\", \"linecolor\": \"white\", \"minorgridcolor\": \"white\", \"startlinecolor\": \"rgb(36,36,36)\"}, \"baxis\": {\"endlinecolor\": \"rgb(36,36,36)\", \"gridcolor\": \"white\", \"linecolor\": \"white\", \"minorgridcolor\": \"white\", \"startlinecolor\": \"rgb(36,36,36)\"}, \"type\": \"carpet\"}], \"choropleth\": [{\"colorbar\": {\"outlinewidth\": 10, \"tickcolor\": \"rgb(36,36,36)\", \"ticklen\": 8, \"ticks\": \"outside\", \"tickwidth\": 2}, \"type\": \"choropleth\"}], \"contour\": [{\"colorbar\": {\"outlinewidth\": 10, \"tickcolor\": \"rgb(36,36,36)\", \"ticklen\": 8, \"ticks\": \"outside\", \"tickwidth\": 2}, \"colorscale\": [[0.0, \"#440154\"], [0.1111111111111111, \"#482878\"], [0.2222222222222222, \"#3e4989\"], [0.3333333333333333, \"#31688e\"], [0.4444444444444444, \"#26828e\"], [0.5555555555555556, \"#1f9e89\"], [0.6666666666666666, \"#35b779\"], [0.7777777777777778, \"#6ece58\"], [0.8888888888888888, \"#b5de2b\"], [1.0, \"#fde725\"]], \"type\": \"contour\"}], \"contourcarpet\": [{\"colorbar\": {\"outlinewidth\": 10, \"tickcolor\": \"rgb(36,36,36)\", \"ticklen\": 8, \"ticks\": \"outside\", \"tickwidth\": 2}, \"type\": \"contourcarpet\"}], \"heatmap\": [{\"colorbar\": {\"outlinewidth\": 10, \"tickcolor\": \"rgb(36,36,36)\", \"ticklen\": 8, \"ticks\": \"outside\", \"tickwidth\": 2}, \"colorscale\": [[0.0, \"#440154\"], [0.1111111111111111, \"#482878\"], [0.2222222222222222, \"#3e4989\"], [0.3333333333333333, \"#31688e\"], [0.4444444444444444, \"#26828e\"], [0.5555555555555556, \"#1f9e89\"], [0.6666666666666666, \"#35b779\"], [0.7777777777777778, \"#6ece58\"], [0.8888888888888888, \"#b5de2b\"], [1.0, \"#fde725\"]], \"type\": \"heatmap\"}], \"heatmapgl\": [{\"colorbar\": {\"outlinewidth\": 10, \"tickcolor\": \"rgb(36,36,36)\", \"ticklen\": 8, \"ticks\": \"outside\", \"tickwidth\": 2}, \"colorscale\": [[0.0, \"#440154\"], [0.1111111111111111, \"#482878\"], [0.2222222222222222, \"#3e4989\"], [0.3333333333333333, \"#31688e\"], [0.4444444444444444, \"#26828e\"], [0.5555555555555556, \"#1f9e89\"], [0.6666666666666666, \"#35b779\"], [0.7777777777777778, \"#6ece58\"], [0.8888888888888888, \"#b5de2b\"], [1.0, \"#fde725\"]], \"type\": \"heatmapgl\"}], \"histogram\": [{\"marker\": {\"line\": {\"color\": \"white\", \"width\": 0.6}}, \"type\": \"histogram\"}], \"histogram2d\": [{\"colorbar\": {\"outlinewidth\": 10, \"tickcolor\": \"rgb(36,36,36)\", \"ticklen\": 8, \"ticks\": \"outside\", \"tickwidth\": 2}, \"colorscale\": [[0.0, \"#440154\"], [0.1111111111111111, \"#482878\"], [0.2222222222222222, \"#3e4989\"], [0.3333333333333333, \"#31688e\"], [0.4444444444444444, \"#26828e\"], [0.5555555555555556, \"#1f9e89\"], [0.6666666666666666, \"#35b779\"], [0.7777777777777778, \"#6ece58\"], [0.8888888888888888, \"#b5de2b\"], [1.0, \"#fde725\"]], \"type\": \"histogram2d\"}], \"histogram2dcontour\": [{\"colorbar\": {\"outlinewidth\": 10, \"tickcolor\": \"rgb(36,36,36)\", \"ticklen\": 8, \"ticks\": \"outside\", \"tickwidth\": 2}, \"colorscale\": [[0.0, \"#440154\"], [0.1111111111111111, \"#482878\"], [0.2222222222222222, \"#3e4989\"], [0.3333333333333333, \"#31688e\"], [0.4444444444444444, \"#26828e\"], [0.5555555555555556, \"#1f9e89\"], [0.6666666666666666, \"#35b779\"], [0.7777777777777778, \"#6ece58\"], [0.8888888888888888, \"#b5de2b\"], [1.0, \"#fde725\"]], \"type\": \"histogram2dcontour\"}], \"mesh3d\": [{\"colorbar\": {\"outlinewidth\": 10, \"tickcolor\": \"rgb(36,36,36)\", \"ticklen\": 8, \"ticks\": \"outside\", \"tickwidth\": 2}, \"type\": \"mesh3d\"}], \"parcoords\": [{\"line\": {\"colorbar\": {\"outlinewidth\": 10, \"tickcolor\": \"rgb(36,36,36)\", \"ticklen\": 8, \"ticks\": \"outside\", \"tickwidth\": 2}}, \"type\": \"parcoords\"}], \"pie\": [{\"automargin\": true, \"type\": \"pie\"}], \"scatter\": [{\"marker\": {\"colorbar\": {\"outlinewidth\": 10, \"tickcolor\": \"rgb(36,36,36)\", \"ticklen\": 8, \"ticks\": \"outside\", \"tickwidth\": 2}}, \"type\": \"scatter\"}], \"scatter3d\": [{\"line\": {\"colorbar\": {\"outlinewidth\": 10, \"tickcolor\": \"rgb(36,36,36)\", \"ticklen\": 8, \"ticks\": \"outside\", \"tickwidth\": 2}}, \"marker\": {\"colorbar\": {\"outlinewidth\": 10, \"tickcolor\": \"rgb(36,36,36)\", \"ticklen\": 8, \"ticks\": \"outside\", \"tickwidth\": 2}}, \"type\": \"scatter3d\"}], \"scattercarpet\": [{\"marker\": {\"colorbar\": {\"outlinewidth\": 10, \"tickcolor\": \"rgb(36,36,36)\", \"ticklen\": 8, \"ticks\": \"outside\", \"tickwidth\": 2}}, \"type\": \"scattercarpet\"}], \"scattergeo\": [{\"marker\": {\"colorbar\": {\"outlinewidth\": 10, \"tickcolor\": \"rgb(36,36,36)\", \"ticklen\": 8, \"ticks\": \"outside\", \"tickwidth\": 2}}, \"type\": \"scattergeo\"}], \"scattergl\": [{\"marker\": {\"colorbar\": {\"outlinewidth\": 10, \"tickcolor\": \"rgb(36,36,36)\", \"ticklen\": 8, \"ticks\": \"outside\", \"tickwidth\": 2}}, \"type\": \"scattergl\"}], \"scattermapbox\": [{\"marker\": {\"colorbar\": {\"outlinewidth\": 10, \"tickcolor\": \"rgb(36,36,36)\", \"ticklen\": 8, \"ticks\": \"outside\", \"tickwidth\": 2}}, \"type\": \"scattermapbox\"}], \"scatterpolar\": [{\"marker\": {\"colorbar\": {\"outlinewidth\": 10, \"tickcolor\": \"rgb(36,36,36)\", \"ticklen\": 8, \"ticks\": \"outside\", \"tickwidth\": 2}}, \"type\": \"scatterpolar\"}], \"scatterpolargl\": [{\"marker\": {\"colorbar\": {\"outlinewidth\": 10, \"tickcolor\": \"rgb(36,36,36)\", \"ticklen\": 8, \"ticks\": \"outside\", \"tickwidth\": 2}}, \"type\": \"scatterpolargl\"}], \"scatterternary\": [{\"marker\": {\"colorbar\": {\"outlinewidth\": 10, \"tickcolor\": \"rgb(36,36,36)\", \"ticklen\": 8, \"ticks\": \"outside\", \"tickwidth\": 2}}, \"type\": \"scatterternary\"}], \"surface\": [{\"colorbar\": {\"outlinewidth\": 10, \"tickcolor\": \"rgb(36,36,36)\", \"ticklen\": 8, \"ticks\": \"outside\", \"tickwidth\": 2}, \"colorscale\": [[0.0, \"#440154\"], [0.1111111111111111, \"#482878\"], [0.2222222222222222, \"#3e4989\"], [0.3333333333333333, \"#31688e\"], [0.4444444444444444, \"#26828e\"], [0.5555555555555556, \"#1f9e89\"], [0.6666666666666666, \"#35b779\"], [0.7777777777777778, \"#6ece58\"], [0.8888888888888888, \"#b5de2b\"], [1.0, \"#fde725\"]], \"type\": \"surface\"}], \"table\": [{\"cells\": {\"fill\": {\"color\": \"rgb(237,237,237)\"}, \"line\": {\"color\": \"white\"}}, \"header\": {\"fill\": {\"color\": \"rgb(217,217,217)\"}, \"line\": {\"color\": \"white\"}}, \"type\": \"table\"}]}, \"layout\": {\"annotationdefaults\": {\"arrowhead\": 0, \"arrowwidth\": 1}, \"coloraxis\": {\"colorbar\": {\"outlinewidth\": 10, \"tickcolor\": \"rgb(36,36,36)\", \"ticklen\": 8, \"ticks\": \"outside\", \"tickwidth\": 2}}, \"colorscale\": {\"diverging\": [[0.0, \"rgb(103,0,31)\"], [0.1, \"rgb(178,24,43)\"], [0.2, \"rgb(214,96,77)\"], [0.3, \"rgb(244,165,130)\"], [0.4, \"rgb(253,219,199)\"], [0.5, \"rgb(247,247,247)\"], [0.6, \"rgb(209,229,240)\"], [0.7, \"rgb(146,197,222)\"], [0.8, \"rgb(67,147,195)\"], [0.9, \"rgb(33,102,172)\"], [1.0, \"rgb(5,48,97)\"]], \"sequential\": [[0.0, \"#440154\"], [0.1111111111111111, \"#482878\"], [0.2222222222222222, \"#3e4989\"], [0.3333333333333333, \"#31688e\"], [0.4444444444444444, \"#26828e\"], [0.5555555555555556, \"#1f9e89\"], [0.6666666666666666, \"#35b779\"], [0.7777777777777778, \"#6ece58\"], [0.8888888888888888, \"#b5de2b\"], [1.0, \"#fde725\"]], \"sequentialminus\": [[0.0, \"#440154\"], [0.1111111111111111, \"#482878\"], [0.2222222222222222, \"#3e4989\"], [0.3333333333333333, \"#31688e\"], [0.4444444444444444, \"#26828e\"], [0.5555555555555556, \"#1f9e89\"], [0.6666666666666666, \"#35b779\"], [0.7777777777777778, \"#6ece58\"], [0.8888888888888888, \"#b5de2b\"], [1.0, \"#fde725\"]]}, \"colorway\": [\"#1F77B4\", \"#FF7F0E\", \"#2CA02C\", \"#D62728\", \"#9467BD\", \"#8C564B\", \"#E377C2\", \"#7F7F7F\", \"#BCBD22\", \"#17BECF\"], \"font\": {\"color\": \"rgb(36,36,36)\"}, \"geo\": {\"bgcolor\": \"white\", \"lakecolor\": \"white\", \"landcolor\": \"white\", \"showlakes\": true, \"showland\": true, \"subunitcolor\": \"white\"}, \"hoverlabel\": {\"align\": \"left\"}, \"hovermode\": \"closest\", \"mapbox\": {\"style\": \"light\"}, \"paper_bgcolor\": \"white\", \"plot_bgcolor\": \"white\", \"polar\": {\"angularaxis\": {\"gridcolor\": \"rgb(232,232,232)\", \"linecolor\": \"rgb(36,36,36)\", \"showgrid\": false, \"showline\": true, \"ticks\": \"outside\"}, \"bgcolor\": \"white\", \"radialaxis\": {\"gridcolor\": \"rgb(232,232,232)\", \"linecolor\": \"rgb(36,36,36)\", \"showgrid\": false, \"showline\": true, \"ticks\": \"outside\"}}, \"scene\": {\"xaxis\": {\"backgroundcolor\": \"white\", \"gridcolor\": \"rgb(232,232,232)\", \"gridwidth\": 2, \"linecolor\": \"rgb(36,36,36)\", \"showbackground\": true, \"showgrid\": false, \"showline\": true, \"ticks\": \"outside\", \"zeroline\": false, \"zerolinecolor\": \"rgb(36,36,36)\"}, \"yaxis\": {\"backgroundcolor\": \"white\", \"gridcolor\": \"rgb(232,232,232)\", \"gridwidth\": 2, \"linecolor\": \"rgb(36,36,36)\", \"showbackground\": true, \"showgrid\": false, \"showline\": true, \"ticks\": \"outside\", \"zeroline\": false, \"zerolinecolor\": \"rgb(36,36,36)\"}, \"zaxis\": {\"backgroundcolor\": \"white\", \"gridcolor\": \"rgb(232,232,232)\", \"gridwidth\": 2, \"linecolor\": \"rgb(36,36,36)\", \"showbackground\": true, \"showgrid\": false, \"showline\": true, \"ticks\": \"outside\", \"zeroline\": false, \"zerolinecolor\": \"rgb(36,36,36)\"}}, \"shapedefaults\": {\"fillcolor\": \"black\", \"line\": {\"width\": 0}, \"opacity\": 0.3}, \"ternary\": {\"aaxis\": {\"gridcolor\": \"rgb(232,232,232)\", \"linecolor\": \"rgb(36,36,36)\", \"showgrid\": false, \"showline\": true, \"ticks\": \"outside\"}, \"baxis\": {\"gridcolor\": \"rgb(232,232,232)\", \"linecolor\": \"rgb(36,36,36)\", \"showgrid\": false, \"showline\": true, \"ticks\": \"outside\"}, \"bgcolor\": \"white\", \"caxis\": {\"gridcolor\": \"rgb(232,232,232)\", \"linecolor\": \"rgb(36,36,36)\", \"showgrid\": false, \"showline\": true, \"ticks\": \"outside\"}}, \"title\": {\"x\": 0.05}, \"xaxis\": {\"automargin\": true, \"gridcolor\": \"rgb(232,232,232)\", \"linecolor\": \"rgb(36,36,36)\", \"showgrid\": false, \"showline\": true, \"ticks\": \"outside\", \"title\": {\"standoff\": 15}, \"zeroline\": false, \"zerolinecolor\": \"rgb(36,36,36)\"}, \"yaxis\": {\"automargin\": true, \"gridcolor\": \"rgb(232,232,232)\", \"linecolor\": \"rgb(36,36,36)\", \"showgrid\": false, \"showline\": true, \"ticks\": \"outside\", \"title\": {\"standoff\": 15}, \"zeroline\": false, \"zerolinecolor\": \"rgb(36,36,36)\"}}}, \"title\": {\"text\": \"Volume in 2020\"}, \"width\": 1000, \"xaxis\": {\"title\": {\"text\": \"Date\"}}, \"yaxis\": {\"title\": {\"text\": \"Volume\"}}},\n",
              "                        {\"responsive\": true}\n",
              "                    ).then(function(){\n",
              "                            \n",
              "var gd = document.getElementById('dd19fed9-745f-4d1d-9f1c-caaca021e3ce');\n",
              "var x = new MutationObserver(function (mutations, observer) {{\n",
              "        var display = window.getComputedStyle(gd).display;\n",
              "        if (!display || display === 'none') {{\n",
              "            console.log([gd, 'removed!']);\n",
              "            Plotly.purge(gd);\n",
              "            observer.disconnect();\n",
              "        }}\n",
              "}});\n",
              "\n",
              "// Listen for the removal of the full notebook cells\n",
              "var notebookContainer = gd.closest('#notebook-container');\n",
              "if (notebookContainer) {{\n",
              "    x.observe(notebookContainer, {childList: true});\n",
              "}}\n",
              "\n",
              "// Listen for the clearing of the current output cell\n",
              "var outputEl = gd.closest('.output');\n",
              "if (outputEl) {{\n",
              "    x.observe(outputEl, {childList: true});\n",
              "}}\n",
              "\n",
              "                        })\n",
              "                };\n",
              "                \n",
              "            </script>\n",
              "        </div>\n",
              "</body>\n",
              "</html>"
            ]
          },
          "metadata": {}
        }
      ]
    },
    {
      "cell_type": "code",
      "source": [
        "df.loc[df[\"Year\"] == 2020].Date"
      ],
      "metadata": {
        "id": "D5wUQCpw50m2",
        "outputId": "68213ff6-c411-4fec-b77e-06c480580c53",
        "colab": {
          "base_uri": "https://localhost:8080/"
        }
      },
      "execution_count": 111,
      "outputs": [
        {
          "output_type": "execute_result",
          "data": {
            "text/plain": [
              "4974   2020-01-01\n",
              "4975   2020-01-02\n",
              "4976   2020-01-03\n",
              "4977   2020-01-06\n",
              "4978   2020-01-07\n",
              "          ...    \n",
              "5221   2020-12-24\n",
              "5222   2020-12-28\n",
              "5223   2020-12-29\n",
              "5224   2020-12-30\n",
              "5225   2020-12-31\n",
              "Name: Date, Length: 252, dtype: datetime64[ns]"
            ]
          },
          "metadata": {},
          "execution_count": 111
        }
      ]
    },
    {
      "cell_type": "code",
      "source": [
        "sns.lineplot(df, x=df.loc[df[\"Year\"] == 2020].Date, y=df.loc[df[\"Year\"] == 2020]['200_MA'])\n",
        "plt.show()"
      ],
      "metadata": {
        "id": "ch7yqVqd5ELi",
        "outputId": "9223156a-c328-4a10-b811-25178469812f",
        "colab": {
          "base_uri": "https://localhost:8080/",
          "height": 523
        }
      },
      "execution_count": 107,
      "outputs": [
        {
          "output_type": "stream",
          "name": "stderr",
          "text": [
            "/usr/local/lib/python3.7/dist-packages/seaborn/_decorators.py:43: FutureWarning:\n",
            "\n",
            "Pass the following variable as a keyword arg: x. From version 0.12, the only valid positional argument will be `data`, and passing other arguments without an explicit keyword will result in an error or misinterpretation.\n",
            "\n"
          ]
        },
        {
          "output_type": "error",
          "ename": "ValueError",
          "evalue": "ignored",
          "traceback": [
            "\u001b[0;31m---------------------------------------------------------------------------\u001b[0m",
            "\u001b[0;31mValueError\u001b[0m                                Traceback (most recent call last)",
            "\u001b[0;32m/usr/local/lib/python3.7/dist-packages/pandas/core/internals/managers.py\u001b[0m in \u001b[0;36mcreate_block_manager_from_arrays\u001b[0;34m(arrays, names, axes)\u001b[0m\n\u001b[1;32m   1692\u001b[0m         \u001b[0mblocks\u001b[0m \u001b[0;34m=\u001b[0m \u001b[0mform_blocks\u001b[0m\u001b[0;34m(\u001b[0m\u001b[0marrays\u001b[0m\u001b[0;34m,\u001b[0m \u001b[0mnames\u001b[0m\u001b[0;34m,\u001b[0m \u001b[0maxes\u001b[0m\u001b[0;34m)\u001b[0m\u001b[0;34m\u001b[0m\u001b[0;34m\u001b[0m\u001b[0m\n\u001b[0;32m-> 1693\u001b[0;31m         \u001b[0mmgr\u001b[0m \u001b[0;34m=\u001b[0m \u001b[0mBlockManager\u001b[0m\u001b[0;34m(\u001b[0m\u001b[0mblocks\u001b[0m\u001b[0;34m,\u001b[0m \u001b[0maxes\u001b[0m\u001b[0;34m)\u001b[0m\u001b[0;34m\u001b[0m\u001b[0;34m\u001b[0m\u001b[0m\n\u001b[0m\u001b[1;32m   1694\u001b[0m         \u001b[0mmgr\u001b[0m\u001b[0;34m.\u001b[0m\u001b[0m_consolidate_inplace\u001b[0m\u001b[0;34m(\u001b[0m\u001b[0;34m)\u001b[0m\u001b[0;34m\u001b[0m\u001b[0;34m\u001b[0m\u001b[0m\n",
            "\u001b[0;32m/usr/local/lib/python3.7/dist-packages/pandas/core/internals/managers.py\u001b[0m in \u001b[0;36m__init__\u001b[0;34m(self, blocks, axes, do_integrity_check)\u001b[0m\n\u001b[1;32m    148\u001b[0m         \u001b[0;32mif\u001b[0m \u001b[0mdo_integrity_check\u001b[0m\u001b[0;34m:\u001b[0m\u001b[0;34m\u001b[0m\u001b[0;34m\u001b[0m\u001b[0m\n\u001b[0;32m--> 149\u001b[0;31m             \u001b[0mself\u001b[0m\u001b[0;34m.\u001b[0m\u001b[0m_verify_integrity\u001b[0m\u001b[0;34m(\u001b[0m\u001b[0;34m)\u001b[0m\u001b[0;34m\u001b[0m\u001b[0;34m\u001b[0m\u001b[0m\n\u001b[0m\u001b[1;32m    150\u001b[0m \u001b[0;34m\u001b[0m\u001b[0m\n",
            "\u001b[0;32m/usr/local/lib/python3.7/dist-packages/pandas/core/internals/managers.py\u001b[0m in \u001b[0;36m_verify_integrity\u001b[0;34m(self)\u001b[0m\n\u001b[1;32m    328\u001b[0m             \u001b[0;32mif\u001b[0m \u001b[0mblock\u001b[0m\u001b[0;34m.\u001b[0m\u001b[0mshape\u001b[0m\u001b[0;34m[\u001b[0m\u001b[0;36m1\u001b[0m\u001b[0;34m:\u001b[0m\u001b[0;34m]\u001b[0m \u001b[0;34m!=\u001b[0m \u001b[0mmgr_shape\u001b[0m\u001b[0;34m[\u001b[0m\u001b[0;36m1\u001b[0m\u001b[0;34m:\u001b[0m\u001b[0;34m]\u001b[0m\u001b[0;34m:\u001b[0m\u001b[0;34m\u001b[0m\u001b[0;34m\u001b[0m\u001b[0m\n\u001b[0;32m--> 329\u001b[0;31m                 \u001b[0;32mraise\u001b[0m \u001b[0mconstruction_error\u001b[0m\u001b[0;34m(\u001b[0m\u001b[0mtot_items\u001b[0m\u001b[0;34m,\u001b[0m \u001b[0mblock\u001b[0m\u001b[0;34m.\u001b[0m\u001b[0mshape\u001b[0m\u001b[0;34m[\u001b[0m\u001b[0;36m1\u001b[0m\u001b[0;34m:\u001b[0m\u001b[0;34m]\u001b[0m\u001b[0;34m,\u001b[0m \u001b[0mself\u001b[0m\u001b[0;34m.\u001b[0m\u001b[0maxes\u001b[0m\u001b[0;34m)\u001b[0m\u001b[0;34m\u001b[0m\u001b[0;34m\u001b[0m\u001b[0m\n\u001b[0m\u001b[1;32m    330\u001b[0m         \u001b[0;32mif\u001b[0m \u001b[0mlen\u001b[0m\u001b[0;34m(\u001b[0m\u001b[0mself\u001b[0m\u001b[0;34m.\u001b[0m\u001b[0mitems\u001b[0m\u001b[0;34m)\u001b[0m \u001b[0;34m!=\u001b[0m \u001b[0mtot_items\u001b[0m\u001b[0;34m:\u001b[0m\u001b[0;34m\u001b[0m\u001b[0;34m\u001b[0m\u001b[0m\n",
            "\u001b[0;31mValueError\u001b[0m: Shape of passed values is (19, 2), indices imply (252, 2)",
            "\nDuring handling of the above exception, another exception occurred:\n",
            "\u001b[0;31mValueError\u001b[0m                                Traceback (most recent call last)",
            "\u001b[0;32m<ipython-input-107-fed4032cdd79>\u001b[0m in \u001b[0;36m<module>\u001b[0;34m()\u001b[0m\n\u001b[0;32m----> 1\u001b[0;31m \u001b[0msns\u001b[0m\u001b[0;34m.\u001b[0m\u001b[0mlineplot\u001b[0m\u001b[0;34m(\u001b[0m\u001b[0mdf\u001b[0m\u001b[0;34m,\u001b[0m \u001b[0mx\u001b[0m\u001b[0;34m=\u001b[0m\u001b[0mdf\u001b[0m\u001b[0;34m.\u001b[0m\u001b[0mloc\u001b[0m\u001b[0;34m[\u001b[0m\u001b[0mdf\u001b[0m\u001b[0;34m[\u001b[0m\u001b[0;34m\"Year\"\u001b[0m\u001b[0;34m]\u001b[0m \u001b[0;34m==\u001b[0m \u001b[0;36m2020\u001b[0m\u001b[0;34m]\u001b[0m\u001b[0;34m.\u001b[0m\u001b[0mDate\u001b[0m\u001b[0;34m,\u001b[0m\u001b[0my\u001b[0m\u001b[0;34m=\u001b[0m\u001b[0mdf\u001b[0m\u001b[0;34m.\u001b[0m\u001b[0mloc\u001b[0m\u001b[0;34m[\u001b[0m\u001b[0mdf\u001b[0m\u001b[0;34m[\u001b[0m\u001b[0;34m\"Year\"\u001b[0m\u001b[0;34m]\u001b[0m \u001b[0;34m==\u001b[0m \u001b[0;36m2020\u001b[0m\u001b[0;34m]\u001b[0m\u001b[0;34m[\u001b[0m\u001b[0;34m'200_MA'\u001b[0m\u001b[0;34m]\u001b[0m\u001b[0;34m)\u001b[0m\u001b[0;34m\u001b[0m\u001b[0;34m\u001b[0m\u001b[0m\n\u001b[0m\u001b[1;32m      2\u001b[0m \u001b[0mplt\u001b[0m\u001b[0;34m.\u001b[0m\u001b[0mshow\u001b[0m\u001b[0;34m(\u001b[0m\u001b[0;34m)\u001b[0m\u001b[0;34m\u001b[0m\u001b[0;34m\u001b[0m\u001b[0m\n",
            "\u001b[0;32m/usr/local/lib/python3.7/dist-packages/seaborn/_decorators.py\u001b[0m in \u001b[0;36minner_f\u001b[0;34m(*args, **kwargs)\u001b[0m\n\u001b[1;32m     44\u001b[0m             )\n\u001b[1;32m     45\u001b[0m         \u001b[0mkwargs\u001b[0m\u001b[0;34m.\u001b[0m\u001b[0mupdate\u001b[0m\u001b[0;34m(\u001b[0m\u001b[0;34m{\u001b[0m\u001b[0mk\u001b[0m\u001b[0;34m:\u001b[0m \u001b[0marg\u001b[0m \u001b[0;32mfor\u001b[0m \u001b[0mk\u001b[0m\u001b[0;34m,\u001b[0m \u001b[0marg\u001b[0m \u001b[0;32min\u001b[0m \u001b[0mzip\u001b[0m\u001b[0;34m(\u001b[0m\u001b[0msig\u001b[0m\u001b[0;34m.\u001b[0m\u001b[0mparameters\u001b[0m\u001b[0;34m,\u001b[0m \u001b[0margs\u001b[0m\u001b[0;34m)\u001b[0m\u001b[0;34m}\u001b[0m\u001b[0;34m)\u001b[0m\u001b[0;34m\u001b[0m\u001b[0;34m\u001b[0m\u001b[0m\n\u001b[0;32m---> 46\u001b[0;31m         \u001b[0;32mreturn\u001b[0m \u001b[0mf\u001b[0m\u001b[0;34m(\u001b[0m\u001b[0;34m**\u001b[0m\u001b[0mkwargs\u001b[0m\u001b[0;34m)\u001b[0m\u001b[0;34m\u001b[0m\u001b[0;34m\u001b[0m\u001b[0m\n\u001b[0m\u001b[1;32m     47\u001b[0m     \u001b[0;32mreturn\u001b[0m \u001b[0minner_f\u001b[0m\u001b[0;34m\u001b[0m\u001b[0;34m\u001b[0m\u001b[0m\n\u001b[1;32m     48\u001b[0m \u001b[0;34m\u001b[0m\u001b[0m\n",
            "\u001b[0;32m/usr/local/lib/python3.7/dist-packages/seaborn/relational.py\u001b[0m in \u001b[0;36mlineplot\u001b[0;34m(x, y, hue, size, style, data, palette, hue_order, hue_norm, sizes, size_order, size_norm, dashes, markers, style_order, units, estimator, ci, n_boot, seed, sort, err_style, err_kws, legend, ax, **kwargs)\u001b[0m\n\u001b[1;32m    693\u001b[0m         \u001b[0mdata\u001b[0m\u001b[0;34m=\u001b[0m\u001b[0mdata\u001b[0m\u001b[0;34m,\u001b[0m \u001b[0mvariables\u001b[0m\u001b[0;34m=\u001b[0m\u001b[0mvariables\u001b[0m\u001b[0;34m,\u001b[0m\u001b[0;34m\u001b[0m\u001b[0;34m\u001b[0m\u001b[0m\n\u001b[1;32m    694\u001b[0m         \u001b[0mestimator\u001b[0m\u001b[0;34m=\u001b[0m\u001b[0mestimator\u001b[0m\u001b[0;34m,\u001b[0m \u001b[0mci\u001b[0m\u001b[0;34m=\u001b[0m\u001b[0mci\u001b[0m\u001b[0;34m,\u001b[0m \u001b[0mn_boot\u001b[0m\u001b[0;34m=\u001b[0m\u001b[0mn_boot\u001b[0m\u001b[0;34m,\u001b[0m \u001b[0mseed\u001b[0m\u001b[0;34m=\u001b[0m\u001b[0mseed\u001b[0m\u001b[0;34m,\u001b[0m\u001b[0;34m\u001b[0m\u001b[0;34m\u001b[0m\u001b[0m\n\u001b[0;32m--> 695\u001b[0;31m         \u001b[0msort\u001b[0m\u001b[0;34m=\u001b[0m\u001b[0msort\u001b[0m\u001b[0;34m,\u001b[0m \u001b[0merr_style\u001b[0m\u001b[0;34m=\u001b[0m\u001b[0merr_style\u001b[0m\u001b[0;34m,\u001b[0m \u001b[0merr_kws\u001b[0m\u001b[0;34m=\u001b[0m\u001b[0merr_kws\u001b[0m\u001b[0;34m,\u001b[0m \u001b[0mlegend\u001b[0m\u001b[0;34m=\u001b[0m\u001b[0mlegend\u001b[0m\u001b[0;34m,\u001b[0m\u001b[0;34m\u001b[0m\u001b[0;34m\u001b[0m\u001b[0m\n\u001b[0m\u001b[1;32m    696\u001b[0m     )\n\u001b[1;32m    697\u001b[0m \u001b[0;34m\u001b[0m\u001b[0m\n",
            "\u001b[0;32m/usr/local/lib/python3.7/dist-packages/seaborn/relational.py\u001b[0m in \u001b[0;36m__init__\u001b[0;34m(self, data, variables, estimator, ci, n_boot, seed, sort, err_style, err_kws, legend)\u001b[0m\n\u001b[1;32m    365\u001b[0m         )\n\u001b[1;32m    366\u001b[0m \u001b[0;34m\u001b[0m\u001b[0m\n\u001b[0;32m--> 367\u001b[0;31m         \u001b[0msuper\u001b[0m\u001b[0;34m(\u001b[0m\u001b[0;34m)\u001b[0m\u001b[0;34m.\u001b[0m\u001b[0m__init__\u001b[0m\u001b[0;34m(\u001b[0m\u001b[0mdata\u001b[0m\u001b[0;34m=\u001b[0m\u001b[0mdata\u001b[0m\u001b[0;34m,\u001b[0m \u001b[0mvariables\u001b[0m\u001b[0;34m=\u001b[0m\u001b[0mvariables\u001b[0m\u001b[0;34m)\u001b[0m\u001b[0;34m\u001b[0m\u001b[0;34m\u001b[0m\u001b[0m\n\u001b[0m\u001b[1;32m    368\u001b[0m \u001b[0;34m\u001b[0m\u001b[0m\n\u001b[1;32m    369\u001b[0m         \u001b[0mself\u001b[0m\u001b[0;34m.\u001b[0m\u001b[0mestimator\u001b[0m \u001b[0;34m=\u001b[0m \u001b[0mestimator\u001b[0m\u001b[0;34m\u001b[0m\u001b[0;34m\u001b[0m\u001b[0m\n",
            "\u001b[0;32m/usr/local/lib/python3.7/dist-packages/seaborn/_core.py\u001b[0m in \u001b[0;36m__init__\u001b[0;34m(self, data, variables)\u001b[0m\n\u001b[1;32m    603\u001b[0m     \u001b[0;32mdef\u001b[0m \u001b[0m__init__\u001b[0m\u001b[0;34m(\u001b[0m\u001b[0mself\u001b[0m\u001b[0;34m,\u001b[0m \u001b[0mdata\u001b[0m\u001b[0;34m=\u001b[0m\u001b[0;32mNone\u001b[0m\u001b[0;34m,\u001b[0m \u001b[0mvariables\u001b[0m\u001b[0;34m=\u001b[0m\u001b[0;34m{\u001b[0m\u001b[0;34m}\u001b[0m\u001b[0;34m)\u001b[0m\u001b[0;34m:\u001b[0m\u001b[0;34m\u001b[0m\u001b[0;34m\u001b[0m\u001b[0m\n\u001b[1;32m    604\u001b[0m \u001b[0;34m\u001b[0m\u001b[0m\n\u001b[0;32m--> 605\u001b[0;31m         \u001b[0mself\u001b[0m\u001b[0;34m.\u001b[0m\u001b[0massign_variables\u001b[0m\u001b[0;34m(\u001b[0m\u001b[0mdata\u001b[0m\u001b[0;34m,\u001b[0m \u001b[0mvariables\u001b[0m\u001b[0;34m)\u001b[0m\u001b[0;34m\u001b[0m\u001b[0;34m\u001b[0m\u001b[0m\n\u001b[0m\u001b[1;32m    606\u001b[0m \u001b[0;34m\u001b[0m\u001b[0m\n\u001b[1;32m    607\u001b[0m         \u001b[0;32mfor\u001b[0m \u001b[0mvar\u001b[0m\u001b[0;34m,\u001b[0m \u001b[0mcls\u001b[0m \u001b[0;32min\u001b[0m \u001b[0mself\u001b[0m\u001b[0;34m.\u001b[0m\u001b[0m_semantic_mappings\u001b[0m\u001b[0;34m.\u001b[0m\u001b[0mitems\u001b[0m\u001b[0;34m(\u001b[0m\u001b[0;34m)\u001b[0m\u001b[0;34m:\u001b[0m\u001b[0;34m\u001b[0m\u001b[0;34m\u001b[0m\u001b[0m\n",
            "\u001b[0;32m/usr/local/lib/python3.7/dist-packages/seaborn/_core.py\u001b[0m in \u001b[0;36massign_variables\u001b[0;34m(self, data, variables)\u001b[0m\n\u001b[1;32m    667\u001b[0m             \u001b[0mself\u001b[0m\u001b[0;34m.\u001b[0m\u001b[0minput_format\u001b[0m \u001b[0;34m=\u001b[0m \u001b[0;34m\"long\"\u001b[0m\u001b[0;34m\u001b[0m\u001b[0;34m\u001b[0m\u001b[0m\n\u001b[1;32m    668\u001b[0m             plot_data, variables = self._assign_variables_longform(\n\u001b[0;32m--> 669\u001b[0;31m                 \u001b[0mdata\u001b[0m\u001b[0;34m,\u001b[0m \u001b[0;34m**\u001b[0m\u001b[0mvariables\u001b[0m\u001b[0;34m,\u001b[0m\u001b[0;34m\u001b[0m\u001b[0;34m\u001b[0m\u001b[0m\n\u001b[0m\u001b[1;32m    670\u001b[0m             )\n\u001b[1;32m    671\u001b[0m \u001b[0;34m\u001b[0m\u001b[0m\n",
            "\u001b[0;32m/usr/local/lib/python3.7/dist-packages/seaborn/_core.py\u001b[0m in \u001b[0;36m_assign_variables_longform\u001b[0;34m(self, data, **kwargs)\u001b[0m\n\u001b[1;32m    925\u001b[0m         \u001b[0;31m# Construct a tidy plot DataFrame. This will convert a number of\u001b[0m\u001b[0;34m\u001b[0m\u001b[0;34m\u001b[0m\u001b[0;34m\u001b[0m\u001b[0m\n\u001b[1;32m    926\u001b[0m         \u001b[0;31m# types automatically, aligning on index in case of pandas objects\u001b[0m\u001b[0;34m\u001b[0m\u001b[0;34m\u001b[0m\u001b[0;34m\u001b[0m\u001b[0m\n\u001b[0;32m--> 927\u001b[0;31m         \u001b[0mplot_data\u001b[0m \u001b[0;34m=\u001b[0m \u001b[0mpd\u001b[0m\u001b[0;34m.\u001b[0m\u001b[0mDataFrame\u001b[0m\u001b[0;34m(\u001b[0m\u001b[0mplot_data\u001b[0m\u001b[0;34m)\u001b[0m\u001b[0;34m\u001b[0m\u001b[0;34m\u001b[0m\u001b[0m\n\u001b[0m\u001b[1;32m    928\u001b[0m \u001b[0;34m\u001b[0m\u001b[0m\n\u001b[1;32m    929\u001b[0m         \u001b[0;31m# Reduce the variables dictionary to fields with valid data\u001b[0m\u001b[0;34m\u001b[0m\u001b[0;34m\u001b[0m\u001b[0;34m\u001b[0m\u001b[0m\n",
            "\u001b[0;32m/usr/local/lib/python3.7/dist-packages/pandas/core/frame.py\u001b[0m in \u001b[0;36m__init__\u001b[0;34m(self, data, index, columns, dtype, copy)\u001b[0m\n\u001b[1;32m    466\u001b[0m \u001b[0;34m\u001b[0m\u001b[0m\n\u001b[1;32m    467\u001b[0m         \u001b[0;32melif\u001b[0m \u001b[0misinstance\u001b[0m\u001b[0;34m(\u001b[0m\u001b[0mdata\u001b[0m\u001b[0;34m,\u001b[0m \u001b[0mdict\u001b[0m\u001b[0;34m)\u001b[0m\u001b[0;34m:\u001b[0m\u001b[0;34m\u001b[0m\u001b[0;34m\u001b[0m\u001b[0m\n\u001b[0;32m--> 468\u001b[0;31m             \u001b[0mmgr\u001b[0m \u001b[0;34m=\u001b[0m \u001b[0minit_dict\u001b[0m\u001b[0;34m(\u001b[0m\u001b[0mdata\u001b[0m\u001b[0;34m,\u001b[0m \u001b[0mindex\u001b[0m\u001b[0;34m,\u001b[0m \u001b[0mcolumns\u001b[0m\u001b[0;34m,\u001b[0m \u001b[0mdtype\u001b[0m\u001b[0;34m=\u001b[0m\u001b[0mdtype\u001b[0m\u001b[0;34m)\u001b[0m\u001b[0;34m\u001b[0m\u001b[0;34m\u001b[0m\u001b[0m\n\u001b[0m\u001b[1;32m    469\u001b[0m         \u001b[0;32melif\u001b[0m \u001b[0misinstance\u001b[0m\u001b[0;34m(\u001b[0m\u001b[0mdata\u001b[0m\u001b[0;34m,\u001b[0m \u001b[0mma\u001b[0m\u001b[0;34m.\u001b[0m\u001b[0mMaskedArray\u001b[0m\u001b[0;34m)\u001b[0m\u001b[0;34m:\u001b[0m\u001b[0;34m\u001b[0m\u001b[0;34m\u001b[0m\u001b[0m\n\u001b[1;32m    470\u001b[0m             \u001b[0;32mimport\u001b[0m \u001b[0mnumpy\u001b[0m\u001b[0;34m.\u001b[0m\u001b[0mma\u001b[0m\u001b[0;34m.\u001b[0m\u001b[0mmrecords\u001b[0m \u001b[0;32mas\u001b[0m \u001b[0mmrecords\u001b[0m\u001b[0;34m\u001b[0m\u001b[0;34m\u001b[0m\u001b[0m\n",
            "\u001b[0;32m/usr/local/lib/python3.7/dist-packages/pandas/core/internals/construction.py\u001b[0m in \u001b[0;36minit_dict\u001b[0;34m(data, index, columns, dtype)\u001b[0m\n\u001b[1;32m    281\u001b[0m             \u001b[0marr\u001b[0m \u001b[0;32mif\u001b[0m \u001b[0;32mnot\u001b[0m \u001b[0mis_datetime64tz_dtype\u001b[0m\u001b[0;34m(\u001b[0m\u001b[0marr\u001b[0m\u001b[0;34m)\u001b[0m \u001b[0;32melse\u001b[0m \u001b[0marr\u001b[0m\u001b[0;34m.\u001b[0m\u001b[0mcopy\u001b[0m\u001b[0;34m(\u001b[0m\u001b[0;34m)\u001b[0m \u001b[0;32mfor\u001b[0m \u001b[0marr\u001b[0m \u001b[0;32min\u001b[0m \u001b[0marrays\u001b[0m\u001b[0;34m\u001b[0m\u001b[0;34m\u001b[0m\u001b[0m\n\u001b[1;32m    282\u001b[0m         ]\n\u001b[0;32m--> 283\u001b[0;31m     \u001b[0;32mreturn\u001b[0m \u001b[0marrays_to_mgr\u001b[0m\u001b[0;34m(\u001b[0m\u001b[0marrays\u001b[0m\u001b[0;34m,\u001b[0m \u001b[0mdata_names\u001b[0m\u001b[0;34m,\u001b[0m \u001b[0mindex\u001b[0m\u001b[0;34m,\u001b[0m \u001b[0mcolumns\u001b[0m\u001b[0;34m,\u001b[0m \u001b[0mdtype\u001b[0m\u001b[0;34m=\u001b[0m\u001b[0mdtype\u001b[0m\u001b[0;34m)\u001b[0m\u001b[0;34m\u001b[0m\u001b[0;34m\u001b[0m\u001b[0m\n\u001b[0m\u001b[1;32m    284\u001b[0m \u001b[0;34m\u001b[0m\u001b[0m\n\u001b[1;32m    285\u001b[0m \u001b[0;34m\u001b[0m\u001b[0m\n",
            "\u001b[0;32m/usr/local/lib/python3.7/dist-packages/pandas/core/internals/construction.py\u001b[0m in \u001b[0;36marrays_to_mgr\u001b[0;34m(arrays, arr_names, index, columns, dtype, verify_integrity)\u001b[0m\n\u001b[1;32m     91\u001b[0m     \u001b[0maxes\u001b[0m \u001b[0;34m=\u001b[0m \u001b[0;34m[\u001b[0m\u001b[0mcolumns\u001b[0m\u001b[0;34m,\u001b[0m \u001b[0mindex\u001b[0m\u001b[0;34m]\u001b[0m\u001b[0;34m\u001b[0m\u001b[0;34m\u001b[0m\u001b[0m\n\u001b[1;32m     92\u001b[0m \u001b[0;34m\u001b[0m\u001b[0m\n\u001b[0;32m---> 93\u001b[0;31m     \u001b[0;32mreturn\u001b[0m \u001b[0mcreate_block_manager_from_arrays\u001b[0m\u001b[0;34m(\u001b[0m\u001b[0marrays\u001b[0m\u001b[0;34m,\u001b[0m \u001b[0marr_names\u001b[0m\u001b[0;34m,\u001b[0m \u001b[0maxes\u001b[0m\u001b[0;34m)\u001b[0m\u001b[0;34m\u001b[0m\u001b[0;34m\u001b[0m\u001b[0m\n\u001b[0m\u001b[1;32m     94\u001b[0m \u001b[0;34m\u001b[0m\u001b[0m\n\u001b[1;32m     95\u001b[0m \u001b[0;34m\u001b[0m\u001b[0m\n",
            "\u001b[0;32m/usr/local/lib/python3.7/dist-packages/pandas/core/internals/managers.py\u001b[0m in \u001b[0;36mcreate_block_manager_from_arrays\u001b[0;34m(arrays, names, axes)\u001b[0m\n\u001b[1;32m   1695\u001b[0m         \u001b[0;32mreturn\u001b[0m \u001b[0mmgr\u001b[0m\u001b[0;34m\u001b[0m\u001b[0;34m\u001b[0m\u001b[0m\n\u001b[1;32m   1696\u001b[0m     \u001b[0;32mexcept\u001b[0m \u001b[0mValueError\u001b[0m \u001b[0;32mas\u001b[0m \u001b[0me\u001b[0m\u001b[0;34m:\u001b[0m\u001b[0;34m\u001b[0m\u001b[0;34m\u001b[0m\u001b[0m\n\u001b[0;32m-> 1697\u001b[0;31m         \u001b[0;32mraise\u001b[0m \u001b[0mconstruction_error\u001b[0m\u001b[0;34m(\u001b[0m\u001b[0mlen\u001b[0m\u001b[0;34m(\u001b[0m\u001b[0marrays\u001b[0m\u001b[0;34m)\u001b[0m\u001b[0;34m,\u001b[0m \u001b[0marrays\u001b[0m\u001b[0;34m[\u001b[0m\u001b[0;36m0\u001b[0m\u001b[0;34m]\u001b[0m\u001b[0;34m.\u001b[0m\u001b[0mshape\u001b[0m\u001b[0;34m,\u001b[0m \u001b[0maxes\u001b[0m\u001b[0;34m,\u001b[0m \u001b[0me\u001b[0m\u001b[0;34m)\u001b[0m\u001b[0;34m\u001b[0m\u001b[0;34m\u001b[0m\u001b[0m\n\u001b[0m\u001b[1;32m   1698\u001b[0m \u001b[0;34m\u001b[0m\u001b[0m\n\u001b[1;32m   1699\u001b[0m \u001b[0;34m\u001b[0m\u001b[0m\n",
            "\u001b[0;31mValueError\u001b[0m: Shape of passed values is (19, 2), indices imply (252, 2)"
          ]
        }
      ]
    },
    {
      "cell_type": "code",
      "source": [
        "sns.kdeplot(df['VWAP'],shade=True)"
      ],
      "metadata": {
        "colab": {
          "base_uri": "https://localhost:8080/",
          "height": 351
        },
        "id": "VFrPTazeZR-q",
        "outputId": "3c3a29b7-3281-4269-c306-c6c334934b9f"
      },
      "execution_count": 16,
      "outputs": [
        {
          "output_type": "execute_result",
          "data": {
            "text/plain": [
              "<matplotlib.axes._subplots.AxesSubplot at 0x7fdb5848e490>"
            ]
          },
          "metadata": {},
          "execution_count": 16
        },
        {
          "output_type": "display_data",
          "data": {
            "image/png": "[encoded data removed]",
            "text/plain": [
              "<Figure size 1440x360 with 1 Axes>"
            ]
          },
          "metadata": {
            "needs_background": "light"
          }
        }
      ]
    },
    {
      "cell_type": "markdown",
      "source": [
        "# 4: Covid Period and Recovery <a name=\"4\"></a>\n",
        "\n",
        "\n",
        "---\n",
        "<a href=\"#top\" class=\"btn btn-primary btn-sm\" role=\"button\" aria-pressed=\"true\" style=\"color:white\" data-toggle=\"popover\">Go to TOC</a> "
      ],
      "metadata": {
        "id": "CRKr-H4djiEf"
      }
    },
    {
      "cell_type": "markdown",
      "source": [
        "# 5: Stationary Conversion <a name=\"5\"></a>\n",
        "\n",
        "\n",
        "---\n",
        "<a href=\"#top\" class=\"btn btn-primary btn-sm\" role=\"button\" aria-pressed=\"true\" style=\"color:white\" data-toggle=\"popover\">Go to TOC</a> "
      ],
      "metadata": {
        "id": "kUsMM0c5jh7h"
      }
    },
    {
      "cell_type": "markdown",
      "source": [
        "# 6: Implemneting XGBoost <a name=\"6\"></a>\n",
        "\n",
        "\n",
        "---\n",
        "<a href=\"#top\" class=\"btn btn-primary btn-sm\" role=\"button\" aria-pressed=\"true\" style=\"color:white\" data-toggle=\"popover\">Go to TOC</a> "
      ],
      "metadata": {
        "id": "u30lzcM4jh22"
      }
    },
    {
      "cell_type": "markdown",
      "source": [
        "# 7: Hyperparameter Tuning - XGBoost <a name=\"7\"></a>\n",
        "\n",
        "\n",
        "---\n",
        "<a href=\"#top\" class=\"btn btn-primary btn-sm\" role=\"button\" aria-pressed=\"true\" style=\"color:white\" data-toggle=\"popover\">Go to TOC</a> "
      ],
      "metadata": {
        "id": "28optySnjhyU"
      }
    },
    {
      "cell_type": "markdown",
      "source": [
        "# 8: Auto Corelation <a name=\"8\"></a>\n",
        "\n",
        "\n",
        "---\n",
        "<a href=\"#top\" class=\"btn btn-primary btn-sm\" role=\"button\" aria-pressed=\"true\" style=\"color:white\" data-toggle=\"popover\">Go to TOC</a> "
      ],
      "metadata": {
        "id": "gBzasCQojhue"
      }
    },
    {
      "cell_type": "code",
      "source": [
        "kaggle_url = 'https://www.kaggle.com/rohanrao/nifty50-stock-market-data?select=TITAN.csv'\n",
        "od.download(kaggle_url)"
      ],
      "metadata": {
        "colab": {
          "base_uri": "https://localhost:8080/"
        },
        "id": "9bufadF04Jfe",
        "outputId": "b886e9ba-09c9-4d4f-a05f-0f475ebd9751"
      },
      "execution_count": 17,
      "outputs": [
        {
          "output_type": "stream",
          "name": "stdout",
          "text": [
            "Skipping, found downloaded files in \"./nifty50-stock-market-data\" (use force=True to force download)\n"
          ]
        }
      ]
    },
    {
      "cell_type": "code",
      "source": [
        "file_path = '/content/nifty50-stock-market-data/TITAN.csv'\n",
        "df = pd.read_csv(file_path)\n",
        "\n",
        "df.head()"
      ],
      "metadata": {
        "colab": {
          "base_uri": "https://localhost:8080/",
          "height": 206
        },
        "id": "BY9hWOEV4wb4",
        "outputId": "f4f3e107-8d97-4979-e58f-27c9b3cfbc7f"
      },
      "execution_count": 18,
      "outputs": [
        {
          "output_type": "execute_result",
          "data": {
            "text/html": [
              "\n",
              "  <div id=\"df-91a804a1-59bb-43ca-a767-78f1117df44e\">\n",
              "    <div class=\"colab-df-container\">\n",
              "      <div>\n",
              "<style scoped>\n",
              "    .dataframe tbody tr th:only-of-type {\n",
              "        vertical-align: middle;\n",
              "    }\n",
              "\n",
              "    .dataframe tbody tr th {\n",
              "        vertical-align: top;\n",
              "    }\n",
              "\n",
              "    .dataframe thead th {\n",
              "        text-align: right;\n",
              "    }\n",
              "</style>\n",
              "<table border=\"1\" class=\"dataframe\">\n",
              "  <thead>\n",
              "    <tr style=\"text-align: right;\">\n",
              "      <th></th>\n",
              "      <th>Date</th>\n",
              "      <th>Symbol</th>\n",
              "      <th>Series</th>\n",
              "      <th>Prev Close</th>\n",
              "      <th>Open</th>\n",
              "      <th>High</th>\n",
              "      <th>Low</th>\n",
              "      <th>Last</th>\n",
              "      <th>Close</th>\n",
              "      <th>VWAP</th>\n",
              "      <th>Volume</th>\n",
              "      <th>Turnover</th>\n",
              "      <th>Trades</th>\n",
              "      <th>Deliverable Volume</th>\n",
              "      <th>%Deliverble</th>\n",
              "    </tr>\n",
              "  </thead>\n",
              "  <tbody>\n",
              "    <tr>\n",
              "      <th>0</th>\n",
              "      <td>2000-01-03</td>\n",
              "      <td>TITAN</td>\n",
              "      <td>EQ</td>\n",
              "      <td>144.95</td>\n",
              "      <td>146.0</td>\n",
              "      <td>156.45</td>\n",
              "      <td>146.0</td>\n",
              "      <td>155.00</td>\n",
              "      <td>155.70</td>\n",
              "      <td>154.36</td>\n",
              "      <td>23000</td>\n",
              "      <td>3.550370e+11</td>\n",
              "      <td>NaN</td>\n",
              "      <td>NaN</td>\n",
              "      <td>NaN</td>\n",
              "    </tr>\n",
              "    <tr>\n",
              "      <th>1</th>\n",
              "      <td>2000-01-04</td>\n",
              "      <td>TITAN</td>\n",
              "      <td>EQ</td>\n",
              "      <td>155.70</td>\n",
              "      <td>152.0</td>\n",
              "      <td>152.00</td>\n",
              "      <td>144.0</td>\n",
              "      <td>148.05</td>\n",
              "      <td>147.40</td>\n",
              "      <td>146.72</td>\n",
              "      <td>26300</td>\n",
              "      <td>3.858700e+11</td>\n",
              "      <td>NaN</td>\n",
              "      <td>NaN</td>\n",
              "      <td>NaN</td>\n",
              "    </tr>\n",
              "    <tr>\n",
              "      <th>2</th>\n",
              "      <td>2000-01-05</td>\n",
              "      <td>TITAN</td>\n",
              "      <td>EQ</td>\n",
              "      <td>147.40</td>\n",
              "      <td>144.0</td>\n",
              "      <td>148.80</td>\n",
              "      <td>136.0</td>\n",
              "      <td>139.95</td>\n",
              "      <td>138.40</td>\n",
              "      <td>142.95</td>\n",
              "      <td>20600</td>\n",
              "      <td>2.944850e+11</td>\n",
              "      <td>NaN</td>\n",
              "      <td>NaN</td>\n",
              "      <td>NaN</td>\n",
              "    </tr>\n",
              "    <tr>\n",
              "      <th>3</th>\n",
              "      <td>2000-01-06</td>\n",
              "      <td>TITAN</td>\n",
              "      <td>EQ</td>\n",
              "      <td>138.40</td>\n",
              "      <td>142.0</td>\n",
              "      <td>149.50</td>\n",
              "      <td>141.0</td>\n",
              "      <td>149.50</td>\n",
              "      <td>149.50</td>\n",
              "      <td>147.87</td>\n",
              "      <td>31600</td>\n",
              "      <td>4.672750e+11</td>\n",
              "      <td>NaN</td>\n",
              "      <td>NaN</td>\n",
              "      <td>NaN</td>\n",
              "    </tr>\n",
              "    <tr>\n",
              "      <th>4</th>\n",
              "      <td>2000-01-07</td>\n",
              "      <td>TITAN</td>\n",
              "      <td>EQ</td>\n",
              "      <td>149.50</td>\n",
              "      <td>149.5</td>\n",
              "      <td>153.00</td>\n",
              "      <td>145.0</td>\n",
              "      <td>147.75</td>\n",
              "      <td>146.35</td>\n",
              "      <td>148.63</td>\n",
              "      <td>36600</td>\n",
              "      <td>5.439965e+11</td>\n",
              "      <td>NaN</td>\n",
              "      <td>NaN</td>\n",
              "      <td>NaN</td>\n",
              "    </tr>\n",
              "  </tbody>\n",
              "</table>\n",
              "</div>\n",
              "      <button class=\"colab-df-convert\" onclick=\"convertToInteractive('df-91a804a1-59bb-43ca-a767-78f1117df44e')\"\n",
              "              title=\"Convert this dataframe to an interactive table.\"\n",
              "              style=\"display:none;\">\n",
              "        \n",
              "  <svg xmlns=\"http://www.w3.org/2000/svg\" height=\"24px\"viewBox=\"0 0 24 24\"\n",
              "       width=\"24px\">\n",
              "    <path d=\"M0 0h24v24H0V0z\" fill=\"none\"/>\n",
              "    <path d=\"M18.56 5.44l.94 2.06.94-2.06 2.06-.94-2.06-.94-.94-2.06-.94 2.06-2.06.94zm-11 1L8.5 8.5l.94-2.06 2.06-.94-2.06-.94L8.5 2.5l-.94 2.06-2.06.94zm10 10l.94 2.06.94-2.06 2.06-.94-2.06-.94-.94-2.06-.94 2.06-2.06.94z\"/><path d=\"M17.41 7.96l-1.37-1.37c-.4-.4-.92-.59-1.43-.59-.52 0-1.04.2-1.43.59L10.3 9.45l-7.72 7.72c-.78.78-.78 2.05 0 2.83L4 21.41c.39.39.9.59 1.41.59.51 0 1.02-.2 1.41-.59l7.78-7.78 2.81-2.81c.8-.78.8-2.07 0-2.86zM5.41 20L4 18.59l7.72-7.72 1.47 1.35L5.41 20z\"/>\n",
              "  </svg>\n",
              "      </button>\n",
              "      \n",
              "  <style>\n",
              "    .colab-df-container {\n",
              "      display:flex;\n",
              "      flex-wrap:wrap;\n",
              "      gap: 12px;\n",
              "    }\n",
              "\n",
              "    .colab-df-convert {\n",
              "      background-color: #E8F0FE;\n",
              "      border: none;\n",
              "      border-radius: 50%;\n",
              "      cursor: pointer;\n",
              "      display: none;\n",
              "      fill: #1967D2;\n",
              "      height: 32px;\n",
              "      padding: 0 0 0 0;\n",
              "      width: 32px;\n",
              "    }\n",
              "\n",
              "    .colab-df-convert:hover {\n",
              "      background-color: #E2EBFA;\n",
              "      box-shadow: 0px 1px 2px rgba(60, 64, 67, 0.3), 0px 1px 3px 1px rgba(60, 64, 67, 0.15);\n",
              "      fill: #174EA6;\n",
              "    }\n",
              "\n",
              "    [theme=dark] .colab-df-convert {\n",
              "      background-color: #3B4455;\n",
              "      fill: #D2E3FC;\n",
              "    }\n",
              "\n",
              "    [theme=dark] .colab-df-convert:hover {\n",
              "      background-color: #434B5C;\n",
              "      box-shadow: 0px 1px 3px 1px rgba(0, 0, 0, 0.15);\n",
              "      filter: drop-shadow(0px 1px 2px rgba(0, 0, 0, 0.3));\n",
              "      fill: #FFFFFF;\n",
              "    }\n",
              "  </style>\n",
              "\n",
              "      <script>\n",
              "        const buttonEl =\n",
              "          document.querySelector('#df-91a804a1-59bb-43ca-a767-78f1117df44e button.colab-df-convert');\n",
              "        buttonEl.style.display =\n",
              "          google.colab.kernel.accessAllowed ? 'block' : 'none';\n",
              "\n",
              "        async function convertToInteractive(key) {\n",
              "          const element = document.querySelector('#df-91a804a1-59bb-43ca-a767-78f1117df44e');\n",
              "          const dataTable =\n",
              "            await google.colab.kernel.invokeFunction('convertToInteractive',\n",
              "                                                     [key], {});\n",
              "          if (!dataTable) return;\n",
              "\n",
              "          const docLinkHtml = 'Like what you see? Visit the ' +\n",
              "            '<a target=\"_blank\" href=https://colab.research.google.com/notebooks/data_table.ipynb>data table notebook</a>'\n",
              "            + ' to learn more about interactive tables.';\n",
              "          element.innerHTML = '';\n",
              "          dataTable['output_type'] = 'display_data';\n",
              "          await google.colab.output.renderOutput(dataTable, element);\n",
              "          const docLink = document.createElement('div');\n",
              "          docLink.innerHTML = docLinkHtml;\n",
              "          element.appendChild(docLink);\n",
              "        }\n",
              "      </script>\n",
              "    </div>\n",
              "  </div>\n",
              "  "
            ],
            "text/plain": [
              "         Date Symbol Series  ...  Trades  Deliverable Volume  %Deliverble\n",
              "0  2000-01-03  TITAN     EQ  ...     NaN                 NaN          NaN\n",
              "1  2000-01-04  TITAN     EQ  ...     NaN                 NaN          NaN\n",
              "2  2000-01-05  TITAN     EQ  ...     NaN                 NaN          NaN\n",
              "3  2000-01-06  TITAN     EQ  ...     NaN                 NaN          NaN\n",
              "4  2000-01-07  TITAN     EQ  ...     NaN                 NaN          NaN\n",
              "\n",
              "[5 rows x 15 columns]"
            ]
          },
          "metadata": {},
          "execution_count": 18
        }
      ]
    },
    {
      "cell_type": "code",
      "source": [
        "## Visualize the time series\n",
        "\n",
        "titan_opening_price = df[['Date', 'VWAP']]\n",
        "\n",
        "titan_opening_price.set_index('Date', inplace=True)\n",
        "\n",
        "titan_opening_price.index = pd.to_datetime(titan_opening_price.index, format=\"%Y-%m-%d\")\n",
        "\n",
        "titan_opening_price.head()"
      ],
      "metadata": {
        "colab": {
          "base_uri": "https://localhost:8080/",
          "height": 238
        },
        "id": "hR46Qzum5Lg8",
        "outputId": "0ff468d9-a396-4781-bd68-36a6805103ba"
      },
      "execution_count": 19,
      "outputs": [
        {
          "output_type": "execute_result",
          "data": {
            "text/html": [
              "\n",
              "  <div id=\"df-35e180ca-b91e-4c91-8fd2-cbe17b4cfc76\">\n",
              "    <div class=\"colab-df-container\">\n",
              "      <div>\n",
              "<style scoped>\n",
              "    .dataframe tbody tr th:only-of-type {\n",
              "        vertical-align: middle;\n",
              "    }\n",
              "\n",
              "    .dataframe tbody tr th {\n",
              "        vertical-align: top;\n",
              "    }\n",
              "\n",
              "    .dataframe thead th {\n",
              "        text-align: right;\n",
              "    }\n",
              "</style>\n",
              "<table border=\"1\" class=\"dataframe\">\n",
              "  <thead>\n",
              "    <tr style=\"text-align: right;\">\n",
              "      <th></th>\n",
              "      <th>VWAP</th>\n",
              "    </tr>\n",
              "    <tr>\n",
              "      <th>Date</th>\n",
              "      <th></th>\n",
              "    </tr>\n",
              "  </thead>\n",
              "  <tbody>\n",
              "    <tr>\n",
              "      <th>2000-01-03</th>\n",
              "      <td>154.36</td>\n",
              "    </tr>\n",
              "    <tr>\n",
              "      <th>2000-01-04</th>\n",
              "      <td>146.72</td>\n",
              "    </tr>\n",
              "    <tr>\n",
              "      <th>2000-01-05</th>\n",
              "      <td>142.95</td>\n",
              "    </tr>\n",
              "    <tr>\n",
              "      <th>2000-01-06</th>\n",
              "      <td>147.87</td>\n",
              "    </tr>\n",
              "    <tr>\n",
              "      <th>2000-01-07</th>\n",
              "      <td>148.63</td>\n",
              "    </tr>\n",
              "  </tbody>\n",
              "</table>\n",
              "</div>\n",
              "      <button class=\"colab-df-convert\" onclick=\"convertToInteractive('df-35e180ca-b91e-4c91-8fd2-cbe17b4cfc76')\"\n",
              "              title=\"Convert this dataframe to an interactive table.\"\n",
              "              style=\"display:none;\">\n",
              "        \n",
              "  <svg xmlns=\"http://www.w3.org/2000/svg\" height=\"24px\"viewBox=\"0 0 24 24\"\n",
              "       width=\"24px\">\n",
              "    <path d=\"M0 0h24v24H0V0z\" fill=\"none\"/>\n",
              "    <path d=\"M18.56 5.44l.94 2.06.94-2.06 2.06-.94-2.06-.94-.94-2.06-.94 2.06-2.06.94zm-11 1L8.5 8.5l.94-2.06 2.06-.94-2.06-.94L8.5 2.5l-.94 2.06-2.06.94zm10 10l.94 2.06.94-2.06 2.06-.94-2.06-.94-.94-2.06-.94 2.06-2.06.94z\"/><path d=\"M17.41 7.96l-1.37-1.37c-.4-.4-.92-.59-1.43-.59-.52 0-1.04.2-1.43.59L10.3 9.45l-7.72 7.72c-.78.78-.78 2.05 0 2.83L4 21.41c.39.39.9.59 1.41.59.51 0 1.02-.2 1.41-.59l7.78-7.78 2.81-2.81c.8-.78.8-2.07 0-2.86zM5.41 20L4 18.59l7.72-7.72 1.47 1.35L5.41 20z\"/>\n",
              "  </svg>\n",
              "      </button>\n",
              "      \n",
              "  <style>\n",
              "    .colab-df-container {\n",
              "      display:flex;\n",
              "      flex-wrap:wrap;\n",
              "      gap: 12px;\n",
              "    }\n",
              "\n",
              "    .colab-df-convert {\n",
              "      background-color: #E8F0FE;\n",
              "      border: none;\n",
              "      border-radius: 50%;\n",
              "      cursor: pointer;\n",
              "      display: none;\n",
              "      fill: #1967D2;\n",
              "      height: 32px;\n",
              "      padding: 0 0 0 0;\n",
              "      width: 32px;\n",
              "    }\n",
              "\n",
              "    .colab-df-convert:hover {\n",
              "      background-color: #E2EBFA;\n",
              "      box-shadow: 0px 1px 2px rgba(60, 64, 67, 0.3), 0px 1px 3px 1px rgba(60, 64, 67, 0.15);\n",
              "      fill: #174EA6;\n",
              "    }\n",
              "\n",
              "    [theme=dark] .colab-df-convert {\n",
              "      background-color: #3B4455;\n",
              "      fill: #D2E3FC;\n",
              "    }\n",
              "\n",
              "    [theme=dark] .colab-df-convert:hover {\n",
              "      background-color: #434B5C;\n",
              "      box-shadow: 0px 1px 3px 1px rgba(0, 0, 0, 0.15);\n",
              "      filter: drop-shadow(0px 1px 2px rgba(0, 0, 0, 0.3));\n",
              "      fill: #FFFFFF;\n",
              "    }\n",
              "  </style>\n",
              "\n",
              "      <script>\n",
              "        const buttonEl =\n",
              "          document.querySelector('#df-35e180ca-b91e-4c91-8fd2-cbe17b4cfc76 button.colab-df-convert');\n",
              "        buttonEl.style.display =\n",
              "          google.colab.kernel.accessAllowed ? 'block' : 'none';\n",
              "\n",
              "        async function convertToInteractive(key) {\n",
              "          const element = document.querySelector('#df-35e180ca-b91e-4c91-8fd2-cbe17b4cfc76');\n",
              "          const dataTable =\n",
              "            await google.colab.kernel.invokeFunction('convertToInteractive',\n",
              "                                                     [key], {});\n",
              "          if (!dataTable) return;\n",
              "\n",
              "          const docLinkHtml = 'Like what you see? Visit the ' +\n",
              "            '<a target=\"_blank\" href=https://colab.research.google.com/notebooks/data_table.ipynb>data table notebook</a>'\n",
              "            + ' to learn more about interactive tables.';\n",
              "          element.innerHTML = '';\n",
              "          dataTable['output_type'] = 'display_data';\n",
              "          await google.colab.output.renderOutput(dataTable, element);\n",
              "          const docLink = document.createElement('div');\n",
              "          docLink.innerHTML = docLinkHtml;\n",
              "          element.appendChild(docLink);\n",
              "        }\n",
              "      </script>\n",
              "    </div>\n",
              "  </div>\n",
              "  "
            ],
            "text/plain": [
              "              VWAP\n",
              "Date              \n",
              "2000-01-03  154.36\n",
              "2000-01-04  146.72\n",
              "2000-01-05  142.95\n",
              "2000-01-06  147.87\n",
              "2000-01-07  148.63"
            ]
          },
          "metadata": {},
          "execution_count": 19
        }
      ]
    },
    {
      "cell_type": "code",
      "source": [
        "# visualize the data\n",
        "plt.rcParams['figure.figsize'] = (20, 5)\n",
        "titan_opening_price.VWAP.plot() ;"
      ],
      "metadata": {
        "colab": {
          "base_uri": "https://localhost:8080/",
          "height": 318
        },
        "id": "rJ53Znp663iU",
        "outputId": "6dcdf768-4841-455b-9bdf-10c1512ee26d"
      },
      "execution_count": 20,
      "outputs": [
        {
          "output_type": "display_data",
          "data": {
            "image/png": "[encoded data removed]",
            "text/plain": [
              "<Figure size 1440x360 with 1 Axes>"
            ]
          },
          "metadata": {
            "needs_background": "light"
          }
        }
      ]
    },
    {
      "cell_type": "code",
      "source": [
        "## testing for stationary\n",
        "test_result=adfuller(titan_opening_price['VWAP'])\n",
        "\n",
        "#Ho: It is non stationary\n",
        "#H1: It is stationary\n",
        "\n",
        "def adfuller_test(Open):\n",
        "    result=adfuller(Open)\n",
        "    labels = ['ADF Test Statistic','p-value','#Lags Used','Number of Observations Used']\n",
        "    for value,label in zip(result,labels):\n",
        "        print(label+' : '+str(value) )\n",
        "    if result[1] <= 0.05:\n",
        "        print(\"strong evidence against the null hypothesis(Ho), reject the null hypothesis. Data has no unit root and is stationary\")\n",
        "    else:\n",
        "        print(\"weak evidence against null hypothesis, time series has a unit root, indicating it is non-stationary \")\n",
        "    "
      ],
      "metadata": {
        "id": "Z-abI_0GBKbj"
      },
      "execution_count": 21,
      "outputs": []
    },
    {
      "cell_type": "code",
      "source": [
        "adfuller_test(titan_opening_price['VWAP'])"
      ],
      "metadata": {
        "colab": {
          "base_uri": "https://localhost:8080/"
        },
        "id": "VoLzeQ8-CGqT",
        "outputId": "bb9d4ec2-7941-434a-dccc-6f54fdf93611"
      },
      "execution_count": 22,
      "outputs": [
        {
          "output_type": "stream",
          "name": "stdout",
          "text": [
            "ADF Test Statistic : -3.0084407302444482\n",
            "p-value : 0.03411362579041567\n",
            "#Lags Used : 6\n",
            "Number of Observations Used : 5299\n",
            "strong evidence against the null hypothesis(Ho), reject the null hypothesis. Data has no unit root and is stationary\n"
          ]
        }
      ]
    },
    {
      "cell_type": "code",
      "source": [
        "## Performing time series decomposition\n",
        "\n",
        "result=seasonal_decompose(x=titan_opening_price['VWAP'].head(365), model='multiplicable', freq=30)\n",
        "\n",
        "result.seasonal.plot();"
      ],
      "metadata": {
        "id": "WP2JsAkpCK7n",
        "outputId": "1a0a3586-4981-45ad-e38f-f01912c954a7",
        "colab": {
          "base_uri": "https://localhost:8080/",
          "height": 236
        }
      },
      "execution_count": 23,
      "outputs": [
        {
          "output_type": "error",
          "ename": "TypeError",
          "evalue": "ignored",
          "traceback": [
            "\u001b[0;31m---------------------------------------------------------------------------\u001b[0m",
            "\u001b[0;31mTypeError\u001b[0m                                 Traceback (most recent call last)",
            "\u001b[0;32m<ipython-input-23-cf13a4fd5c13>\u001b[0m in \u001b[0;36m<module>\u001b[0;34m()\u001b[0m\n\u001b[1;32m      1\u001b[0m \u001b[0;31m## Performing time series decomposition\u001b[0m\u001b[0;34m\u001b[0m\u001b[0;34m\u001b[0m\u001b[0;34m\u001b[0m\u001b[0m\n\u001b[1;32m      2\u001b[0m \u001b[0;34m\u001b[0m\u001b[0m\n\u001b[0;32m----> 3\u001b[0;31m \u001b[0mresult\u001b[0m\u001b[0;34m=\u001b[0m\u001b[0mseasonal_decompose\u001b[0m\u001b[0;34m(\u001b[0m\u001b[0mx\u001b[0m\u001b[0;34m=\u001b[0m\u001b[0mtitan_opening_price\u001b[0m\u001b[0;34m[\u001b[0m\u001b[0;34m'VWAP'\u001b[0m\u001b[0;34m]\u001b[0m\u001b[0;34m.\u001b[0m\u001b[0mhead\u001b[0m\u001b[0;34m(\u001b[0m\u001b[0;36m365\u001b[0m\u001b[0;34m)\u001b[0m\u001b[0;34m,\u001b[0m \u001b[0mmodel\u001b[0m\u001b[0;34m=\u001b[0m\u001b[0;34m'multiplicable'\u001b[0m\u001b[0;34m,\u001b[0m \u001b[0mfreq\u001b[0m\u001b[0;34m=\u001b[0m\u001b[0;36m30\u001b[0m\u001b[0;34m)\u001b[0m\u001b[0;34m\u001b[0m\u001b[0;34m\u001b[0m\u001b[0m\n\u001b[0m\u001b[1;32m      4\u001b[0m \u001b[0;34m\u001b[0m\u001b[0m\n\u001b[1;32m      5\u001b[0m \u001b[0mresult\u001b[0m\u001b[0;34m.\u001b[0m\u001b[0mseasonal\u001b[0m\u001b[0;34m.\u001b[0m\u001b[0mplot\u001b[0m\u001b[0;34m(\u001b[0m\u001b[0;34m)\u001b[0m\u001b[0;34m;\u001b[0m\u001b[0;34m\u001b[0m\u001b[0;34m\u001b[0m\u001b[0m\n",
            "\u001b[0;31mTypeError\u001b[0m: seasonal_decompose() got an unexpected keyword argument 'freq'"
          ]
        }
      ]
    },
    {
      "cell_type": "code",
      "source": [
        "result.trend.plot();"
      ],
      "metadata": {
        "id": "p9xUsMAqhehL"
      },
      "execution_count": null,
      "outputs": []
    },
    {
      "cell_type": "code",
      "source": [
        "result.plot()"
      ],
      "metadata": {
        "id": "zjqi_tFCkNib"
      },
      "execution_count": null,
      "outputs": []
    },
    {
      "cell_type": "markdown",
      "source": [
        "As the seasonal and trend component is not varing expotentially, this seems to be addtivie time series."
      ],
      "metadata": {
        "id": "tDLn6B9HMvCP"
      }
    },
    {
      "cell_type": "code",
      "source": [
        "df.VWAP.plot(figsize=(14, 7))"
      ],
      "metadata": {
        "id": "vdYovVg-E8Kg"
      },
      "execution_count": null,
      "outputs": []
    },
    {
      "cell_type": "code",
      "source": [
        "df.reset_index(drop=True, inplace=True)\n",
        "lag_features = [\"High\", \"Low\", \"Volume\", \"Turnover\", \"Trades\"]\n",
        "window1 = 3\n",
        "window2 = 7\n",
        "window3 = 30\n",
        "\n",
        "df_rolled_3d = df[lag_features].rolling(window=window1, min_periods=0)\n",
        "df_rolled_7d = df[lag_features].rolling(window=window2, min_periods=0)\n",
        "df_rolled_30d = df[lag_features].rolling(window=window3, min_periods=0)"
      ],
      "metadata": {
        "id": "t_D8o1xlFEWx"
      },
      "execution_count": null,
      "outputs": []
    },
    {
      "cell_type": "code",
      "source": [
        ""
      ],
      "metadata": {
        "id": "cHvo-9uohi-A"
      },
      "execution_count": null,
      "outputs": []
    },
    {
      "cell_type": "code",
      "source": [
        "df_mean_3d = df_rolled_3d.mean().shift(1).reset_index().astype(np.float32)\n",
        "df_mean_7d = df_rolled_7d.mean().shift(1).reset_index().astype(np.float32)\n",
        "df_mean_30d = df_rolled_30d.mean().shift(1).reset_index().astype(np.float32)"
      ],
      "metadata": {
        "id": "hZYeP8wsHnuj"
      },
      "execution_count": null,
      "outputs": []
    },
    {
      "cell_type": "code",
      "source": [
        "df_mean_3d.head(5)"
      ],
      "metadata": {
        "id": "qS_OJ0TIHpy5"
      },
      "execution_count": null,
      "outputs": []
    },
    {
      "cell_type": "code",
      "source": [
        "df_mean_7d"
      ],
      "metadata": {
        "id": "bSn2l5jSH-8T"
      },
      "execution_count": null,
      "outputs": []
    },
    {
      "cell_type": "code",
      "source": [
        "df_std_3d = df_rolled_3d.std().shift(1).reset_index().astype(np.float32)\n",
        "df_std_7d = df_rolled_7d.std().shift(1).reset_index().astype(np.float32)\n",
        "df_std_30d = df_rolled_30d.std().shift(1).reset_index().astype(np.float32)"
      ],
      "metadata": {
        "id": "ENpSkZegJN5a"
      },
      "execution_count": null,
      "outputs": []
    },
    {
      "cell_type": "code",
      "source": [
        "for feature in lag_features:\n",
        "  print(feature)"
      ],
      "metadata": {
        "id": "-xAD9KW7JhBt"
      },
      "execution_count": null,
      "outputs": []
    },
    {
      "cell_type": "code",
      "source": [
        "for feature in lag_features:\n",
        "    df[f\"{feature}_mean_lag{window1}\"] = df_mean_3d[feature]\n",
        "    df[f\"{feature}_mean_lag{window2}\"] = df_mean_7d[feature]\n",
        "    df[f\"{feature}_mean_lag{window3}\"] = df_mean_30d[feature]\n",
        "    \n",
        "    df[f\"{feature}_std_lag{window1}\"] = df_std_3d[feature]\n",
        "    df[f\"{feature}_std_lag{window2}\"] = df_std_7d[feature]\n",
        "    df[f\"{feature}_std_lag{window3}\"] = df_std_30d[feature]\n",
        "\n",
        "df.fillna(df.mean(), inplace=True)\n",
        "\n",
        "df.set_index(\"Date\", drop=False, inplace=True)\n",
        "df.head()"
      ],
      "metadata": {
        "id": "2qh_XRNpJuBC"
      },
      "execution_count": null,
      "outputs": []
    },
    {
      "cell_type": "code",
      "source": [
        "df.Date = pd.to_datetime(df.Date, format=\"%Y-%m-%d\")\n",
        "df[\"month\"] = df.Date.dt.month\n",
        "df[\"week\"] = df.Date.dt.week\n",
        "df[\"day\"] = df.Date.dt.day\n",
        "df[\"day_of_week\"] = df.Date.dt.dayofweek\n",
        "df.head()"
      ],
      "metadata": {
        "id": "3GN8nJ55J_Y7"
      },
      "execution_count": null,
      "outputs": []
    },
    {
      "cell_type": "code",
      "source": [
        "df_train = df[df.Date < \"2019\"]\n",
        "df_valid = df[df.Date >= \"2019\"]\n",
        "\n",
        "exogenous_features = [\"High_mean_lag3\", \"High_std_lag3\", \"Low_mean_lag3\", \"Low_std_lag3\",\n",
        "                      \"Volume_mean_lag3\", \"Volume_std_lag3\", \"Turnover_mean_lag3\",\n",
        "                      \"Turnover_std_lag3\", \"Trades_mean_lag3\", \"Trades_std_lag3\",\n",
        "                      \"High_mean_lag7\", \"High_std_lag7\", \"Low_mean_lag7\", \"Low_std_lag7\",\n",
        "                      \"Volume_mean_lag7\", \"Volume_std_lag7\", \"Turnover_mean_lag7\",\n",
        "                      \"Turnover_std_lag7\", \"Trades_mean_lag7\", \"Trades_std_lag7\",\n",
        "                      \"High_mean_lag30\", \"High_std_lag30\", \"Low_mean_lag30\", \"Low_std_lag30\",\n",
        "                      \"Volume_mean_lag30\", \"Volume_std_lag30\", \"Turnover_mean_lag30\",\n",
        "                      \"Turnover_std_lag30\", \"Trades_mean_lag30\", \"Trades_std_lag30\",\n",
        "                      \"month\", \"week\", \"day\", \"day_of_week\"]"
      ],
      "metadata": {
        "id": "CGt-bte2Krhq"
      },
      "execution_count": null,
      "outputs": []
    },
    {
      "cell_type": "code",
      "source": [
        "model = auto_arima(df_train.VWAP, exogenous=df_train[exogenous_features], trace=True, error_action=\"ignore\", suppress_warnings=True)\n",
        "model.fit(df_train.VWAP, exogenous=df_train[exogenous_features])\n",
        "\n",
        "forecast = model.predict(n_periods=len(df_valid), exogenous=df_valid[exogenous_features])\n",
        "df_valid[\"Forecast_ARIMAX\"] = forecast"
      ],
      "metadata": {
        "id": "mWUkgKnIK4qU"
      },
      "execution_count": null,
      "outputs": []
    },
    {
      "cell_type": "code",
      "source": [
        "df_valid"
      ],
      "metadata": {
        "id": "H1leTFncbCut"
      },
      "execution_count": null,
      "outputs": []
    },
    {
      "cell_type": "code",
      "source": [
        "df_valid[[\"VWAP\", \"Forecast_ARIMAX\"]].plot(figsize=(14, 7))"
      ],
      "metadata": {
        "id": "eJSocxjgUFD-"
      },
      "execution_count": null,
      "outputs": []
    },
    {
      "cell_type": "code",
      "source": [
        "print(\"RMSE of Auto ARIMAX:\", np.sqrt(mean_squared_error(df_valid.VWAP, df_valid.Forecast_ARIMAX)))\n",
        "print(\"\\nMAE of Auto ARIMAX:\", mean_absolute_error(df_valid.VWAP, df_valid.Forecast_ARIMAX))"
      ],
      "metadata": {
        "id": "Sxjrm9CJUFBn"
      },
      "execution_count": null,
      "outputs": []
    },
    {
      "cell_type": "markdown",
      "source": [
        "Facebook prophet"
      ],
      "metadata": {
        "id": "H5WIN68lUOeR"
      }
    },
    {
      "cell_type": "code",
      "source": [
        "model_fbp = Prophet()\n",
        "for feature in exogenous_features:\n",
        "    model_fbp.add_regressor(feature)\n",
        "\n",
        "model_fbp.fit(df_train[[\"Date\", \"VWAP\"] + exogenous_features].rename(columns={\"Date\": \"ds\", \"VWAP\": \"y\"}))\n",
        "\n",
        "forecast = model_fbp.predict(df_valid[[\"Date\", \"VWAP\"] + exogenous_features].rename(columns={\"Date\": \"ds\"}))\n",
        "df_valid[\"Forecast_Prophet\"] = forecast.yhat.values"
      ],
      "metadata": {
        "id": "UfbLfmQ_UE-9"
      },
      "execution_count": null,
      "outputs": []
    },
    {
      "cell_type": "code",
      "source": [
        "model_fbp.plot_components(forecast)"
      ],
      "metadata": {
        "id": "80J7bJdDUgZR"
      },
      "execution_count": null,
      "outputs": []
    },
    {
      "cell_type": "code",
      "source": [
        "df_valid[[\"VWAP\", \"Forecast_ARIMAX\", \"Forecast_Prophet\"]].plot(figsize=(14, 7))"
      ],
      "metadata": {
        "id": "ZKogc-hPUjYW"
      },
      "execution_count": null,
      "outputs": []
    },
    {
      "cell_type": "code",
      "source": [
        "print(\"RMSE of Auto ARIMAX:\", np.sqrt(mean_squared_error(df_valid.VWAP, df_valid.Forecast_ARIMAX)))\n",
        "print(\"RMSE of Prophet:\", np.sqrt(mean_squared_error(df_valid.VWAP, df_valid.Forecast_Prophet)))\n",
        "print(\"\\nMAE of Auto ARIMAX:\", mean_absolute_error(df_valid.VWAP, df_valid.Forecast_ARIMAX))\n",
        "print(\"MAE of Prophet:\", mean_absolute_error(df_valid.VWAP, df_valid.Forecast_Prophet))"
      ],
      "metadata": {
        "id": "gHwAUWUIUsnx"
      },
      "execution_count": null,
      "outputs": []
    },
    {
      "cell_type": "markdown",
      "source": [
        "# 9: ARIMA <a name=\"9\"></a>\n",
        "\n",
        "\n",
        "---\n",
        "<a href=\"#top\" class=\"btn btn-primary btn-sm\" role=\"button\" aria-pressed=\"true\" style=\"color:white\" data-toggle=\"popover\">Go to TOC</a> "
      ],
      "metadata": {
        "id": "cEtlcpIVjhq2"
      }
    },
    {
      "cell_type": "markdown",
      "source": [
        "# 10: Facebook Prophet <a name=\"10\"></a>\n",
        "\n",
        "\n",
        "---\n",
        "<a href=\"#top\" class=\"btn btn-primary btn-sm\" role=\"button\" aria-pressed=\"true\" style=\"color:white\" data-toggle=\"popover\">Go to TOC</a> "
      ],
      "metadata": {
        "id": "ylvxbibjjhnC"
      }
    },
    {
      "cell_type": "markdown",
      "source": [
        "# 11: Summary <a name=\"11\"></a>\n",
        "\n",
        "\n",
        "---\n",
        "<a href=\"#top\" class=\"btn btn-primary btn-sm\" role=\"button\" aria-pressed=\"true\" style=\"color:white\" data-toggle=\"popover\">Go to TOC</a> "
      ],
      "metadata": {
        "id": "ze8eMdwnjhjI"
      }
    },
    {
      "cell_type": "markdown",
      "source": [
        "# 12: Future Work <a name=\"12\"></a>\n",
        "\n",
        "\n",
        "---\n",
        "<a href=\"#top\" class=\"btn btn-primary btn-sm\" role=\"button\" aria-pressed=\"true\" style=\"color:white\" data-toggle=\"popover\">Go to TOC</a> "
      ],
      "metadata": {
        "id": "DAUujQuIjheS"
      }
    },
    {
      "cell_type": "markdown",
      "source": [
        "# 13: References <a name=\"13\"></a>\n",
        "\n",
        "\n",
        "---\n",
        "<a href=\"#top\" class=\"btn btn-primary btn-sm\" role=\"button\" aria-pressed=\"true\" style=\"color:white\" data-toggle=\"popover\">Go to TOC</a> "
      ],
      "metadata": {
        "id": "XD13ekWHjg-3"
      }
    },
    {
      "cell_type": "markdown",
      "source": [
        "- https://www.kaggle.com/rohanrao/a-modern-time-series-tutorial/notebook\n",
        "- https://www.kaggle.com/yashvi/time-series-analysis-and-forecasting-reliance\n",
        "- https://www.kaggle.com/vikassingh1996/bajaj-stock-price-pred-xgb-fb-prophet-altair#XGBoost-Modeling-and-Forecasting\n",
        "- https://www.kaggle.com/benroshan/reliance-nifty50-time-series-analysis#Model-building-Phase--Forecasting-&-Prediction"
      ],
      "metadata": {
        "id": "DGqjbbp9k8Wa"
      }
    }
  ]
}