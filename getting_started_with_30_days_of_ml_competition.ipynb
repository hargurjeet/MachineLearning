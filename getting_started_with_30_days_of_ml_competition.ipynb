{
  "nbformat": 4,
  "nbformat_minor": 0,
  "metadata": {
    "kernelspec": {
      "language": "python",
      "display_name": "Python 3",
      "name": "python3"
    },
    "language_info": {
      "name": "python",
      "version": "3.7.10",
      "mimetype": "text/x-python",
      "codemirror_mode": {
        "name": "ipython",
        "version": 3
      },
      "pygments_lexer": "ipython3",
      "nbconvert_exporter": "python",
      "file_extension": ".py"
    },
    "colab": {
      "name": "getting-started-with-30-days-of-ml-competition.ipynb",
      "provenance": [],
      "include_colab_link": true
    }
  },
  "cells": [
    {
      "cell_type": "markdown",
      "metadata": {
        "id": "view-in-github",
        "colab_type": "text"
      },
      "source": [
        "<a href=\"https://colab.research.google.com/github/hargurjeet/MachineLearning/blob/master/getting_started_with_30_days_of_ml_competition.ipynb\" target=\"_parent\"><img src=\"https://colab.research.google.com/assets/colab-badge.svg\" alt=\"Open In Colab\"/></a>"
      ]
    },
    {
      "cell_type": "markdown",
      "metadata": {
        "id": "V8VBxD027kaF"
      },
      "source": [
        "Welcome to the **[30 Days of ML competition](https://www.kaggle.com/c/30-days-of-ml/overview)**!  In this notebook, you'll learn how to make your first submission.\n",
        "\n",
        "Before getting started, make your own editable copy of this notebook by clicking on the **Copy and Edit** button.\n",
        "\n",
        "# Step 1: Import helpful libraries\n",
        "\n",
        "We begin by importing the libraries we'll need.  Some of them will be familiar from the **[Intro to Machine Learning](https://www.kaggle.com/learn/intro-to-machine-learning)** course and the **[Intermediate Machine Learning](https://www.kaggle.com/learn/intermediate-machine-learning)** course."
      ]
    },
    {
      "cell_type": "code",
      "metadata": {
        "trusted": true,
        "id": "2VSgbbcS7kan"
      },
      "source": [
        "# Familiar imports\n",
        "import numpy as np\n",
        "import pandas as pd\n",
        "\n",
        "# For ordinal encoding categorical variables, splitting data\n",
        "from sklearn.preprocessing import OrdinalEncoder\n",
        "from sklearn.model_selection import train_test_split\n",
        "\n",
        "# For training random forest model\n",
        "from sklearn.ensemble import RandomForestRegressor\n",
        "from sklearn.metrics import mean_squared_error"
      ],
      "execution_count": 1,
      "outputs": []
    },
    {
      "cell_type": "markdown",
      "metadata": {
        "id": "cvATYR-z7kbg"
      },
      "source": [
        "# Step 2: Load the data\n",
        "\n",
        "Next, we'll load the training and test data.  \n",
        "\n",
        "We set `index_col=0` in the code cell below to use the `id` column to index the DataFrame.  (*If you're not sure how this works, try temporarily removing `index_col=0` and see how it changes the result.*)"
      ]
    },
    {
      "cell_type": "code",
      "metadata": {
        "colab": {
          "base_uri": "https://localhost:8080/"
        },
        "id": "RV9dz3-47xNq",
        "outputId": "610a04d2-44ae-4a4f-a207-7123ed419560"
      },
      "source": [
        "# !pip install opendatasets --quiet\n",
        "import opendatasets as od\n",
        "od.download('https://www.kaggle.com/c/30-days-of-ml/data')"
      ],
      "execution_count": 6,
      "outputs": [
        {
          "output_type": "stream",
          "text": [
            "Please provide your Kaggle credentials to download this dataset. Learn more: http://bit.ly/kaggle-creds\n",
            "Your Kaggle username: hargurjeet\n",
            "Your Kaggle Key: ··········\n",
            "Downloading 30-days-of-ml.zip to ./30-days-of-ml\n"
          ],
          "name": "stdout"
        },
        {
          "output_type": "stream",
          "text": [
            "100%|██████████| 66.0M/66.0M [00:00<00:00, 132MB/s]\n"
          ],
          "name": "stderr"
        },
        {
          "output_type": "stream",
          "text": [
            "\n",
            "Extracting archive ./30-days-of-ml/30-days-of-ml.zip to ./30-days-of-ml\n"
          ],
          "name": "stdout"
        }
      ]
    },
    {
      "cell_type": "code",
      "metadata": {
        "trusted": true,
        "colab": {
          "base_uri": "https://localhost:8080/",
          "height": 255
        },
        "id": "RiAwoQGV7kb-",
        "outputId": "d6353964-8885-4afe-fee2-22abaa2e42e5"
      },
      "source": [
        "# Load the training data\n",
        "train = pd.read_csv(\"/content/30-days-of-ml/train.csv\", index_col=0)\n",
        "test = pd.read_csv(\"/content/30-days-of-ml/test.csv\", index_col=0)\n",
        "\n",
        "# Preview the data\n",
        "train.head()"
      ],
      "execution_count": 7,
      "outputs": [
        {
          "output_type": "execute_result",
          "data": {
            "text/html": [
              "<div>\n",
              "<style scoped>\n",
              "    .dataframe tbody tr th:only-of-type {\n",
              "        vertical-align: middle;\n",
              "    }\n",
              "\n",
              "    .dataframe tbody tr th {\n",
              "        vertical-align: top;\n",
              "    }\n",
              "\n",
              "    .dataframe thead th {\n",
              "        text-align: right;\n",
              "    }\n",
              "</style>\n",
              "<table border=\"1\" class=\"dataframe\">\n",
              "  <thead>\n",
              "    <tr style=\"text-align: right;\">\n",
              "      <th></th>\n",
              "      <th>cat0</th>\n",
              "      <th>cat1</th>\n",
              "      <th>cat2</th>\n",
              "      <th>cat3</th>\n",
              "      <th>cat4</th>\n",
              "      <th>cat5</th>\n",
              "      <th>cat6</th>\n",
              "      <th>cat7</th>\n",
              "      <th>cat8</th>\n",
              "      <th>cat9</th>\n",
              "      <th>cont0</th>\n",
              "      <th>cont1</th>\n",
              "      <th>cont2</th>\n",
              "      <th>cont3</th>\n",
              "      <th>cont4</th>\n",
              "      <th>cont5</th>\n",
              "      <th>cont6</th>\n",
              "      <th>cont7</th>\n",
              "      <th>cont8</th>\n",
              "      <th>cont9</th>\n",
              "      <th>cont10</th>\n",
              "      <th>cont11</th>\n",
              "      <th>cont12</th>\n",
              "      <th>cont13</th>\n",
              "      <th>target</th>\n",
              "    </tr>\n",
              "    <tr>\n",
              "      <th>id</th>\n",
              "      <th></th>\n",
              "      <th></th>\n",
              "      <th></th>\n",
              "      <th></th>\n",
              "      <th></th>\n",
              "      <th></th>\n",
              "      <th></th>\n",
              "      <th></th>\n",
              "      <th></th>\n",
              "      <th></th>\n",
              "      <th></th>\n",
              "      <th></th>\n",
              "      <th></th>\n",
              "      <th></th>\n",
              "      <th></th>\n",
              "      <th></th>\n",
              "      <th></th>\n",
              "      <th></th>\n",
              "      <th></th>\n",
              "      <th></th>\n",
              "      <th></th>\n",
              "      <th></th>\n",
              "      <th></th>\n",
              "      <th></th>\n",
              "      <th></th>\n",
              "    </tr>\n",
              "  </thead>\n",
              "  <tbody>\n",
              "    <tr>\n",
              "      <th>1</th>\n",
              "      <td>B</td>\n",
              "      <td>B</td>\n",
              "      <td>B</td>\n",
              "      <td>C</td>\n",
              "      <td>B</td>\n",
              "      <td>B</td>\n",
              "      <td>A</td>\n",
              "      <td>E</td>\n",
              "      <td>C</td>\n",
              "      <td>N</td>\n",
              "      <td>0.201470</td>\n",
              "      <td>-0.014822</td>\n",
              "      <td>0.669699</td>\n",
              "      <td>0.136278</td>\n",
              "      <td>0.610706</td>\n",
              "      <td>0.400361</td>\n",
              "      <td>0.160266</td>\n",
              "      <td>0.310921</td>\n",
              "      <td>0.389470</td>\n",
              "      <td>0.267559</td>\n",
              "      <td>0.237281</td>\n",
              "      <td>0.377873</td>\n",
              "      <td>0.322401</td>\n",
              "      <td>0.869850</td>\n",
              "      <td>8.113634</td>\n",
              "    </tr>\n",
              "    <tr>\n",
              "      <th>2</th>\n",
              "      <td>B</td>\n",
              "      <td>B</td>\n",
              "      <td>A</td>\n",
              "      <td>A</td>\n",
              "      <td>B</td>\n",
              "      <td>D</td>\n",
              "      <td>A</td>\n",
              "      <td>F</td>\n",
              "      <td>A</td>\n",
              "      <td>O</td>\n",
              "      <td>0.743068</td>\n",
              "      <td>0.367411</td>\n",
              "      <td>1.021605</td>\n",
              "      <td>0.365798</td>\n",
              "      <td>0.276853</td>\n",
              "      <td>0.533087</td>\n",
              "      <td>0.558922</td>\n",
              "      <td>0.516294</td>\n",
              "      <td>0.594928</td>\n",
              "      <td>0.341439</td>\n",
              "      <td>0.906013</td>\n",
              "      <td>0.921701</td>\n",
              "      <td>0.261975</td>\n",
              "      <td>0.465083</td>\n",
              "      <td>8.481233</td>\n",
              "    </tr>\n",
              "    <tr>\n",
              "      <th>3</th>\n",
              "      <td>A</td>\n",
              "      <td>A</td>\n",
              "      <td>A</td>\n",
              "      <td>C</td>\n",
              "      <td>B</td>\n",
              "      <td>D</td>\n",
              "      <td>A</td>\n",
              "      <td>D</td>\n",
              "      <td>A</td>\n",
              "      <td>F</td>\n",
              "      <td>0.742708</td>\n",
              "      <td>0.310383</td>\n",
              "      <td>-0.012673</td>\n",
              "      <td>0.576957</td>\n",
              "      <td>0.285074</td>\n",
              "      <td>0.650609</td>\n",
              "      <td>0.375348</td>\n",
              "      <td>0.902567</td>\n",
              "      <td>0.555205</td>\n",
              "      <td>0.843531</td>\n",
              "      <td>0.748809</td>\n",
              "      <td>0.620126</td>\n",
              "      <td>0.541474</td>\n",
              "      <td>0.763846</td>\n",
              "      <td>8.364351</td>\n",
              "    </tr>\n",
              "    <tr>\n",
              "      <th>4</th>\n",
              "      <td>B</td>\n",
              "      <td>B</td>\n",
              "      <td>A</td>\n",
              "      <td>C</td>\n",
              "      <td>B</td>\n",
              "      <td>D</td>\n",
              "      <td>A</td>\n",
              "      <td>E</td>\n",
              "      <td>C</td>\n",
              "      <td>K</td>\n",
              "      <td>0.429551</td>\n",
              "      <td>0.620998</td>\n",
              "      <td>0.577942</td>\n",
              "      <td>0.280610</td>\n",
              "      <td>0.284667</td>\n",
              "      <td>0.668980</td>\n",
              "      <td>0.239061</td>\n",
              "      <td>0.732948</td>\n",
              "      <td>0.679618</td>\n",
              "      <td>0.574844</td>\n",
              "      <td>0.346010</td>\n",
              "      <td>0.714610</td>\n",
              "      <td>0.540150</td>\n",
              "      <td>0.280682</td>\n",
              "      <td>8.049253</td>\n",
              "    </tr>\n",
              "    <tr>\n",
              "      <th>6</th>\n",
              "      <td>A</td>\n",
              "      <td>A</td>\n",
              "      <td>A</td>\n",
              "      <td>C</td>\n",
              "      <td>B</td>\n",
              "      <td>D</td>\n",
              "      <td>A</td>\n",
              "      <td>E</td>\n",
              "      <td>A</td>\n",
              "      <td>N</td>\n",
              "      <td>1.058291</td>\n",
              "      <td>0.367492</td>\n",
              "      <td>-0.052389</td>\n",
              "      <td>0.232407</td>\n",
              "      <td>0.287595</td>\n",
              "      <td>0.686964</td>\n",
              "      <td>0.420667</td>\n",
              "      <td>0.648182</td>\n",
              "      <td>0.684501</td>\n",
              "      <td>0.956692</td>\n",
              "      <td>1.000773</td>\n",
              "      <td>0.776742</td>\n",
              "      <td>0.625849</td>\n",
              "      <td>0.250823</td>\n",
              "      <td>7.972260</td>\n",
              "    </tr>\n",
              "  </tbody>\n",
              "</table>\n",
              "</div>"
            ],
            "text/plain": [
              "   cat0 cat1 cat2 cat3 cat4  ...    cont10    cont11    cont12    cont13    target\n",
              "id                           ...                                                  \n",
              "1     B    B    B    C    B  ...  0.237281  0.377873  0.322401  0.869850  8.113634\n",
              "2     B    B    A    A    B  ...  0.906013  0.921701  0.261975  0.465083  8.481233\n",
              "3     A    A    A    C    B  ...  0.748809  0.620126  0.541474  0.763846  8.364351\n",
              "4     B    B    A    C    B  ...  0.346010  0.714610  0.540150  0.280682  8.049253\n",
              "6     A    A    A    C    B  ...  1.000773  0.776742  0.625849  0.250823  7.972260\n",
              "\n",
              "[5 rows x 25 columns]"
            ]
          },
          "metadata": {},
          "execution_count": 7
        }
      ]
    },
    {
      "cell_type": "markdown",
      "metadata": {
        "id": "I7Q7Wqid7kcd"
      },
      "source": [
        "The next code cell separates the target (which we assign to `y`) from the training features (which we assign to `features`)."
      ]
    },
    {
      "cell_type": "code",
      "metadata": {
        "trusted": true,
        "colab": {
          "base_uri": "https://localhost:8080/",
          "height": 255
        },
        "id": "KegWIaJA7kcq",
        "outputId": "101067b1-ab5f-4f0e-b1fe-b4d0e711bbb0"
      },
      "source": [
        "# Separate target from features\n",
        "y = train['target']\n",
        "X = train.drop(['target'], axis=1)\n",
        "\n",
        "# Preview features\n",
        "X.head()"
      ],
      "execution_count": 8,
      "outputs": [
        {
          "output_type": "execute_result",
          "data": {
            "text/html": [
              "<div>\n",
              "<style scoped>\n",
              "    .dataframe tbody tr th:only-of-type {\n",
              "        vertical-align: middle;\n",
              "    }\n",
              "\n",
              "    .dataframe tbody tr th {\n",
              "        vertical-align: top;\n",
              "    }\n",
              "\n",
              "    .dataframe thead th {\n",
              "        text-align: right;\n",
              "    }\n",
              "</style>\n",
              "<table border=\"1\" class=\"dataframe\">\n",
              "  <thead>\n",
              "    <tr style=\"text-align: right;\">\n",
              "      <th></th>\n",
              "      <th>cat0</th>\n",
              "      <th>cat1</th>\n",
              "      <th>cat2</th>\n",
              "      <th>cat3</th>\n",
              "      <th>cat4</th>\n",
              "      <th>cat5</th>\n",
              "      <th>cat6</th>\n",
              "      <th>cat7</th>\n",
              "      <th>cat8</th>\n",
              "      <th>cat9</th>\n",
              "      <th>cont0</th>\n",
              "      <th>cont1</th>\n",
              "      <th>cont2</th>\n",
              "      <th>cont3</th>\n",
              "      <th>cont4</th>\n",
              "      <th>cont5</th>\n",
              "      <th>cont6</th>\n",
              "      <th>cont7</th>\n",
              "      <th>cont8</th>\n",
              "      <th>cont9</th>\n",
              "      <th>cont10</th>\n",
              "      <th>cont11</th>\n",
              "      <th>cont12</th>\n",
              "      <th>cont13</th>\n",
              "    </tr>\n",
              "    <tr>\n",
              "      <th>id</th>\n",
              "      <th></th>\n",
              "      <th></th>\n",
              "      <th></th>\n",
              "      <th></th>\n",
              "      <th></th>\n",
              "      <th></th>\n",
              "      <th></th>\n",
              "      <th></th>\n",
              "      <th></th>\n",
              "      <th></th>\n",
              "      <th></th>\n",
              "      <th></th>\n",
              "      <th></th>\n",
              "      <th></th>\n",
              "      <th></th>\n",
              "      <th></th>\n",
              "      <th></th>\n",
              "      <th></th>\n",
              "      <th></th>\n",
              "      <th></th>\n",
              "      <th></th>\n",
              "      <th></th>\n",
              "      <th></th>\n",
              "      <th></th>\n",
              "    </tr>\n",
              "  </thead>\n",
              "  <tbody>\n",
              "    <tr>\n",
              "      <th>1</th>\n",
              "      <td>B</td>\n",
              "      <td>B</td>\n",
              "      <td>B</td>\n",
              "      <td>C</td>\n",
              "      <td>B</td>\n",
              "      <td>B</td>\n",
              "      <td>A</td>\n",
              "      <td>E</td>\n",
              "      <td>C</td>\n",
              "      <td>N</td>\n",
              "      <td>0.201470</td>\n",
              "      <td>-0.014822</td>\n",
              "      <td>0.669699</td>\n",
              "      <td>0.136278</td>\n",
              "      <td>0.610706</td>\n",
              "      <td>0.400361</td>\n",
              "      <td>0.160266</td>\n",
              "      <td>0.310921</td>\n",
              "      <td>0.389470</td>\n",
              "      <td>0.267559</td>\n",
              "      <td>0.237281</td>\n",
              "      <td>0.377873</td>\n",
              "      <td>0.322401</td>\n",
              "      <td>0.869850</td>\n",
              "    </tr>\n",
              "    <tr>\n",
              "      <th>2</th>\n",
              "      <td>B</td>\n",
              "      <td>B</td>\n",
              "      <td>A</td>\n",
              "      <td>A</td>\n",
              "      <td>B</td>\n",
              "      <td>D</td>\n",
              "      <td>A</td>\n",
              "      <td>F</td>\n",
              "      <td>A</td>\n",
              "      <td>O</td>\n",
              "      <td>0.743068</td>\n",
              "      <td>0.367411</td>\n",
              "      <td>1.021605</td>\n",
              "      <td>0.365798</td>\n",
              "      <td>0.276853</td>\n",
              "      <td>0.533087</td>\n",
              "      <td>0.558922</td>\n",
              "      <td>0.516294</td>\n",
              "      <td>0.594928</td>\n",
              "      <td>0.341439</td>\n",
              "      <td>0.906013</td>\n",
              "      <td>0.921701</td>\n",
              "      <td>0.261975</td>\n",
              "      <td>0.465083</td>\n",
              "    </tr>\n",
              "    <tr>\n",
              "      <th>3</th>\n",
              "      <td>A</td>\n",
              "      <td>A</td>\n",
              "      <td>A</td>\n",
              "      <td>C</td>\n",
              "      <td>B</td>\n",
              "      <td>D</td>\n",
              "      <td>A</td>\n",
              "      <td>D</td>\n",
              "      <td>A</td>\n",
              "      <td>F</td>\n",
              "      <td>0.742708</td>\n",
              "      <td>0.310383</td>\n",
              "      <td>-0.012673</td>\n",
              "      <td>0.576957</td>\n",
              "      <td>0.285074</td>\n",
              "      <td>0.650609</td>\n",
              "      <td>0.375348</td>\n",
              "      <td>0.902567</td>\n",
              "      <td>0.555205</td>\n",
              "      <td>0.843531</td>\n",
              "      <td>0.748809</td>\n",
              "      <td>0.620126</td>\n",
              "      <td>0.541474</td>\n",
              "      <td>0.763846</td>\n",
              "    </tr>\n",
              "    <tr>\n",
              "      <th>4</th>\n",
              "      <td>B</td>\n",
              "      <td>B</td>\n",
              "      <td>A</td>\n",
              "      <td>C</td>\n",
              "      <td>B</td>\n",
              "      <td>D</td>\n",
              "      <td>A</td>\n",
              "      <td>E</td>\n",
              "      <td>C</td>\n",
              "      <td>K</td>\n",
              "      <td>0.429551</td>\n",
              "      <td>0.620998</td>\n",
              "      <td>0.577942</td>\n",
              "      <td>0.280610</td>\n",
              "      <td>0.284667</td>\n",
              "      <td>0.668980</td>\n",
              "      <td>0.239061</td>\n",
              "      <td>0.732948</td>\n",
              "      <td>0.679618</td>\n",
              "      <td>0.574844</td>\n",
              "      <td>0.346010</td>\n",
              "      <td>0.714610</td>\n",
              "      <td>0.540150</td>\n",
              "      <td>0.280682</td>\n",
              "    </tr>\n",
              "    <tr>\n",
              "      <th>6</th>\n",
              "      <td>A</td>\n",
              "      <td>A</td>\n",
              "      <td>A</td>\n",
              "      <td>C</td>\n",
              "      <td>B</td>\n",
              "      <td>D</td>\n",
              "      <td>A</td>\n",
              "      <td>E</td>\n",
              "      <td>A</td>\n",
              "      <td>N</td>\n",
              "      <td>1.058291</td>\n",
              "      <td>0.367492</td>\n",
              "      <td>-0.052389</td>\n",
              "      <td>0.232407</td>\n",
              "      <td>0.287595</td>\n",
              "      <td>0.686964</td>\n",
              "      <td>0.420667</td>\n",
              "      <td>0.648182</td>\n",
              "      <td>0.684501</td>\n",
              "      <td>0.956692</td>\n",
              "      <td>1.000773</td>\n",
              "      <td>0.776742</td>\n",
              "      <td>0.625849</td>\n",
              "      <td>0.250823</td>\n",
              "    </tr>\n",
              "  </tbody>\n",
              "</table>\n",
              "</div>"
            ],
            "text/plain": [
              "   cat0 cat1 cat2 cat3 cat4  ...     cont9    cont10    cont11    cont12    cont13\n",
              "id                           ...                                                  \n",
              "1     B    B    B    C    B  ...  0.267559  0.237281  0.377873  0.322401  0.869850\n",
              "2     B    B    A    A    B  ...  0.341439  0.906013  0.921701  0.261975  0.465083\n",
              "3     A    A    A    C    B  ...  0.843531  0.748809  0.620126  0.541474  0.763846\n",
              "4     B    B    A    C    B  ...  0.574844  0.346010  0.714610  0.540150  0.280682\n",
              "6     A    A    A    C    B  ...  0.956692  1.000773  0.776742  0.625849  0.250823\n",
              "\n",
              "[5 rows x 24 columns]"
            ]
          },
          "metadata": {},
          "execution_count": 8
        }
      ]
    },
    {
      "cell_type": "code",
      "metadata": {
        "trusted": true,
        "colab": {
          "base_uri": "https://localhost:8080/"
        },
        "id": "VsTgXq8q7kdb",
        "outputId": "2fc4fcc5-0b1b-4f9d-dea4-dc4c31271d24"
      },
      "source": [
        "X.describe"
      ],
      "execution_count": 9,
      "outputs": [
        {
          "output_type": "execute_result",
          "data": {
            "text/plain": [
              "<bound method NDFrame.describe of        cat0 cat1 cat2 cat3  ...    cont10    cont11    cont12    cont13\n",
              "id                          ...                                        \n",
              "1         B    B    B    C  ...  0.237281  0.377873  0.322401  0.869850\n",
              "2         B    B    A    A  ...  0.906013  0.921701  0.261975  0.465083\n",
              "3         A    A    A    C  ...  0.748809  0.620126  0.541474  0.763846\n",
              "4         B    B    A    C  ...  0.346010  0.714610  0.540150  0.280682\n",
              "6         A    A    A    C  ...  1.000773  0.776742  0.625849  0.250823\n",
              "...     ...  ...  ...  ...  ...       ...       ...       ...       ...\n",
              "499993    B    B    A    A  ...  0.422541  1.063463  0.697685  0.506404\n",
              "499996    A    B    A    C  ...  0.301015  0.268447  0.577055  0.823611\n",
              "499997    B    B    A    C  ...  0.661007  0.629606  0.714139  0.245732\n",
              "499998    A    B    A    C  ...  0.288768  0.611169  0.380254  0.332030\n",
              "499999    A    A    A    C  ...  0.734707  0.484392  0.639754  0.689317\n",
              "\n",
              "[300000 rows x 24 columns]>"
            ]
          },
          "metadata": {},
          "execution_count": 9
        }
      ]
    },
    {
      "cell_type": "code",
      "metadata": {
        "trusted": true,
        "colab": {
          "base_uri": "https://localhost:8080/"
        },
        "id": "1joHdf9X7keL",
        "outputId": "b1aa0943-fbb9-45c0-c576-ee38ad46b3fc"
      },
      "source": [
        "low_cardinality_cols = [cname for cname in X.columns if X[cname].nunique() < 10 and X[cname].dtype == \"object\"]\n",
        "\n",
        "low_cardinality_cols"
      ],
      "execution_count": 10,
      "outputs": [
        {
          "output_type": "execute_result",
          "data": {
            "text/plain": [
              "['cat0', 'cat1', 'cat2', 'cat3', 'cat4', 'cat5', 'cat6', 'cat7', 'cat8']"
            ]
          },
          "metadata": {},
          "execution_count": 10
        }
      ]
    },
    {
      "cell_type": "code",
      "metadata": {
        "trusted": true,
        "colab": {
          "base_uri": "https://localhost:8080/"
        },
        "id": "W_oBw_S77ke1",
        "outputId": "d5bbb75e-30cc-4983-ef27-6ed6f6550a36"
      },
      "source": [
        "numeric_cols = [cname for cname in X.columns if X[cname].dtype in ['int64', 'float64']]\n",
        "numeric_cols"
      ],
      "execution_count": 11,
      "outputs": [
        {
          "output_type": "execute_result",
          "data": {
            "text/plain": [
              "['cont0',\n",
              " 'cont1',\n",
              " 'cont2',\n",
              " 'cont3',\n",
              " 'cont4',\n",
              " 'cont5',\n",
              " 'cont6',\n",
              " 'cont7',\n",
              " 'cont8',\n",
              " 'cont9',\n",
              " 'cont10',\n",
              " 'cont11',\n",
              " 'cont12',\n",
              " 'cont13']"
            ]
          },
          "metadata": {},
          "execution_count": 11
        }
      ]
    },
    {
      "cell_type": "markdown",
      "metadata": {
        "id": "ry0oPHFn7kgE"
      },
      "source": [
        "# Step 3: Prepare the data\n",
        "\n",
        "Next, we'll need to handle the categorical columns (`cat0`, `cat1`, ... `cat9`).  \n",
        "\n",
        "In the **[Categorical Variables lesson](https://www.kaggle.com/alexisbcook/categorical-variables)** in the Intermediate Machine Learning course, you learned several different ways to encode categorical variables in a dataset.  In this notebook, we'll use ordinal encoding and save our encoded features as new variables `X` and `X_test`."
      ]
    },
    {
      "cell_type": "code",
      "metadata": {
        "trusted": true,
        "id": "JVxxZGVz7kgP"
      },
      "source": [
        "X_train, X_valid, y_train, y_valid = train_test_split(X, y, random_state=42)"
      ],
      "execution_count": 12,
      "outputs": []
    },
    {
      "cell_type": "code",
      "metadata": {
        "execution": {
          "iopub.status.busy": "2021-08-19T10:17:41.837746Z",
          "iopub.execute_input": "2021-08-19T10:17:41.838107Z",
          "iopub.status.idle": "2021-08-19T10:17:43.177247Z",
          "shell.execute_reply.started": "2021-08-19T10:17:41.838070Z",
          "shell.execute_reply": "2021-08-19T10:17:43.176079Z"
        },
        "trusted": true,
        "id": "RnzCO-IR7kgU"
      },
      "source": [
        "# # List of categorical columns\n",
        "# object_cols = [col for col in features.columns if 'cat' in col]\n",
        "\n",
        "my_cols = low_cardinality_cols + numeric_cols\n",
        "X_train = X_train[my_cols].copy()\n",
        "X_valid = X_valid[my_cols].copy()\n",
        "X_test = test[my_cols].copy()\n",
        "\n",
        "# ordinal-encode categorical columns\n",
        "# X = features.copy()\n",
        "# X_test = test.copy()\n",
        "# ordinal_encoder = OrdinalEncoder()\n",
        "# X[low_cardinality_cols] = ordinal_encoder.fit_transform(features[low_cardinality_cols])\n",
        "# X_test[low_cardinality_cols] = ordinal_encoder.transform(test[low_cardinality_cols])\n",
        "\n",
        "# # # Preview the ordinal-encoded features\n",
        "# X[low_cardinality_cols].head()\n",
        "\n",
        "# One hot encoding\n",
        "from sklearn.preprocessing import OneHotEncoder\n",
        "\n",
        "OH_encoder = OneHotEncoder(handle_unknown='ignore', sparse=False)\n",
        "OH_cols_train = pd.DataFrame(OH_encoder.fit_transform(X_train[low_cardinality_cols]))\n",
        "OH_cols_valid = pd.DataFrame(OH_encoder.transform(X_valid[low_cardinality_cols]))\n",
        "\n",
        "\n",
        "OH_cols_train.index = X_train.index\n",
        "OH_cols_valid.index = X_valid.index"
      ],
      "execution_count": null,
      "outputs": []
    },
    {
      "cell_type": "code",
      "metadata": {
        "execution": {
          "iopub.status.busy": "2021-08-19T10:17:43.178388Z",
          "iopub.execute_input": "2021-08-19T10:17:43.178691Z",
          "iopub.status.idle": "2021-08-19T10:17:43.394282Z",
          "shell.execute_reply.started": "2021-08-19T10:17:43.178661Z",
          "shell.execute_reply": "2021-08-19T10:17:43.393080Z"
        },
        "trusted": true,
        "id": "6eGc-FZD7kgq"
      },
      "source": [
        "OH_X_train = pd.concat([X_train[numeric_cols], OH_cols_train], axis=1)\n",
        "OH_X_valid = pd.concat([X_valid[numeric_cols], OH_cols_valid], axis=1)"
      ],
      "execution_count": null,
      "outputs": []
    },
    {
      "cell_type": "markdown",
      "metadata": {
        "id": "PpcZF3667kg9"
      },
      "source": [
        "# Setting up Pipeline"
      ]
    },
    {
      "cell_type": "code",
      "metadata": {
        "execution": {
          "iopub.status.busy": "2021-08-19T10:23:59.996119Z",
          "iopub.execute_input": "2021-08-19T10:23:59.996536Z",
          "iopub.status.idle": "2021-08-19T10:24:00.011215Z",
          "shell.execute_reply.started": "2021-08-19T10:23:59.996499Z",
          "shell.execute_reply": "2021-08-19T10:24:00.009903Z"
        },
        "trusted": true,
        "id": "6Z3dginb7khG"
      },
      "source": [
        "from sklearn.compose import ColumnTransformer\n",
        "from sklearn.pipeline import Pipeline\n",
        "from sklearn.impute import SimpleImputer\n",
        "from sklearn.preprocessing import OneHotEncoder\n",
        "\n",
        "# Preprocessing for numerical data\n",
        "numerical_transformer = SimpleImputer(strategy='constant')\n",
        "\n",
        "# Preprocessing for categorical data\n",
        "categorical_transformer = Pipeline(steps=[\n",
        "    ('imputer', SimpleImputer(strategy='most_frequent')),\n",
        "    ('onehot', OneHotEncoder(handle_unknown='ignore', sparse=False))\n",
        "])\n",
        "\n",
        "# Bundle preprocessing for numerical and categorical data\n",
        "preprocessor = ColumnTransformer(\n",
        "    transformers=[\n",
        "        ('num', numerical_transformer, numeric_cols),\n",
        "        ('cat', categorical_transformer, low_cardinality_cols)\n",
        "    ])"
      ],
      "execution_count": 14,
      "outputs": []
    },
    {
      "cell_type": "code",
      "metadata": {
        "execution": {
          "iopub.status.busy": "2021-08-19T10:25:44.520465Z",
          "iopub.execute_input": "2021-08-19T10:25:44.520914Z",
          "iopub.status.idle": "2021-08-19T10:37:28.502742Z",
          "shell.execute_reply.started": "2021-08-19T10:25:44.520878Z",
          "shell.execute_reply": "2021-08-19T10:37:28.501941Z"
        },
        "trusted": true,
        "id": "FHtBqnoz7khR"
      },
      "source": [
        "from sklearn.ensemble import RandomForestRegressor\n",
        "from sklearn.metrics import mean_squared_error\n",
        "\n",
        "# model = RandomForestRegressor(n_estimators=100, random_state=42)\n",
        "\n",
        "from sklearn.metrics import mean_squared_error\n",
        "\n",
        "# Bundle preprocessing and modeling code in a pipeline\n",
        "my_pipeline = Pipeline(steps=[('preprocessor', preprocessor),\n",
        "                              ('model', RandomForestRegressor(n_estimators=100, random_state=42))\n",
        "                             ])\n",
        "\n",
        "# Preprocessing of training data, fit model \n",
        "my_pipeline.fit(X_train, y_train)\n",
        "\n",
        "# Preprocessing of validation data, get predictions\n",
        "preds = my_pipeline.predict(X_valid)\n",
        "\n",
        "# Evaluate the model\n",
        "score = mean_squared_error(y_valid, preds)\n",
        "print('RMSE:', score)"
      ],
      "execution_count": null,
      "outputs": []
    },
    {
      "cell_type": "markdown",
      "metadata": {
        "id": "akhYcVmz7khb"
      },
      "source": [
        "# Implementing cross validation"
      ]
    },
    {
      "cell_type": "code",
      "metadata": {
        "execution": {
          "iopub.status.busy": "2021-08-19T10:37:28.504438Z",
          "iopub.execute_input": "2021-08-19T10:37:28.504745Z",
          "iopub.status.idle": "2021-08-19T11:40:12.910878Z",
          "shell.execute_reply.started": "2021-08-19T10:37:28.504715Z",
          "shell.execute_reply": "2021-08-19T11:40:12.909256Z"
        },
        "trusted": true,
        "id": "OkQ5iw-87khe",
        "outputId": "aa4a673a-0695-4a12-c4d6-6cfb5f92d77d"
      },
      "source": [
        "from sklearn.model_selection import cross_val_score\n",
        "\n",
        "# Multiply by -1 since sklearn calculates *negative* MAE\n",
        "scores = -1 * cross_val_score(my_pipeline, X, y,\n",
        "                              cv=5,\n",
        "                              scoring='neg_mean_absolute_error')\n",
        "\n",
        "print(\"MSE scores:\\n\", scores)"
      ],
      "execution_count": null,
      "outputs": [
        {
          "name": "stdout",
          "text": "MAE scores:\n [0.58080752 0.58550842 0.58309155 0.58412122 0.58423731]\n",
          "output_type": "stream"
        }
      ]
    },
    {
      "cell_type": "code",
      "metadata": {
        "execution": {
          "iopub.status.busy": "2021-08-18T15:21:37.430813Z",
          "iopub.execute_input": "2021-08-18T15:21:37.431220Z",
          "iopub.status.idle": "2021-08-18T15:33:41.893998Z",
          "shell.execute_reply.started": "2021-08-18T15:21:37.431184Z",
          "shell.execute_reply": "2021-08-18T15:33:41.892640Z"
        },
        "trusted": true,
        "id": "1f8pKHij7khh",
        "outputId": "4598fc59-7536-4c2d-fe3e-4b7fd8a5c67e"
      },
      "source": [
        "from sklearn.ensemble import RandomForestRegressor\n",
        "from sklearn.metrics import mean_squared_error\n",
        "\n",
        "# Function for comparing different approaches\n",
        "# def score_dataset(X_train, X_valid, y_train, y_valid):\n",
        "model = RandomForestRegressor(n_estimators=100, random_state=42)\n",
        "model.fit(OH_X_train, y_train)\n",
        "preds = model.predict(OH_X_valid)\n",
        "\n",
        "# #     return mean_squared_error(y_valid, preds, squared=False)\n",
        "\n",
        "# print(\"Mean Square Error (One-Hot Encoding):\") \n",
        "print(mean_squared_error(y_valid, preds, squared=False))"
      ],
      "execution_count": null,
      "outputs": [
        {
          "name": "stdout",
          "text": "0.7337823426387232\n",
          "output_type": "stream"
        }
      ]
    },
    {
      "cell_type": "markdown",
      "metadata": {
        "id": "CqIcQAXq7khs"
      },
      "source": [
        "# Step 4: Train a model\n",
        "\n",
        "Now that the data is prepared, the next step is to train a model.  \n",
        "\n",
        "If you took the **[Intro to Machine Learning](https://www.kaggle.com/learn/intro-to-machine-learning)** courses, then you learned about **[Random Forests](https://www.kaggle.com/dansbecker/random-forests)**.  In the code cell below, we fit a random forest model to the data."
      ]
    },
    {
      "cell_type": "markdown",
      "metadata": {
        "id": "CVCxkJ3l7khw"
      },
      "source": [
        "In the code cell above, we set `squared=False` to get the root mean squared error (RMSE) on the validation data.\n",
        "\n",
        "# Step 5: Submit to the competition\n",
        "\n",
        "We'll begin by using the trained model to generate predictions, which we'll save to a CSV file."
      ]
    },
    {
      "cell_type": "code",
      "metadata": {
        "execution": {
          "iopub.status.busy": "2021-08-18T15:37:36.161961Z",
          "iopub.execute_input": "2021-08-18T15:37:36.162340Z",
          "iopub.status.idle": "2021-08-18T15:37:52.094498Z",
          "shell.execute_reply.started": "2021-08-18T15:37:36.162308Z",
          "shell.execute_reply": "2021-08-18T15:37:52.093395Z"
        },
        "trusted": true,
        "id": "S_Wm1Mfx7kh-"
      },
      "source": [
        "OH_cols_test = pd.DataFrame(OH_encoder.transform(X_test[low_cardinality_cols]))\n",
        "OH_cols_test.index = X_test.index\n",
        "OH_test = pd.concat([X_test[numeric_cols], OH_cols_test], axis=1)\n",
        "\n",
        "# Use the model to generate predictions\n",
        "predictions = model.predict(OH_test)\n",
        "\n",
        "# Save the predictions to a CSV file\n",
        "output = pd.DataFrame({'Id': X_test.index,\n",
        "                       'target': predictions})\n",
        "output.to_csv('submission.csv', index=False)"
      ],
      "execution_count": null,
      "outputs": []
    },
    {
      "cell_type": "markdown",
      "metadata": {
        "id": "FlfJYN5C7kiK"
      },
      "source": [
        "Once you have run the code cell above, follow the instructions below to submit to the competition:\n",
        "1. Begin by clicking on the **Save Version** button in the top right corner of the window.  This will generate a pop-up window.  \n",
        "2. Ensure that the **Save and Run All** option is selected, and then click on the **Save** button.\n",
        "3. This generates a window in the bottom left corner of the notebook.  After it has finished running, click on the number to the right of the **Save Version** button.  This pulls up a list of versions on the right of the screen.  Click on the ellipsis **(...)** to the right of the most recent version, and select **Open in Viewer**.  This brings you into view mode of the same page. You will need to scroll down to get back to these instructions.\n",
        "4. Click on the **Output** tab on the right of the screen.  Then, click on the file you would like to submit, and click on the **Submit** button to submit your results to the leaderboard.\n",
        "\n",
        "You have now successfully submitted to the competition!\n",
        "\n",
        "If you want to keep working to improve your performance, select the **Edit** button in the top right of the screen. Then you can change your code and repeat the process. There's a lot of room to improve, and you will climb up the leaderboard as you work."
      ]
    },
    {
      "cell_type": "markdown",
      "metadata": {
        "id": "uD5FDO4H7kiR"
      },
      "source": [
        "# Step 6: Keep Learning!\n",
        "\n",
        "If you're not sure what to do next, you can begin by trying out more model types!\n",
        "1. If you took the **[Intermediate Machine Learning](https://www.kaggle.com/learn/intermediate-machine-learning)** course, then you learned about **[XGBoost](https://www.kaggle.com/alexisbcook/xgboost)**.  Try training a model with XGBoost, to improve over the performance you got here.\n",
        "\n",
        "2. Take the time to learn about **Light GBM (LGBM)**, which is similar to XGBoost, since they both use gradient boosting to iteratively add decision trees to an ensemble.  In case you're not sure how to get started, **[here's a notebook](https://www.kaggle.com/svyatoslavsokolov/tps-feb-2021-lgbm-simple-version)** that trains a model on a similar dataset."
      ]
    }
  ]
}