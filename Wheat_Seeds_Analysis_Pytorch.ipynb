{
  "nbformat": 4,
  "nbformat_minor": 0,
  "metadata": {
    "colab": {
      "name": "Wheat_Seeds_Analysis_Pytorch.ipynb",
      "provenance": [],
      "collapsed_sections": [],
      "toc_visible": true
    },
    "kernelspec": {
      "name": "python3",
      "display_name": "Python 3"
    }
  },
  "cells": [
    {
      "cell_type": "markdown",
      "metadata": {
        "id": "693i6O67Dz4D"
      },
      "source": [
        "# Wheat Seed Dataset"
      ]
    },
    {
      "cell_type": "markdown",
      "metadata": {
        "id": "kOelmMtBDzp2"
      },
      "source": [
        "# 1: Introduction\r\n",
        "\r\n",
        "The Wheat Seeds Dataset involves the prediction of species given measurements of seeds from different varieties of wheat.\r\n",
        "\r\n",
        "It is a classification problem. The number of observations for each class is balanced. There are 199 observations with 7 input variables and 1 output variable. The variable names are as follows:\r\n",
        "\r\n",
        "<br> 1. Area.\r\n",
        "<br> 2. Perimeter.\r\n",
        "<br> 3. Compactness\r\n",
        "<br> 4. Length of kernel.\r\n",
        "<br> 5. Width of kernel.\r\n",
        "<br> 6. Asymmetry coefficient.\r\n",
        "<br> 7. Length of kernel groove.\r\n",
        "<br> 8. Class (1, 2, 3).\r\n",
        "\r\n",
        "\r\n"
      ]
    },
    {
      "cell_type": "markdown",
      "metadata": {
        "id": "bAjihW15FH5r"
      },
      "source": [
        "# 2: Data Pre processing"
      ]
    },
    {
      "cell_type": "markdown",
      "metadata": {
        "id": "kPcnFEs_FCp1"
      },
      "source": [
        "## 2.1 Loading the required Libraries"
      ]
    },
    {
      "cell_type": "code",
      "metadata": {
        "id": "88nkJaN10fZ_"
      },
      "source": [
        "import sys\r\n",
        "assert sys.version_info >= (3, 5)\r\n",
        "\r\n",
        "# Scikit-Learn ≥0.20 is required\r\n",
        "import sklearn\r\n",
        "assert sklearn.__version__ >= \"0.20\"\r\n",
        "\r\n",
        "# Common imports\r\n",
        "import numpy as np\r\n",
        "import os\r\n",
        "import pandas as pd\r\n",
        "\r\n",
        "# To plot pretty figures\r\n",
        "%matplotlib inline\r\n",
        "import matplotlib as mpl\r\n",
        "import matplotlib.pyplot as plt\r\n",
        "import seaborn as sns\r\n",
        "mpl.rc('axes', labelsize=14)\r\n",
        "mpl.rc('xtick', labelsize=12)\r\n",
        "mpl.rc('ytick', labelsize=12)\r\n",
        "\r\n",
        "#Pytorch Lib\r\n",
        "import torch\r\n",
        "import random\r\n",
        "import torch.utils.data as data_utils\r\n",
        "import torch.nn as nn\r\n",
        "import torch.nn.functional as F"
      ],
      "execution_count": null,
      "outputs": []
    },
    {
      "cell_type": "markdown",
      "metadata": {
        "id": "42P9tt6pFMYF"
      },
      "source": [
        "## 2.2 Get Data"
      ]
    },
    {
      "cell_type": "code",
      "metadata": {
        "colab": {
          "base_uri": "https://localhost:8080/",
          "height": 204
        },
        "id": "NSHVS4qs0pB_",
        "outputId": "60c6f676-f4da-4db9-aed4-3126157ae35c"
      },
      "source": [
        "## Loading the dataset from github repo\r\n",
        "url = 'https://raw.githubusercontent.com/hargurjeet/MachineLearning/Wheat-Seeds/seeds.csv'\r\n",
        "df = pd.read_csv(url)\r\n",
        "\r\n",
        "df.head()"
      ],
      "execution_count": null,
      "outputs": [
        {
          "output_type": "execute_result",
          "data": {
            "text/html": [
              "<div>\n",
              "<style scoped>\n",
              "    .dataframe tbody tr th:only-of-type {\n",
              "        vertical-align: middle;\n",
              "    }\n",
              "\n",
              "    .dataframe tbody tr th {\n",
              "        vertical-align: top;\n",
              "    }\n",
              "\n",
              "    .dataframe thead th {\n",
              "        text-align: right;\n",
              "    }\n",
              "</style>\n",
              "<table border=\"1\" class=\"dataframe\">\n",
              "  <thead>\n",
              "    <tr style=\"text-align: right;\">\n",
              "      <th></th>\n",
              "      <th>Area</th>\n",
              "      <th>Perimeter</th>\n",
              "      <th>Compactness</th>\n",
              "      <th>Kernel.Length</th>\n",
              "      <th>Kernel.Width</th>\n",
              "      <th>Asymmetry.Coeff</th>\n",
              "      <th>Kernel.Groove</th>\n",
              "      <th>Type</th>\n",
              "    </tr>\n",
              "  </thead>\n",
              "  <tbody>\n",
              "    <tr>\n",
              "      <th>0</th>\n",
              "      <td>15.26</td>\n",
              "      <td>14.84</td>\n",
              "      <td>0.8710</td>\n",
              "      <td>5.763</td>\n",
              "      <td>3.312</td>\n",
              "      <td>2.221</td>\n",
              "      <td>5.220</td>\n",
              "      <td>1</td>\n",
              "    </tr>\n",
              "    <tr>\n",
              "      <th>1</th>\n",
              "      <td>14.88</td>\n",
              "      <td>14.57</td>\n",
              "      <td>0.8811</td>\n",
              "      <td>5.554</td>\n",
              "      <td>3.333</td>\n",
              "      <td>1.018</td>\n",
              "      <td>4.956</td>\n",
              "      <td>1</td>\n",
              "    </tr>\n",
              "    <tr>\n",
              "      <th>2</th>\n",
              "      <td>14.29</td>\n",
              "      <td>14.09</td>\n",
              "      <td>0.9050</td>\n",
              "      <td>5.291</td>\n",
              "      <td>3.337</td>\n",
              "      <td>2.699</td>\n",
              "      <td>4.825</td>\n",
              "      <td>1</td>\n",
              "    </tr>\n",
              "    <tr>\n",
              "      <th>3</th>\n",
              "      <td>13.84</td>\n",
              "      <td>13.94</td>\n",
              "      <td>0.8955</td>\n",
              "      <td>5.324</td>\n",
              "      <td>3.379</td>\n",
              "      <td>2.259</td>\n",
              "      <td>4.805</td>\n",
              "      <td>1</td>\n",
              "    </tr>\n",
              "    <tr>\n",
              "      <th>4</th>\n",
              "      <td>16.14</td>\n",
              "      <td>14.99</td>\n",
              "      <td>0.9034</td>\n",
              "      <td>5.658</td>\n",
              "      <td>3.562</td>\n",
              "      <td>1.355</td>\n",
              "      <td>5.175</td>\n",
              "      <td>1</td>\n",
              "    </tr>\n",
              "  </tbody>\n",
              "</table>\n",
              "</div>"
            ],
            "text/plain": [
              "    Area  Perimeter  Compactness  ...  Asymmetry.Coeff  Kernel.Groove  Type\n",
              "0  15.26      14.84       0.8710  ...            2.221          5.220     1\n",
              "1  14.88      14.57       0.8811  ...            1.018          4.956     1\n",
              "2  14.29      14.09       0.9050  ...            2.699          4.825     1\n",
              "3  13.84      13.94       0.8955  ...            2.259          4.805     1\n",
              "4  16.14      14.99       0.9034  ...            1.355          5.175     1\n",
              "\n",
              "[5 rows x 8 columns]"
            ]
          },
          "metadata": {
            "tags": []
          },
          "execution_count": 2
        }
      ]
    },
    {
      "cell_type": "code",
      "metadata": {
        "colab": {
          "base_uri": "https://localhost:8080/"
        },
        "id": "mkE6rFQ93Uu3",
        "outputId": "cf4ac000-f2b3-4ea8-c1af-4d3cda44d706"
      },
      "source": [
        "df.shape"
      ],
      "execution_count": null,
      "outputs": [
        {
          "output_type": "execute_result",
          "data": {
            "text/plain": [
              "(199, 8)"
            ]
          },
          "metadata": {
            "tags": []
          },
          "execution_count": 3
        }
      ]
    },
    {
      "cell_type": "code",
      "metadata": {
        "colab": {
          "base_uri": "https://localhost:8080/"
        },
        "id": "ENK7d_uVqR0S",
        "outputId": "a346bd9b-330d-4116-ae16-06b3fdae693e"
      },
      "source": [
        "df.Type.value_counts()"
      ],
      "execution_count": null,
      "outputs": [
        {
          "output_type": "execute_result",
          "data": {
            "text/plain": [
              "2    68\n",
              "1    66\n",
              "3    65\n",
              "Name: Type, dtype: int64"
            ]
          },
          "metadata": {
            "tags": []
          },
          "execution_count": 4
        }
      ]
    },
    {
      "cell_type": "markdown",
      "metadata": {
        "id": "8_H9ElTeFV_o"
      },
      "source": [
        "# 3: Preparing the data for ML model"
      ]
    },
    {
      "cell_type": "code",
      "metadata": {
        "id": "4S5wwM2CIflB"
      },
      "source": [
        "# this is to update the labels from 1, 2, 3 to 0, 1, 2\r\n",
        "def update_values_(df):\r\n",
        "  for i in range(len(df)):\r\n",
        "    df[i] = df[i] - 1\r\n",
        "\r\n",
        "  return df"
      ],
      "execution_count": null,
      "outputs": []
    },
    {
      "cell_type": "markdown",
      "metadata": {
        "id": "0SVQNdLKFlvb"
      },
      "source": [
        "## 3.1 Splitting the data in train and validation sets"
      ]
    },
    {
      "cell_type": "code",
      "metadata": {
        "colab": {
          "base_uri": "https://localhost:8080/"
        },
        "id": "NpsPF8_n6ER_",
        "outputId": "65a70162-94ef-4b9d-84c2-21b8d2064eff"
      },
      "source": [
        "# Converting the data to tensors\r\n",
        "from torch.utils.data import random_split\r\n",
        "import torch\r\n",
        "import random\r\n",
        "from torch.utils.data import TensorDataset\r\n",
        "\r\n",
        "train_target = torch.tensor(df['Type'].values.astype(np.int64))\r\n",
        "train = torch.tensor(df.drop('Type', axis = 1).values.astype(np.float32))\r\n",
        "\r\n",
        "\r\n",
        "train_tensor = TensorDataset(train, update_values_(train_target))\r\n",
        "\r\n",
        "train_ds, val_ds = random_split(train_tensor, [180, 19])\r\n",
        "len(train_ds), len(val_ds)"
      ],
      "execution_count": null,
      "outputs": [
        {
          "output_type": "execute_result",
          "data": {
            "text/plain": [
              "(180, 19)"
            ]
          },
          "metadata": {
            "tags": []
          },
          "execution_count": 6
        }
      ]
    },
    {
      "cell_type": "code",
      "metadata": {
        "id": "uSES2_KJ37S0"
      },
      "source": [
        "from torch.utils.data import DataLoader\r\n",
        "\r\n",
        "batch_size = 64\r\n",
        "\r\n",
        "train_loader = DataLoader(train_ds, batch_size, shuffle = True)\r\n",
        "val_loader = DataLoader(val_ds, batch_size)"
      ],
      "execution_count": null,
      "outputs": []
    },
    {
      "cell_type": "code",
      "metadata": {
        "id": "Uau97S3Z6SRp",
        "colab": {
          "base_uri": "https://localhost:8080/"
        },
        "outputId": "c09c5639-149b-4bd2-b31d-87c683490df5"
      },
      "source": [
        "for xb, yb in train_loader:\r\n",
        "    print(xb)\r\n",
        "    print(yb)\r\n",
        "    break"
      ],
      "execution_count": null,
      "outputs": [
        {
          "output_type": "stream",
          "text": [
            "tensor([[14.5200, 14.6000,  0.8557,  5.7410,  3.1130,  1.4810,  5.4870],\n",
            "        [11.7500, 13.5200,  0.8082,  5.4440,  2.6780,  4.3780,  5.3100],\n",
            "        [13.3200, 13.9400,  0.8613,  5.5410,  3.0730,  7.0350,  5.4400],\n",
            "        [12.7800, 13.5700,  0.8716,  5.2620,  3.0260,  1.1760,  4.7820],\n",
            "        [12.3600, 13.1900,  0.8923,  5.0760,  3.0420,  3.2200,  4.6050],\n",
            "        [11.1900, 13.0500,  0.8253,  5.2500,  2.6750,  5.8130,  5.2190],\n",
            "        [12.7600, 13.3800,  0.8964,  5.0730,  3.1550,  2.8280,  4.8300],\n",
            "        [10.5900, 12.4100,  0.8648,  4.8990,  2.7870,  4.9750,  4.7940],\n",
            "        [14.0300, 14.1600,  0.8796,  5.4380,  3.2010,  1.7170,  5.0010],\n",
            "        [15.2600, 14.8400,  0.8710,  5.7630,  3.3120,  2.2210,  5.2200],\n",
            "        [16.5300, 15.3400,  0.8823,  5.8750,  3.4670,  5.5320,  5.8800],\n",
            "        [16.4400, 15.2500,  0.8880,  5.8840,  3.5050,  1.9690,  5.5330],\n",
            "        [13.5400, 13.8500,  0.8871,  5.3480,  3.1560,  2.5870,  5.1780],\n",
            "        [11.2700, 12.8600,  0.8563,  5.0910,  2.8040,  3.9850,  5.0010],\n",
            "        [16.1900, 15.1600,  0.8849,  5.8330,  3.4210,  0.9030,  5.3070],\n",
            "        [11.5600, 13.3100,  0.8198,  5.3630,  2.6830,  4.0620,  5.1820],\n",
            "        [18.9800, 16.5700,  0.8687,  6.4490,  3.5520,  2.1440,  6.4530],\n",
            "        [15.5700, 15.1500,  0.8527,  5.9200,  3.2310,  2.6400,  5.8790],\n",
            "        [14.4600, 14.3500,  0.8818,  5.3880,  3.3770,  2.8020,  5.0440],\n",
            "        [17.9900, 15.8600,  0.8992,  5.8900,  3.6940,  2.0680,  5.8370],\n",
            "        [12.0800, 13.2300,  0.8664,  5.0990,  2.9360,  1.4150,  4.9610],\n",
            "        [14.0100, 14.2900,  0.8625,  5.6090,  3.1580,  2.2170,  5.1320],\n",
            "        [10.8200, 12.8300,  0.8256,  5.1800,  2.6300,  4.8530,  5.0890],\n",
            "        [12.8800, 13.5000,  0.8879,  5.1390,  3.1190,  2.3520,  4.6070],\n",
            "        [13.2000, 13.6600,  0.8883,  5.2360,  3.2320,  8.3150,  5.0560],\n",
            "        [18.9400, 16.4900,  0.8750,  6.4450,  3.6390,  5.0640,  6.3620],\n",
            "        [19.9400, 16.9200,  0.8752,  6.6750,  3.7630,  3.2520,  6.5500],\n",
            "        [18.9500, 16.4200,  0.8829,  6.2480,  3.7550,  3.3680,  6.1480],\n",
            "        [11.8300, 13.2300,  0.8496,  5.2630,  2.8400,  5.1950,  5.3070],\n",
            "        [18.8900, 16.2300,  0.9008,  6.2270,  3.7690,  3.6390,  5.9660],\n",
            "        [13.2200, 13.8400,  0.8680,  5.3950,  3.0700,  4.1570,  5.0880],\n",
            "        [18.4500, 16.1200,  0.8921,  6.1070,  3.7690,  2.2350,  5.7940],\n",
            "        [16.8700, 15.6500,  0.8648,  6.1390,  3.4630,  3.6960,  5.9670],\n",
            "        [15.6900, 14.7500,  0.9058,  5.5270,  3.5140,  1.5990,  5.0460],\n",
            "        [12.6200, 13.6700,  0.8481,  5.4100,  2.9110,  3.3060,  5.2310],\n",
            "        [11.4900, 13.2200,  0.8263,  5.3040,  2.6950,  5.3880,  5.3100],\n",
            "        [12.4600, 13.4100,  0.8706,  5.2360,  3.0170,  4.9870,  5.1470],\n",
            "        [20.8800, 17.0500,  0.9031,  6.4500,  4.0320,  5.0160,  6.3210],\n",
            "        [18.6500, 16.4100,  0.8698,  6.2850,  3.5940,  4.3910,  6.1020],\n",
            "        [19.0600, 16.4500,  0.8854,  6.4160,  3.7190,  2.2480,  6.1630],\n",
            "        [13.9900, 13.8300,  0.9183,  5.1190,  3.3830,  5.2340,  4.7810],\n",
            "        [17.5500, 15.6600,  0.8991,  5.7910,  3.6900,  5.3660,  5.6610],\n",
            "        [12.4900, 13.4600,  0.8658,  5.2670,  2.9670,  4.4210,  5.0020],\n",
            "        [16.1600, 15.3300,  0.8644,  5.8450,  3.3950,  4.2660,  5.7950],\n",
            "        [18.8800, 16.2600,  0.8969,  6.0840,  3.7640,  1.6490,  6.1090],\n",
            "        [12.7400, 13.6700,  0.8564,  5.3950,  2.9560,  2.5040,  4.8690],\n",
            "        [15.3800, 14.7700,  0.8857,  5.6620,  3.4190,  1.9990,  5.2220],\n",
            "        [16.1700, 15.3800,  0.8588,  5.7620,  3.3870,  4.2860,  5.7030],\n",
            "        [13.5000, 13.8500,  0.8852,  5.3510,  3.1580,  2.2490,  5.1760],\n",
            "        [17.3600, 15.7600,  0.8785,  6.1450,  3.5740,  3.5260,  5.9710],\n",
            "        [18.9400, 16.3200,  0.8942,  6.1440,  3.8250,  2.9080,  5.9490],\n",
            "        [12.0500, 13.4100,  0.8416,  5.2670,  2.8470,  4.9880,  5.0460],\n",
            "        [14.8600, 14.6700,  0.8676,  5.6780,  3.2580,  2.1290,  5.3510],\n",
            "        [12.2100, 13.4700,  0.8453,  5.3570,  2.8930,  1.6610,  5.1780],\n",
            "        [17.6300, 15.9800,  0.8673,  6.1910,  3.5610,  4.0760,  6.0600],\n",
            "        [14.9200, 14.4300,  0.9006,  5.3840,  3.4120,  1.1420,  5.0880],\n",
            "        [18.5900, 16.0500,  0.9066,  6.0370,  3.8600,  6.0010,  5.8770],\n",
            "        [20.9700, 17.2500,  0.8859,  6.5630,  3.9910,  4.6770,  6.3160],\n",
            "        [12.3800, 13.4400,  0.8609,  5.2190,  2.9890,  5.4720,  5.0450],\n",
            "        [11.3400, 12.8700,  0.8596,  5.0530,  2.8490,  3.3470,  5.0030],\n",
            "        [12.1100, 13.2700,  0.8639,  5.2360,  2.9750,  4.1320,  5.0120],\n",
            "        [10.9300, 12.8000,  0.8390,  5.0460,  2.7170,  5.3980,  5.0450],\n",
            "        [14.5900, 14.2800,  0.8993,  5.3510,  3.3330,  4.1850,  4.7810],\n",
            "        [18.9600, 16.2000,  0.9077,  6.0510,  3.8970,  4.3340,  5.7500]])\n",
            "tensor([0, 2, 2, 0, 0, 2, 2, 2, 0, 0, 1, 0, 0, 2, 0, 2, 1, 1, 0, 1, 0, 0, 2, 0,\n",
            "        2, 1, 1, 1, 2, 1, 0, 1, 1, 0, 2, 2, 2, 1, 1, 1, 0, 1, 2, 1, 1, 0, 0, 1,\n",
            "        0, 1, 1, 2, 0, 2, 1, 0, 1, 1, 2, 2, 2, 2, 0, 1])\n"
          ],
          "name": "stdout"
        }
      ]
    },
    {
      "cell_type": "code",
      "metadata": {
        "colab": {
          "base_uri": "https://localhost:8080/"
        },
        "id": "66V4xBzh3bxP",
        "outputId": "34a46379-aaab-4fd8-f2c6-b279c7808c01"
      },
      "source": [
        "train_tensor[0:3]"
      ],
      "execution_count": null,
      "outputs": [
        {
          "output_type": "execute_result",
          "data": {
            "text/plain": [
              "(tensor([[15.2600, 14.8400,  0.8710,  5.7630,  3.3120,  2.2210,  5.2200],\n",
              "         [14.8800, 14.5700,  0.8811,  5.5540,  3.3330,  1.0180,  4.9560],\n",
              "         [14.2900, 14.0900,  0.9050,  5.2910,  3.3370,  2.6990,  4.8250]]),\n",
              " tensor([0, 0, 0]))"
            ]
          },
          "metadata": {
            "tags": []
          },
          "execution_count": 9
        }
      ]
    },
    {
      "cell_type": "markdown",
      "metadata": {
        "id": "3N2R-x-eF5mi"
      },
      "source": [
        "# 4: Building the ML Model"
      ]
    },
    {
      "cell_type": "markdown",
      "metadata": {
        "id": "XG0SWEDRPxSE"
      },
      "source": [
        "## 4.1 nn.Linear Model"
      ]
    },
    {
      "cell_type": "code",
      "metadata": {
        "colab": {
          "base_uri": "https://localhost:8080/"
        },
        "id": "wWc2lsfT6SOK",
        "outputId": "5c31b574-a083-4a29-9396-f357eb6900a1"
      },
      "source": [
        "import torch.nn as nn\r\n",
        "\r\n",
        "input_size = 7*1\r\n",
        "num_classes = 3\r\n",
        "\r\n",
        "model = nn.Linear(input_size, num_classes)\r\n",
        "print(model.weight.shape)\r\n",
        "print(model.bias.shape)"
      ],
      "execution_count": null,
      "outputs": [
        {
          "output_type": "stream",
          "text": [
            "torch.Size([3, 7])\n",
            "torch.Size([3])\n"
          ],
          "name": "stdout"
        }
      ]
    },
    {
      "cell_type": "code",
      "metadata": {
        "id": "mFEUFfCTNKZ5"
      },
      "source": [
        "class SeedModel(nn.Module):\r\n",
        "    def __init__(self):\r\n",
        "        super().__init__()\r\n",
        "        self.linear = nn.Linear(input_size, num_classes)\r\n",
        "        \r\n",
        "    def forward(self, xb):\r\n",
        "        xb = xb.reshape(-1, 7)\r\n",
        "        out = self.linear(xb)\r\n",
        "        return out\r\n",
        "    \r\n",
        "model = SeedModel()"
      ],
      "execution_count": null,
      "outputs": []
    },
    {
      "cell_type": "code",
      "metadata": {
        "colab": {
          "base_uri": "https://localhost:8080/"
        },
        "id": "L9QB6RLrNKRM",
        "outputId": "a80bb40d-7c62-42a9-c889-ece09a3b783a"
      },
      "source": [
        "model.linear"
      ],
      "execution_count": null,
      "outputs": [
        {
          "output_type": "execute_result",
          "data": {
            "text/plain": [
              "Linear(in_features=7, out_features=3, bias=True)"
            ]
          },
          "metadata": {
            "tags": []
          },
          "execution_count": 12
        }
      ]
    },
    {
      "cell_type": "code",
      "metadata": {
        "colab": {
          "base_uri": "https://localhost:8080/"
        },
        "id": "xuHNGA-oNqi0",
        "outputId": "4f5547b3-ab79-4dfc-987c-14a072bea39c"
      },
      "source": [
        "for inputs, labels in train_loader:\r\n",
        "    print(inputs.shape)\r\n",
        "    outputs = model(inputs)\r\n",
        "    break\r\n",
        "\r\n",
        "print('outputs.shape : ', outputs.shape)\r\n",
        "print('Sample outputs :\\n', outputs[:2].data)"
      ],
      "execution_count": null,
      "outputs": [
        {
          "output_type": "stream",
          "text": [
            "torch.Size([64, 7])\n",
            "outputs.shape :  torch.Size([64, 3])\n",
            "Sample outputs :\n",
            " tensor([[ 6.7912, -8.6281,  3.9822],\n",
            "        [ 6.4161, -8.5757,  4.4213]])\n"
          ],
          "name": "stdout"
        }
      ]
    },
    {
      "cell_type": "markdown",
      "metadata": {
        "id": "WdNbNnD3ODwP"
      },
      "source": [
        "## 4.2 Applying Softmax"
      ]
    },
    {
      "cell_type": "code",
      "metadata": {
        "id": "IMJKEWlpNqbH"
      },
      "source": [
        "import torch.nn.functional as F"
      ],
      "execution_count": null,
      "outputs": []
    },
    {
      "cell_type": "code",
      "metadata": {
        "colab": {
          "base_uri": "https://localhost:8080/"
        },
        "id": "3M4vaiXvNqYU",
        "outputId": "b3cc8ce6-ce66-48c6-cf44-245a579ceaa2"
      },
      "source": [
        "outputs[:2]"
      ],
      "execution_count": null,
      "outputs": [
        {
          "output_type": "execute_result",
          "data": {
            "text/plain": [
              "tensor([[ 6.7912, -8.6281,  3.9822],\n",
              "        [ 6.4161, -8.5757,  4.4213]], grad_fn=<SliceBackward>)"
            ]
          },
          "metadata": {
            "tags": []
          },
          "execution_count": 15
        }
      ]
    },
    {
      "cell_type": "code",
      "metadata": {
        "colab": {
          "base_uri": "https://localhost:8080/"
        },
        "id": "_9uTKpWENqVc",
        "outputId": "69e3c263-0cd4-47e0-8446-1035a4f45ee1"
      },
      "source": [
        "# Apply softmax for each output row\r\n",
        "probs = F.softmax(outputs, dim=1)\r\n",
        "\r\n",
        "# Look at sample probabilities\r\n",
        "print(\"Sample probabilities:\\n\", probs[:2].data)\r\n",
        "\r\n",
        "# Add up the probabilities of an output row\r\n",
        "print(\"Sum: \", torch.sum(probs[0]).item())"
      ],
      "execution_count": null,
      "outputs": [
        {
          "output_type": "stream",
          "text": [
            "Sample probabilities:\n",
            " tensor([[9.4316e-01, 1.8970e-07, 5.6841e-02],\n",
            "        [8.8025e-01, 2.7147e-07, 1.1975e-01]])\n",
            "Sum:  0.9999999403953552\n"
          ],
          "name": "stdout"
        }
      ]
    },
    {
      "cell_type": "code",
      "metadata": {
        "colab": {
          "base_uri": "https://localhost:8080/"
        },
        "id": "Y25a4QByOi2P",
        "outputId": "577e4186-33fb-4f2d-901d-5d438102e3c0"
      },
      "source": [
        "max_probs, preds = torch.max(probs, dim=1)\r\n",
        "print(preds)\r\n",
        "print(max_probs)"
      ],
      "execution_count": null,
      "outputs": [
        {
          "output_type": "stream",
          "text": [
            "tensor([0, 0, 0, 0, 0, 0, 0, 0, 0, 0, 0, 0, 0, 0, 0, 0, 0, 0, 0, 0, 0, 0, 0, 0,\n",
            "        0, 0, 0, 0, 0, 0, 0, 0, 0, 0, 0, 0, 0, 0, 0, 0, 0, 0, 0, 0, 0, 0, 0, 0,\n",
            "        0, 0, 0, 0, 0, 0, 0, 0, 0, 0, 0, 0, 0, 0, 0, 0])\n",
            "tensor([0.9432, 0.8802, 0.9532, 0.8272, 0.9148, 0.9047, 0.9398, 0.9173, 0.9159,\n",
            "        0.9552, 0.9296, 0.9105, 0.8723, 0.9403, 0.8928, 0.9526, 0.9444, 0.8924,\n",
            "        0.8944, 0.9581, 0.9308, 0.9315, 0.8378, 0.8949, 0.9605, 0.8998, 0.8534,\n",
            "        0.9559, 0.9534, 0.8847, 0.9094, 0.9714, 0.8728, 0.8229, 0.8399, 0.8787,\n",
            "        0.9750, 0.9507, 0.9103, 0.9148, 0.9585, 0.9083, 0.9515, 0.9448, 0.9578,\n",
            "        0.9533, 0.8812, 0.8675, 0.9559, 0.9412, 0.9257, 0.9374, 0.8698, 0.8828,\n",
            "        0.8578, 0.8176, 0.9636, 0.9384, 0.9535, 0.9113, 0.8604, 0.9376, 0.9290,\n",
            "        0.9640], grad_fn=<MaxBackward0>)\n"
          ],
          "name": "stdout"
        }
      ]
    },
    {
      "cell_type": "code",
      "metadata": {
        "colab": {
          "base_uri": "https://localhost:8080/"
        },
        "id": "zmw5hbNXOiy1",
        "outputId": "75f7e7a3-ef48-4d9e-d137-97513bc51498"
      },
      "source": [
        "labels"
      ],
      "execution_count": null,
      "outputs": [
        {
          "output_type": "execute_result",
          "data": {
            "text/plain": [
              "tensor([1, 1, 2, 1, 0, 0, 1, 0, 0, 2, 1, 1, 0, 2, 0, 0, 2, 1, 0, 2, 0, 2, 0, 0,\n",
              "        2, 0, 1, 2, 2, 0, 0, 2, 1, 1, 0, 1, 2, 2, 1, 1, 2, 0, 2, 2, 2, 2, 0, 1,\n",
              "        2, 2, 0, 2, 0, 0, 1, 0, 2, 2, 2, 0, 1, 0, 1, 2])"
            ]
          },
          "metadata": {
            "tags": []
          },
          "execution_count": 18
        }
      ]
    },
    {
      "cell_type": "markdown",
      "metadata": {
        "id": "hBk2sx3NOxla"
      },
      "source": [
        "## 4.3 Evaluation Metric and Loss Function"
      ]
    },
    {
      "cell_type": "code",
      "metadata": {
        "colab": {
          "base_uri": "https://localhost:8080/"
        },
        "id": "DkISsDbVOiui",
        "outputId": "66995275-df70-412c-be31-65d18bcef84c"
      },
      "source": [
        "torch.sum(preds == labels)"
      ],
      "execution_count": null,
      "outputs": [
        {
          "output_type": "execute_result",
          "data": {
            "text/plain": [
              "tensor(23)"
            ]
          },
          "metadata": {
            "tags": []
          },
          "execution_count": 19
        }
      ]
    },
    {
      "cell_type": "code",
      "metadata": {
        "id": "tnhJKFq-Oiqa"
      },
      "source": [
        "def accuracy(outputs, labels):\r\n",
        "    _, preds = torch.max(outputs, dim=1)\r\n",
        "    return torch.tensor(torch.sum(preds == labels).item() / len(preds))"
      ],
      "execution_count": null,
      "outputs": []
    },
    {
      "cell_type": "code",
      "metadata": {
        "colab": {
          "base_uri": "https://localhost:8080/"
        },
        "id": "zgPzVGktOiiN",
        "outputId": "4ec0dd16-30a9-42b5-fc2a-5cc5f601cb55"
      },
      "source": [
        "accuracy(outputs, labels)"
      ],
      "execution_count": null,
      "outputs": [
        {
          "output_type": "execute_result",
          "data": {
            "text/plain": [
              "tensor(0.3594)"
            ]
          },
          "metadata": {
            "tags": []
          },
          "execution_count": 21
        }
      ]
    },
    {
      "cell_type": "code",
      "metadata": {
        "colab": {
          "base_uri": "https://localhost:8080/"
        },
        "id": "n9vvTi5cPDpQ",
        "outputId": "f023f021-b47e-423a-b41a-29051458cdf4"
      },
      "source": [
        "loss_fn = F.cross_entropy\r\n",
        "loss = loss_fn(outputs, labels)\r\n",
        "print(loss)"
      ],
      "execution_count": null,
      "outputs": [
        {
          "output_type": "stream",
          "text": [
            "tensor(5.1648, grad_fn=<NllLossBackward>)\n"
          ],
          "name": "stdout"
        }
      ]
    },
    {
      "cell_type": "markdown",
      "metadata": {
        "id": "B8uigrZQPPCz"
      },
      "source": [
        "## 4.4 Training the model"
      ]
    },
    {
      "cell_type": "code",
      "metadata": {
        "id": "R0vfYzWaPDg3"
      },
      "source": [
        "def fit(epochs, lr, model, train_loader, val_loader, opt_func=torch.optim.SGD):\r\n",
        "    optimizer = opt_func(model.parameters(), lr)\r\n",
        "    history = [] # for recording epoch-wise results\r\n",
        "    \r\n",
        "    for epoch in range(epochs):\r\n",
        "        \r\n",
        "        # Training Phase \r\n",
        "        for batch in train_loader:\r\n",
        "            loss = model.training_step(batch)\r\n",
        "            loss.backward()\r\n",
        "            optimizer.step()\r\n",
        "            optimizer.zero_grad()\r\n",
        "        \r\n",
        "        # Validation phase\r\n",
        "        result = evaluate(model, val_loader)\r\n",
        "        model.epoch_end(epoch, result)\r\n",
        "        history.append(result)\r\n",
        "\r\n",
        "    return history"
      ],
      "execution_count": null,
      "outputs": []
    },
    {
      "cell_type": "code",
      "metadata": {
        "id": "4UdslvBCPDdy"
      },
      "source": [
        "def evaluate(model, val_loader):\r\n",
        "    outputs = [model.validation_step(batch) for batch in val_loader]\r\n",
        "    return model.validation_epoch_end(outputs)"
      ],
      "execution_count": null,
      "outputs": []
    },
    {
      "cell_type": "code",
      "metadata": {
        "id": "MFALC8WYPDaw"
      },
      "source": [
        "class SeedModel(nn.Module):\r\n",
        "    def __init__(self):\r\n",
        "        super().__init__()\r\n",
        "        self.linear = nn.Linear(input_size, num_classes)\r\n",
        "        \r\n",
        "    def forward(self, xb):\r\n",
        "        xb = xb.reshape(-1, 7)\r\n",
        "        out = self.linear(xb)\r\n",
        "        return out\r\n",
        "    \r\n",
        "    def training_step(self, batch):\r\n",
        "        images, labels = batch \r\n",
        "        out = self(images)                  # Generate predictions\r\n",
        "        loss = F.cross_entropy(out, labels) # Calculate loss\r\n",
        "        return loss\r\n",
        "    \r\n",
        "    def validation_step(self, batch):\r\n",
        "        images, labels = batch \r\n",
        "        out = self(images)                    # Generate predictions\r\n",
        "        loss = F.cross_entropy(out, labels)   # Calculate loss\r\n",
        "        acc = accuracy(out, labels)           # Calculate accuracy\r\n",
        "        return {'val_loss': loss, 'val_acc': acc}\r\n",
        "        \r\n",
        "    def validation_epoch_end(self, outputs):\r\n",
        "        batch_losses = [x['val_loss'] for x in outputs]\r\n",
        "        epoch_loss = torch.stack(batch_losses).mean()   # Combine losses\r\n",
        "        batch_accs = [x['val_acc'] for x in outputs]\r\n",
        "        epoch_acc = torch.stack(batch_accs).mean()      # Combine accuracies\r\n",
        "        return {'val_loss': epoch_loss.item(), 'val_acc': epoch_acc.item()}\r\n",
        "    \r\n",
        "    def epoch_end(self, epoch, result):\r\n",
        "        print(\"Epoch [{}], val_loss: {:.4f}, val_acc: {:.4f}\".format(epoch, result['val_loss'], result['val_acc']))\r\n",
        "    \r\n",
        "model = SeedModel()"
      ],
      "execution_count": null,
      "outputs": []
    },
    {
      "cell_type": "code",
      "metadata": {
        "colab": {
          "base_uri": "https://localhost:8080/"
        },
        "id": "DjFvHorWPDUl",
        "outputId": "fb5e6774-150a-4f4c-aaa5-1ffbc43148d5"
      },
      "source": [
        "result0 = evaluate(model, val_loader)\r\n",
        "result0"
      ],
      "execution_count": null,
      "outputs": [
        {
          "output_type": "execute_result",
          "data": {
            "text/plain": [
              "{'val_acc': 0.2631579041481018, 'val_loss': 6.478029727935791}"
            ]
          },
          "metadata": {
            "tags": []
          },
          "execution_count": 26
        }
      ]
    },
    {
      "cell_type": "code",
      "metadata": {
        "colab": {
          "base_uri": "https://localhost:8080/"
        },
        "id": "itsd3XGRQi5z",
        "outputId": "e772a7cc-dca9-469d-d0a6-a18c4de706a4"
      },
      "source": [
        "history1 = fit(5, 0.004, model, train_loader, val_loader)"
      ],
      "execution_count": null,
      "outputs": [
        {
          "output_type": "stream",
          "text": [
            "Epoch [0], val_loss: 3.6313, val_acc: 0.3684\n",
            "Epoch [1], val_loss: 2.4880, val_acc: 0.4211\n",
            "Epoch [2], val_loss: 1.4502, val_acc: 0.3684\n",
            "Epoch [3], val_loss: 1.0939, val_acc: 0.4211\n",
            "Epoch [4], val_loss: 1.0728, val_acc: 0.3684\n"
          ],
          "name": "stdout"
        }
      ]
    },
    {
      "cell_type": "code",
      "metadata": {
        "colab": {
          "base_uri": "https://localhost:8080/"
        },
        "id": "3_h7trBPQkOl",
        "outputId": "9ae9aa62-c7ae-4333-e6a9-b4d96cdc4682"
      },
      "source": [
        "history2 = fit(5, 0.001, model, train_loader, val_loader)"
      ],
      "execution_count": null,
      "outputs": [
        {
          "output_type": "stream",
          "text": [
            "Epoch [0], val_loss: 1.0636, val_acc: 0.5263\n",
            "Epoch [1], val_loss: 1.0558, val_acc: 0.5789\n",
            "Epoch [2], val_loss: 1.0542, val_acc: 0.5789\n",
            "Epoch [3], val_loss: 1.0505, val_acc: 0.5789\n",
            "Epoch [4], val_loss: 1.0487, val_acc: 0.5789\n"
          ],
          "name": "stdout"
        }
      ]
    },
    {
      "cell_type": "code",
      "metadata": {
        "colab": {
          "base_uri": "https://localhost:8080/"
        },
        "id": "qauKvjttQi3V",
        "outputId": "17a1dda4-9e7b-49c1-e688-c6b49f276e1a"
      },
      "source": [
        "history3 = fit(5, 0.001, model, train_loader, val_loader)"
      ],
      "execution_count": null,
      "outputs": [
        {
          "output_type": "stream",
          "text": [
            "Epoch [0], val_loss: 1.0486, val_acc: 0.5789\n",
            "Epoch [1], val_loss: 1.0462, val_acc: 0.5789\n",
            "Epoch [2], val_loss: 1.0486, val_acc: 0.5789\n",
            "Epoch [3], val_loss: 1.0440, val_acc: 0.5789\n",
            "Epoch [4], val_loss: 1.0432, val_acc: 0.5789\n"
          ],
          "name": "stdout"
        }
      ]
    },
    {
      "cell_type": "code",
      "metadata": {
        "colab": {
          "base_uri": "https://localhost:8080/"
        },
        "id": "9CcSHc4jQiz_",
        "outputId": "5d9a7a07-63ee-415c-a12a-3506d663e234"
      },
      "source": [
        "history4 = fit(5, 0.001, model, train_loader, val_loader)"
      ],
      "execution_count": null,
      "outputs": [
        {
          "output_type": "stream",
          "text": [
            "Epoch [0], val_loss: 1.0399, val_acc: 0.5789\n",
            "Epoch [1], val_loss: 1.0393, val_acc: 0.5789\n",
            "Epoch [2], val_loss: 1.0366, val_acc: 0.5789\n",
            "Epoch [3], val_loss: 1.0356, val_acc: 0.5789\n",
            "Epoch [4], val_loss: 1.0343, val_acc: 0.5789\n"
          ],
          "name": "stdout"
        }
      ]
    },
    {
      "cell_type": "markdown",
      "metadata": {
        "id": "rvMgf4iThfea"
      },
      "source": [
        "## 4.5 Model accuracy"
      ]
    },
    {
      "cell_type": "code",
      "metadata": {
        "colab": {
          "base_uri": "https://localhost:8080/",
          "height": 302
        },
        "id": "7u7XHzTWQixH",
        "outputId": "1e9013ba-0ff0-45f1-d61f-042dd447a8d5"
      },
      "source": [
        "history = [result0] + history1 + history2 + history3 + history4\r\n",
        "accuracies = [result['val_acc'] for result in history]\r\n",
        "plt.plot(accuracies, '-x')\r\n",
        "plt.xlabel('epoch')\r\n",
        "plt.ylabel('accuracy')\r\n",
        "plt.title('Accuracy vs. No. of epochs');"
      ],
      "execution_count": null,
      "outputs": [
        {
          "output_type": "display_data",
          "data": {
            "image/png": "[encoded data removed]",
            "text/plain": [
              "<Figure size 432x288 with 1 Axes>"
            ]
          },
          "metadata": {
            "tags": [],
            "needs_background": "light"
          }
        }
      ]
    }
  ]
}