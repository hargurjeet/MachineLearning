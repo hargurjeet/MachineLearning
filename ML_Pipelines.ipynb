{
  "nbformat": 4,
  "nbformat_minor": 0,
  "metadata": {
    "colab": {
      "name": "ML Pipelines.ipynb",
      "provenance": [],
      "toc_visible": true,
      "authorship_tag": "ABX9TyMR9O2DARQwkpgkFKjSUH86",
      "include_colab_link": true
    },
    "kernelspec": {
      "name": "python3",
      "display_name": "Python 3"
    },
    "language_info": {
      "name": "python"
    }
  },
  "cells": [
    {
      "cell_type": "markdown",
      "metadata": {
        "id": "view-in-github",
        "colab_type": "text"
      },
      "source": [
        "<a href=\"https://colab.research.google.com/github/hargurjeet/MachineLearning/blob/master/ML_Pipelines.ipynb\" target=\"_parent\"><img src=\"https://colab.research.google.com/assets/colab-badge.svg\" alt=\"Open In Colab\"/></a>"
      ]
    },
    {
      "cell_type": "markdown",
      "metadata": {
        "id": "_HItA8IWzJ6_"
      },
      "source": [
        "# Introduction\n",
        "\n",
        "**Pipelines** are a simple way to keep your data preprocessing and modeling code organized. Specifically, a pipeline bundles preprocessing and modeling steps so you can use the whole bundle as if it were a single step.\n",
        "\n",
        "Many data scientists hack together models without pipelines, but pipelines have some important benefits. Those include:\n",
        "\n",
        "1. Cleaner Code: Accounting for data at each step of preprocessing can get messy. With a pipeline, you won't need to manually keep track of your training and validation data at each step.\n",
        "2. Fewer Bugs: There are fewer opportunities to misapply a step or forget a preprocessing step.\n",
        "3. Easier to Productionize: It can be surprisingly hard to transition a model from a prototype to something deployable at scale. We won't go into the many related concerns here, but pipelines can help.\n",
        "4. More Options for Model Validation: You will see an example in the next tutorial, which covers cross-validation."
      ]
    },
    {
      "cell_type": "markdown",
      "metadata": {
        "id": "Jyjpd8Wx7e3m"
      },
      "source": [
        "# **Table Of Contents**<a name=\"Top\"></a>\n",
        "\n",
        "\n",
        "---\n",
        "\n",
        "\n",
        "\n",
        "---\n",
        "\n",
        "  1. [About the Dataset](#dataset)\n",
        "  2. [Performing Train Test Split](#splitting)\n",
        "  3. [Preprocessing W/O pipeline](#Data-Pre)\n",
        "    \n",
        "    3.1 [Imputing Numberic Columns](#ImputeNum)\n",
        "    \n",
        "    3.2 [Scaling Numberic Columns](#Scaling-Num)\n",
        "    \n",
        "    3.3 [Imputing Categorical Columns](#Impute-Cat)\n",
        "    \n",
        "    3.4 [Encoding Categrorical Columns](#Encoding-Cat)\n",
        "  4. [Model Implementation W/O Pipelines](#Model-Implementation)\n",
        "  5. [Pipeline](#Pipeline)\n",
        "    \n",
        "    5.1 [Pipeline Implementation](#Pipeline-Implementation)\n",
        "    \n",
        "    5.2 [Model Implementation with Pipelines](#Implementation-with-pipeline)\n",
        "  6. [Summary](#Summary)\n",
        "  7. [References](#References)"
      ]
    },
    {
      "cell_type": "markdown",
      "metadata": {
        "id": "nviLdjr6AHIy"
      },
      "source": [
        "# **1: About the Dataset** <a name=\"dataset\"></a>\n",
        "\n",
        "\n",
        "---\n",
        "\n",
        "The dataset has been picked up from kaggle and can be accessed from [here](https://www.kaggle.com/camnugent/california-housing-prices).The data contains information from the 1990 California census.\n",
        "\n",
        "The dataset contains the following columns\n",
        "\n",
        "1. longitude: A measure of how far west a house is; a higher value is farther west\n",
        "\n",
        "2. latitude: A measure of how far north a house is; a higher value is farther north\n",
        "\n",
        "3. housingMedianAge: Median age of a house within a block; a lower number is a newer building\n",
        "\n",
        "4. totalRooms: Total number of rooms within a block\n",
        "\n",
        "5. totalBedrooms: Total number of bedrooms within a block\n",
        "\n",
        "6. population: Total number of people residing within a block\n",
        "\n",
        "7. households: Total number of households, a group of people residing within a home unit, for a block\n",
        "\n",
        "8. medianIncome: Median income for households within a block of houses (measured in tens of thousands of US Dollars)\n",
        "\n",
        "9. medianHouseValue: Median house value for households within a block (measured in US Dollars)\n",
        "\n",
        "10. oceanProximity: Location of the house w.r.t ocean/sea\n",
        "\n",
        "medianHouseValue being the target block\n",
        "\n"
      ]
    },
    {
      "cell_type": "markdown",
      "metadata": {
        "id": "yszjw2vmAMyn"
      },
      "source": [
        "# **2: Performing Train Test Split** <a name=\"splitting\"></a>\n",
        "\n",
        "\n",
        "---\n"
      ]
    },
    {
      "cell_type": "code",
      "metadata": {
        "id": "5MfW39_4oGVQ"
      },
      "source": [
        "# Importing all the required libraries\n",
        "!pip install opendatasets --quiet\n",
        "import opendatasets as od\n",
        "import pandas as pd\n",
        "import numpy as np\n",
        "import warnings\n",
        "warnings.filterwarnings(\"ignore\")"
      ],
      "execution_count": 2,
      "outputs": []
    },
    {
      "cell_type": "code",
      "metadata": {
        "colab": {
          "base_uri": "https://localhost:8080/",
          "height": 326
        },
        "id": "14sKqefso8da",
        "outputId": "607aad43-c038-48a4-90a1-f4bad2f8f48e"
      },
      "source": [
        "## acessing the dataset\n",
        "od.download('https://www.kaggle.com/camnugent/california-housing-prices')\n",
        "\n",
        "raw_df = pd.read_csv('/content/california-housing-prices/housing.csv')\n",
        "raw_df.head()"
      ],
      "execution_count": 3,
      "outputs": [
        {
          "output_type": "stream",
          "name": "stdout",
          "text": [
            "Please provide your Kaggle credentials to download this dataset. Learn more: http://bit.ly/kaggle-creds\n",
            "Your Kaggle username: hargurjeet\n",
            "Your Kaggle Key: ··········\n",
            "Downloading california-housing-prices.zip to ./california-housing-prices\n"
          ]
        },
        {
          "output_type": "stream",
          "name": "stderr",
          "text": [
            "100%|██████████| 400k/400k [00:00<00:00, 62.6MB/s]"
          ]
        },
        {
          "output_type": "stream",
          "name": "stdout",
          "text": [
            "\n"
          ]
        },
        {
          "output_type": "stream",
          "name": "stderr",
          "text": [
            "\n"
          ]
        },
        {
          "output_type": "execute_result",
          "data": {
            "text/html": [
              "<div>\n",
              "<style scoped>\n",
              "    .dataframe tbody tr th:only-of-type {\n",
              "        vertical-align: middle;\n",
              "    }\n",
              "\n",
              "    .dataframe tbody tr th {\n",
              "        vertical-align: top;\n",
              "    }\n",
              "\n",
              "    .dataframe thead th {\n",
              "        text-align: right;\n",
              "    }\n",
              "</style>\n",
              "<table border=\"1\" class=\"dataframe\">\n",
              "  <thead>\n",
              "    <tr style=\"text-align: right;\">\n",
              "      <th></th>\n",
              "      <th>longitude</th>\n",
              "      <th>latitude</th>\n",
              "      <th>housing_median_age</th>\n",
              "      <th>total_rooms</th>\n",
              "      <th>total_bedrooms</th>\n",
              "      <th>population</th>\n",
              "      <th>households</th>\n",
              "      <th>median_income</th>\n",
              "      <th>median_house_value</th>\n",
              "      <th>ocean_proximity</th>\n",
              "    </tr>\n",
              "  </thead>\n",
              "  <tbody>\n",
              "    <tr>\n",
              "      <th>0</th>\n",
              "      <td>-122.23</td>\n",
              "      <td>37.88</td>\n",
              "      <td>41.0</td>\n",
              "      <td>880.0</td>\n",
              "      <td>129.0</td>\n",
              "      <td>322.0</td>\n",
              "      <td>126.0</td>\n",
              "      <td>8.3252</td>\n",
              "      <td>452600.0</td>\n",
              "      <td>NEAR BAY</td>\n",
              "    </tr>\n",
              "    <tr>\n",
              "      <th>1</th>\n",
              "      <td>-122.22</td>\n",
              "      <td>37.86</td>\n",
              "      <td>21.0</td>\n",
              "      <td>7099.0</td>\n",
              "      <td>1106.0</td>\n",
              "      <td>2401.0</td>\n",
              "      <td>1138.0</td>\n",
              "      <td>8.3014</td>\n",
              "      <td>358500.0</td>\n",
              "      <td>NEAR BAY</td>\n",
              "    </tr>\n",
              "    <tr>\n",
              "      <th>2</th>\n",
              "      <td>-122.24</td>\n",
              "      <td>37.85</td>\n",
              "      <td>52.0</td>\n",
              "      <td>1467.0</td>\n",
              "      <td>190.0</td>\n",
              "      <td>496.0</td>\n",
              "      <td>177.0</td>\n",
              "      <td>7.2574</td>\n",
              "      <td>352100.0</td>\n",
              "      <td>NEAR BAY</td>\n",
              "    </tr>\n",
              "    <tr>\n",
              "      <th>3</th>\n",
              "      <td>-122.25</td>\n",
              "      <td>37.85</td>\n",
              "      <td>52.0</td>\n",
              "      <td>1274.0</td>\n",
              "      <td>235.0</td>\n",
              "      <td>558.0</td>\n",
              "      <td>219.0</td>\n",
              "      <td>5.6431</td>\n",
              "      <td>341300.0</td>\n",
              "      <td>NEAR BAY</td>\n",
              "    </tr>\n",
              "    <tr>\n",
              "      <th>4</th>\n",
              "      <td>-122.25</td>\n",
              "      <td>37.85</td>\n",
              "      <td>52.0</td>\n",
              "      <td>1627.0</td>\n",
              "      <td>280.0</td>\n",
              "      <td>565.0</td>\n",
              "      <td>259.0</td>\n",
              "      <td>3.8462</td>\n",
              "      <td>342200.0</td>\n",
              "      <td>NEAR BAY</td>\n",
              "    </tr>\n",
              "  </tbody>\n",
              "</table>\n",
              "</div>"
            ],
            "text/plain": [
              "   longitude  latitude  ...  median_house_value  ocean_proximity\n",
              "0    -122.23     37.88  ...            452600.0         NEAR BAY\n",
              "1    -122.22     37.86  ...            358500.0         NEAR BAY\n",
              "2    -122.24     37.85  ...            352100.0         NEAR BAY\n",
              "3    -122.25     37.85  ...            341300.0         NEAR BAY\n",
              "4    -122.25     37.85  ...            342200.0         NEAR BAY\n",
              "\n",
              "[5 rows x 10 columns]"
            ]
          },
          "metadata": {},
          "execution_count": 3
        }
      ]
    },
    {
      "cell_type": "code",
      "metadata": {
        "id": "3o_RwraOcGZn"
      },
      "source": [
        "## Few columns might not be relvant for training data. Hence removing those columns\n",
        "X = raw_df.drop(['longitude', 'latitude', 'median_house_value'], axis='columns').copy()\n",
        "y = raw_df.median_house_value"
      ],
      "execution_count": 4,
      "outputs": []
    },
    {
      "cell_type": "code",
      "metadata": {
        "id": "X61oYNUqhfcN"
      },
      "source": [
        "from sklearn.model_selection import train_test_split\n",
        "\n",
        "X_train, X_test, y_train, y_test = train_test_split(X, y, test_size=0.33, random_state=42)"
      ],
      "execution_count": 5,
      "outputs": []
    },
    {
      "cell_type": "markdown",
      "metadata": {
        "id": "7Ret4EZfAM_-"
      },
      "source": [
        "# **3: Preprocessing W/O pipeline** <a name=\"Data-Pre\"></a>\n",
        "\n",
        "\n",
        "---\n"
      ]
    },
    {
      "cell_type": "code",
      "metadata": {
        "id": "90qwKluJpgnt",
        "colab": {
          "base_uri": "https://localhost:8080/"
        },
        "outputId": "76653a44-026a-4bd8-dfec-881620ce19a9"
      },
      "source": [
        "numeric_cols = X.select_dtypes(include=np.number).columns.tolist()\n",
        "categorical_cols = X.select_dtypes('object').columns.tolist()\n",
        "\n",
        "print(numeric_cols)\n",
        "print()\n",
        "print(categorical_cols)"
      ],
      "execution_count": 6,
      "outputs": [
        {
          "output_type": "stream",
          "name": "stdout",
          "text": [
            "['housing_median_age', 'total_rooms', 'total_bedrooms', 'population', 'households', 'median_income']\n",
            "\n",
            "['ocean_proximity']\n"
          ]
        }
      ]
    },
    {
      "cell_type": "markdown",
      "metadata": {
        "id": "D3a_tZt_BRmZ"
      },
      "source": [
        "## 3.1 Imputing Numberic Columns"
      ]
    },
    {
      "cell_type": "code",
      "metadata": {
        "id": "MzxYdEIyJHyp"
      },
      "source": [
        "from sklearn.impute import SimpleImputer\n",
        "\n",
        "imputer = SimpleImputer(strategy = 'constant').fit(X_train[numeric_cols])\n",
        "X_train.loc[:, (numeric_cols)] = imputer.transform(X_train[numeric_cols])\n",
        "X_test.loc[:, (numeric_cols)] = imputer.transform(X_test[numeric_cols])"
      ],
      "execution_count": 7,
      "outputs": []
    },
    {
      "cell_type": "code",
      "metadata": {
        "colab": {
          "base_uri": "https://localhost:8080/"
        },
        "id": "m6vYzltIJfgB",
        "outputId": "7e13cdd7-db71-48d8-afa8-f5794a435821"
      },
      "source": [
        "X_test[numeric_cols].isna().sum()"
      ],
      "execution_count": 8,
      "outputs": [
        {
          "output_type": "execute_result",
          "data": {
            "text/plain": [
              "housing_median_age    0\n",
              "total_rooms           0\n",
              "total_bedrooms        0\n",
              "population            0\n",
              "households            0\n",
              "median_income         0\n",
              "dtype: int64"
            ]
          },
          "metadata": {},
          "execution_count": 8
        }
      ]
    },
    {
      "cell_type": "markdown",
      "metadata": {
        "id": "SQgAJHjxBRdT"
      },
      "source": [
        "## 3.2 Scaling Numberic Columns"
      ]
    },
    {
      "cell_type": "code",
      "metadata": {
        "id": "AcCtXn5GpeU2"
      },
      "source": [
        "from sklearn.preprocessing import MinMaxScaler\n",
        "scaler = MinMaxScaler().fit(X_train[numeric_cols])\n",
        "\n",
        "X_train.loc[:, (numeric_cols)] = scaler.transform(X_train[numeric_cols])\n",
        "X_test.loc[:, (numeric_cols)] = scaler.transform(X_test[numeric_cols])"
      ],
      "execution_count": 9,
      "outputs": []
    },
    {
      "cell_type": "code",
      "metadata": {
        "colab": {
          "base_uri": "https://localhost:8080/",
          "height": 111
        },
        "id": "GaP6ix4SpyQE",
        "outputId": "1505c1af-78ca-477b-afdb-f626cfe809bb"
      },
      "source": [
        "X_train[numeric_cols].describe().loc[['min', 'max']]"
      ],
      "execution_count": 10,
      "outputs": [
        {
          "output_type": "execute_result",
          "data": {
            "text/html": [
              "<div>\n",
              "<style scoped>\n",
              "    .dataframe tbody tr th:only-of-type {\n",
              "        vertical-align: middle;\n",
              "    }\n",
              "\n",
              "    .dataframe tbody tr th {\n",
              "        vertical-align: top;\n",
              "    }\n",
              "\n",
              "    .dataframe thead th {\n",
              "        text-align: right;\n",
              "    }\n",
              "</style>\n",
              "<table border=\"1\" class=\"dataframe\">\n",
              "  <thead>\n",
              "    <tr style=\"text-align: right;\">\n",
              "      <th></th>\n",
              "      <th>housing_median_age</th>\n",
              "      <th>total_rooms</th>\n",
              "      <th>total_bedrooms</th>\n",
              "      <th>population</th>\n",
              "      <th>households</th>\n",
              "      <th>median_income</th>\n",
              "    </tr>\n",
              "  </thead>\n",
              "  <tbody>\n",
              "    <tr>\n",
              "      <th>min</th>\n",
              "      <td>0.0</td>\n",
              "      <td>0.0</td>\n",
              "      <td>0.0</td>\n",
              "      <td>0.0</td>\n",
              "      <td>0.0</td>\n",
              "      <td>0.0</td>\n",
              "    </tr>\n",
              "    <tr>\n",
              "      <th>max</th>\n",
              "      <td>1.0</td>\n",
              "      <td>1.0</td>\n",
              "      <td>1.0</td>\n",
              "      <td>1.0</td>\n",
              "      <td>1.0</td>\n",
              "      <td>1.0</td>\n",
              "    </tr>\n",
              "  </tbody>\n",
              "</table>\n",
              "</div>"
            ],
            "text/plain": [
              "     housing_median_age  total_rooms  ...  households  median_income\n",
              "min                 0.0          0.0  ...         0.0            0.0\n",
              "max                 1.0          1.0  ...         1.0            1.0\n",
              "\n",
              "[2 rows x 6 columns]"
            ]
          },
          "metadata": {},
          "execution_count": 10
        }
      ]
    },
    {
      "cell_type": "markdown",
      "metadata": {
        "id": "VcqJBhA9BRUc"
      },
      "source": [
        "## 3.3 Imputing Categorical Columns"
      ]
    },
    {
      "cell_type": "code",
      "metadata": {
        "id": "ZJQpB5XuEIKi"
      },
      "source": [
        "imputer = SimpleImputer(missing_values = np.nan, strategy = 'most_frequent').fit(X_train[categorical_cols])\n",
        "\n",
        "X_train.loc[:, (categorical_cols)] = imputer.transform(X_train[categorical_cols])\n",
        "X_test.loc[:, (categorical_cols)] = imputer.transform(X_test[categorical_cols])"
      ],
      "execution_count": 11,
      "outputs": []
    },
    {
      "cell_type": "markdown",
      "metadata": {
        "id": "ANdnX-04BRKt"
      },
      "source": [
        "## 3.4 Encoding Categrorical Columns"
      ]
    },
    {
      "cell_type": "code",
      "metadata": {
        "id": "H0FegpWzp9z8"
      },
      "source": [
        "from sklearn.preprocessing import OneHotEncoder\n",
        "\n",
        "encoder = OneHotEncoder(sparse=False, handle_unknown='ignore').fit(X_train[categorical_cols])\n",
        "encoded_cols = list(encoder.get_feature_names(categorical_cols))\n",
        "X_train[encoded_cols] = encoder.transform(X_train[categorical_cols])\n",
        "X_test[encoded_cols] = encoder.transform(X_test[categorical_cols])"
      ],
      "execution_count": 12,
      "outputs": []
    },
    {
      "cell_type": "markdown",
      "metadata": {
        "id": "jvu9fee7AMqC"
      },
      "source": [
        "# **4: Model Implementation W/O Pipelines** <a name=\"Model-Implementation\"></a>\n",
        "\n",
        "\n",
        "---\n"
      ]
    },
    {
      "cell_type": "code",
      "metadata": {
        "colab": {
          "base_uri": "https://localhost:8080/",
          "height": 241
        },
        "id": "EYiyjLMXs2FG",
        "outputId": "d404e222-586e-4e2b-e934-438818fe2f5c"
      },
      "source": [
        "X_train = X_train[numeric_cols + encoded_cols]\n",
        "X_test = X_test[numeric_cols + encoded_cols]\n",
        "X_train.head()"
      ],
      "execution_count": 13,
      "outputs": [
        {
          "output_type": "execute_result",
          "data": {
            "text/html": [
              "<div>\n",
              "<style scoped>\n",
              "    .dataframe tbody tr th:only-of-type {\n",
              "        vertical-align: middle;\n",
              "    }\n",
              "\n",
              "    .dataframe tbody tr th {\n",
              "        vertical-align: top;\n",
              "    }\n",
              "\n",
              "    .dataframe thead th {\n",
              "        text-align: right;\n",
              "    }\n",
              "</style>\n",
              "<table border=\"1\" class=\"dataframe\">\n",
              "  <thead>\n",
              "    <tr style=\"text-align: right;\">\n",
              "      <th></th>\n",
              "      <th>housing_median_age</th>\n",
              "      <th>total_rooms</th>\n",
              "      <th>total_bedrooms</th>\n",
              "      <th>population</th>\n",
              "      <th>households</th>\n",
              "      <th>median_income</th>\n",
              "      <th>ocean_proximity_&lt;1H OCEAN</th>\n",
              "      <th>ocean_proximity_INLAND</th>\n",
              "      <th>ocean_proximity_ISLAND</th>\n",
              "      <th>ocean_proximity_NEAR BAY</th>\n",
              "      <th>ocean_proximity_NEAR OCEAN</th>\n",
              "    </tr>\n",
              "  </thead>\n",
              "  <tbody>\n",
              "    <tr>\n",
              "      <th>5088</th>\n",
              "      <td>0.352941</td>\n",
              "      <td>0.027004</td>\n",
              "      <td>0.048417</td>\n",
              "      <td>0.020264</td>\n",
              "      <td>0.045387</td>\n",
              "      <td>0.033172</td>\n",
              "      <td>1.0</td>\n",
              "      <td>0.0</td>\n",
              "      <td>0.0</td>\n",
              "      <td>0.0</td>\n",
              "      <td>0.0</td>\n",
              "    </tr>\n",
              "    <tr>\n",
              "      <th>17096</th>\n",
              "      <td>0.627451</td>\n",
              "      <td>0.080950</td>\n",
              "      <td>0.071850</td>\n",
              "      <td>0.028364</td>\n",
              "      <td>0.070054</td>\n",
              "      <td>0.256776</td>\n",
              "      <td>0.0</td>\n",
              "      <td>0.0</td>\n",
              "      <td>0.0</td>\n",
              "      <td>0.0</td>\n",
              "      <td>1.0</td>\n",
              "    </tr>\n",
              "    <tr>\n",
              "      <th>5617</th>\n",
              "      <td>0.803922</td>\n",
              "      <td>0.035556</td>\n",
              "      <td>0.040813</td>\n",
              "      <td>0.029177</td>\n",
              "      <td>0.039467</td>\n",
              "      <td>0.210266</td>\n",
              "      <td>1.0</td>\n",
              "      <td>0.0</td>\n",
              "      <td>0.0</td>\n",
              "      <td>0.0</td>\n",
              "      <td>0.0</td>\n",
              "    </tr>\n",
              "    <tr>\n",
              "      <th>20060</th>\n",
              "      <td>0.450980</td>\n",
              "      <td>0.048674</td>\n",
              "      <td>0.060366</td>\n",
              "      <td>0.047171</td>\n",
              "      <td>0.061010</td>\n",
              "      <td>0.079102</td>\n",
              "      <td>0.0</td>\n",
              "      <td>1.0</td>\n",
              "      <td>0.0</td>\n",
              "      <td>0.0</td>\n",
              "      <td>0.0</td>\n",
              "    </tr>\n",
              "    <tr>\n",
              "      <th>895</th>\n",
              "      <td>0.254902</td>\n",
              "      <td>0.156444</td>\n",
              "      <td>0.187151</td>\n",
              "      <td>0.076656</td>\n",
              "      <td>0.182042</td>\n",
              "      <td>0.240755</td>\n",
              "      <td>1.0</td>\n",
              "      <td>0.0</td>\n",
              "      <td>0.0</td>\n",
              "      <td>0.0</td>\n",
              "      <td>0.0</td>\n",
              "    </tr>\n",
              "  </tbody>\n",
              "</table>\n",
              "</div>"
            ],
            "text/plain": [
              "       housing_median_age  ...  ocean_proximity_NEAR OCEAN\n",
              "5088             0.352941  ...                         0.0\n",
              "17096            0.627451  ...                         1.0\n",
              "5617             0.803922  ...                         0.0\n",
              "20060            0.450980  ...                         0.0\n",
              "895              0.254902  ...                         0.0\n",
              "\n",
              "[5 rows x 11 columns]"
            ]
          },
          "metadata": {},
          "execution_count": 13
        }
      ]
    },
    {
      "cell_type": "code",
      "metadata": {
        "colab": {
          "base_uri": "https://localhost:8080/"
        },
        "id": "faL6GwPhG7BP",
        "outputId": "83283335-129d-4dbb-815e-ccd7310fd2c1"
      },
      "source": [
        "from sklearn.linear_model import LinearRegression\n",
        "from sklearn.metrics import mean_absolute_error\n",
        "\n",
        "model = LinearRegression()\n",
        "\n",
        "model.fit(X_train, y_train)\n",
        "\n",
        "preds = model.predict(X_test)\n",
        "\n",
        "# Evaluate the model\n",
        "score = mean_absolute_error(y_test, preds)\n",
        "print('MAE:', score)"
      ],
      "execution_count": 15,
      "outputs": [
        {
          "output_type": "stream",
          "name": "stdout",
          "text": [
            "MAE: 51059.69392248972\n"
          ]
        }
      ]
    },
    {
      "cell_type": "markdown",
      "metadata": {
        "id": "XkoERFMzAMhO"
      },
      "source": [
        "# **5: Pipeline** <a name=\"Pipeline\"></a>\n",
        "\n",
        "\n",
        "---\n"
      ]
    },
    {
      "cell_type": "code",
      "metadata": {
        "id": "G2ak9-N7rmI4"
      },
      "source": [
        "from sklearn.model_selection import train_test_split\n",
        "\n",
        "X_train, X_test, y_train, y_test = train_test_split(X, y, test_size=0.33, random_state=42)"
      ],
      "execution_count": 16,
      "outputs": []
    },
    {
      "cell_type": "code",
      "metadata": {
        "id": "71flFdLEttjB",
        "colab": {
          "base_uri": "https://localhost:8080/"
        },
        "outputId": "872e10b5-9e8c-4c6a-86bf-d7aa5cb35622"
      },
      "source": [
        "numeric_cols = X_train.select_dtypes(include=np.number).columns.tolist()\n",
        "categorical_cols = X_train.select_dtypes('object').columns.tolist()\n",
        "print(numeric_cols)\n",
        "print()\n",
        "print(categorical_cols)"
      ],
      "execution_count": 17,
      "outputs": [
        {
          "output_type": "stream",
          "name": "stdout",
          "text": [
            "['housing_median_age', 'total_rooms', 'total_bedrooms', 'population', 'households', 'median_income']\n",
            "\n",
            "['ocean_proximity']\n"
          ]
        }
      ]
    },
    {
      "cell_type": "markdown",
      "metadata": {
        "id": "44TfvRTjBobn"
      },
      "source": [
        "## 5.1 Pipeline Implementation"
      ]
    },
    {
      "cell_type": "code",
      "metadata": {
        "id": "XrsR7CtAfW6C"
      },
      "source": [
        "from sklearn.compose import ColumnTransformer\n",
        "from sklearn.pipeline import Pipeline\n",
        "\n",
        "# Preprocessing for numerical data\n",
        "numerical_transformer = Pipeline(steps=[\n",
        "    ('imputer', SimpleImputer(missing_values = np.nan, strategy='mean')),\n",
        "    ('scaler', MinMaxScaler())\n",
        "])\n",
        "\n",
        "\n",
        "# Preprocessing for categorical data\n",
        "categorical_transformer = Pipeline(steps=[\n",
        "    ('imputer', SimpleImputer(missing_values = np.nan , strategy='most_frequent')),\n",
        "    ('onehot', OneHotEncoder(handle_unknown='ignore'))\n",
        "])\n",
        "\n",
        "# Bundle preprocessing for numerical and categorical data\n",
        "preprocessor = ColumnTransformer(\n",
        "    transformers=[\n",
        "        ('num', numerical_transformer, numeric_cols),\n",
        "        ('cat', categorical_transformer, categorical_cols)\n",
        "    ])"
      ],
      "execution_count": 18,
      "outputs": []
    },
    {
      "cell_type": "markdown",
      "metadata": {
        "id": "w7JXF5Q9BoTL"
      },
      "source": [
        "## 5.2 Model Implementation with Pipelines"
      ]
    },
    {
      "cell_type": "code",
      "metadata": {
        "id": "pxr6Xe9WgeDq"
      },
      "source": [
        "from sklearn.linear_model import LinearRegression\n",
        "\n",
        "model = LinearRegression()"
      ],
      "execution_count": 19,
      "outputs": []
    },
    {
      "cell_type": "code",
      "metadata": {
        "id": "Fb0Fg2xLgKqv",
        "colab": {
          "base_uri": "https://localhost:8080/"
        },
        "outputId": "8f18f2e8-c667-4db0-9b60-fb63ebe5db54"
      },
      "source": [
        "# Bundle preprocessing and modeling code in a pipeline\n",
        "my_pipeline = Pipeline(steps=[('preprocessor', preprocessor)\n",
        "                              ,('model', model)\n",
        "                             ])\n",
        "\n",
        "# # Preprocessing of training data, fit model \n",
        "my_pipeline.fit(X_train, y_train)\n",
        "\n",
        "# Preprocessing of validation data, get predictions\n",
        "preds = my_pipeline.predict(X_test)\n",
        "\n",
        "# Evaluate the model\n",
        "score = mean_absolute_error(y_test, preds)\n",
        "print('MAE:', score)"
      ],
      "execution_count": 20,
      "outputs": [
        {
          "output_type": "stream",
          "name": "stdout",
          "text": [
            "MAE: 50869.600575788994\n"
          ]
        }
      ]
    },
    {
      "cell_type": "markdown",
      "metadata": {
        "id": "oyxrL3c7Eyqg"
      },
      "source": [
        "## 5.3 Bonus - Implementing cross validation"
      ]
    },
    {
      "cell_type": "code",
      "metadata": {
        "id": "l61iMu8O1MBb",
        "colab": {
          "base_uri": "https://localhost:8080/"
        },
        "outputId": "ed41fafc-f742-40b7-b250-0263de498e49"
      },
      "source": [
        "## Implementing cross validation\n",
        "\n",
        "from sklearn.model_selection import cross_val_score\n",
        "\n",
        "# Multiply by -1 since sklearn calculates *negative* MAE\n",
        "scores = -1 * cross_val_score(my_pipeline, X, y,\n",
        "                              cv=5,\n",
        "                              scoring='neg_mean_absolute_error')\n",
        "\n",
        "print(\"MAE scores:\\n\", scores)"
      ],
      "execution_count": 21,
      "outputs": [
        {
          "output_type": "stream",
          "name": "stdout",
          "text": [
            "MAE scores:\n",
            " [5.88072304e+04 5.63761923e+04 1.73501063e+13 5.66366264e+04\n",
            " 4.88699040e+04]\n"
          ]
        }
      ]
    },
    {
      "cell_type": "markdown",
      "metadata": {
        "id": "6CWlq-yiAMYd"
      },
      "source": [
        "# **6: Summary** <a name=\"Summary\"></a>\n",
        "\n",
        "\n",
        "---\n",
        "\n",
        "- We imported the califonia housing dataset from kaggle.\n",
        "- We implemented all the pre processing step (like filling missing values, scaling, encoding...etc) on the dataset.\n",
        "- We trained the ML model.\n",
        "- Now we repeated the preprocessing steps using ML pipelines.\n",
        "- We understood the benefits of pipeline implementation and the bonus tip (cross validation).\n",
        "- We trained the ML model.\n"
      ]
    },
    {
      "cell_type": "markdown",
      "metadata": {
        "id": "kM1fb0ZNAMOn"
      },
      "source": [
        "# **7: References** <a name=\"References\"></a>\n",
        "\n",
        "\n",
        "---\n",
        "\n",
        "- https://www.kaggle.com/alexisbcook/pipelines\n"
      ]
    }
  ]
}