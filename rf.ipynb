{
  "nbformat": 4,
  "nbformat_minor": 0,
  "metadata": {
    "colab": {
      "name": "rf.ipynb",
      "provenance": [],
      "authorship_tag": "ABX9TyO+cvEPaDkaVVCqQ6Jh2TjI",
      "include_colab_link": true
    },
    "kernelspec": {
      "display_name": "Python 3",
      "name": "python3"
    },
    "language_info": {
      "name": "python"
    }
  },
  "cells": [
    {
      "cell_type": "markdown",
      "metadata": {
        "id": "view-in-github",
        "colab_type": "text"
      },
      "source": [
        "<a href=\"https://colab.research.google.com/github/hargurjeet/MachineLearning/blob/master/rf.ipynb\" target=\"_parent\"><img src=\"https://colab.research.google.com/assets/colab-badge.svg\" alt=\"Open In Colab\"/></a>"
      ]
    },
    {
      "cell_type": "code",
      "metadata": {
        "colab": {
          "base_uri": "https://localhost:8080/"
        },
        "id": "YwFE11eyg0GD",
        "outputId": "0e88b13e-c4ca-4904-a2ee-30da03301feb"
      },
      "source": [
        "# Familiar imports\n",
        "import numpy as np\n",
        "import pandas as pd\n",
        "\n",
        "# For ordinal encoding categorical variables, splitting data\n",
        "from sklearn.preprocessing import OrdinalEncoder\n",
        "from sklearn.preprocessing import OneHotEncoder\n",
        "from sklearn.preprocessing import StandardScaler\n",
        "from sklearn.model_selection import train_test_split\n",
        "\n",
        "# For training random forest model\n",
        "from sklearn.ensemble import RandomForestRegressor\n",
        "from sklearn.metrics import mean_squared_error\n",
        "\n",
        "!pip install opendatasets --quiet\n",
        "import opendatasets as od\n",
        "od.download('https://www.kaggle.com/c/30-days-of-ml/data')\n",
        "od.download('https://www.kaggle.com/abhishek/30days-folds')"
      ],
      "execution_count": 16,
      "outputs": [
        {
          "output_type": "stream",
          "text": [
            "Skipping, found downloaded files in \"./30-days-of-ml\" (use force=True to force download)\n",
            "Please provide your Kaggle credentials to download this dataset. Learn more: http://bit.ly/kaggle-creds\n",
            "Your Kaggle username: hargurjeet\n",
            "Your Kaggle Key: ··········\n",
            "Downloading 30days-folds.zip to ./30days-folds\n"
          ],
          "name": "stdout"
        },
        {
          "output_type": "stream",
          "text": [
            "100%|██████████| 40.1M/40.1M [00:00<00:00, 193MB/s]\n"
          ],
          "name": "stderr"
        },
        {
          "output_type": "stream",
          "text": [
            "\n"
          ],
          "name": "stdout"
        }
      ]
    },
    {
      "cell_type": "code",
      "metadata": {
        "id": "MB_4QGI1g406"
      },
      "source": [
        "# Load the training data\n",
        "train = pd.read_csv(\"/content/30-days-of-ml/train.csv\", index_col=0)\n",
        "test = pd.read_csv(\"/content/30-days-of-ml/test.csv\", index_col=0)\n",
        "train_fold = pd.read_csv(\"/content/30days-folds/train_folds.csv\", index_col=0)\n",
        "\n",
        "# Separate target from features\n",
        "y = train['target']\n",
        "X = train.drop(['target'], axis=1)\n",
        "\n",
        "low_cardinality_cols = [cname for cname in X.columns if X[cname].nunique() < 10 and X[cname].dtype == \"object\"]\n",
        "numeric_cols = [cname for cname in X.columns if X[cname].dtype in ['int64', 'float64']]\n",
        "object_cols = [cname for cname in X.columns if X[cname].dtype in ['object']]\n",
        "\n",
        "\n",
        "\n",
        "X_train, X_valid, y_train, y_valid = train_test_split(X, y, random_state=42)\n",
        "\n",
        "my_cols = low_cardinality_cols + numeric_cols\n",
        "X_train = X_train[my_cols].copy()\n",
        "X_valid = X_valid[my_cols].copy()\n",
        "X_test = test[my_cols].copy()\n",
        "\n",
        "\n",
        "OH_encoder = OneHotEncoder(handle_unknown='ignore', sparse=False)\n",
        "OH_cols_train = pd.DataFrame(OH_encoder.fit_transform(X_train[low_cardinality_cols]))\n",
        "OH_cols_valid = pd.DataFrame(OH_encoder.transform(X_valid[low_cardinality_cols]))\n",
        "\n",
        "scaler = StandardScaler()\n",
        "# X_train[numeric_cols] = scaler.fit_transform(X_train[numeric_cols])\n",
        "# X_valid[numeric_cols] = scaler.transform(X_valid[numeric_cols])\n",
        "\n",
        "scaler_cols_train = pd.DataFrame(scaler.fit_transform(X_train[numeric_cols]))\n",
        "scaler_cols_valid = pd.DataFrame(scaler.transform(X_valid[numeric_cols]))\n",
        "\n",
        "OH_cols_train.index = X_train.index\n",
        "OH_cols_valid.index = X_valid.index\n",
        "scaler_cols_train.index = X_train.index\n",
        "scaler_cols_valid.index = X_valid.index\n",
        "\n",
        "OH_X_train = pd.concat([scaler_cols_train, OH_cols_train], axis=1)\n",
        "OH_X_valid = pd.concat([scaler_cols_valid, OH_cols_valid], axis=1)"
      ],
      "execution_count": 20,
      "outputs": []
    },
    {
      "cell_type": "markdown",
      "metadata": {
        "id": "V64N9FmgIjHy"
      },
      "source": [
        "# Base model"
      ]
    },
    {
      "cell_type": "code",
      "metadata": {
        "colab": {
          "background_save": true,
          "base_uri": "https://localhost:8080/"
        },
        "id": "sIz4qm5Jhjce",
        "outputId": "69d9de66-3f02-4cf6-f764-42e4962d0935"
      },
      "source": [
        "from sklearn.ensemble import RandomForestRegressor\n",
        "from sklearn.metrics import mean_squared_error\n",
        "\n",
        "%time\n",
        "model = RandomForestRegressor(n_estimators=500, random_state=42)\n",
        "model.fit(OH_X_train, y_train)\n",
        "preds = model.predict(OH_X_valid)\n",
        "\n",
        "print(mean_squared_error(y_valid, preds, squared=False))"
      ],
      "execution_count": null,
      "outputs": [
        {
          "name": "stdout",
          "output_type": "stream",
          "text": [
            "CPU times: user 3 µs, sys: 0 ns, total: 3 µs\n",
            "Wall time: 6.91 µs\n",
            "0.7307262530827241\n"
          ]
        }
      ]
    },
    {
      "cell_type": "markdown",
      "metadata": {
        "id": "NRMrIy0mIfub"
      },
      "source": [
        "# Trial 1"
      ]
    },
    {
      "cell_type": "code",
      "metadata": {
        "colab": {
          "base_uri": "https://localhost:8080/"
        },
        "id": "098ec3kOhjXA",
        "outputId": "2d921039-f938-442d-b795-1612a7adc597"
      },
      "source": [
        "from sklearn.ensemble import RandomForestRegressor\n",
        "from sklearn.metrics import mean_squared_error\n",
        "\n",
        "%time\n",
        "model = RandomForestRegressor(n_estimators=250, random_state=42)\n",
        "model.fit(OH_X_train, y_train)\n",
        "preds = model.predict(OH_X_valid)\n",
        "\n",
        "print(mean_squared_error(y_valid, preds, squared=False))"
      ],
      "execution_count": null,
      "outputs": [
        {
          "name": "stdout",
          "output_type": "stream",
          "text": [
            "CPU times: user 4 µs, sys: 1 µs, total: 5 µs\n",
            "Wall time: 9.3 µs\n",
            "0.7315744282908309\n"
          ]
        }
      ]
    },
    {
      "cell_type": "code",
      "metadata": {
        "colab": {
          "base_uri": "https://localhost:8080/"
        },
        "id": "Mpq-2ZcE8q-E",
        "outputId": "b7f3ed3f-ba17-4e21-faf6-e6b3410e6cd6"
      },
      "source": [
        "# with standardscaler\n",
        "%%time\n",
        "from sklearn.ensemble import RandomForestRegressor\n",
        "from sklearn.metrics import mean_squared_error\n",
        "\n",
        "\n",
        "model = RandomForestRegressor(n_estimators=250, random_state=42)\n",
        "model.fit(OH_X_train, y_train)\n",
        "preds = model.predict(OH_X_valid)\n",
        "\n",
        "print(mean_squared_error(y_valid, preds, squared=False))"
      ],
      "execution_count": 11,
      "outputs": [
        {
          "output_type": "stream",
          "text": [
            "CPU times: user 2 µs, sys: 0 ns, total: 2 µs\n",
            "Wall time: 5.96 µs\n",
            "0.7315779266693908\n"
          ],
          "name": "stdout"
        }
      ]
    },
    {
      "cell_type": "markdown",
      "metadata": {
        "id": "-2pMdKw1Ice3"
      },
      "source": [
        "# Trail 2"
      ]
    },
    {
      "cell_type": "code",
      "metadata": {
        "colab": {
          "base_uri": "https://localhost:8080/"
        },
        "id": "Q5d32nbxDTsq",
        "outputId": "37d02287-a960-4459-a1a8-db2469750675"
      },
      "source": [
        "%%time\n",
        "from sklearn.ensemble import RandomForestRegressor\n",
        "from sklearn.metrics import mean_squared_error\n",
        "\n",
        "%time\n",
        "model = RandomForestRegressor(n_estimators=50, random_state=42)\n",
        "model.fit(OH_X_train, y_train)\n",
        "preds = model.predict(OH_X_valid)\n",
        "\n",
        "print(mean_squared_error(y_valid, preds, squared=False))"
      ],
      "execution_count": null,
      "outputs": [
        {
          "name": "stdout",
          "output_type": "stream",
          "text": [
            "CPU times: user 3 µs, sys: 0 ns, total: 3 µs\n",
            "Wall time: 7.39 µs\n",
            "0.7370585640514145\n",
            "CPU times: user 6min 34s, sys: 2.26 s, total: 6min 36s\n",
            "Wall time: 6min 33s\n"
          ]
        }
      ]
    },
    {
      "cell_type": "markdown",
      "metadata": {
        "id": "wQ327jwuITAb"
      },
      "source": [
        "# Trail 3"
      ]
    },
    {
      "cell_type": "code",
      "metadata": {
        "colab": {
          "base_uri": "https://localhost:8080/"
        },
        "id": "NbgakPKPISTZ",
        "outputId": "d4c235f7-e9cf-4e17-ae32-daef5bd416f7"
      },
      "source": [
        "%%time\n",
        "from sklearn.ensemble import RandomForestRegressor\n",
        "from sklearn.metrics import mean_squared_error\n",
        "\n",
        "%time\n",
        "model = RandomForestRegressor(n_estimators=25, random_state=42)\n",
        "model.fit(OH_X_train, y_train)\n",
        "preds = model.predict(OH_X_valid)\n",
        "\n",
        "print(mean_squared_error(y_valid, preds, squared=False))"
      ],
      "execution_count": null,
      "outputs": [
        {
          "name": "stdout",
          "output_type": "stream",
          "text": [
            "CPU times: user 3 µs, sys: 0 ns, total: 3 µs\n",
            "Wall time: 5.01 µs\n",
            "0.745547885632514\n",
            "CPU times: user 3min 11s, sys: 350 ms, total: 3min 11s\n",
            "Wall time: 3min 10s\n"
          ]
        }
      ]
    },
    {
      "cell_type": "markdown",
      "metadata": {
        "id": "AavkdV0PIrLI"
      },
      "source": [
        "# Trail 4"
      ]
    },
    {
      "cell_type": "code",
      "metadata": {
        "colab": {
          "base_uri": "https://localhost:8080/"
        },
        "id": "GwVsXVjDIqlD",
        "outputId": "c38f713f-14c2-4b06-8d7b-2ea25806f4e1"
      },
      "source": [
        "%%time\n",
        "from sklearn.ensemble import RandomForestRegressor\n",
        "from sklearn.metrics import mean_squared_error\n",
        "\n",
        "%time\n",
        "model = RandomForestRegressor(n_estimators=10, random_state=42)\n",
        "model.fit(OH_X_train, y_train)\n",
        "preds = model.predict(OH_X_valid)\n",
        "\n",
        "print(mean_squared_error(y_valid, preds, squared=False))"
      ],
      "execution_count": null,
      "outputs": [
        {
          "name": "stdout",
          "output_type": "stream",
          "text": [
            "CPU times: user 2 µs, sys: 0 ns, total: 2 µs\n",
            "Wall time: 4.77 µs\n",
            "0.76817552401976\n",
            "CPU times: user 1min 16s, sys: 95.4 ms, total: 1min 16s\n",
            "Wall time: 1min 15s\n"
          ]
        }
      ]
    },
    {
      "cell_type": "code",
      "metadata": {
        "colab": {
          "base_uri": "https://localhost:8080/"
        },
        "id": "IBcXg3Ww89ak",
        "outputId": "310fe68f-fc7a-4d85-a3bd-632927b2c7cb"
      },
      "source": [
        "#standard scaler\n",
        "%%time\n",
        "from sklearn.ensemble import RandomForestRegressor\n",
        "from sklearn.metrics import mean_squared_error\n",
        "model = RandomForestRegressor(n_estimators=10, random_state=42)\n",
        "model.fit(OH_X_train, y_train)\n",
        "preds = model.predict(OH_X_valid)\n",
        "\n",
        "print(mean_squared_error(y_valid, preds, squared=False))"
      ],
      "execution_count": 12,
      "outputs": [
        {
          "output_type": "stream",
          "text": [
            "0.7685131126247501\n",
            "CPU times: user 1min 22s, sys: 1.95 s, total: 1min 24s\n",
            "Wall time: 1min 24s\n"
          ],
          "name": "stdout"
        }
      ]
    },
    {
      "cell_type": "code",
      "metadata": {
        "id": "FxwLWaZwVvrh"
      },
      "source": [
        ""
      ],
      "execution_count": null,
      "outputs": []
    },
    {
      "cell_type": "code",
      "metadata": {
        "id": "Uqb7IQanHG9m"
      },
      "source": [
        "OH_cols_test = pd.DataFrame(OH_encoder.transform(X_test[low_cardinality_cols]))\n",
        "scaler_cols_test = pd.DataFrame(scaler.transform(X_test[numeric_cols]))\n",
        "OH_cols_test.index = X_test.index\n",
        "scaler_cols_test.index = X_test.index\n",
        "OH_test = pd.concat([scaler_cols_test, OH_cols_test], axis=1)\n",
        "\n",
        "# Use the model to generate predictions\n",
        "predictions = model.predict(OH_test)\n",
        "\n",
        "# Save the predictions to a CSV file\n",
        "output = pd.DataFrame({'Id': X_test.index,\n",
        "                       'target': predictions})\n",
        "output.to_csv('submission.csv', index=False)"
      ],
      "execution_count": 13,
      "outputs": []
    },
    {
      "cell_type": "markdown",
      "metadata": {
        "id": "Q8AVals8XCbU"
      },
      "source": [
        "# Kfolds"
      ]
    },
    {
      "cell_type": "code",
      "metadata": {
        "colab": {
          "base_uri": "https://localhost:8080/"
        },
        "id": "aUPZnY8PXBkq",
        "outputId": "7c3b0547-605a-4dc9-b7d1-f9d8c02d31af"
      },
      "source": [
        "useful_features = [cname for cname in train_fold.columns if cname not in ['id','target','kfold' ]]\n",
        "\n",
        "object_cols = [cname for cname in train_fold.columns if train_fold[cname].dtype in ['object']]\n",
        "\n",
        "final_predictions = []\n",
        "scores = []\n",
        "for fold in range(5):\n",
        "    xtrain =  train_fold[train_fold.kfold != fold].reset_index(drop=True)\n",
        "    xvalid = train_fold[train_fold.kfold == fold].reset_index(drop=True)\n",
        "    xtest = test.copy()\n",
        "\n",
        "    ytrain = xtrain.target\n",
        "    yvalid = xvalid.target\n",
        "    \n",
        "    xtrain = xtrain[useful_features]\n",
        "    xvalid = xvalid[useful_features]\n",
        "    \n",
        "    ordinal_encoder = OrdinalEncoder()\n",
        "    xtrain[object_cols] = ordinal_encoder.fit_transform(xtrain[object_cols])\n",
        "    xvalid[object_cols] = ordinal_encoder.transform(xvalid[object_cols])\n",
        "    xtest[object_cols] = ordinal_encoder.transform(xtest[object_cols])\n",
        "    \n",
        "    scaler = StandardScaler()\n",
        "    xtrain[numeric_cols] = scaler.fit_transform(xtrain[numeric_cols])\n",
        "    xvalid[numeric_cols] = scaler.transform(xvalid[numeric_cols])\n",
        "    xtest[numeric_cols] = scaler.transform(xtest[numeric_cols])\n",
        "\n",
        "\n",
        "\n",
        "    model = RandomForestRegressor(n_estimators=10, random_state=42)\n",
        "    model.fit(xtrain, ytrain)\n",
        "    preds_valid = model.predict(xvalid)\n",
        "    test_preds = model.predict(xtest)\n",
        "    final_predictions.append(test_preds)\n",
        "    rmse = mean_squared_error(yvalid, preds_valid, squared=False)\n",
        "    print(fold, rmse)\n",
        "    scores.append(rmse)\n",
        "    \n",
        "print(np.mean(scores), np.std(scores))"
      ],
      "execution_count": 24,
      "outputs": [
        {
          "output_type": "stream",
          "text": [
            "0 0.7702783129211256\n",
            "1 0.7702433116106784\n",
            "2 0.7716617411685681\n",
            "3 0.7714196814892231\n",
            "4 0.7720214196547849\n",
            "0.771124893368876 0.000731129240033214\n"
          ],
          "name": "stdout"
        }
      ]
    },
    {
      "cell_type": "code",
      "metadata": {
        "colab": {
          "base_uri": "https://localhost:8080/"
        },
        "id": "2Y7EAM82Va4j",
        "outputId": "35913f83-5a5d-4eef-8b78-584bb8ea025e"
      },
      "source": [
        "final_predictions"
      ],
      "execution_count": 25,
      "outputs": [
        {
          "output_type": "execute_result",
          "data": {
            "text/plain": [
              "[array([8.10374108, 7.66498074, 7.85612563, ..., 8.21321667, 8.16022342,\n",
              "        8.44475945]),\n",
              " array([8.08982173, 8.77936251, 8.45638352, ..., 8.37902358, 8.24278852,\n",
              "        7.67338599]),\n",
              " array([8.05711585, 8.41855805, 8.23759357, ..., 8.2766095 , 8.03841509,\n",
              "        8.32389592]),\n",
              " array([7.50010614, 8.33776135, 8.72716325, ..., 8.75153521, 7.9935197 ,\n",
              "        7.86313445]),\n",
              " array([7.79202434, 8.62895359, 8.44571933, ..., 8.34944956, 8.26813406,\n",
              "        8.10841684])]"
            ]
          },
          "metadata": {},
          "execution_count": 25
        }
      ]
    },
    {
      "cell_type": "code",
      "metadata": {
        "id": "m8WvOSdsblp1"
      },
      "source": [
        "predictions = np.mean(np.column_stack(final_predictions), axis=1)"
      ],
      "execution_count": 29,
      "outputs": []
    },
    {
      "cell_type": "code",
      "metadata": {
        "id": "Ji1ygLe0cNiN"
      },
      "source": [
        "output = pd.DataFrame({'Id': test.index,\n",
        "                       'target': predictions})\n",
        "output.to_csv('submission.csv', index=False)"
      ],
      "execution_count": 30,
      "outputs": []
    }
  ]
}