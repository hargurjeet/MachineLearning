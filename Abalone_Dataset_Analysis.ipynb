{
  "nbformat": 4,
  "nbformat_minor": 0,
  "metadata": {
    "colab": {
      "name": "Abalone_Dataset_Analysis.ipynb",
      "provenance": [],
      "collapsed_sections": [],
      "toc_visible": true
    },
    "kernelspec": {
      "name": "python3",
      "display_name": "Python 3"
    }
  },
  "cells": [
    {
      "cell_type": "markdown",
      "metadata": {
        "id": "c0kP5gLiCnjM"
      },
      "source": [
        "# Abalone Dataset"
      ]
    },
    {
      "cell_type": "markdown",
      "metadata": {
        "id": "C-6O5ePxCnVB"
      },
      "source": [
        "# 1: Introduction\r\n",
        "\r\n",
        "About this data\r\n",
        "The Abalone Dataset involves predicting the age of abalone given objective measures of individuals.\r\n",
        "\r\n",
        "It is a multi-class classification problem, but can also be framed as a regression. The number of observations for each class is not balanced. There are 4,177 observations with 8 input variables and 1 output variable. The variable names are as follows:\r\n",
        "\r\n",
        "<br> 1. Sex (M, F, I).\r\n",
        "<br> 2. Length.\r\n",
        "<br> 3. Diameter.\r\n",
        "<br> 4. Height.\r\n",
        "<br> 5. Whole weight.\r\n",
        "<br> 6. Shucked weight.\r\n",
        "<br> 7. Viscera weight.\r\n",
        "<br> 8. Shell weight.\r\n",
        "<br> 9. Rings"
      ]
    },
    {
      "cell_type": "markdown",
      "metadata": {
        "id": "IQiu8boJDT_P"
      },
      "source": [
        "# 2: Data Pre processing"
      ]
    },
    {
      "cell_type": "markdown",
      "metadata": {
        "id": "1NrpeZi6DW5W"
      },
      "source": [
        "## 2.1 Loading the required Libraries"
      ]
    },
    {
      "cell_type": "code",
      "metadata": {
        "id": "30cZKfZrA45Z"
      },
      "source": [
        "import sys\r\n",
        "assert sys.version_info >= (3, 5)\r\n",
        "\r\n",
        "# Scikit-Learn ≥0.20 is required\r\n",
        "import sklearn\r\n",
        "assert sklearn.__version__ >= \"0.20\"\r\n",
        "\r\n",
        "# Common imports\r\n",
        "import numpy as np\r\n",
        "import os\r\n",
        "import pandas as pd\r\n",
        "\r\n",
        "# To plot pretty figures\r\n",
        "%matplotlib inline\r\n",
        "import matplotlib as mpl\r\n",
        "import matplotlib.pyplot as plt\r\n",
        "import seaborn as sns\r\n",
        "mpl.rc('axes', labelsize=14)\r\n",
        "mpl.rc('xtick', labelsize=12)\r\n",
        "mpl.rc('ytick', labelsize=12)\r\n",
        "\r\n",
        "#ML imports\r\n",
        "from sklearn.preprocessing import StandardScaler\r\n",
        "from sklearn.model_selection import train_test_split, KFold, cross_val_score, GridSearchCV\r\n",
        "from sklearn.linear_model import LogisticRegression\r\n",
        "from sklearn.tree import DecisionTreeClassifier\r\n",
        "from sklearn.neighbors import KNeighborsClassifier\r\n",
        "from sklearn.discriminant_analysis import LinearDiscriminantAnalysis\r\n",
        "from sklearn.naive_bayes import GaussianNB\r\n",
        "from sklearn.svm import SVC\r\n",
        "from sklearn.pipeline import Pipeline\r\n",
        "from sklearn.ensemble import AdaBoostClassifier, GradientBoostingClassifier, RandomForestClassifier, ExtraTreesClassifier\r\n",
        "from sklearn.metrics import classification_report, confusion_matrix, accuracy_score"
      ],
      "execution_count": 2,
      "outputs": []
    },
    {
      "cell_type": "markdown",
      "metadata": {
        "id": "sGD-JH-7Dffa"
      },
      "source": [
        "## 2.2 Get Data"
      ]
    },
    {
      "cell_type": "code",
      "metadata": {
        "colab": {
          "base_uri": "https://localhost:8080/",
          "height": 204
        },
        "id": "ZKIS2HWPBIqx",
        "outputId": "0e9a6e97-8e89-497c-b6d6-f5d2f86d4e7b"
      },
      "source": [
        "## Loading the dataset from github repo\r\n",
        "url = 'https://raw.githubusercontent.com/hargurjeet/MachineLearning/Abalone-Dataset/abalone.csv'\r\n",
        "df = pd.read_csv(url)\r\n",
        "\r\n",
        "df.head()"
      ],
      "execution_count": 3,
      "outputs": [
        {
          "output_type": "execute_result",
          "data": {
            "text/html": [
              "<div>\n",
              "<style scoped>\n",
              "    .dataframe tbody tr th:only-of-type {\n",
              "        vertical-align: middle;\n",
              "    }\n",
              "\n",
              "    .dataframe tbody tr th {\n",
              "        vertical-align: top;\n",
              "    }\n",
              "\n",
              "    .dataframe thead th {\n",
              "        text-align: right;\n",
              "    }\n",
              "</style>\n",
              "<table border=\"1\" class=\"dataframe\">\n",
              "  <thead>\n",
              "    <tr style=\"text-align: right;\">\n",
              "      <th></th>\n",
              "      <th>Sex</th>\n",
              "      <th>Length</th>\n",
              "      <th>Diameter</th>\n",
              "      <th>Height</th>\n",
              "      <th>Whole weight</th>\n",
              "      <th>Shucked weight</th>\n",
              "      <th>Viscera weight</th>\n",
              "      <th>Shell weight</th>\n",
              "      <th>Rings</th>\n",
              "    </tr>\n",
              "  </thead>\n",
              "  <tbody>\n",
              "    <tr>\n",
              "      <th>0</th>\n",
              "      <td>M</td>\n",
              "      <td>0.455</td>\n",
              "      <td>0.365</td>\n",
              "      <td>0.095</td>\n",
              "      <td>0.5140</td>\n",
              "      <td>0.2245</td>\n",
              "      <td>0.1010</td>\n",
              "      <td>0.150</td>\n",
              "      <td>15</td>\n",
              "    </tr>\n",
              "    <tr>\n",
              "      <th>1</th>\n",
              "      <td>M</td>\n",
              "      <td>0.350</td>\n",
              "      <td>0.265</td>\n",
              "      <td>0.090</td>\n",
              "      <td>0.2255</td>\n",
              "      <td>0.0995</td>\n",
              "      <td>0.0485</td>\n",
              "      <td>0.070</td>\n",
              "      <td>7</td>\n",
              "    </tr>\n",
              "    <tr>\n",
              "      <th>2</th>\n",
              "      <td>F</td>\n",
              "      <td>0.530</td>\n",
              "      <td>0.420</td>\n",
              "      <td>0.135</td>\n",
              "      <td>0.6770</td>\n",
              "      <td>0.2565</td>\n",
              "      <td>0.1415</td>\n",
              "      <td>0.210</td>\n",
              "      <td>9</td>\n",
              "    </tr>\n",
              "    <tr>\n",
              "      <th>3</th>\n",
              "      <td>M</td>\n",
              "      <td>0.440</td>\n",
              "      <td>0.365</td>\n",
              "      <td>0.125</td>\n",
              "      <td>0.5160</td>\n",
              "      <td>0.2155</td>\n",
              "      <td>0.1140</td>\n",
              "      <td>0.155</td>\n",
              "      <td>10</td>\n",
              "    </tr>\n",
              "    <tr>\n",
              "      <th>4</th>\n",
              "      <td>I</td>\n",
              "      <td>0.330</td>\n",
              "      <td>0.255</td>\n",
              "      <td>0.080</td>\n",
              "      <td>0.2050</td>\n",
              "      <td>0.0895</td>\n",
              "      <td>0.0395</td>\n",
              "      <td>0.055</td>\n",
              "      <td>7</td>\n",
              "    </tr>\n",
              "  </tbody>\n",
              "</table>\n",
              "</div>"
            ],
            "text/plain": [
              "  Sex  Length  Diameter  ...  Viscera weight  Shell weight  Rings\n",
              "0   M   0.455     0.365  ...          0.1010         0.150     15\n",
              "1   M   0.350     0.265  ...          0.0485         0.070      7\n",
              "2   F   0.530     0.420  ...          0.1415         0.210      9\n",
              "3   M   0.440     0.365  ...          0.1140         0.155     10\n",
              "4   I   0.330     0.255  ...          0.0395         0.055      7\n",
              "\n",
              "[5 rows x 9 columns]"
            ]
          },
          "metadata": {
            "tags": []
          },
          "execution_count": 3
        }
      ]
    },
    {
      "cell_type": "code",
      "metadata": {
        "colab": {
          "base_uri": "https://localhost:8080/"
        },
        "id": "8k6_8hYyCAT8",
        "outputId": "d705ee79-9338-45d8-c65b-97e600636dae"
      },
      "source": [
        "df.shape"
      ],
      "execution_count": 4,
      "outputs": [
        {
          "output_type": "execute_result",
          "data": {
            "text/plain": [
              "(4177, 9)"
            ]
          },
          "metadata": {
            "tags": []
          },
          "execution_count": 4
        }
      ]
    },
    {
      "cell_type": "code",
      "metadata": {
        "colab": {
          "base_uri": "https://localhost:8080/",
          "height": 297
        },
        "id": "4hih6fH6CHD1",
        "outputId": "876a7163-ae42-460d-9c50-d3105f0be869"
      },
      "source": [
        "df.describe().T"
      ],
      "execution_count": 5,
      "outputs": [
        {
          "output_type": "execute_result",
          "data": {
            "text/html": [
              "<div>\n",
              "<style scoped>\n",
              "    .dataframe tbody tr th:only-of-type {\n",
              "        vertical-align: middle;\n",
              "    }\n",
              "\n",
              "    .dataframe tbody tr th {\n",
              "        vertical-align: top;\n",
              "    }\n",
              "\n",
              "    .dataframe thead th {\n",
              "        text-align: right;\n",
              "    }\n",
              "</style>\n",
              "<table border=\"1\" class=\"dataframe\">\n",
              "  <thead>\n",
              "    <tr style=\"text-align: right;\">\n",
              "      <th></th>\n",
              "      <th>count</th>\n",
              "      <th>mean</th>\n",
              "      <th>std</th>\n",
              "      <th>min</th>\n",
              "      <th>25%</th>\n",
              "      <th>50%</th>\n",
              "      <th>75%</th>\n",
              "      <th>max</th>\n",
              "    </tr>\n",
              "  </thead>\n",
              "  <tbody>\n",
              "    <tr>\n",
              "      <th>Length</th>\n",
              "      <td>4177.0</td>\n",
              "      <td>0.523992</td>\n",
              "      <td>0.120093</td>\n",
              "      <td>0.0750</td>\n",
              "      <td>0.4500</td>\n",
              "      <td>0.5450</td>\n",
              "      <td>0.615</td>\n",
              "      <td>0.8150</td>\n",
              "    </tr>\n",
              "    <tr>\n",
              "      <th>Diameter</th>\n",
              "      <td>4177.0</td>\n",
              "      <td>0.407881</td>\n",
              "      <td>0.099240</td>\n",
              "      <td>0.0550</td>\n",
              "      <td>0.3500</td>\n",
              "      <td>0.4250</td>\n",
              "      <td>0.480</td>\n",
              "      <td>0.6500</td>\n",
              "    </tr>\n",
              "    <tr>\n",
              "      <th>Height</th>\n",
              "      <td>4177.0</td>\n",
              "      <td>0.139516</td>\n",
              "      <td>0.041827</td>\n",
              "      <td>0.0000</td>\n",
              "      <td>0.1150</td>\n",
              "      <td>0.1400</td>\n",
              "      <td>0.165</td>\n",
              "      <td>1.1300</td>\n",
              "    </tr>\n",
              "    <tr>\n",
              "      <th>Whole weight</th>\n",
              "      <td>4177.0</td>\n",
              "      <td>0.828742</td>\n",
              "      <td>0.490389</td>\n",
              "      <td>0.0020</td>\n",
              "      <td>0.4415</td>\n",
              "      <td>0.7995</td>\n",
              "      <td>1.153</td>\n",
              "      <td>2.8255</td>\n",
              "    </tr>\n",
              "    <tr>\n",
              "      <th>Shucked weight</th>\n",
              "      <td>4177.0</td>\n",
              "      <td>0.359367</td>\n",
              "      <td>0.221963</td>\n",
              "      <td>0.0010</td>\n",
              "      <td>0.1860</td>\n",
              "      <td>0.3360</td>\n",
              "      <td>0.502</td>\n",
              "      <td>1.4880</td>\n",
              "    </tr>\n",
              "    <tr>\n",
              "      <th>Viscera weight</th>\n",
              "      <td>4177.0</td>\n",
              "      <td>0.180594</td>\n",
              "      <td>0.109614</td>\n",
              "      <td>0.0005</td>\n",
              "      <td>0.0935</td>\n",
              "      <td>0.1710</td>\n",
              "      <td>0.253</td>\n",
              "      <td>0.7600</td>\n",
              "    </tr>\n",
              "    <tr>\n",
              "      <th>Shell weight</th>\n",
              "      <td>4177.0</td>\n",
              "      <td>0.238831</td>\n",
              "      <td>0.139203</td>\n",
              "      <td>0.0015</td>\n",
              "      <td>0.1300</td>\n",
              "      <td>0.2340</td>\n",
              "      <td>0.329</td>\n",
              "      <td>1.0050</td>\n",
              "    </tr>\n",
              "    <tr>\n",
              "      <th>Rings</th>\n",
              "      <td>4177.0</td>\n",
              "      <td>9.933684</td>\n",
              "      <td>3.224169</td>\n",
              "      <td>1.0000</td>\n",
              "      <td>8.0000</td>\n",
              "      <td>9.0000</td>\n",
              "      <td>11.000</td>\n",
              "      <td>29.0000</td>\n",
              "    </tr>\n",
              "  </tbody>\n",
              "</table>\n",
              "</div>"
            ],
            "text/plain": [
              "                 count      mean       std  ...     50%     75%      max\n",
              "Length          4177.0  0.523992  0.120093  ...  0.5450   0.615   0.8150\n",
              "Diameter        4177.0  0.407881  0.099240  ...  0.4250   0.480   0.6500\n",
              "Height          4177.0  0.139516  0.041827  ...  0.1400   0.165   1.1300\n",
              "Whole weight    4177.0  0.828742  0.490389  ...  0.7995   1.153   2.8255\n",
              "Shucked weight  4177.0  0.359367  0.221963  ...  0.3360   0.502   1.4880\n",
              "Viscera weight  4177.0  0.180594  0.109614  ...  0.1710   0.253   0.7600\n",
              "Shell weight    4177.0  0.238831  0.139203  ...  0.2340   0.329   1.0050\n",
              "Rings           4177.0  9.933684  3.224169  ...  9.0000  11.000  29.0000\n",
              "\n",
              "[8 rows x 8 columns]"
            ]
          },
          "metadata": {
            "tags": []
          },
          "execution_count": 5
        }
      ]
    },
    {
      "cell_type": "code",
      "metadata": {
        "colab": {
          "base_uri": "https://localhost:8080/"
        },
        "id": "wRHz_-CSCKED",
        "outputId": "ca991d3d-dccf-4d55-ac99-206684861832"
      },
      "source": [
        "df.info()"
      ],
      "execution_count": 6,
      "outputs": [
        {
          "output_type": "stream",
          "text": [
            "<class 'pandas.core.frame.DataFrame'>\n",
            "RangeIndex: 4177 entries, 0 to 4176\n",
            "Data columns (total 9 columns):\n",
            " #   Column          Non-Null Count  Dtype  \n",
            "---  ------          --------------  -----  \n",
            " 0   Sex             4177 non-null   object \n",
            " 1   Length          4177 non-null   float64\n",
            " 2   Diameter        4177 non-null   float64\n",
            " 3   Height          4177 non-null   float64\n",
            " 4   Whole weight    4177 non-null   float64\n",
            " 5   Shucked weight  4177 non-null   float64\n",
            " 6   Viscera weight  4177 non-null   float64\n",
            " 7   Shell weight    4177 non-null   float64\n",
            " 8   Rings           4177 non-null   int64  \n",
            "dtypes: float64(7), int64(1), object(1)\n",
            "memory usage: 293.8+ KB\n"
          ],
          "name": "stdout"
        }
      ]
    },
    {
      "cell_type": "code",
      "metadata": {
        "colab": {
          "base_uri": "https://localhost:8080/"
        },
        "id": "ystFz4UHCucz",
        "outputId": "ef08c002-4c1a-45a6-89ad-1bd2cb5c386d"
      },
      "source": [
        "df.Sex.value_counts()"
      ],
      "execution_count": 7,
      "outputs": [
        {
          "output_type": "execute_result",
          "data": {
            "text/plain": [
              "M    1528\n",
              "I    1342\n",
              "F    1307\n",
              "Name: Sex, dtype: int64"
            ]
          },
          "metadata": {
            "tags": []
          },
          "execution_count": 7
        }
      ]
    },
    {
      "cell_type": "code",
      "metadata": {
        "colab": {
          "base_uri": "https://localhost:8080/",
          "height": 720
        },
        "id": "jGhv5Gb0CzBd",
        "outputId": "699e58a9-6b54-4211-8a78-543ef629dffb"
      },
      "source": [
        "df.hist(bins=50, figsize=(20,15))\r\n",
        "plt.show()"
      ],
      "execution_count": 8,
      "outputs": [
        {
          "output_type": "display_data",
          "data": {
            "image/png": "[encoded data removed]",
            "text/plain": [
              "<Figure size 1440x1080 with 9 Axes>"
            ]
          },
          "metadata": {
            "tags": [],
            "needs_background": "light"
          }
        }
      ]
    },
    {
      "cell_type": "markdown",
      "metadata": {
        "id": "GYqBXxCdDrTo"
      },
      "source": [
        "## 2.3 Cleaning the dataset"
      ]
    },
    {
      "cell_type": "code",
      "metadata": {
        "colab": {
          "base_uri": "https://localhost:8080/"
        },
        "id": "ajMkr7L-DQaX",
        "outputId": "83b68f44-94b8-41af-c37c-aac99aeefdb3"
      },
      "source": [
        "df.duplicated().sum()"
      ],
      "execution_count": 9,
      "outputs": [
        {
          "output_type": "execute_result",
          "data": {
            "text/plain": [
              "0"
            ]
          },
          "metadata": {
            "tags": []
          },
          "execution_count": 9
        }
      ]
    },
    {
      "cell_type": "code",
      "metadata": {
        "colab": {
          "base_uri": "https://localhost:8080/",
          "height": 49
        },
        "id": "6ksCLMkNVIEv",
        "outputId": "70cf2363-8f32-4248-ec6d-b738d388ce32"
      },
      "source": [
        "sample_incomplete_rows = df[df.isnull().any(axis=1)].head()\r\n",
        "sample_incomplete_rows"
      ],
      "execution_count": 10,
      "outputs": [
        {
          "output_type": "execute_result",
          "data": {
            "text/html": [
              "<div>\n",
              "<style scoped>\n",
              "    .dataframe tbody tr th:only-of-type {\n",
              "        vertical-align: middle;\n",
              "    }\n",
              "\n",
              "    .dataframe tbody tr th {\n",
              "        vertical-align: top;\n",
              "    }\n",
              "\n",
              "    .dataframe thead th {\n",
              "        text-align: right;\n",
              "    }\n",
              "</style>\n",
              "<table border=\"1\" class=\"dataframe\">\n",
              "  <thead>\n",
              "    <tr style=\"text-align: right;\">\n",
              "      <th></th>\n",
              "      <th>Sex</th>\n",
              "      <th>Length</th>\n",
              "      <th>Diameter</th>\n",
              "      <th>Height</th>\n",
              "      <th>Whole weight</th>\n",
              "      <th>Shucked weight</th>\n",
              "      <th>Viscera weight</th>\n",
              "      <th>Shell weight</th>\n",
              "      <th>Rings</th>\n",
              "    </tr>\n",
              "  </thead>\n",
              "  <tbody>\n",
              "  </tbody>\n",
              "</table>\n",
              "</div>"
            ],
            "text/plain": [
              "Empty DataFrame\n",
              "Columns: [Sex, Length, Diameter, Height, Whole weight, Shucked weight, Viscera weight, Shell weight, Rings]\n",
              "Index: []"
            ]
          },
          "metadata": {
            "tags": []
          },
          "execution_count": 10
        }
      ]
    },
    {
      "cell_type": "markdown",
      "metadata": {
        "id": "sjqZiSPpD0B6"
      },
      "source": [
        "# 3: Preparing the data for ML"
      ]
    },
    {
      "cell_type": "markdown",
      "metadata": {
        "id": "jkur3QpuD2ko"
      },
      "source": [
        "## 3.1 Applying Train,test and Split"
      ]
    },
    {
      "cell_type": "code",
      "metadata": {
        "id": "wei5Z7khDQUs"
      },
      "source": [
        "## Splittng the dataset to train,test and split\r\n",
        "from sklearn.model_selection import train_test_split\r\n",
        "\r\n",
        "X = df.iloc[:,0:-1]\r\n",
        "Y = df.iloc[:,-1]\r\n",
        "validation_size = 0.2\r\n",
        "seed = 7\r\n",
        "X_train, Y_train, X_test, Y_test = train_test_split(X, Y, test_size=validation_size, random_state=seed,shuffle=True)"
      ],
      "execution_count": 11,
      "outputs": []
    },
    {
      "cell_type": "code",
      "metadata": {
        "colab": {
          "base_uri": "https://localhost:8080/"
        },
        "id": "L8eEY1woDQNg",
        "outputId": "561e77ef-4792-40a5-860b-bfb5156fb622"
      },
      "source": [
        "corr_matrix = df.corr()\r\n",
        "\r\n",
        "corr_matrix[\"Rings\"].sort_values(ascending=False)"
      ],
      "execution_count": 12,
      "outputs": [
        {
          "output_type": "execute_result",
          "data": {
            "text/plain": [
              "Rings             1.000000\n",
              "Shell weight      0.627574\n",
              "Diameter          0.574660\n",
              "Height            0.557467\n",
              "Length            0.556720\n",
              "Whole weight      0.540390\n",
              "Viscera weight    0.503819\n",
              "Shucked weight    0.420884\n",
              "Name: Rings, dtype: float64"
            ]
          },
          "metadata": {
            "tags": []
          },
          "execution_count": 12
        }
      ]
    },
    {
      "cell_type": "code",
      "metadata": {
        "colab": {
          "base_uri": "https://localhost:8080/"
        },
        "id": "h4TFgFrbVH-t",
        "outputId": "432b5825-1478-4dba-b656-fadff2129d72"
      },
      "source": [
        "from sklearn.preprocessing import OneHotEncoder\r\n",
        "df_cat = df[['Sex']]\r\n",
        "cat_encoder = OneHotEncoder()\r\n",
        "df_cat_1hot = cat_encoder.fit_transform(df_cat)\r\n",
        "df_cat_1hot\r\n",
        "\r\n",
        "df_cat_1hot.toarray()"
      ],
      "execution_count": 13,
      "outputs": [
        {
          "output_type": "execute_result",
          "data": {
            "text/plain": [
              "array([[0., 0., 1.],\n",
              "       [0., 0., 1.],\n",
              "       [1., 0., 0.],\n",
              "       ...,\n",
              "       [0., 0., 1.],\n",
              "       [1., 0., 0.],\n",
              "       [0., 0., 1.]])"
            ]
          },
          "metadata": {
            "tags": []
          },
          "execution_count": 13
        }
      ]
    },
    {
      "cell_type": "markdown",
      "metadata": {
        "id": "WzHlHpWPEBRa"
      },
      "source": [
        "## 3.2 Building pipelines and feature scaling"
      ]
    },
    {
      "cell_type": "code",
      "metadata": {
        "id": "d0dxJdRKVH7J"
      },
      "source": [
        "from sklearn.pipeline import Pipeline\r\n",
        "from sklearn.preprocessing import StandardScaler\r\n",
        "\r\n",
        "num_pipeline = Pipeline([\r\n",
        "        # ('imputer', SimpleImputer(strategy=\"median\")),\r\n",
        "        # ('attribs_adder', CombinedAttributesAdder()),\r\n",
        "        ('std_scaler', StandardScaler()),\r\n",
        "    ])\r\n",
        "X_num = X_train.drop(\"Sex\", axis=1)\r\n",
        "X_transformed = num_pipeline.fit_transform(X_num)"
      ],
      "execution_count": 14,
      "outputs": []
    },
    {
      "cell_type": "code",
      "metadata": {
        "colab": {
          "base_uri": "https://localhost:8080/"
        },
        "id": "Yc-GEF17VH4Q",
        "outputId": "0968dd6a-715e-47a2-9e92-f1669f2953ac"
      },
      "source": [
        "from sklearn.compose import ColumnTransformer\r\n",
        "\r\n",
        "num_attribs = list(X_num)\r\n",
        "cat_attribs = [\"Sex\"]\r\n",
        "\r\n",
        "full_pipeline = ColumnTransformer([\r\n",
        "        (\"num\", num_pipeline, num_attribs),\r\n",
        "        (\"cat\", OneHotEncoder(), cat_attribs),\r\n",
        "    ])\r\n",
        "\r\n",
        "X_prepared = full_pipeline.fit_transform(X_train)\r\n",
        "X_prepared"
      ],
      "execution_count": 15,
      "outputs": [
        {
          "output_type": "execute_result",
          "data": {
            "text/plain": [
              "array([[ 0.20853113,  0.26347342, -0.35037005, ...,  0.        ,\n",
              "         1.        ,  0.        ],\n",
              "       [-0.53864743, -0.79163838,  0.23398815, ...,  1.        ,\n",
              "         0.        ,  0.        ],\n",
              "       [-0.87072679, -0.99261206, -1.05159989, ...,  0.        ,\n",
              "         1.        ,  0.        ],\n",
              "       ...,\n",
              "       [-2.03300454, -1.89699361, -1.40221481, ...,  0.        ,\n",
              "         1.        ,  0.        ],\n",
              "       [-1.9499847 , -1.79650677, -1.51908645, ...,  0.        ,\n",
              "         0.        ,  1.        ],\n",
              "       [-1.61790534, -1.59553309, -1.05159989, ...,  0.        ,\n",
              "         1.        ,  0.        ]])"
            ]
          },
          "metadata": {
            "tags": []
          },
          "execution_count": 15
        }
      ]
    },
    {
      "cell_type": "markdown",
      "metadata": {
        "id": "cHBurNPjEkO6"
      },
      "source": [
        "# 4: Building ML models"
      ]
    },
    {
      "cell_type": "markdown",
      "metadata": {
        "id": "3LeeBrUYEnUS"
      },
      "source": [
        "## 4.1 Analysing the best model"
      ]
    },
    {
      "cell_type": "code",
      "metadata": {
        "colab": {
          "base_uri": "https://localhost:8080/"
        },
        "id": "mk5-hOWJVH1h",
        "outputId": "89dc2afc-2476-40d3-f97f-ae116880aa05"
      },
      "source": [
        "from sklearn.linear_model import LinearRegression\r\n",
        "\r\n",
        "lin_reg = LinearRegression()\r\n",
        "lin_reg.fit(X_prepared, X_test)"
      ],
      "execution_count": 16,
      "outputs": [
        {
          "output_type": "execute_result",
          "data": {
            "text/plain": [
              "LinearRegression(copy_X=True, fit_intercept=True, n_jobs=None, normalize=False)"
            ]
          },
          "metadata": {
            "tags": []
          },
          "execution_count": 16
        }
      ]
    },
    {
      "cell_type": "code",
      "metadata": {
        "colab": {
          "base_uri": "https://localhost:8080/"
        },
        "id": "R1pvjRx69osB",
        "outputId": "d89d9245-023a-40ae-b6c9-2009e5812b2d"
      },
      "source": [
        "some_data = X_train.iloc[:5]\r\n",
        "some_labels = X_test.iloc[:5]\r\n",
        "some_data_prepared = full_pipeline.transform(some_data)\r\n",
        "\r\n",
        "print(\"Predictions:\", lin_reg.predict(some_data_prepared))\r\n",
        "print(\"Labels:\", list(some_labels))"
      ],
      "execution_count": 17,
      "outputs": [
        {
          "output_type": "stream",
          "text": [
            "Predictions: [ 8.86402173  8.69524625  7.59720292  9.25233051 11.70641729]\n",
            "Labels: [9, 10, 6, 7, 14]\n"
          ],
          "name": "stdout"
        }
      ]
    },
    {
      "cell_type": "code",
      "metadata": {
        "colab": {
          "base_uri": "https://localhost:8080/"
        },
        "id": "rtWwbE3R9oov",
        "outputId": "962ab7f3-847c-45cb-a844-259b6f6cf205"
      },
      "source": [
        "from sklearn.metrics import mean_squared_error\r\n",
        "\r\n",
        "Rings_predictions = lin_reg.predict(X_prepared)\r\n",
        "lin_mse = mean_squared_error(X_test, Rings_predictions)\r\n",
        "lin_rmse = np.sqrt(lin_mse)\r\n",
        "lin_rmse"
      ],
      "execution_count": 18,
      "outputs": [
        {
          "output_type": "execute_result",
          "data": {
            "text/plain": [
              "2.175551311229783"
            ]
          },
          "metadata": {
            "tags": []
          },
          "execution_count": 18
        }
      ]
    },
    {
      "cell_type": "code",
      "metadata": {
        "colab": {
          "base_uri": "https://localhost:8080/"
        },
        "id": "z4_ZUtoe9ol-",
        "outputId": "b912fa10-0274-4a5b-a59e-86abd6bac21a"
      },
      "source": [
        "from sklearn.metrics import mean_absolute_error\r\n",
        "\r\n",
        "lin_mae = mean_absolute_error(X_test, Rings_predictions)\r\n",
        "lin_mae"
      ],
      "execution_count": 19,
      "outputs": [
        {
          "output_type": "execute_result",
          "data": {
            "text/plain": [
              "1.5623586521275272"
            ]
          },
          "metadata": {
            "tags": []
          },
          "execution_count": 19
        }
      ]
    },
    {
      "cell_type": "markdown",
      "metadata": {
        "id": "BlxrZBOwE8vC"
      },
      "source": [
        "## 4.2 Trying out most common ML models for regression"
      ]
    },
    {
      "cell_type": "code",
      "metadata": {
        "id": "TWzUa-k_-9Ib"
      },
      "source": [
        "from sklearn.metrics import mean_squared_error\r\n",
        "from sklearn.linear_model import SGDRegressor\r\n",
        "from sklearn.svm import LinearSVR\r\n",
        "from sklearn.linear_model import LinearRegression\r\n",
        "from sklearn.tree import DecisionTreeRegressor\r\n",
        "from sklearn.ensemble import RandomForestRegressor\r\n",
        "\r\n",
        "classifiers = [\r\n",
        "    SGDRegressor(),\r\n",
        "    LinearSVR(),\r\n",
        "    LinearRegression(),\r\n",
        "    DecisionTreeRegressor(),\r\n",
        "    RandomForestRegressor()\r\n",
        "]"
      ],
      "execution_count": 20,
      "outputs": []
    },
    {
      "cell_type": "code",
      "metadata": {
        "colab": {
          "base_uri": "https://localhost:8080/"
        },
        "id": "4ipd34tx-_0d",
        "outputId": "53c9599b-301e-4a3b-e985-588de7a224ac"
      },
      "source": [
        "from sklearn.model_selection import cross_val_score\r\n",
        "\r\n",
        "for clf in classifiers:\r\n",
        "    clf.fit(X_prepared, X_test)\r\n",
        "    name = clf.__class__.__name__\r\n",
        "    \r\n",
        "    print(\"=\"*30)\r\n",
        "    print(name)\r\n",
        "    \r\n",
        "    scores = cross_val_score(clf, X_prepared, X_test, scoring=\"neg_mean_squared_error\", cv=10)\r\n",
        "    rmse_scores = np.sqrt(-scores)\r\n",
        "    \r\n",
        "    print('****Results****')\r\n",
        "    print(\"Scores: \", scores)\r\n",
        "    print(\"Mean: \", scores.mean())\r\n",
        "    print(\"Std deviation: \", scores.std())\r\n",
        "    \r\n",
        "print(\"=\"*30)"
      ],
      "execution_count": 21,
      "outputs": [
        {
          "output_type": "stream",
          "text": [
            "==============================\n",
            "SGDRegressor\n",
            "****Results****\n",
            "Scores:  [-5.21269466 -5.24288744 -3.87267292 -5.2465197  -6.24143729 -5.3036189\n",
            " -4.1134219  -5.03075746 -5.03523333 -3.88951087]\n",
            "Mean:  -4.918875447029829\n",
            "Std deviation:  0.7088585856112388\n",
            "==============================\n",
            "LinearSVR\n",
            "****Results****\n",
            "Scores:  [-5.52302744 -5.6149888  -3.99643523 -5.64287009 -5.89708134 -5.52913589\n",
            " -4.20716356 -4.86542127 -5.13841012 -3.79160673]\n",
            "Mean:  -5.020614046023104\n",
            "Std deviation:  0.726550491320877\n",
            "==============================\n",
            "LinearRegression\n",
            "****Results****\n",
            "Scores:  [-5.08821908 -5.21507893 -3.91628319 -5.36357163 -6.04223401 -5.21627056\n",
            " -4.08223748 -4.84331976 -5.00773995 -3.77548906]\n",
            "Mean:  -4.855044365212144\n",
            "Std deviation:  0.6819013869480229\n",
            "==============================\n",
            "DecisionTreeRegressor\n",
            "****Results****\n",
            "Scores:  [ -9.51641791  -8.56886228  -7.15269461  -8.45808383  -8.86227545\n",
            "  -9.32934132  -8.99101796  -7.69461078 -10.67065868  -8.13772455]\n",
            "Mean:  -8.73816873715256\n",
            "Std deviation:  0.9401806349579589\n",
            "==============================\n",
            "RandomForestRegressor\n",
            "****Results****\n",
            "Scores:  [-4.98308836 -5.25134731 -3.61183054 -4.67193982 -5.25936916 -4.70212425\n",
            " -3.98564521 -5.18282395 -4.83432904 -4.09389042]\n",
            "Mean:  -4.657638805880776\n",
            "Std deviation:  0.5470659497741426\n",
            "==============================\n"
          ],
          "name": "stdout"
        }
      ]
    },
    {
      "cell_type": "markdown",
      "metadata": {
        "id": "tmxmbNv-FYSv"
      },
      "source": [
        "Random forest seems to give best results"
      ]
    },
    {
      "cell_type": "markdown",
      "metadata": {
        "id": "52j3ZLuXFel2"
      },
      "source": [
        "## 4.3 Hyperparameter Tunning"
      ]
    },
    {
      "cell_type": "code",
      "metadata": {
        "colab": {
          "base_uri": "https://localhost:8080/"
        },
        "id": "vfGZR5-n_1rl",
        "outputId": "3df9ee1b-6305-4e3b-d63a-1bda92835bd0"
      },
      "source": [
        "from sklearn.model_selection import GridSearchCV\r\n",
        "\r\n",
        "param_grid = [\r\n",
        "    {'n_estimators': [3, 10, 30], 'max_features': [2, 4, 6, 8]},\r\n",
        "    {'bootstrap': [False], 'n_estimators': [3, 10], 'max_features': [2, 3, 4]},\r\n",
        "  ]\r\n",
        "\r\n",
        "rnd_reg = RandomForestRegressor(random_state=42)\r\n",
        "grid_search = GridSearchCV(rnd_reg, param_grid, cv=5, scoring=\"neg_mean_squared_error\",\r\n",
        "                          return_train_score=True)\r\n",
        "grid_search.fit(X_prepared, X_test)"
      ],
      "execution_count": 22,
      "outputs": [
        {
          "output_type": "execute_result",
          "data": {
            "text/plain": [
              "GridSearchCV(cv=5, error_score=nan,\n",
              "             estimator=RandomForestRegressor(bootstrap=True, ccp_alpha=0.0,\n",
              "                                             criterion='mse', max_depth=None,\n",
              "                                             max_features='auto',\n",
              "                                             max_leaf_nodes=None,\n",
              "                                             max_samples=None,\n",
              "                                             min_impurity_decrease=0.0,\n",
              "                                             min_impurity_split=None,\n",
              "                                             min_samples_leaf=1,\n",
              "                                             min_samples_split=2,\n",
              "                                             min_weight_fraction_leaf=0.0,\n",
              "                                             n_estimators=100, n_jobs=None,\n",
              "                                             oob_score=False, random_state=42,\n",
              "                                             verbose=0, warm_start=False),\n",
              "             iid='deprecated', n_jobs=None,\n",
              "             param_grid=[{'max_features': [2, 4, 6, 8],\n",
              "                          'n_estimators': [3, 10, 30]},\n",
              "                         {'bootstrap': [False], 'max_features': [2, 3, 4],\n",
              "                          'n_estimators': [3, 10]}],\n",
              "             pre_dispatch='2*n_jobs', refit=True, return_train_score=True,\n",
              "             scoring='neg_mean_squared_error', verbose=0)"
            ]
          },
          "metadata": {
            "tags": []
          },
          "execution_count": 22
        }
      ]
    },
    {
      "cell_type": "code",
      "metadata": {
        "colab": {
          "base_uri": "https://localhost:8080/"
        },
        "id": "lk0kvGrkAB6V",
        "outputId": "a1ec9b69-351b-4330-a82d-95b92495baea"
      },
      "source": [
        "grid_search.best_params_"
      ],
      "execution_count": 23,
      "outputs": [
        {
          "output_type": "execute_result",
          "data": {
            "text/plain": [
              "{'max_features': 6, 'n_estimators': 30}"
            ]
          },
          "metadata": {
            "tags": []
          },
          "execution_count": 23
        }
      ]
    },
    {
      "cell_type": "code",
      "metadata": {
        "colab": {
          "base_uri": "https://localhost:8080/"
        },
        "id": "Wxo26PBgACdy",
        "outputId": "3d1584f4-85f1-4160-9df8-c87c06974b21"
      },
      "source": [
        "cvres = grid_search.cv_results_\r\n",
        "for mean_score, params in zip(cvres[\"mean_test_score\"], cvres[\"params\"]):\r\n",
        "    print(np.sqrt(-mean_score), params)"
      ],
      "execution_count": 24,
      "outputs": [
        {
          "output_type": "stream",
          "text": [
            "2.535529166229905 {'max_features': 2, 'n_estimators': 3}\n",
            "2.273750824941845 {'max_features': 2, 'n_estimators': 10}\n",
            "2.186049523218441 {'max_features': 2, 'n_estimators': 30}\n",
            "2.4766879304911513 {'max_features': 4, 'n_estimators': 3}\n",
            "2.2133917402489143 {'max_features': 4, 'n_estimators': 10}\n",
            "2.167606301992598 {'max_features': 4, 'n_estimators': 30}\n",
            "2.43802832030863 {'max_features': 6, 'n_estimators': 3}\n",
            "2.2161176944738 {'max_features': 6, 'n_estimators': 10}\n",
            "2.1516175426916715 {'max_features': 6, 'n_estimators': 30}\n",
            "2.469116144356013 {'max_features': 8, 'n_estimators': 3}\n",
            "2.2479501884530135 {'max_features': 8, 'n_estimators': 10}\n",
            "2.1807967721204493 {'max_features': 8, 'n_estimators': 30}\n",
            "2.4407556135704733 {'bootstrap': False, 'max_features': 2, 'n_estimators': 3}\n",
            "2.247569064718448 {'bootstrap': False, 'max_features': 2, 'n_estimators': 10}\n",
            "2.469501247354686 {'bootstrap': False, 'max_features': 3, 'n_estimators': 3}\n",
            "2.2386697998815572 {'bootstrap': False, 'max_features': 3, 'n_estimators': 10}\n",
            "2.4429875842560236 {'bootstrap': False, 'max_features': 4, 'n_estimators': 3}\n",
            "2.248572006317732 {'bootstrap': False, 'max_features': 4, 'n_estimators': 10}\n"
          ],
          "name": "stdout"
        }
      ]
    },
    {
      "cell_type": "markdown",
      "metadata": {
        "id": "s4OI2tbfFn_A"
      },
      "source": [
        "## 4.4 Running the ML on best optimal parameters identified"
      ]
    },
    {
      "cell_type": "code",
      "metadata": {
        "colab": {
          "base_uri": "https://localhost:8080/"
        },
        "id": "8DsEWUMXAJdU",
        "outputId": "4d64351c-1148-499f-faf8-addda6d5153c"
      },
      "source": [
        "final_model = grid_search.best_estimator_\r\n",
        "\r\n",
        "Y_prepared = full_pipeline.transform(Y_train)\r\n",
        "final_predictions = final_model.predict(Y_prepared)\r\n",
        "\r\n",
        "final_mse = mean_squared_error(Y_test, final_predictions)\r\n",
        "final_rmse = np.sqrt(final_mse)\r\n",
        "\r\n",
        "print('RMSE:', final_rmse)"
      ],
      "execution_count": 25,
      "outputs": [
        {
          "output_type": "stream",
          "text": [
            "RMSE: 2.2546941404985064\n"
          ],
          "name": "stdout"
        }
      ]
    },
    {
      "cell_type": "code",
      "metadata": {
        "colab": {
          "base_uri": "https://localhost:8080/"
        },
        "id": "hyC7eF4AFs1v",
        "outputId": "13a4209e-4c5f-478a-af76-32fb65bea956"
      },
      "source": [
        "some_date = Y_train.iloc[0 : 6]\r\n",
        "some_labels = Y_test.iloc[0:6]\r\n",
        "\r\n",
        "some_date_prepared = full_pipeline.transform(some_date)\r\n",
        "\r\n",
        "print(\"Predictions:\", final_model.predict(some_date_prepared))\r\n",
        "print(\"Labels:\", list(some_labels))"
      ],
      "execution_count": 26,
      "outputs": [
        {
          "output_type": "stream",
          "text": [
            "Predictions: [ 9.6         8.6         7.83333333  9.93333333 10.96666667  7.86666667]\n",
            "Labels: [9, 10, 7, 9, 11, 8]\n"
          ],
          "name": "stdout"
        }
      ]
    }
  ]
}