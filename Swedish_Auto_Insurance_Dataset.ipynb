{
  "nbformat": 4,
  "nbformat_minor": 0,
  "metadata": {
    "colab": {
      "name": "Swedish-Auto_Insurance_Dataset.ipynb",
      "provenance": [],
      "collapsed_sections": [],
      "toc_visible": true
    },
    "kernelspec": {
      "name": "python3",
      "display_name": "Python 3"
    }
  },
  "cells": [
    {
      "cell_type": "markdown",
      "metadata": {
        "id": "SxuXIDYr0y4A"
      },
      "source": [
        "## Swedish Auto Insurance Dataset "
      ]
    },
    {
      "cell_type": "markdown",
      "metadata": {
        "id": "LhWMOpR5PeFY"
      },
      "source": [
        "### 1. Introduction\n",
        "\n",
        "> The Swedish Auto Insurance Dataset involves predicting the total payment for all claims in thousands of Swedish Kronor, given the total number of claims.\n",
        "> It is a regression problem. It is comprised of 63 observations with 1 input variable and one output variable. The variable names are as follows:\n",
        ">  1. Number of claims.\n",
        ">  2. Total payment for all claims in thousands of Swedish Kronor."
      ]
    },
    {
      "cell_type": "code",
      "metadata": {
        "id": "zRwPwMAT0zmX"
      },
      "source": [
        "## Loading the dataset from github repo\n",
        "\n",
        "import warnings\n",
        "warnings.filterwarnings(\"ignore\")\n",
        "import pandas as pd\n",
        "\n",
        "url='https://raw.githubusercontent.com/hargurjeet/MachineLearning/Swedish-Auto-Insurance-Dataset/insurance.csv'\n",
        "\n",
        "df_raw=pd.read_csv(url,sep='delimiter', header=None,  engine='python')"
      ],
      "execution_count": 34,
      "outputs": []
    },
    {
      "cell_type": "code",
      "metadata": {
        "id": "zI0VY3PAOEqD",
        "outputId": "8cd66e9a-53a2-442b-9582-a124763952b3",
        "colab": {
          "base_uri": "https://localhost:8080/",
          "height": 204
        }
      },
      "source": [
        "## Dropping intial junk values,renaming the column and resetting the index values\n",
        "df = df_raw.drop([0, 1, 2, 3], axis=0).reset_index(drop=True).rename(columns={0:'No_Of_Claims'})\n",
        "df = df.No_Of_Claims.str.split(',',expand=True).rename(columns={0:'No_Of_Claims', 1:'Total_Payment'})\n",
        "df.head()"
      ],
      "execution_count": 35,
      "outputs": [
        {
          "output_type": "execute_result",
          "data": {
            "text/html": [
              "<div>\n",
              "<style scoped>\n",
              "    .dataframe tbody tr th:only-of-type {\n",
              "        vertical-align: middle;\n",
              "    }\n",
              "\n",
              "    .dataframe tbody tr th {\n",
              "        vertical-align: top;\n",
              "    }\n",
              "\n",
              "    .dataframe thead th {\n",
              "        text-align: right;\n",
              "    }\n",
              "</style>\n",
              "<table border=\"1\" class=\"dataframe\">\n",
              "  <thead>\n",
              "    <tr style=\"text-align: right;\">\n",
              "      <th></th>\n",
              "      <th>No_Of_Claims</th>\n",
              "      <th>Total_Payment</th>\n",
              "    </tr>\n",
              "  </thead>\n",
              "  <tbody>\n",
              "    <tr>\n",
              "      <th>0</th>\n",
              "      <td>108</td>\n",
              "      <td>392.5</td>\n",
              "    </tr>\n",
              "    <tr>\n",
              "      <th>1</th>\n",
              "      <td>19</td>\n",
              "      <td>46.2</td>\n",
              "    </tr>\n",
              "    <tr>\n",
              "      <th>2</th>\n",
              "      <td>13</td>\n",
              "      <td>15.7</td>\n",
              "    </tr>\n",
              "    <tr>\n",
              "      <th>3</th>\n",
              "      <td>124</td>\n",
              "      <td>422.2</td>\n",
              "    </tr>\n",
              "    <tr>\n",
              "      <th>4</th>\n",
              "      <td>40</td>\n",
              "      <td>119.4</td>\n",
              "    </tr>\n",
              "  </tbody>\n",
              "</table>\n",
              "</div>"
            ],
            "text/plain": [
              "  No_Of_Claims Total_Payment\n",
              "0          108         392.5\n",
              "1           19          46.2\n",
              "2           13          15.7\n",
              "3          124         422.2\n",
              "4           40         119.4"
            ]
          },
          "metadata": {
            "tags": []
          },
          "execution_count": 35
        }
      ]
    },
    {
      "cell_type": "code",
      "metadata": {
        "id": "vjiJTbc0cHf6",
        "outputId": "e4680cba-ee86-4dbe-e079-a47619869645",
        "colab": {
          "base_uri": "https://localhost:8080/"
        }
      },
      "source": [
        "df.info()"
      ],
      "execution_count": 36,
      "outputs": [
        {
          "output_type": "stream",
          "text": [
            "<class 'pandas.core.frame.DataFrame'>\n",
            "RangeIndex: 63 entries, 0 to 62\n",
            "Data columns (total 2 columns):\n",
            " #   Column         Non-Null Count  Dtype \n",
            "---  ------         --------------  ----- \n",
            " 0   No_Of_Claims   63 non-null     object\n",
            " 1   Total_Payment  63 non-null     object\n",
            "dtypes: object(2)\n",
            "memory usage: 1.1+ KB\n"
          ],
          "name": "stdout"
        }
      ]
    },
    {
      "cell_type": "code",
      "metadata": {
        "id": "40SBtYwAcLhe",
        "outputId": "c5040017-927a-44cb-8f56-b7184574d507",
        "colab": {
          "base_uri": "https://localhost:8080/",
          "height": 173
        }
      },
      "source": [
        "df.describe()"
      ],
      "execution_count": 37,
      "outputs": [
        {
          "output_type": "execute_result",
          "data": {
            "text/html": [
              "<div>\n",
              "<style scoped>\n",
              "    .dataframe tbody tr th:only-of-type {\n",
              "        vertical-align: middle;\n",
              "    }\n",
              "\n",
              "    .dataframe tbody tr th {\n",
              "        vertical-align: top;\n",
              "    }\n",
              "\n",
              "    .dataframe thead th {\n",
              "        text-align: right;\n",
              "    }\n",
              "</style>\n",
              "<table border=\"1\" class=\"dataframe\">\n",
              "  <thead>\n",
              "    <tr style=\"text-align: right;\">\n",
              "      <th></th>\n",
              "      <th>No_Of_Claims</th>\n",
              "      <th>Total_Payment</th>\n",
              "    </tr>\n",
              "  </thead>\n",
              "  <tbody>\n",
              "    <tr>\n",
              "      <th>count</th>\n",
              "      <td>63</td>\n",
              "      <td>63</td>\n",
              "    </tr>\n",
              "    <tr>\n",
              "      <th>unique</th>\n",
              "      <td>40</td>\n",
              "      <td>62</td>\n",
              "    </tr>\n",
              "    <tr>\n",
              "      <th>top</th>\n",
              "      <td>13</td>\n",
              "      <td>77.5</td>\n",
              "    </tr>\n",
              "    <tr>\n",
              "      <th>freq</th>\n",
              "      <td>4</td>\n",
              "      <td>2</td>\n",
              "    </tr>\n",
              "  </tbody>\n",
              "</table>\n",
              "</div>"
            ],
            "text/plain": [
              "       No_Of_Claims Total_Payment\n",
              "count            63            63\n",
              "unique           40            62\n",
              "top              13          77.5\n",
              "freq              4             2"
            ]
          },
          "metadata": {
            "tags": []
          },
          "execution_count": 37
        }
      ]
    },
    {
      "cell_type": "code",
      "metadata": {
        "id": "bX5d_8_aW9Cd"
      },
      "source": [
        "## Convert the columns to Numberic values\n",
        "df.No_Of_Claims = pd.to_numeric(df.No_Of_Claims, errors='coerce')\n",
        "df.Total_Payment = pd.to_numeric(df.Total_Payment, errors='coerce')"
      ],
      "execution_count": 38,
      "outputs": []
    },
    {
      "cell_type": "markdown",
      "metadata": {
        "id": "si0JcgLAvRLW"
      },
      "source": [
        "### 2. Feature Analysis"
      ]
    },
    {
      "cell_type": "code",
      "metadata": {
        "id": "sKZ6_FsudO8J",
        "outputId": "9379a03a-586c-4867-d320-ca11d23f8f9c",
        "colab": {
          "base_uri": "https://localhost:8080/",
          "height": 281
        }
      },
      "source": [
        "df.hist();"
      ],
      "execution_count": 39,
      "outputs": [
        {
          "output_type": "display_data",
          "data": {
            "image/png": "[encoded data removed]",
            "text/plain": [
              "<Figure size 432x288 with 2 Axes>"
            ]
          },
          "metadata": {
            "tags": [],
            "needs_background": "light"
          }
        }
      ]
    },
    {
      "cell_type": "code",
      "metadata": {
        "id": "tJJjAt63dO_X"
      },
      "source": [
        "##Segregating the No of claims to various categories\n",
        "import numpy as np\n",
        "df[\"No_Of_Claims_Category\"] = pd.cut(df[\"No_Of_Claims\"],\n",
        "                               bins=[0.0, 15, 30, 45, 60, np.inf],\n",
        "                                labels=[1, 2, 3, 4, 5])"
      ],
      "execution_count": 40,
      "outputs": []
    },
    {
      "cell_type": "code",
      "metadata": {
        "id": "AAO1kMzfdO5K",
        "outputId": "5c9936c9-70ee-4f51-cebf-e47f8c5ff261",
        "colab": {
          "base_uri": "https://localhost:8080/"
        }
      },
      "source": [
        "df.No_Of_Claims_Category.value_counts()"
      ],
      "execution_count": 41,
      "outputs": [
        {
          "output_type": "execute_result",
          "data": {
            "text/plain": [
              "1    32\n",
              "2    16\n",
              "3     6\n",
              "4     5\n",
              "5     3\n",
              "Name: No_Of_Claims_Category, dtype: int64"
            ]
          },
          "metadata": {
            "tags": []
          },
          "execution_count": 41
        }
      ]
    },
    {
      "cell_type": "code",
      "metadata": {
        "id": "UaQnluKReH55",
        "outputId": "b5e6336f-168f-420a-e288-17253f2b5881",
        "colab": {
          "base_uri": "https://localhost:8080/",
          "height": 265
        }
      },
      "source": [
        "df.No_Of_Claims_Category.hist();"
      ],
      "execution_count": 42,
      "outputs": [
        {
          "output_type": "display_data",
          "data": {
            "image/png": "[encoded data removed]",
            "text/plain": [
              "<Figure size 432x288 with 1 Axes>"
            ]
          },
          "metadata": {
            "tags": [],
            "needs_background": "light"
          }
        }
      ]
    },
    {
      "cell_type": "markdown",
      "metadata": {
        "id": "NHqiliL3wW-f"
      },
      "source": [
        "### 3. Data Cleaning\n",
        "> This acitivity is performed to remove the junk values from dataset."
      ]
    },
    {
      "cell_type": "code",
      "metadata": {
        "id": "szHirZGrY7Xt",
        "outputId": "796aaeda-f8e6-4c1e-826b-e9b9ed669cfe",
        "colab": {
          "base_uri": "https://localhost:8080/"
        }
      },
      "source": [
        "#Valdating if the dataset have any null values\n",
        "np.any(np.isnan(df))"
      ],
      "execution_count": 43,
      "outputs": [
        {
          "output_type": "execute_result",
          "data": {
            "text/plain": [
              "True"
            ]
          },
          "metadata": {
            "tags": []
          },
          "execution_count": 43
        }
      ]
    },
    {
      "cell_type": "code",
      "metadata": {
        "id": "u_uGKtjIlIES",
        "outputId": "396616a2-4e02-420f-babb-f081a4c17aad",
        "colab": {
          "base_uri": "https://localhost:8080/",
          "height": 80
        }
      },
      "source": [
        "#Filtering out the null values\n",
        "df[df.No_Of_Claims_Category.isnull()]"
      ],
      "execution_count": 44,
      "outputs": [
        {
          "output_type": "execute_result",
          "data": {
            "text/html": [
              "<div>\n",
              "<style scoped>\n",
              "    .dataframe tbody tr th:only-of-type {\n",
              "        vertical-align: middle;\n",
              "    }\n",
              "\n",
              "    .dataframe tbody tr th {\n",
              "        vertical-align: top;\n",
              "    }\n",
              "\n",
              "    .dataframe thead th {\n",
              "        text-align: right;\n",
              "    }\n",
              "</style>\n",
              "<table border=\"1\" class=\"dataframe\">\n",
              "  <thead>\n",
              "    <tr style=\"text-align: right;\">\n",
              "      <th></th>\n",
              "      <th>No_Of_Claims</th>\n",
              "      <th>Total_Payment</th>\n",
              "      <th>No_Of_Claims_Category</th>\n",
              "    </tr>\n",
              "  </thead>\n",
              "  <tbody>\n",
              "    <tr>\n",
              "      <th>30</th>\n",
              "      <td>0</td>\n",
              "      <td>0.0</td>\n",
              "      <td>NaN</td>\n",
              "    </tr>\n",
              "  </tbody>\n",
              "</table>\n",
              "</div>"
            ],
            "text/plain": [
              "    No_Of_Claims  Total_Payment No_Of_Claims_Category\n",
              "30             0            0.0                   NaN"
            ]
          },
          "metadata": {
            "tags": []
          },
          "execution_count": 44
        }
      ]
    },
    {
      "cell_type": "code",
      "metadata": {
        "id": "1rgSB0kRXjkf",
        "outputId": "a27e5750-576d-4b1d-a327-58a2f89438bb",
        "colab": {
          "base_uri": "https://localhost:8080/",
          "height": 419
        }
      },
      "source": [
        "#Droping the NAN record\n",
        "df = df.dropna().reset_index(drop=True)\n",
        "df"
      ],
      "execution_count": 45,
      "outputs": [
        {
          "output_type": "execute_result",
          "data": {
            "text/html": [
              "<div>\n",
              "<style scoped>\n",
              "    .dataframe tbody tr th:only-of-type {\n",
              "        vertical-align: middle;\n",
              "    }\n",
              "\n",
              "    .dataframe tbody tr th {\n",
              "        vertical-align: top;\n",
              "    }\n",
              "\n",
              "    .dataframe thead th {\n",
              "        text-align: right;\n",
              "    }\n",
              "</style>\n",
              "<table border=\"1\" class=\"dataframe\">\n",
              "  <thead>\n",
              "    <tr style=\"text-align: right;\">\n",
              "      <th></th>\n",
              "      <th>No_Of_Claims</th>\n",
              "      <th>Total_Payment</th>\n",
              "      <th>No_Of_Claims_Category</th>\n",
              "    </tr>\n",
              "  </thead>\n",
              "  <tbody>\n",
              "    <tr>\n",
              "      <th>0</th>\n",
              "      <td>108</td>\n",
              "      <td>392.5</td>\n",
              "      <td>5</td>\n",
              "    </tr>\n",
              "    <tr>\n",
              "      <th>1</th>\n",
              "      <td>19</td>\n",
              "      <td>46.2</td>\n",
              "      <td>2</td>\n",
              "    </tr>\n",
              "    <tr>\n",
              "      <th>2</th>\n",
              "      <td>13</td>\n",
              "      <td>15.7</td>\n",
              "      <td>1</td>\n",
              "    </tr>\n",
              "    <tr>\n",
              "      <th>3</th>\n",
              "      <td>124</td>\n",
              "      <td>422.2</td>\n",
              "      <td>5</td>\n",
              "    </tr>\n",
              "    <tr>\n",
              "      <th>4</th>\n",
              "      <td>40</td>\n",
              "      <td>119.4</td>\n",
              "      <td>3</td>\n",
              "    </tr>\n",
              "    <tr>\n",
              "      <th>...</th>\n",
              "      <td>...</td>\n",
              "      <td>...</td>\n",
              "      <td>...</td>\n",
              "    </tr>\n",
              "    <tr>\n",
              "      <th>57</th>\n",
              "      <td>9</td>\n",
              "      <td>87.4</td>\n",
              "      <td>1</td>\n",
              "    </tr>\n",
              "    <tr>\n",
              "      <th>58</th>\n",
              "      <td>31</td>\n",
              "      <td>209.8</td>\n",
              "      <td>3</td>\n",
              "    </tr>\n",
              "    <tr>\n",
              "      <th>59</th>\n",
              "      <td>14</td>\n",
              "      <td>95.5</td>\n",
              "      <td>1</td>\n",
              "    </tr>\n",
              "    <tr>\n",
              "      <th>60</th>\n",
              "      <td>53</td>\n",
              "      <td>244.6</td>\n",
              "      <td>4</td>\n",
              "    </tr>\n",
              "    <tr>\n",
              "      <th>61</th>\n",
              "      <td>26</td>\n",
              "      <td>187.5</td>\n",
              "      <td>2</td>\n",
              "    </tr>\n",
              "  </tbody>\n",
              "</table>\n",
              "<p>62 rows × 3 columns</p>\n",
              "</div>"
            ],
            "text/plain": [
              "    No_Of_Claims  Total_Payment No_Of_Claims_Category\n",
              "0            108          392.5                     5\n",
              "1             19           46.2                     2\n",
              "2             13           15.7                     1\n",
              "3            124          422.2                     5\n",
              "4             40          119.4                     3\n",
              "..           ...            ...                   ...\n",
              "57             9           87.4                     1\n",
              "58            31          209.8                     3\n",
              "59            14           95.5                     1\n",
              "60            53          244.6                     4\n",
              "61            26          187.5                     2\n",
              "\n",
              "[62 rows x 3 columns]"
            ]
          },
          "metadata": {
            "tags": []
          },
          "execution_count": 45
        }
      ]
    },
    {
      "cell_type": "markdown",
      "metadata": {
        "id": "Cgxit8PRwx06"
      },
      "source": [
        "### 4. Applying Train,Test split"
      ]
    },
    {
      "cell_type": "code",
      "metadata": {
        "id": "RPmzWAcQlt1q"
      },
      "source": [
        "## Applyting the Stratifiedshufflesplit and ensuring No_of_claims_category is \n",
        "## equally spread across training and testing set\n",
        "from sklearn.model_selection import StratifiedShuffleSplit\n",
        "\n",
        "split = StratifiedShuffleSplit(n_splits=1, test_size=0.2, random_state=42)\n",
        "for train_index, test_index in split.split(df, df[\"No_Of_Claims_Category\"]):\n",
        "    strat_train_set = df.loc[train_index]\n",
        "    strat_test_set = df.loc[test_index]"
      ],
      "execution_count": 57,
      "outputs": []
    },
    {
      "cell_type": "code",
      "metadata": {
        "id": "nnJp8E69m4PU",
        "outputId": "eab0143d-3035-4667-8dd2-84a3e4afb3a6",
        "colab": {
          "base_uri": "https://localhost:8080/"
        }
      },
      "source": [
        "df[\"No_Of_Claims_Category\"].value_counts()/len(df)"
      ],
      "execution_count": 58,
      "outputs": [
        {
          "output_type": "execute_result",
          "data": {
            "text/plain": [
              "1    0.516129\n",
              "2    0.258065\n",
              "3    0.096774\n",
              "4    0.080645\n",
              "5    0.048387\n",
              "Name: No_Of_Claims_Category, dtype: float64"
            ]
          },
          "metadata": {
            "tags": []
          },
          "execution_count": 58
        }
      ]
    },
    {
      "cell_type": "code",
      "metadata": {
        "id": "m5KQy4z5mZrv",
        "outputId": "9ab55b49-1ce9-41a8-bb3d-d54634909a93",
        "colab": {
          "base_uri": "https://localhost:8080/"
        }
      },
      "source": [
        "strat_test_set[\"No_Of_Claims_Category\"].value_counts()/len(strat_test_set)"
      ],
      "execution_count": 59,
      "outputs": [
        {
          "output_type": "execute_result",
          "data": {
            "text/plain": [
              "1    0.538462\n",
              "2    0.230769\n",
              "5    0.076923\n",
              "4    0.076923\n",
              "3    0.076923\n",
              "Name: No_Of_Claims_Category, dtype: float64"
            ]
          },
          "metadata": {
            "tags": []
          },
          "execution_count": 59
        }
      ]
    },
    {
      "cell_type": "code",
      "metadata": {
        "id": "gIPzyjV5mZor",
        "outputId": "04ac5baa-8133-49cd-f4ef-6bc2b472aea3",
        "colab": {
          "base_uri": "https://localhost:8080/"
        }
      },
      "source": [
        "strat_train_set[\"No_Of_Claims_Category\"].value_counts()/len(strat_train_set)"
      ],
      "execution_count": 60,
      "outputs": [
        {
          "output_type": "execute_result",
          "data": {
            "text/plain": [
              "1    0.510204\n",
              "2    0.265306\n",
              "3    0.102041\n",
              "4    0.081633\n",
              "5    0.040816\n",
              "Name: No_Of_Claims_Category, dtype: float64"
            ]
          },
          "metadata": {
            "tags": []
          },
          "execution_count": 60
        }
      ]
    },
    {
      "cell_type": "code",
      "metadata": {
        "id": "nX_zdBTmnGiA"
      },
      "source": [
        "## removing the No_Of_Claims_Category column as this column is no longer needed as it was primarly created for the shuffle split\n",
        "for set_ in (strat_train_set, strat_test_set):\n",
        "    set_.drop(\"No_Of_Claims_Category\", axis=1, inplace=True)"
      ],
      "execution_count": 62,
      "outputs": []
    },
    {
      "cell_type": "code",
      "metadata": {
        "id": "9HO4JcI7sTc3"
      },
      "source": [
        "## Assigning Training and testing set logical names\n",
        "df_prepared = strat_train_set.drop(\"Total_Payment\", axis=1)\n",
        "df_labeled =  strat_train_set.drop(\"No_Of_Claims\", axis=1)\n",
        "\n",
        "test_prepared = strat_test_set.drop(\"Total_Payment\", axis=1)\n",
        "test_labeled = strat_test_set.drop(\"No_Of_Claims\", axis=1)"
      ],
      "execution_count": 63,
      "outputs": []
    },
    {
      "cell_type": "code",
      "metadata": {
        "id": "t89Yy-w2nGfJ",
        "outputId": "dfc7c72a-5135-4bac-c5df-83ff7024fdb0",
        "colab": {
          "base_uri": "https://localhost:8080/"
        }
      },
      "source": [
        "## Verifing the co relation\n",
        "\n",
        "corr_matrix = df.corr()\n",
        "corr_matrix[\"Total_Payment\"].sort_values(ascending=False)"
      ],
      "execution_count": 64,
      "outputs": [
        {
          "output_type": "execute_result",
          "data": {
            "text/plain": [
              "Total_Payment    1.000000\n",
              "No_Of_Claims     0.911434\n",
              "Name: Total_Payment, dtype: float64"
            ]
          },
          "metadata": {
            "tags": []
          },
          "execution_count": 64
        }
      ]
    },
    {
      "cell_type": "markdown",
      "metadata": {
        "id": "Cj-t1RLNn6fq"
      },
      "source": [
        "The above results show Total Payments are heavily co related with No of claims and have positive co relation"
      ]
    },
    {
      "cell_type": "markdown",
      "metadata": {
        "id": "D5BTB2l-x9zG"
      },
      "source": [
        "### 5. Training on ML model"
      ]
    },
    {
      "cell_type": "code",
      "metadata": {
        "id": "YKKGzJTAuFt1",
        "outputId": "e9944a6d-7ef9-4369-a440-93be8327c03d",
        "colab": {
          "base_uri": "https://localhost:8080/"
        }
      },
      "source": [
        "## Linear Regression\n",
        "import numpy as np\n",
        "from sklearn.linear_model import LinearRegression\n",
        "\n",
        "reg = LinearRegression().fit(df_prepared, df_labeled)\n",
        "some_data = df_prepared.iloc[:5]\n",
        "some_labels = df_labeled.iloc[:5]\n",
        "\n",
        "print(\"Predictions:\", reg.predict(some_data))\n",
        "print(some_labels)"
      ],
      "execution_count": 65,
      "outputs": [
        {
          "output_type": "stream",
          "text": [
            "Predictions: [[104.46263647]\n",
            " [121.33035548]\n",
            " [ 47.11239183]\n",
            " [ 36.99176042]\n",
            " [198.92186292]]\n",
            "    Total_Payment\n",
            "30           69.2\n",
            "55          194.5\n",
            "47           76.1\n",
            "10           20.9\n",
            "60          244.6\n"
          ],
          "name": "stdout"
        }
      ]
    },
    {
      "cell_type": "markdown",
      "metadata": {
        "id": "8g4q7i45sjB7"
      },
      "source": [
        "> As we observe the predticiton are pretty poor, Calculating the RMSE and MAE below"
      ]
    },
    {
      "cell_type": "code",
      "metadata": {
        "id": "0chB3JLXuGLD",
        "outputId": "623a60ab-a4d5-4776-9c4f-c7c93f2d33c4",
        "colab": {
          "base_uri": "https://localhost:8080/"
        }
      },
      "source": [
        "from sklearn.metrics import mean_squared_error\n",
        "from sklearn.metrics import mean_absolute_error\n",
        "\n",
        "Predictions = reg.predict(df_prepared)\n",
        "lin_mse = mean_squared_error(df_prepared, df_labeled)\n",
        "lin_rmse = np.sqrt(lin_mse)\n",
        "\n",
        "lin_mae = mean_absolute_error(df_labeled, Predictions)\n",
        "lin_mae\n",
        "\n",
        "print('RMSE:',lin_rmse)\n",
        "print('MAE:',lin_mae)"
      ],
      "execution_count": 66,
      "outputs": [
        {
          "output_type": "stream",
          "text": [
            "RMSE: 96.0139945156806\n",
            "MAE: 30.025048703849873\n"
          ],
          "name": "stdout"
        }
      ]
    },
    {
      "cell_type": "markdown",
      "metadata": {
        "id": "VKpL9a2VyZ2j"
      },
      "source": [
        "### 6. Cross validation to select the best ML model"
      ]
    },
    {
      "cell_type": "code",
      "metadata": {
        "id": "XxKgZ4JcuFqv",
        "outputId": "4606ae4b-e3d5-4cc6-89f8-030190eced3a",
        "colab": {
          "base_uri": "https://localhost:8080/"
        }
      },
      "source": [
        "##Running the cross validation\n",
        "\n",
        "from sklearn.model_selection import cross_val_score\n",
        "lin_scores = cross_val_score(reg, df_prepared, df_labeled,\n",
        "                             scoring=\"neg_mean_squared_error\", cv=10)\n",
        "lin_rmse_scores = np.sqrt(-lin_scores)\n",
        "\n",
        "def display_scores(scores):\n",
        "    print(\"Scores:\", scores)\n",
        "    print(\"Avg RMSE:\", scores.mean())\n",
        "    print(\"Standard deviation:\", scores.std())\n",
        "\n",
        "display_scores(lin_rmse_scores)"
      ],
      "execution_count": 22,
      "outputs": [
        {
          "output_type": "stream",
          "text": [
            "Scores: [45.93137478 43.33014184 23.57398472 37.80516561 29.12759566 37.67055829\n",
            " 47.58755771 45.00323988 25.08031976 34.47086791]\n",
            "Avg RMSE: 36.95808061602818\n",
            "Standard deviation: 8.293230180668596\n"
          ],
          "name": "stdout"
        }
      ]
    },
    {
      "cell_type": "markdown",
      "metadata": {
        "id": "vAK2pySYuNMX"
      },
      "source": [
        "> Evalutating few other models to determine the best model"
      ]
    },
    {
      "cell_type": "markdown",
      "metadata": {
        "id": "ypdnDWDvuqNH"
      },
      "source": [
        "<b> Decision Tree"
      ]
    },
    {
      "cell_type": "code",
      "metadata": {
        "id": "6nQIwTu3shJs",
        "outputId": "7e0b7397-942d-4175-aeb8-c21e08e34015",
        "colab": {
          "base_uri": "https://localhost:8080/"
        }
      },
      "source": [
        "from sklearn.tree import DecisionTreeRegressor\n",
        "from sklearn.model_selection import cross_val_score\n",
        "\n",
        "tree_reg = DecisionTreeRegressor(random_state=42)\n",
        "tree_reg.fit(df_prepared, df_labeled)\n",
        "\n",
        "tree_predictions = tree_reg.predict(df_prepared)\n",
        "tree_mse = mean_squared_error(df_labeled, tree_predictions)\n",
        "tree_rmse = np.sqrt(tree_mse)\n",
        "\n",
        "print('RMSE:', tree_rmse)\n",
        "\n",
        "scores = cross_val_score(tree_reg, df_prepared, df_labeled,\n",
        "                         scoring=\"neg_mean_squared_error\", cv=10)\n",
        "tree_rmse_scores = np.sqrt(-scores)\n",
        "print()\n",
        "print('Post cross validation')\n",
        "display_scores(tree_rmse_scores)"
      ],
      "execution_count": 23,
      "outputs": [
        {
          "output_type": "stream",
          "text": [
            "RMSE: 18.81449768474438\n",
            "\n",
            "Post cross validation\n",
            "Scores: [59.27081913 79.53056016 55.37422686 42.43958647 44.15517586 48.88182689\n",
            " 62.31400324 39.23216155 44.16155253 24.53110271]\n",
            "Avg RMSE: 49.98910154074646\n",
            "Standard deviation: 14.247064782849769\n"
          ],
          "name": "stdout"
        }
      ]
    },
    {
      "cell_type": "markdown",
      "metadata": {
        "id": "TBVy0Varwo2e"
      },
      "source": [
        "Although the RMSE scores are low (18.8) the model seems to be overfitting. After the cross validation the model seems to be performing worst than linear regression.Let us try one more model\n",
        "\n",
        "<b> RandomForest"
      ]
    },
    {
      "cell_type": "code",
      "metadata": {
        "id": "YiSIgPqFsg0K",
        "outputId": "f5a0ff3e-823e-465d-9ed4-b351aafad995",
        "colab": {
          "base_uri": "https://localhost:8080/"
        }
      },
      "source": [
        "from sklearn.ensemble import RandomForestRegressor\n",
        "\n",
        "forest_reg = RandomForestRegressor(n_estimators=100, random_state=42)\n",
        "forest_reg.fit(df_prepared, df_labeled)\n",
        "\n",
        "random_predictions = forest_reg.predict(df_prepared)\n",
        "forest_mse = mean_squared_error(df_labeled, random_predictions)\n",
        "forest_rmse = np.sqrt(forest_mse)\n",
        "forest_rmse\n",
        "\n",
        "forest_scores = cross_val_score(forest_reg, df_prepared, df_labeled,\n",
        "                                scoring=\"neg_mean_squared_error\", cv=10)\n",
        "forest_rmse_scores = np.sqrt(-forest_scores)\n",
        "print()\n",
        "display_scores(forest_rmse_scores)"
      ],
      "execution_count": 24,
      "outputs": [
        {
          "output_type": "stream",
          "text": [
            "\n",
            "Scores: [56.0549848  86.21217602 43.14113292 40.00889285 36.55617925 43.30750869\n",
            " 60.92392662 40.77479805 38.37979369 27.02343553]\n",
            "Avg RMSE: 47.238282841486594\n",
            "Standard deviation: 15.847693794692512\n"
          ],
          "name": "stdout"
        }
      ]
    },
    {
      "cell_type": "markdown",
      "metadata": {
        "id": "0yPnA9SOm-5x"
      },
      "source": [
        "Following Models have been evaluated\n",
        "\n",
        "<b>  - LinearRegression <br>\n",
        "<b>  - DecisionTree <br>\n",
        "<b>  - RandomForest <br>\n",
        "\n",
        "After reviewing the RMS's Scores Linear regression seems to be the best fit\n"
      ]
    },
    {
      "cell_type": "code",
      "metadata": {
        "id": "oasQ5DMRnlMt",
        "outputId": "4daa845e-8636-4cae-9842-31d9b6a484e5",
        "colab": {
          "base_uri": "https://localhost:8080/"
        }
      },
      "source": [
        "## Running the Linear regression model on the test set\n",
        "reg = LinearRegression().fit(test_prepared, test_labeled)\n",
        "some_data = test_prepared.iloc[:5]\n",
        "some_labels = test_labeled.iloc[:5]\n",
        "\n",
        "print(\"Predictions:\", reg.predict(some_data))\n",
        "print(some_labels)"
      ],
      "execution_count": 68,
      "outputs": [
        {
          "output_type": "stream",
          "text": [
            "Predictions: [[ 37.75981206]\n",
            " [151.05043706]\n",
            " [ 61.79115676]\n",
            " [ 30.89371358]\n",
            " [ 44.62591055]]\n",
            "    Total_Payment\n",
            "26           11.8\n",
            "42          152.8\n",
            "34           57.2\n",
            "15            6.6\n",
            "17           50.9\n"
          ],
          "name": "stdout"
        }
      ]
    },
    {
      "cell_type": "code",
      "metadata": {
        "id": "xBApHPZKoEb4",
        "outputId": "1c3c80e0-262e-46ac-afc3-37d832068dd3",
        "colab": {
          "base_uri": "https://localhost:8080/"
        }
      },
      "source": [
        "Predictions = reg.predict(test_prepared)\n",
        "lin_mse = mean_squared_error(test_prepared, test_labeled)\n",
        "lin_rmse = np.sqrt(lin_mse)\n",
        "\n",
        "lin_mae = mean_absolute_error(test_labeled, Predictions)\n",
        "lin_mae\n",
        "\n",
        "print('RMSE:',lin_rmse)\n",
        "print('MAE:',lin_mae)"
      ],
      "execution_count": 69,
      "outputs": [
        {
          "output_type": "stream",
          "text": [
            "RMSE: 118.03624932132566\n",
            "MAE: 24.384526851353776\n"
          ],
          "name": "stdout"
        }
      ]
    },
    {
      "cell_type": "markdown",
      "metadata": {
        "id": "LLsydo7C0huG"
      },
      "source": [
        "### 7. Model Performance"
      ]
    },
    {
      "cell_type": "code",
      "metadata": {
        "id": "WYg5GiHUv0k1",
        "outputId": "f0f2f92a-d06e-4168-cb64-a19ce4fab1cc",
        "colab": {
          "base_uri": "https://localhost:8080/",
          "height": 282
        }
      },
      "source": [
        "import matplotlib.pyplot as plt\n",
        "\n",
        "plt.scatter(df_prepared, df_labeled)\n",
        "plt.plot(df_prepared,reg.predict(df_prepared),color='red');"
      ],
      "execution_count": 70,
      "outputs": [
        {
          "output_type": "execute_result",
          "data": {
            "text/plain": [
              "[<matplotlib.lines.Line2D at 0x7fe46d7c4cf8>]"
            ]
          },
          "metadata": {
            "tags": []
          },
          "execution_count": 70
        },
        {
          "output_type": "display_data",
          "data": {
            "image/png": "[encoded data removed]",
            "text/plain": [
              "<Figure size 432x288 with 1 Axes>"
            ]
          },
          "metadata": {
            "tags": [],
            "needs_background": "light"
          }
        }
      ]
    }
  ]
}