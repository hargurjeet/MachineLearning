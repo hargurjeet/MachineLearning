{
  "nbformat": 4,
  "nbformat_minor": 0,
  "metadata": {
    "colab": {
      "name": "Untitled4.ipynb",
      "provenance": [],
      "authorship_tag": "ABX9TyMMlqGyMsfhRhnYPHMZKrp3",
      "include_colab_link": true
    },
    "kernelspec": {
      "name": "python3",
      "display_name": "Python 3"
    },
    "language_info": {
      "name": "python"
    }
  },
  "cells": [
    {
      "cell_type": "markdown",
      "metadata": {
        "id": "view-in-github",
        "colab_type": "text"
      },
      "source": [
        "<a href=\"https://colab.research.google.com/github/hargurjeet/MachineLearning/blob/master/Random%20forest%20w/o%20pipeline.ipynb\" target=\"_parent\"><img src=\"https://colab.research.google.com/assets/colab-badge.svg\" alt=\"Open In Colab\"/></a>"
      ]
    },
    {
      "cell_type": "code",
      "metadata": {
        "id": "YwFE11eyg0GD"
      },
      "source": [
        "# Familiar imports\n",
        "import numpy as np\n",
        "import pandas as pd\n",
        "\n",
        "# For ordinal encoding categorical variables, splitting data\n",
        "from sklearn.preprocessing import OrdinalEncoder\n",
        "from sklearn.preprocessing import OneHotEncoder\n",
        "from sklearn.model_selection import train_test_split\n",
        "\n",
        "# For training random forest model\n",
        "from sklearn.ensemble import RandomForestRegressor\n",
        "from sklearn.metrics import mean_squared_error\n",
        "\n",
        "# !pip install opendatasets --quiet\n",
        "# import opendatasets as od\n",
        "# od.download('https://www.kaggle.com/c/30-days-of-ml/data')"
      ],
      "execution_count": 2,
      "outputs": []
    },
    {
      "cell_type": "code",
      "metadata": {
        "id": "MB_4QGI1g406"
      },
      "source": [
        "# Load the training data\n",
        "train = pd.read_csv(\"/content/30-days-of-ml/train.csv\", index_col=0)\n",
        "test = pd.read_csv(\"/content/30-days-of-ml/test.csv\", index_col=0)\n",
        "\n",
        "# Separate target from features\n",
        "y = train['target']\n",
        "X = train.drop(['target'], axis=1)\n",
        "\n",
        "low_cardinality_cols = [cname for cname in X.columns if X[cname].nunique() < 10 and X[cname].dtype == \"object\"]\n",
        "numeric_cols = [cname for cname in X.columns if X[cname].dtype in ['int64', 'float64']]\n",
        "\n",
        "X_train, X_valid, y_train, y_valid = train_test_split(X, y, random_state=42)\n",
        "\n",
        "my_cols = low_cardinality_cols + numeric_cols\n",
        "X_train = X_train[my_cols].copy()\n",
        "X_valid = X_valid[my_cols].copy()\n",
        "X_test = test[my_cols].copy()\n",
        "\n",
        "\n",
        "OH_encoder = OneHotEncoder(handle_unknown='ignore', sparse=False)\n",
        "OH_cols_train = pd.DataFrame(OH_encoder.fit_transform(X_train[low_cardinality_cols]))\n",
        "OH_cols_valid = pd.DataFrame(OH_encoder.transform(X_valid[low_cardinality_cols]))\n",
        "\n",
        "\n",
        "OH_cols_train.index = X_train.index\n",
        "OH_cols_valid.index = X_valid.index\n",
        "\n",
        "OH_X_train = pd.concat([X_train[numeric_cols], OH_cols_train], axis=1)\n",
        "OH_X_valid = pd.concat([X_valid[numeric_cols], OH_cols_valid], axis=1)"
      ],
      "execution_count": 6,
      "outputs": []
    },
    {
      "cell_type": "code",
      "metadata": {
        "colab": {
          "base_uri": "https://localhost:8080/"
        },
        "id": "sIz4qm5Jhjce",
        "outputId": "5668e516-739d-4ea9-d8b2-5e86e1d777e1"
      },
      "source": [
        "from sklearn.ensemble import RandomForestRegressor\n",
        "from sklearn.metrics import mean_squared_error\n",
        "\n",
        "%time\n",
        "model = RandomForestRegressor(n_estimators=500, random_state=42)\n",
        "model.fit(OH_X_train, y_train)\n",
        "preds = model.predict(OH_X_valid)\n",
        "\n",
        "print(mean_squared_error(y_valid, preds, squared=False))"
      ],
      "execution_count": null,
      "outputs": [
        {
          "output_type": "stream",
          "text": [
            "CPU times: user 3 µs, sys: 0 ns, total: 3 µs\n",
            "Wall time: 6.91 µs\n"
          ],
          "name": "stdout"
        }
      ]
    },
    {
      "cell_type": "code",
      "metadata": {
        "id": "098ec3kOhjXA"
      },
      "source": [
        ""
      ],
      "execution_count": null,
      "outputs": []
    }
  ]
}